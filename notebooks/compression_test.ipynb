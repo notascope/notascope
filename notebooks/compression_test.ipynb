{
 "cells": [
  {
   "cell_type": "code",
   "execution_count": 2,
   "id": "e44e7204-e6d5-437c-95d3-3b7cc15b4ec8",
   "metadata": {},
   "outputs": [
    {
     "name": "stdout",
     "output_type": "stream",
     "text": [
      "zlib     a / a+a 0.9628\n",
      "zlib     b / b+b 0.9577\n",
      "zlib   a+b / b+a 1.0016\n",
      "lzma     a / a+a 0.9799\n",
      "lzma     b / b+b 0.9853\n",
      "lzma   a+b / b+a 0.9987\n",
      "lz4     a / a+a 0.9867\n",
      "lz4     b / b+b 0.9923\n",
      "lz4   a+b / b+a 0.9955\n"
     ]
    }
   ],
   "source": [
    "import zlib, lzma, lz4.frame\n",
    "\n",
    "path = \"/Users/nicolas/plotly/plotly.py/packages/python/plotly/\"\n",
    "a = open(path + \"plotly/express/_special_inputs.py\", \"rb\").read()\n",
    "b = open(path + \"plotly/express/imshow_utils.py\", \"rb\").read()\n",
    "\n",
    "for k, v in dict(zlib=zlib.compress, lzma=lzma.compress, lz4=lz4.frame.compress).items():\n",
    "    print(k, \"    a / a+a %.4f\" % (len(v(a))/len(v(a+a))))\n",
    "    print(k, \"    b / b+b %.4f\" % (len(v(b))/len(v(b+b))))\n",
    "    print(k, \"  a+b / b+a %.4f\" % (len(v(a+b))/len(v(b+a))))"
   ]
  },
  {
   "cell_type": "code",
   "execution_count": 22,
   "metadata": {},
   "outputs": [
    {
     "data": {
      "text/plain": [
       "(11, 10)"
      ]
     },
     "execution_count": 22,
     "metadata": {},
     "output_type": "execute_result"
    }
   ],
   "source": [
    "len(lz4.frame.compress(bytes(\"geom_line\", \"utf-8\")))\n",
    "\n",
    "def c(x):\n",
    "    return len(zlib.compress(bytes(x, \"utf-8\")))\n",
    "\n",
    "def cd(a,b):\n",
    "    return c(a+b) - min(c(a), c(b))\n",
    "\n",
    "cd(\"geom_point\", \"geom_line\"), cd(\"geom_point\", \"facet_wrap\")"
   ]
  },
  {
   "cell_type": "code",
   "execution_count": 17,
   "id": "690360c3-0af4-4822-ae93-1e90f56368f9",
   "metadata": {},
   "outputs": [],
   "source": [
    "f2 = open(\"results/movies/vega-lite/preproc/scatter_ols_separate.vl\", \"rb\").read()"
   ]
  },
  {
   "cell_type": "code",
   "execution_count": 20,
   "id": "c4c9d5bc-9305-4eed-9ca8-5acb24f4b068",
   "metadata": {},
   "outputs": [
    {
     "data": {
      "text/plain": [
       "364"
      ]
     },
     "execution_count": 20,
     "metadata": {},
     "output_type": "execute_result"
    }
   ],
   "source": [
    "len(lzma.compress(f2))"
   ]
  },
  {
   "cell_type": "code",
   "execution_count": 75,
   "id": "d267d91a-4dc8-45eb-b148-5897960023f4",
   "metadata": {},
   "outputs": [],
   "source": [
    "def H(x, compressor=lzma.compress):\n",
    "    return len(compressor(x))"
   ]
  },
  {
   "cell_type": "code",
   "execution_count": 95,
   "id": "924a51d2-2b7d-44ed-b04c-6d374b08f605",
   "metadata": {},
   "outputs": [
    {
     "name": "stdout",
     "output_type": "stream",
     "text": [
      "NMI 160\n",
      "NMI 176\n"
     ]
    }
   ],
   "source": [
    "a = \"\"\"\n",
    "{\n",
    "  \"$schema\": \"https://vega.github.io/schema/vega-lite/v5.json\",\n",
    "  \"data\": {\n",
    "    \"url\": \"data/movies.csv\"\n",
    "  },\n",
    "  \"mark\": \"point\",\n",
    "  \"encoding\": {\n",
    "    \"x\": {\n",
    "      \"field\": \"Production Budget\",\n",
    "      \"type\": \"quantitative\"\n",
    "    },\n",
    "    \"y\": {\n",
    "      \"field\": \"Worldwide Gross\",\n",
    "      \"type\": \"quantitative\"\n",
    "    },\n",
    "    \"color\": {\n",
    "      \"field\": \"MPAA Rating\",\n",
    "      \"type\": \"nominal\"\n",
    "    }\n",
    "  }\n",
    "}\n",
    "\"\"\".strip().encode()\n",
    "\n",
    "b = \"\"\"\n",
    "{\n",
    "  \"$schema\": \"https://vega.github.io/schema/vega-lite/v5.json\",\n",
    "  \"data\": {\n",
    "    \"url\": \"data/movies.csv\"\n",
    "  },\n",
    "  \"layer\": [\n",
    "    {\n",
    "      \"mark\": \"point\",\n",
    "      \"encoding\": {\n",
    "        \"x\": {\n",
    "          \"field\": \"Production Budget\",\n",
    "          \"type\": \"quantitative\"\n",
    "        },\n",
    "        \"y\": {\n",
    "          \"field\": \"Worldwide Gross\",\n",
    "          \"type\": \"quantitative\"\n",
    "        },\n",
    "        \"color\": {\n",
    "          \"field\": \"MPAA Rating\",\n",
    "          \"type\": \"nominal\"\n",
    "        }\n",
    "      }\n",
    "    },\n",
    "    {\n",
    "      \"mark\": {\n",
    "        \"type\": \"line\",\n",
    "        \"color\": \"black\"\n",
    "      },\n",
    "      \"transform\": [\n",
    "        {\n",
    "          \"regression\": \"Worldwide Gross\",\n",
    "          \"on\": \"Production Budget\",\n",
    "          \"extent\": [\n",
    "            0,\n",
    "            300000000\n",
    "          ]\n",
    "        }\n",
    "      ],\n",
    "      \"encoding\": {\n",
    "        \"x\": {\n",
    "          \"field\": \"Production Budget\",\n",
    "          \"type\": \"quantitative\"\n",
    "        },\n",
    "        \"y\": {\n",
    "          \"field\": \"Worldwide Gross\",\n",
    "          \"type\": \"quantitative\"\n",
    "        }\n",
    "      }\n",
    "    }\n",
    "  ]\n",
    "}\n",
    "\"\"\".strip().encode()\n",
    "\n",
    "print(\"NMI\", 2*H(a+b) - H(a) - H(b))\n",
    "print(\"NMI\", 2*H(b+a) - H(a) - H(b))"
   ]
  },
  {
   "cell_type": "code",
   "execution_count": null,
   "id": "559b4713-cbdd-4bbb-b35b-974aba6e3e37",
   "metadata": {},
   "outputs": [],
   "source": []
  }
 ],
 "metadata": {
  "kernelspec": {
   "display_name": "Python 3 (ipykernel)",
   "language": "python",
   "name": "python3"
  },
  "language_info": {
   "codemirror_mode": {
    "name": "ipython",
    "version": 3
   },
   "file_extension": ".py",
   "mimetype": "text/x-python",
   "name": "python",
   "nbconvert_exporter": "python",
   "pygments_lexer": "ipython3",
   "version": "3.10.11"
  }
 },
 "nbformat": 4,
 "nbformat_minor": 5
}
