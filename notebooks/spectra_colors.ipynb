{
 "cells": [
  {
   "cell_type": "code",
   "execution_count": 2,
   "id": "c3c36693-c307-4f97-be7f-a3ec3b1b7912",
   "metadata": {},
   "outputs": [],
   "source": [
    "from IPython.display import HTML\n"
   ]
  },
  {
   "cell_type": "code",
   "execution_count": 19,
   "id": "70776ab5-7ec8-4a62-a974-b0b50a565aaa",
   "metadata": {},
   "outputs": [],
   "source": [
    "swatch_template = \"\"\"\n",
    "<div style=\"float: left;\">\n",
    "    <div style=\"width: 50px; height: 50px; background: {0};\"></div>\n",
    "    <div>{0}</div>\n",
    "</div>\n",
    "\"\"\"\n",
    "swatch_outer = \"\"\"\n",
    "<div style='width: 500px; overflow: auto; font-size: 10px; \n",
    "    font-weight: bold; text-align: center; line-height: 1.5;'>{0}</div>\n",
    "\"\"\"\n"
   ]
  },
  {
   "cell_type": "code",
   "execution_count": 20,
   "id": "a787dd50-2efd-4c01-8dd3-87679ba5ac7c",
   "metadata": {},
   "outputs": [],
   "source": [
    "def swatches(colors):\n",
    "    hexes = (c.hexcode.upper() for c in colors)\n",
    "    html =  swatch_outer.format(\"\".join(map(swatch_template.format, hexes)))\n",
    "    return HTML(html)\n"
   ]
  },
  {
   "cell_type": "code",
   "execution_count": 21,
   "id": "581249cc-4920-4725-9c84-b5432c78c7f3",
   "metadata": {},
   "outputs": [],
   "source": []
  },
  {
   "cell_type": "code",
   "execution_count": 22,
   "id": "db91303c-707a-4bde-a38e-9ba5ffc140f8",
   "metadata": {},
   "outputs": [
    {
     "data": {
      "text/html": [
       "\n",
       "<div style='width: 500px; overflow: auto; font-size: 10px; \n",
       "    font-weight: bold; text-align: center; line-height: 1.5;'>\n",
       "<div style=\"float: left;\">\n",
       "    <div style=\"width: 50px; height: 50px; background: #21313E;\"></div>\n",
       "    <div>#21313E</div>\n",
       "</div>\n",
       "\n",
       "<div style=\"float: left;\">\n",
       "    <div style=\"width: 50px; height: 50px; background: #EFEE69;\"></div>\n",
       "    <div>#EFEE69</div>\n",
       "</div>\n",
       "</div>\n"
      ],
      "text/plain": [
       "<IPython.core.display.HTML object>"
      ]
     },
     "execution_count": 22,
     "metadata": {},
     "output_type": "execute_result"
    }
   ],
   "source": [
    "start = spectra.html(\"#21313E\")\n",
    "end = spectra.html(\"#EFEE69\")\n",
    "swatches([ start, end ])\n"
   ]
  },
  {
   "cell_type": "code",
   "execution_count": 23,
   "id": "febb2c28-8407-4373-ac78-d954fad334b0",
   "metadata": {},
   "outputs": [],
   "source": []
  },
  {
   "cell_type": "code",
   "execution_count": 38,
   "id": "e59fe4c2-b2af-4297-8f1f-c1f7e9c1a6f8",
   "metadata": {},
   "outputs": [],
   "source": [
    "import plotly.express as px\n",
    "import spectra\n",
    "\n",
    "def make_scale(evenly_spaced_colors, domain_min, domain_max):\n",
    "    n_colors = len(evenly_spaced_colors)\n",
    "    domain = [domain_min+i*(domain_max-domain_min)/n_colors for i in range(n_colors)]\n",
    "    return spectra.scale(evenly_spaced_colors).domain(domain).colorspace(\"lch\")\n",
    "\n",
    "viridis_5_12 = make_scale(px.colors.sequential.Viridis, 5, 12)"
   ]
  },
  {
   "cell_type": "code",
   "execution_count": 40,
   "id": "0ab332c0-4c3b-44dd-b8fe-22ce4c25d3ed",
   "metadata": {},
   "outputs": [],
   "source": []
  },
  {
   "cell_type": "code",
   "execution_count": null,
   "id": "633c0fda-94e9-443a-a829-85702e836a9d",
   "metadata": {},
   "outputs": [],
   "source": [
    "viridis_5_12"
   ]
  },
  {
   "cell_type": "code",
   "execution_count": 41,
   "id": "437843e9-016c-42e6-8a60-c373f8eaa035",
   "metadata": {},
   "outputs": [
    {
     "data": {
      "text/html": [
       "\n",
       "<div style='width: 500px; overflow: auto; font-size: 10px; \n",
       "    font-weight: bold; text-align: center; line-height: 1.5;'>\n",
       "<div style=\"float: left;\">\n",
       "    <div style=\"width: 50px; height: 50px; background: #44367F;\"></div>\n",
       "    <div>#44367F</div>\n",
       "</div>\n",
       "\n",
       "<div style=\"float: left;\">\n",
       "    <div style=\"width: 50px; height: 50px; background: #33648D;\"></div>\n",
       "    <div>#33648D</div>\n",
       "</div>\n",
       "\n",
       "<div style=\"float: left;\">\n",
       "    <div style=\"width: 50px; height: 50px; background: #248A8D;\"></div>\n",
       "    <div>#248A8D</div>\n",
       "</div>\n",
       "</div>\n"
      ],
      "text/plain": [
       "<IPython.core.display.HTML object>"
      ]
     },
     "execution_count": 41,
     "metadata": {},
     "output_type": "execute_result"
    }
   ],
   "source": [
    "swatches([viridis_5_12(x) for x in range(6,9)])"
   ]
  },
  {
   "cell_type": "code",
   "execution_count": null,
   "id": "547eb1c4-41db-4aaf-8a6a-a2eb669f9260",
   "metadata": {},
   "outputs": [],
   "source": []
  }
 ],
 "metadata": {
  "kernelspec": {
   "display_name": "Python 3 (ipykernel)",
   "language": "python",
   "name": "python3"
  },
  "language_info": {
   "codemirror_mode": {
    "name": "ipython",
    "version": 3
   },
   "file_extension": ".py",
   "mimetype": "text/x-python",
   "name": "python",
   "nbconvert_exporter": "python",
   "pygments_lexer": "ipython3",
   "version": "3.10.8"
  }
 },
 "nbformat": 4,
 "nbformat_minor": 5
}
