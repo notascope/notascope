{
  "cells": [
    {
      "cell_type": "code",
      "execution_count": 1,
      "id": "754526ec-ff6e-4617-93b6-726a25d425c8",
      "metadata": {},
      "outputs": [],
      "source": [
        "from scipy.sparse.csgraph import minimum_spanning_tree\n",
        "from scipy.sparse import coo_matrix\n",
        "from src.distances import dmat_and_order, load_distances\n",
        "import numpy as np\n",
        "import pandas as pd"
      ]
    },
    {
      "cell_type": "code",
      "execution_count": 3,
      "id": "e463664f-883b-47c3-9bf8-496ad7d8b7ed",
      "metadata": {},
      "outputs": [],
      "source": [
        "gallery=\"movies\"\n",
        "notation=\"vega-lite\"\n",
        "distance=\"nmi\"\n",
        "dmat, dmat_sym, order = dmat_and_order(gallery, notation, distance)\n",
        "spanning = coo_matrix(minimum_spanning_tree(dmat_sym))"
      ]
    },
    {
      "cell_type": "code",
      "execution_count": 5,
      "id": "c251991d-2200-4119-ba05-ff1072917859",
      "metadata": {},
      "outputs": [],
      "source": [
        "load_distances().query(\"gallery==@gallery and notation==@notation\").to_csv(\"dist.csv\")"
      ]
    },
    {
      "cell_type": "code",
      "execution_count": 74,
      "id": "5c17d31a-b458-480c-b186-54d4e5738d17",
      "metadata": {},
      "outputs": [
        {
          "data": {
            "text/plain": [
              "[{'name': 'area_colored'},\n",
              " {'name': 'area_colored_stacked'},\n",
              " {'name': 'bar_budget'},\n",
              " {'name': 'bar_budget_avg'},\n",
              " {'name': 'bar_budget_avg_colored'},\n",
              " {'name': 'bar_count'},\n",
              " {'name': 'bar_count_100'},\n",
              " {'name': 'bar_count_colored'},\n",
              " {'name': 'bar_count_horizontal'},\n",
              " {'name': 'bar_count_ordered'},\n",
              " {'name': 'bar_count_single'},\n",
              " {'name': 'bar_time'},\n",
              " {'name': 'box'},\n",
              " {'name': 'box_colored'},\n",
              " {'name': 'box_faceted'},\n",
              " {'name': 'bubble'},\n",
              " {'name': 'bubble_agg'},\n",
              " {'name': 'dotplot'},\n",
              " {'name': 'dotplot_avg'},\n",
              " {'name': 'error_bar'},\n",
              " {'name': 'heatmap_budget_avg'},\n",
              " {'name': 'heatmap_count'},\n",
              " {'name': 'histogram'},\n",
              " {'name': 'histogram_colored'},\n",
              " {'name': 'histogram_faceted'},\n",
              " {'name': 'histogram_line'},\n",
              " {'name': 'histogram_mean'},\n",
              " {'name': 'line'},\n",
              " {'name': 'line_colored'},\n",
              " {'name': 'ols_separate'},\n",
              " {'name': 'pie_count'},\n",
              " {'name': 'scatter'},\n",
              " {'name': 'scatter_colored'},\n",
              " {'name': 'scatter_colored_continuous'},\n",
              " {'name': 'scatter_colored_symbol'},\n",
              " {'name': 'scatter_connected'},\n",
              " {'name': 'scatter_ols_global'},\n",
              " {'name': 'scatter_ols_separate'},\n",
              " {'name': 'slope'},\n",
              " {'name': 'stripes'}]"
            ]
          },
          "execution_count": 74,
          "metadata": {},
          "output_type": "execute_result"
        }
      ],
      "source": [
        "nodes = [dict(name=x) for x in order]\n",
        "nodes"
      ]
    },
    {
      "cell_type": "code",
      "execution_count": 72,
      "id": "a04760be-1d38-4c11-b3f7-1b9e93bce357",
      "metadata": {},
      "outputs": [
        {
          "data": {
            "text/plain": [
              "[{'source': 1, 'target': 0, 'length': 24.0},\n",
              " {'source': 2, 'target': 12, 'length': 52.0},\n",
              " {'source': 3, 'target': 2, 'length': 16.0},\n",
              " {'source': 3, 'target': 4, 'length': 40.0},\n",
              " {'source': 5, 'target': 9, 'length': 20.0},\n",
              " {'source': 5, 'target': 17, 'length': 28.0},\n",
              " {'source': 6, 'target': 7, 'length': 20.0},\n",
              " {'source': 7, 'target': 8, 'length': 36.0},\n",
              " {'source': 7, 'target': 38, 'length': 60.0},\n",
              " {'source': 8, 'target': 2, 'length': 44.0},\n",
              " {'source': 8, 'target': 10, 'length': 36.0},\n",
              " {'source': 10, 'target': 30, 'length': 24.0},\n",
              " {'source': 11, 'target': 39, 'length': 12.0},\n",
              " {'source': 13, 'target': 12, 'length': 36.0},\n",
              " {'source': 14, 'target': 13, 'length': 48.0},\n",
              " {'source': 15, 'target': 16, 'length': 40.0},\n",
              " {'source': 17, 'target': 8, 'length': 32.0},\n",
              " {'source': 17, 'target': 18, 'length': 52.0},\n",
              " {'source': 18, 'target': 19, 'length': 60.0},\n",
              " {'source': 20, 'target': 21, 'length': 32.0},\n",
              " {'source': 21, 'target': 7, 'length': 32.0},\n",
              " {'source': 22, 'target': 25, 'length': 16.0},\n",
              " {'source': 23, 'target': 7, 'length': 44.0},\n",
              " {'source': 23, 'target': 22, 'length': 40.0},\n",
              " {'source': 23, 'target': 24, 'length': 36.0},\n",
              " {'source': 26, 'target': 22, 'length': 40.0},\n",
              " {'source': 27, 'target': 11, 'length': 16.0},\n",
              " {'source': 27, 'target': 28, 'length': 36.0},\n",
              " {'source': 27, 'target': 35, 'length': 68.0},\n",
              " {'source': 28, 'target': 0, 'length': 16.0},\n",
              " {'source': 29, 'target': 32, 'length': 72.0},\n",
              " {'source': 29, 'target': 37, 'length': 40.0},\n",
              " {'source': 31, 'target': 18, 'length': 64.0},\n",
              " {'source': 31, 'target': 33, 'length': 28.0},\n",
              " {'source': 32, 'target': 34, 'length': 28.0},\n",
              " {'source': 33, 'target': 15, 'length': 28.0},\n",
              " {'source': 33, 'target': 32, 'length': 24.0},\n",
              " {'source': 36, 'target': 37, 'length': 28.0},\n",
              " {'source': 38, 'target': 28, 'length': 68.0}]"
            ]
          },
          "execution_count": 72,
          "metadata": {},
          "output_type": "execute_result"
        }
      ],
      "source": [
        "links = []\n",
        "for i, j, d in zip(spanning.row, spanning.col, spanning.data):\n",
        "    links.append(dict(source=i, target=j, length=d))\n",
        "links"
      ]
    },
    {
      "cell_type": "code",
      "execution_count": null,
      "id": "2a00dbc8-aafd-4e4b-a4ca-b9437f24a3ee",
      "metadata": {},
      "outputs": [],
      "source": []
    }
  ],
  "metadata": {
    "kernelspec": {
      "display_name": "Python 3 (ipykernel)",
      "language": "python",
      "name": "python3"
    },
    "language_info": {
      "codemirror_mode": {
        "name": "ipython",
        "version": 3
      },
      "file_extension": ".py",
      "mimetype": "text/x-python",
      "name": "python",
      "nbconvert_exporter": "python",
      "pygments_lexer": "ipython3",
      "version": "3.9.7"
    }
  },
  "nbformat": 4,
  "nbformat_minor": 5
}
