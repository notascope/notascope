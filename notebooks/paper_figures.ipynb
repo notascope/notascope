{
 "cells": [
  {
   "cell_type": "code",
   "execution_count": 36,
   "id": "5ed421fc-72ef-46e4-860e-5ba32a693e98",
   "metadata": {},
   "outputs": [],
   "source": [
    "import plotly.express as px\n",
    "px.defaults.template = \"simple_white\"\n",
    "px.defaults.color_discrete_sequence = px.colors.qualitative.G10\n",
    "figs = dict()\n",
    "import seaborn as sns\n",
    "colors = [x for x in sns.color_palette(\"deep\").as_hex()]"
   ]
  },
  {
   "cell_type": "code",
   "execution_count": 16,
   "id": "3c7a7c38-9677-4cee-bb9f-c142b5c3b9c8",
   "metadata": {},
   "outputs": [],
   "source": [
    "from src.pair_vis import *\n",
    "from src.distances import *\n",
    "from src.utils import *"
   ]
  },
  {
   "cell_type": "code",
   "execution_count": 17,
   "id": "e72fbb3c-1f70-4843-893b-71289bc46011",
   "metadata": {},
   "outputs": [],
   "source": [
    "gallery=\"movies\"\n",
    "notation=notation2=\"matplotlib\"\n",
    "distance2=\"levenshtein\"\n",
    "distance=\"cd\"\n",
    "from_spec = to_spec = \"\"\n",
    "notations = gallery_notations(gallery)\n",
    "\n",
    "fig = distance_scatter(gallery, notation, distance, notation2, distance2, from_spec, to_spec, None)\n",
    "fig.update_traces(selector=dict(mode=\"markers\"), marker_size=4, marker_color = px.colors.qualitative.G10[0], marker_opacity=0.5)\n",
    "fig.update_traces(selector=dict(mode=\"lines\"), line_color=\"red\", line_dash=\"dot\", line_width=1)\n",
    "fig.update_layout(height=300, xaxis_title=\"Compression Distance\", yaxis_title=\"Levenshtein Distance\")\n",
    "figs[\"lev-v-compression\"] = fig"
   ]
  },
  {
   "cell_type": "code",
   "execution_count": 15,
   "id": "425b9011",
   "metadata": {},
   "outputs": [
    {
     "data": {
      "application/vnd.plotly.v1+json": {
       "config": {
        "plotlyServerURL": "https://plotly.com"
       },
       "data": [
        {
         "customdata": [
          [
           "area_colored"
          ],
          [
           "area_colored_stacked"
          ],
          [
           "bar_budget"
          ],
          [
           "bar_budget_avg"
          ],
          [
           "bar_budget_avg_colored"
          ],
          [
           "bar_count"
          ],
          [
           "bar_count_100"
          ],
          [
           "bar_count_colored"
          ],
          [
           "bar_count_horizontal"
          ],
          [
           "bar_count_ordered"
          ],
          [
           "bar_count_single"
          ],
          [
           "bar_time"
          ],
          [
           "box"
          ],
          [
           "box_colored"
          ],
          [
           "box_faceted"
          ],
          [
           "bubble"
          ],
          [
           "bubble_agg"
          ],
          [
           "dotplot"
          ],
          [
           "dotplot_avg"
          ],
          [
           "error_bar"
          ],
          [
           "heatmap_budget_avg"
          ],
          [
           "heatmap_count"
          ],
          [
           "histogram"
          ],
          [
           "histogram_colored"
          ],
          [
           "histogram_faceted"
          ],
          [
           "histogram_line"
          ],
          [
           "histogram_mean"
          ],
          [
           "line"
          ],
          [
           "line_colored"
          ],
          [
           "ols_separate"
          ],
          [
           "pie_count"
          ],
          [
           "scatter"
          ],
          [
           "scatter_colored"
          ],
          [
           "scatter_colored_continuous"
          ],
          [
           "scatter_colored_symbol"
          ],
          [
           "scatter_connected"
          ],
          [
           "scatter_ols_global"
          ],
          [
           "scatter_ols_separate"
          ],
          [
           "slope"
          ],
          [
           "stripes"
          ]
         ],
         "hoverinfo": "none",
         "hovertemplate": "<extra></extra>",
         "legendgroup": "False",
         "marker": {
          "color": "#3366CC",
          "symbol": "circle"
         },
         "mode": "markers",
         "name": "False",
         "orientation": "v",
         "showlegend": true,
         "type": "scatter",
         "x": [
          71,
          92.5,
          58,
          59,
          71,
          65,
          72.5,
          56.5,
          67,
          66,
          61.5,
          63,
          58.5,
          71,
          85.5,
          69,
          75.5,
          65.5,
          57.5,
          78.5,
          63,
          59.5,
          61,
          63.5,
          89.5,
          61,
          66.5,
          60.5,
          71,
          93,
          65.5,
          58.5,
          60,
          63,
          70.5,
          84.5,
          94,
          108,
          61,
          65
         ],
         "xaxis": "x",
         "y": [
          100,
          113,
          67.5,
          69,
          92,
          82,
          73,
          76.5,
          85.5,
          83,
          86.5,
          93.5,
          61.5,
          64,
          85,
          81,
          141.5,
          77.5,
          76,
          71.5,
          81.5,
          77.5,
          73.5,
          68,
          85.5,
          65.5,
          76.5,
          94,
          105,
          92,
          82.5,
          63.5,
          73,
          77.5,
          82,
          162.5,
          103,
          100,
          88,
          124
         ],
         "yaxis": "y"
        }
       ],
       "layout": {
        "height": 500,
        "legend": {
         "title": {
          "text": "selected"
         },
         "tracegroupgap": 0
        },
        "margin": {
         "t": 60
        },
        "shapes": [
         {
          "line": {
           "color": "grey",
           "width": 1
          },
          "type": "line",
          "x0": 0,
          "x1": 178.75,
          "y0": 0,
          "y1": 178.75
         }
        ],
        "showlegend": false,
        "template": {
         "data": {
          "bar": [
           {
            "error_x": {
             "color": "rgb(36,36,36)"
            },
            "error_y": {
             "color": "rgb(36,36,36)"
            },
            "marker": {
             "line": {
              "color": "white",
              "width": 0.5
             },
             "pattern": {
              "fillmode": "overlay",
              "size": 10,
              "solidity": 0.2
             }
            },
            "type": "bar"
           }
          ],
          "barpolar": [
           {
            "marker": {
             "line": {
              "color": "white",
              "width": 0.5
             },
             "pattern": {
              "fillmode": "overlay",
              "size": 10,
              "solidity": 0.2
             }
            },
            "type": "barpolar"
           }
          ],
          "carpet": [
           {
            "aaxis": {
             "endlinecolor": "rgb(36,36,36)",
             "gridcolor": "white",
             "linecolor": "white",
             "minorgridcolor": "white",
             "startlinecolor": "rgb(36,36,36)"
            },
            "baxis": {
             "endlinecolor": "rgb(36,36,36)",
             "gridcolor": "white",
             "linecolor": "white",
             "minorgridcolor": "white",
             "startlinecolor": "rgb(36,36,36)"
            },
            "type": "carpet"
           }
          ],
          "choropleth": [
           {
            "colorbar": {
             "outlinewidth": 1,
             "tickcolor": "rgb(36,36,36)",
             "ticks": "outside"
            },
            "type": "choropleth"
           }
          ],
          "contour": [
           {
            "colorbar": {
             "outlinewidth": 1,
             "tickcolor": "rgb(36,36,36)",
             "ticks": "outside"
            },
            "colorscale": [
             [
              0,
              "#440154"
             ],
             [
              0.1111111111111111,
              "#482878"
             ],
             [
              0.2222222222222222,
              "#3e4989"
             ],
             [
              0.3333333333333333,
              "#31688e"
             ],
             [
              0.4444444444444444,
              "#26828e"
             ],
             [
              0.5555555555555556,
              "#1f9e89"
             ],
             [
              0.6666666666666666,
              "#35b779"
             ],
             [
              0.7777777777777778,
              "#6ece58"
             ],
             [
              0.8888888888888888,
              "#b5de2b"
             ],
             [
              1,
              "#fde725"
             ]
            ],
            "type": "contour"
           }
          ],
          "contourcarpet": [
           {
            "colorbar": {
             "outlinewidth": 1,
             "tickcolor": "rgb(36,36,36)",
             "ticks": "outside"
            },
            "type": "contourcarpet"
           }
          ],
          "heatmap": [
           {
            "colorbar": {
             "outlinewidth": 1,
             "tickcolor": "rgb(36,36,36)",
             "ticks": "outside"
            },
            "colorscale": [
             [
              0,
              "#440154"
             ],
             [
              0.1111111111111111,
              "#482878"
             ],
             [
              0.2222222222222222,
              "#3e4989"
             ],
             [
              0.3333333333333333,
              "#31688e"
             ],
             [
              0.4444444444444444,
              "#26828e"
             ],
             [
              0.5555555555555556,
              "#1f9e89"
             ],
             [
              0.6666666666666666,
              "#35b779"
             ],
             [
              0.7777777777777778,
              "#6ece58"
             ],
             [
              0.8888888888888888,
              "#b5de2b"
             ],
             [
              1,
              "#fde725"
             ]
            ],
            "type": "heatmap"
           }
          ],
          "heatmapgl": [
           {
            "colorbar": {
             "outlinewidth": 1,
             "tickcolor": "rgb(36,36,36)",
             "ticks": "outside"
            },
            "colorscale": [
             [
              0,
              "#440154"
             ],
             [
              0.1111111111111111,
              "#482878"
             ],
             [
              0.2222222222222222,
              "#3e4989"
             ],
             [
              0.3333333333333333,
              "#31688e"
             ],
             [
              0.4444444444444444,
              "#26828e"
             ],
             [
              0.5555555555555556,
              "#1f9e89"
             ],
             [
              0.6666666666666666,
              "#35b779"
             ],
             [
              0.7777777777777778,
              "#6ece58"
             ],
             [
              0.8888888888888888,
              "#b5de2b"
             ],
             [
              1,
              "#fde725"
             ]
            ],
            "type": "heatmapgl"
           }
          ],
          "histogram": [
           {
            "marker": {
             "line": {
              "color": "white",
              "width": 0.6
             }
            },
            "type": "histogram"
           }
          ],
          "histogram2d": [
           {
            "colorbar": {
             "outlinewidth": 1,
             "tickcolor": "rgb(36,36,36)",
             "ticks": "outside"
            },
            "colorscale": [
             [
              0,
              "#440154"
             ],
             [
              0.1111111111111111,
              "#482878"
             ],
             [
              0.2222222222222222,
              "#3e4989"
             ],
             [
              0.3333333333333333,
              "#31688e"
             ],
             [
              0.4444444444444444,
              "#26828e"
             ],
             [
              0.5555555555555556,
              "#1f9e89"
             ],
             [
              0.6666666666666666,
              "#35b779"
             ],
             [
              0.7777777777777778,
              "#6ece58"
             ],
             [
              0.8888888888888888,
              "#b5de2b"
             ],
             [
              1,
              "#fde725"
             ]
            ],
            "type": "histogram2d"
           }
          ],
          "histogram2dcontour": [
           {
            "colorbar": {
             "outlinewidth": 1,
             "tickcolor": "rgb(36,36,36)",
             "ticks": "outside"
            },
            "colorscale": [
             [
              0,
              "#440154"
             ],
             [
              0.1111111111111111,
              "#482878"
             ],
             [
              0.2222222222222222,
              "#3e4989"
             ],
             [
              0.3333333333333333,
              "#31688e"
             ],
             [
              0.4444444444444444,
              "#26828e"
             ],
             [
              0.5555555555555556,
              "#1f9e89"
             ],
             [
              0.6666666666666666,
              "#35b779"
             ],
             [
              0.7777777777777778,
              "#6ece58"
             ],
             [
              0.8888888888888888,
              "#b5de2b"
             ],
             [
              1,
              "#fde725"
             ]
            ],
            "type": "histogram2dcontour"
           }
          ],
          "mesh3d": [
           {
            "colorbar": {
             "outlinewidth": 1,
             "tickcolor": "rgb(36,36,36)",
             "ticks": "outside"
            },
            "type": "mesh3d"
           }
          ],
          "parcoords": [
           {
            "line": {
             "colorbar": {
              "outlinewidth": 1,
              "tickcolor": "rgb(36,36,36)",
              "ticks": "outside"
             }
            },
            "type": "parcoords"
           }
          ],
          "pie": [
           {
            "automargin": true,
            "type": "pie"
           }
          ],
          "scatter": [
           {
            "fillpattern": {
             "fillmode": "overlay",
             "size": 10,
             "solidity": 0.2
            },
            "type": "scatter"
           }
          ],
          "scatter3d": [
           {
            "line": {
             "colorbar": {
              "outlinewidth": 1,
              "tickcolor": "rgb(36,36,36)",
              "ticks": "outside"
             }
            },
            "marker": {
             "colorbar": {
              "outlinewidth": 1,
              "tickcolor": "rgb(36,36,36)",
              "ticks": "outside"
             }
            },
            "type": "scatter3d"
           }
          ],
          "scattercarpet": [
           {
            "marker": {
             "colorbar": {
              "outlinewidth": 1,
              "tickcolor": "rgb(36,36,36)",
              "ticks": "outside"
             }
            },
            "type": "scattercarpet"
           }
          ],
          "scattergeo": [
           {
            "marker": {
             "colorbar": {
              "outlinewidth": 1,
              "tickcolor": "rgb(36,36,36)",
              "ticks": "outside"
             }
            },
            "type": "scattergeo"
           }
          ],
          "scattergl": [
           {
            "marker": {
             "colorbar": {
              "outlinewidth": 1,
              "tickcolor": "rgb(36,36,36)",
              "ticks": "outside"
             }
            },
            "type": "scattergl"
           }
          ],
          "scattermapbox": [
           {
            "marker": {
             "colorbar": {
              "outlinewidth": 1,
              "tickcolor": "rgb(36,36,36)",
              "ticks": "outside"
             }
            },
            "type": "scattermapbox"
           }
          ],
          "scatterpolar": [
           {
            "marker": {
             "colorbar": {
              "outlinewidth": 1,
              "tickcolor": "rgb(36,36,36)",
              "ticks": "outside"
             }
            },
            "type": "scatterpolar"
           }
          ],
          "scatterpolargl": [
           {
            "marker": {
             "colorbar": {
              "outlinewidth": 1,
              "tickcolor": "rgb(36,36,36)",
              "ticks": "outside"
             }
            },
            "type": "scatterpolargl"
           }
          ],
          "scatterternary": [
           {
            "marker": {
             "colorbar": {
              "outlinewidth": 1,
              "tickcolor": "rgb(36,36,36)",
              "ticks": "outside"
             }
            },
            "type": "scatterternary"
           }
          ],
          "surface": [
           {
            "colorbar": {
             "outlinewidth": 1,
             "tickcolor": "rgb(36,36,36)",
             "ticks": "outside"
            },
            "colorscale": [
             [
              0,
              "#440154"
             ],
             [
              0.1111111111111111,
              "#482878"
             ],
             [
              0.2222222222222222,
              "#3e4989"
             ],
             [
              0.3333333333333333,
              "#31688e"
             ],
             [
              0.4444444444444444,
              "#26828e"
             ],
             [
              0.5555555555555556,
              "#1f9e89"
             ],
             [
              0.6666666666666666,
              "#35b779"
             ],
             [
              0.7777777777777778,
              "#6ece58"
             ],
             [
              0.8888888888888888,
              "#b5de2b"
             ],
             [
              1,
              "#fde725"
             ]
            ],
            "type": "surface"
           }
          ],
          "table": [
           {
            "cells": {
             "fill": {
              "color": "rgb(237,237,237)"
             },
             "line": {
              "color": "white"
             }
            },
            "header": {
             "fill": {
              "color": "rgb(217,217,217)"
             },
             "line": {
              "color": "white"
             }
            },
            "type": "table"
           }
          ]
         },
         "layout": {
          "annotationdefaults": {
           "arrowhead": 0,
           "arrowwidth": 1
          },
          "autotypenumbers": "strict",
          "coloraxis": {
           "colorbar": {
            "outlinewidth": 1,
            "tickcolor": "rgb(36,36,36)",
            "ticks": "outside"
           }
          },
          "colorscale": {
           "diverging": [
            [
             0,
             "rgb(103,0,31)"
            ],
            [
             0.1,
             "rgb(178,24,43)"
            ],
            [
             0.2,
             "rgb(214,96,77)"
            ],
            [
             0.3,
             "rgb(244,165,130)"
            ],
            [
             0.4,
             "rgb(253,219,199)"
            ],
            [
             0.5,
             "rgb(247,247,247)"
            ],
            [
             0.6,
             "rgb(209,229,240)"
            ],
            [
             0.7,
             "rgb(146,197,222)"
            ],
            [
             0.8,
             "rgb(67,147,195)"
            ],
            [
             0.9,
             "rgb(33,102,172)"
            ],
            [
             1,
             "rgb(5,48,97)"
            ]
           ],
           "sequential": [
            [
             0,
             "#440154"
            ],
            [
             0.1111111111111111,
             "#482878"
            ],
            [
             0.2222222222222222,
             "#3e4989"
            ],
            [
             0.3333333333333333,
             "#31688e"
            ],
            [
             0.4444444444444444,
             "#26828e"
            ],
            [
             0.5555555555555556,
             "#1f9e89"
            ],
            [
             0.6666666666666666,
             "#35b779"
            ],
            [
             0.7777777777777778,
             "#6ece58"
            ],
            [
             0.8888888888888888,
             "#b5de2b"
            ],
            [
             1,
             "#fde725"
            ]
           ],
           "sequentialminus": [
            [
             0,
             "#440154"
            ],
            [
             0.1111111111111111,
             "#482878"
            ],
            [
             0.2222222222222222,
             "#3e4989"
            ],
            [
             0.3333333333333333,
             "#31688e"
            ],
            [
             0.4444444444444444,
             "#26828e"
            ],
            [
             0.5555555555555556,
             "#1f9e89"
            ],
            [
             0.6666666666666666,
             "#35b779"
            ],
            [
             0.7777777777777778,
             "#6ece58"
            ],
            [
             0.8888888888888888,
             "#b5de2b"
            ],
            [
             1,
             "#fde725"
            ]
           ]
          },
          "colorway": [
           "#1F77B4",
           "#FF7F0E",
           "#2CA02C",
           "#D62728",
           "#9467BD",
           "#8C564B",
           "#E377C2",
           "#7F7F7F",
           "#BCBD22",
           "#17BECF"
          ],
          "font": {
           "color": "rgb(36,36,36)"
          },
          "geo": {
           "bgcolor": "white",
           "lakecolor": "white",
           "landcolor": "white",
           "showlakes": true,
           "showland": true,
           "subunitcolor": "white"
          },
          "hoverlabel": {
           "align": "left"
          },
          "hovermode": "closest",
          "mapbox": {
           "style": "light"
          },
          "paper_bgcolor": "white",
          "plot_bgcolor": "white",
          "polar": {
           "angularaxis": {
            "gridcolor": "rgb(232,232,232)",
            "linecolor": "rgb(36,36,36)",
            "showgrid": false,
            "showline": true,
            "ticks": "outside"
           },
           "bgcolor": "white",
           "radialaxis": {
            "gridcolor": "rgb(232,232,232)",
            "linecolor": "rgb(36,36,36)",
            "showgrid": false,
            "showline": true,
            "ticks": "outside"
           }
          },
          "scene": {
           "xaxis": {
            "backgroundcolor": "white",
            "gridcolor": "rgb(232,232,232)",
            "gridwidth": 2,
            "linecolor": "rgb(36,36,36)",
            "showbackground": true,
            "showgrid": false,
            "showline": true,
            "ticks": "outside",
            "zeroline": false,
            "zerolinecolor": "rgb(36,36,36)"
           },
           "yaxis": {
            "backgroundcolor": "white",
            "gridcolor": "rgb(232,232,232)",
            "gridwidth": 2,
            "linecolor": "rgb(36,36,36)",
            "showbackground": true,
            "showgrid": false,
            "showline": true,
            "ticks": "outside",
            "zeroline": false,
            "zerolinecolor": "rgb(36,36,36)"
           },
           "zaxis": {
            "backgroundcolor": "white",
            "gridcolor": "rgb(232,232,232)",
            "gridwidth": 2,
            "linecolor": "rgb(36,36,36)",
            "showbackground": true,
            "showgrid": false,
            "showline": true,
            "ticks": "outside",
            "zeroline": false,
            "zerolinecolor": "rgb(36,36,36)"
           }
          },
          "shapedefaults": {
           "fillcolor": "black",
           "line": {
            "width": 0
           },
           "opacity": 0.3
          },
          "ternary": {
           "aaxis": {
            "gridcolor": "rgb(232,232,232)",
            "linecolor": "rgb(36,36,36)",
            "showgrid": false,
            "showline": true,
            "ticks": "outside"
           },
           "baxis": {
            "gridcolor": "rgb(232,232,232)",
            "linecolor": "rgb(36,36,36)",
            "showgrid": false,
            "showline": true,
            "ticks": "outside"
           },
           "bgcolor": "white",
           "caxis": {
            "gridcolor": "rgb(232,232,232)",
            "linecolor": "rgb(36,36,36)",
            "showgrid": false,
            "showline": true,
            "ticks": "outside"
           }
          },
          "title": {
           "x": 0.05
          },
          "xaxis": {
           "automargin": true,
           "gridcolor": "rgb(232,232,232)",
           "linecolor": "rgb(36,36,36)",
           "showgrid": false,
           "showline": true,
           "ticks": "outside",
           "title": {
            "standoff": 15
           },
           "zeroline": false,
           "zerolinecolor": "rgb(36,36,36)"
          },
          "yaxis": {
           "automargin": true,
           "gridcolor": "rgb(232,232,232)",
           "linecolor": "rgb(36,36,36)",
           "showgrid": false,
           "showline": true,
           "ticks": "outside",
           "title": {
            "standoff": 15
           },
           "zeroline": false,
           "zerolinecolor": "rgb(36,36,36)"
          }
         }
        },
        "title": {
         "text": "Remoteness: ggplot2 vs altair",
         "x": 0.5
        },
        "width": 500,
        "xaxis": {
         "anchor": "y",
         "domain": [
          0,
          1
         ],
         "dtick": 200,
         "range": [
          0,
          200
         ],
         "rangemode": "tozero",
         "title": {
          "text": "Remoteness in altair"
         },
         "type": "linear"
        },
        "yaxis": {
         "anchor": "x",
         "constrain": "domain",
         "domain": [
          0.02777777777777779,
          0.9722222222222222
         ],
         "dtick": 200,
         "range": [
          0,
          200
         ],
         "rangemode": "tozero",
         "scaleanchor": "x",
         "scaleratio": 1,
         "title": {
          "text": "Remoteness in ggplot2"
         },
         "type": "linear"
        }
       }
      }
     },
     "metadata": {},
     "output_type": "display_data"
    }
   ],
   "source": [
    "xn = \"altair\"\n",
    "yn = \"ggplot2\"\n",
    "distance=\"cd\"\n",
    "fig = remoteness_scatter(gallery, xn, distance, yn, distance, from_spec, to_spec, None)\n",
    "fig.update_shapes(line_color=\"grey\", line_width=1)\n",
    "fig.update_yaxes(constrain=\"domain\")\n",
    "dtick = 200\n",
    "fig.update_xaxes(dtick=dtick, title=f\"Remoteness in {xn}\", range=[0,dtick])\n",
    "fig.update_yaxes(dtick=dtick, title=f\"Remoteness in {yn}\", range=[0,dtick])\n",
    "fig.update_layout(title=f\"Remoteness: {yn} vs {xn}\", title_x=0.5)\n",
    "fig.write_image(\"figs/altair-v-ggplot2_remoteness.svg\")\n",
    "fig.show()"
   ]
  },
  {
   "cell_type": "code",
   "execution_count": 14,
   "id": "08672e23",
   "metadata": {},
   "outputs": [
    {
     "data": {
      "application/vnd.plotly.v1+json": {
       "config": {
        "plotlyServerURL": "https://plotly.com"
       },
       "data": [
        {
         "customdata": [
          [
           "area_colored"
          ],
          [
           "area_colored_stacked"
          ],
          [
           "bar_budget"
          ],
          [
           "bar_budget_avg"
          ],
          [
           "bar_budget_avg_colored"
          ],
          [
           "bar_count"
          ],
          [
           "bar_count_100"
          ],
          [
           "bar_count_colored"
          ],
          [
           "bar_count_horizontal"
          ],
          [
           "bar_count_ordered"
          ],
          [
           "bar_count_single"
          ],
          [
           "bar_time"
          ],
          [
           "box"
          ],
          [
           "box_colored"
          ],
          [
           "box_faceted"
          ],
          [
           "bubble"
          ],
          [
           "bubble_agg"
          ],
          [
           "dotplot"
          ],
          [
           "dotplot_avg"
          ],
          [
           "error_bar"
          ],
          [
           "heatmap_budget_avg"
          ],
          [
           "heatmap_count"
          ],
          [
           "histogram"
          ],
          [
           "histogram_colored"
          ],
          [
           "histogram_faceted"
          ],
          [
           "histogram_line"
          ],
          [
           "histogram_mean"
          ],
          [
           "line"
          ],
          [
           "line_colored"
          ],
          [
           "ols_separate"
          ],
          [
           "pie_count"
          ],
          [
           "scatter"
          ],
          [
           "scatter_colored"
          ],
          [
           "scatter_colored_continuous"
          ],
          [
           "scatter_colored_symbol"
          ],
          [
           "scatter_connected"
          ],
          [
           "scatter_ols_global"
          ],
          [
           "scatter_ols_separate"
          ],
          [
           "slope"
          ],
          [
           "stripes"
          ]
         ],
         "hoverinfo": "none",
         "hovertemplate": "<extra></extra>",
         "legendgroup": "False",
         "marker": {
          "color": "#3366CC",
          "symbol": "circle"
         },
         "mode": "markers",
         "name": "False",
         "orientation": "v",
         "showlegend": true,
         "type": "scatter",
         "x": [
          190,
          216,
          163,
          164,
          208,
          148,
          195,
          169,
          148,
          166,
          152,
          168,
          162,
          206,
          226,
          205,
          223,
          150,
          166,
          212,
          186,
          170,
          167,
          188,
          231,
          168,
          181,
          169,
          190,
          270,
          161,
          164,
          185,
          185,
          206,
          211,
          273,
          298,
          186,
          173
         ],
         "xaxis": "x",
         "y": [
          198,
          217,
          156,
          157,
          199,
          100,
          141,
          122,
          100,
          112,
          110,
          175,
          129,
          151,
          176,
          176,
          254,
          118,
          159,
          129,
          180,
          122,
          112,
          134,
          178,
          121,
          165,
          176,
          199,
          183,
          126,
          131,
          154,
          154,
          177,
          296,
          201,
          198,
          204,
          228
         ],
         "yaxis": "y"
        }
       ],
       "layout": {
        "height": 500,
        "legend": {
         "title": {
          "text": "selected"
         },
         "tracegroupgap": 0
        },
        "margin": {
         "t": 60
        },
        "shapes": [
         {
          "line": {
           "color": "grey",
           "width": 1
          },
          "type": "line",
          "x0": 0,
          "x1": 327.8,
          "y0": 0,
          "y1": 327.8
         }
        ],
        "showlegend": false,
        "template": {
         "data": {
          "bar": [
           {
            "error_x": {
             "color": "rgb(36,36,36)"
            },
            "error_y": {
             "color": "rgb(36,36,36)"
            },
            "marker": {
             "line": {
              "color": "white",
              "width": 0.5
             },
             "pattern": {
              "fillmode": "overlay",
              "size": 10,
              "solidity": 0.2
             }
            },
            "type": "bar"
           }
          ],
          "barpolar": [
           {
            "marker": {
             "line": {
              "color": "white",
              "width": 0.5
             },
             "pattern": {
              "fillmode": "overlay",
              "size": 10,
              "solidity": 0.2
             }
            },
            "type": "barpolar"
           }
          ],
          "carpet": [
           {
            "aaxis": {
             "endlinecolor": "rgb(36,36,36)",
             "gridcolor": "white",
             "linecolor": "white",
             "minorgridcolor": "white",
             "startlinecolor": "rgb(36,36,36)"
            },
            "baxis": {
             "endlinecolor": "rgb(36,36,36)",
             "gridcolor": "white",
             "linecolor": "white",
             "minorgridcolor": "white",
             "startlinecolor": "rgb(36,36,36)"
            },
            "type": "carpet"
           }
          ],
          "choropleth": [
           {
            "colorbar": {
             "outlinewidth": 1,
             "tickcolor": "rgb(36,36,36)",
             "ticks": "outside"
            },
            "type": "choropleth"
           }
          ],
          "contour": [
           {
            "colorbar": {
             "outlinewidth": 1,
             "tickcolor": "rgb(36,36,36)",
             "ticks": "outside"
            },
            "colorscale": [
             [
              0,
              "#440154"
             ],
             [
              0.1111111111111111,
              "#482878"
             ],
             [
              0.2222222222222222,
              "#3e4989"
             ],
             [
              0.3333333333333333,
              "#31688e"
             ],
             [
              0.4444444444444444,
              "#26828e"
             ],
             [
              0.5555555555555556,
              "#1f9e89"
             ],
             [
              0.6666666666666666,
              "#35b779"
             ],
             [
              0.7777777777777778,
              "#6ece58"
             ],
             [
              0.8888888888888888,
              "#b5de2b"
             ],
             [
              1,
              "#fde725"
             ]
            ],
            "type": "contour"
           }
          ],
          "contourcarpet": [
           {
            "colorbar": {
             "outlinewidth": 1,
             "tickcolor": "rgb(36,36,36)",
             "ticks": "outside"
            },
            "type": "contourcarpet"
           }
          ],
          "heatmap": [
           {
            "colorbar": {
             "outlinewidth": 1,
             "tickcolor": "rgb(36,36,36)",
             "ticks": "outside"
            },
            "colorscale": [
             [
              0,
              "#440154"
             ],
             [
              0.1111111111111111,
              "#482878"
             ],
             [
              0.2222222222222222,
              "#3e4989"
             ],
             [
              0.3333333333333333,
              "#31688e"
             ],
             [
              0.4444444444444444,
              "#26828e"
             ],
             [
              0.5555555555555556,
              "#1f9e89"
             ],
             [
              0.6666666666666666,
              "#35b779"
             ],
             [
              0.7777777777777778,
              "#6ece58"
             ],
             [
              0.8888888888888888,
              "#b5de2b"
             ],
             [
              1,
              "#fde725"
             ]
            ],
            "type": "heatmap"
           }
          ],
          "heatmapgl": [
           {
            "colorbar": {
             "outlinewidth": 1,
             "tickcolor": "rgb(36,36,36)",
             "ticks": "outside"
            },
            "colorscale": [
             [
              0,
              "#440154"
             ],
             [
              0.1111111111111111,
              "#482878"
             ],
             [
              0.2222222222222222,
              "#3e4989"
             ],
             [
              0.3333333333333333,
              "#31688e"
             ],
             [
              0.4444444444444444,
              "#26828e"
             ],
             [
              0.5555555555555556,
              "#1f9e89"
             ],
             [
              0.6666666666666666,
              "#35b779"
             ],
             [
              0.7777777777777778,
              "#6ece58"
             ],
             [
              0.8888888888888888,
              "#b5de2b"
             ],
             [
              1,
              "#fde725"
             ]
            ],
            "type": "heatmapgl"
           }
          ],
          "histogram": [
           {
            "marker": {
             "line": {
              "color": "white",
              "width": 0.6
             }
            },
            "type": "histogram"
           }
          ],
          "histogram2d": [
           {
            "colorbar": {
             "outlinewidth": 1,
             "tickcolor": "rgb(36,36,36)",
             "ticks": "outside"
            },
            "colorscale": [
             [
              0,
              "#440154"
             ],
             [
              0.1111111111111111,
              "#482878"
             ],
             [
              0.2222222222222222,
              "#3e4989"
             ],
             [
              0.3333333333333333,
              "#31688e"
             ],
             [
              0.4444444444444444,
              "#26828e"
             ],
             [
              0.5555555555555556,
              "#1f9e89"
             ],
             [
              0.6666666666666666,
              "#35b779"
             ],
             [
              0.7777777777777778,
              "#6ece58"
             ],
             [
              0.8888888888888888,
              "#b5de2b"
             ],
             [
              1,
              "#fde725"
             ]
            ],
            "type": "histogram2d"
           }
          ],
          "histogram2dcontour": [
           {
            "colorbar": {
             "outlinewidth": 1,
             "tickcolor": "rgb(36,36,36)",
             "ticks": "outside"
            },
            "colorscale": [
             [
              0,
              "#440154"
             ],
             [
              0.1111111111111111,
              "#482878"
             ],
             [
              0.2222222222222222,
              "#3e4989"
             ],
             [
              0.3333333333333333,
              "#31688e"
             ],
             [
              0.4444444444444444,
              "#26828e"
             ],
             [
              0.5555555555555556,
              "#1f9e89"
             ],
             [
              0.6666666666666666,
              "#35b779"
             ],
             [
              0.7777777777777778,
              "#6ece58"
             ],
             [
              0.8888888888888888,
              "#b5de2b"
             ],
             [
              1,
              "#fde725"
             ]
            ],
            "type": "histogram2dcontour"
           }
          ],
          "mesh3d": [
           {
            "colorbar": {
             "outlinewidth": 1,
             "tickcolor": "rgb(36,36,36)",
             "ticks": "outside"
            },
            "type": "mesh3d"
           }
          ],
          "parcoords": [
           {
            "line": {
             "colorbar": {
              "outlinewidth": 1,
              "tickcolor": "rgb(36,36,36)",
              "ticks": "outside"
             }
            },
            "type": "parcoords"
           }
          ],
          "pie": [
           {
            "automargin": true,
            "type": "pie"
           }
          ],
          "scatter": [
           {
            "fillpattern": {
             "fillmode": "overlay",
             "size": 10,
             "solidity": 0.2
            },
            "type": "scatter"
           }
          ],
          "scatter3d": [
           {
            "line": {
             "colorbar": {
              "outlinewidth": 1,
              "tickcolor": "rgb(36,36,36)",
              "ticks": "outside"
             }
            },
            "marker": {
             "colorbar": {
              "outlinewidth": 1,
              "tickcolor": "rgb(36,36,36)",
              "ticks": "outside"
             }
            },
            "type": "scatter3d"
           }
          ],
          "scattercarpet": [
           {
            "marker": {
             "colorbar": {
              "outlinewidth": 1,
              "tickcolor": "rgb(36,36,36)",
              "ticks": "outside"
             }
            },
            "type": "scattercarpet"
           }
          ],
          "scattergeo": [
           {
            "marker": {
             "colorbar": {
              "outlinewidth": 1,
              "tickcolor": "rgb(36,36,36)",
              "ticks": "outside"
             }
            },
            "type": "scattergeo"
           }
          ],
          "scattergl": [
           {
            "marker": {
             "colorbar": {
              "outlinewidth": 1,
              "tickcolor": "rgb(36,36,36)",
              "ticks": "outside"
             }
            },
            "type": "scattergl"
           }
          ],
          "scattermapbox": [
           {
            "marker": {
             "colorbar": {
              "outlinewidth": 1,
              "tickcolor": "rgb(36,36,36)",
              "ticks": "outside"
             }
            },
            "type": "scattermapbox"
           }
          ],
          "scatterpolar": [
           {
            "marker": {
             "colorbar": {
              "outlinewidth": 1,
              "tickcolor": "rgb(36,36,36)",
              "ticks": "outside"
             }
            },
            "type": "scatterpolar"
           }
          ],
          "scatterpolargl": [
           {
            "marker": {
             "colorbar": {
              "outlinewidth": 1,
              "tickcolor": "rgb(36,36,36)",
              "ticks": "outside"
             }
            },
            "type": "scatterpolargl"
           }
          ],
          "scatterternary": [
           {
            "marker": {
             "colorbar": {
              "outlinewidth": 1,
              "tickcolor": "rgb(36,36,36)",
              "ticks": "outside"
             }
            },
            "type": "scatterternary"
           }
          ],
          "surface": [
           {
            "colorbar": {
             "outlinewidth": 1,
             "tickcolor": "rgb(36,36,36)",
             "ticks": "outside"
            },
            "colorscale": [
             [
              0,
              "#440154"
             ],
             [
              0.1111111111111111,
              "#482878"
             ],
             [
              0.2222222222222222,
              "#3e4989"
             ],
             [
              0.3333333333333333,
              "#31688e"
             ],
             [
              0.4444444444444444,
              "#26828e"
             ],
             [
              0.5555555555555556,
              "#1f9e89"
             ],
             [
              0.6666666666666666,
              "#35b779"
             ],
             [
              0.7777777777777778,
              "#6ece58"
             ],
             [
              0.8888888888888888,
              "#b5de2b"
             ],
             [
              1,
              "#fde725"
             ]
            ],
            "type": "surface"
           }
          ],
          "table": [
           {
            "cells": {
             "fill": {
              "color": "rgb(237,237,237)"
             },
             "line": {
              "color": "white"
             }
            },
            "header": {
             "fill": {
              "color": "rgb(217,217,217)"
             },
             "line": {
              "color": "white"
             }
            },
            "type": "table"
           }
          ]
         },
         "layout": {
          "annotationdefaults": {
           "arrowhead": 0,
           "arrowwidth": 1
          },
          "autotypenumbers": "strict",
          "coloraxis": {
           "colorbar": {
            "outlinewidth": 1,
            "tickcolor": "rgb(36,36,36)",
            "ticks": "outside"
           }
          },
          "colorscale": {
           "diverging": [
            [
             0,
             "rgb(103,0,31)"
            ],
            [
             0.1,
             "rgb(178,24,43)"
            ],
            [
             0.2,
             "rgb(214,96,77)"
            ],
            [
             0.3,
             "rgb(244,165,130)"
            ],
            [
             0.4,
             "rgb(253,219,199)"
            ],
            [
             0.5,
             "rgb(247,247,247)"
            ],
            [
             0.6,
             "rgb(209,229,240)"
            ],
            [
             0.7,
             "rgb(146,197,222)"
            ],
            [
             0.8,
             "rgb(67,147,195)"
            ],
            [
             0.9,
             "rgb(33,102,172)"
            ],
            [
             1,
             "rgb(5,48,97)"
            ]
           ],
           "sequential": [
            [
             0,
             "#440154"
            ],
            [
             0.1111111111111111,
             "#482878"
            ],
            [
             0.2222222222222222,
             "#3e4989"
            ],
            [
             0.3333333333333333,
             "#31688e"
            ],
            [
             0.4444444444444444,
             "#26828e"
            ],
            [
             0.5555555555555556,
             "#1f9e89"
            ],
            [
             0.6666666666666666,
             "#35b779"
            ],
            [
             0.7777777777777778,
             "#6ece58"
            ],
            [
             0.8888888888888888,
             "#b5de2b"
            ],
            [
             1,
             "#fde725"
            ]
           ],
           "sequentialminus": [
            [
             0,
             "#440154"
            ],
            [
             0.1111111111111111,
             "#482878"
            ],
            [
             0.2222222222222222,
             "#3e4989"
            ],
            [
             0.3333333333333333,
             "#31688e"
            ],
            [
             0.4444444444444444,
             "#26828e"
            ],
            [
             0.5555555555555556,
             "#1f9e89"
            ],
            [
             0.6666666666666666,
             "#35b779"
            ],
            [
             0.7777777777777778,
             "#6ece58"
            ],
            [
             0.8888888888888888,
             "#b5de2b"
            ],
            [
             1,
             "#fde725"
            ]
           ]
          },
          "colorway": [
           "#1F77B4",
           "#FF7F0E",
           "#2CA02C",
           "#D62728",
           "#9467BD",
           "#8C564B",
           "#E377C2",
           "#7F7F7F",
           "#BCBD22",
           "#17BECF"
          ],
          "font": {
           "color": "rgb(36,36,36)"
          },
          "geo": {
           "bgcolor": "white",
           "lakecolor": "white",
           "landcolor": "white",
           "showlakes": true,
           "showland": true,
           "subunitcolor": "white"
          },
          "hoverlabel": {
           "align": "left"
          },
          "hovermode": "closest",
          "mapbox": {
           "style": "light"
          },
          "paper_bgcolor": "white",
          "plot_bgcolor": "white",
          "polar": {
           "angularaxis": {
            "gridcolor": "rgb(232,232,232)",
            "linecolor": "rgb(36,36,36)",
            "showgrid": false,
            "showline": true,
            "ticks": "outside"
           },
           "bgcolor": "white",
           "radialaxis": {
            "gridcolor": "rgb(232,232,232)",
            "linecolor": "rgb(36,36,36)",
            "showgrid": false,
            "showline": true,
            "ticks": "outside"
           }
          },
          "scene": {
           "xaxis": {
            "backgroundcolor": "white",
            "gridcolor": "rgb(232,232,232)",
            "gridwidth": 2,
            "linecolor": "rgb(36,36,36)",
            "showbackground": true,
            "showgrid": false,
            "showline": true,
            "ticks": "outside",
            "zeroline": false,
            "zerolinecolor": "rgb(36,36,36)"
           },
           "yaxis": {
            "backgroundcolor": "white",
            "gridcolor": "rgb(232,232,232)",
            "gridwidth": 2,
            "linecolor": "rgb(36,36,36)",
            "showbackground": true,
            "showgrid": false,
            "showline": true,
            "ticks": "outside",
            "zeroline": false,
            "zerolinecolor": "rgb(36,36,36)"
           },
           "zaxis": {
            "backgroundcolor": "white",
            "gridcolor": "rgb(232,232,232)",
            "gridwidth": 2,
            "linecolor": "rgb(36,36,36)",
            "showbackground": true,
            "showgrid": false,
            "showline": true,
            "ticks": "outside",
            "zeroline": false,
            "zerolinecolor": "rgb(36,36,36)"
           }
          },
          "shapedefaults": {
           "fillcolor": "black",
           "line": {
            "width": 0
           },
           "opacity": 0.3
          },
          "ternary": {
           "aaxis": {
            "gridcolor": "rgb(232,232,232)",
            "linecolor": "rgb(36,36,36)",
            "showgrid": false,
            "showline": true,
            "ticks": "outside"
           },
           "baxis": {
            "gridcolor": "rgb(232,232,232)",
            "linecolor": "rgb(36,36,36)",
            "showgrid": false,
            "showline": true,
            "ticks": "outside"
           },
           "bgcolor": "white",
           "caxis": {
            "gridcolor": "rgb(232,232,232)",
            "linecolor": "rgb(36,36,36)",
            "showgrid": false,
            "showline": true,
            "ticks": "outside"
           }
          },
          "title": {
           "x": 0.05
          },
          "xaxis": {
           "automargin": true,
           "gridcolor": "rgb(232,232,232)",
           "linecolor": "rgb(36,36,36)",
           "showgrid": false,
           "showline": true,
           "ticks": "outside",
           "title": {
            "standoff": 15
           },
           "zeroline": false,
           "zerolinecolor": "rgb(36,36,36)"
          },
          "yaxis": {
           "automargin": true,
           "gridcolor": "rgb(232,232,232)",
           "linecolor": "rgb(36,36,36)",
           "showgrid": false,
           "showline": true,
           "ticks": "outside",
           "title": {
            "standoff": 15
           },
           "zeroline": false,
           "zerolinecolor": "rgb(36,36,36)"
          }
         }
        },
        "title": {
         "text": "Length: ggplot2 vs altair",
         "x": 0.5
        },
        "width": 500,
        "xaxis": {
         "anchor": "y",
         "domain": [
          0,
          1
         ],
         "dtick": 350,
         "range": [
          0,
          350
         ],
         "rangemode": "tozero",
         "title": {
          "text": "Length in altair"
         },
         "type": "linear"
        },
        "yaxis": {
         "anchor": "x",
         "constrain": "domain",
         "domain": [
          0.02777777777777779,
          0.9722222222222222
         ],
         "dtick": 350,
         "range": [
          0,
          350
         ],
         "rangemode": "tozero",
         "scaleanchor": "x",
         "scaleratio": 1,
         "title": {
          "text": "Length in ggplot2"
         },
         "type": "linear"
        }
       }
      }
     },
     "metadata": {},
     "output_type": "display_data"
    }
   ],
   "source": [
    "xn = \"altair\"\n",
    "yn = \"ggplot2\"\n",
    "distance = \"from_length\"\n",
    "fig = remoteness_scatter(gallery, xn, distance, yn, distance, from_spec, to_spec, None)\n",
    "fig.update_shapes(line_color=\"grey\", line_width=1)\n",
    "fig.update_yaxes(constrain=\"domain\")\n",
    "dtick = 350\n",
    "fig.update_xaxes(dtick=dtick, title=f\"Length in {xn}\", range=[0,dtick])\n",
    "fig.update_yaxes(dtick=dtick, title=f\"Length in {yn}\", range=[0,dtick])\n",
    "fig.update_layout(title=f\"Length: {yn} vs {xn}\", title_x=0.5)\n",
    "fig.show()\n",
    "fig.write_image(\"figs/altair-v-ggplot2_length.svg\")"
   ]
  },
  {
   "cell_type": "code",
   "execution_count": 71,
   "id": "7646255c",
   "metadata": {},
   "outputs": [],
   "source": [
    "\n",
    "\n",
    "for pair in [\n",
    "  [\"matplotlib\", \"pandas\"],\n",
    "  [\"vega-lite\", \"altair\"],\n",
    "  [\"ggplot2\", \"vega-lite\"],\n",
    "]:\n",
    "  figs[\"_v_\".join(reversed(pair))] = versus(pair[0], pair[1])"
   ]
  },
  {
   "cell_type": "code",
   "execution_count": 72,
   "id": "449b1755-7d63-444b-bef5-c0691ff0138c",
   "metadata": {},
   "outputs": [],
   "source": [
    "for k, v in figs.items():\n",
    "  v.write_image(f\"figs/{k}.pdf\")\n",
    "  v.write_image(f\"figs/{k}.svg\")"
   ]
  },
  {
   "cell_type": "code",
   "execution_count": 38,
   "id": "23ed4a03",
   "metadata": {},
   "outputs": [
    {
     "data": {
      "application/vnd.plotly.v1+json": {
       "config": {
        "plotlyServerURL": "https://plotly.com"
       },
       "data": [
        {
         "alignmentgroup": "True",
         "box": {
          "visible": false
         },
         "customdata": [
          [
           "area_colored"
          ],
          [
           "area_colored_stacked"
          ],
          [
           "bar_budget"
          ],
          [
           "bar_budget_avg"
          ],
          [
           "bar_budget_avg_colored"
          ],
          [
           "bar_count"
          ],
          [
           "bar_count_100"
          ],
          [
           "bar_count_colored"
          ],
          [
           "bar_count_horizontal"
          ],
          [
           "bar_count_ordered"
          ],
          [
           "bar_count_single"
          ],
          [
           "bar_time"
          ],
          [
           "box"
          ],
          [
           "box_colored"
          ],
          [
           "box_faceted"
          ],
          [
           "bubble"
          ],
          [
           "bubble_agg"
          ],
          [
           "dotplot"
          ],
          [
           "dotplot_avg"
          ],
          [
           "error_bar"
          ],
          [
           "heatmap_budget_avg"
          ],
          [
           "heatmap_count"
          ],
          [
           "histogram"
          ],
          [
           "histogram_colored"
          ],
          [
           "histogram_faceted"
          ],
          [
           "histogram_line"
          ],
          [
           "histogram_mean"
          ],
          [
           "line"
          ],
          [
           "line_colored"
          ],
          [
           "ols_separate"
          ],
          [
           "pie_count"
          ],
          [
           "scatter"
          ],
          [
           "scatter_colored"
          ],
          [
           "scatter_colored_continuous"
          ],
          [
           "scatter_colored_symbol"
          ],
          [
           "scatter_connected"
          ],
          [
           "scatter_ols_global"
          ],
          [
           "scatter_ols_separate"
          ],
          [
           "slope"
          ],
          [
           "stripes"
          ]
         ],
         "hoverinfo": "none",
         "hoveron": "points",
         "hovertemplate": "",
         "legendgroup": "altair",
         "line": {
          "width": 0
         },
         "marker": {
          "color": "#4c72b0"
         },
         "name": "altair",
         "offsetgroup": "altair",
         "orientation": "h",
         "pointpos": 0,
         "points": "all",
         "scalegroup": "True",
         "scalemode": "count",
         "showlegend": true,
         "spanmode": "hard",
         "type": "violin",
         "x": [
          71,
          92.5,
          58,
          59,
          71,
          65,
          72.5,
          56.5,
          67,
          66,
          61.5,
          63,
          58.5,
          71,
          85.5,
          69,
          75.5,
          65.5,
          57.5,
          78.5,
          63,
          59.5,
          61,
          63.5,
          89.5,
          61,
          66.5,
          60.5,
          71,
          93,
          65.5,
          58.5,
          60,
          63,
          70.5,
          84.5,
          94,
          108,
          61,
          65
         ],
         "x0": " ",
         "xaxis": "x",
         "y": [
          "altair",
          "altair",
          "altair",
          "altair",
          "altair",
          "altair",
          "altair",
          "altair",
          "altair",
          "altair",
          "altair",
          "altair",
          "altair",
          "altair",
          "altair",
          "altair",
          "altair",
          "altair",
          "altair",
          "altair",
          "altair",
          "altair",
          "altair",
          "altair",
          "altair",
          "altair",
          "altair",
          "altair",
          "altair",
          "altair",
          "altair",
          "altair",
          "altair",
          "altair",
          "altair",
          "altair",
          "altair",
          "altair",
          "altair",
          "altair"
         ],
         "y0": " ",
         "yaxis": "y"
        },
        {
         "alignmentgroup": "True",
         "box": {
          "visible": false
         },
         "customdata": [
          [
           "area_colored"
          ],
          [
           "area_colored_stacked"
          ],
          [
           "bar_budget"
          ],
          [
           "bar_budget_avg"
          ],
          [
           "bar_budget_avg_colored"
          ],
          [
           "bar_count"
          ],
          [
           "bar_count_100"
          ],
          [
           "bar_count_colored"
          ],
          [
           "bar_count_horizontal"
          ],
          [
           "bar_count_ordered"
          ],
          [
           "bar_count_single"
          ],
          [
           "bar_time"
          ],
          [
           "box"
          ],
          [
           "box_colored"
          ],
          [
           "box_faceted"
          ],
          [
           "bubble"
          ],
          [
           "bubble_agg"
          ],
          [
           "dotplot"
          ],
          [
           "dotplot_avg"
          ],
          [
           "error_bar"
          ],
          [
           "heatmap_budget_avg"
          ],
          [
           "heatmap_count"
          ],
          [
           "histogram"
          ],
          [
           "histogram_colored"
          ],
          [
           "histogram_faceted"
          ],
          [
           "histogram_line"
          ],
          [
           "histogram_mean"
          ],
          [
           "line"
          ],
          [
           "line_colored"
          ],
          [
           "ols_separate"
          ],
          [
           "pie_count"
          ],
          [
           "scatter"
          ],
          [
           "scatter_colored"
          ],
          [
           "scatter_colored_continuous"
          ],
          [
           "scatter_colored_symbol"
          ],
          [
           "scatter_connected"
          ],
          [
           "scatter_ols_global"
          ],
          [
           "scatter_ols_separate"
          ],
          [
           "slope"
          ],
          [
           "stripes"
          ]
         ],
         "hoverinfo": "none",
         "hoveron": "points",
         "hovertemplate": "",
         "legendgroup": "ggplot2",
         "line": {
          "width": 0
         },
         "marker": {
          "color": "#dd8452"
         },
         "name": "ggplot2",
         "offsetgroup": "ggplot2",
         "orientation": "h",
         "pointpos": 0,
         "points": "all",
         "scalegroup": "True",
         "scalemode": "count",
         "showlegend": true,
         "spanmode": "hard",
         "type": "violin",
         "x": [
          100,
          113,
          67.5,
          69,
          92,
          82,
          73,
          76.5,
          85.5,
          83,
          86.5,
          93.5,
          61.5,
          64,
          85,
          81,
          141.5,
          77.5,
          76,
          71.5,
          81.5,
          77.5,
          73.5,
          68,
          85.5,
          65.5,
          76.5,
          94,
          105,
          92,
          82.5,
          63.5,
          73,
          77.5,
          82,
          162.5,
          103,
          100,
          88,
          124
         ],
         "x0": " ",
         "xaxis": "x",
         "y": [
          "ggplot2",
          "ggplot2",
          "ggplot2",
          "ggplot2",
          "ggplot2",
          "ggplot2",
          "ggplot2",
          "ggplot2",
          "ggplot2",
          "ggplot2",
          "ggplot2",
          "ggplot2",
          "ggplot2",
          "ggplot2",
          "ggplot2",
          "ggplot2",
          "ggplot2",
          "ggplot2",
          "ggplot2",
          "ggplot2",
          "ggplot2",
          "ggplot2",
          "ggplot2",
          "ggplot2",
          "ggplot2",
          "ggplot2",
          "ggplot2",
          "ggplot2",
          "ggplot2",
          "ggplot2",
          "ggplot2",
          "ggplot2",
          "ggplot2",
          "ggplot2",
          "ggplot2",
          "ggplot2",
          "ggplot2",
          "ggplot2",
          "ggplot2",
          "ggplot2"
         ],
         "y0": " ",
         "yaxis": "y"
        },
        {
         "alignmentgroup": "True",
         "box": {
          "visible": false
         },
         "customdata": [
          [
           "area_colored"
          ],
          [
           "area_colored_stacked"
          ],
          [
           "bar_budget"
          ],
          [
           "bar_budget_avg"
          ],
          [
           "bar_budget_avg_colored"
          ],
          [
           "bar_count"
          ],
          [
           "bar_count_100"
          ],
          [
           "bar_count_colored"
          ],
          [
           "bar_count_horizontal"
          ],
          [
           "bar_count_ordered"
          ],
          [
           "bar_count_single"
          ],
          [
           "bar_time"
          ],
          [
           "box"
          ],
          [
           "box_colored"
          ],
          [
           "box_faceted"
          ],
          [
           "bubble"
          ],
          [
           "bubble_agg"
          ],
          [
           "dotplot"
          ],
          [
           "dotplot_avg"
          ],
          [
           "error_bar"
          ],
          [
           "heatmap_budget_avg"
          ],
          [
           "heatmap_count"
          ],
          [
           "histogram"
          ],
          [
           "histogram_colored"
          ],
          [
           "histogram_faceted"
          ],
          [
           "histogram_line"
          ],
          [
           "histogram_mean"
          ],
          [
           "line"
          ],
          [
           "line_colored"
          ],
          [
           "ols_separate"
          ],
          [
           "pie_count"
          ],
          [
           "scatter"
          ],
          [
           "scatter_colored"
          ],
          [
           "scatter_colored_continuous"
          ],
          [
           "scatter_colored_symbol"
          ],
          [
           "scatter_connected"
          ],
          [
           "scatter_ols_global"
          ],
          [
           "scatter_ols_separate"
          ],
          [
           "slope"
          ],
          [
           "stripes"
          ]
         ],
         "hoverinfo": "none",
         "hoveron": "points",
         "hovertemplate": "",
         "legendgroup": "matplotlib",
         "line": {
          "width": 0
         },
         "marker": {
          "color": "#55a868"
         },
         "name": "matplotlib",
         "offsetgroup": "matplotlib",
         "orientation": "h",
         "pointpos": 0,
         "points": "all",
         "scalegroup": "True",
         "scalemode": "count",
         "showlegend": true,
         "spanmode": "hard",
         "type": "violin",
         "x": [
          221,
          247.5,
          154.5,
          155,
          281.5,
          169,
          204,
          179.5,
          167.5,
          171,
          164.5,
          157,
          160.5,
          429.5,
          503,
          175.5,
          192.5,
          168,
          161,
          165.5,
          205.5,
          182,
          177.5,
          160,
          352.5,
          165.5,
          191,
          157,
          188,
          265.5,
          172.5,
          163.5,
          164.5,
          155,
          383,
          163,
          294.5,
          281,
          181,
          195.5
         ],
         "x0": " ",
         "xaxis": "x",
         "y": [
          "matplotlib",
          "matplotlib",
          "matplotlib",
          "matplotlib",
          "matplotlib",
          "matplotlib",
          "matplotlib",
          "matplotlib",
          "matplotlib",
          "matplotlib",
          "matplotlib",
          "matplotlib",
          "matplotlib",
          "matplotlib",
          "matplotlib",
          "matplotlib",
          "matplotlib",
          "matplotlib",
          "matplotlib",
          "matplotlib",
          "matplotlib",
          "matplotlib",
          "matplotlib",
          "matplotlib",
          "matplotlib",
          "matplotlib",
          "matplotlib",
          "matplotlib",
          "matplotlib",
          "matplotlib",
          "matplotlib",
          "matplotlib",
          "matplotlib",
          "matplotlib",
          "matplotlib",
          "matplotlib",
          "matplotlib",
          "matplotlib",
          "matplotlib",
          "matplotlib"
         ],
         "y0": " ",
         "yaxis": "y"
        },
        {
         "alignmentgroup": "True",
         "box": {
          "visible": false
         },
         "customdata": [
          [
           "area_colored"
          ],
          [
           "area_colored_stacked"
          ],
          [
           "bar_budget"
          ],
          [
           "bar_budget_avg"
          ],
          [
           "bar_budget_avg_colored"
          ],
          [
           "bar_count"
          ],
          [
           "bar_count_100"
          ],
          [
           "bar_count_colored"
          ],
          [
           "bar_count_horizontal"
          ],
          [
           "bar_count_ordered"
          ],
          [
           "bar_count_single"
          ],
          [
           "bar_time"
          ],
          [
           "box"
          ],
          [
           "box_colored"
          ],
          [
           "box_faceted"
          ],
          [
           "bubble"
          ],
          [
           "bubble_agg"
          ],
          [
           "dotplot"
          ],
          [
           "dotplot_avg"
          ],
          [
           "error_bar"
          ],
          [
           "heatmap_budget_avg"
          ],
          [
           "heatmap_count"
          ],
          [
           "histogram"
          ],
          [
           "histogram_colored"
          ],
          [
           "histogram_faceted"
          ],
          [
           "histogram_line"
          ],
          [
           "histogram_mean"
          ],
          [
           "line"
          ],
          [
           "line_colored"
          ],
          [
           "ols_separate"
          ],
          [
           "pie_count"
          ],
          [
           "scatter"
          ],
          [
           "scatter_colored"
          ],
          [
           "scatter_colored_continuous"
          ],
          [
           "scatter_colored_symbol"
          ],
          [
           "scatter_connected"
          ],
          [
           "scatter_ols_global"
          ],
          [
           "scatter_ols_separate"
          ],
          [
           "slope"
          ],
          [
           "stripes"
          ]
         ],
         "hoverinfo": "none",
         "hoveron": "points",
         "hovertemplate": "",
         "legendgroup": "pandas",
         "line": {
          "width": 0
         },
         "marker": {
          "color": "#c44e52"
         },
         "name": "pandas",
         "offsetgroup": "pandas",
         "orientation": "h",
         "pointpos": 0,
         "points": "all",
         "scalegroup": "True",
         "scalemode": "count",
         "showlegend": true,
         "spanmode": "hard",
         "type": "violin",
         "x": [
          165,
          206,
          101,
          102,
          98,
          114.5,
          122,
          102.5,
          114.5,
          115,
          116.5,
          110,
          106.5,
          481,
          546.5,
          231.5,
          243.5,
          108,
          102.5,
          113,
          256,
          222,
          122,
          198.5,
          393.5,
          111,
          241.5,
          109.5,
          157,
          323.5,
          115,
          121.5,
          207.5,
          119.5,
          440.5,
          158.5,
          352,
          339,
          116.5,
          240.5
         ],
         "x0": " ",
         "xaxis": "x",
         "y": [
          "pandas",
          "pandas",
          "pandas",
          "pandas",
          "pandas",
          "pandas",
          "pandas",
          "pandas",
          "pandas",
          "pandas",
          "pandas",
          "pandas",
          "pandas",
          "pandas",
          "pandas",
          "pandas",
          "pandas",
          "pandas",
          "pandas",
          "pandas",
          "pandas",
          "pandas",
          "pandas",
          "pandas",
          "pandas",
          "pandas",
          "pandas",
          "pandas",
          "pandas",
          "pandas",
          "pandas",
          "pandas",
          "pandas",
          "pandas",
          "pandas",
          "pandas",
          "pandas",
          "pandas",
          "pandas",
          "pandas"
         ],
         "y0": " ",
         "yaxis": "y"
        },
        {
         "alignmentgroup": "True",
         "box": {
          "visible": false
         },
         "customdata": [
          [
           "area_colored"
          ],
          [
           "area_colored_stacked"
          ],
          [
           "bar_budget"
          ],
          [
           "bar_budget_avg"
          ],
          [
           "bar_budget_avg_colored"
          ],
          [
           "bar_count"
          ],
          [
           "bar_count_100"
          ],
          [
           "bar_count_colored"
          ],
          [
           "bar_count_horizontal"
          ],
          [
           "bar_count_ordered"
          ],
          [
           "bar_count_single"
          ],
          [
           "bar_time"
          ],
          [
           "box"
          ],
          [
           "box_colored"
          ],
          [
           "box_faceted"
          ],
          [
           "bubble"
          ],
          [
           "bubble_agg"
          ],
          [
           "dotplot"
          ],
          [
           "dotplot_avg"
          ],
          [
           "error_bar"
          ],
          [
           "heatmap_budget_avg"
          ],
          [
           "heatmap_count"
          ],
          [
           "histogram"
          ],
          [
           "histogram_colored"
          ],
          [
           "histogram_faceted"
          ],
          [
           "histogram_line"
          ],
          [
           "histogram_mean"
          ],
          [
           "line"
          ],
          [
           "line_colored"
          ],
          [
           "ols_separate"
          ],
          [
           "pie_count"
          ],
          [
           "scatter"
          ],
          [
           "scatter_colored"
          ],
          [
           "scatter_colored_continuous"
          ],
          [
           "scatter_colored_symbol"
          ],
          [
           "scatter_connected"
          ],
          [
           "scatter_ols_global"
          ],
          [
           "scatter_ols_separate"
          ],
          [
           "slope"
          ],
          [
           "stripes"
          ]
         ],
         "hoverinfo": "none",
         "hoveron": "points",
         "hovertemplate": "",
         "legendgroup": "plotly_express",
         "line": {
          "width": 0
         },
         "marker": {
          "color": "#8172b3"
         },
         "name": "plotly_express",
         "offsetgroup": "plotly_express",
         "orientation": "h",
         "pointpos": 0,
         "points": "all",
         "scalegroup": "True",
         "scalemode": "count",
         "showlegend": true,
         "spanmode": "hard",
         "type": "violin",
         "x": [
          143,
          158.5,
          62.5,
          61,
          84.5,
          78.5,
          69,
          67.5,
          81.5,
          80.5,
          76,
          83,
          68.5,
          63,
          80.5,
          98.5,
          122,
          86,
          89,
          110.5,
          83.5,
          74,
          77,
          61.5,
          74,
          145,
          68,
          131.5,
          141.5,
          146.5,
          87.5,
          68,
          67.5,
          76,
          82,
          136.5,
          99.5,
          80,
          101.5,
          142
         ],
         "x0": " ",
         "xaxis": "x",
         "y": [
          "plotly_express",
          "plotly_express",
          "plotly_express",
          "plotly_express",
          "plotly_express",
          "plotly_express",
          "plotly_express",
          "plotly_express",
          "plotly_express",
          "plotly_express",
          "plotly_express",
          "plotly_express",
          "plotly_express",
          "plotly_express",
          "plotly_express",
          "plotly_express",
          "plotly_express",
          "plotly_express",
          "plotly_express",
          "plotly_express",
          "plotly_express",
          "plotly_express",
          "plotly_express",
          "plotly_express",
          "plotly_express",
          "plotly_express",
          "plotly_express",
          "plotly_express",
          "plotly_express",
          "plotly_express",
          "plotly_express",
          "plotly_express",
          "plotly_express",
          "plotly_express",
          "plotly_express",
          "plotly_express",
          "plotly_express",
          "plotly_express",
          "plotly_express",
          "plotly_express"
         ],
         "y0": " ",
         "yaxis": "y"
        },
        {
         "alignmentgroup": "True",
         "box": {
          "visible": false
         },
         "customdata": [
          [
           "area_colored"
          ],
          [
           "area_colored_stacked"
          ],
          [
           "bar_budget"
          ],
          [
           "bar_budget_avg"
          ],
          [
           "bar_budget_avg_colored"
          ],
          [
           "bar_count"
          ],
          [
           "bar_count_100"
          ],
          [
           "bar_count_colored"
          ],
          [
           "bar_count_horizontal"
          ],
          [
           "bar_count_ordered"
          ],
          [
           "bar_count_single"
          ],
          [
           "bar_time"
          ],
          [
           "box"
          ],
          [
           "box_colored"
          ],
          [
           "box_faceted"
          ],
          [
           "bubble"
          ],
          [
           "bubble_agg"
          ],
          [
           "dotplot"
          ],
          [
           "dotplot_avg"
          ],
          [
           "error_bar"
          ],
          [
           "heatmap_budget_avg"
          ],
          [
           "heatmap_count"
          ],
          [
           "histogram"
          ],
          [
           "histogram_colored"
          ],
          [
           "histogram_faceted"
          ],
          [
           "histogram_line"
          ],
          [
           "histogram_mean"
          ],
          [
           "line"
          ],
          [
           "line_colored"
          ],
          [
           "ols_separate"
          ],
          [
           "pie_count"
          ],
          [
           "scatter"
          ],
          [
           "scatter_colored"
          ],
          [
           "scatter_colored_continuous"
          ],
          [
           "scatter_colored_symbol"
          ],
          [
           "scatter_connected"
          ],
          [
           "scatter_ols_global"
          ],
          [
           "scatter_ols_separate"
          ],
          [
           "slope"
          ],
          [
           "stripes"
          ]
         ],
         "hoverinfo": "none",
         "hoveron": "points",
         "hovertemplate": "",
         "legendgroup": "plotly_go",
         "line": {
          "width": 0
         },
         "marker": {
          "color": "#937860"
         },
         "name": "plotly_go",
         "offsetgroup": "plotly_go",
         "orientation": "h",
         "pointpos": 0,
         "points": "all",
         "scalegroup": "True",
         "scalemode": "count",
         "showlegend": true,
         "spanmode": "hard",
         "type": "violin",
         "x": [
          245,
          265,
          138,
          138,
          137,
          156,
          157.5,
          140.5,
          157.5,
          146.5,
          179,
          158,
          150.5,
          150.5,
          396,
          184.5,
          200.5,
          129,
          127,
          154,
          137,
          145,
          151,
          153,
          425,
          175.5,
          146.5,
          144.5,
          222.5,
          313.5,
          157,
          139.5,
          160,
          133,
          456.5,
          172,
          305.5,
          394.5,
          189,
          163.5
         ],
         "x0": " ",
         "xaxis": "x",
         "y": [
          "plotly_go",
          "plotly_go",
          "plotly_go",
          "plotly_go",
          "plotly_go",
          "plotly_go",
          "plotly_go",
          "plotly_go",
          "plotly_go",
          "plotly_go",
          "plotly_go",
          "plotly_go",
          "plotly_go",
          "plotly_go",
          "plotly_go",
          "plotly_go",
          "plotly_go",
          "plotly_go",
          "plotly_go",
          "plotly_go",
          "plotly_go",
          "plotly_go",
          "plotly_go",
          "plotly_go",
          "plotly_go",
          "plotly_go",
          "plotly_go",
          "plotly_go",
          "plotly_go",
          "plotly_go",
          "plotly_go",
          "plotly_go",
          "plotly_go",
          "plotly_go",
          "plotly_go",
          "plotly_go",
          "plotly_go",
          "plotly_go",
          "plotly_go",
          "plotly_go"
         ],
         "y0": " ",
         "yaxis": "y"
        },
        {
         "alignmentgroup": "True",
         "box": {
          "visible": false
         },
         "customdata": [
          [
           "area_colored"
          ],
          [
           "area_colored_stacked"
          ],
          [
           "bar_budget"
          ],
          [
           "bar_budget_avg"
          ],
          [
           "bar_budget_avg_colored"
          ],
          [
           "bar_count"
          ],
          [
           "bar_count_100"
          ],
          [
           "bar_count_colored"
          ],
          [
           "bar_count_horizontal"
          ],
          [
           "bar_count_ordered"
          ],
          [
           "bar_count_single"
          ],
          [
           "bar_time"
          ],
          [
           "box"
          ],
          [
           "box_colored"
          ],
          [
           "box_faceted"
          ],
          [
           "bubble"
          ],
          [
           "bubble_agg"
          ],
          [
           "dotplot"
          ],
          [
           "dotplot_avg"
          ],
          [
           "error_bar"
          ],
          [
           "heatmap_budget_avg"
          ],
          [
           "heatmap_count"
          ],
          [
           "histogram"
          ],
          [
           "histogram_colored"
          ],
          [
           "histogram_faceted"
          ],
          [
           "histogram_line"
          ],
          [
           "histogram_mean"
          ],
          [
           "line"
          ],
          [
           "line_colored"
          ],
          [
           "ols_separate"
          ],
          [
           "pie_count"
          ],
          [
           "scatter"
          ],
          [
           "scatter_colored"
          ],
          [
           "scatter_colored_continuous"
          ],
          [
           "scatter_colored_symbol"
          ],
          [
           "scatter_connected"
          ],
          [
           "scatter_ols_global"
          ],
          [
           "scatter_ols_separate"
          ],
          [
           "slope"
          ],
          [
           "stripes"
          ]
         ],
         "hoverinfo": "none",
         "hoveron": "points",
         "hovertemplate": "",
         "legendgroup": "seaborn",
         "line": {
          "width": 0
         },
         "marker": {
          "color": "#da8bc3"
         },
         "name": "seaborn",
         "offsetgroup": "seaborn",
         "orientation": "h",
         "pointpos": 0,
         "points": "all",
         "scalegroup": "True",
         "scalemode": "count",
         "showlegend": true,
         "spanmode": "hard",
         "type": "violin",
         "x": [
          125.5,
          124,
          77.5,
          78.5,
          86,
          76,
          73,
          73,
          80,
          78,
          84.5,
          93.5,
          65,
          60.5,
          74,
          75,
          118,
          91.5,
          75.5,
          75.5,
          95.5,
          79,
          79.5,
          73,
          73.5,
          75.5,
          161.5,
          121.5,
          134,
          80,
          122,
          74,
          72.5,
          74,
          73.5,
          169,
          91,
          74.5,
          70,
          97
         ],
         "x0": " ",
         "xaxis": "x",
         "y": [
          "seaborn",
          "seaborn",
          "seaborn",
          "seaborn",
          "seaborn",
          "seaborn",
          "seaborn",
          "seaborn",
          "seaborn",
          "seaborn",
          "seaborn",
          "seaborn",
          "seaborn",
          "seaborn",
          "seaborn",
          "seaborn",
          "seaborn",
          "seaborn",
          "seaborn",
          "seaborn",
          "seaborn",
          "seaborn",
          "seaborn",
          "seaborn",
          "seaborn",
          "seaborn",
          "seaborn",
          "seaborn",
          "seaborn",
          "seaborn",
          "seaborn",
          "seaborn",
          "seaborn",
          "seaborn",
          "seaborn",
          "seaborn",
          "seaborn",
          "seaborn",
          "seaborn",
          "seaborn"
         ],
         "y0": " ",
         "yaxis": "y"
        },
        {
         "alignmentgroup": "True",
         "box": {
          "visible": false
         },
         "customdata": [
          [
           "area_colored"
          ],
          [
           "area_colored_stacked"
          ],
          [
           "bar_budget"
          ],
          [
           "bar_budget_avg"
          ],
          [
           "bar_budget_avg_colored"
          ],
          [
           "bar_count"
          ],
          [
           "bar_count_100"
          ],
          [
           "bar_count_colored"
          ],
          [
           "bar_count_horizontal"
          ],
          [
           "bar_count_ordered"
          ],
          [
           "bar_count_single"
          ],
          [
           "bar_time"
          ],
          [
           "box"
          ],
          [
           "box_colored"
          ],
          [
           "box_faceted"
          ],
          [
           "bubble"
          ],
          [
           "bubble_agg"
          ],
          [
           "dotplot"
          ],
          [
           "dotplot_avg"
          ],
          [
           "error_bar"
          ],
          [
           "heatmap_budget_avg"
          ],
          [
           "heatmap_count"
          ],
          [
           "histogram"
          ],
          [
           "histogram_colored"
          ],
          [
           "histogram_faceted"
          ],
          [
           "histogram_line"
          ],
          [
           "histogram_mean"
          ],
          [
           "line"
          ],
          [
           "line_colored"
          ],
          [
           "ols_separate"
          ],
          [
           "pie_count"
          ],
          [
           "scatter"
          ],
          [
           "scatter_colored"
          ],
          [
           "scatter_colored_continuous"
          ],
          [
           "scatter_colored_symbol"
          ],
          [
           "scatter_connected"
          ],
          [
           "scatter_ols_global"
          ],
          [
           "scatter_ols_separate"
          ],
          [
           "slope"
          ],
          [
           "stripes"
          ]
         ],
         "hoverinfo": "none",
         "hoveron": "points",
         "hovertemplate": "",
         "legendgroup": "seaborn_obj",
         "line": {
          "width": 0
         },
         "marker": {
          "color": "#8c8c8c"
         },
         "name": "seaborn_obj",
         "offsetgroup": "seaborn_obj",
         "orientation": "h",
         "pointpos": 0,
         "points": "all",
         "scalegroup": "True",
         "scalemode": "count",
         "showlegend": true,
         "spanmode": "hard",
         "type": "violin",
         "x": [
          118,
          138,
          69.5,
          69.5,
          76,
          84.5,
          95,
          71,
          81.5,
          94,
          83.5,
          101,
          93,
          89,
          98,
          81,
          123,
          84.5,
          71.5,
          84.5,
          112,
          99.5,
          75.5,
          70.5,
          90,
          75,
          146.5,
          102.5,
          109,
          78.5,
          127.5,
          68.5,
          75.5,
          78,
          83,
          139,
          84.5,
          79.5,
          65.5,
          135
         ],
         "x0": " ",
         "xaxis": "x",
         "y": [
          "seaborn_obj",
          "seaborn_obj",
          "seaborn_obj",
          "seaborn_obj",
          "seaborn_obj",
          "seaborn_obj",
          "seaborn_obj",
          "seaborn_obj",
          "seaborn_obj",
          "seaborn_obj",
          "seaborn_obj",
          "seaborn_obj",
          "seaborn_obj",
          "seaborn_obj",
          "seaborn_obj",
          "seaborn_obj",
          "seaborn_obj",
          "seaborn_obj",
          "seaborn_obj",
          "seaborn_obj",
          "seaborn_obj",
          "seaborn_obj",
          "seaborn_obj",
          "seaborn_obj",
          "seaborn_obj",
          "seaborn_obj",
          "seaborn_obj",
          "seaborn_obj",
          "seaborn_obj",
          "seaborn_obj",
          "seaborn_obj",
          "seaborn_obj",
          "seaborn_obj",
          "seaborn_obj",
          "seaborn_obj",
          "seaborn_obj",
          "seaborn_obj",
          "seaborn_obj",
          "seaborn_obj",
          "seaborn_obj"
         ],
         "y0": " ",
         "yaxis": "y"
        },
        {
         "alignmentgroup": "True",
         "box": {
          "visible": false
         },
         "customdata": [
          [
           "area_colored"
          ],
          [
           "area_colored_stacked"
          ],
          [
           "bar_budget"
          ],
          [
           "bar_budget_avg"
          ],
          [
           "bar_budget_avg_colored"
          ],
          [
           "bar_count"
          ],
          [
           "bar_count_100"
          ],
          [
           "bar_count_colored"
          ],
          [
           "bar_count_horizontal"
          ],
          [
           "bar_count_ordered"
          ],
          [
           "bar_count_single"
          ],
          [
           "bar_time"
          ],
          [
           "box"
          ],
          [
           "box_colored"
          ],
          [
           "box_faceted"
          ],
          [
           "bubble"
          ],
          [
           "bubble_agg"
          ],
          [
           "dotplot"
          ],
          [
           "dotplot_avg"
          ],
          [
           "error_bar"
          ],
          [
           "heatmap_budget_avg"
          ],
          [
           "heatmap_count"
          ],
          [
           "histogram"
          ],
          [
           "histogram_colored"
          ],
          [
           "histogram_faceted"
          ],
          [
           "histogram_line"
          ],
          [
           "histogram_mean"
          ],
          [
           "line"
          ],
          [
           "line_colored"
          ],
          [
           "ols_separate"
          ],
          [
           "pie_count"
          ],
          [
           "scatter"
          ],
          [
           "scatter_colored"
          ],
          [
           "scatter_colored_continuous"
          ],
          [
           "scatter_colored_symbol"
          ],
          [
           "scatter_connected"
          ],
          [
           "scatter_ols_global"
          ],
          [
           "scatter_ols_separate"
          ],
          [
           "slope"
          ],
          [
           "stripes"
          ]
         ],
         "hoverinfo": "none",
         "hoveron": "points",
         "hovertemplate": "",
         "legendgroup": "vega-lite",
         "line": {
          "width": 0
         },
         "marker": {
          "color": "#ccb974"
         },
         "name": "vega-lite",
         "offsetgroup": "vega-lite",
         "orientation": "h",
         "pointpos": 0,
         "points": "all",
         "scalegroup": "True",
         "scalemode": "count",
         "showlegend": true,
         "spanmode": "hard",
         "type": "violin",
         "x": [
          87.5,
          103,
          62.5,
          65,
          76,
          72,
          72.5,
          72.5,
          77,
          72.5,
          77.5,
          77.5,
          72,
          87.5,
          98.5,
          100,
          86.5,
          75.5,
          68.5,
          101,
          73,
          76.5,
          72.5,
          71.5,
          89.5,
          71.5,
          76,
          79,
          87.5,
          141,
          80,
          77.5,
          83.5,
          91.5,
          95.5,
          107,
          145,
          161,
          70,
          83.5
         ],
         "x0": " ",
         "xaxis": "x",
         "y": [
          "vega-lite",
          "vega-lite",
          "vega-lite",
          "vega-lite",
          "vega-lite",
          "vega-lite",
          "vega-lite",
          "vega-lite",
          "vega-lite",
          "vega-lite",
          "vega-lite",
          "vega-lite",
          "vega-lite",
          "vega-lite",
          "vega-lite",
          "vega-lite",
          "vega-lite",
          "vega-lite",
          "vega-lite",
          "vega-lite",
          "vega-lite",
          "vega-lite",
          "vega-lite",
          "vega-lite",
          "vega-lite",
          "vega-lite",
          "vega-lite",
          "vega-lite",
          "vega-lite",
          "vega-lite",
          "vega-lite",
          "vega-lite",
          "vega-lite",
          "vega-lite",
          "vega-lite",
          "vega-lite",
          "vega-lite",
          "vega-lite",
          "vega-lite",
          "vega-lite"
         ],
         "y0": " ",
         "yaxis": "y"
        }
       ],
       "layout": {
        "height": 800,
        "legend": {
         "title": {
          "text": "notation"
         },
         "tracegroupgap": 0
        },
        "showlegend": false,
        "template": {
         "data": {
          "bar": [
           {
            "error_x": {
             "color": "rgb(36,36,36)"
            },
            "error_y": {
             "color": "rgb(36,36,36)"
            },
            "marker": {
             "line": {
              "color": "white",
              "width": 0.5
             },
             "pattern": {
              "fillmode": "overlay",
              "size": 10,
              "solidity": 0.2
             }
            },
            "type": "bar"
           }
          ],
          "barpolar": [
           {
            "marker": {
             "line": {
              "color": "white",
              "width": 0.5
             },
             "pattern": {
              "fillmode": "overlay",
              "size": 10,
              "solidity": 0.2
             }
            },
            "type": "barpolar"
           }
          ],
          "carpet": [
           {
            "aaxis": {
             "endlinecolor": "rgb(36,36,36)",
             "gridcolor": "white",
             "linecolor": "white",
             "minorgridcolor": "white",
             "startlinecolor": "rgb(36,36,36)"
            },
            "baxis": {
             "endlinecolor": "rgb(36,36,36)",
             "gridcolor": "white",
             "linecolor": "white",
             "minorgridcolor": "white",
             "startlinecolor": "rgb(36,36,36)"
            },
            "type": "carpet"
           }
          ],
          "choropleth": [
           {
            "colorbar": {
             "outlinewidth": 1,
             "tickcolor": "rgb(36,36,36)",
             "ticks": "outside"
            },
            "type": "choropleth"
           }
          ],
          "contour": [
           {
            "colorbar": {
             "outlinewidth": 1,
             "tickcolor": "rgb(36,36,36)",
             "ticks": "outside"
            },
            "colorscale": [
             [
              0,
              "#440154"
             ],
             [
              0.1111111111111111,
              "#482878"
             ],
             [
              0.2222222222222222,
              "#3e4989"
             ],
             [
              0.3333333333333333,
              "#31688e"
             ],
             [
              0.4444444444444444,
              "#26828e"
             ],
             [
              0.5555555555555556,
              "#1f9e89"
             ],
             [
              0.6666666666666666,
              "#35b779"
             ],
             [
              0.7777777777777778,
              "#6ece58"
             ],
             [
              0.8888888888888888,
              "#b5de2b"
             ],
             [
              1,
              "#fde725"
             ]
            ],
            "type": "contour"
           }
          ],
          "contourcarpet": [
           {
            "colorbar": {
             "outlinewidth": 1,
             "tickcolor": "rgb(36,36,36)",
             "ticks": "outside"
            },
            "type": "contourcarpet"
           }
          ],
          "heatmap": [
           {
            "colorbar": {
             "outlinewidth": 1,
             "tickcolor": "rgb(36,36,36)",
             "ticks": "outside"
            },
            "colorscale": [
             [
              0,
              "#440154"
             ],
             [
              0.1111111111111111,
              "#482878"
             ],
             [
              0.2222222222222222,
              "#3e4989"
             ],
             [
              0.3333333333333333,
              "#31688e"
             ],
             [
              0.4444444444444444,
              "#26828e"
             ],
             [
              0.5555555555555556,
              "#1f9e89"
             ],
             [
              0.6666666666666666,
              "#35b779"
             ],
             [
              0.7777777777777778,
              "#6ece58"
             ],
             [
              0.8888888888888888,
              "#b5de2b"
             ],
             [
              1,
              "#fde725"
             ]
            ],
            "type": "heatmap"
           }
          ],
          "heatmapgl": [
           {
            "colorbar": {
             "outlinewidth": 1,
             "tickcolor": "rgb(36,36,36)",
             "ticks": "outside"
            },
            "colorscale": [
             [
              0,
              "#440154"
             ],
             [
              0.1111111111111111,
              "#482878"
             ],
             [
              0.2222222222222222,
              "#3e4989"
             ],
             [
              0.3333333333333333,
              "#31688e"
             ],
             [
              0.4444444444444444,
              "#26828e"
             ],
             [
              0.5555555555555556,
              "#1f9e89"
             ],
             [
              0.6666666666666666,
              "#35b779"
             ],
             [
              0.7777777777777778,
              "#6ece58"
             ],
             [
              0.8888888888888888,
              "#b5de2b"
             ],
             [
              1,
              "#fde725"
             ]
            ],
            "type": "heatmapgl"
           }
          ],
          "histogram": [
           {
            "marker": {
             "line": {
              "color": "white",
              "width": 0.6
             }
            },
            "type": "histogram"
           }
          ],
          "histogram2d": [
           {
            "colorbar": {
             "outlinewidth": 1,
             "tickcolor": "rgb(36,36,36)",
             "ticks": "outside"
            },
            "colorscale": [
             [
              0,
              "#440154"
             ],
             [
              0.1111111111111111,
              "#482878"
             ],
             [
              0.2222222222222222,
              "#3e4989"
             ],
             [
              0.3333333333333333,
              "#31688e"
             ],
             [
              0.4444444444444444,
              "#26828e"
             ],
             [
              0.5555555555555556,
              "#1f9e89"
             ],
             [
              0.6666666666666666,
              "#35b779"
             ],
             [
              0.7777777777777778,
              "#6ece58"
             ],
             [
              0.8888888888888888,
              "#b5de2b"
             ],
             [
              1,
              "#fde725"
             ]
            ],
            "type": "histogram2d"
           }
          ],
          "histogram2dcontour": [
           {
            "colorbar": {
             "outlinewidth": 1,
             "tickcolor": "rgb(36,36,36)",
             "ticks": "outside"
            },
            "colorscale": [
             [
              0,
              "#440154"
             ],
             [
              0.1111111111111111,
              "#482878"
             ],
             [
              0.2222222222222222,
              "#3e4989"
             ],
             [
              0.3333333333333333,
              "#31688e"
             ],
             [
              0.4444444444444444,
              "#26828e"
             ],
             [
              0.5555555555555556,
              "#1f9e89"
             ],
             [
              0.6666666666666666,
              "#35b779"
             ],
             [
              0.7777777777777778,
              "#6ece58"
             ],
             [
              0.8888888888888888,
              "#b5de2b"
             ],
             [
              1,
              "#fde725"
             ]
            ],
            "type": "histogram2dcontour"
           }
          ],
          "mesh3d": [
           {
            "colorbar": {
             "outlinewidth": 1,
             "tickcolor": "rgb(36,36,36)",
             "ticks": "outside"
            },
            "type": "mesh3d"
           }
          ],
          "parcoords": [
           {
            "line": {
             "colorbar": {
              "outlinewidth": 1,
              "tickcolor": "rgb(36,36,36)",
              "ticks": "outside"
             }
            },
            "type": "parcoords"
           }
          ],
          "pie": [
           {
            "automargin": true,
            "type": "pie"
           }
          ],
          "scatter": [
           {
            "fillpattern": {
             "fillmode": "overlay",
             "size": 10,
             "solidity": 0.2
            },
            "type": "scatter"
           }
          ],
          "scatter3d": [
           {
            "line": {
             "colorbar": {
              "outlinewidth": 1,
              "tickcolor": "rgb(36,36,36)",
              "ticks": "outside"
             }
            },
            "marker": {
             "colorbar": {
              "outlinewidth": 1,
              "tickcolor": "rgb(36,36,36)",
              "ticks": "outside"
             }
            },
            "type": "scatter3d"
           }
          ],
          "scattercarpet": [
           {
            "marker": {
             "colorbar": {
              "outlinewidth": 1,
              "tickcolor": "rgb(36,36,36)",
              "ticks": "outside"
             }
            },
            "type": "scattercarpet"
           }
          ],
          "scattergeo": [
           {
            "marker": {
             "colorbar": {
              "outlinewidth": 1,
              "tickcolor": "rgb(36,36,36)",
              "ticks": "outside"
             }
            },
            "type": "scattergeo"
           }
          ],
          "scattergl": [
           {
            "marker": {
             "colorbar": {
              "outlinewidth": 1,
              "tickcolor": "rgb(36,36,36)",
              "ticks": "outside"
             }
            },
            "type": "scattergl"
           }
          ],
          "scattermapbox": [
           {
            "marker": {
             "colorbar": {
              "outlinewidth": 1,
              "tickcolor": "rgb(36,36,36)",
              "ticks": "outside"
             }
            },
            "type": "scattermapbox"
           }
          ],
          "scatterpolar": [
           {
            "marker": {
             "colorbar": {
              "outlinewidth": 1,
              "tickcolor": "rgb(36,36,36)",
              "ticks": "outside"
             }
            },
            "type": "scatterpolar"
           }
          ],
          "scatterpolargl": [
           {
            "marker": {
             "colorbar": {
              "outlinewidth": 1,
              "tickcolor": "rgb(36,36,36)",
              "ticks": "outside"
             }
            },
            "type": "scatterpolargl"
           }
          ],
          "scatterternary": [
           {
            "marker": {
             "colorbar": {
              "outlinewidth": 1,
              "tickcolor": "rgb(36,36,36)",
              "ticks": "outside"
             }
            },
            "type": "scatterternary"
           }
          ],
          "surface": [
           {
            "colorbar": {
             "outlinewidth": 1,
             "tickcolor": "rgb(36,36,36)",
             "ticks": "outside"
            },
            "colorscale": [
             [
              0,
              "#440154"
             ],
             [
              0.1111111111111111,
              "#482878"
             ],
             [
              0.2222222222222222,
              "#3e4989"
             ],
             [
              0.3333333333333333,
              "#31688e"
             ],
             [
              0.4444444444444444,
              "#26828e"
             ],
             [
              0.5555555555555556,
              "#1f9e89"
             ],
             [
              0.6666666666666666,
              "#35b779"
             ],
             [
              0.7777777777777778,
              "#6ece58"
             ],
             [
              0.8888888888888888,
              "#b5de2b"
             ],
             [
              1,
              "#fde725"
             ]
            ],
            "type": "surface"
           }
          ],
          "table": [
           {
            "cells": {
             "fill": {
              "color": "rgb(237,237,237)"
             },
             "line": {
              "color": "white"
             }
            },
            "header": {
             "fill": {
              "color": "rgb(217,217,217)"
             },
             "line": {
              "color": "white"
             }
            },
            "type": "table"
           }
          ]
         },
         "layout": {
          "annotationdefaults": {
           "arrowhead": 0,
           "arrowwidth": 1
          },
          "autotypenumbers": "strict",
          "coloraxis": {
           "colorbar": {
            "outlinewidth": 1,
            "tickcolor": "rgb(36,36,36)",
            "ticks": "outside"
           }
          },
          "colorscale": {
           "diverging": [
            [
             0,
             "rgb(103,0,31)"
            ],
            [
             0.1,
             "rgb(178,24,43)"
            ],
            [
             0.2,
             "rgb(214,96,77)"
            ],
            [
             0.3,
             "rgb(244,165,130)"
            ],
            [
             0.4,
             "rgb(253,219,199)"
            ],
            [
             0.5,
             "rgb(247,247,247)"
            ],
            [
             0.6,
             "rgb(209,229,240)"
            ],
            [
             0.7,
             "rgb(146,197,222)"
            ],
            [
             0.8,
             "rgb(67,147,195)"
            ],
            [
             0.9,
             "rgb(33,102,172)"
            ],
            [
             1,
             "rgb(5,48,97)"
            ]
           ],
           "sequential": [
            [
             0,
             "#440154"
            ],
            [
             0.1111111111111111,
             "#482878"
            ],
            [
             0.2222222222222222,
             "#3e4989"
            ],
            [
             0.3333333333333333,
             "#31688e"
            ],
            [
             0.4444444444444444,
             "#26828e"
            ],
            [
             0.5555555555555556,
             "#1f9e89"
            ],
            [
             0.6666666666666666,
             "#35b779"
            ],
            [
             0.7777777777777778,
             "#6ece58"
            ],
            [
             0.8888888888888888,
             "#b5de2b"
            ],
            [
             1,
             "#fde725"
            ]
           ],
           "sequentialminus": [
            [
             0,
             "#440154"
            ],
            [
             0.1111111111111111,
             "#482878"
            ],
            [
             0.2222222222222222,
             "#3e4989"
            ],
            [
             0.3333333333333333,
             "#31688e"
            ],
            [
             0.4444444444444444,
             "#26828e"
            ],
            [
             0.5555555555555556,
             "#1f9e89"
            ],
            [
             0.6666666666666666,
             "#35b779"
            ],
            [
             0.7777777777777778,
             "#6ece58"
            ],
            [
             0.8888888888888888,
             "#b5de2b"
            ],
            [
             1,
             "#fde725"
            ]
           ]
          },
          "colorway": [
           "#1F77B4",
           "#FF7F0E",
           "#2CA02C",
           "#D62728",
           "#9467BD",
           "#8C564B",
           "#E377C2",
           "#7F7F7F",
           "#BCBD22",
           "#17BECF"
          ],
          "font": {
           "color": "rgb(36,36,36)"
          },
          "geo": {
           "bgcolor": "white",
           "lakecolor": "white",
           "landcolor": "white",
           "showlakes": true,
           "showland": true,
           "subunitcolor": "white"
          },
          "hoverlabel": {
           "align": "left"
          },
          "hovermode": "closest",
          "mapbox": {
           "style": "light"
          },
          "paper_bgcolor": "white",
          "plot_bgcolor": "white",
          "polar": {
           "angularaxis": {
            "gridcolor": "rgb(232,232,232)",
            "linecolor": "rgb(36,36,36)",
            "showgrid": false,
            "showline": true,
            "ticks": "outside"
           },
           "bgcolor": "white",
           "radialaxis": {
            "gridcolor": "rgb(232,232,232)",
            "linecolor": "rgb(36,36,36)",
            "showgrid": false,
            "showline": true,
            "ticks": "outside"
           }
          },
          "scene": {
           "xaxis": {
            "backgroundcolor": "white",
            "gridcolor": "rgb(232,232,232)",
            "gridwidth": 2,
            "linecolor": "rgb(36,36,36)",
            "showbackground": true,
            "showgrid": false,
            "showline": true,
            "ticks": "outside",
            "zeroline": false,
            "zerolinecolor": "rgb(36,36,36)"
           },
           "yaxis": {
            "backgroundcolor": "white",
            "gridcolor": "rgb(232,232,232)",
            "gridwidth": 2,
            "linecolor": "rgb(36,36,36)",
            "showbackground": true,
            "showgrid": false,
            "showline": true,
            "ticks": "outside",
            "zeroline": false,
            "zerolinecolor": "rgb(36,36,36)"
           },
           "zaxis": {
            "backgroundcolor": "white",
            "gridcolor": "rgb(232,232,232)",
            "gridwidth": 2,
            "linecolor": "rgb(36,36,36)",
            "showbackground": true,
            "showgrid": false,
            "showline": true,
            "ticks": "outside",
            "zeroline": false,
            "zerolinecolor": "rgb(36,36,36)"
           }
          },
          "shapedefaults": {
           "fillcolor": "black",
           "line": {
            "width": 0
           },
           "opacity": 0.3
          },
          "ternary": {
           "aaxis": {
            "gridcolor": "rgb(232,232,232)",
            "linecolor": "rgb(36,36,36)",
            "showgrid": false,
            "showline": true,
            "ticks": "outside"
           },
           "baxis": {
            "gridcolor": "rgb(232,232,232)",
            "linecolor": "rgb(36,36,36)",
            "showgrid": false,
            "showline": true,
            "ticks": "outside"
           },
           "bgcolor": "white",
           "caxis": {
            "gridcolor": "rgb(232,232,232)",
            "linecolor": "rgb(36,36,36)",
            "showgrid": false,
            "showline": true,
            "ticks": "outside"
           }
          },
          "title": {
           "x": 0.05
          },
          "xaxis": {
           "automargin": true,
           "gridcolor": "rgb(232,232,232)",
           "linecolor": "rgb(36,36,36)",
           "showgrid": false,
           "showline": true,
           "ticks": "outside",
           "title": {
            "standoff": 15
           },
           "zeroline": false,
           "zerolinecolor": "rgb(36,36,36)"
          },
          "yaxis": {
           "automargin": true,
           "gridcolor": "rgb(232,232,232)",
           "linecolor": "rgb(36,36,36)",
           "showgrid": false,
           "showline": true,
           "ticks": "outside",
           "title": {
            "standoff": 15
           },
           "zeroline": false,
           "zerolinecolor": "rgb(36,36,36)"
          }
         }
        },
        "title": {
         "text": "Specification Remoteness Distribution"
        },
        "violingap": 0,
        "violingroupgap": 0,
        "violinmode": "overlay",
        "width": 800,
        "xaxis": {
         "anchor": "y",
         "autorange": true,
         "domain": [
          0,
          1
         ],
         "range": [
          0,
          575.2631578947369
         ],
         "rangemode": "tozero",
         "title": {
          "text": "Specification Remoteness (cd)"
         },
         "type": "linear"
        },
        "yaxis": {
         "anchor": "x",
         "autorange": true,
         "categoryarray": [
          "vega-lite",
          "seaborn_obj",
          "seaborn",
          "plotly_go",
          "plotly_express",
          "pandas",
          "matplotlib",
          "ggplot2",
          "altair"
         ],
         "categoryorder": "array",
         "domain": [
          0,
          1
         ],
         "range": [
          -0.5,
          8.5
         ],
         "title": {
          "text": ""
         },
         "type": "category"
        }
       }
      }
     },
     "metadata": {},
     "output_type": "display_data"
    }
   ],
   "source": [
    "distance=\"cd\"\n",
    "\n",
    "df = (\n",
    "    distances_df(gallery=gallery)\n",
    "    .groupby([\"notation\", \"from_spec\"])[distance]\n",
    "    .median()\n",
    "    .reset_index()\n",
    ")\n",
    "\n",
    "fig = (\n",
    "    px.violin(\n",
    "        df,\n",
    "        x=distance,\n",
    "        y=\"notation\",\n",
    "        color=\"notation\",\n",
    "        height=800,\n",
    "        width=800,\n",
    "        points=\"all\",\n",
    "        color_discrete_sequence=colors,\n",
    "        category_orders=dict(notation=notations),\n",
    "        hover_data=[\"from_spec\"],\n",
    "        labels={distance: f\"Specification Remoteness ({distance})\"},\n",
    "        title=\"Specification Remoteness Distribution\",\n",
    "    )\n",
    "    .update_traces(\n",
    "        hoveron=\"points\",\n",
    "        pointpos=0,\n",
    "        scalemode=\"count\",\n",
    "        hoverinfo=\"none\",\n",
    "        hovertemplate=\"\",\n",
    "        spanmode=\"hard\",\n",
    "        line_width=0,\n",
    "    )\n",
    "    .update_layout(violingroupgap=0, violingap=0.0, showlegend=False)\n",
    ")\n",
    "fig.update_yaxes(title=\"\")\n",
    "fig.update_xaxes(rangemode=\"tozero\")\n",
    "fig.show()\n",
    "fig.write_image(\"figs/remoteness_violins.svg\")"
   ]
  },
  {
   "cell_type": "code",
   "execution_count": 43,
   "id": "2aa3f314",
   "metadata": {},
   "outputs": [],
   "source": [
    "\n",
    "tokens_df = load_tokens()\n",
    "df = (\n",
    "    tokens_df.query(f\"gallery == '{gallery}'\")\n",
    "    .groupby([\"token\", \"notation\"])[\"spec\"]\n",
    "    .nunique()\n",
    "    .reset_index()\n",
    "    .groupby([\"notation\", \"spec\"])\n",
    "    .count()\n",
    "    .reset_index()\n",
    "    .sort_values(by=\"spec\", ascending=False)\n",
    ")\n",
    "fig = px.bar(\n",
    "    df,\n",
    "    x=\"notation\",\n",
    "    y=\"token\",\n",
    "    color=\"notation\",\n",
    "    text=\"spec\",\n",
    "    height=800,\n",
    "    width=800,\n",
    "    color_discrete_sequence=colors,\n",
    "    category_orders=dict(notation=notations),\n",
    "    labels=dict(token=\"Number of Unique Tokens\", spec=\"Number of Uses\"),\n",
    "    title=\"Unique Token Usage Distribution\",\n",
    ")\n",
    "fig.update_traces(\n",
    "    textposition=\"inside\",\n",
    "    textangle=0,\n",
    "    insidetextanchor=\"middle\",\n",
    "    texttemplate=\"%{y} used %{text}x\",\n",
    ")\n",
    "fig.update_layout(uniformtext_minsize=8, uniformtext_mode=\"hide\", showlegend=False)\n",
    "fig.update_xaxes(title=\"\")\n",
    "df = (\n",
    "    tokens_df.query(f\"gallery == '{gallery}'\")\n",
    "    .groupby([\"notation\"])[\"token\"]\n",
    "    .nunique()\n",
    "    .reset_index()\n",
    ")\n",
    "fig.add_scatter(\n",
    "    x=df[\"notation\"],\n",
    "    y=df[\"token\"],\n",
    "    text=df[\"token\"],\n",
    "    mode=\"text\",\n",
    "    textposition=\"top center\",\n",
    "    showlegend=False,\n",
    ")\n",
    "fig.write_image(\"figs/token_bars.svg\")"
   ]
  },
  {
   "cell_type": "code",
   "execution_count": null,
   "id": "deb07169",
   "metadata": {},
   "outputs": [],
   "source": []
  }
 ],
 "metadata": {
  "kernelspec": {
   "display_name": "Python 3 (ipykernel)",
   "language": "python",
   "name": "python3"
  },
  "language_info": {
   "codemirror_mode": {
    "name": "ipython",
    "version": 3
   },
   "file_extension": ".py",
   "mimetype": "text/x-python",
   "name": "python",
   "nbconvert_exporter": "python",
   "pygments_lexer": "ipython3",
   "version": "3.10.10"
  }
 },
 "nbformat": 4,
 "nbformat_minor": 5
}
