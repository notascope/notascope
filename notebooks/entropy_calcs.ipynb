{
 "cells": [
  {
   "cell_type": "code",
   "execution_count": 1,
   "id": "ef2e72e4-a5ee-47fe-a820-0b7a0f3aa72d",
   "metadata": {},
   "outputs": [],
   "source": [
    "from math import log2, prod\n",
    "import tokenize\n",
    "import io\n",
    "from collections import Counter"
   ]
  },
  {
   "cell_type": "code",
   "execution_count": 48,
   "id": "f34fb084-90b5-4aaf-bb10-0dd51a5fa927",
   "metadata": {},
   "outputs": [],
   "source": [
    "def entropy(probs):\n",
    "    return -sum( p*log2(p) for p in probs)\n",
    "\n",
    "def expand_corpus(corpus_with_counts):\n",
    "    corpus = []\n",
    "    for k, v in corpus_with_counts.items():\n",
    "        corpus += [k]*v\n",
    "    return corpus\n",
    "\n",
    "def counter_for_corpus(corpus, window_size):\n",
    "    c = Counter()\n",
    "    for s in corpus:\n",
    "        window = []\n",
    "        for token in tokenize.generate_tokens(io.StringIO(s).readline):\n",
    "            if token.type not in [0,4]:\n",
    "                window.append(token.string)\n",
    "                if len(window) > window_size:\n",
    "                    window.pop(0)\n",
    "                if len(window) == window_size:\n",
    "                    c.update([\"@\".join(window)])\n",
    "    return c\n",
    "\n",
    "def entropy_for_corpus(corpus_with_counts, window_size):\n",
    "    c = counter_for_corpus(expand_corpus(corpus_with_counts), window_size)\n",
    "    total = sum(v for k,v in c.items())\n",
    "    return entropy(v/total for k, v in c.items())"
   ]
  },
  {
   "cell_type": "code",
   "execution_count": 75,
   "id": "dc5b90a5-8c07-450c-ad1f-4969bf19d63e",
   "metadata": {},
   "outputs": [],
   "source": [
    "import itertools\n",
    "\n",
    "alphabet = 'abcdefghijklmnopqrstuvwxyz'\n",
    "alphabet = [\"\".join(x) for x in itertools.product(alphabet, alphabet)]\n",
    "\n",
    "def functions(n):\n",
    "    result = []\n",
    "    for i in range(prod(n)):\n",
    "        result.append(alphabet[i]+\"(df)\")\n",
    "    return result\n",
    "\n",
    "def compact(values):\n",
    "    result = []\n",
    "    letters = [alphabet[i] for i in range(len(values))]\n",
    "    for combo in itertools.product(*[list(range(i)) for i in values]):\n",
    "        str = \"plot(df\"\n",
    "        for letter, number in zip(letters, combo):\n",
    "            if number > 0:\n",
    "                str += f\", {letter}='{letter}{number}'\"\n",
    "        str += \")\"\n",
    "        result.append(str)\n",
    "                          \n",
    "    return sorted(result, key=len)\n",
    "\n",
    "def weighted(strings):\n",
    "    return dict(zip(strings, reversed(list(range(1,len(strings)+1)))))"
   ]
  },
  {
   "cell_type": "code",
   "execution_count": null,
   "id": "abfd40bf-b4bc-464c-9d6f-822a1f7db1a6",
   "metadata": {},
   "outputs": [
    {
     "name": "stdout",
     "output_type": "stream",
     "text": [
      "['plot(df)', \"plot(df, 'ab1')\", \"plot(df, 'aa1')\", \"plot(df, 'aa1', 'ab1')\"]\n",
      "['aa(df)', 'ab(df)', 'ac(df)', 'ad(df)']\n"
     ]
    }
   ],
   "source": [
    "values = [2,2]\n",
    "print(compact(values))\n",
    "print(functions(values))"
   ]
  },
  {
   "cell_type": "code",
   "execution_count": 71,
   "id": "f87555a3-0284-42f0-80df-3f9ae443fbf0",
   "metadata": {},
   "outputs": [
    {
     "name": "stdout",
     "output_type": "stream",
     "text": [
      "\n",
      "structured: 484\n",
      "enumerated: 346\n",
      "\n"
     ]
    }
   ],
   "source": [
    "values = [10,10,2]\n",
    "nl = \"\\n\"\n",
    "from gzip import compress\n",
    "print(f\"\"\"\n",
    "structured: {len(compress(nl.join(compact(values)).encode()))}\n",
    "enumerated: {len(compress(nl.join(functions(values)).encode()))}\n",
    "\"\"\")"
   ]
  },
  {
   "cell_type": "code",
   "execution_count": 52,
   "id": "c34be4be-1372-4348-8a28-928ca43790db",
   "metadata": {},
   "outputs": [
    {
     "name": "stdout",
     "output_type": "stream",
     "text": [
      "\n",
      "token_count(functions)   102\n",
      "token_count(compact)     26\n",
      "\n",
      "entropy_for_corpus(functions, 1)  3.585\n",
      "entropy_for_corpus(compact, 1)    3.747\n",
      "\n",
      "entropy_for_corpus(functions, 2)  3.709\n",
      "entropy_for_corpus(compact, 2)    4.582\n",
      "\n",
      "entropy_for_corpus(functions, 3)  4.186\n",
      "entropy_for_corpus(compact, 3)    4.871\n",
      "\n"
     ]
    }
   ],
   "source": [
    "values = [10,10]\n",
    "\n",
    "a = weighted(functions(values))\n",
    "b = weighted(compact(values))\n",
    "\n",
    "print(f\"\"\"\n",
    "token_count(functions)   {len(counter_for_corpus(a, 1))}\n",
    "token_count(compact)     {len(counter_for_corpus(b, 1))}\n",
    "\n",
    "entropy_for_corpus(functions, 1)  {entropy_for_corpus(a, 1):.3f}\n",
    "entropy_for_corpus(compact, 1)    {entropy_for_corpus(b, 1):.3f}\n",
    "\n",
    "entropy_for_corpus(functions, 2)  {entropy_for_corpus(a, 2):.3f}\n",
    "entropy_for_corpus(compact, 2)    {entropy_for_corpus(b, 2):.3f}\n",
    "\n",
    "entropy_for_corpus(functions, 3)  {entropy_for_corpus(a, 3):.3f}\n",
    "entropy_for_corpus(compact, 3)    {entropy_for_corpus(b, 3):.3f}\n",
    "\"\"\")"
   ]
  },
  {
   "cell_type": "code",
   "execution_count": null,
   "id": "3fe166a4-6a28-4c4b-8d33-5c65da96ea43",
   "metadata": {},
   "outputs": [],
   "source": []
  }
 ],
 "metadata": {
  "kernelspec": {
   "display_name": "Python 3 (ipykernel)",
   "language": "python",
   "name": "python3"
  },
  "language_info": {
   "codemirror_mode": {
    "name": "ipython",
    "version": 3
   },
   "file_extension": ".py",
   "mimetype": "text/x-python",
   "name": "python",
   "nbconvert_exporter": "python",
   "pygments_lexer": "ipython3",
   "version": "3.9.7"
  }
 },
 "nbformat": 4,
 "nbformat_minor": 5
}
