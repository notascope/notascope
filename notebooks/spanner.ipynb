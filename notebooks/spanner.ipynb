{
 "cells": [
  {
   "cell_type": "code",
   "execution_count": 4,
   "id": "15e7e373-5942-4368-b9fa-400d46e1a453",
   "metadata": {},
   "outputs": [],
   "source": [
    "from src.distances import dmat_and_order\n",
    "import numpy as np\n",
    "from scipy.sparse.csgraph import dijkstra\n",
    "import networkx as nx\n",
    "from ipywidgets import interact"
   ]
  },
  {
   "cell_type": "code",
   "execution_count": 5,
   "id": "99fe087a-ab4c-496d-b880-cfb47497a85e",
   "metadata": {},
   "outputs": [],
   "source": [
    "from tqdm.notebook import tqdm"
   ]
  },
  {
   "cell_type": "code",
   "execution_count": 12,
   "id": "a7852626-55d2-4652-a3ab-c3680c776e5f",
   "metadata": {},
   "outputs": [],
   "source": [
    "def spanner_adj(distances, t):\n",
    "    ind = np.unravel_index(np.argsort(distances, axis=None), distances.shape)\n",
    "    adj = np.zeros(distances.shape)\n",
    "    total = 1.0*distances.shape[0] * distances.shape[1]\n",
    "    for i,j in tqdm(zip(ind[0], ind[1]), total=len(ind[0])):\n",
    "        if i<j: continue\n",
    "        d = distances[i,j]\n",
    "        shortest = dijkstra(adj, indices=i, directed=False, min_only=True, limit=t*d)[j]\n",
    "        if shortest > t*d:\n",
    "            adj[i,j] = d\n",
    "            adj[j,i] = d\n",
    "    return adj"
   ]
  },
  {
   "cell_type": "code",
   "execution_count": 17,
   "id": "6b9ea6b6-82a0-4723-ad3c-10fb7dc35e8a",
   "metadata": {},
   "outputs": [
    {
     "data": {
      "application/vnd.jupyter.widget-view+json": {
       "model_id": "b469c528a3c74819b43ab086bab69c33",
       "version_major": 2,
       "version_minor": 0
      },
      "text/plain": [
       "  0%|          | 0/279841 [00:00<?, ?it/s]"
      ]
     },
     "metadata": {},
     "output_type": "display_data"
    }
   ],
   "source": [
    "adj = spanner_adj(dmat_sym, 1.5)"
   ]
  },
  {
   "cell_type": "code",
   "execution_count": 18,
   "id": "863073ed-13d6-4945-aa6b-2c6abcbf6969",
   "metadata": {},
   "outputs": [
    {
     "data": {
      "text/plain": [
       "0.04234690954917798"
      ]
     },
     "execution_count": 18,
     "metadata": {},
     "output_type": "execute_result"
    }
   ],
   "source": [
    "np.count_nonzero(adj)/np.count_nonzero(dmat_sym)"
   ]
  },
  {
   "cell_type": "code",
   "execution_count": null,
   "id": "98adcb30-51e6-4adf-8935-3938c28748ca",
   "metadata": {},
   "outputs": [],
   "source": []
  },
  {
   "cell_type": "code",
   "execution_count": 7,
   "id": "0a709622-46a2-48a5-8270-63a2dcc4223b",
   "metadata": {},
   "outputs": [
    {
     "data": {
      "application/vnd.jupyter.widget-view+json": {
       "model_id": "5753f20034084abe8ace7a5a22f679d5",
       "version_major": 2,
       "version_minor": 0
      },
      "text/plain": [
       "interactive(children=(FloatSlider(value=3.0, description='t', max=5.0, min=1.0), Output()), _dom_classes=('wid…"
      ]
     },
     "metadata": {},
     "output_type": "display_data"
    }
   ],
   "source": [
    "dmat, dmat_sym, order = dmat_and_order(\"vega-lite\", \"vega-lite\", \"nmi\")\n",
    "\n",
    "@interact\n",
    "def do(t=(1.0,5.0)):\n",
    "    return nx.draw_kamada_kawai(nx.from_numpy_matrix(np.tril(spanner_adj(dmat_sym, t))))"
   ]
  },
  {
   "cell_type": "code",
   "execution_count": null,
   "id": "6a315a21-c3ef-4747-8ab7-86c5a76a7755",
   "metadata": {},
   "outputs": [],
   "source": []
  }
 ],
 "metadata": {
  "kernelspec": {
   "display_name": "Python 3 (ipykernel)",
   "language": "python",
   "name": "python3"
  },
  "language_info": {
   "codemirror_mode": {
    "name": "ipython",
    "version": 3
   },
   "file_extension": ".py",
   "mimetype": "text/x-python",
   "name": "python",
   "nbconvert_exporter": "python",
   "pygments_lexer": "ipython3",
   "version": "3.9.7"
  }
 },
 "nbformat": 4,
 "nbformat_minor": 5
}
