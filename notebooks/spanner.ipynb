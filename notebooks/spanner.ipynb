{
 "cells": [
  {
   "cell_type": "code",
   "execution_count": 4,
   "id": "15e7e373-5942-4368-b9fa-400d46e1a453",
   "metadata": {},
   "outputs": [],
   "source": [
    "from src.distances import dmat_and_order\n",
    "import numpy as np\n",
    "from scipy.sparse.csgraph import dijkstra\n",
    "import networkx as nx\n",
    "from ipywidgets import interact"
   ]
  },
  {
   "cell_type": "code",
   "execution_count": 5,
   "id": "99fe087a-ab4c-496d-b880-cfb47497a85e",
   "metadata": {},
   "outputs": [],
   "source": [
    "from tqdm.notebook import tqdm"
   ]
  },
  {
   "cell_type": "code",
   "execution_count": 33,
   "id": "a7852626-55d2-4652-a3ab-c3680c776e5f",
   "metadata": {},
   "outputs": [],
   "source": [
    "def spanner_adj(distances, t):\n",
    "    ind = np.unravel_index(np.argsort(distances, axis=None), distances.shape)\n",
    "    adj = np.zeros(distances.shape)\n",
    "    total = 1.0*distances.shape[0] * distances.shape[1]\n",
    "    for i,j in tqdm(zip(ind[0], ind[1]), total=len(ind[0])):\n",
    "        if i<j: continue\n",
    "        d = distances[i,j]\n",
    "        shortest = dijkstra(adj, indices=i, min_only=True, limit=t*d)[j]\n",
    "        if shortest <= t*d: continue\n",
    "        adj[i,j] = d\n",
    "        adj[j,i] = d\n",
    "    return adj"
   ]
  },
  {
   "cell_type": "code",
   "execution_count": 41,
   "id": "6b9ea6b6-82a0-4723-ad3c-10fb7dc35e8a",
   "metadata": {},
   "outputs": [
    {
     "data": {
      "application/vnd.jupyter.widget-view+json": {
       "model_id": "850ce835226140e8959600e85883998c",
       "version_major": 2,
       "version_minor": 0
      },
      "text/plain": [
       "  0%|          | 0/279841 [00:00<?, ?it/s]"
      ]
     },
     "metadata": {},
     "output_type": "display_data"
    }
   ],
   "source": [
    "adj = spanner_adj(dmat_sym, 5)"
   ]
  },
  {
   "cell_type": "code",
   "execution_count": 42,
   "id": "863073ed-13d6-4945-aa6b-2c6abcbf6969",
   "metadata": {},
   "outputs": [
    {
     "data": {
      "text/plain": [
       "0.0038308414962479236"
      ]
     },
     "execution_count": 42,
     "metadata": {},
     "output_type": "execute_result"
    }
   ],
   "source": [
    "np.count_nonzero(adj)/np.count_nonzero(dmat_sym)"
   ]
  },
  {
   "cell_type": "code",
   "execution_count": 46,
   "id": "8e107f85-1c4e-4a34-bf9e-c8de5ae28951",
   "metadata": {},
   "outputs": [],
   "source": [
    "import networkx as nx"
   ]
  },
  {
   "cell_type": "code",
   "execution_count": 49,
   "id": "f7fef5b3-2713-4549-8a80-f3682d4f935a",
   "metadata": {},
   "outputs": [],
   "source": [
    "G = nx.from_numpy_matrix(dmat_sym)"
   ]
  },
  {
   "cell_type": "code",
   "execution_count": 109,
   "id": "44e0cd99-9bdd-4bf6-995f-5ae7db90a984",
   "metadata": {},
   "outputs": [
    {
     "data": {
      "text/plain": [
       "139656"
      ]
     },
     "execution_count": 109,
     "metadata": {},
     "output_type": "execute_result"
    }
   ],
   "source": [
    "G2 = nx.spanner(G, 2)\n",
    "len(G2.edges)"
   ]
  },
  {
   "cell_type": "code",
   "execution_count": 85,
   "id": "a3d810cc-f946-444d-ba0a-1795dcf8576a",
   "metadata": {},
   "outputs": [
    {
     "data": {
      "text/plain": [
       "139656"
      ]
     },
     "execution_count": 85,
     "metadata": {},
     "output_type": "execute_result"
    }
   ],
   "source": [
    "len(G.edges)"
   ]
  },
  {
   "cell_type": "code",
   "execution_count": 96,
   "id": "f2c35070-34f1-46cd-bf2b-684eee7f42c5",
   "metadata": {},
   "outputs": [
    {
     "data": {
      "text/plain": [
       "networkx.classes.graph.Graph"
      ]
     },
     "execution_count": 96,
     "metadata": {},
     "output_type": "execute_result"
    }
   ],
   "source": [
    "type(G)"
   ]
  },
  {
   "cell_type": "code",
   "execution_count": null,
   "id": "990562c5-848b-4f32-9c22-83bc35e4e261",
   "metadata": {},
   "outputs": [],
   "source": []
  }
 ],
 "metadata": {
  "kernelspec": {
   "display_name": "Python 3 (ipykernel)",
   "language": "python",
   "name": "python3"
  },
  "language_info": {
   "codemirror_mode": {
    "name": "ipython",
    "version": 3
   },
   "file_extension": ".py",
   "mimetype": "text/x-python",
   "name": "python",
   "nbconvert_exporter": "python",
   "pygments_lexer": "ipython3",
   "version": "3.9.7"
  }
 },
 "nbformat": 4,
 "nbformat_minor": 5
}
