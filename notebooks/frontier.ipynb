{
 "cells": [
  {
   "cell_type": "code",
   "execution_count": 63,
   "id": "524e008f-b783-435f-9eff-ec8f9a717182",
   "metadata": {},
   "outputs": [],
   "source": [
    "from pathlib import Path\n",
    "import pandas as pd"
   ]
  },
  {
   "cell_type": "code",
   "execution_count": 68,
   "id": "f717492e-2812-4be6-882d-47307a23e956",
   "metadata": {},
   "outputs": [],
   "source": [
    "data_file = \"data/movies.csv\"\n",
    "data_tokens = list(pd.read_csv(data_file).columns)\n",
    "data_tokens.append(data_file)\n"
   ]
  },
  {
   "cell_type": "code",
   "execution_count": 83,
   "id": "35ff1360-5e34-45f6-987c-9076f41bdaf6",
   "metadata": {},
   "outputs": [
    {
     "name": "stdout",
     "output_type": "stream",
     "text": [
      "seaborn\n",
      "ggplot2\n",
      "vega-lite\n",
      "matplotlib\n",
      "bar_count_colored ['MPAA Rating', 'Major Genre', 'data/movies.csv'] ['Title', 'MPAA Rating', 'Major Genre', 'data/movies.csv']\n",
      "heatmap_count ['MPAA Rating', 'Major Genre', 'data/movies.csv'] ['Title', 'MPAA Rating', 'Major Genre', 'data/movies.csv']\n",
      "bar_count_100 ['MPAA Rating', 'Major Genre', 'data/movies.csv'] ['Title', 'MPAA Rating', 'Major Genre', 'data/movies.csv']\n",
      "plotly_express\n",
      "bar_count_colored ['Title', 'MPAA Rating', 'Major Genre', 'data/movies.csv'] ['MPAA Rating', 'Major Genre', 'data/movies.csv']\n",
      "heatmap_count ['Title', 'MPAA Rating', 'Major Genre', 'data/movies.csv'] ['MPAA Rating', 'Major Genre', 'data/movies.csv']\n",
      "bar_count_100 ['Title', 'MPAA Rating', 'Major Genre', 'data/movies.csv'] ['MPAA Rating', 'Major Genre', 'data/movies.csv']\n"
     ]
    }
   ],
   "source": [
    "dt_by_slug = dict()\n",
    "for notation in Path(\"galleries/movies/\").glob(\"*\"):\n",
    "    print(notation.stem)\n",
    "    for spec in notation.glob(\"*\"):\n",
    "        if spec.is_dir(): continue\n",
    "        contents = spec.read_text()\n",
    "        tokens = [dt for dt in data_tokens if dt in contents]\n",
    "        if spec.stem not in dt_by_slug:\n",
    "            dt_by_slug[spec.stem] = tokens\n",
    "        elif dt_by_slug[spec.stem] != tokens:\n",
    "            print(spec.stem, dt_by_slug[spec.stem], tokens)\n",
    "            dt_by_slug[spec.stem] = tokens\n",
    "            "
   ]
  },
  {
   "cell_type": "code",
   "execution_count": null,
   "id": "e0ed5e7a-b299-455b-8112-f42c83593100",
   "metadata": {},
   "outputs": [],
   "source": []
  }
 ],
 "metadata": {
  "kernelspec": {
   "display_name": "Python 3 (ipykernel)",
   "language": "python",
   "name": "python3"
  },
  "language_info": {
   "codemirror_mode": {
    "name": "ipython",
    "version": 3
   },
   "file_extension": ".py",
   "mimetype": "text/x-python",
   "name": "python",
   "nbconvert_exporter": "python",
   "pygments_lexer": "ipython3",
   "version": "3.10.8"
  }
 },
 "nbformat": 4,
 "nbformat_minor": 5
}
