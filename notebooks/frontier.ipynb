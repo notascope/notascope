{
 "cells": [
  {
   "cell_type": "code",
   "execution_count": 3,
   "id": "524e008f-b783-435f-9eff-ec8f9a717182",
   "metadata": {},
   "outputs": [],
   "source": [
    "from pathlib import Path\n",
    "import pandas as pd\n",
    "from lz4.frame import compress\n",
    "import math\n",
    "import numpy as np\n",
    "from english_words import get_english_words_set\n",
    "web2lowerset = get_english_words_set(['web2'], lower=True)\n",
    "shorter = [x for x in web2lowerset if 5< len(x) < 10]"
   ]
  },
  {
   "cell_type": "code",
   "execution_count": 4,
   "id": "f717492e-2812-4be6-882d-47307a23e956",
   "metadata": {},
   "outputs": [],
   "source": [
    "data_file = \"data/movies.csv\"\n",
    "data_tokens = list(pd.read_csv(data_file).columns)\n",
    "data_tokens.append(data_file)\n"
   ]
  },
  {
   "cell_type": "code",
   "execution_count": 5,
   "id": "35ff1360-5e34-45f6-987c-9076f41bdaf6",
   "metadata": {},
   "outputs": [
    {
     "name": "stdout",
     "output_type": "stream",
     "text": [
      "seaborn\n",
      "ggplot2\n",
      "vega-lite\n",
      "matplotlib\n",
      "plotly_express\n"
     ]
    }
   ],
   "source": [
    "dt_by_slug = dict()\n",
    "for notation in Path(\"galleries/movies/\").glob(\"*\"):\n",
    "    print(notation.stem)\n",
    "    for spec in notation.glob(\"*\"):\n",
    "        if spec.is_dir(): continue\n",
    "        contents = spec.read_text()\n",
    "        tokens = [dt for dt in data_tokens if dt in contents]\n",
    "        if spec.stem not in dt_by_slug:\n",
    "            dt_by_slug[spec.stem] = tokens\n",
    "        elif dt_by_slug[spec.stem] != tokens:\n",
    "            print(spec.stem, dt_by_slug[spec.stem], tokens)\n",
    "            dt_by_slug[spec.stem] = tokens\n"
   ]
  },
  {
   "cell_type": "code",
   "execution_count": 6,
   "id": "2dee08ab",
   "metadata": {},
   "outputs": [],
   "source": [
    "\n",
    "dialects = dict(\n",
    "  verbose=[\"\\n\".join([shorter[i]] + list(dt)) for i, dt in enumerate(dt_by_slug.values())], \n",
    "  terse=[\"\\n\".join([\"true\" if x == '1' else \"false\" for x in bin(i)[2:].rjust(int(math.log2(40)) + 1, \"0\")] + list(dt)) for i, dt in enumerate(dt_by_slug.values())]\n",
    ")"
   ]
  },
  {
   "cell_type": "code",
   "execution_count": 7,
   "id": "8b33fa5c",
   "metadata": {},
   "outputs": [],
   "source": [
    "def num_tokens(specs):\n",
    "    tokens = set()\n",
    "    for s in specs:\n",
    "        for t in s.split(\"\\n\"):\n",
    "            tokens.add(t)\n",
    "    return len(tokens)"
   ]
  },
  {
   "cell_type": "code",
   "execution_count": 8,
   "id": "527c321d",
   "metadata": {},
   "outputs": [
    {
     "data": {
      "text/plain": [
       "{'verbose': 47, 'terse': 9}"
      ]
     },
     "execution_count": 8,
     "metadata": {},
     "output_type": "execute_result"
    }
   ],
   "source": [
    "{k: num_tokens(v) for k, v in dialects.items()}"
   ]
  },
  {
   "cell_type": "code",
   "execution_count": 9,
   "id": "4c4b08e7",
   "metadata": {},
   "outputs": [],
   "source": [
    "def lc(x):\n",
    "  return len(compress(x.encode(\"utf8\")))\n",
    "  \n",
    "def nmi(s1,s2):\n",
    "  if s1 == s2: return 0\n",
    "  return 2*lc(s1+s2) - lc(s1) - lc(s2)\n",
    "\n",
    "def distance_matrix(specs):\n",
    "  return np.array([[nmi(s1, s2) for s2 in specs] for s1 in specs])\n",
    "\n",
    "def mean_remoteness(specs):\n",
    "  return np.mean(np.median(distance_matrix(specs), axis=1))\n"
   ]
  },
  {
   "cell_type": "code",
   "execution_count": 10,
   "id": "2ce81bf9",
   "metadata": {},
   "outputs": [
    {
     "data": {
      "text/plain": [
       "{'verbose': 72.3125, 'terse': 76.325}"
      ]
     },
     "execution_count": 10,
     "metadata": {},
     "output_type": "execute_result"
    }
   ],
   "source": [
    "{k: mean_remoteness(v) for k, v in dialects.items()}"
   ]
  },
  {
   "cell_type": "code",
   "execution_count": null,
   "id": "1218322f",
   "metadata": {},
   "outputs": [],
   "source": []
  },
  {
   "cell_type": "code",
   "execution_count": null,
   "id": "22b6f1d8",
   "metadata": {},
   "outputs": [],
   "source": []
  }
 ],
 "metadata": {
  "kernelspec": {
   "display_name": "Python 3",
   "language": "python",
   "name": "python3"
  },
  "language_info": {
   "codemirror_mode": {
    "name": "ipython",
    "version": 3
   },
   "file_extension": ".py",
   "mimetype": "text/x-python",
   "name": "python",
   "nbconvert_exporter": "python",
   "pygments_lexer": "ipython3",
   "version": "3.10.8"
  },
  "vscode": {
   "interpreter": {
    "hash": "69a49a9ae073a79c3b3f7f393b957c9cb52a50ccc1454dc1a5889f6bdad930a4"
   }
  }
 },
 "nbformat": 4,
 "nbformat_minor": 5
}
