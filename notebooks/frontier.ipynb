{
 "cells": [
  {
   "cell_type": "code",
   "execution_count": 1,
   "id": "524e008f-b783-435f-9eff-ec8f9a717182",
   "metadata": {},
   "outputs": [
    {
     "ename": "ModuleNotFoundError",
     "evalue": "No module named 'english_words'",
     "output_type": "error",
     "traceback": [
      "\u001b[0;31m---------------------------------------------------------------------------\u001b[0m",
      "\u001b[0;31mModuleNotFoundError\u001b[0m                       Traceback (most recent call last)",
      "Cell \u001b[0;32mIn[1], line 7\u001b[0m\n\u001b[1;32m      5\u001b[0m \u001b[38;5;28;01mimport\u001b[39;00m \u001b[38;5;21;01mmath\u001b[39;00m\n\u001b[1;32m      6\u001b[0m \u001b[38;5;28;01mimport\u001b[39;00m \u001b[38;5;21;01mnumpy\u001b[39;00m \u001b[38;5;28;01mas\u001b[39;00m \u001b[38;5;21;01mnp\u001b[39;00m\n\u001b[0;32m----> 7\u001b[0m \u001b[38;5;28;01mfrom\u001b[39;00m \u001b[38;5;21;01menglish_words\u001b[39;00m \u001b[38;5;28;01mimport\u001b[39;00m get_english_words_set\n\u001b[1;32m      8\u001b[0m \u001b[38;5;28;01mfrom\u001b[39;00m \u001b[38;5;21;01mitertools\u001b[39;00m \u001b[38;5;28;01mimport\u001b[39;00m product\n\u001b[1;32m      9\u001b[0m \u001b[38;5;28;01mimport\u001b[39;00m \u001b[38;5;21;01mrandom\u001b[39;00m\n",
      "\u001b[0;31mModuleNotFoundError\u001b[0m: No module named 'english_words'"
     ]
    }
   ],
   "source": [
    "from pathlib import Path\n",
    "import pandas as pd\n",
    "import plotly.express as px\n",
    "from lz4.frame import compress\n",
    "import math\n",
    "import numpy as np\n",
    "from english_words import get_english_words_set\n",
    "from itertools import product\n",
    "import random\n",
    "from collections import Counter\n",
    "web2lowerset = get_english_words_set(['web2'], lower=True)\n",
    "words = [x for x in web2lowerset if 5< len(x) < 10]"
   ]
  },
  {
   "cell_type": "code",
   "execution_count": null,
   "id": "f717492e-2812-4be6-882d-47307a23e956",
   "metadata": {},
   "outputs": [],
   "source": [
    "data_file = \"data/movies.csv\"\n",
    "data_tokens = list(pd.read_csv(data_file).columns)\n",
    "data_tokens.append(data_file)\n"
   ]
  },
  {
   "cell_type": "code",
   "execution_count": 4,
   "id": "35ff1360-5e34-45f6-987c-9076f41bdaf6",
   "metadata": {},
   "outputs": [
    {
     "name": "stdout",
     "output_type": "stream",
     "text": [
      "seaborn\n",
      "ggplot2\n",
      "vega-lite\n",
      "matplotlib\n",
      "plotly_express\n"
     ]
    }
   ],
   "source": [
    "dt_by_spec = dict()\n",
    "for notation in Path(\"galleries/movies/\").glob(\"*\"):\n",
    "    print(notation.stem)\n",
    "    for spec in notation.glob(\"*\"):\n",
    "        if spec.is_dir(): continue\n",
    "        contents = spec.read_text()\n",
    "        tokens = [dt for dt in data_tokens if dt in contents]\n",
    "        if spec.stem in dt_by_spec and dt_by_spec[spec.stem] != tokens:\n",
    "            print(spec.stem, dt_by_spec[spec.stem], tokens)\n",
    "        dt_by_spec[spec.stem] = tokens\n"
   ]
  },
  {
   "cell_type": "code",
   "execution_count": 5,
   "id": "15f188a4",
   "metadata": {},
   "outputs": [],
   "source": [
    "def get_num_slots(tokens_per_slot, num_specs):\n",
    "  return math.ceil(math.log(num_specs, tokens_per_slot))"
   ]
  },
  {
   "cell_type": "code",
   "execution_count": 32,
   "id": "b340905c",
   "metadata": {},
   "outputs": [],
   "source": [
    "def synthetic_specs(tokens_per_slot, dt_by_spec, unique_across_slots=True):\n",
    "    random.seed(1)\n",
    "    num_specs = len(dt_by_spec)\n",
    "    num_slots = get_num_slots(tokens_per_slot, num_specs)\n",
    "    counters = [Counter() for i in range(num_slots)]\n",
    "    all_specs = list(product(range(tokens_per_slot), repeat=num_slots))\n",
    "    result = []\n",
    "    mult = tokens_per_slot if unique_across_slots else 0\n",
    "    for combo in random.sample(all_specs, num_specs):\n",
    "        tokens = []\n",
    "        for i, v in enumerate(combo):\n",
    "            t = words[i*mult+v]\n",
    "            tokens.append(t)\n",
    "            counters[i].update([t])\n",
    "        result.append(tokens)\n",
    "    max_counts = [c.most_common(1)[0][1] for c in counters]\n",
    "    defaults = [c.most_common(1)[0][0] for c in counters]\n",
    "    result = np.array(result)[:,np.argsort(max_counts)]\n",
    "    defaults = np.array([c.most_common(1)[0][0] for c in counters])[np.argsort(max_counts)]\n",
    "    for r in result:\n",
    "        for i, (d, t) in enumerate(zip(r, defaults)):\n",
    "            if d==t:\n",
    "                r[i] = \"@@\"\n",
    "\n",
    "    # sort results contents by counters, then replace the highest per column by blank, if the rightmost is already blank?\n",
    "    return [\"\\n\".join(list(r)+dts).replace(\"@@\\n\", \"\") for r, (_, dts) in zip(result, dt_by_spec.items())]\n"
   ]
  },
  {
   "cell_type": "code",
   "execution_count": 33,
   "id": "8b33fa5c",
   "metadata": {},
   "outputs": [],
   "source": [
    "def num_tokens(specs):\n",
    "    tokens = set()\n",
    "    for s in specs:\n",
    "        for t in s.split(\"\\n\"):\n",
    "            tokens.add(t)\n",
    "    return len(tokens)"
   ]
  },
  {
   "cell_type": "code",
   "execution_count": 34,
   "id": "4c4b08e7",
   "metadata": {},
   "outputs": [],
   "source": [
    "def lc(x):\n",
    "  return len(compress(x.encode(\"utf8\")))\n",
    "  \n",
    "def nmi(s1,s2):\n",
    "  if s1 == s2: return 0\n",
    "  return 2*lc(s1+s2) - lc(s1) - lc(s2)\n",
    "\n",
    "def distance_matrix(specs):\n",
    "  return np.array([[nmi(s1, s2) for s2 in specs] for s1 in specs])\n",
    "\n",
    "def mean_remoteness(specs):\n",
    "  return np.mean(np.median(distance_matrix(specs), axis=1))\n"
   ]
  },
  {
   "cell_type": "code",
   "execution_count": 35,
   "id": "2ce81bf9",
   "metadata": {},
   "outputs": [],
   "source": [
    "columns = dict(dialect=[], terseness=[], remoteness=[], unique_across=[])\n",
    "for i in range(2,len(dt_by_spec)+1):\n",
    "  for j in [True, False]:\n",
    "    specs = synthetic_specs(i, dt_by_spec,j)\n",
    "    columns[\"dialect\"].append(f\"synth{i}-{j}\")\n",
    "    columns[\"terseness\"].append(num_tokens(specs))\n",
    "    columns[\"remoteness\"].append(mean_remoteness(specs))\n",
    "    columns[\"unique_across\"].append(j)\n",
    "\n",
    "df = pd.DataFrame(columns)"
   ]
  },
  {
   "cell_type": "code",
   "execution_count": 36,
   "id": "1218322f",
   "metadata": {},
   "outputs": [
    {
     "data": {
      "application/vnd.plotly.v1+json": {
       "config": {
        "plotlyServerURL": "https://plotly.com"
       },
       "data": [
        {
         "hovertemplate": "<b>%{hovertext}</b><br><br>unique_across=True<br>terseness=%{x}<br>remoteness=%{y}<extra></extra>",
         "hovertext": [
          "synth2-True",
          "synth3-True",
          "synth4-True",
          "synth5-True",
          "synth6-True",
          "synth7-True",
          "synth8-True",
          "synth9-True",
          "synth10-True",
          "synth11-True",
          "synth12-True",
          "synth13-True",
          "synth14-True",
          "synth15-True",
          "synth16-True",
          "synth17-True",
          "synth18-True",
          "synth19-True",
          "synth20-True",
          "synth21-True",
          "synth22-True",
          "synth23-True",
          "synth24-True",
          "synth25-True",
          "synth26-True",
          "synth27-True",
          "synth28-True",
          "synth29-True",
          "synth30-True",
          "synth31-True",
          "synth32-True",
          "synth33-True",
          "synth34-True",
          "synth35-True",
          "synth36-True",
          "synth37-True",
          "synth38-True",
          "synth39-True",
          "synth40-True"
         ],
         "legendgroup": "True",
         "marker": {
          "color": "#636efa",
          "symbol": "circle"
         },
         "mode": "markers",
         "name": "True",
         "orientation": "v",
         "showlegend": true,
         "type": "scatter",
         "x": [
          13,
          15,
          16,
          19,
          22,
          19,
          21,
          23,
          25,
          27,
          29,
          29,
          33,
          34,
          35,
          37,
          39,
          40,
          39,
          40,
          45,
          45,
          46,
          48,
          49,
          48,
          47,
          48,
          55,
          52,
          47,
          51,
          56,
          52,
          55,
          51,
          58,
          58,
          46
         ],
         "xaxis": "x",
         "y": [
          86.625,
          87.1,
          85.3,
          88.225,
          91.3,
          80.4,
          82.8,
          83.175,
          82.3,
          84.975,
          83.025,
          84.4875,
          84.175,
          84.475,
          84.225,
          85.1375,
          83.8,
          85.575,
          84.7875,
          84.7125,
          85.8,
          85.3375,
          85.2,
          85.825,
          85.975,
          85.25,
          86.2875,
          87.3625,
          86.8,
          86.525,
          85.225,
          86.55,
          87.45,
          87.3,
          86.2,
          85.7625,
          86.2625,
          86.075,
          71.6375
         ],
         "yaxis": "y"
        },
        {
         "hovertemplate": "<b>%{hovertext}</b><br><br>unique_across=False<br>terseness=%{x}<br>remoteness=%{y}<extra></extra>",
         "hovertext": [
          "synth2-False",
          "synth3-False",
          "synth4-False",
          "synth5-False",
          "synth6-False",
          "synth7-False",
          "synth8-False",
          "synth9-False",
          "synth10-False",
          "synth11-False",
          "synth12-False",
          "synth13-False",
          "synth14-False",
          "synth15-False",
          "synth16-False",
          "synth17-False",
          "synth18-False",
          "synth19-False",
          "synth20-False",
          "synth21-False",
          "synth22-False",
          "synth23-False",
          "synth24-False",
          "synth25-False",
          "synth26-False",
          "synth27-False",
          "synth28-False",
          "synth29-False",
          "synth30-False",
          "synth31-False",
          "synth32-False",
          "synth33-False",
          "synth34-False",
          "synth35-False",
          "synth36-False",
          "synth37-False",
          "synth38-False",
          "synth39-False",
          "synth40-False"
         ],
         "legendgroup": "False",
         "marker": {
          "color": "#EF553B",
          "symbol": "circle"
         },
         "mode": "markers",
         "name": "False",
         "orientation": "v",
         "showlegend": true,
         "type": "scatter",
         "x": [
          9,
          10,
          11,
          12,
          12,
          14,
          14,
          16,
          17,
          18,
          19,
          20,
          21,
          22,
          23,
          24,
          25,
          26,
          27,
          27,
          27,
          30,
          31,
          31,
          32,
          33,
          33,
          32,
          37,
          37,
          33,
          34,
          40,
          38,
          38,
          38,
          41,
          40,
          46
         ],
         "xaxis": "x",
         "y": [
          70.225,
          72.85,
          75.725,
          79.9125,
          82.3625,
          77.85,
          78.425,
          79.625,
          79.3375,
          81.25,
          79.8875,
          82.3625,
          81.1125,
          82.6375,
          82.2,
          82.6875,
          83.55,
          84.375,
          84.1375,
          84.4875,
          83.55,
          83.2625,
          83.45,
          85,
          85.3875,
          84.275,
          84.7625,
          84.8625,
          85.8,
          85.9625,
          85.05,
          85.8,
          86.9375,
          84.7625,
          85.25,
          84.275,
          84.55,
          85.35,
          71.6375
         ],
         "yaxis": "y"
        }
       ],
       "layout": {
        "autosize": true,
        "legend": {
         "title": {
          "text": "unique_across"
         },
         "tracegroupgap": 0
        },
        "margin": {
         "t": 60
        },
        "template": {
         "data": {
          "bar": [
           {
            "error_x": {
             "color": "#2a3f5f"
            },
            "error_y": {
             "color": "#2a3f5f"
            },
            "marker": {
             "line": {
              "color": "#E5ECF6",
              "width": 0.5
             },
             "pattern": {
              "fillmode": "overlay",
              "size": 10,
              "solidity": 0.2
             }
            },
            "type": "bar"
           }
          ],
          "barpolar": [
           {
            "marker": {
             "line": {
              "color": "#E5ECF6",
              "width": 0.5
             },
             "pattern": {
              "fillmode": "overlay",
              "size": 10,
              "solidity": 0.2
             }
            },
            "type": "barpolar"
           }
          ],
          "carpet": [
           {
            "aaxis": {
             "endlinecolor": "#2a3f5f",
             "gridcolor": "white",
             "linecolor": "white",
             "minorgridcolor": "white",
             "startlinecolor": "#2a3f5f"
            },
            "baxis": {
             "endlinecolor": "#2a3f5f",
             "gridcolor": "white",
             "linecolor": "white",
             "minorgridcolor": "white",
             "startlinecolor": "#2a3f5f"
            },
            "type": "carpet"
           }
          ],
          "choropleth": [
           {
            "colorbar": {
             "outlinewidth": 0,
             "ticks": ""
            },
            "type": "choropleth"
           }
          ],
          "contour": [
           {
            "colorbar": {
             "outlinewidth": 0,
             "ticks": ""
            },
            "colorscale": [
             [
              0,
              "#0d0887"
             ],
             [
              0.1111111111111111,
              "#46039f"
             ],
             [
              0.2222222222222222,
              "#7201a8"
             ],
             [
              0.3333333333333333,
              "#9c179e"
             ],
             [
              0.4444444444444444,
              "#bd3786"
             ],
             [
              0.5555555555555556,
              "#d8576b"
             ],
             [
              0.6666666666666666,
              "#ed7953"
             ],
             [
              0.7777777777777778,
              "#fb9f3a"
             ],
             [
              0.8888888888888888,
              "#fdca26"
             ],
             [
              1,
              "#f0f921"
             ]
            ],
            "type": "contour"
           }
          ],
          "contourcarpet": [
           {
            "colorbar": {
             "outlinewidth": 0,
             "ticks": ""
            },
            "type": "contourcarpet"
           }
          ],
          "heatmap": [
           {
            "colorbar": {
             "outlinewidth": 0,
             "ticks": ""
            },
            "colorscale": [
             [
              0,
              "#0d0887"
             ],
             [
              0.1111111111111111,
              "#46039f"
             ],
             [
              0.2222222222222222,
              "#7201a8"
             ],
             [
              0.3333333333333333,
              "#9c179e"
             ],
             [
              0.4444444444444444,
              "#bd3786"
             ],
             [
              0.5555555555555556,
              "#d8576b"
             ],
             [
              0.6666666666666666,
              "#ed7953"
             ],
             [
              0.7777777777777778,
              "#fb9f3a"
             ],
             [
              0.8888888888888888,
              "#fdca26"
             ],
             [
              1,
              "#f0f921"
             ]
            ],
            "type": "heatmap"
           }
          ],
          "heatmapgl": [
           {
            "colorbar": {
             "outlinewidth": 0,
             "ticks": ""
            },
            "colorscale": [
             [
              0,
              "#0d0887"
             ],
             [
              0.1111111111111111,
              "#46039f"
             ],
             [
              0.2222222222222222,
              "#7201a8"
             ],
             [
              0.3333333333333333,
              "#9c179e"
             ],
             [
              0.4444444444444444,
              "#bd3786"
             ],
             [
              0.5555555555555556,
              "#d8576b"
             ],
             [
              0.6666666666666666,
              "#ed7953"
             ],
             [
              0.7777777777777778,
              "#fb9f3a"
             ],
             [
              0.8888888888888888,
              "#fdca26"
             ],
             [
              1,
              "#f0f921"
             ]
            ],
            "type": "heatmapgl"
           }
          ],
          "histogram": [
           {
            "marker": {
             "pattern": {
              "fillmode": "overlay",
              "size": 10,
              "solidity": 0.2
             }
            },
            "type": "histogram"
           }
          ],
          "histogram2d": [
           {
            "colorbar": {
             "outlinewidth": 0,
             "ticks": ""
            },
            "colorscale": [
             [
              0,
              "#0d0887"
             ],
             [
              0.1111111111111111,
              "#46039f"
             ],
             [
              0.2222222222222222,
              "#7201a8"
             ],
             [
              0.3333333333333333,
              "#9c179e"
             ],
             [
              0.4444444444444444,
              "#bd3786"
             ],
             [
              0.5555555555555556,
              "#d8576b"
             ],
             [
              0.6666666666666666,
              "#ed7953"
             ],
             [
              0.7777777777777778,
              "#fb9f3a"
             ],
             [
              0.8888888888888888,
              "#fdca26"
             ],
             [
              1,
              "#f0f921"
             ]
            ],
            "type": "histogram2d"
           }
          ],
          "histogram2dcontour": [
           {
            "colorbar": {
             "outlinewidth": 0,
             "ticks": ""
            },
            "colorscale": [
             [
              0,
              "#0d0887"
             ],
             [
              0.1111111111111111,
              "#46039f"
             ],
             [
              0.2222222222222222,
              "#7201a8"
             ],
             [
              0.3333333333333333,
              "#9c179e"
             ],
             [
              0.4444444444444444,
              "#bd3786"
             ],
             [
              0.5555555555555556,
              "#d8576b"
             ],
             [
              0.6666666666666666,
              "#ed7953"
             ],
             [
              0.7777777777777778,
              "#fb9f3a"
             ],
             [
              0.8888888888888888,
              "#fdca26"
             ],
             [
              1,
              "#f0f921"
             ]
            ],
            "type": "histogram2dcontour"
           }
          ],
          "mesh3d": [
           {
            "colorbar": {
             "outlinewidth": 0,
             "ticks": ""
            },
            "type": "mesh3d"
           }
          ],
          "parcoords": [
           {
            "line": {
             "colorbar": {
              "outlinewidth": 0,
              "ticks": ""
             }
            },
            "type": "parcoords"
           }
          ],
          "pie": [
           {
            "automargin": true,
            "type": "pie"
           }
          ],
          "scatter": [
           {
            "fillpattern": {
             "fillmode": "overlay",
             "size": 10,
             "solidity": 0.2
            },
            "type": "scatter"
           }
          ],
          "scatter3d": [
           {
            "line": {
             "colorbar": {
              "outlinewidth": 0,
              "ticks": ""
             }
            },
            "marker": {
             "colorbar": {
              "outlinewidth": 0,
              "ticks": ""
             }
            },
            "type": "scatter3d"
           }
          ],
          "scattercarpet": [
           {
            "marker": {
             "colorbar": {
              "outlinewidth": 0,
              "ticks": ""
             }
            },
            "type": "scattercarpet"
           }
          ],
          "scattergeo": [
           {
            "marker": {
             "colorbar": {
              "outlinewidth": 0,
              "ticks": ""
             }
            },
            "type": "scattergeo"
           }
          ],
          "scattergl": [
           {
            "marker": {
             "colorbar": {
              "outlinewidth": 0,
              "ticks": ""
             }
            },
            "type": "scattergl"
           }
          ],
          "scattermapbox": [
           {
            "marker": {
             "colorbar": {
              "outlinewidth": 0,
              "ticks": ""
             }
            },
            "type": "scattermapbox"
           }
          ],
          "scatterpolar": [
           {
            "marker": {
             "colorbar": {
              "outlinewidth": 0,
              "ticks": ""
             }
            },
            "type": "scatterpolar"
           }
          ],
          "scatterpolargl": [
           {
            "marker": {
             "colorbar": {
              "outlinewidth": 0,
              "ticks": ""
             }
            },
            "type": "scatterpolargl"
           }
          ],
          "scatterternary": [
           {
            "marker": {
             "colorbar": {
              "outlinewidth": 0,
              "ticks": ""
             }
            },
            "type": "scatterternary"
           }
          ],
          "surface": [
           {
            "colorbar": {
             "outlinewidth": 0,
             "ticks": ""
            },
            "colorscale": [
             [
              0,
              "#0d0887"
             ],
             [
              0.1111111111111111,
              "#46039f"
             ],
             [
              0.2222222222222222,
              "#7201a8"
             ],
             [
              0.3333333333333333,
              "#9c179e"
             ],
             [
              0.4444444444444444,
              "#bd3786"
             ],
             [
              0.5555555555555556,
              "#d8576b"
             ],
             [
              0.6666666666666666,
              "#ed7953"
             ],
             [
              0.7777777777777778,
              "#fb9f3a"
             ],
             [
              0.8888888888888888,
              "#fdca26"
             ],
             [
              1,
              "#f0f921"
             ]
            ],
            "type": "surface"
           }
          ],
          "table": [
           {
            "cells": {
             "fill": {
              "color": "#EBF0F8"
             },
             "line": {
              "color": "white"
             }
            },
            "header": {
             "fill": {
              "color": "#C8D4E3"
             },
             "line": {
              "color": "white"
             }
            },
            "type": "table"
           }
          ]
         },
         "layout": {
          "annotationdefaults": {
           "arrowcolor": "#2a3f5f",
           "arrowhead": 0,
           "arrowwidth": 1
          },
          "autotypenumbers": "strict",
          "coloraxis": {
           "colorbar": {
            "outlinewidth": 0,
            "ticks": ""
           }
          },
          "colorscale": {
           "diverging": [
            [
             0,
             "#8e0152"
            ],
            [
             0.1,
             "#c51b7d"
            ],
            [
             0.2,
             "#de77ae"
            ],
            [
             0.3,
             "#f1b6da"
            ],
            [
             0.4,
             "#fde0ef"
            ],
            [
             0.5,
             "#f7f7f7"
            ],
            [
             0.6,
             "#e6f5d0"
            ],
            [
             0.7,
             "#b8e186"
            ],
            [
             0.8,
             "#7fbc41"
            ],
            [
             0.9,
             "#4d9221"
            ],
            [
             1,
             "#276419"
            ]
           ],
           "sequential": [
            [
             0,
             "#0d0887"
            ],
            [
             0.1111111111111111,
             "#46039f"
            ],
            [
             0.2222222222222222,
             "#7201a8"
            ],
            [
             0.3333333333333333,
             "#9c179e"
            ],
            [
             0.4444444444444444,
             "#bd3786"
            ],
            [
             0.5555555555555556,
             "#d8576b"
            ],
            [
             0.6666666666666666,
             "#ed7953"
            ],
            [
             0.7777777777777778,
             "#fb9f3a"
            ],
            [
             0.8888888888888888,
             "#fdca26"
            ],
            [
             1,
             "#f0f921"
            ]
           ],
           "sequentialminus": [
            [
             0,
             "#0d0887"
            ],
            [
             0.1111111111111111,
             "#46039f"
            ],
            [
             0.2222222222222222,
             "#7201a8"
            ],
            [
             0.3333333333333333,
             "#9c179e"
            ],
            [
             0.4444444444444444,
             "#bd3786"
            ],
            [
             0.5555555555555556,
             "#d8576b"
            ],
            [
             0.6666666666666666,
             "#ed7953"
            ],
            [
             0.7777777777777778,
             "#fb9f3a"
            ],
            [
             0.8888888888888888,
             "#fdca26"
            ],
            [
             1,
             "#f0f921"
            ]
           ]
          },
          "colorway": [
           "#636efa",
           "#EF553B",
           "#00cc96",
           "#ab63fa",
           "#FFA15A",
           "#19d3f3",
           "#FF6692",
           "#B6E880",
           "#FF97FF",
           "#FECB52"
          ],
          "font": {
           "color": "#2a3f5f"
          },
          "geo": {
           "bgcolor": "white",
           "lakecolor": "white",
           "landcolor": "#E5ECF6",
           "showlakes": true,
           "showland": true,
           "subunitcolor": "white"
          },
          "hoverlabel": {
           "align": "left"
          },
          "hovermode": "closest",
          "mapbox": {
           "style": "light"
          },
          "paper_bgcolor": "white",
          "plot_bgcolor": "#E5ECF6",
          "polar": {
           "angularaxis": {
            "gridcolor": "white",
            "linecolor": "white",
            "ticks": ""
           },
           "bgcolor": "#E5ECF6",
           "radialaxis": {
            "gridcolor": "white",
            "linecolor": "white",
            "ticks": ""
           }
          },
          "scene": {
           "xaxis": {
            "backgroundcolor": "#E5ECF6",
            "gridcolor": "white",
            "gridwidth": 2,
            "linecolor": "white",
            "showbackground": true,
            "ticks": "",
            "zerolinecolor": "white"
           },
           "yaxis": {
            "backgroundcolor": "#E5ECF6",
            "gridcolor": "white",
            "gridwidth": 2,
            "linecolor": "white",
            "showbackground": true,
            "ticks": "",
            "zerolinecolor": "white"
           },
           "zaxis": {
            "backgroundcolor": "#E5ECF6",
            "gridcolor": "white",
            "gridwidth": 2,
            "linecolor": "white",
            "showbackground": true,
            "ticks": "",
            "zerolinecolor": "white"
           }
          },
          "shapedefaults": {
           "line": {
            "color": "#2a3f5f"
           }
          },
          "ternary": {
           "aaxis": {
            "gridcolor": "white",
            "linecolor": "white",
            "ticks": ""
           },
           "baxis": {
            "gridcolor": "white",
            "linecolor": "white",
            "ticks": ""
           },
           "bgcolor": "#E5ECF6",
           "caxis": {
            "gridcolor": "white",
            "linecolor": "white",
            "ticks": ""
           }
          },
          "title": {
           "x": 0.05
          },
          "xaxis": {
           "automargin": true,
           "gridcolor": "white",
           "linecolor": "white",
           "ticks": "",
           "title": {
            "standoff": 15
           },
           "zerolinecolor": "white",
           "zerolinewidth": 2
          },
          "yaxis": {
           "automargin": true,
           "gridcolor": "white",
           "linecolor": "white",
           "ticks": "",
           "title": {
            "standoff": 15
           },
           "zerolinecolor": "white",
           "zerolinewidth": 2
          }
         }
        },
        "xaxis": {
         "anchor": "y",
         "autorange": true,
         "domain": [
          0,
          1
         ],
         "range": [
          6.061659786175506,
          60.938340213824496
         ],
         "title": {
          "text": "terseness"
         },
         "type": "linear"
        },
        "yaxis": {
         "anchor": "x",
         "autorange": true,
         "domain": [
          0,
          1
         ],
         "range": [
          68.59320866141732,
          92.93179133858267
         ],
         "title": {
          "text": "remoteness"
         },
         "type": "linear"
        }
       }
      },
      "image/png": "[encoded data removed]"
     },
     "metadata": {},
     "output_type": "display_data"
    }
   ],
   "source": [
    "px.scatter(df, x=\"terseness\", y=\"remoteness\", hover_name=\"dialect\", color=\"unique_across\")"
   ]
  },
  {
   "cell_type": "code",
   "execution_count": 37,
   "id": "22b6f1d8",
   "metadata": {},
   "outputs": [
    {
     "data": {
      "text/plain": [
       "['pretry\\npretry\\nProduction Budget\\ndata/movies.csv',\n",
       " 'pretry\\npretry\\nProduction Budget\\nMPAA Rating\\nMajor Genre\\ndata/movies.csv',\n",
       " 'cynodont\\npretry\\nMPAA Rating\\nMajor Genre\\ndata/movies.csv',\n",
       " 'pretry\\ncynodont\\nWorldwide Gross\\nProduction Budget\\nMPAA Rating\\ndata/movies.csv',\n",
       " 'pretry\\npretry\\nProduction Budget\\nMPAA Rating\\ndata/movies.csv',\n",
       " 'pretry\\npretry\\npretry\\nWorldwide Gross\\nRelease Date\\ndata/movies.csv',\n",
       " 'pretry\\npretry\\npretry\\nProduction Budget\\nMajor Genre\\ndata/movies.csv',\n",
       " 'cynodont\\npretry\\npretry\\nWorldwide Gross\\nProduction Budget\\nMPAA Rating\\ndata/movies.csv',\n",
       " 'cynodont\\npretry\\ncynodont\\nMajor Genre\\ndata/movies.csv',\n",
       " 'pretry\\ncynodont\\ncynodont\\nMPAA Rating\\nMajor Genre\\ndata/movies.csv',\n",
       " 'pretry\\npretry\\ncynodont\\nProduction Budget\\nMPAA Rating\\nMajor Genre\\ndata/movies.csv',\n",
       " 'cynodont\\npretry\\npretry\\ncynodont\\nWorldwide Gross\\nProduction Budget\\nRelease Date\\ndata/movies.csv',\n",
       " 'pretry\\npretry\\ncynodont\\nProduction Budget\\nMajor Genre\\ndata/movies.csv',\n",
       " 'pretry\\npretry\\npretry\\ncynodont\\nProduction Budget\\ndata/movies.csv',\n",
       " 'pretry\\npretry\\ncynodont\\nWorldwide Gross\\nRelease Date\\nMPAA Rating\\ndata/movies.csv',\n",
       " 'cynodont\\npretry\\npretry\\npretry\\nMajor Genre\\ndata/movies.csv',\n",
       " 'cynodont\\nWorldwide Gross\\nRelease Date\\ndata/movies.csv',\n",
       " 'pretry\\npretry\\npretry\\nProduction Budget\\nMPAA Rating\\nMajor Genre\\ndata/movies.csv',\n",
       " 'pretry\\ncynodont\\npretry\\nProduction Budget\\nMPAA Rating\\nMajor Genre\\ndata/movies.csv',\n",
       " 'pretry\\ncynodont\\npretry\\ncynodont\\nMPAA Rating\\nMajor Genre\\ndata/movies.csv',\n",
       " 'cynodont\\npretry\\npretry\\nWorldwide Gross\\nRelease Date\\ndata/movies.csv',\n",
       " 'pretry\\npretry\\npretry\\npretry\\nProduction Budget\\nMajor Genre\\ndata/movies.csv',\n",
       " 'Worldwide Gross\\nRelease Date\\nMPAA Rating\\ndata/movies.csv',\n",
       " 'cynodont\\ncynodont\\nWorldwide Gross\\nRelease Date\\nMPAA Rating\\ndata/movies.csv',\n",
       " 'cynodont\\npretry\\npretry\\npretry\\ncynodont\\nWorldwide Gross\\nProduction Budget\\nMPAA Rating\\ndata/movies.csv',\n",
       " 'pretry\\nWorldwide Gross\\nProduction Budget\\ndata/movies.csv',\n",
       " 'cynodont\\nWorldwide Gross\\nProduction Budget\\nMPAA Rating\\nIMDB Rating\\ndata/movies.csv',\n",
       " 'pretry\\npretry\\nMajor Genre\\ndata/movies.csv',\n",
       " 'cynodont\\npretry\\npretry\\ncynodont\\nWorldwide Gross\\nProduction Budget\\nMPAA Rating\\nIMDB Rating\\ndata/movies.csv',\n",
       " 'pretry\\ncynodont\\npretry\\nProduction Budget\\nMPAA Rating\\nMajor Genre\\ndata/movies.csv',\n",
       " 'pretry\\ncynodont\\npretry\\npretry\\nProduction Budget\\nMajor Genre\\ndata/movies.csv',\n",
       " 'pretry\\ncynodont\\npretry\\npretry\\ncynodont\\nProduction Budget\\nMPAA Rating\\nMajor Genre\\ndata/movies.csv',\n",
       " 'pretry\\ncynodont\\nWorldwide Gross\\nProduction Budget\\nIMDB Rating\\ndata/movies.csv',\n",
       " 'pretry\\nMPAA Rating\\ndata/movies.csv',\n",
       " 'pretry\\ncynodont\\npretry\\ncynodont\\nWorldwide Gross\\nProduction Budget\\nMPAA Rating\\ndata/movies.csv',\n",
       " 'pretry\\nWorldwide Gross\\nProduction Budget\\ndata/movies.csv',\n",
       " 'cynodont\\npretry\\nWorldwide Gross\\nProduction Budget\\nMPAA Rating\\nMajor Genre\\ndata/movies.csv',\n",
       " 'pretry\\npretry\\npretry\\nMajor Genre\\ndata/movies.csv',\n",
       " 'pretry\\ncynodont\\nMPAA Rating\\ndata/movies.csv',\n",
       " 'pretry\\npretry\\ncynodont\\nProduction Budget\\nMajor Genre\\ndata/movies.csv']"
      ]
     },
     "execution_count": 37,
     "metadata": {},
     "output_type": "execute_result"
    }
   ],
   "source": [
    "synthetic_specs(2, dt_by_spec,False)"
   ]
  },
  {
   "cell_type": "code",
   "execution_count": null,
   "id": "a29cc0ce",
   "metadata": {},
   "outputs": [],
   "source": []
  }
 ],
 "metadata": {
  "kernelspec": {
   "display_name": "Python 3 (ipykernel)",
   "language": "python",
   "name": "python3"
  },
  "language_info": {
   "codemirror_mode": {
    "name": "ipython",
    "version": 3
   },
   "file_extension": ".py",
   "mimetype": "text/x-python",
   "name": "python",
   "nbconvert_exporter": "python",
   "pygments_lexer": "ipython3",
   "version": "3.10.9"
  },
  "vscode": {
   "interpreter": {
    "hash": "69a49a9ae073a79c3b3f7f393b957c9cb52a50ccc1454dc1a5889f6bdad930a4"
   }
  }
 },
 "nbformat": 4,
 "nbformat_minor": 5
}
