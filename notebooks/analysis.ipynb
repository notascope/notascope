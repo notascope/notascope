{
  "cells": [
    {
      "cell_type": "code",
      "execution_count": 1,
      "id": "99d9feea-d2da-40da-b48a-eb7b01332001",
      "metadata": {},
      "outputs": [],
      "source": [
        "import plotly.express as px\n",
        "import pandas as pd\n",
        "import plotly.graph_objects as go"
      ]
    },
    {
      "cell_type": "code",
      "execution_count": 2,
      "id": "edd9f4a6-5c54-4aaf-9d54-e58ea0bcdd80",
      "metadata": {},
      "outputs": [],
      "source": [
        "import xarray as xr"
      ]
    },
    {
      "cell_type": "code",
      "execution_count": 89,
      "id": "8954b969-7817-4aa8-96c1-b81e47ccf7c5",
      "metadata": {},
      "outputs": [],
      "source": [
        "import networkx as nx\n",
        "import numpy as np\n",
        "import pyvis"
      ]
    },
    {
      "cell_type": "code",
      "execution_count": 4,
      "id": "92927785-67a2-4d14-b7d3-f8979f4ec4d9",
      "metadata": {},
      "outputs": [],
      "source": [
        "%matplotlib inline"
      ]
    },
    {
      "cell_type": "code",
      "execution_count": 5,
      "id": "4bee2136-a5dd-46fe-b2a2-3a5a3259d35b",
      "metadata": {},
      "outputs": [],
      "source": [
        "df = pd.read_csv(\"results/costs.csv\", names=[\"system\",\"from_spec\", \"to_spec\", \"cost\"]\n",
        "                ).set_index([\"system\",\"from_spec\", \"to_spec\"])\n",
        "data = df[[\"cost\"]].to_xarray()"
      ]
    },
    {
      "cell_type": "code",
      "execution_count": 202,
      "id": "113e97bb-0106-470d-a639-36f5a955eaf1",
      "metadata": {},
      "outputs": [
        {
          "data": {
            "text/html": [
              "<div>\n",
              "<style scoped>\n",
              "    .dataframe tbody tr th:only-of-type {\n",
              "        vertical-align: middle;\n",
              "    }\n",
              "\n",
              "    .dataframe tbody tr th {\n",
              "        vertical-align: top;\n",
              "    }\n",
              "\n",
              "    .dataframe thead th {\n",
              "        text-align: right;\n",
              "    }\n",
              "</style>\n",
              "<table border=\"1\" class=\"dataframe\">\n",
              "  <thead>\n",
              "    <tr style=\"text-align: right;\">\n",
              "      <th></th>\n",
              "      <th></th>\n",
              "      <th></th>\n",
              "      <th>cost</th>\n",
              "    </tr>\n",
              "    <tr>\n",
              "      <th>system</th>\n",
              "      <th>from_spec</th>\n",
              "      <th>to_spec</th>\n",
              "      <th></th>\n",
              "    </tr>\n",
              "  </thead>\n",
              "  <tbody>\n",
              "    <tr>\n",
              "      <th rowspan=\"5\" valign=\"top\">altair</th>\n",
              "      <th rowspan=\"5\" valign=\"top\">box</th>\n",
              "      <th>box_day</th>\n",
              "      <td>4</td>\n",
              "    </tr>\n",
              "    <tr>\n",
              "      <th>box_day_time</th>\n",
              "      <td>6</td>\n",
              "    </tr>\n",
              "    <tr>\n",
              "      <th>box_time</th>\n",
              "      <td>4</td>\n",
              "    </tr>\n",
              "    <tr>\n",
              "      <th>box_time_day</th>\n",
              "      <td>6</td>\n",
              "    </tr>\n",
              "    <tr>\n",
              "      <th>strip</th>\n",
              "      <td>40</td>\n",
              "    </tr>\n",
              "    <tr>\n",
              "      <th>...</th>\n",
              "      <th>...</th>\n",
              "      <th>...</th>\n",
              "      <td>...</td>\n",
              "    </tr>\n",
              "    <tr>\n",
              "      <th rowspan=\"5\" valign=\"top\">seaborn</th>\n",
              "      <th rowspan=\"5\" valign=\"top\">strip_time</th>\n",
              "      <th>box_day_time</th>\n",
              "      <td>5</td>\n",
              "    </tr>\n",
              "    <tr>\n",
              "      <th>box_time</th>\n",
              "      <td>1</td>\n",
              "    </tr>\n",
              "    <tr>\n",
              "      <th>box_time_day</th>\n",
              "      <td>6</td>\n",
              "    </tr>\n",
              "    <tr>\n",
              "      <th>strip</th>\n",
              "      <td>1</td>\n",
              "    </tr>\n",
              "    <tr>\n",
              "      <th>strip_day</th>\n",
              "      <td>1</td>\n",
              "    </tr>\n",
              "  </tbody>\n",
              "</table>\n",
              "<p>224 rows × 1 columns</p>\n",
              "</div>"
            ],
            "text/plain": [
              "                                 cost\n",
              "system  from_spec  to_spec           \n",
              "altair  box        box_day          4\n",
              "                   box_day_time     6\n",
              "                   box_time         4\n",
              "                   box_time_day     6\n",
              "                   strip           40\n",
              "...                               ...\n",
              "seaborn strip_time box_day_time     5\n",
              "                   box_time         1\n",
              "                   box_time_day     6\n",
              "                   strip            1\n",
              "                   strip_day        1\n",
              "\n",
              "[224 rows x 1 columns]"
            ]
          },
          "execution_count": 202,
          "metadata": {},
          "output_type": "execute_result"
        }
      ],
      "source": [
        "df"
      ]
    },
    {
      "cell_type": "code",
      "execution_count": 6,
      "id": "453e33d8-2512-496a-bd55-331c73287961",
      "metadata": {},
      "outputs": [
        {
          "data": {
            "text/html": [
              "<div><svg style=\"position: absolute; width: 0; height: 0; overflow: hidden\">\n",
              "<defs>\n",
              "<symbol id=\"icon-database\" viewBox=\"0 0 32 32\">\n",
              "<path d=\"M16 0c-8.837 0-16 2.239-16 5v4c0 2.761 7.163 5 16 5s16-2.239 16-5v-4c0-2.761-7.163-5-16-5z\"></path>\n",
              "<path d=\"M16 17c-8.837 0-16-2.239-16-5v6c0 2.761 7.163 5 16 5s16-2.239 16-5v-6c0 2.761-7.163 5-16 5z\"></path>\n",
              "<path d=\"M16 26c-8.837 0-16-2.239-16-5v6c0 2.761 7.163 5 16 5s16-2.239 16-5v-6c0 2.761-7.163 5-16 5z\"></path>\n",
              "</symbol>\n",
              "<symbol id=\"icon-file-text2\" viewBox=\"0 0 32 32\">\n",
              "<path d=\"M28.681 7.159c-0.694-0.947-1.662-2.053-2.724-3.116s-2.169-2.030-3.116-2.724c-1.612-1.182-2.393-1.319-2.841-1.319h-15.5c-1.378 0-2.5 1.121-2.5 2.5v27c0 1.378 1.122 2.5 2.5 2.5h23c1.378 0 2.5-1.122 2.5-2.5v-19.5c0-0.448-0.137-1.23-1.319-2.841zM24.543 5.457c0.959 0.959 1.712 1.825 2.268 2.543h-4.811v-4.811c0.718 0.556 1.584 1.309 2.543 2.268zM28 29.5c0 0.271-0.229 0.5-0.5 0.5h-23c-0.271 0-0.5-0.229-0.5-0.5v-27c0-0.271 0.229-0.5 0.5-0.5 0 0 15.499-0 15.5 0v7c0 0.552 0.448 1 1 1h7v19.5z\"></path>\n",
              "<path d=\"M23 26h-14c-0.552 0-1-0.448-1-1s0.448-1 1-1h14c0.552 0 1 0.448 1 1s-0.448 1-1 1z\"></path>\n",
              "<path d=\"M23 22h-14c-0.552 0-1-0.448-1-1s0.448-1 1-1h14c0.552 0 1 0.448 1 1s-0.448 1-1 1z\"></path>\n",
              "<path d=\"M23 18h-14c-0.552 0-1-0.448-1-1s0.448-1 1-1h14c0.552 0 1 0.448 1 1s-0.448 1-1 1z\"></path>\n",
              "</symbol>\n",
              "</defs>\n",
              "</svg>\n",
              "<style>/* CSS stylesheet for displaying xarray objects in jupyterlab.\n",
              " *\n",
              " */\n",
              "\n",
              ":root {\n",
              "  --xr-font-color0: var(--jp-content-font-color0, rgba(0, 0, 0, 1));\n",
              "  --xr-font-color2: var(--jp-content-font-color2, rgba(0, 0, 0, 0.54));\n",
              "  --xr-font-color3: var(--jp-content-font-color3, rgba(0, 0, 0, 0.38));\n",
              "  --xr-border-color: var(--jp-border-color2, #e0e0e0);\n",
              "  --xr-disabled-color: var(--jp-layout-color3, #bdbdbd);\n",
              "  --xr-background-color: var(--jp-layout-color0, white);\n",
              "  --xr-background-color-row-even: var(--jp-layout-color1, white);\n",
              "  --xr-background-color-row-odd: var(--jp-layout-color2, #eeeeee);\n",
              "}\n",
              "\n",
              "html[theme=dark],\n",
              "body.vscode-dark {\n",
              "  --xr-font-color0: rgba(255, 255, 255, 1);\n",
              "  --xr-font-color2: rgba(255, 255, 255, 0.54);\n",
              "  --xr-font-color3: rgba(255, 255, 255, 0.38);\n",
              "  --xr-border-color: #1F1F1F;\n",
              "  --xr-disabled-color: #515151;\n",
              "  --xr-background-color: #111111;\n",
              "  --xr-background-color-row-even: #111111;\n",
              "  --xr-background-color-row-odd: #313131;\n",
              "}\n",
              "\n",
              ".xr-wrap {\n",
              "  display: block;\n",
              "  min-width: 300px;\n",
              "  max-width: 700px;\n",
              "}\n",
              "\n",
              ".xr-text-repr-fallback {\n",
              "  /* fallback to plain text repr when CSS is not injected (untrusted notebook) */\n",
              "  display: none;\n",
              "}\n",
              "\n",
              ".xr-header {\n",
              "  padding-top: 6px;\n",
              "  padding-bottom: 6px;\n",
              "  margin-bottom: 4px;\n",
              "  border-bottom: solid 1px var(--xr-border-color);\n",
              "}\n",
              "\n",
              ".xr-header > div,\n",
              ".xr-header > ul {\n",
              "  display: inline;\n",
              "  margin-top: 0;\n",
              "  margin-bottom: 0;\n",
              "}\n",
              "\n",
              ".xr-obj-type,\n",
              ".xr-array-name {\n",
              "  margin-left: 2px;\n",
              "  margin-right: 10px;\n",
              "}\n",
              "\n",
              ".xr-obj-type {\n",
              "  color: var(--xr-font-color2);\n",
              "}\n",
              "\n",
              ".xr-sections {\n",
              "  padding-left: 0 !important;\n",
              "  display: grid;\n",
              "  grid-template-columns: 150px auto auto 1fr 20px 20px;\n",
              "}\n",
              "\n",
              ".xr-section-item {\n",
              "  display: contents;\n",
              "}\n",
              "\n",
              ".xr-section-item input {\n",
              "  display: none;\n",
              "}\n",
              "\n",
              ".xr-section-item input + label {\n",
              "  color: var(--xr-disabled-color);\n",
              "}\n",
              "\n",
              ".xr-section-item input:enabled + label {\n",
              "  cursor: pointer;\n",
              "  color: var(--xr-font-color2);\n",
              "}\n",
              "\n",
              ".xr-section-item input:enabled + label:hover {\n",
              "  color: var(--xr-font-color0);\n",
              "}\n",
              "\n",
              ".xr-section-summary {\n",
              "  grid-column: 1;\n",
              "  color: var(--xr-font-color2);\n",
              "  font-weight: 500;\n",
              "}\n",
              "\n",
              ".xr-section-summary > span {\n",
              "  display: inline-block;\n",
              "  padding-left: 0.5em;\n",
              "}\n",
              "\n",
              ".xr-section-summary-in:disabled + label {\n",
              "  color: var(--xr-font-color2);\n",
              "}\n",
              "\n",
              ".xr-section-summary-in + label:before {\n",
              "  display: inline-block;\n",
              "  content: '►';\n",
              "  font-size: 11px;\n",
              "  width: 15px;\n",
              "  text-align: center;\n",
              "}\n",
              "\n",
              ".xr-section-summary-in:disabled + label:before {\n",
              "  color: var(--xr-disabled-color);\n",
              "}\n",
              "\n",
              ".xr-section-summary-in:checked + label:before {\n",
              "  content: '▼';\n",
              "}\n",
              "\n",
              ".xr-section-summary-in:checked + label > span {\n",
              "  display: none;\n",
              "}\n",
              "\n",
              ".xr-section-summary,\n",
              ".xr-section-inline-details {\n",
              "  padding-top: 4px;\n",
              "  padding-bottom: 4px;\n",
              "}\n",
              "\n",
              ".xr-section-inline-details {\n",
              "  grid-column: 2 / -1;\n",
              "}\n",
              "\n",
              ".xr-section-details {\n",
              "  display: none;\n",
              "  grid-column: 1 / -1;\n",
              "  margin-bottom: 5px;\n",
              "}\n",
              "\n",
              ".xr-section-summary-in:checked ~ .xr-section-details {\n",
              "  display: contents;\n",
              "}\n",
              "\n",
              ".xr-array-wrap {\n",
              "  grid-column: 1 / -1;\n",
              "  display: grid;\n",
              "  grid-template-columns: 20px auto;\n",
              "}\n",
              "\n",
              ".xr-array-wrap > label {\n",
              "  grid-column: 1;\n",
              "  vertical-align: top;\n",
              "}\n",
              "\n",
              ".xr-preview {\n",
              "  color: var(--xr-font-color3);\n",
              "}\n",
              "\n",
              ".xr-array-preview,\n",
              ".xr-array-data {\n",
              "  padding: 0 5px !important;\n",
              "  grid-column: 2;\n",
              "}\n",
              "\n",
              ".xr-array-data,\n",
              ".xr-array-in:checked ~ .xr-array-preview {\n",
              "  display: none;\n",
              "}\n",
              "\n",
              ".xr-array-in:checked ~ .xr-array-data,\n",
              ".xr-array-preview {\n",
              "  display: inline-block;\n",
              "}\n",
              "\n",
              ".xr-dim-list {\n",
              "  display: inline-block !important;\n",
              "  list-style: none;\n",
              "  padding: 0 !important;\n",
              "  margin: 0;\n",
              "}\n",
              "\n",
              ".xr-dim-list li {\n",
              "  display: inline-block;\n",
              "  padding: 0;\n",
              "  margin: 0;\n",
              "}\n",
              "\n",
              ".xr-dim-list:before {\n",
              "  content: '(';\n",
              "}\n",
              "\n",
              ".xr-dim-list:after {\n",
              "  content: ')';\n",
              "}\n",
              "\n",
              ".xr-dim-list li:not(:last-child):after {\n",
              "  content: ',';\n",
              "  padding-right: 5px;\n",
              "}\n",
              "\n",
              ".xr-has-index {\n",
              "  font-weight: bold;\n",
              "}\n",
              "\n",
              ".xr-var-list,\n",
              ".xr-var-item {\n",
              "  display: contents;\n",
              "}\n",
              "\n",
              ".xr-var-item > div,\n",
              ".xr-var-item label,\n",
              ".xr-var-item > .xr-var-name span {\n",
              "  background-color: var(--xr-background-color-row-even);\n",
              "  margin-bottom: 0;\n",
              "}\n",
              "\n",
              ".xr-var-item > .xr-var-name:hover span {\n",
              "  padding-right: 5px;\n",
              "}\n",
              "\n",
              ".xr-var-list > li:nth-child(odd) > div,\n",
              ".xr-var-list > li:nth-child(odd) > label,\n",
              ".xr-var-list > li:nth-child(odd) > .xr-var-name span {\n",
              "  background-color: var(--xr-background-color-row-odd);\n",
              "}\n",
              "\n",
              ".xr-var-name {\n",
              "  grid-column: 1;\n",
              "}\n",
              "\n",
              ".xr-var-dims {\n",
              "  grid-column: 2;\n",
              "}\n",
              "\n",
              ".xr-var-dtype {\n",
              "  grid-column: 3;\n",
              "  text-align: right;\n",
              "  color: var(--xr-font-color2);\n",
              "}\n",
              "\n",
              ".xr-var-preview {\n",
              "  grid-column: 4;\n",
              "}\n",
              "\n",
              ".xr-var-name,\n",
              ".xr-var-dims,\n",
              ".xr-var-dtype,\n",
              ".xr-preview,\n",
              ".xr-attrs dt {\n",
              "  white-space: nowrap;\n",
              "  overflow: hidden;\n",
              "  text-overflow: ellipsis;\n",
              "  padding-right: 10px;\n",
              "}\n",
              "\n",
              ".xr-var-name:hover,\n",
              ".xr-var-dims:hover,\n",
              ".xr-var-dtype:hover,\n",
              ".xr-attrs dt:hover {\n",
              "  overflow: visible;\n",
              "  width: auto;\n",
              "  z-index: 1;\n",
              "}\n",
              "\n",
              ".xr-var-attrs,\n",
              ".xr-var-data {\n",
              "  display: none;\n",
              "  background-color: var(--xr-background-color) !important;\n",
              "  padding-bottom: 5px !important;\n",
              "}\n",
              "\n",
              ".xr-var-attrs-in:checked ~ .xr-var-attrs,\n",
              ".xr-var-data-in:checked ~ .xr-var-data {\n",
              "  display: block;\n",
              "}\n",
              "\n",
              ".xr-var-data > table {\n",
              "  float: right;\n",
              "}\n",
              "\n",
              ".xr-var-name span,\n",
              ".xr-var-data,\n",
              ".xr-attrs {\n",
              "  padding-left: 25px !important;\n",
              "}\n",
              "\n",
              ".xr-attrs,\n",
              ".xr-var-attrs,\n",
              ".xr-var-data {\n",
              "  grid-column: 1 / -1;\n",
              "}\n",
              "\n",
              "dl.xr-attrs {\n",
              "  padding: 0;\n",
              "  margin: 0;\n",
              "  display: grid;\n",
              "  grid-template-columns: 125px auto;\n",
              "}\n",
              "\n",
              ".xr-attrs dt,\n",
              ".xr-attrs dd {\n",
              "  padding: 0;\n",
              "  margin: 0;\n",
              "  float: left;\n",
              "  padding-right: 10px;\n",
              "  width: auto;\n",
              "}\n",
              "\n",
              ".xr-attrs dt {\n",
              "  font-weight: normal;\n",
              "  grid-column: 1;\n",
              "}\n",
              "\n",
              ".xr-attrs dt:hover span {\n",
              "  display: inline-block;\n",
              "  background: var(--xr-background-color);\n",
              "  padding-right: 10px;\n",
              "}\n",
              "\n",
              ".xr-attrs dd {\n",
              "  grid-column: 2;\n",
              "  white-space: pre-wrap;\n",
              "  word-break: break-all;\n",
              "}\n",
              "\n",
              ".xr-icon-database,\n",
              ".xr-icon-file-text2 {\n",
              "  display: inline-block;\n",
              "  vertical-align: middle;\n",
              "  width: 1em;\n",
              "  height: 1.5em !important;\n",
              "  stroke-width: 0;\n",
              "  stroke: currentColor;\n",
              "  fill: currentColor;\n",
              "}\n",
              "</style><pre class='xr-text-repr-fallback'>&lt;xarray.Dataset&gt;\n",
              "Dimensions:    (system: 4, from_spec: 8, to_spec: 8)\n",
              "Coordinates:\n",
              "  * system     (system) object &#x27;altair&#x27; &#x27;ggplot&#x27; &#x27;px&#x27; &#x27;seaborn&#x27;\n",
              "  * from_spec  (from_spec) object &#x27;box&#x27; &#x27;box_day&#x27; ... &#x27;strip_day&#x27; &#x27;strip_time&#x27;\n",
              "  * to_spec    (to_spec) object &#x27;box&#x27; &#x27;box_day&#x27; ... &#x27;strip_day&#x27; &#x27;strip_time&#x27;\n",
              "Data variables:\n",
              "    cost       (system, from_spec, to_spec) float64 nan 4.0 6.0 ... 1.0 1.0 nan</pre><div class='xr-wrap' hidden><div class='xr-header'><div class='xr-obj-type'>xarray.Dataset</div></div><ul class='xr-sections'><li class='xr-section-item'><input id='section-9b7e7a57-e923-4f44-bd2d-5e39435d622a' class='xr-section-summary-in' type='checkbox' disabled ><label for='section-9b7e7a57-e923-4f44-bd2d-5e39435d622a' class='xr-section-summary'  title='Expand/collapse section'>Dimensions:</label><div class='xr-section-inline-details'><ul class='xr-dim-list'><li><span class='xr-has-index'>system</span>: 4</li><li><span class='xr-has-index'>from_spec</span>: 8</li><li><span class='xr-has-index'>to_spec</span>: 8</li></ul></div><div class='xr-section-details'></div></li><li class='xr-section-item'><input id='section-a2b356d8-5906-450e-8f2f-36c25b9599fe' class='xr-section-summary-in' type='checkbox'  checked><label for='section-a2b356d8-5906-450e-8f2f-36c25b9599fe' class='xr-section-summary' >Coordinates: <span>(3)</span></label><div class='xr-section-inline-details'></div><div class='xr-section-details'><ul class='xr-var-list'><li class='xr-var-item'><div class='xr-var-name'><span class='xr-has-index'>system</span></div><div class='xr-var-dims'>(system)</div><div class='xr-var-dtype'>object</div><div class='xr-var-preview xr-preview'>&#x27;altair&#x27; &#x27;ggplot&#x27; &#x27;px&#x27; &#x27;seaborn&#x27;</div><input id='attrs-9d9bc94b-e8b9-42eb-96ab-b568b2dbef78' class='xr-var-attrs-in' type='checkbox' disabled><label for='attrs-9d9bc94b-e8b9-42eb-96ab-b568b2dbef78' title='Show/Hide attributes'><svg class='icon xr-icon-file-text2'><use xlink:href='#icon-file-text2'></use></svg></label><input id='data-7863ab83-6d27-4735-98b2-50201c43f1c4' class='xr-var-data-in' type='checkbox'><label for='data-7863ab83-6d27-4735-98b2-50201c43f1c4' title='Show/Hide data repr'><svg class='icon xr-icon-database'><use xlink:href='#icon-database'></use></svg></label><div class='xr-var-attrs'><dl class='xr-attrs'></dl></div><div class='xr-var-data'><pre>array([&#x27;altair&#x27;, &#x27;ggplot&#x27;, &#x27;px&#x27;, &#x27;seaborn&#x27;], dtype=object)</pre></div></li><li class='xr-var-item'><div class='xr-var-name'><span class='xr-has-index'>from_spec</span></div><div class='xr-var-dims'>(from_spec)</div><div class='xr-var-dtype'>object</div><div class='xr-var-preview xr-preview'>&#x27;box&#x27; &#x27;box_day&#x27; ... &#x27;strip_time&#x27;</div><input id='attrs-aaa9f221-cad8-4bd4-ae73-c47118e36a30' class='xr-var-attrs-in' type='checkbox' disabled><label for='attrs-aaa9f221-cad8-4bd4-ae73-c47118e36a30' title='Show/Hide attributes'><svg class='icon xr-icon-file-text2'><use xlink:href='#icon-file-text2'></use></svg></label><input id='data-b7292c79-6c22-4e6b-b3a3-51a673030cbb' class='xr-var-data-in' type='checkbox'><label for='data-b7292c79-6c22-4e6b-b3a3-51a673030cbb' title='Show/Hide data repr'><svg class='icon xr-icon-database'><use xlink:href='#icon-database'></use></svg></label><div class='xr-var-attrs'><dl class='xr-attrs'></dl></div><div class='xr-var-data'><pre>array([&#x27;box&#x27;, &#x27;box_day&#x27;, &#x27;box_day_time&#x27;, &#x27;box_time&#x27;, &#x27;box_time_day&#x27;, &#x27;strip&#x27;,\n",
              "       &#x27;strip_day&#x27;, &#x27;strip_time&#x27;], dtype=object)</pre></div></li><li class='xr-var-item'><div class='xr-var-name'><span class='xr-has-index'>to_spec</span></div><div class='xr-var-dims'>(to_spec)</div><div class='xr-var-dtype'>object</div><div class='xr-var-preview xr-preview'>&#x27;box&#x27; &#x27;box_day&#x27; ... &#x27;strip_time&#x27;</div><input id='attrs-0afefb29-e381-498b-aa35-dd28a7a39920' class='xr-var-attrs-in' type='checkbox' disabled><label for='attrs-0afefb29-e381-498b-aa35-dd28a7a39920' title='Show/Hide attributes'><svg class='icon xr-icon-file-text2'><use xlink:href='#icon-file-text2'></use></svg></label><input id='data-9abc7234-7dcf-4864-997f-81a399c31bbe' class='xr-var-data-in' type='checkbox'><label for='data-9abc7234-7dcf-4864-997f-81a399c31bbe' title='Show/Hide data repr'><svg class='icon xr-icon-database'><use xlink:href='#icon-database'></use></svg></label><div class='xr-var-attrs'><dl class='xr-attrs'></dl></div><div class='xr-var-data'><pre>array([&#x27;box&#x27;, &#x27;box_day&#x27;, &#x27;box_day_time&#x27;, &#x27;box_time&#x27;, &#x27;box_time_day&#x27;, &#x27;strip&#x27;,\n",
              "       &#x27;strip_day&#x27;, &#x27;strip_time&#x27;], dtype=object)</pre></div></li></ul></div></li><li class='xr-section-item'><input id='section-287c61b8-f51a-46a2-9b53-734bb2a39ba7' class='xr-section-summary-in' type='checkbox'  checked><label for='section-287c61b8-f51a-46a2-9b53-734bb2a39ba7' class='xr-section-summary' >Data variables: <span>(1)</span></label><div class='xr-section-inline-details'></div><div class='xr-section-details'><ul class='xr-var-list'><li class='xr-var-item'><div class='xr-var-name'><span>cost</span></div><div class='xr-var-dims'>(system, from_spec, to_spec)</div><div class='xr-var-dtype'>float64</div><div class='xr-var-preview xr-preview'>nan 4.0 6.0 4.0 ... 6.0 1.0 1.0 nan</div><input id='attrs-b54eb7d3-f29e-4966-861c-adf09571b564' class='xr-var-attrs-in' type='checkbox' disabled><label for='attrs-b54eb7d3-f29e-4966-861c-adf09571b564' title='Show/Hide attributes'><svg class='icon xr-icon-file-text2'><use xlink:href='#icon-file-text2'></use></svg></label><input id='data-9e7f7df9-c3f4-4d4f-9575-5fd93e8f52f5' class='xr-var-data-in' type='checkbox'><label for='data-9e7f7df9-c3f4-4d4f-9575-5fd93e8f52f5' title='Show/Hide data repr'><svg class='icon xr-icon-database'><use xlink:href='#icon-database'></use></svg></label><div class='xr-var-attrs'><dl class='xr-attrs'></dl></div><div class='xr-var-data'><pre>array([[[nan,  4.,  6.,  4.,  6., 40., 74., 74.],\n",
              "        [ 2., nan,  4.,  2.,  2., 43., 73., 74.],\n",
              "        [ 3.,  3., nan,  1.,  3., 43., 78., 77.],\n",
              "        [ 2.,  2.,  2., nan,  4., 42., 74., 73.],\n",
              "        [ 3.,  1.,  3.,  3., nan, 44., 74., 78.],\n",
              "        [12., 30., 30., 28., 32., nan, 35., 35.],\n",
              "        [20., 27., 42., 37., 41.,  9., nan,  2.],\n",
              "        [20., 30., 41., 36., 35.,  9.,  2., nan]],\n",
              "\n",
              "       [[nan,  9., 18.,  9., 18.,  2., 11., 11.],\n",
              "        [ 3., nan, 11.,  2.,  9.,  5.,  4.,  6.],\n",
              "        [ 6.,  5., nan,  3.,  3.,  8.,  9.,  7.],\n",
              "        [ 3.,  2.,  9., nan, 11.,  5.,  6.,  4.],\n",
              "        [ 6.,  3.,  3.,  5., nan,  8.,  7.,  9.],\n",
              "        [ 2., 11., 20., 11., 20., nan,  9.,  9.],\n",
              "        [ 5.,  4., 15.,  6., 13.,  3., nan,  2.],\n",
              "        [ 5.,  6., 13.,  4., 15.,  3.,  2., nan]],\n",
              "\n",
              "       [[nan,  2.,  4.,  2.,  4.,  1.,  3.,  3.],\n",
              "        [ 1., nan,  3.,  1.,  2.,  2.,  1.,  2.],\n",
              "        [ 2.,  2., nan,  1.,  2.,  3.,  3.,  2.],\n",
              "        [ 1.,  1.,  2., nan,  3.,  2.,  2.,  1.],\n",
              "        [ 2.,  1.,  2.,  2., nan,  3.,  2.,  3.],\n",
              "        [ 1.,  3.,  5.,  3.,  5., nan,  2.,  2.],\n",
              "        [ 2.,  1.,  4.,  2.,  3.,  1., nan,  1.],\n",
              "        [ 2.,  2.,  3.,  1.,  4.,  1.,  1., nan]],\n",
              "\n",
              "       [[nan,  2.,  7.,  2.,  7.,  1.,  3.,  3.],\n",
              "        [ 1., nan,  6.,  1.,  5.,  2.,  1.,  2.],\n",
              "        [ 4.,  4., nan,  3.,  2.,  4.,  4.,  3.],\n",
              "        [ 1.,  1.,  5., nan,  6.,  2.,  2.,  1.],\n",
              "        [ 4.,  3.,  2.,  4., nan,  4.,  3.,  4.],\n",
              "        [ 1.,  3.,  7.,  3.,  7., nan,  2.,  2.],\n",
              "        [ 2.,  1.,  6.,  2.,  5.,  1., nan,  1.],\n",
              "        [ 2.,  2.,  5.,  1.,  6.,  1.,  1., nan]]])</pre></div></li></ul></div></li><li class='xr-section-item'><input id='section-df2388af-7337-4f70-8f49-d0613fd53d45' class='xr-section-summary-in' type='checkbox' disabled ><label for='section-df2388af-7337-4f70-8f49-d0613fd53d45' class='xr-section-summary'  title='Expand/collapse section'>Attributes: <span>(0)</span></label><div class='xr-section-inline-details'></div><div class='xr-section-details'><dl class='xr-attrs'></dl></div></li></ul></div></div>"
            ],
            "text/plain": [
              "<xarray.Dataset>\n",
              "Dimensions:    (system: 4, from_spec: 8, to_spec: 8)\n",
              "Coordinates:\n",
              "  * system     (system) object 'altair' 'ggplot' 'px' 'seaborn'\n",
              "  * from_spec  (from_spec) object 'box' 'box_day' ... 'strip_day' 'strip_time'\n",
              "  * to_spec    (to_spec) object 'box' 'box_day' ... 'strip_day' 'strip_time'\n",
              "Data variables:\n",
              "    cost       (system, from_spec, to_spec) float64 nan 4.0 6.0 ... 1.0 1.0 nan"
            ]
          },
          "execution_count": 6,
          "metadata": {},
          "output_type": "execute_result"
        }
      ],
      "source": [
        "data"
      ]
    },
    {
      "cell_type": "code",
      "execution_count": 201,
      "id": "1c808b7d-ee14-4620-a472-3596b29599e5",
      "metadata": {},
      "outputs": [],
      "source": [
        "sys = data.cost.loc[\"seaborn\"].values\n",
        "sys = np.maximum(sys,sys.T)\n",
        "labels = data.cost.coords[\"from_spec\"].values"
      ]
    },
    {
      "cell_type": "code",
      "execution_count": 199,
      "id": "befcf41c-59f0-4775-b614-4a5f2b5196a9",
      "metadata": {},
      "outputs": [
        {
          "data": {
            "text/plain": [
              "array([[0., 2., 0., 2., 0., 1., 0., 0.],\n",
              "       [0., 0., 0., 1., 5., 0., 1., 0.],\n",
              "       [0., 0., 0., 5., 2., 0., 0., 5.],\n",
              "       [0., 0., 0., 0., 0., 0., 0., 1.],\n",
              "       [0., 0., 0., 0., 0., 0., 5., 0.],\n",
              "       [0., 0., 0., 0., 0., 0., 2., 2.],\n",
              "       [0., 0., 0., 0., 0., 0., 0., 1.],\n",
              "       [0., 0., 0., 0., 0., 0., 0., 0.]])"
            ]
          },
          "execution_count": 199,
          "metadata": {},
          "output_type": "execute_result"
        }
      ],
      "source": [
        "result = np.zeros(shape=(8,8))\n",
        "for i in range(len(sys)):\n",
        "    for j in range(len(sys)):\n",
        "        if i>=j: continue\n",
        "        result[i,j] = sys[i,j]\n",
        "        has_k = False\n",
        "        direct = sys[i,j]\n",
        "        for k in range(len(sys)):\n",
        "            via_k = sys[i,k]+sys[k,j]\n",
        "            if (via_k-direct)/direct < 0.05:\n",
        "                has_k = True\n",
        "                break\n",
        "        if has_k:\n",
        "            result[i,j] =0\n",
        "result"
      ]
    },
    {
      "cell_type": "code",
      "execution_count": 200,
      "id": "bf072290-704c-4516-ab16-be1c60fc5939",
      "metadata": {},
      "outputs": [
        {
          "data": {
            "text/html": [
              "\n",
              "        <iframe\n",
              "            width=\"100%\"\n",
              "            height=\"500px\"\n",
              "            src=\"nx.html\"\n",
              "            frameborder=\"0\"\n",
              "            allowfullscreen\n",
              "        ></iframe>\n",
              "        "
            ],
            "text/plain": [
              "<IPython.lib.display.IFrame at 0x7f8554ea7b80>"
            ]
          },
          "execution_count": 200,
          "metadata": {},
          "output_type": "execute_result"
        }
      ],
      "source": [
        "\n",
        "nt = pyvis.network.Network(notebook=True, height='500px', width='100%')\n",
        "for n in labels:\n",
        "    nt.add_node(n)\n",
        "for i in range(len(result)):\n",
        "    for j in range(len(result)):\n",
        "        if result[i,j]:\n",
        "            nt.add_edge(labels[i], labels[j], length=100*result[i,j])\n",
        "nt.hrepulsion()\n",
        "nt.show(\"nx.html\")"
      ]
    },
    {
      "cell_type": "code",
      "execution_count": null,
      "id": "2d834ad3-f52c-492d-a306-cc71d046adf3",
      "metadata": {},
      "outputs": [],
      "source": []
    },
    {
      "cell_type": "code",
      "execution_count": null,
      "id": "16d7a949-7fa8-4386-8d20-4ad4ce37cc64",
      "metadata": {},
      "outputs": [],
      "source": []
    },
    {
      "cell_type": "code",
      "execution_count": null,
      "id": "70ae2dc6-d1a9-40ea-91a1-0bc08086fa3c",
      "metadata": {},
      "outputs": [],
      "source": []
    },
    {
      "cell_type": "code",
      "execution_count": null,
      "id": "501b5bf8-28ac-4bc0-a452-5abce00d038f",
      "metadata": {},
      "outputs": [],
      "source": []
    },
    {
      "cell_type": "code",
      "execution_count": null,
      "id": "2febc3b6-1eca-4617-8537-8d28c33a9334",
      "metadata": {},
      "outputs": [],
      "source": []
    },
    {
      "cell_type": "code",
      "execution_count": null,
      "id": "3bfa1a6b-62c2-4fb1-ae68-a622894342b9",
      "metadata": {},
      "outputs": [],
      "source": []
    },
    {
      "cell_type": "code",
      "execution_count": 176,
      "id": "1b9e3b56-a2f2-4a8f-905d-1821614595d6",
      "metadata": {},
      "outputs": [],
      "source": [
        "%matplotlib inline"
      ]
    },
    {
      "cell_type": "code",
      "execution_count": 6,
      "id": "017e4f60-aab0-4b8d-aa5d-3e79adf68deb",
      "metadata": {},
      "outputs": [],
      "source": [
        "\n",
        "df = pd.read_csv(\"results/px/costs.csv\", names=[\"from\", \"to\", \"cost\"])\n",
        "square = df.pivot_table(index=\"from\", columns=\"to\", values=\"cost\").fillna(0)\n",
        "order = square.index\n"
      ]
    },
    {
      "cell_type": "code",
      "execution_count": 15,
      "id": "05164ef4-53f6-4e9e-8d72-73aa4336d4e3",
      "metadata": {},
      "outputs": [
        {
          "ename": "TypeError",
          "evalue": "first() missing 1 required positional argument: 'offset'",
          "output_type": "error",
          "traceback": [
            "\u001b[0;31m---------------------------------------------------------------------------\u001b[0m",
            "\u001b[0;31mTypeError\u001b[0m                                 Traceback (most recent call last)",
            "\u001b[0;32m<ipython-input-15-90662e55809f>\u001b[0m in \u001b[0;36m<module>\u001b[0;34m\u001b[0m\n\u001b[0;32m----> 1\u001b[0;31m \u001b[0mdf\u001b[0m\u001b[0;34m[\u001b[0m\u001b[0;34m(\u001b[0m\u001b[0mdf\u001b[0m\u001b[0;34m[\u001b[0m\u001b[0;34m\"from\"\u001b[0m\u001b[0;34m]\u001b[0m \u001b[0;34m==\u001b[0m \u001b[0;34m'strip_time'\u001b[0m\u001b[0;34m)\u001b[0m \u001b[0;34m&\u001b[0m  \u001b[0;34m(\u001b[0m\u001b[0mdf\u001b[0m\u001b[0;34m[\u001b[0m\u001b[0;34m\"to\"\u001b[0m\u001b[0;34m]\u001b[0m \u001b[0;34m==\u001b[0m \u001b[0;34m'strip_day'\u001b[0m\u001b[0;34m)\u001b[0m\u001b[0;34m]\u001b[0m\u001b[0;34m[\u001b[0m\u001b[0;34m\"cost\"\u001b[0m\u001b[0;34m]\u001b[0m\u001b[0;34m.\u001b[0m\u001b[0mfirst\u001b[0m\u001b[0;34m(\u001b[0m\u001b[0;34m)\u001b[0m\u001b[0;34m\u001b[0m\u001b[0;34m\u001b[0m\u001b[0m\n\u001b[0m",
            "\u001b[0;31mTypeError\u001b[0m: first() missing 1 required positional argument: 'offset'"
          ]
        }
      ],
      "source": [
        "df[(df[\"from\"] == 'strip_time') &  (df[\"to\"] == 'strip_day')][\"cost\"].first()"
      ]
    },
    {
      "cell_type": "code",
      "execution_count": 6,
      "id": "24f45e95-bd31-49ec-8bd8-0cbab1518ab7",
      "metadata": {},
      "outputs": [
        {
          "data": {
            "text/html": [
              "<div>\n",
              "<style scoped>\n",
              "    .dataframe tbody tr th:only-of-type {\n",
              "        vertical-align: middle;\n",
              "    }\n",
              "\n",
              "    .dataframe tbody tr th {\n",
              "        vertical-align: top;\n",
              "    }\n",
              "\n",
              "    .dataframe thead th {\n",
              "        text-align: right;\n",
              "    }\n",
              "</style>\n",
              "<table border=\"1\" class=\"dataframe\">\n",
              "  <thead>\n",
              "    <tr style=\"text-align: right;\">\n",
              "      <th>to</th>\n",
              "      <th>strip</th>\n",
              "      <th>strip_day</th>\n",
              "      <th>strip_time</th>\n",
              "      <th>violin</th>\n",
              "      <th>violin_day</th>\n",
              "      <th>violin_day_time</th>\n",
              "      <th>violin_time</th>\n",
              "      <th>violin_time_day</th>\n",
              "    </tr>\n",
              "    <tr>\n",
              "      <th>from</th>\n",
              "      <th></th>\n",
              "      <th></th>\n",
              "      <th></th>\n",
              "      <th></th>\n",
              "      <th></th>\n",
              "      <th></th>\n",
              "      <th></th>\n",
              "      <th></th>\n",
              "    </tr>\n",
              "  </thead>\n",
              "  <tbody>\n",
              "    <tr>\n",
              "      <th>strip</th>\n",
              "      <td>0.0</td>\n",
              "      <td>2.0</td>\n",
              "      <td>2.0</td>\n",
              "      <td>2.0</td>\n",
              "      <td>4.0</td>\n",
              "      <td>6.0</td>\n",
              "      <td>4.0</td>\n",
              "      <td>6.0</td>\n",
              "    </tr>\n",
              "    <tr>\n",
              "      <th>strip_day</th>\n",
              "      <td>1.0</td>\n",
              "      <td>0.0</td>\n",
              "      <td>2.0</td>\n",
              "      <td>3.0</td>\n",
              "      <td>2.0</td>\n",
              "      <td>6.0</td>\n",
              "      <td>4.0</td>\n",
              "      <td>4.0</td>\n",
              "    </tr>\n",
              "    <tr>\n",
              "      <th>strip_time</th>\n",
              "      <td>1.0</td>\n",
              "      <td>2.0</td>\n",
              "      <td>0.0</td>\n",
              "      <td>3.0</td>\n",
              "      <td>4.0</td>\n",
              "      <td>4.0</td>\n",
              "      <td>2.0</td>\n",
              "      <td>6.0</td>\n",
              "    </tr>\n",
              "    <tr>\n",
              "      <th>violin</th>\n",
              "      <td>2.0</td>\n",
              "      <td>4.0</td>\n",
              "      <td>4.0</td>\n",
              "      <td>0.0</td>\n",
              "      <td>2.0</td>\n",
              "      <td>4.0</td>\n",
              "      <td>2.0</td>\n",
              "      <td>4.0</td>\n",
              "    </tr>\n",
              "    <tr>\n",
              "      <th>violin_day</th>\n",
              "      <td>3.0</td>\n",
              "      <td>2.0</td>\n",
              "      <td>4.0</td>\n",
              "      <td>1.0</td>\n",
              "      <td>0.0</td>\n",
              "      <td>4.0</td>\n",
              "      <td>2.0</td>\n",
              "      <td>2.0</td>\n",
              "    </tr>\n",
              "    <tr>\n",
              "      <th>violin_day_time</th>\n",
              "      <td>4.0</td>\n",
              "      <td>5.0</td>\n",
              "      <td>3.0</td>\n",
              "      <td>2.0</td>\n",
              "      <td>3.0</td>\n",
              "      <td>0.0</td>\n",
              "      <td>1.0</td>\n",
              "      <td>4.0</td>\n",
              "    </tr>\n",
              "    <tr>\n",
              "      <th>violin_time</th>\n",
              "      <td>3.0</td>\n",
              "      <td>4.0</td>\n",
              "      <td>2.0</td>\n",
              "      <td>1.0</td>\n",
              "      <td>2.0</td>\n",
              "      <td>2.0</td>\n",
              "      <td>0.0</td>\n",
              "      <td>4.0</td>\n",
              "    </tr>\n",
              "    <tr>\n",
              "      <th>violin_time_day</th>\n",
              "      <td>4.0</td>\n",
              "      <td>3.0</td>\n",
              "      <td>5.0</td>\n",
              "      <td>2.0</td>\n",
              "      <td>1.0</td>\n",
              "      <td>4.0</td>\n",
              "      <td>3.0</td>\n",
              "      <td>0.0</td>\n",
              "    </tr>\n",
              "  </tbody>\n",
              "</table>\n",
              "</div>"
            ],
            "text/plain": [
              "to               strip  strip_day  strip_time  violin  violin_day  \\\n",
              "from                                                                \n",
              "strip              0.0        2.0         2.0     2.0         4.0   \n",
              "strip_day          1.0        0.0         2.0     3.0         2.0   \n",
              "strip_time         1.0        2.0         0.0     3.0         4.0   \n",
              "violin             2.0        4.0         4.0     0.0         2.0   \n",
              "violin_day         3.0        2.0         4.0     1.0         0.0   \n",
              "violin_day_time    4.0        5.0         3.0     2.0         3.0   \n",
              "violin_time        3.0        4.0         2.0     1.0         2.0   \n",
              "violin_time_day    4.0        3.0         5.0     2.0         1.0   \n",
              "\n",
              "to               violin_day_time  violin_time  violin_time_day  \n",
              "from                                                            \n",
              "strip                        6.0          4.0              6.0  \n",
              "strip_day                    6.0          4.0              4.0  \n",
              "strip_time                   4.0          2.0              6.0  \n",
              "violin                       4.0          2.0              4.0  \n",
              "violin_day                   4.0          2.0              2.0  \n",
              "violin_day_time              0.0          1.0              4.0  \n",
              "violin_time                  2.0          0.0              4.0  \n",
              "violin_time_day              4.0          3.0              0.0  "
            ]
          },
          "execution_count": 6,
          "metadata": {},
          "output_type": "execute_result"
        }
      ],
      "source": [
        "square\n"
      ]
    },
    {
      "cell_type": "code",
      "execution_count": 11,
      "id": "8edb9db1-e980-47d0-aac8-6e4e106421db",
      "metadata": {},
      "outputs": [
        {
          "data": {
            "text/plain": [
              "Index(['violin_day_time', 'violin_time_day', 'violin_day', 'violin',\n",
              "       'violin_time', 'strip_time', 'strip', 'strip_day'],\n",
              "      dtype='object', name='from')"
            ]
          },
          "execution_count": 11,
          "metadata": {},
          "output_type": "execute_result"
        }
      ],
      "source": [
        "order[seriate(pdist(square.values.T))]\n"
      ]
    },
    {
      "cell_type": "code",
      "execution_count": 3,
      "id": "3a9e1c7b-8b9e-4129-a568-f68fdd79e8b1",
      "metadata": {},
      "outputs": [
        {
          "data": {
            "text/plain": [
              "\u001b[0;31mSignature:\u001b[0m \u001b[0mpdist\u001b[0m\u001b[0;34m(\u001b[0m\u001b[0mX\u001b[0m\u001b[0;34m,\u001b[0m \u001b[0mmetric\u001b[0m\u001b[0;34m=\u001b[0m\u001b[0;34m'euclidean'\u001b[0m\u001b[0;34m,\u001b[0m \u001b[0;34m*\u001b[0m\u001b[0;34m,\u001b[0m \u001b[0mout\u001b[0m\u001b[0;34m=\u001b[0m\u001b[0;32mNone\u001b[0m\u001b[0;34m,\u001b[0m \u001b[0;34m**\u001b[0m\u001b[0mkwargs\u001b[0m\u001b[0;34m)\u001b[0m\u001b[0;34m\u001b[0m\u001b[0;34m\u001b[0m\u001b[0m\n",
              "\u001b[0;31mDocstring:\u001b[0m\n",
              "Pairwise distances between observations in n-dimensional space.\n",
              "\n",
              "See Notes for common calling conventions.\n",
              "\n",
              "Parameters\n",
              "----------\n",
              "X : array_like\n",
              "    An m by n array of m original observations in an\n",
              "    n-dimensional space.\n",
              "metric : str or function, optional\n",
              "    The distance metric to use. The distance function can\n",
              "    be 'braycurtis', 'canberra', 'chebyshev', 'cityblock',\n",
              "    'correlation', 'cosine', 'dice', 'euclidean', 'hamming',\n",
              "    'jaccard', 'jensenshannon', 'kulsinski', 'mahalanobis', 'matching',\n",
              "    'minkowski', 'rogerstanimoto', 'russellrao', 'seuclidean',\n",
              "    'sokalmichener', 'sokalsneath', 'sqeuclidean', 'yule'.\n",
              "**kwargs : dict, optional\n",
              "    Extra arguments to `metric`: refer to each metric documentation for a\n",
              "    list of all possible arguments.\n",
              "\n",
              "    Some possible arguments:\n",
              "\n",
              "    p : scalar\n",
              "    The p-norm to apply for Minkowski, weighted and unweighted.\n",
              "    Default: 2.\n",
              "\n",
              "    w : ndarray\n",
              "    The weight vector for metrics that support weights (e.g., Minkowski).\n",
              "\n",
              "    V : ndarray\n",
              "    The variance vector for standardized Euclidean.\n",
              "    Default: var(X, axis=0, ddof=1)\n",
              "\n",
              "    VI : ndarray\n",
              "    The inverse of the covariance matrix for Mahalanobis.\n",
              "    Default: inv(cov(X.T)).T\n",
              "\n",
              "    out : ndarray.\n",
              "    The output array\n",
              "    If not None, condensed distance matrix Y is stored in this array.\n",
              "\n",
              "Returns\n",
              "-------\n",
              "Y : ndarray\n",
              "    Returns a condensed distance matrix Y. For each :math:`i` and :math:`j`\n",
              "    (where :math:`i<j<m`),where m is the number of original observations.\n",
              "    The metric ``dist(u=X[i], v=X[j])`` is computed and stored in entry ``m\n",
              "    * i + j - ((i + 2) * (i + 1)) // 2``.\n",
              "\n",
              "See Also\n",
              "--------\n",
              "squareform : converts between condensed distance matrices and\n",
              "             square distance matrices.\n",
              "\n",
              "Notes\n",
              "-----\n",
              "See ``squareform`` for information on how to calculate the index of\n",
              "this entry or to convert the condensed distance matrix to a\n",
              "redundant square matrix.\n",
              "\n",
              "The following are common calling conventions.\n",
              "\n",
              "1. ``Y = pdist(X, 'euclidean')``\n",
              "\n",
              "   Computes the distance between m points using Euclidean distance\n",
              "   (2-norm) as the distance metric between the points. The points\n",
              "   are arranged as m n-dimensional row vectors in the matrix X.\n",
              "\n",
              "2. ``Y = pdist(X, 'minkowski', p=2.)``\n",
              "\n",
              "   Computes the distances using the Minkowski distance\n",
              "   :math:`||u-v||_p` (p-norm) where :math:`p \\geq 1`.\n",
              "\n",
              "3. ``Y = pdist(X, 'cityblock')``\n",
              "\n",
              "   Computes the city block or Manhattan distance between the\n",
              "   points.\n",
              "\n",
              "4. ``Y = pdist(X, 'seuclidean', V=None)``\n",
              "\n",
              "   Computes the standardized Euclidean distance. The standardized\n",
              "   Euclidean distance between two n-vectors ``u`` and ``v`` is\n",
              "\n",
              "   .. math::\n",
              "\n",
              "      \\sqrt{\\sum {(u_i-v_i)^2 / V[x_i]}}\n",
              "\n",
              "\n",
              "   V is the variance vector; V[i] is the variance computed over all\n",
              "   the i'th components of the points.  If not passed, it is\n",
              "   automatically computed.\n",
              "\n",
              "5. ``Y = pdist(X, 'sqeuclidean')``\n",
              "\n",
              "   Computes the squared Euclidean distance :math:`||u-v||_2^2` between\n",
              "   the vectors.\n",
              "\n",
              "6. ``Y = pdist(X, 'cosine')``\n",
              "\n",
              "   Computes the cosine distance between vectors u and v,\n",
              "\n",
              "   .. math::\n",
              "\n",
              "      1 - \\frac{u \\cdot v}\n",
              "               {{||u||}_2 {||v||}_2}\n",
              "\n",
              "   where :math:`||*||_2` is the 2-norm of its argument ``*``, and\n",
              "   :math:`u \\cdot v` is the dot product of ``u`` and ``v``.\n",
              "\n",
              "7. ``Y = pdist(X, 'correlation')``\n",
              "\n",
              "   Computes the correlation distance between vectors u and v. This is\n",
              "\n",
              "   .. math::\n",
              "\n",
              "      1 - \\frac{(u - \\bar{u}) \\cdot (v - \\bar{v})}\n",
              "               {{||(u - \\bar{u})||}_2 {||(v - \\bar{v})||}_2}\n",
              "\n",
              "   where :math:`\\bar{v}` is the mean of the elements of vector v,\n",
              "   and :math:`x \\cdot y` is the dot product of :math:`x` and :math:`y`.\n",
              "\n",
              "8. ``Y = pdist(X, 'hamming')``\n",
              "\n",
              "   Computes the normalized Hamming distance, or the proportion of\n",
              "   those vector elements between two n-vectors ``u`` and ``v``\n",
              "   which disagree. To save memory, the matrix ``X`` can be of type\n",
              "   boolean.\n",
              "\n",
              "9. ``Y = pdist(X, 'jaccard')``\n",
              "\n",
              "   Computes the Jaccard distance between the points. Given two\n",
              "   vectors, ``u`` and ``v``, the Jaccard distance is the\n",
              "   proportion of those elements ``u[i]`` and ``v[i]`` that\n",
              "   disagree.\n",
              "\n",
              "10. ``Y = pdist(X, 'jensenshannon')``\n",
              "\n",
              "    Computes the Jensen-Shannon distance between two probability arrays.\n",
              "    Given two probability vectors, :math:`p` and :math:`q`, the\n",
              "    Jensen-Shannon distance is\n",
              "\n",
              "    .. math::\n",
              "\n",
              "       \\sqrt{\\frac{D(p \\parallel m) + D(q \\parallel m)}{2}}\n",
              "\n",
              "    where :math:`m` is the pointwise mean of :math:`p` and :math:`q`\n",
              "    and :math:`D` is the Kullback-Leibler divergence.\n",
              "\n",
              "11. ``Y = pdist(X, 'chebyshev')``\n",
              "\n",
              "    Computes the Chebyshev distance between the points. The\n",
              "    Chebyshev distance between two n-vectors ``u`` and ``v`` is the\n",
              "    maximum norm-1 distance between their respective elements. More\n",
              "    precisely, the distance is given by\n",
              "\n",
              "    .. math::\n",
              "\n",
              "       d(u,v) = \\max_i {|u_i-v_i|}\n",
              "\n",
              "12. ``Y = pdist(X, 'canberra')``\n",
              "\n",
              "    Computes the Canberra distance between the points. The\n",
              "    Canberra distance between two points ``u`` and ``v`` is\n",
              "\n",
              "    .. math::\n",
              "\n",
              "      d(u,v) = \\sum_i \\frac{|u_i-v_i|}\n",
              "                           {|u_i|+|v_i|}\n",
              "\n",
              "\n",
              "13. ``Y = pdist(X, 'braycurtis')``\n",
              "\n",
              "    Computes the Bray-Curtis distance between the points. The\n",
              "    Bray-Curtis distance between two points ``u`` and ``v`` is\n",
              "\n",
              "\n",
              "    .. math::\n",
              "\n",
              "         d(u,v) = \\frac{\\sum_i {|u_i-v_i|}}\n",
              "                        {\\sum_i {|u_i+v_i|}}\n",
              "\n",
              "14. ``Y = pdist(X, 'mahalanobis', VI=None)``\n",
              "\n",
              "    Computes the Mahalanobis distance between the points. The\n",
              "    Mahalanobis distance between two points ``u`` and ``v`` is\n",
              "    :math:`\\sqrt{(u-v)(1/V)(u-v)^T}` where :math:`(1/V)` (the ``VI``\n",
              "    variable) is the inverse covariance. If ``VI`` is not None,\n",
              "    ``VI`` will be used as the inverse covariance matrix.\n",
              "\n",
              "15. ``Y = pdist(X, 'yule')``\n",
              "\n",
              "    Computes the Yule distance between each pair of boolean\n",
              "    vectors. (see yule function documentation)\n",
              "\n",
              "16. ``Y = pdist(X, 'matching')``\n",
              "\n",
              "    Synonym for 'hamming'.\n",
              "\n",
              "17. ``Y = pdist(X, 'dice')``\n",
              "\n",
              "    Computes the Dice distance between each pair of boolean\n",
              "    vectors. (see dice function documentation)\n",
              "\n",
              "18. ``Y = pdist(X, 'kulsinski')``\n",
              "\n",
              "    Computes the Kulsinski distance between each pair of\n",
              "    boolean vectors. (see kulsinski function documentation)\n",
              "\n",
              "19. ``Y = pdist(X, 'rogerstanimoto')``\n",
              "\n",
              "    Computes the Rogers-Tanimoto distance between each pair of\n",
              "    boolean vectors. (see rogerstanimoto function documentation)\n",
              "\n",
              "20. ``Y = pdist(X, 'russellrao')``\n",
              "\n",
              "    Computes the Russell-Rao distance between each pair of\n",
              "    boolean vectors. (see russellrao function documentation)\n",
              "\n",
              "21. ``Y = pdist(X, 'sokalmichener')``\n",
              "\n",
              "    Computes the Sokal-Michener distance between each pair of\n",
              "    boolean vectors. (see sokalmichener function documentation)\n",
              "\n",
              "22. ``Y = pdist(X, 'sokalsneath')``\n",
              "\n",
              "    Computes the Sokal-Sneath distance between each pair of\n",
              "    boolean vectors. (see sokalsneath function documentation)\n",
              "\n",
              "23. ``Y = pdist(X, 'wminkowski', p=2, w=w)``\n",
              "\n",
              "    Computes the weighted Minkowski distance between each pair of\n",
              "    vectors. (see wminkowski function documentation)\n",
              "\n",
              "    'wminkowski' is deprecated and will be removed in SciPy 1.8.0.\n",
              "    Use 'minkowski' instead.\n",
              "\n",
              "24. ``Y = pdist(X, f)``\n",
              "\n",
              "    Computes the distance between all pairs of vectors in X\n",
              "    using the user supplied 2-arity function f. For example,\n",
              "    Euclidean distance between the vectors could be computed\n",
              "    as follows::\n",
              "\n",
              "      dm = pdist(X, lambda u, v: np.sqrt(((u-v)**2).sum()))\n",
              "\n",
              "    Note that you should avoid passing a reference to one of\n",
              "    the distance functions defined in this library. For example,::\n",
              "\n",
              "      dm = pdist(X, sokalsneath)\n",
              "\n",
              "    would calculate the pair-wise distances between the vectors in\n",
              "    X using the Python function sokalsneath. This would result in\n",
              "    sokalsneath being called :math:`{n \\choose 2}` times, which\n",
              "    is inefficient. Instead, the optimized C version is more\n",
              "    efficient, and we call it using the following syntax.::\n",
              "\n",
              "      dm = pdist(X, 'sokalsneath')\n",
              "\u001b[0;31mFile:\u001b[0m      ~/opt/miniconda3/envs/env/lib/python3.8/site-packages/scipy/spatial/distance.py\n",
              "\u001b[0;31mType:\u001b[0m      function\n"
            ]
          },
          "metadata": {},
          "output_type": "display_data"
        }
      ],
      "source": [
        "import numpy\n",
        "from scipy.spatial.distance import pdist\n",
        "from seriate import seriate\n",
        "\n",
        "elements = numpy.array([\n",
        "    [3, 3, 3],\n",
        "    [5, 5, 5],\n",
        "    [4, 4, 4],\n",
        "    [2, 2, 2],\n",
        "    [1, 1, 1]\n",
        "])\n",
        "\n",
        "pdist?\n"
      ]
    },
    {
      "cell_type": "code",
      "execution_count": 73,
      "id": "b31feec5-4fff-476e-b4bf-5f2fa33d1247",
      "metadata": {},
      "outputs": [],
      "source": [
        "frm = emb_df.loc[\"grouped_bar\"]\n",
        "to = emb_df.loc[\"slope_chart\"]"
      ]
    },
    {
      "cell_type": "code",
      "execution_count": 99,
      "id": "52b262a4-8592-4228-9d4d-f0cf2bfc0abc",
      "metadata": {},
      "outputs": [
        {
          "data": {
            "application/vnd.plotly.v1+json": {
              "config": {
                "plotlyServerURL": "https://plotly.com"
              },
              "data": [
                {
                  "cliponaxis": false,
                  "hovertemplate": "x=%{x}<br>y=%{y}<br>from=%{text}<extra></extra>",
                  "legendgroup": "",
                  "marker": {
                    "color": "#636efa",
                    "symbol": "circle"
                  },
                  "mode": "text",
                  "name": "",
                  "orientation": "v",
                  "showlegend": false,
                  "text": [
                    "grouped_bar",
                    "slope_chart",
                    "stacked_bar"
                  ],
                  "type": "scatter",
                  "x": [
                    -1.2716419830381065,
                    4.09541577945156,
                    -2.8237737964134535
                  ],
                  "xaxis": "x",
                  "y": [
                    -3.136601487101818,
                    5.002517731830668,
                    -1.8659162447288495
                  ],
                  "yaxis": "y"
                }
              ],
              "layout": {
                "annotations": [
                  {
                    "arrowhead": 2,
                    "arrowsize": 2,
                    "ax": -1.2716419830381065,
                    "axref": "x",
                    "ay": -3.136601487101818,
                    "ayref": "y",
                    "hovertext": "yo",
                    "x": 4.09541577945156,
                    "xanchor": "center",
                    "xref": "x",
                    "y": 5.002517731830668,
                    "yanchor": "middle",
                    "yref": "y"
                  }
                ],
                "autosize": true,
                "legend": {
                  "tracegroupgap": 0
                },
                "margin": {
                  "t": 60
                },
                "plot_bgcolor": "white",
                "template": {
                  "data": {
                    "bar": [
                      {
                        "error_x": {
                          "color": "#2a3f5f"
                        },
                        "error_y": {
                          "color": "#2a3f5f"
                        },
                        "marker": {
                          "line": {
                            "color": "#E5ECF6",
                            "width": 0.5
                          },
                          "pattern": {
                            "fillmode": "overlay",
                            "size": 10,
                            "solidity": 0.2
                          }
                        },
                        "type": "bar"
                      }
                    ],
                    "barpolar": [
                      {
                        "marker": {
                          "line": {
                            "color": "#E5ECF6",
                            "width": 0.5
                          },
                          "pattern": {
                            "fillmode": "overlay",
                            "size": 10,
                            "solidity": 0.2
                          }
                        },
                        "type": "barpolar"
                      }
                    ],
                    "carpet": [
                      {
                        "aaxis": {
                          "endlinecolor": "#2a3f5f",
                          "gridcolor": "white",
                          "linecolor": "white",
                          "minorgridcolor": "white",
                          "startlinecolor": "#2a3f5f"
                        },
                        "baxis": {
                          "endlinecolor": "#2a3f5f",
                          "gridcolor": "white",
                          "linecolor": "white",
                          "minorgridcolor": "white",
                          "startlinecolor": "#2a3f5f"
                        },
                        "type": "carpet"
                      }
                    ],
                    "choropleth": [
                      {
                        "colorbar": {
                          "outlinewidth": 0,
                          "ticks": ""
                        },
                        "type": "choropleth"
                      }
                    ],
                    "contour": [
                      {
                        "colorbar": {
                          "outlinewidth": 0,
                          "ticks": ""
                        },
                        "colorscale": [
                          [
                            0,
                            "#0d0887"
                          ],
                          [
                            0.1111111111111111,
                            "#46039f"
                          ],
                          [
                            0.2222222222222222,
                            "#7201a8"
                          ],
                          [
                            0.3333333333333333,
                            "#9c179e"
                          ],
                          [
                            0.4444444444444444,
                            "#bd3786"
                          ],
                          [
                            0.5555555555555556,
                            "#d8576b"
                          ],
                          [
                            0.6666666666666666,
                            "#ed7953"
                          ],
                          [
                            0.7777777777777778,
                            "#fb9f3a"
                          ],
                          [
                            0.8888888888888888,
                            "#fdca26"
                          ],
                          [
                            1,
                            "#f0f921"
                          ]
                        ],
                        "type": "contour"
                      }
                    ],
                    "contourcarpet": [
                      {
                        "colorbar": {
                          "outlinewidth": 0,
                          "ticks": ""
                        },
                        "type": "contourcarpet"
                      }
                    ],
                    "heatmap": [
                      {
                        "colorbar": {
                          "outlinewidth": 0,
                          "ticks": ""
                        },
                        "colorscale": [
                          [
                            0,
                            "#0d0887"
                          ],
                          [
                            0.1111111111111111,
                            "#46039f"
                          ],
                          [
                            0.2222222222222222,
                            "#7201a8"
                          ],
                          [
                            0.3333333333333333,
                            "#9c179e"
                          ],
                          [
                            0.4444444444444444,
                            "#bd3786"
                          ],
                          [
                            0.5555555555555556,
                            "#d8576b"
                          ],
                          [
                            0.6666666666666666,
                            "#ed7953"
                          ],
                          [
                            0.7777777777777778,
                            "#fb9f3a"
                          ],
                          [
                            0.8888888888888888,
                            "#fdca26"
                          ],
                          [
                            1,
                            "#f0f921"
                          ]
                        ],
                        "type": "heatmap"
                      }
                    ],
                    "heatmapgl": [
                      {
                        "colorbar": {
                          "outlinewidth": 0,
                          "ticks": ""
                        },
                        "colorscale": [
                          [
                            0,
                            "#0d0887"
                          ],
                          [
                            0.1111111111111111,
                            "#46039f"
                          ],
                          [
                            0.2222222222222222,
                            "#7201a8"
                          ],
                          [
                            0.3333333333333333,
                            "#9c179e"
                          ],
                          [
                            0.4444444444444444,
                            "#bd3786"
                          ],
                          [
                            0.5555555555555556,
                            "#d8576b"
                          ],
                          [
                            0.6666666666666666,
                            "#ed7953"
                          ],
                          [
                            0.7777777777777778,
                            "#fb9f3a"
                          ],
                          [
                            0.8888888888888888,
                            "#fdca26"
                          ],
                          [
                            1,
                            "#f0f921"
                          ]
                        ],
                        "type": "heatmapgl"
                      }
                    ],
                    "histogram": [
                      {
                        "marker": {
                          "pattern": {
                            "fillmode": "overlay",
                            "size": 10,
                            "solidity": 0.2
                          }
                        },
                        "type": "histogram"
                      }
                    ],
                    "histogram2d": [
                      {
                        "colorbar": {
                          "outlinewidth": 0,
                          "ticks": ""
                        },
                        "colorscale": [
                          [
                            0,
                            "#0d0887"
                          ],
                          [
                            0.1111111111111111,
                            "#46039f"
                          ],
                          [
                            0.2222222222222222,
                            "#7201a8"
                          ],
                          [
                            0.3333333333333333,
                            "#9c179e"
                          ],
                          [
                            0.4444444444444444,
                            "#bd3786"
                          ],
                          [
                            0.5555555555555556,
                            "#d8576b"
                          ],
                          [
                            0.6666666666666666,
                            "#ed7953"
                          ],
                          [
                            0.7777777777777778,
                            "#fb9f3a"
                          ],
                          [
                            0.8888888888888888,
                            "#fdca26"
                          ],
                          [
                            1,
                            "#f0f921"
                          ]
                        ],
                        "type": "histogram2d"
                      }
                    ],
                    "histogram2dcontour": [
                      {
                        "colorbar": {
                          "outlinewidth": 0,
                          "ticks": ""
                        },
                        "colorscale": [
                          [
                            0,
                            "#0d0887"
                          ],
                          [
                            0.1111111111111111,
                            "#46039f"
                          ],
                          [
                            0.2222222222222222,
                            "#7201a8"
                          ],
                          [
                            0.3333333333333333,
                            "#9c179e"
                          ],
                          [
                            0.4444444444444444,
                            "#bd3786"
                          ],
                          [
                            0.5555555555555556,
                            "#d8576b"
                          ],
                          [
                            0.6666666666666666,
                            "#ed7953"
                          ],
                          [
                            0.7777777777777778,
                            "#fb9f3a"
                          ],
                          [
                            0.8888888888888888,
                            "#fdca26"
                          ],
                          [
                            1,
                            "#f0f921"
                          ]
                        ],
                        "type": "histogram2dcontour"
                      }
                    ],
                    "mesh3d": [
                      {
                        "colorbar": {
                          "outlinewidth": 0,
                          "ticks": ""
                        },
                        "type": "mesh3d"
                      }
                    ],
                    "parcoords": [
                      {
                        "line": {
                          "colorbar": {
                            "outlinewidth": 0,
                            "ticks": ""
                          }
                        },
                        "type": "parcoords"
                      }
                    ],
                    "pie": [
                      {
                        "automargin": true,
                        "type": "pie"
                      }
                    ],
                    "scatter": [
                      {
                        "marker": {
                          "colorbar": {
                            "outlinewidth": 0,
                            "ticks": ""
                          }
                        },
                        "type": "scatter"
                      }
                    ],
                    "scatter3d": [
                      {
                        "line": {
                          "colorbar": {
                            "outlinewidth": 0,
                            "ticks": ""
                          }
                        },
                        "marker": {
                          "colorbar": {
                            "outlinewidth": 0,
                            "ticks": ""
                          }
                        },
                        "type": "scatter3d"
                      }
                    ],
                    "scattercarpet": [
                      {
                        "marker": {
                          "colorbar": {
                            "outlinewidth": 0,
                            "ticks": ""
                          }
                        },
                        "type": "scattercarpet"
                      }
                    ],
                    "scattergeo": [
                      {
                        "marker": {
                          "colorbar": {
                            "outlinewidth": 0,
                            "ticks": ""
                          }
                        },
                        "type": "scattergeo"
                      }
                    ],
                    "scattergl": [
                      {
                        "marker": {
                          "colorbar": {
                            "outlinewidth": 0,
                            "ticks": ""
                          }
                        },
                        "type": "scattergl"
                      }
                    ],
                    "scattermapbox": [
                      {
                        "marker": {
                          "colorbar": {
                            "outlinewidth": 0,
                            "ticks": ""
                          }
                        },
                        "type": "scattermapbox"
                      }
                    ],
                    "scatterpolar": [
                      {
                        "marker": {
                          "colorbar": {
                            "outlinewidth": 0,
                            "ticks": ""
                          }
                        },
                        "type": "scatterpolar"
                      }
                    ],
                    "scatterpolargl": [
                      {
                        "marker": {
                          "colorbar": {
                            "outlinewidth": 0,
                            "ticks": ""
                          }
                        },
                        "type": "scatterpolargl"
                      }
                    ],
                    "scatterternary": [
                      {
                        "marker": {
                          "colorbar": {
                            "outlinewidth": 0,
                            "ticks": ""
                          }
                        },
                        "type": "scatterternary"
                      }
                    ],
                    "surface": [
                      {
                        "colorbar": {
                          "outlinewidth": 0,
                          "ticks": ""
                        },
                        "colorscale": [
                          [
                            0,
                            "#0d0887"
                          ],
                          [
                            0.1111111111111111,
                            "#46039f"
                          ],
                          [
                            0.2222222222222222,
                            "#7201a8"
                          ],
                          [
                            0.3333333333333333,
                            "#9c179e"
                          ],
                          [
                            0.4444444444444444,
                            "#bd3786"
                          ],
                          [
                            0.5555555555555556,
                            "#d8576b"
                          ],
                          [
                            0.6666666666666666,
                            "#ed7953"
                          ],
                          [
                            0.7777777777777778,
                            "#fb9f3a"
                          ],
                          [
                            0.8888888888888888,
                            "#fdca26"
                          ],
                          [
                            1,
                            "#f0f921"
                          ]
                        ],
                        "type": "surface"
                      }
                    ],
                    "table": [
                      {
                        "cells": {
                          "fill": {
                            "color": "#EBF0F8"
                          },
                          "line": {
                            "color": "white"
                          }
                        },
                        "header": {
                          "fill": {
                            "color": "#C8D4E3"
                          },
                          "line": {
                            "color": "white"
                          }
                        },
                        "type": "table"
                      }
                    ]
                  },
                  "layout": {
                    "annotationdefaults": {
                      "arrowcolor": "#2a3f5f",
                      "arrowhead": 0,
                      "arrowwidth": 1
                    },
                    "autotypenumbers": "strict",
                    "coloraxis": {
                      "colorbar": {
                        "outlinewidth": 0,
                        "ticks": ""
                      }
                    },
                    "colorscale": {
                      "diverging": [
                        [
                          0,
                          "#8e0152"
                        ],
                        [
                          0.1,
                          "#c51b7d"
                        ],
                        [
                          0.2,
                          "#de77ae"
                        ],
                        [
                          0.3,
                          "#f1b6da"
                        ],
                        [
                          0.4,
                          "#fde0ef"
                        ],
                        [
                          0.5,
                          "#f7f7f7"
                        ],
                        [
                          0.6,
                          "#e6f5d0"
                        ],
                        [
                          0.7,
                          "#b8e186"
                        ],
                        [
                          0.8,
                          "#7fbc41"
                        ],
                        [
                          0.9,
                          "#4d9221"
                        ],
                        [
                          1,
                          "#276419"
                        ]
                      ],
                      "sequential": [
                        [
                          0,
                          "#0d0887"
                        ],
                        [
                          0.1111111111111111,
                          "#46039f"
                        ],
                        [
                          0.2222222222222222,
                          "#7201a8"
                        ],
                        [
                          0.3333333333333333,
                          "#9c179e"
                        ],
                        [
                          0.4444444444444444,
                          "#bd3786"
                        ],
                        [
                          0.5555555555555556,
                          "#d8576b"
                        ],
                        [
                          0.6666666666666666,
                          "#ed7953"
                        ],
                        [
                          0.7777777777777778,
                          "#fb9f3a"
                        ],
                        [
                          0.8888888888888888,
                          "#fdca26"
                        ],
                        [
                          1,
                          "#f0f921"
                        ]
                      ],
                      "sequentialminus": [
                        [
                          0,
                          "#0d0887"
                        ],
                        [
                          0.1111111111111111,
                          "#46039f"
                        ],
                        [
                          0.2222222222222222,
                          "#7201a8"
                        ],
                        [
                          0.3333333333333333,
                          "#9c179e"
                        ],
                        [
                          0.4444444444444444,
                          "#bd3786"
                        ],
                        [
                          0.5555555555555556,
                          "#d8576b"
                        ],
                        [
                          0.6666666666666666,
                          "#ed7953"
                        ],
                        [
                          0.7777777777777778,
                          "#fb9f3a"
                        ],
                        [
                          0.8888888888888888,
                          "#fdca26"
                        ],
                        [
                          1,
                          "#f0f921"
                        ]
                      ]
                    },
                    "colorway": [
                      "#636efa",
                      "#EF553B",
                      "#00cc96",
                      "#ab63fa",
                      "#FFA15A",
                      "#19d3f3",
                      "#FF6692",
                      "#B6E880",
                      "#FF97FF",
                      "#FECB52"
                    ],
                    "font": {
                      "color": "#2a3f5f"
                    },
                    "geo": {
                      "bgcolor": "white",
                      "lakecolor": "white",
                      "landcolor": "#E5ECF6",
                      "showlakes": true,
                      "showland": true,
                      "subunitcolor": "white"
                    },
                    "hoverlabel": {
                      "align": "left"
                    },
                    "hovermode": "closest",
                    "mapbox": {
                      "style": "light"
                    },
                    "paper_bgcolor": "white",
                    "plot_bgcolor": "#E5ECF6",
                    "polar": {
                      "angularaxis": {
                        "gridcolor": "white",
                        "linecolor": "white",
                        "ticks": ""
                      },
                      "bgcolor": "#E5ECF6",
                      "radialaxis": {
                        "gridcolor": "white",
                        "linecolor": "white",
                        "ticks": ""
                      }
                    },
                    "scene": {
                      "xaxis": {
                        "backgroundcolor": "#E5ECF6",
                        "gridcolor": "white",
                        "gridwidth": 2,
                        "linecolor": "white",
                        "showbackground": true,
                        "ticks": "",
                        "zerolinecolor": "white"
                      },
                      "yaxis": {
                        "backgroundcolor": "#E5ECF6",
                        "gridcolor": "white",
                        "gridwidth": 2,
                        "linecolor": "white",
                        "showbackground": true,
                        "ticks": "",
                        "zerolinecolor": "white"
                      },
                      "zaxis": {
                        "backgroundcolor": "#E5ECF6",
                        "gridcolor": "white",
                        "gridwidth": 2,
                        "linecolor": "white",
                        "showbackground": true,
                        "ticks": "",
                        "zerolinecolor": "white"
                      }
                    },
                    "shapedefaults": {
                      "line": {
                        "color": "#2a3f5f"
                      }
                    },
                    "ternary": {
                      "aaxis": {
                        "gridcolor": "white",
                        "linecolor": "white",
                        "ticks": ""
                      },
                      "baxis": {
                        "gridcolor": "white",
                        "linecolor": "white",
                        "ticks": ""
                      },
                      "bgcolor": "#E5ECF6",
                      "caxis": {
                        "gridcolor": "white",
                        "linecolor": "white",
                        "ticks": ""
                      }
                    },
                    "title": {
                      "x": 0.05
                    },
                    "xaxis": {
                      "automargin": true,
                      "gridcolor": "white",
                      "linecolor": "white",
                      "ticks": "",
                      "title": {
                        "standoff": 15
                      },
                      "zerolinecolor": "white",
                      "zerolinewidth": 2
                    },
                    "yaxis": {
                      "automargin": true,
                      "gridcolor": "white",
                      "linecolor": "white",
                      "ticks": "",
                      "title": {
                        "standoff": 15
                      },
                      "zerolinecolor": "white",
                      "zerolinewidth": 2
                    }
                  }
                },
                "xaxis": {
                  "anchor": "y",
                  "constrain": "domain",
                  "domain": [
                    0.34375,
                    0.65625
                  ],
                  "range": [
                    -7.206161096568061,
                    9.072077341296911
                  ],
                  "scaleanchor": "y",
                  "scaleratio": 1,
                  "title": {
                    "text": "x"
                  },
                  "type": "linear"
                },
                "yaxis": {
                  "anchor": "x",
                  "domain": [
                    0,
                    1
                  ],
                  "range": [
                    -7.206161096568061,
                    9.072077341296911
                  ],
                  "title": {
                    "text": "y"
                  },
                  "type": "linear"
                }
              }
            },
            "image/png": "[encoded data removed]",
            "text/html": [
              "<div>                            <div id=\"d39b8c46-969f-465d-9eff-b243ab35e5e8\" class=\"plotly-graph-div\" style=\"height:525px; width:100%;\"></div>            <script type=\"text/javascript\">                require([\"plotly\"], function(Plotly) {                    window.PLOTLYENV=window.PLOTLYENV || {};                                    if (document.getElementById(\"d39b8c46-969f-465d-9eff-b243ab35e5e8\")) {                    Plotly.newPlot(                        \"d39b8c46-969f-465d-9eff-b243ab35e5e8\",                        [{\"hovertemplate\":\"x=%{x}<br>y=%{y}<br>from=%{text}<extra></extra>\",\"legendgroup\":\"\",\"marker\":{\"color\":\"#636efa\",\"symbol\":\"circle\"},\"mode\":\"text\",\"name\":\"\",\"orientation\":\"v\",\"showlegend\":false,\"text\":[\"grouped_bar\",\"slope_chart\",\"stacked_bar\"],\"x\":[-1.2716419830381065,4.09541577945156,-2.8237737964134535],\"xaxis\":\"x\",\"y\":[-3.136601487101818,5.002517731830668,-1.8659162447288495],\"yaxis\":\"y\",\"type\":\"scatter\",\"cliponaxis\":false}],                        {\"template\":{\"data\":{\"bar\":[{\"error_x\":{\"color\":\"#2a3f5f\"},\"error_y\":{\"color\":\"#2a3f5f\"},\"marker\":{\"line\":{\"color\":\"#E5ECF6\",\"width\":0.5},\"pattern\":{\"fillmode\":\"overlay\",\"size\":10,\"solidity\":0.2}},\"type\":\"bar\"}],\"barpolar\":[{\"marker\":{\"line\":{\"color\":\"#E5ECF6\",\"width\":0.5},\"pattern\":{\"fillmode\":\"overlay\",\"size\":10,\"solidity\":0.2}},\"type\":\"barpolar\"}],\"carpet\":[{\"aaxis\":{\"endlinecolor\":\"#2a3f5f\",\"gridcolor\":\"white\",\"linecolor\":\"white\",\"minorgridcolor\":\"white\",\"startlinecolor\":\"#2a3f5f\"},\"baxis\":{\"endlinecolor\":\"#2a3f5f\",\"gridcolor\":\"white\",\"linecolor\":\"white\",\"minorgridcolor\":\"white\",\"startlinecolor\":\"#2a3f5f\"},\"type\":\"carpet\"}],\"choropleth\":[{\"colorbar\":{\"outlinewidth\":0,\"ticks\":\"\"},\"type\":\"choropleth\"}],\"contour\":[{\"colorbar\":{\"outlinewidth\":0,\"ticks\":\"\"},\"colorscale\":[[0.0,\"#0d0887\"],[0.1111111111111111,\"#46039f\"],[0.2222222222222222,\"#7201a8\"],[0.3333333333333333,\"#9c179e\"],[0.4444444444444444,\"#bd3786\"],[0.5555555555555556,\"#d8576b\"],[0.6666666666666666,\"#ed7953\"],[0.7777777777777778,\"#fb9f3a\"],[0.8888888888888888,\"#fdca26\"],[1.0,\"#f0f921\"]],\"type\":\"contour\"}],\"contourcarpet\":[{\"colorbar\":{\"outlinewidth\":0,\"ticks\":\"\"},\"type\":\"contourcarpet\"}],\"heatmap\":[{\"colorbar\":{\"outlinewidth\":0,\"ticks\":\"\"},\"colorscale\":[[0.0,\"#0d0887\"],[0.1111111111111111,\"#46039f\"],[0.2222222222222222,\"#7201a8\"],[0.3333333333333333,\"#9c179e\"],[0.4444444444444444,\"#bd3786\"],[0.5555555555555556,\"#d8576b\"],[0.6666666666666666,\"#ed7953\"],[0.7777777777777778,\"#fb9f3a\"],[0.8888888888888888,\"#fdca26\"],[1.0,\"#f0f921\"]],\"type\":\"heatmap\"}],\"heatmapgl\":[{\"colorbar\":{\"outlinewidth\":0,\"ticks\":\"\"},\"colorscale\":[[0.0,\"#0d0887\"],[0.1111111111111111,\"#46039f\"],[0.2222222222222222,\"#7201a8\"],[0.3333333333333333,\"#9c179e\"],[0.4444444444444444,\"#bd3786\"],[0.5555555555555556,\"#d8576b\"],[0.6666666666666666,\"#ed7953\"],[0.7777777777777778,\"#fb9f3a\"],[0.8888888888888888,\"#fdca26\"],[1.0,\"#f0f921\"]],\"type\":\"heatmapgl\"}],\"histogram\":[{\"marker\":{\"pattern\":{\"fillmode\":\"overlay\",\"size\":10,\"solidity\":0.2}},\"type\":\"histogram\"}],\"histogram2d\":[{\"colorbar\":{\"outlinewidth\":0,\"ticks\":\"\"},\"colorscale\":[[0.0,\"#0d0887\"],[0.1111111111111111,\"#46039f\"],[0.2222222222222222,\"#7201a8\"],[0.3333333333333333,\"#9c179e\"],[0.4444444444444444,\"#bd3786\"],[0.5555555555555556,\"#d8576b\"],[0.6666666666666666,\"#ed7953\"],[0.7777777777777778,\"#fb9f3a\"],[0.8888888888888888,\"#fdca26\"],[1.0,\"#f0f921\"]],\"type\":\"histogram2d\"}],\"histogram2dcontour\":[{\"colorbar\":{\"outlinewidth\":0,\"ticks\":\"\"},\"colorscale\":[[0.0,\"#0d0887\"],[0.1111111111111111,\"#46039f\"],[0.2222222222222222,\"#7201a8\"],[0.3333333333333333,\"#9c179e\"],[0.4444444444444444,\"#bd3786\"],[0.5555555555555556,\"#d8576b\"],[0.6666666666666666,\"#ed7953\"],[0.7777777777777778,\"#fb9f3a\"],[0.8888888888888888,\"#fdca26\"],[1.0,\"#f0f921\"]],\"type\":\"histogram2dcontour\"}],\"mesh3d\":[{\"colorbar\":{\"outlinewidth\":0,\"ticks\":\"\"},\"type\":\"mesh3d\"}],\"parcoords\":[{\"line\":{\"colorbar\":{\"outlinewidth\":0,\"ticks\":\"\"}},\"type\":\"parcoords\"}],\"pie\":[{\"automargin\":true,\"type\":\"pie\"}],\"scatter\":[{\"marker\":{\"colorbar\":{\"outlinewidth\":0,\"ticks\":\"\"}},\"type\":\"scatter\"}],\"scatter3d\":[{\"line\":{\"colorbar\":{\"outlinewidth\":0,\"ticks\":\"\"}},\"marker\":{\"colorbar\":{\"outlinewidth\":0,\"ticks\":\"\"}},\"type\":\"scatter3d\"}],\"scattercarpet\":[{\"marker\":{\"colorbar\":{\"outlinewidth\":0,\"ticks\":\"\"}},\"type\":\"scattercarpet\"}],\"scattergeo\":[{\"marker\":{\"colorbar\":{\"outlinewidth\":0,\"ticks\":\"\"}},\"type\":\"scattergeo\"}],\"scattergl\":[{\"marker\":{\"colorbar\":{\"outlinewidth\":0,\"ticks\":\"\"}},\"type\":\"scattergl\"}],\"scattermapbox\":[{\"marker\":{\"colorbar\":{\"outlinewidth\":0,\"ticks\":\"\"}},\"type\":\"scattermapbox\"}],\"scatterpolar\":[{\"marker\":{\"colorbar\":{\"outlinewidth\":0,\"ticks\":\"\"}},\"type\":\"scatterpolar\"}],\"scatterpolargl\":[{\"marker\":{\"colorbar\":{\"outlinewidth\":0,\"ticks\":\"\"}},\"type\":\"scatterpolargl\"}],\"scatterternary\":[{\"marker\":{\"colorbar\":{\"outlinewidth\":0,\"ticks\":\"\"}},\"type\":\"scatterternary\"}],\"surface\":[{\"colorbar\":{\"outlinewidth\":0,\"ticks\":\"\"},\"colorscale\":[[0.0,\"#0d0887\"],[0.1111111111111111,\"#46039f\"],[0.2222222222222222,\"#7201a8\"],[0.3333333333333333,\"#9c179e\"],[0.4444444444444444,\"#bd3786\"],[0.5555555555555556,\"#d8576b\"],[0.6666666666666666,\"#ed7953\"],[0.7777777777777778,\"#fb9f3a\"],[0.8888888888888888,\"#fdca26\"],[1.0,\"#f0f921\"]],\"type\":\"surface\"}],\"table\":[{\"cells\":{\"fill\":{\"color\":\"#EBF0F8\"},\"line\":{\"color\":\"white\"}},\"header\":{\"fill\":{\"color\":\"#C8D4E3\"},\"line\":{\"color\":\"white\"}},\"type\":\"table\"}]},\"layout\":{\"annotationdefaults\":{\"arrowcolor\":\"#2a3f5f\",\"arrowhead\":0,\"arrowwidth\":1},\"autotypenumbers\":\"strict\",\"coloraxis\":{\"colorbar\":{\"outlinewidth\":0,\"ticks\":\"\"}},\"colorscale\":{\"diverging\":[[0,\"#8e0152\"],[0.1,\"#c51b7d\"],[0.2,\"#de77ae\"],[0.3,\"#f1b6da\"],[0.4,\"#fde0ef\"],[0.5,\"#f7f7f7\"],[0.6,\"#e6f5d0\"],[0.7,\"#b8e186\"],[0.8,\"#7fbc41\"],[0.9,\"#4d9221\"],[1,\"#276419\"]],\"sequential\":[[0.0,\"#0d0887\"],[0.1111111111111111,\"#46039f\"],[0.2222222222222222,\"#7201a8\"],[0.3333333333333333,\"#9c179e\"],[0.4444444444444444,\"#bd3786\"],[0.5555555555555556,\"#d8576b\"],[0.6666666666666666,\"#ed7953\"],[0.7777777777777778,\"#fb9f3a\"],[0.8888888888888888,\"#fdca26\"],[1.0,\"#f0f921\"]],\"sequentialminus\":[[0.0,\"#0d0887\"],[0.1111111111111111,\"#46039f\"],[0.2222222222222222,\"#7201a8\"],[0.3333333333333333,\"#9c179e\"],[0.4444444444444444,\"#bd3786\"],[0.5555555555555556,\"#d8576b\"],[0.6666666666666666,\"#ed7953\"],[0.7777777777777778,\"#fb9f3a\"],[0.8888888888888888,\"#fdca26\"],[1.0,\"#f0f921\"]]},\"colorway\":[\"#636efa\",\"#EF553B\",\"#00cc96\",\"#ab63fa\",\"#FFA15A\",\"#19d3f3\",\"#FF6692\",\"#B6E880\",\"#FF97FF\",\"#FECB52\"],\"font\":{\"color\":\"#2a3f5f\"},\"geo\":{\"bgcolor\":\"white\",\"lakecolor\":\"white\",\"landcolor\":\"#E5ECF6\",\"showlakes\":true,\"showland\":true,\"subunitcolor\":\"white\"},\"hoverlabel\":{\"align\":\"left\"},\"hovermode\":\"closest\",\"mapbox\":{\"style\":\"light\"},\"paper_bgcolor\":\"white\",\"plot_bgcolor\":\"#E5ECF6\",\"polar\":{\"angularaxis\":{\"gridcolor\":\"white\",\"linecolor\":\"white\",\"ticks\":\"\"},\"bgcolor\":\"#E5ECF6\",\"radialaxis\":{\"gridcolor\":\"white\",\"linecolor\":\"white\",\"ticks\":\"\"}},\"scene\":{\"xaxis\":{\"backgroundcolor\":\"#E5ECF6\",\"gridcolor\":\"white\",\"gridwidth\":2,\"linecolor\":\"white\",\"showbackground\":true,\"ticks\":\"\",\"zerolinecolor\":\"white\"},\"yaxis\":{\"backgroundcolor\":\"#E5ECF6\",\"gridcolor\":\"white\",\"gridwidth\":2,\"linecolor\":\"white\",\"showbackground\":true,\"ticks\":\"\",\"zerolinecolor\":\"white\"},\"zaxis\":{\"backgroundcolor\":\"#E5ECF6\",\"gridcolor\":\"white\",\"gridwidth\":2,\"linecolor\":\"white\",\"showbackground\":true,\"ticks\":\"\",\"zerolinecolor\":\"white\"}},\"shapedefaults\":{\"line\":{\"color\":\"#2a3f5f\"}},\"ternary\":{\"aaxis\":{\"gridcolor\":\"white\",\"linecolor\":\"white\",\"ticks\":\"\"},\"baxis\":{\"gridcolor\":\"white\",\"linecolor\":\"white\",\"ticks\":\"\"},\"bgcolor\":\"#E5ECF6\",\"caxis\":{\"gridcolor\":\"white\",\"linecolor\":\"white\",\"ticks\":\"\"}},\"title\":{\"x\":0.05},\"xaxis\":{\"automargin\":true,\"gridcolor\":\"white\",\"linecolor\":\"white\",\"ticks\":\"\",\"title\":{\"standoff\":15},\"zerolinecolor\":\"white\",\"zerolinewidth\":2},\"yaxis\":{\"automargin\":true,\"gridcolor\":\"white\",\"linecolor\":\"white\",\"ticks\":\"\",\"title\":{\"standoff\":15},\"zerolinecolor\":\"white\",\"zerolinewidth\":2}}},\"xaxis\":{\"anchor\":\"y\",\"domain\":[0.0,1.0],\"title\":{\"text\":\"x\"},\"range\":[-7.206161096568061,9.072077341296911],\"scaleanchor\":\"y\",\"scaleratio\":1,\"constrain\":\"domain\"},\"yaxis\":{\"anchor\":\"x\",\"domain\":[0.0,1.0],\"title\":{\"text\":\"y\"},\"range\":[-7.206161096568061,9.072077341296911]},\"legend\":{\"tracegroupgap\":0},\"margin\":{\"t\":60},\"plot_bgcolor\":\"white\",\"annotations\":[{\"arrowhead\":2,\"arrowsize\":2,\"ax\":-1.2716419830381065,\"axref\":\"x\",\"ay\":-3.136601487101818,\"ayref\":\"y\",\"hovertext\":\"yo\",\"x\":4.09541577945156,\"xanchor\":\"center\",\"xref\":\"x\",\"y\":5.002517731830668,\"yanchor\":\"middle\",\"yref\":\"y\"}]},                        {\"responsive\": true}                    ).then(function(){\n",
              "                            \n",
              "var gd = document.getElementById('d39b8c46-969f-465d-9eff-b243ab35e5e8');\n",
              "var x = new MutationObserver(function (mutations, observer) {{\n",
              "        var display = window.getComputedStyle(gd).display;\n",
              "        if (!display || display === 'none') {{\n",
              "            console.log([gd, 'removed!']);\n",
              "            Plotly.purge(gd);\n",
              "            observer.disconnect();\n",
              "        }}\n",
              "}});\n",
              "\n",
              "// Listen for the removal of the full notebook cells\n",
              "var notebookContainer = gd.closest('#notebook-container');\n",
              "if (notebookContainer) {{\n",
              "    x.observe(notebookContainer, {childList: true});\n",
              "}}\n",
              "\n",
              "// Listen for the clearing of the current output cell\n",
              "var outputEl = gd.closest('.output');\n",
              "if (outputEl) {{\n",
              "    x.observe(outputEl, {childList: true});\n",
              "}}\n",
              "\n",
              "                        })                };                });            </script>        </div>"
            ]
          },
          "metadata": {},
          "output_type": "display_data"
        }
      ],
      "source": [
        "(px.scatter(\n",
        "                emb_df,\n",
        "                x=\"x\",\n",
        "                y=\"y\",\n",
        "                text=emb_df.index,\n",
        "                range_x=[emb_min, emb_max],\n",
        "                range_y=[emb_min, emb_max],\n",
        "            )\n",
        "            .update_layout(plot_bgcolor=\"white\")\n",
        "            .update_traces(mode=\"text\", cliponaxis=False)\n",
        "            .update_xaxes(scaleanchor=\"y\", scaleratio=1, constrain=\"domain\")\n",
        " .add_annotation(x=to.x, y=to.y, ax=frm.x, ay=frm.y, \n",
        "                 arrowhead=2, arrowsize=2, hovertext=\"yo\",\n",
        "                    axref=\"x\", ayref=\"y\", xref=\"x\", yref=\"y\",\n",
        "                    xanchor=\"center\", yanchor=\"middle\")\n",
        ")\n"
      ]
    },
    {
      "cell_type": "code",
      "execution_count": 18,
      "id": "bc88e790-c06c-40eb-ae8c-f8a7593f5fd6",
      "metadata": {},
      "outputs": [],
      "source": [
        "order = list(df[\"from\"].unique())"
      ]
    },
    {
      "cell_type": "code",
      "execution_count": 66,
      "id": "aa8c6c2d-8f00-41dd-acd8-e0b9233cb220",
      "metadata": {},
      "outputs": [
        {
          "data": {
            "application/vnd.jupyter.widget-view+json": {
              "model_id": "cdacdc356683499d9726413625c229f6",
              "version_major": 2,
              "version_minor": 0
            },
            "text/plain": [
              "FigureWidget({\n",
              "    'data': [{'coloraxis': 'coloraxis',\n",
              "              'histfunc': 'sum',\n",
              "              'hoverte…"
            ]
          },
          "metadata": {},
          "output_type": "display_data"
        }
      ],
      "source": [
        "fig = go.FigureWidget(px.density_heatmap(df, x=\"from\", y=\"to\", z=\"cost\", \n",
        "                   color_continuous_scale=\"reds\", text_auto=True,\n",
        "                   category_orders={\"from\":square.index, \"to\":square.index}))\n",
        "fig"
      ]
    },
    {
      "cell_type": "code",
      "execution_count": 41,
      "id": "71851b0c-c6a5-4319-bffc-9e02dff43b92",
      "metadata": {},
      "outputs": [],
      "source": [
        "def test(trace, points, state):\n",
        "    with out:\n",
        "        print(\"yooo\")\n",
        "\n",
        "fig.data[0].on_click(test)\n"
      ]
    },
    {
      "cell_type": "code",
      "execution_count": 38,
      "id": "bd6c7c8d-1aaa-4899-8047-1fc33c3c1c81",
      "metadata": {},
      "outputs": [],
      "source": [
        "import ipywidgets as widgets\n"
      ]
    },
    {
      "cell_type": "code",
      "execution_count": 39,
      "id": "87a80229-c7d5-4bf3-a051-1398b7902ac5",
      "metadata": {},
      "outputs": [
        {
          "data": {
            "application/vnd.jupyter.widget-view+json": {
              "model_id": "3870a24ac2da4832b86c6f59f108f775",
              "version_major": 2,
              "version_minor": 0
            },
            "text/plain": [
              "Output(layout=Layout(border='1px solid black'))"
            ]
          },
          "metadata": {},
          "output_type": "display_data"
        }
      ],
      "source": [
        "out = widgets.Output(layout={'border': '1px solid black'})\n",
        "out"
      ]
    },
    {
      "cell_type": "code",
      "execution_count": 40,
      "id": "e13215d5-1d04-4512-b562-9866b2d3c5ea",
      "metadata": {},
      "outputs": [],
      "source": []
    },
    {
      "cell_type": "code",
      "execution_count": null,
      "id": "74ab3a10-7639-42f3-9326-201a781fcda1",
      "metadata": {},
      "outputs": [],
      "source": []
    }
  ],
  "metadata": {
    "kernelspec": {
      "display_name": "Python 3",
      "language": "python",
      "name": "python3"
    },
    "language_info": {
      "codemirror_mode": {
        "name": "ipython",
        "version": 3
      },
      "file_extension": ".py",
      "mimetype": "text/x-python",
      "name": "python",
      "nbconvert_exporter": "python",
      "pygments_lexer": "ipython3",
      "version": "3.8.11"
    }
  },
  "nbformat": 4,
  "nbformat_minor": 5
}
