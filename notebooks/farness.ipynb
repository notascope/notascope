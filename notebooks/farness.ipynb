{
 "cells": [
  {
   "cell_type": "code",
   "execution_count": 14,
   "id": "2f9bbab8-de55-4b94-a749-02544a750bcb",
   "metadata": {},
   "outputs": [],
   "source": [
    "from src.distances import dmat_and_order\n",
    "import numpy as np\n",
    "import plotly.express as px\n",
    "import pandas as pd\n",
    "\n",
    "dmat, dmat_sym, order = dmat_and_order(\"vega-lite\", \"vega-lite\", \"nmi\")\n",
    "\n",
    "df = pd.DataFrame(dict(slug=order, farness=np.mean(dmat, axis=1)))\n",
    "\n",
    "df[\"bin_centres\"] = pd.cut(df[\"farness\"], bins = 100).apply(lambda x: float(x.mid)).astype(float)\n",
    "\n",
    "px.bar(df, x=\"bin_centres\", y=px.Constant(1), hover_data=[\"slug\"], color=\"farness\", \n",
    "       range_color=[df[\"bin_centres\"].min(), df[\"bin_centres\"].median()*2])"
   ]
  },
  {
   "cell_type": "code",
   "execution_count": null,
   "id": "60eb4bb3-d061-4224-ab35-ee7de3ee2121",
   "metadata": {},
   "outputs": [],
   "source": []
  }
 ],
 "metadata": {
  "kernelspec": {
   "display_name": "Python 3 (ipykernel)",
   "language": "python",
   "name": "python3"
  },
  "language_info": {
   "codemirror_mode": {
    "name": "ipython",
    "version": 3
   },
   "file_extension": ".py",
   "mimetype": "text/x-python",
   "name": "python",
   "nbconvert_exporter": "python",
   "pygments_lexer": "ipython3",
   "version": "3.9.7"
  }
 },
 "nbformat": 4,
 "nbformat_minor": 5
}
