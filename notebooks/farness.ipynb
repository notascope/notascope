{
 "cells": [
  {
   "cell_type": "code",
   "execution_count": null,
   "id": "50f81979-3c95-4c86-8867-5ce54692d696",
   "metadata": {},
   "outputs": [],
   "source": [
    "from src.distances import dmat_and_order\n",
    "import numpy as np\n",
    "import plotly.express as px"
   ]
  },
  {
   "cell_type": "code",
   "execution_count": 12,
   "id": "58c93539-4ca5-48ec-b21e-2637015b0762",
   "metadata": {},
   "outputs": [
    {
     "data": {
      "application/vnd.plotly.v1+json": {
       "config": {
        "plotlyServerURL": "https://plotly.com"
       },
       "data": [
        {
         "alignmentgroup": "True",
         "bingroup": "x",
         "hovertemplate": "farness=%{x}<br>count=%{y}<extra></extra>",
         "legendgroup": "",
         "marker": {
          "color": "#636efa",
          "pattern": {
           "shape": ""
          }
         },
         "name": "",
         "offsetgroup": "",
         "orientation": "v",
         "showlegend": false,
         "type": "histogram",
         "x": [
          878.6786389413988,
          310.88846880907374,
          315.97542533081287,
          316.39886578449904,
          668.3705103969754,
          290.2495274102079,
          507.6880907372401,
          424.0812854442344,
          443.67485822306236,
          382.85444234404537,
          360.04914933837426,
          339.13988657844993,
          430.55576559546313,
          432.6502835538752,
          463.14555765595463,
          415.57466918714556,
          496.9017013232514,
          331.5368620037807,
          499.1568998109641,
          466.8506616257089,
          328.9981096408318,
          348.2079395085066,
          288.7391304347826,
          323.94896030245746,
          393.5538752362949,
          346.45746691871454,
          355.7788279773157,
          303.60680529300566,
          369.88090737240077,
          367.26843100189035,
          362.70888468809073,
          353.9413988657845,
          338.26465028355386,
          290.13988657844993,
          321.8506616257089,
          372.8695652173913,
          283.9678638941399,
          405.3742911153119,
          518.8922495274102,
          309.82986767485824,
          548.4839319470699,
          278.7466918714556,
          323.6502835538752,
          320.48960302457465,
          289.25897920604916,
          486.9073724007561,
          286.0283553875236,
          286.0283553875236,
          305.2136105860113,
          310.2873345935728,
          283.1625708884688,
          570.8109640831758,
          793.7183364839319,
          326.0226843100189,
          316.6313799621928,
          286.5708884688091,
          286.04536862003783,
          347.1833648393195,
          349.4782608695652,
          364.2608695652174,
          388.5671077504726,
          394.4706994328923,
          330.4631379962193,
          326.02457466918713,
          382.3742911153119,
          432.89035916824196,
          358.8733459357278,
          337.75992438563327,
          317.4725897920605,
          468.39508506616255,
          745.68809073724,
          316.4385633270321,
          334.2533081285444,
          340.4499054820416,
          311.3837429111531,
          359.24574669187143,
          337.7485822306238,
          374.79017013232516,
          492.95841209829865,
          341.4291115311909,
          380.3686200378072,
          404.51606805293005,
          271.6578449905482,
          319.79017013232516,
          300.60491493383745,
          321.9281663516068,
          292.7561436672968,
          305.41209829867677,
          289.38563327032136,
          303.2930056710775,
          298.4914933837429,
          318.8412098298677,
          273.01512287334594,
          283.01512287334594,
          284.3553875236295,
          282.45557655954633,
          305.8374291115312,
          277.76559546313797,
          313.49338374291113,
          338.4272211720227,
          295.86767485822304,
          346.07372400756145,
          314.32703213610586,
          297.2514177693762,
          313.3648393194707,
          338.2778827977316,
          326.992438563327,
          306.5765595463138,
          334.7807183364839,
          371.41209829867677,
          348.03780718336486,
          530.9792060491493,
          337.64272211720225,
          330.4631379962193,
          601.4158790170133,
          272.6162570888469,
          334.5727788279773,
          333.9054820415879,
          334.73156899810965,
          333.9735349716446,
          457.96219281663514,
          445.054820415879,
          310.53875236294897,
          362.48960302457465,
          494.6257088846881,
          513.9546313799622,
          280.64272211720225,
          367.3837429111531,
          379.5047258979206,
          416.61058601134215,
          380.3648393194707,
          373.20982986767484,
          626.413988657845,
          570.937618147448,
          584.6975425330813,
          397.4234404536862,
          410.9697542533081,
          1011.1833648393194,
          493.8657844990548,
          663.6635160680529,
          424.82986767485824,
          469.45557655954633,
          312.937618147448,
          270.82230623818526,
          391.8657844990548,
          368.3875236294896,
          313.35349716446126,
          367.35916824196596,
          407.0812854442344,
          412.3969754253308,
          309.35916824196596,
          550.1474480151229,
          323.29678638941397,
          330.83553875236294,
          350.0586011342155,
          492.5538752362949,
          492.5538752362949,
          453.476370510397,
          523.7844990548205,
          544.3534971644613,
          320.89413988657844,
          433.23062381852554,
          435.2079395085066,
          464.36294896030245,
          508.5595463137996,
          337.3875236294896,
          370.29678638941397,
          470.007561436673,
          991.3232514177694,
          563.8979206049149,
          605.5538752362949,
          397.07561436672967,
          535.765595463138,
          677.3610586011342,
          433.36672967863893,
          496.26654064272213,
          451.1550094517958,
          409.0661625708885,
          294.3875236294896,
          304.50661625708887,
          309.7485822306238,
          326.4083175803403,
          368.7296786389414,
          322.4952741020794,
          422.71455576559543,
          318.9281663516068,
          499.710775047259,
          297.36294896030245,
          326.86767485822304,
          526.2722117202269,
          310.92249527410206,
          427.53875236294897,
          500.8393194706994,
          488.2873345935728,
          496.5406427221172,
          378.79395085066164,
          672.7769376181475,
          534.4858223062382,
          947.4517958412098,
          1088.1928166351606,
          455.76559546313797,
          766.194706994329,
          510.22306238185257,
          506.9697542533081,
          554.5822306238185,
          567.2684310018903,
          401.476370510397,
          698.3705103969754,
          660.9678638941399,
          588.3005671077505,
          533.4442344045368,
          439.7221172022684,
          368.7183364839319,
          380.11531190926274,
          393.2533081285444,
          345.6238185255198,
          438.8695652173913,
          429.5349716446125,
          439.01890359168243,
          375.58790170132323,
          448.73534971644614,
          546.1455576559546,
          783.9810964083176,
          618.3553875236295,
          560.6578449905483,
          2340.3005671077503,
          558.6294896030246,
          748.5179584120983,
          450.5293005671077,
          508.812854442344,
          404.51606805293005,
          491.63705103969755,
          379.8166351606805,
          544.9357277882798,
          391.51228733459357,
          457.0926275992439,
          347.1833648393195,
          363.55576559546313,
          459.6502835538752,
          374.9035916824197,
          297.14177693761815,
          305.9092627599244,
          368.83553875236294,
          371.3194706994329,
          386.83553875236294,
          497.02457466918713,
          440.48015122873346,
          346.05671077504724,
          548.5841209829867,
          648.6030245746692,
          445.523629489603,
          355.45746691871454,
          347.48393194706995,
          729.5425330812855,
          810.3705103969754,
          340.4952741020794,
          365.58034026465026,
          369.9640831758034,
          445.75803402646505,
          390.42155009451795,
          390.9735349716446,
          370.9130434782609,
          523.2155009451795,
          590.31190926276,
          357.39886578449904,
          344.82986767485824,
          346.187145557656,
          353.7240075614367,
          366.9187145557656,
          390.5330812854442,
          372.82986767485824,
          370.23251417769376,
          369.54442344045367,
          358.92249527410206,
          405.16824196597355,
          388.0718336483932,
          379.5973534971645,
          387.60680529300566,
          407.76370510396976,
          358.6502835538752,
          495.8185255198488,
          362.97920604914935,
          646.7863894139887,
          384.51228733459357,
          372.3478260869565,
          340.9054820415879,
          295.98109640831757,
          548.5689981096408,
          644.3856332703214,
          438.27221172022684,
          308.28544423440457,
          300.1493383742911,
          354.6162570888469,
          287.1833648393195,
          322.34404536862,
          462.9735349716446,
          502.25897920604916,
          481.1531190926276,
          611.8506616257089,
          639.6691871455577,
          292.9735349716446,
          295.4499054820416,
          353.7750472589792,
          318.04914933837426,
          335.97542533081287,
          322.73156899810965,
          352.14744801512285,
          309.4499054820416,
          360.76559546313797,
          340.03780718336486,
          302.7826086956522,
          314.93005671077503,
          322.67863894139884,
          312.71455576559543,
          313.8431001890359,
          310.7221172022684,
          334.0718336483932,
          333.4820415879017,
          353.6616257088847,
          298.7258979206049,
          327.88657844990547,
          350.34026465028353,
          645.4120982986767,
          319.5727788279773,
          328.3100189035917,
          261.11531190926274,
          261.11531190926274,
          283.70321361058603,
          275.7920604914934,
          340.4007561436673,
          314.83553875236294,
          336.5330812854442,
          298.5727788279773,
          336.60491493383745,
          356.9413988657845,
          357.20037807183365,
          508.5009451795841,
          988.1928166351606,
          429.1758034026465,
          268.54253308128546,
          265.29489603024575,
          268.7126654064272,
          284.8714555765595,
          265.79962192816635,
          286.2797731568998,
          289.812854442344,
          299.02079395085065,
          313.4461247637051,
          590.7202268431001,
          318.01134215500946,
          295.9338374291115,
          302.50661625708887,
          298.9981096408318,
          284.4952741020794,
          285.2797731568998,
          327.66918714555766,
          285.3875236294896,
          285.3421550094518,
          302.882797731569,
          339.08317580340264,
          287.8166351606805,
          324.2759924385633,
          322.0642722117202,
          286.61436672967864,
          286.41587901701325,
          381.9149338374291,
          372.11909262759923,
          280.4669187145558,
          300.68241965973533,
          340.51417769376184,
          358.76559546313797,
          271.289224952741,
          267.07939508506615,
          655.4480151228734,
          387.2173913043478,
          314.20982986767484,
          408.007561436673,
          293.85822306238185,
          441.5330812854442,
          346.01890359168243,
          470.64083175803404,
          541.3837429111531,
          922.7901701323251,
          1122.9224952741022,
          593.3005671077505,
          481.8071833648393,
          432.6181474480151,
          377.117202268431,
          376.0094517958412,
          419.3459357277883,
          373.44801512287336,
          409.0340264650284,
          356.80340264650283,
          430.8998109640832,
          360.0869565217391,
          309.6843100189036,
          287.29489603024575,
          613.3913043478261,
          305.7844990548204,
          298.8790170132325,
          507.95463137996217,
          411.20037807183365,
          439.4083175803403,
          400.48015122873346,
          519.7882797731569,
          518.7202268431001,
          439.2816635160681,
          406.02079395085065,
          439.32325141776937,
          416.0396975425331,
          406.02079395085065,
          542.3610586011342,
          381.4725897920605,
          460.3969754253308,
          600.2797731568999,
          466.4650283553875,
          406.98109640831757,
          382.76370510396976,
          345.710775047259,
          359.61058601134215,
          363.7882797731569,
          359.7844990548204,
          405.6899810964083,
          411.3742911153119,
          482.9867674858223,
          479.82797731568996,
          414.6862003780718,
          423.95841209829865,
          491.46124763705103,
          488.29867674858224,
          441.70888468809073,
          439.8412098298677,
          440.82230623818526,
          391.01890359168243,
          405.7164461247637,
          367.4423440453686,
          416.20037807183365,
          485.1663516068053,
          366.8431001890359,
          433.5916824196597,
          343.7296786389414,
          359.5293005671077,
          344.5727788279773,
          352.98109640831757,
          353.62003780718334,
          450.79395085066164,
          416.20037807183365,
          400.14177693761815,
          366.8431001890359,
          370.7807183364839,
          436.45179584120984,
          274.4007561436673,
          413.64272211720225,
          436.79395085066164,
          347.42155009451795,
          442.2778827977316,
          461.39886578449904,
          288.93005671077503,
          313.88657844990547,
          362.6843100189036,
          350.26465028355386,
          358.4631379962193,
          371.7844990548204,
          298.41965973534974,
          552.3345935727788,
          307.3686200378072,
          404.0037807183365,
          454.34404536862,
          437.0056710775047,
          528.984877126654,
          335.945179584121,
          405.23251417769376,
          289.8374291115312,
          299.49338374291113,
          448.42155009451795,
          357.8015122873346,
          269.17202268431004,
          267.07939508506615,
          290.10775047258977,
          302.5765595463138,
          314.63327032136107,
          300.5916824196597,
          317.9130434782609,
          875.3137996219282,
          346.29867674858224,
          321.8109640831758,
          279.46124763705103,
          303.61058601134215,
          290.0018903591682,
          276.8090737240076,
          274.7258979206049,
          306.882797731569,
          311.1342155009452,
          334.79962192816635,
          324.7788279773157,
          305.4291115311909,
          302.4820415879017,
          349.3818525519849,
          297.289224952741,
          717.1020793950851,
          324.8506616257089,
          420.0037807183365,
          765.9035916824197,
          457.24574669187143,
          444.54442344045367,
          307.22306238185257,
          342.34404536862,
          458.0888468809074,
          417.02457466918713,
          456.6502835538752,
          437.2514177693762,
          338.9603024574669,
          483.14555765595463,
          501.9716446124764,
          339.593572778828,
          329.1266540642722,
          326.46124763705103,
          298.9395085066163,
          337.406427221172,
          638.5822306238185,
          313.0964083175803,
          590.8260869565217,
          424.73534971644614,
          1071.6049149338373,
          970.8374291115312,
          496.0056710775047,
          587.7145557655955,
          377.5671077504726,
          543.5614366729678
         ],
         "xaxis": "x",
         "yaxis": "y"
        },
        {
         "alignmentgroup": "True",
         "boxpoints": "all",
         "fillcolor": "rgba(255,255,255,0)",
         "hoveron": "points",
         "hovertemplate": "<b>%{hovertext}</b><br><br>farness=%{x}<extra></extra>",
         "hovertext": [
          "airport_connections.vl",
          "arc_donut.vl",
          "arc_facet.vl",
          "arc_ordinal_theta.vl",
          "arc_params.vl",
          "arc_pie.vl",
          "arc_pie_pyramid.vl",
          "arc_radial.vl",
          "arc_radial_histogram.vl",
          "area.vl",
          "area_cumulative_freq.vl",
          "area_density.vl",
          "area_density_facet.vl",
          "area_density_stacked.vl",
          "area_density_stacked_fold.vl",
          "area_gradient.vl",
          "area_horizon.vl",
          "area_overlay.vl",
          "area_params.vl",
          "area_temperature_range.vl",
          "area_vertical.vl",
          "argmin_spaces.vl",
          "bar.vl",
          "bar_1d.vl",
          "bar_1d_binned.vl",
          "bar_1d_step_config.vl",
          "bar_aggregate.vl",
          "bar_aggregate_count.vl",
          "bar_aggregate_format.vl",
          "bar_aggregate_size.vl",
          "bar_aggregate_sort_by_encoding.vl",
          "bar_aggregate_sort_mean.vl",
          "bar_aggregate_transform.vl",
          "bar_aggregate_vertical.vl",
          "bar_argmax.vl",
          "bar_argmax_transform.vl",
          "bar_array_aggregate.vl",
          "bar_axis_orient.vl",
          "bar_axis_space_saving.vl",
          "bar_binned_data.vl",
          "bar_bullet_expr_bind.vl",
          "bar_color_disabled_scale.vl",
          "bar_column_fold.vl",
          "bar_column_pivot.vl",
          "bar_corner_radius_end.vl",
          "bar_count_minimap.vl",
          "bar_custom_sort_full.vl",
          "bar_custom_sort_partial.vl",
          "bar_custom_time_domain.vl",
          "bar_default_tooltip_title_null.vl",
          "bar_distinct.vl",
          "bar_diverging_stack_population_pyramid.vl",
          "bar_diverging_stack_transform.vl",
          "bar_filter_calc.vl",
          "bar_fit.vl",
          "bar_gantt.vl",
          "bar_grouped.vl",
          "bar_grouped_custom_padding.vl",
          "bar_grouped_errorbar.vl",
          "bar_grouped_facet.vl",
          "bar_grouped_facet_independent_scale.vl",
          "bar_grouped_facet_independent_scale_fixed_width.vl",
          "bar_grouped_fixed_width.vl",
          "bar_grouped_horizontal.vl",
          "bar_grouped_label.vl",
          "bar_grouped_repeated.vl",
          "bar_grouped_stacked.vl",
          "bar_grouped_step_for_offset.vl",
          "bar_grouped_step_for_position.vl",
          "bar_layered_transparent.vl",
          "bar_layered_weather.vl",
          "bar_month.vl",
          "bar_month_band.vl",
          "bar_month_band_config.vl",
          "bar_month_temporal.vl",
          "bar_month_temporal_initial.vl",
          "bar_multi_values_per_categories.vl",
          "bar_negative.vl",
          "bar_negative_horizontal_label.vl",
          "bar_params.vl",
          "bar_params_bound.vl",
          "bar_percent_of_total.vl",
          "bar_size_default.vl",
          "bar_size_explicit_bad.vl",
          "bar_size_fit.vl",
          "bar_size_responsive.vl",
          "bar_size_step_small.vl",
          "bar_sort_by_count.vl",
          "bar_swap_axes.vl",
          "bar_swap_custom.vl",
          "bar_title.vl",
          "bar_title_start.vl",
          "bar_tooltip.vl",
          "bar_tooltip_aggregate.vl",
          "bar_tooltip_groupby.vl",
          "bar_tooltip_multi.vl",
          "bar_tooltip_title.vl",
          "bar_x_offset_without_x_broken.vl",
          "bar_yearmonth.vl",
          "bar_yearmonth_custom_format.vl",
          "boxplot_1D_horizontal.vl",
          "boxplot_1D_horizontal_custom_mark.vl",
          "boxplot_1D_horizontal_explicit.vl",
          "boxplot_1D_vertical.vl",
          "boxplot_2D_horizontal.vl",
          "boxplot_2D_horizontal_color_size.vl",
          "boxplot_2D_vertical.vl",
          "boxplot_groupped.vl",
          "boxplot_minmax_2D_horizontal.vl",
          "boxplot_minmax_2D_horizontal_custom_midtick_color.vl",
          "boxplot_minmax_2D_vertical.vl",
          "boxplot_preaggregated.vl",
          "boxplot_tooltip_aggregate.vl",
          "boxplot_tooltip_not_aggregate.vl",
          "brush_table.vl",
          "circle.vl",
          "circle_binned.vl",
          "circle_binned_maxbins_2.vl",
          "circle_binned_maxbins_20.vl",
          "circle_binned_maxbins_5.vl",
          "circle_bubble_health_income.vl",
          "circle_custom_tick_labels.vl",
          "circle_flatten.vl",
          "circle_github_punchcard.vl",
          "circle_labelangle_orient_signal.vl",
          "circle_natural_disasters.vl",
          "circle_opacity.vl",
          "circle_scale_quantile.vl",
          "circle_scale_quantize.vl",
          "circle_scale_threshold.vl",
          "circle_wilkinson_dotplot.vl",
          "circle_wilkinson_dotplot_stacked.vl",
          "concat_bar_layer_circle.vl",
          "concat_bar_scales_discretize.vl",
          "concat_bar_scales_discretize_2_cols.vl",
          "concat_hover.vl",
          "concat_hover_filter.vl",
          "concat_layer_voyager_result.vl",
          "concat_marginal_histograms.vl",
          "concat_population_pyramid.vl",
          "concat_weather.vl",
          "config_numberFormatType_test.vl",
          "connected_scatterplot.vl",
          "embedded_csv.vl",
          "errorband_2d_horizontal_color_encoding.vl",
          "errorband_2d_vertical_borders.vl",
          "errorband_tooltip.vl",
          "errorbar_2d_vertical_ticks.vl",
          "errorbar_aggregate.vl",
          "errorbar_horizontal_aggregate.vl",
          "errorbar_tooltip.vl",
          "facet_bullet.vl",
          "facet_column_facet_column_point_future.vl",
          "facet_column_facet_row_point_future.vl",
          "facet_cross_independent_scale.vl",
          "facet_custom.vl",
          "facet_custom_header.vl",
          "facet_grid_bar.vl",
          "facet_independent_scale.vl",
          "facet_independent_scale_layer_broken.vl",
          "facet_row_facet_row_point_future.vl",
          "geo_choropleth.vl",
          "geo_circle.vl",
          "geo_constant_value.vl",
          "geo_custom_projection.vl",
          "geo_graticule.vl",
          "geo_graticule_object.vl",
          "geo_layer.vl",
          "geo_layer_line_london.vl",
          "geo_line.vl",
          "geo_params_projections.vl",
          "geo_point.vl",
          "geo_repeat.vl",
          "geo_rule.vl",
          "geo_sphere.vl",
          "geo_text.vl",
          "geo_trellis.vl",
          "hconcat_weather.vl",
          "histogram.vl",
          "histogram_bin_change.vl",
          "histogram_bin_spacing.vl",
          "histogram_bin_spacing_reverse.vl",
          "histogram_bin_transform.vl",
          "histogram_invalid_null.vl",
          "histogram_log.vl",
          "histogram_no_spacing.vl",
          "histogram_nonlinear.vl",
          "histogram_ordinal.vl",
          "histogram_ordinal_sort.vl",
          "histogram_rel_freq.vl",
          "histogram_reverse.vl",
          "interactive_area_brush.vl",
          "interactive_bar_select_highlight.vl",
          "interactive_bin_extent.vl",
          "interactive_bin_extent_bottom.vl",
          "interactive_brush.vl",
          "interactive_concat_layer.vl",
          "interactive_dashboard_europe_pop.vl",
          "interactive_geo_earthquakes.vl",
          "interactive_global_development.vl",
          "interactive_histogram_full_height_hover.vl",
          "interactive_index_chart.vl",
          "interactive_layered_crossfilter.vl",
          "interactive_layered_crossfilter_discrete.vl",
          "interactive_legend.vl",
          "interactive_legend_dblclick.vl",
          "interactive_line_brush_cursor.vl",
          "interactive_line_hover.vl",
          "interactive_multi_line_label.vl",
          "interactive_multi_line_pivot_tooltip.vl",
          "interactive_multi_line_tooltip.vl",
          "interactive_overview_detail.vl",
          "interactive_paintbrush.vl",
          "interactive_paintbrush_color.vl",
          "interactive_paintbrush_color_nearest.vl",
          "interactive_paintbrush_interval.vl",
          "interactive_paintbrush_simple_false.vl",
          "interactive_paintbrush_simple_true.vl",
          "interactive_panzoom_splom.vl",
          "interactive_panzoom_vconcat_shared.vl",
          "interactive_point_init.vl",
          "interactive_query_widgets.vl",
          "interactive_seattle_weather.vl",
          "interactive_splom.vl",
          "interactive_stocks_nearest_index.vl",
          "isotype_bar_chart.vl",
          "isotype_bar_chart_emoji.vl",
          "isotype_grid.vl",
          "joinaggregate_mean_difference.vl",
          "joinaggregate_mean_difference_by_year.vl",
          "joinaggregate_percent_of_total.vl",
          "joinaggregate_residual_graph.vl",
          "layer_arc_label.vl",
          "layer_bar_annotations.vl",
          "layer_bar_circle_grouped.vl",
          "layer_bar_fruit.vl",
          "layer_bar_grouped_line_ungrouped.vl",
          "layer_bar_labels.vl",
          "layer_bar_labels_grey.vl",
          "layer_bar_labels_style.vl",
          "layer_bar_line.vl",
          "layer_bar_line_union.vl",
          "layer_bar_month.vl",
          "layer_bar_tick_datum_grouped.vl",
          "layer_boxplot_circle.vl",
          "layer_candlestick.vl",
          "layer_circle_independent_color.vl",
          "layer_color_legend_left.vl",
          "layer_cumulative_histogram.vl",
          "layer_dual_axis.vl",
          "layer_falkensee.vl",
          "layer_histogram.vl",
          "layer_histogram_global_mean.vl",
          "layer_likert.vl",
          "layer_line_co2_concentration.vl",
          "layer_line_color_rule.vl",
          "layer_line_datum_rule.vl",
          "layer_line_datum_rule_datetime.vl",
          "layer_line_errorband_2d_horizontal_borders_strokedash.vl",
          "layer_line_errorband_ci.vl",
          "layer_line_errorband_pre_aggregated.vl",
          "layer_line_mean_point_raw.vl",
          "layer_line_rolling_mean_point_raw.vl",
          "layer_line_window.vl",
          "layer_overlay.vl",
          "layer_point_errorbar_1d_horizontal.vl",
          "layer_point_errorbar_1d_vertical.vl",
          "layer_point_errorbar_2d_horizontal.vl",
          "layer_point_errorbar_2d_horizontal_ci.vl",
          "layer_point_errorbar_2d_horizontal_color_encoding.vl",
          "layer_point_errorbar_2d_horizontal_custom_ticks.vl",
          "layer_point_errorbar_2d_horizontal_iqr.vl",
          "layer_point_errorbar_2d_horizontal_stdev.vl",
          "layer_point_errorbar_2d_vertical.vl",
          "layer_point_errorbar_ci.vl",
          "layer_point_errorbar_pre_aggregated_asymmetric_error.vl",
          "layer_point_errorbar_pre_aggregated_symmetric_error.vl",
          "layer_point_errorbar_pre_aggregated_upper_lower.vl",
          "layer_point_errorbar_stdev.vl",
          "layer_point_line_loess.vl",
          "layer_point_line_regression.vl",
          "layer_precipitation_mean.vl",
          "layer_ranged_dot.vl",
          "layer_rect_extent.vl",
          "layer_scatter_errorband_1D_stdev_global_mean.vl",
          "layer_scatter_errorband_1d_stdev.vl",
          "layer_single_color.vl",
          "layer_text_heatmap.vl",
          "layer_text_heatmap_joinaggregate.vl",
          "layer_timeunit_rect.vl",
          "line.vl",
          "line_bump.vl",
          "line_calculate.vl",
          "line_color.vl",
          "line_color_binned.vl",
          "line_color_halo.vl",
          "line_color_label.vl",
          "line_concat_facet.vl",
          "line_conditional_axis.vl",
          "line_conditional_axis_config.vl",
          "line_dashed_part.vl",
          "line_detail.vl",
          "line_domainminmax.vl",
          "line_encoding_impute_keyvals.vl",
          "line_encoding_impute_keyvals_sequence.vl",
          "line_impute_frame.vl",
          "line_impute_keyvals.vl",
          "line_impute_method.vl",
          "line_impute_transform_frame.vl",
          "line_impute_transform_value.vl",
          "line_impute_value.vl",
          "line_inside_domain_using_clip.vl",
          "line_inside_domain_using_transform.vl",
          "line_max_year.vl",
          "line_mean_month.vl",
          "line_mean_year.vl",
          "line_monotone.vl",
          "line_month.vl",
          "line_month_center_band.vl",
          "line_outside_domain.vl",
          "line_overlay.vl",
          "line_overlay_stroked.vl",
          "line_params.vl",
          "line_quarter_legend.vl",
          "line_shape_overlay.vl",
          "line_skip_invalid.vl",
          "line_skip_invalid_mid.vl",
          "line_skip_invalid_mid_cap_square.vl",
          "line_skip_invalid_mid_overlay.vl",
          "line_slope.vl",
          "line_sort_axis.vl",
          "line_step.vl",
          "line_strokedash.vl",
          "line_timestamp_domain.vl",
          "line_timeunit_transform.vl",
          "lookup.vl",
          "nested_concat_align.vl",
          "parallel_coordinate.vl",
          "param_expr.vl",
          "point_1d.vl",
          "point_1d_array.vl",
          "point_2d.vl",
          "point_2d_aggregate.vl",
          "point_2d_array.vl",
          "point_2d_array_named.vl",
          "point_2d_tooltip.vl",
          "point_2d_tooltip_data.vl",
          "point_aggregate_detail.vl",
          "point_angle_windvector.vl",
          "point_background.vl",
          "point_binned_color.vl",
          "point_binned_opacity.vl",
          "point_binned_size.vl",
          "point_bubble.vl",
          "point_color.vl",
          "point_color_custom.vl",
          "point_color_ordinal.vl",
          "point_color_quantitative.vl",
          "point_color_shape_constant.vl",
          "point_color_with_shape.vl",
          "point_colorramp_size.vl",
          "point_diverging_color.vl",
          "point_dot_timeunit_color.vl",
          "point_filled.vl",
          "point_grouped.vl",
          "point_href.vl",
          "point_invalid_color.vl",
          "point_log.vl",
          "point_no_axis_domain_grid.vl",
          "point_offset_random.vl",
          "point_ordinal_bin_offset_random.vl",
          "point_ordinal_color.vl",
          "point_overlap.vl",
          "point_params.vl",
          "point_quantile_quantile.vl",
          "point_scale_range_field.vl",
          "point_shape_custom.vl",
          "point_tooltip.vl",
          "rect_binned_heatmap.vl",
          "rect_heatmap.vl",
          "rect_heatmap_weather.vl",
          "rect_lasagna.vl",
          "rect_mosaic_labelled.vl",
          "rect_mosaic_labelled_with_offset.vl",
          "rect_mosaic_simple.vl",
          "rect_params.vl",
          "repeat_child_layer.vl",
          "repeat_histogram.vl",
          "repeat_histogram_autosize.vl",
          "repeat_histogram_flights.vl",
          "repeat_independent_colors.vl",
          "repeat_layer.vl",
          "repeat_line_weather.vl",
          "repeat_splom.vl",
          "repeat_splom_cars.vl",
          "rule_color_mean.vl",
          "rule_extent.vl",
          "rule_params.vl",
          "sample_scatterplot.vl",
          "scatter_image.vl",
          "selection_bind_cylyr.vl",
          "selection_bind_origin.vl",
          "selection_brush_timeunit.vl",
          "selection_clear_brush.vl",
          "selection_composition_and.vl",
          "selection_composition_or.vl",
          "selection_concat.vl",
          "selection_filter.vl",
          "selection_filter_composition.vl",
          "selection_filter_false.vl",
          "selection_filter_true.vl",
          "selection_heatmap.vl",
          "selection_insert.vl",
          "selection_interval_mark_style.vl",
          "selection_layer",
          "selection_layer_bar_month.vl",
          "selection_multi_condition.vl",
          "selection_project_binned_interval.vl",
          "selection_project_interval.vl",
          "selection_project_interval_x.vl",
          "selection_project_interval_x_y.vl",
          "selection_project_interval_y.vl",
          "selection_project_multi.vl",
          "selection_project_multi_cylinders.vl",
          "selection_project_multi_cylinders_origin.vl",
          "selection_project_multi_origin.vl",
          "selection_project_single.vl",
          "selection_project_single_cylinders.vl",
          "selection_project_single_cylinders_origin.vl",
          "selection_project_single_origin.vl",
          "selection_resolution_global.vl",
          "selection_resolution_intersect.vl",
          "selection_resolution_union.vl",
          "selection_toggle_altKey.vl",
          "selection_toggle_altKey_shiftKey.vl",
          "selection_toggle_shiftKey.vl",
          "selection_translate_brush_drag.vl",
          "selection_translate_brush_shift-drag.vl",
          "selection_translate_scatterplot_drag.vl",
          "selection_translate_scatterplot_shift-drag.vl",
          "selection_type_interval.vl",
          "selection_type_interval_invert.vl",
          "selection_type_point.vl",
          "selection_type_single_dblclick.vl",
          "selection_type_single_mouseover.vl",
          "selection_zoom_brush_shift-wheel.vl",
          "selection_zoom_brush_wheel.vl",
          "selection_zoom_scatterplot_shift-wheel.vl",
          "selection_zoom_scatterplot_wheel.vl",
          "sequence_line.vl",
          "sequence_line_fold.vl",
          "square.vl",
          "stacked_area.vl",
          "stacked_area_normalize.vl",
          "stacked_area_ordinal.vl",
          "stacked_area_overlay.vl",
          "stacked_area_stream.vl",
          "stacked_bar_1d.vl",
          "stacked_bar_count.vl",
          "stacked_bar_count_corner_radius_config.vl",
          "stacked_bar_count_corner_radius_mark.vl",
          "stacked_bar_count_corner_radius_mark_x.vl",
          "stacked_bar_count_corner_radius_stroke.vl",
          "stacked_bar_h.vl",
          "stacked_bar_h_normalized_labeled.vl",
          "stacked_bar_h_order.vl",
          "stacked_bar_h_order_custom.vl",
          "stacked_bar_normalize.vl",
          "stacked_bar_population.vl",
          "stacked_bar_population_transform.vl",
          "stacked_bar_size.vl",
          "stacked_bar_sum_opacity.vl",
          "stacked_bar_unaggregate.vl",
          "stacked_bar_v.vl",
          "stacked_bar_weather.vl",
          "test_aggregate_nested.vl",
          "test_field_with_spaces.vl",
          "test_minimal",
          "test_single_point_color.vl",
          "test_subobject.vl",
          "test_subobject_missing.vl",
          "test_subobject_nested.vl",
          "text_format.vl",
          "text_params.vl",
          "text_scatterplot_colored.vl",
          "text_tooltip_image.vl",
          "tick_dot.vl",
          "tick_dot_thickness.vl",
          "tick_grouped.vl",
          "tick_sort.vl",
          "tick_strip.vl",
          "tick_strip_tick_band.vl",
          "time_custom_step.vl",
          "time_output_utc_scale.vl",
          "time_output_utc_timeunit.vl",
          "time_parse_local.vl",
          "time_parse_utc.vl",
          "time_parse_utc_format.vl",
          "trail_color.vl",
          "trail_comet.vl",
          "trellis_anscombe.vl",
          "trellis_area.vl",
          "trellis_area_seattle.vl",
          "trellis_area_sort_array.vl",
          "trellis_bar.vl",
          "trellis_bar_histogram.vl",
          "trellis_bar_histogram_label_rotated.vl",
          "trellis_bar_no_header.vl",
          "trellis_barley.vl",
          "trellis_barley_independent.vl",
          "trellis_barley_layer_median.vl",
          "trellis_column_year.vl",
          "trellis_cross_sort.vl",
          "trellis_cross_sort_array.vl",
          "trellis_line_quarter.vl",
          "trellis_row_column.vl",
          "trellis_scatter.vl",
          "trellis_scatter_binned_row.vl",
          "trellis_scatter_small.vl",
          "trellis_selections.vl",
          "trellis_stacked_bar.vl",
          "vconcat_flatten.vl",
          "vconcat_weather.vl",
          "waterfall_chart.vl",
          "wheat_wages.vl",
          "window_cumulative_running_average.vl",
          "window_rank.vl",
          "window_top_k.vl",
          "window_top_k_others.vl"
         ],
         "jitter": 0,
         "legendgroup": "",
         "line": {
          "color": "rgba(255,255,255,0)"
         },
         "marker": {
          "color": "#636efa",
          "symbol": "line-ns-open"
         },
         "name": "",
         "offsetgroup": "",
         "showlegend": false,
         "type": "box",
         "x": [
          878.6786389413988,
          310.88846880907374,
          315.97542533081287,
          316.39886578449904,
          668.3705103969754,
          290.2495274102079,
          507.6880907372401,
          424.0812854442344,
          443.67485822306236,
          382.85444234404537,
          360.04914933837426,
          339.13988657844993,
          430.55576559546313,
          432.6502835538752,
          463.14555765595463,
          415.57466918714556,
          496.9017013232514,
          331.5368620037807,
          499.1568998109641,
          466.8506616257089,
          328.9981096408318,
          348.2079395085066,
          288.7391304347826,
          323.94896030245746,
          393.5538752362949,
          346.45746691871454,
          355.7788279773157,
          303.60680529300566,
          369.88090737240077,
          367.26843100189035,
          362.70888468809073,
          353.9413988657845,
          338.26465028355386,
          290.13988657844993,
          321.8506616257089,
          372.8695652173913,
          283.9678638941399,
          405.3742911153119,
          518.8922495274102,
          309.82986767485824,
          548.4839319470699,
          278.7466918714556,
          323.6502835538752,
          320.48960302457465,
          289.25897920604916,
          486.9073724007561,
          286.0283553875236,
          286.0283553875236,
          305.2136105860113,
          310.2873345935728,
          283.1625708884688,
          570.8109640831758,
          793.7183364839319,
          326.0226843100189,
          316.6313799621928,
          286.5708884688091,
          286.04536862003783,
          347.1833648393195,
          349.4782608695652,
          364.2608695652174,
          388.5671077504726,
          394.4706994328923,
          330.4631379962193,
          326.02457466918713,
          382.3742911153119,
          432.89035916824196,
          358.8733459357278,
          337.75992438563327,
          317.4725897920605,
          468.39508506616255,
          745.68809073724,
          316.4385633270321,
          334.2533081285444,
          340.4499054820416,
          311.3837429111531,
          359.24574669187143,
          337.7485822306238,
          374.79017013232516,
          492.95841209829865,
          341.4291115311909,
          380.3686200378072,
          404.51606805293005,
          271.6578449905482,
          319.79017013232516,
          300.60491493383745,
          321.9281663516068,
          292.7561436672968,
          305.41209829867677,
          289.38563327032136,
          303.2930056710775,
          298.4914933837429,
          318.8412098298677,
          273.01512287334594,
          283.01512287334594,
          284.3553875236295,
          282.45557655954633,
          305.8374291115312,
          277.76559546313797,
          313.49338374291113,
          338.4272211720227,
          295.86767485822304,
          346.07372400756145,
          314.32703213610586,
          297.2514177693762,
          313.3648393194707,
          338.2778827977316,
          326.992438563327,
          306.5765595463138,
          334.7807183364839,
          371.41209829867677,
          348.03780718336486,
          530.9792060491493,
          337.64272211720225,
          330.4631379962193,
          601.4158790170133,
          272.6162570888469,
          334.5727788279773,
          333.9054820415879,
          334.73156899810965,
          333.9735349716446,
          457.96219281663514,
          445.054820415879,
          310.53875236294897,
          362.48960302457465,
          494.6257088846881,
          513.9546313799622,
          280.64272211720225,
          367.3837429111531,
          379.5047258979206,
          416.61058601134215,
          380.3648393194707,
          373.20982986767484,
          626.413988657845,
          570.937618147448,
          584.6975425330813,
          397.4234404536862,
          410.9697542533081,
          1011.1833648393194,
          493.8657844990548,
          663.6635160680529,
          424.82986767485824,
          469.45557655954633,
          312.937618147448,
          270.82230623818526,
          391.8657844990548,
          368.3875236294896,
          313.35349716446126,
          367.35916824196596,
          407.0812854442344,
          412.3969754253308,
          309.35916824196596,
          550.1474480151229,
          323.29678638941397,
          330.83553875236294,
          350.0586011342155,
          492.5538752362949,
          492.5538752362949,
          453.476370510397,
          523.7844990548205,
          544.3534971644613,
          320.89413988657844,
          433.23062381852554,
          435.2079395085066,
          464.36294896030245,
          508.5595463137996,
          337.3875236294896,
          370.29678638941397,
          470.007561436673,
          991.3232514177694,
          563.8979206049149,
          605.5538752362949,
          397.07561436672967,
          535.765595463138,
          677.3610586011342,
          433.36672967863893,
          496.26654064272213,
          451.1550094517958,
          409.0661625708885,
          294.3875236294896,
          304.50661625708887,
          309.7485822306238,
          326.4083175803403,
          368.7296786389414,
          322.4952741020794,
          422.71455576559543,
          318.9281663516068,
          499.710775047259,
          297.36294896030245,
          326.86767485822304,
          526.2722117202269,
          310.92249527410206,
          427.53875236294897,
          500.8393194706994,
          488.2873345935728,
          496.5406427221172,
          378.79395085066164,
          672.7769376181475,
          534.4858223062382,
          947.4517958412098,
          1088.1928166351606,
          455.76559546313797,
          766.194706994329,
          510.22306238185257,
          506.9697542533081,
          554.5822306238185,
          567.2684310018903,
          401.476370510397,
          698.3705103969754,
          660.9678638941399,
          588.3005671077505,
          533.4442344045368,
          439.7221172022684,
          368.7183364839319,
          380.11531190926274,
          393.2533081285444,
          345.6238185255198,
          438.8695652173913,
          429.5349716446125,
          439.01890359168243,
          375.58790170132323,
          448.73534971644614,
          546.1455576559546,
          783.9810964083176,
          618.3553875236295,
          560.6578449905483,
          2340.3005671077503,
          558.6294896030246,
          748.5179584120983,
          450.5293005671077,
          508.812854442344,
          404.51606805293005,
          491.63705103969755,
          379.8166351606805,
          544.9357277882798,
          391.51228733459357,
          457.0926275992439,
          347.1833648393195,
          363.55576559546313,
          459.6502835538752,
          374.9035916824197,
          297.14177693761815,
          305.9092627599244,
          368.83553875236294,
          371.3194706994329,
          386.83553875236294,
          497.02457466918713,
          440.48015122873346,
          346.05671077504724,
          548.5841209829867,
          648.6030245746692,
          445.523629489603,
          355.45746691871454,
          347.48393194706995,
          729.5425330812855,
          810.3705103969754,
          340.4952741020794,
          365.58034026465026,
          369.9640831758034,
          445.75803402646505,
          390.42155009451795,
          390.9735349716446,
          370.9130434782609,
          523.2155009451795,
          590.31190926276,
          357.39886578449904,
          344.82986767485824,
          346.187145557656,
          353.7240075614367,
          366.9187145557656,
          390.5330812854442,
          372.82986767485824,
          370.23251417769376,
          369.54442344045367,
          358.92249527410206,
          405.16824196597355,
          388.0718336483932,
          379.5973534971645,
          387.60680529300566,
          407.76370510396976,
          358.6502835538752,
          495.8185255198488,
          362.97920604914935,
          646.7863894139887,
          384.51228733459357,
          372.3478260869565,
          340.9054820415879,
          295.98109640831757,
          548.5689981096408,
          644.3856332703214,
          438.27221172022684,
          308.28544423440457,
          300.1493383742911,
          354.6162570888469,
          287.1833648393195,
          322.34404536862,
          462.9735349716446,
          502.25897920604916,
          481.1531190926276,
          611.8506616257089,
          639.6691871455577,
          292.9735349716446,
          295.4499054820416,
          353.7750472589792,
          318.04914933837426,
          335.97542533081287,
          322.73156899810965,
          352.14744801512285,
          309.4499054820416,
          360.76559546313797,
          340.03780718336486,
          302.7826086956522,
          314.93005671077503,
          322.67863894139884,
          312.71455576559543,
          313.8431001890359,
          310.7221172022684,
          334.0718336483932,
          333.4820415879017,
          353.6616257088847,
          298.7258979206049,
          327.88657844990547,
          350.34026465028353,
          645.4120982986767,
          319.5727788279773,
          328.3100189035917,
          261.11531190926274,
          261.11531190926274,
          283.70321361058603,
          275.7920604914934,
          340.4007561436673,
          314.83553875236294,
          336.5330812854442,
          298.5727788279773,
          336.60491493383745,
          356.9413988657845,
          357.20037807183365,
          508.5009451795841,
          988.1928166351606,
          429.1758034026465,
          268.54253308128546,
          265.29489603024575,
          268.7126654064272,
          284.8714555765595,
          265.79962192816635,
          286.2797731568998,
          289.812854442344,
          299.02079395085065,
          313.4461247637051,
          590.7202268431001,
          318.01134215500946,
          295.9338374291115,
          302.50661625708887,
          298.9981096408318,
          284.4952741020794,
          285.2797731568998,
          327.66918714555766,
          285.3875236294896,
          285.3421550094518,
          302.882797731569,
          339.08317580340264,
          287.8166351606805,
          324.2759924385633,
          322.0642722117202,
          286.61436672967864,
          286.41587901701325,
          381.9149338374291,
          372.11909262759923,
          280.4669187145558,
          300.68241965973533,
          340.51417769376184,
          358.76559546313797,
          271.289224952741,
          267.07939508506615,
          655.4480151228734,
          387.2173913043478,
          314.20982986767484,
          408.007561436673,
          293.85822306238185,
          441.5330812854442,
          346.01890359168243,
          470.64083175803404,
          541.3837429111531,
          922.7901701323251,
          1122.9224952741022,
          593.3005671077505,
          481.8071833648393,
          432.6181474480151,
          377.117202268431,
          376.0094517958412,
          419.3459357277883,
          373.44801512287336,
          409.0340264650284,
          356.80340264650283,
          430.8998109640832,
          360.0869565217391,
          309.6843100189036,
          287.29489603024575,
          613.3913043478261,
          305.7844990548204,
          298.8790170132325,
          507.95463137996217,
          411.20037807183365,
          439.4083175803403,
          400.48015122873346,
          519.7882797731569,
          518.7202268431001,
          439.2816635160681,
          406.02079395085065,
          439.32325141776937,
          416.0396975425331,
          406.02079395085065,
          542.3610586011342,
          381.4725897920605,
          460.3969754253308,
          600.2797731568999,
          466.4650283553875,
          406.98109640831757,
          382.76370510396976,
          345.710775047259,
          359.61058601134215,
          363.7882797731569,
          359.7844990548204,
          405.6899810964083,
          411.3742911153119,
          482.9867674858223,
          479.82797731568996,
          414.6862003780718,
          423.95841209829865,
          491.46124763705103,
          488.29867674858224,
          441.70888468809073,
          439.8412098298677,
          440.82230623818526,
          391.01890359168243,
          405.7164461247637,
          367.4423440453686,
          416.20037807183365,
          485.1663516068053,
          366.8431001890359,
          433.5916824196597,
          343.7296786389414,
          359.5293005671077,
          344.5727788279773,
          352.98109640831757,
          353.62003780718334,
          450.79395085066164,
          416.20037807183365,
          400.14177693761815,
          366.8431001890359,
          370.7807183364839,
          436.45179584120984,
          274.4007561436673,
          413.64272211720225,
          436.79395085066164,
          347.42155009451795,
          442.2778827977316,
          461.39886578449904,
          288.93005671077503,
          313.88657844990547,
          362.6843100189036,
          350.26465028355386,
          358.4631379962193,
          371.7844990548204,
          298.41965973534974,
          552.3345935727788,
          307.3686200378072,
          404.0037807183365,
          454.34404536862,
          437.0056710775047,
          528.984877126654,
          335.945179584121,
          405.23251417769376,
          289.8374291115312,
          299.49338374291113,
          448.42155009451795,
          357.8015122873346,
          269.17202268431004,
          267.07939508506615,
          290.10775047258977,
          302.5765595463138,
          314.63327032136107,
          300.5916824196597,
          317.9130434782609,
          875.3137996219282,
          346.29867674858224,
          321.8109640831758,
          279.46124763705103,
          303.61058601134215,
          290.0018903591682,
          276.8090737240076,
          274.7258979206049,
          306.882797731569,
          311.1342155009452,
          334.79962192816635,
          324.7788279773157,
          305.4291115311909,
          302.4820415879017,
          349.3818525519849,
          297.289224952741,
          717.1020793950851,
          324.8506616257089,
          420.0037807183365,
          765.9035916824197,
          457.24574669187143,
          444.54442344045367,
          307.22306238185257,
          342.34404536862,
          458.0888468809074,
          417.02457466918713,
          456.6502835538752,
          437.2514177693762,
          338.9603024574669,
          483.14555765595463,
          501.9716446124764,
          339.593572778828,
          329.1266540642722,
          326.46124763705103,
          298.9395085066163,
          337.406427221172,
          638.5822306238185,
          313.0964083175803,
          590.8260869565217,
          424.73534971644614,
          1071.6049149338373,
          970.8374291115312,
          496.0056710775047,
          587.7145557655955,
          377.5671077504726,
          543.5614366729678
         ],
         "xaxis": "x2",
         "yaxis": "y2"
        }
       ],
       "layout": {
        "autosize": true,
        "barmode": "relative",
        "legend": {
         "tracegroupgap": 0
        },
        "margin": {
         "t": 60
        },
        "template": {
         "data": {
          "bar": [
           {
            "error_x": {
             "color": "#2a3f5f"
            },
            "error_y": {
             "color": "#2a3f5f"
            },
            "marker": {
             "line": {
              "color": "#E5ECF6",
              "width": 0.5
             },
             "pattern": {
              "fillmode": "overlay",
              "size": 10,
              "solidity": 0.2
             }
            },
            "type": "bar"
           }
          ],
          "barpolar": [
           {
            "marker": {
             "line": {
              "color": "#E5ECF6",
              "width": 0.5
             },
             "pattern": {
              "fillmode": "overlay",
              "size": 10,
              "solidity": 0.2
             }
            },
            "type": "barpolar"
           }
          ],
          "carpet": [
           {
            "aaxis": {
             "endlinecolor": "#2a3f5f",
             "gridcolor": "white",
             "linecolor": "white",
             "minorgridcolor": "white",
             "startlinecolor": "#2a3f5f"
            },
            "baxis": {
             "endlinecolor": "#2a3f5f",
             "gridcolor": "white",
             "linecolor": "white",
             "minorgridcolor": "white",
             "startlinecolor": "#2a3f5f"
            },
            "type": "carpet"
           }
          ],
          "choropleth": [
           {
            "colorbar": {
             "outlinewidth": 0,
             "ticks": ""
            },
            "type": "choropleth"
           }
          ],
          "contour": [
           {
            "colorbar": {
             "outlinewidth": 0,
             "ticks": ""
            },
            "colorscale": [
             [
              0,
              "#0d0887"
             ],
             [
              0.1111111111111111,
              "#46039f"
             ],
             [
              0.2222222222222222,
              "#7201a8"
             ],
             [
              0.3333333333333333,
              "#9c179e"
             ],
             [
              0.4444444444444444,
              "#bd3786"
             ],
             [
              0.5555555555555556,
              "#d8576b"
             ],
             [
              0.6666666666666666,
              "#ed7953"
             ],
             [
              0.7777777777777778,
              "#fb9f3a"
             ],
             [
              0.8888888888888888,
              "#fdca26"
             ],
             [
              1,
              "#f0f921"
             ]
            ],
            "type": "contour"
           }
          ],
          "contourcarpet": [
           {
            "colorbar": {
             "outlinewidth": 0,
             "ticks": ""
            },
            "type": "contourcarpet"
           }
          ],
          "heatmap": [
           {
            "colorbar": {
             "outlinewidth": 0,
             "ticks": ""
            },
            "colorscale": [
             [
              0,
              "#0d0887"
             ],
             [
              0.1111111111111111,
              "#46039f"
             ],
             [
              0.2222222222222222,
              "#7201a8"
             ],
             [
              0.3333333333333333,
              "#9c179e"
             ],
             [
              0.4444444444444444,
              "#bd3786"
             ],
             [
              0.5555555555555556,
              "#d8576b"
             ],
             [
              0.6666666666666666,
              "#ed7953"
             ],
             [
              0.7777777777777778,
              "#fb9f3a"
             ],
             [
              0.8888888888888888,
              "#fdca26"
             ],
             [
              1,
              "#f0f921"
             ]
            ],
            "type": "heatmap"
           }
          ],
          "heatmapgl": [
           {
            "colorbar": {
             "outlinewidth": 0,
             "ticks": ""
            },
            "colorscale": [
             [
              0,
              "#0d0887"
             ],
             [
              0.1111111111111111,
              "#46039f"
             ],
             [
              0.2222222222222222,
              "#7201a8"
             ],
             [
              0.3333333333333333,
              "#9c179e"
             ],
             [
              0.4444444444444444,
              "#bd3786"
             ],
             [
              0.5555555555555556,
              "#d8576b"
             ],
             [
              0.6666666666666666,
              "#ed7953"
             ],
             [
              0.7777777777777778,
              "#fb9f3a"
             ],
             [
              0.8888888888888888,
              "#fdca26"
             ],
             [
              1,
              "#f0f921"
             ]
            ],
            "type": "heatmapgl"
           }
          ],
          "histogram": [
           {
            "marker": {
             "pattern": {
              "fillmode": "overlay",
              "size": 10,
              "solidity": 0.2
             }
            },
            "type": "histogram"
           }
          ],
          "histogram2d": [
           {
            "colorbar": {
             "outlinewidth": 0,
             "ticks": ""
            },
            "colorscale": [
             [
              0,
              "#0d0887"
             ],
             [
              0.1111111111111111,
              "#46039f"
             ],
             [
              0.2222222222222222,
              "#7201a8"
             ],
             [
              0.3333333333333333,
              "#9c179e"
             ],
             [
              0.4444444444444444,
              "#bd3786"
             ],
             [
              0.5555555555555556,
              "#d8576b"
             ],
             [
              0.6666666666666666,
              "#ed7953"
             ],
             [
              0.7777777777777778,
              "#fb9f3a"
             ],
             [
              0.8888888888888888,
              "#fdca26"
             ],
             [
              1,
              "#f0f921"
             ]
            ],
            "type": "histogram2d"
           }
          ],
          "histogram2dcontour": [
           {
            "colorbar": {
             "outlinewidth": 0,
             "ticks": ""
            },
            "colorscale": [
             [
              0,
              "#0d0887"
             ],
             [
              0.1111111111111111,
              "#46039f"
             ],
             [
              0.2222222222222222,
              "#7201a8"
             ],
             [
              0.3333333333333333,
              "#9c179e"
             ],
             [
              0.4444444444444444,
              "#bd3786"
             ],
             [
              0.5555555555555556,
              "#d8576b"
             ],
             [
              0.6666666666666666,
              "#ed7953"
             ],
             [
              0.7777777777777778,
              "#fb9f3a"
             ],
             [
              0.8888888888888888,
              "#fdca26"
             ],
             [
              1,
              "#f0f921"
             ]
            ],
            "type": "histogram2dcontour"
           }
          ],
          "mesh3d": [
           {
            "colorbar": {
             "outlinewidth": 0,
             "ticks": ""
            },
            "type": "mesh3d"
           }
          ],
          "parcoords": [
           {
            "line": {
             "colorbar": {
              "outlinewidth": 0,
              "ticks": ""
             }
            },
            "type": "parcoords"
           }
          ],
          "pie": [
           {
            "automargin": true,
            "type": "pie"
           }
          ],
          "scatter": [
           {
            "fillpattern": {
             "fillmode": "overlay",
             "size": 10,
             "solidity": 0.2
            },
            "type": "scatter"
           }
          ],
          "scatter3d": [
           {
            "line": {
             "colorbar": {
              "outlinewidth": 0,
              "ticks": ""
             }
            },
            "marker": {
             "colorbar": {
              "outlinewidth": 0,
              "ticks": ""
             }
            },
            "type": "scatter3d"
           }
          ],
          "scattercarpet": [
           {
            "marker": {
             "colorbar": {
              "outlinewidth": 0,
              "ticks": ""
             }
            },
            "type": "scattercarpet"
           }
          ],
          "scattergeo": [
           {
            "marker": {
             "colorbar": {
              "outlinewidth": 0,
              "ticks": ""
             }
            },
            "type": "scattergeo"
           }
          ],
          "scattergl": [
           {
            "marker": {
             "colorbar": {
              "outlinewidth": 0,
              "ticks": ""
             }
            },
            "type": "scattergl"
           }
          ],
          "scattermapbox": [
           {
            "marker": {
             "colorbar": {
              "outlinewidth": 0,
              "ticks": ""
             }
            },
            "type": "scattermapbox"
           }
          ],
          "scatterpolar": [
           {
            "marker": {
             "colorbar": {
              "outlinewidth": 0,
              "ticks": ""
             }
            },
            "type": "scatterpolar"
           }
          ],
          "scatterpolargl": [
           {
            "marker": {
             "colorbar": {
              "outlinewidth": 0,
              "ticks": ""
             }
            },
            "type": "scatterpolargl"
           }
          ],
          "scatterternary": [
           {
            "marker": {
             "colorbar": {
              "outlinewidth": 0,
              "ticks": ""
             }
            },
            "type": "scatterternary"
           }
          ],
          "surface": [
           {
            "colorbar": {
             "outlinewidth": 0,
             "ticks": ""
            },
            "colorscale": [
             [
              0,
              "#0d0887"
             ],
             [
              0.1111111111111111,
              "#46039f"
             ],
             [
              0.2222222222222222,
              "#7201a8"
             ],
             [
              0.3333333333333333,
              "#9c179e"
             ],
             [
              0.4444444444444444,
              "#bd3786"
             ],
             [
              0.5555555555555556,
              "#d8576b"
             ],
             [
              0.6666666666666666,
              "#ed7953"
             ],
             [
              0.7777777777777778,
              "#fb9f3a"
             ],
             [
              0.8888888888888888,
              "#fdca26"
             ],
             [
              1,
              "#f0f921"
             ]
            ],
            "type": "surface"
           }
          ],
          "table": [
           {
            "cells": {
             "fill": {
              "color": "#EBF0F8"
             },
             "line": {
              "color": "white"
             }
            },
            "header": {
             "fill": {
              "color": "#C8D4E3"
             },
             "line": {
              "color": "white"
             }
            },
            "type": "table"
           }
          ]
         },
         "layout": {
          "annotationdefaults": {
           "arrowcolor": "#2a3f5f",
           "arrowhead": 0,
           "arrowwidth": 1
          },
          "autotypenumbers": "strict",
          "coloraxis": {
           "colorbar": {
            "outlinewidth": 0,
            "ticks": ""
           }
          },
          "colorscale": {
           "diverging": [
            [
             0,
             "#8e0152"
            ],
            [
             0.1,
             "#c51b7d"
            ],
            [
             0.2,
             "#de77ae"
            ],
            [
             0.3,
             "#f1b6da"
            ],
            [
             0.4,
             "#fde0ef"
            ],
            [
             0.5,
             "#f7f7f7"
            ],
            [
             0.6,
             "#e6f5d0"
            ],
            [
             0.7,
             "#b8e186"
            ],
            [
             0.8,
             "#7fbc41"
            ],
            [
             0.9,
             "#4d9221"
            ],
            [
             1,
             "#276419"
            ]
           ],
           "sequential": [
            [
             0,
             "#0d0887"
            ],
            [
             0.1111111111111111,
             "#46039f"
            ],
            [
             0.2222222222222222,
             "#7201a8"
            ],
            [
             0.3333333333333333,
             "#9c179e"
            ],
            [
             0.4444444444444444,
             "#bd3786"
            ],
            [
             0.5555555555555556,
             "#d8576b"
            ],
            [
             0.6666666666666666,
             "#ed7953"
            ],
            [
             0.7777777777777778,
             "#fb9f3a"
            ],
            [
             0.8888888888888888,
             "#fdca26"
            ],
            [
             1,
             "#f0f921"
            ]
           ],
           "sequentialminus": [
            [
             0,
             "#0d0887"
            ],
            [
             0.1111111111111111,
             "#46039f"
            ],
            [
             0.2222222222222222,
             "#7201a8"
            ],
            [
             0.3333333333333333,
             "#9c179e"
            ],
            [
             0.4444444444444444,
             "#bd3786"
            ],
            [
             0.5555555555555556,
             "#d8576b"
            ],
            [
             0.6666666666666666,
             "#ed7953"
            ],
            [
             0.7777777777777778,
             "#fb9f3a"
            ],
            [
             0.8888888888888888,
             "#fdca26"
            ],
            [
             1,
             "#f0f921"
            ]
           ]
          },
          "colorway": [
           "#636efa",
           "#EF553B",
           "#00cc96",
           "#ab63fa",
           "#FFA15A",
           "#19d3f3",
           "#FF6692",
           "#B6E880",
           "#FF97FF",
           "#FECB52"
          ],
          "font": {
           "color": "#2a3f5f"
          },
          "geo": {
           "bgcolor": "white",
           "lakecolor": "white",
           "landcolor": "#E5ECF6",
           "showlakes": true,
           "showland": true,
           "subunitcolor": "white"
          },
          "hoverlabel": {
           "align": "left"
          },
          "hovermode": "closest",
          "mapbox": {
           "style": "light"
          },
          "paper_bgcolor": "white",
          "plot_bgcolor": "#E5ECF6",
          "polar": {
           "angularaxis": {
            "gridcolor": "white",
            "linecolor": "white",
            "ticks": ""
           },
           "bgcolor": "#E5ECF6",
           "radialaxis": {
            "gridcolor": "white",
            "linecolor": "white",
            "ticks": ""
           }
          },
          "scene": {
           "xaxis": {
            "backgroundcolor": "#E5ECF6",
            "gridcolor": "white",
            "gridwidth": 2,
            "linecolor": "white",
            "showbackground": true,
            "ticks": "",
            "zerolinecolor": "white"
           },
           "yaxis": {
            "backgroundcolor": "#E5ECF6",
            "gridcolor": "white",
            "gridwidth": 2,
            "linecolor": "white",
            "showbackground": true,
            "ticks": "",
            "zerolinecolor": "white"
           },
           "zaxis": {
            "backgroundcolor": "#E5ECF6",
            "gridcolor": "white",
            "gridwidth": 2,
            "linecolor": "white",
            "showbackground": true,
            "ticks": "",
            "zerolinecolor": "white"
           }
          },
          "shapedefaults": {
           "line": {
            "color": "#2a3f5f"
           }
          },
          "ternary": {
           "aaxis": {
            "gridcolor": "white",
            "linecolor": "white",
            "ticks": ""
           },
           "baxis": {
            "gridcolor": "white",
            "linecolor": "white",
            "ticks": ""
           },
           "bgcolor": "#E5ECF6",
           "caxis": {
            "gridcolor": "white",
            "linecolor": "white",
            "ticks": ""
           }
          },
          "title": {
           "x": 0.05
          },
          "xaxis": {
           "automargin": true,
           "gridcolor": "white",
           "linecolor": "white",
           "ticks": "",
           "title": {
            "standoff": 15
           },
           "zerolinecolor": "white",
           "zerolinewidth": 2
          },
          "yaxis": {
           "automargin": true,
           "gridcolor": "white",
           "linecolor": "white",
           "ticks": "",
           "title": {
            "standoff": 15
           },
           "zerolinecolor": "white",
           "zerolinewidth": 2
          }
         }
        },
        "xaxis": {
         "anchor": "y",
         "autorange": true,
         "domain": [
          0,
          1
         ],
         "range": [
          145.6050199537912,
          2455.810859063222
         ],
         "title": {
          "text": "farness"
         },
         "type": "linear"
        },
        "xaxis2": {
         "anchor": "y2",
         "autorange": true,
         "domain": [
          0,
          1
         ],
         "matches": "x",
         "range": [
          145.6050199537912,
          2455.810859063222
         ],
         "showgrid": true,
         "showticklabels": false,
         "type": "linear"
        },
        "yaxis": {
         "anchor": "x",
         "autorange": true,
         "domain": [
          0,
          0.8316
         ],
         "range": [
          0,
          152.6315789473684
         ],
         "title": {
          "text": "count"
         }
        },
        "yaxis2": {
         "anchor": "x2",
         "autorange": true,
         "domain": [
          0.8416,
          1
         ],
         "matches": "y2",
         "range": [
          -0.594197437829691,
          0.5
         ],
         "showgrid": false,
         "showline": false,
         "showticklabels": false,
         "ticks": "",
         "type": "category"
        }
       }
      },
      "image/png": "[encoded data removed]",
      "text/html": [
       "<div>                            <div id=\"5db443d0-9ef6-4d37-946d-1da724835d98\" class=\"plotly-graph-div\" style=\"height:525px; width:100%;\"></div>            <script type=\"text/javascript\">                require([\"plotly\"], function(Plotly) {                    window.PLOTLYENV=window.PLOTLYENV || {};                                    if (document.getElementById(\"5db443d0-9ef6-4d37-946d-1da724835d98\")) {                    Plotly.newPlot(                        \"5db443d0-9ef6-4d37-946d-1da724835d98\",                        [{\"alignmentgroup\":\"True\",\"bingroup\":\"x\",\"hovertemplate\":\"farness=%{x}<br>count=%{y}<extra></extra>\",\"legendgroup\":\"\",\"marker\":{\"color\":\"#636efa\",\"pattern\":{\"shape\":\"\"}},\"name\":\"\",\"offsetgroup\":\"\",\"orientation\":\"v\",\"showlegend\":false,\"x\":[878.6786389413988,310.88846880907374,315.97542533081287,316.39886578449904,668.3705103969754,290.2495274102079,507.6880907372401,424.0812854442344,443.67485822306236,382.85444234404537,360.04914933837426,339.13988657844993,430.55576559546313,432.6502835538752,463.14555765595463,415.57466918714556,496.9017013232514,331.5368620037807,499.1568998109641,466.8506616257089,328.9981096408318,348.2079395085066,288.7391304347826,323.94896030245746,393.5538752362949,346.45746691871454,355.7788279773157,303.60680529300566,369.88090737240077,367.26843100189035,362.70888468809073,353.9413988657845,338.26465028355386,290.13988657844993,321.8506616257089,372.8695652173913,283.9678638941399,405.3742911153119,518.8922495274102,309.82986767485824,548.4839319470699,278.7466918714556,323.6502835538752,320.48960302457465,289.25897920604916,486.9073724007561,286.0283553875236,286.0283553875236,305.2136105860113,310.2873345935728,283.1625708884688,570.8109640831758,793.7183364839319,326.0226843100189,316.6313799621928,286.5708884688091,286.04536862003783,347.1833648393195,349.4782608695652,364.2608695652174,388.5671077504726,394.4706994328923,330.4631379962193,326.02457466918713,382.3742911153119,432.89035916824196,358.8733459357278,337.75992438563327,317.4725897920605,468.39508506616255,745.68809073724,316.4385633270321,334.2533081285444,340.4499054820416,311.3837429111531,359.24574669187143,337.7485822306238,374.79017013232516,492.95841209829865,341.4291115311909,380.3686200378072,404.51606805293005,271.6578449905482,319.79017013232516,300.60491493383745,321.9281663516068,292.7561436672968,305.41209829867677,289.38563327032136,303.2930056710775,298.4914933837429,318.8412098298677,273.01512287334594,283.01512287334594,284.3553875236295,282.45557655954633,305.8374291115312,277.76559546313797,313.49338374291113,338.4272211720227,295.86767485822304,346.07372400756145,314.32703213610586,297.2514177693762,313.3648393194707,338.2778827977316,326.992438563327,306.5765595463138,334.7807183364839,371.41209829867677,348.03780718336486,530.9792060491493,337.64272211720225,330.4631379962193,601.4158790170133,272.6162570888469,334.5727788279773,333.9054820415879,334.73156899810965,333.9735349716446,457.96219281663514,445.054820415879,310.53875236294897,362.48960302457465,494.6257088846881,513.9546313799622,280.64272211720225,367.3837429111531,379.5047258979206,416.61058601134215,380.3648393194707,373.20982986767484,626.413988657845,570.937618147448,584.6975425330813,397.4234404536862,410.9697542533081,1011.1833648393194,493.8657844990548,663.6635160680529,424.82986767485824,469.45557655954633,312.937618147448,270.82230623818526,391.8657844990548,368.3875236294896,313.35349716446126,367.35916824196596,407.0812854442344,412.3969754253308,309.35916824196596,550.1474480151229,323.29678638941397,330.83553875236294,350.0586011342155,492.5538752362949,492.5538752362949,453.476370510397,523.7844990548205,544.3534971644613,320.89413988657844,433.23062381852554,435.2079395085066,464.36294896030245,508.5595463137996,337.3875236294896,370.29678638941397,470.007561436673,991.3232514177694,563.8979206049149,605.5538752362949,397.07561436672967,535.765595463138,677.3610586011342,433.36672967863893,496.26654064272213,451.1550094517958,409.0661625708885,294.3875236294896,304.50661625708887,309.7485822306238,326.4083175803403,368.7296786389414,322.4952741020794,422.71455576559543,318.9281663516068,499.710775047259,297.36294896030245,326.86767485822304,526.2722117202269,310.92249527410206,427.53875236294897,500.8393194706994,488.2873345935728,496.5406427221172,378.79395085066164,672.7769376181475,534.4858223062382,947.4517958412098,1088.1928166351606,455.76559546313797,766.194706994329,510.22306238185257,506.9697542533081,554.5822306238185,567.2684310018903,401.476370510397,698.3705103969754,660.9678638941399,588.3005671077505,533.4442344045368,439.7221172022684,368.7183364839319,380.11531190926274,393.2533081285444,345.6238185255198,438.8695652173913,429.5349716446125,439.01890359168243,375.58790170132323,448.73534971644614,546.1455576559546,783.9810964083176,618.3553875236295,560.6578449905483,2340.3005671077503,558.6294896030246,748.5179584120983,450.5293005671077,508.812854442344,404.51606805293005,491.63705103969755,379.8166351606805,544.9357277882798,391.51228733459357,457.0926275992439,347.1833648393195,363.55576559546313,459.6502835538752,374.9035916824197,297.14177693761815,305.9092627599244,368.83553875236294,371.3194706994329,386.83553875236294,497.02457466918713,440.48015122873346,346.05671077504724,548.5841209829867,648.6030245746692,445.523629489603,355.45746691871454,347.48393194706995,729.5425330812855,810.3705103969754,340.4952741020794,365.58034026465026,369.9640831758034,445.75803402646505,390.42155009451795,390.9735349716446,370.9130434782609,523.2155009451795,590.31190926276,357.39886578449904,344.82986767485824,346.187145557656,353.7240075614367,366.9187145557656,390.5330812854442,372.82986767485824,370.23251417769376,369.54442344045367,358.92249527410206,405.16824196597355,388.0718336483932,379.5973534971645,387.60680529300566,407.76370510396976,358.6502835538752,495.8185255198488,362.97920604914935,646.7863894139887,384.51228733459357,372.3478260869565,340.9054820415879,295.98109640831757,548.5689981096408,644.3856332703214,438.27221172022684,308.28544423440457,300.1493383742911,354.6162570888469,287.1833648393195,322.34404536862,462.9735349716446,502.25897920604916,481.1531190926276,611.8506616257089,639.6691871455577,292.9735349716446,295.4499054820416,353.7750472589792,318.04914933837426,335.97542533081287,322.73156899810965,352.14744801512285,309.4499054820416,360.76559546313797,340.03780718336486,302.7826086956522,314.93005671077503,322.67863894139884,312.71455576559543,313.8431001890359,310.7221172022684,334.0718336483932,333.4820415879017,353.6616257088847,298.7258979206049,327.88657844990547,350.34026465028353,645.4120982986767,319.5727788279773,328.3100189035917,261.11531190926274,261.11531190926274,283.70321361058603,275.7920604914934,340.4007561436673,314.83553875236294,336.5330812854442,298.5727788279773,336.60491493383745,356.9413988657845,357.20037807183365,508.5009451795841,988.1928166351606,429.1758034026465,268.54253308128546,265.29489603024575,268.7126654064272,284.8714555765595,265.79962192816635,286.2797731568998,289.812854442344,299.02079395085065,313.4461247637051,590.7202268431001,318.01134215500946,295.9338374291115,302.50661625708887,298.9981096408318,284.4952741020794,285.2797731568998,327.66918714555766,285.3875236294896,285.3421550094518,302.882797731569,339.08317580340264,287.8166351606805,324.2759924385633,322.0642722117202,286.61436672967864,286.41587901701325,381.9149338374291,372.11909262759923,280.4669187145558,300.68241965973533,340.51417769376184,358.76559546313797,271.289224952741,267.07939508506615,655.4480151228734,387.2173913043478,314.20982986767484,408.007561436673,293.85822306238185,441.5330812854442,346.01890359168243,470.64083175803404,541.3837429111531,922.7901701323251,1122.9224952741022,593.3005671077505,481.8071833648393,432.6181474480151,377.117202268431,376.0094517958412,419.3459357277883,373.44801512287336,409.0340264650284,356.80340264650283,430.8998109640832,360.0869565217391,309.6843100189036,287.29489603024575,613.3913043478261,305.7844990548204,298.8790170132325,507.95463137996217,411.20037807183365,439.4083175803403,400.48015122873346,519.7882797731569,518.7202268431001,439.2816635160681,406.02079395085065,439.32325141776937,416.0396975425331,406.02079395085065,542.3610586011342,381.4725897920605,460.3969754253308,600.2797731568999,466.4650283553875,406.98109640831757,382.76370510396976,345.710775047259,359.61058601134215,363.7882797731569,359.7844990548204,405.6899810964083,411.3742911153119,482.9867674858223,479.82797731568996,414.6862003780718,423.95841209829865,491.46124763705103,488.29867674858224,441.70888468809073,439.8412098298677,440.82230623818526,391.01890359168243,405.7164461247637,367.4423440453686,416.20037807183365,485.1663516068053,366.8431001890359,433.5916824196597,343.7296786389414,359.5293005671077,344.5727788279773,352.98109640831757,353.62003780718334,450.79395085066164,416.20037807183365,400.14177693761815,366.8431001890359,370.7807183364839,436.45179584120984,274.4007561436673,413.64272211720225,436.79395085066164,347.42155009451795,442.2778827977316,461.39886578449904,288.93005671077503,313.88657844990547,362.6843100189036,350.26465028355386,358.4631379962193,371.7844990548204,298.41965973534974,552.3345935727788,307.3686200378072,404.0037807183365,454.34404536862,437.0056710775047,528.984877126654,335.945179584121,405.23251417769376,289.8374291115312,299.49338374291113,448.42155009451795,357.8015122873346,269.17202268431004,267.07939508506615,290.10775047258977,302.5765595463138,314.63327032136107,300.5916824196597,317.9130434782609,875.3137996219282,346.29867674858224,321.8109640831758,279.46124763705103,303.61058601134215,290.0018903591682,276.8090737240076,274.7258979206049,306.882797731569,311.1342155009452,334.79962192816635,324.7788279773157,305.4291115311909,302.4820415879017,349.3818525519849,297.289224952741,717.1020793950851,324.8506616257089,420.0037807183365,765.9035916824197,457.24574669187143,444.54442344045367,307.22306238185257,342.34404536862,458.0888468809074,417.02457466918713,456.6502835538752,437.2514177693762,338.9603024574669,483.14555765595463,501.9716446124764,339.593572778828,329.1266540642722,326.46124763705103,298.9395085066163,337.406427221172,638.5822306238185,313.0964083175803,590.8260869565217,424.73534971644614,1071.6049149338373,970.8374291115312,496.0056710775047,587.7145557655955,377.5671077504726,543.5614366729678],\"xaxis\":\"x\",\"yaxis\":\"y\",\"type\":\"histogram\"},{\"alignmentgroup\":\"True\",\"boxpoints\":\"all\",\"fillcolor\":\"rgba(255,255,255,0)\",\"hoveron\":\"points\",\"hovertemplate\":\"<b>%{hovertext}</b><br><br>farness=%{x}<extra></extra>\",\"hovertext\":[\"airport_connections.vl\",\"arc_donut.vl\",\"arc_facet.vl\",\"arc_ordinal_theta.vl\",\"arc_params.vl\",\"arc_pie.vl\",\"arc_pie_pyramid.vl\",\"arc_radial.vl\",\"arc_radial_histogram.vl\",\"area.vl\",\"area_cumulative_freq.vl\",\"area_density.vl\",\"area_density_facet.vl\",\"area_density_stacked.vl\",\"area_density_stacked_fold.vl\",\"area_gradient.vl\",\"area_horizon.vl\",\"area_overlay.vl\",\"area_params.vl\",\"area_temperature_range.vl\",\"area_vertical.vl\",\"argmin_spaces.vl\",\"bar.vl\",\"bar_1d.vl\",\"bar_1d_binned.vl\",\"bar_1d_step_config.vl\",\"bar_aggregate.vl\",\"bar_aggregate_count.vl\",\"bar_aggregate_format.vl\",\"bar_aggregate_size.vl\",\"bar_aggregate_sort_by_encoding.vl\",\"bar_aggregate_sort_mean.vl\",\"bar_aggregate_transform.vl\",\"bar_aggregate_vertical.vl\",\"bar_argmax.vl\",\"bar_argmax_transform.vl\",\"bar_array_aggregate.vl\",\"bar_axis_orient.vl\",\"bar_axis_space_saving.vl\",\"bar_binned_data.vl\",\"bar_bullet_expr_bind.vl\",\"bar_color_disabled_scale.vl\",\"bar_column_fold.vl\",\"bar_column_pivot.vl\",\"bar_corner_radius_end.vl\",\"bar_count_minimap.vl\",\"bar_custom_sort_full.vl\",\"bar_custom_sort_partial.vl\",\"bar_custom_time_domain.vl\",\"bar_default_tooltip_title_null.vl\",\"bar_distinct.vl\",\"bar_diverging_stack_population_pyramid.vl\",\"bar_diverging_stack_transform.vl\",\"bar_filter_calc.vl\",\"bar_fit.vl\",\"bar_gantt.vl\",\"bar_grouped.vl\",\"bar_grouped_custom_padding.vl\",\"bar_grouped_errorbar.vl\",\"bar_grouped_facet.vl\",\"bar_grouped_facet_independent_scale.vl\",\"bar_grouped_facet_independent_scale_fixed_width.vl\",\"bar_grouped_fixed_width.vl\",\"bar_grouped_horizontal.vl\",\"bar_grouped_label.vl\",\"bar_grouped_repeated.vl\",\"bar_grouped_stacked.vl\",\"bar_grouped_step_for_offset.vl\",\"bar_grouped_step_for_position.vl\",\"bar_layered_transparent.vl\",\"bar_layered_weather.vl\",\"bar_month.vl\",\"bar_month_band.vl\",\"bar_month_band_config.vl\",\"bar_month_temporal.vl\",\"bar_month_temporal_initial.vl\",\"bar_multi_values_per_categories.vl\",\"bar_negative.vl\",\"bar_negative_horizontal_label.vl\",\"bar_params.vl\",\"bar_params_bound.vl\",\"bar_percent_of_total.vl\",\"bar_size_default.vl\",\"bar_size_explicit_bad.vl\",\"bar_size_fit.vl\",\"bar_size_responsive.vl\",\"bar_size_step_small.vl\",\"bar_sort_by_count.vl\",\"bar_swap_axes.vl\",\"bar_swap_custom.vl\",\"bar_title.vl\",\"bar_title_start.vl\",\"bar_tooltip.vl\",\"bar_tooltip_aggregate.vl\",\"bar_tooltip_groupby.vl\",\"bar_tooltip_multi.vl\",\"bar_tooltip_title.vl\",\"bar_x_offset_without_x_broken.vl\",\"bar_yearmonth.vl\",\"bar_yearmonth_custom_format.vl\",\"boxplot_1D_horizontal.vl\",\"boxplot_1D_horizontal_custom_mark.vl\",\"boxplot_1D_horizontal_explicit.vl\",\"boxplot_1D_vertical.vl\",\"boxplot_2D_horizontal.vl\",\"boxplot_2D_horizontal_color_size.vl\",\"boxplot_2D_vertical.vl\",\"boxplot_groupped.vl\",\"boxplot_minmax_2D_horizontal.vl\",\"boxplot_minmax_2D_horizontal_custom_midtick_color.vl\",\"boxplot_minmax_2D_vertical.vl\",\"boxplot_preaggregated.vl\",\"boxplot_tooltip_aggregate.vl\",\"boxplot_tooltip_not_aggregate.vl\",\"brush_table.vl\",\"circle.vl\",\"circle_binned.vl\",\"circle_binned_maxbins_2.vl\",\"circle_binned_maxbins_20.vl\",\"circle_binned_maxbins_5.vl\",\"circle_bubble_health_income.vl\",\"circle_custom_tick_labels.vl\",\"circle_flatten.vl\",\"circle_github_punchcard.vl\",\"circle_labelangle_orient_signal.vl\",\"circle_natural_disasters.vl\",\"circle_opacity.vl\",\"circle_scale_quantile.vl\",\"circle_scale_quantize.vl\",\"circle_scale_threshold.vl\",\"circle_wilkinson_dotplot.vl\",\"circle_wilkinson_dotplot_stacked.vl\",\"concat_bar_layer_circle.vl\",\"concat_bar_scales_discretize.vl\",\"concat_bar_scales_discretize_2_cols.vl\",\"concat_hover.vl\",\"concat_hover_filter.vl\",\"concat_layer_voyager_result.vl\",\"concat_marginal_histograms.vl\",\"concat_population_pyramid.vl\",\"concat_weather.vl\",\"config_numberFormatType_test.vl\",\"connected_scatterplot.vl\",\"embedded_csv.vl\",\"errorband_2d_horizontal_color_encoding.vl\",\"errorband_2d_vertical_borders.vl\",\"errorband_tooltip.vl\",\"errorbar_2d_vertical_ticks.vl\",\"errorbar_aggregate.vl\",\"errorbar_horizontal_aggregate.vl\",\"errorbar_tooltip.vl\",\"facet_bullet.vl\",\"facet_column_facet_column_point_future.vl\",\"facet_column_facet_row_point_future.vl\",\"facet_cross_independent_scale.vl\",\"facet_custom.vl\",\"facet_custom_header.vl\",\"facet_grid_bar.vl\",\"facet_independent_scale.vl\",\"facet_independent_scale_layer_broken.vl\",\"facet_row_facet_row_point_future.vl\",\"geo_choropleth.vl\",\"geo_circle.vl\",\"geo_constant_value.vl\",\"geo_custom_projection.vl\",\"geo_graticule.vl\",\"geo_graticule_object.vl\",\"geo_layer.vl\",\"geo_layer_line_london.vl\",\"geo_line.vl\",\"geo_params_projections.vl\",\"geo_point.vl\",\"geo_repeat.vl\",\"geo_rule.vl\",\"geo_sphere.vl\",\"geo_text.vl\",\"geo_trellis.vl\",\"hconcat_weather.vl\",\"histogram.vl\",\"histogram_bin_change.vl\",\"histogram_bin_spacing.vl\",\"histogram_bin_spacing_reverse.vl\",\"histogram_bin_transform.vl\",\"histogram_invalid_null.vl\",\"histogram_log.vl\",\"histogram_no_spacing.vl\",\"histogram_nonlinear.vl\",\"histogram_ordinal.vl\",\"histogram_ordinal_sort.vl\",\"histogram_rel_freq.vl\",\"histogram_reverse.vl\",\"interactive_area_brush.vl\",\"interactive_bar_select_highlight.vl\",\"interactive_bin_extent.vl\",\"interactive_bin_extent_bottom.vl\",\"interactive_brush.vl\",\"interactive_concat_layer.vl\",\"interactive_dashboard_europe_pop.vl\",\"interactive_geo_earthquakes.vl\",\"interactive_global_development.vl\",\"interactive_histogram_full_height_hover.vl\",\"interactive_index_chart.vl\",\"interactive_layered_crossfilter.vl\",\"interactive_layered_crossfilter_discrete.vl\",\"interactive_legend.vl\",\"interactive_legend_dblclick.vl\",\"interactive_line_brush_cursor.vl\",\"interactive_line_hover.vl\",\"interactive_multi_line_label.vl\",\"interactive_multi_line_pivot_tooltip.vl\",\"interactive_multi_line_tooltip.vl\",\"interactive_overview_detail.vl\",\"interactive_paintbrush.vl\",\"interactive_paintbrush_color.vl\",\"interactive_paintbrush_color_nearest.vl\",\"interactive_paintbrush_interval.vl\",\"interactive_paintbrush_simple_false.vl\",\"interactive_paintbrush_simple_true.vl\",\"interactive_panzoom_splom.vl\",\"interactive_panzoom_vconcat_shared.vl\",\"interactive_point_init.vl\",\"interactive_query_widgets.vl\",\"interactive_seattle_weather.vl\",\"interactive_splom.vl\",\"interactive_stocks_nearest_index.vl\",\"isotype_bar_chart.vl\",\"isotype_bar_chart_emoji.vl\",\"isotype_grid.vl\",\"joinaggregate_mean_difference.vl\",\"joinaggregate_mean_difference_by_year.vl\",\"joinaggregate_percent_of_total.vl\",\"joinaggregate_residual_graph.vl\",\"layer_arc_label.vl\",\"layer_bar_annotations.vl\",\"layer_bar_circle_grouped.vl\",\"layer_bar_fruit.vl\",\"layer_bar_grouped_line_ungrouped.vl\",\"layer_bar_labels.vl\",\"layer_bar_labels_grey.vl\",\"layer_bar_labels_style.vl\",\"layer_bar_line.vl\",\"layer_bar_line_union.vl\",\"layer_bar_month.vl\",\"layer_bar_tick_datum_grouped.vl\",\"layer_boxplot_circle.vl\",\"layer_candlestick.vl\",\"layer_circle_independent_color.vl\",\"layer_color_legend_left.vl\",\"layer_cumulative_histogram.vl\",\"layer_dual_axis.vl\",\"layer_falkensee.vl\",\"layer_histogram.vl\",\"layer_histogram_global_mean.vl\",\"layer_likert.vl\",\"layer_line_co2_concentration.vl\",\"layer_line_color_rule.vl\",\"layer_line_datum_rule.vl\",\"layer_line_datum_rule_datetime.vl\",\"layer_line_errorband_2d_horizontal_borders_strokedash.vl\",\"layer_line_errorband_ci.vl\",\"layer_line_errorband_pre_aggregated.vl\",\"layer_line_mean_point_raw.vl\",\"layer_line_rolling_mean_point_raw.vl\",\"layer_line_window.vl\",\"layer_overlay.vl\",\"layer_point_errorbar_1d_horizontal.vl\",\"layer_point_errorbar_1d_vertical.vl\",\"layer_point_errorbar_2d_horizontal.vl\",\"layer_point_errorbar_2d_horizontal_ci.vl\",\"layer_point_errorbar_2d_horizontal_color_encoding.vl\",\"layer_point_errorbar_2d_horizontal_custom_ticks.vl\",\"layer_point_errorbar_2d_horizontal_iqr.vl\",\"layer_point_errorbar_2d_horizontal_stdev.vl\",\"layer_point_errorbar_2d_vertical.vl\",\"layer_point_errorbar_ci.vl\",\"layer_point_errorbar_pre_aggregated_asymmetric_error.vl\",\"layer_point_errorbar_pre_aggregated_symmetric_error.vl\",\"layer_point_errorbar_pre_aggregated_upper_lower.vl\",\"layer_point_errorbar_stdev.vl\",\"layer_point_line_loess.vl\",\"layer_point_line_regression.vl\",\"layer_precipitation_mean.vl\",\"layer_ranged_dot.vl\",\"layer_rect_extent.vl\",\"layer_scatter_errorband_1D_stdev_global_mean.vl\",\"layer_scatter_errorband_1d_stdev.vl\",\"layer_single_color.vl\",\"layer_text_heatmap.vl\",\"layer_text_heatmap_joinaggregate.vl\",\"layer_timeunit_rect.vl\",\"line.vl\",\"line_bump.vl\",\"line_calculate.vl\",\"line_color.vl\",\"line_color_binned.vl\",\"line_color_halo.vl\",\"line_color_label.vl\",\"line_concat_facet.vl\",\"line_conditional_axis.vl\",\"line_conditional_axis_config.vl\",\"line_dashed_part.vl\",\"line_detail.vl\",\"line_domainminmax.vl\",\"line_encoding_impute_keyvals.vl\",\"line_encoding_impute_keyvals_sequence.vl\",\"line_impute_frame.vl\",\"line_impute_keyvals.vl\",\"line_impute_method.vl\",\"line_impute_transform_frame.vl\",\"line_impute_transform_value.vl\",\"line_impute_value.vl\",\"line_inside_domain_using_clip.vl\",\"line_inside_domain_using_transform.vl\",\"line_max_year.vl\",\"line_mean_month.vl\",\"line_mean_year.vl\",\"line_monotone.vl\",\"line_month.vl\",\"line_month_center_band.vl\",\"line_outside_domain.vl\",\"line_overlay.vl\",\"line_overlay_stroked.vl\",\"line_params.vl\",\"line_quarter_legend.vl\",\"line_shape_overlay.vl\",\"line_skip_invalid.vl\",\"line_skip_invalid_mid.vl\",\"line_skip_invalid_mid_cap_square.vl\",\"line_skip_invalid_mid_overlay.vl\",\"line_slope.vl\",\"line_sort_axis.vl\",\"line_step.vl\",\"line_strokedash.vl\",\"line_timestamp_domain.vl\",\"line_timeunit_transform.vl\",\"lookup.vl\",\"nested_concat_align.vl\",\"parallel_coordinate.vl\",\"param_expr.vl\",\"point_1d.vl\",\"point_1d_array.vl\",\"point_2d.vl\",\"point_2d_aggregate.vl\",\"point_2d_array.vl\",\"point_2d_array_named.vl\",\"point_2d_tooltip.vl\",\"point_2d_tooltip_data.vl\",\"point_aggregate_detail.vl\",\"point_angle_windvector.vl\",\"point_background.vl\",\"point_binned_color.vl\",\"point_binned_opacity.vl\",\"point_binned_size.vl\",\"point_bubble.vl\",\"point_color.vl\",\"point_color_custom.vl\",\"point_color_ordinal.vl\",\"point_color_quantitative.vl\",\"point_color_shape_constant.vl\",\"point_color_with_shape.vl\",\"point_colorramp_size.vl\",\"point_diverging_color.vl\",\"point_dot_timeunit_color.vl\",\"point_filled.vl\",\"point_grouped.vl\",\"point_href.vl\",\"point_invalid_color.vl\",\"point_log.vl\",\"point_no_axis_domain_grid.vl\",\"point_offset_random.vl\",\"point_ordinal_bin_offset_random.vl\",\"point_ordinal_color.vl\",\"point_overlap.vl\",\"point_params.vl\",\"point_quantile_quantile.vl\",\"point_scale_range_field.vl\",\"point_shape_custom.vl\",\"point_tooltip.vl\",\"rect_binned_heatmap.vl\",\"rect_heatmap.vl\",\"rect_heatmap_weather.vl\",\"rect_lasagna.vl\",\"rect_mosaic_labelled.vl\",\"rect_mosaic_labelled_with_offset.vl\",\"rect_mosaic_simple.vl\",\"rect_params.vl\",\"repeat_child_layer.vl\",\"repeat_histogram.vl\",\"repeat_histogram_autosize.vl\",\"repeat_histogram_flights.vl\",\"repeat_independent_colors.vl\",\"repeat_layer.vl\",\"repeat_line_weather.vl\",\"repeat_splom.vl\",\"repeat_splom_cars.vl\",\"rule_color_mean.vl\",\"rule_extent.vl\",\"rule_params.vl\",\"sample_scatterplot.vl\",\"scatter_image.vl\",\"selection_bind_cylyr.vl\",\"selection_bind_origin.vl\",\"selection_brush_timeunit.vl\",\"selection_clear_brush.vl\",\"selection_composition_and.vl\",\"selection_composition_or.vl\",\"selection_concat.vl\",\"selection_filter.vl\",\"selection_filter_composition.vl\",\"selection_filter_false.vl\",\"selection_filter_true.vl\",\"selection_heatmap.vl\",\"selection_insert.vl\",\"selection_interval_mark_style.vl\",\"selection_layer\",\"selection_layer_bar_month.vl\",\"selection_multi_condition.vl\",\"selection_project_binned_interval.vl\",\"selection_project_interval.vl\",\"selection_project_interval_x.vl\",\"selection_project_interval_x_y.vl\",\"selection_project_interval_y.vl\",\"selection_project_multi.vl\",\"selection_project_multi_cylinders.vl\",\"selection_project_multi_cylinders_origin.vl\",\"selection_project_multi_origin.vl\",\"selection_project_single.vl\",\"selection_project_single_cylinders.vl\",\"selection_project_single_cylinders_origin.vl\",\"selection_project_single_origin.vl\",\"selection_resolution_global.vl\",\"selection_resolution_intersect.vl\",\"selection_resolution_union.vl\",\"selection_toggle_altKey.vl\",\"selection_toggle_altKey_shiftKey.vl\",\"selection_toggle_shiftKey.vl\",\"selection_translate_brush_drag.vl\",\"selection_translate_brush_shift-drag.vl\",\"selection_translate_scatterplot_drag.vl\",\"selection_translate_scatterplot_shift-drag.vl\",\"selection_type_interval.vl\",\"selection_type_interval_invert.vl\",\"selection_type_point.vl\",\"selection_type_single_dblclick.vl\",\"selection_type_single_mouseover.vl\",\"selection_zoom_brush_shift-wheel.vl\",\"selection_zoom_brush_wheel.vl\",\"selection_zoom_scatterplot_shift-wheel.vl\",\"selection_zoom_scatterplot_wheel.vl\",\"sequence_line.vl\",\"sequence_line_fold.vl\",\"square.vl\",\"stacked_area.vl\",\"stacked_area_normalize.vl\",\"stacked_area_ordinal.vl\",\"stacked_area_overlay.vl\",\"stacked_area_stream.vl\",\"stacked_bar_1d.vl\",\"stacked_bar_count.vl\",\"stacked_bar_count_corner_radius_config.vl\",\"stacked_bar_count_corner_radius_mark.vl\",\"stacked_bar_count_corner_radius_mark_x.vl\",\"stacked_bar_count_corner_radius_stroke.vl\",\"stacked_bar_h.vl\",\"stacked_bar_h_normalized_labeled.vl\",\"stacked_bar_h_order.vl\",\"stacked_bar_h_order_custom.vl\",\"stacked_bar_normalize.vl\",\"stacked_bar_population.vl\",\"stacked_bar_population_transform.vl\",\"stacked_bar_size.vl\",\"stacked_bar_sum_opacity.vl\",\"stacked_bar_unaggregate.vl\",\"stacked_bar_v.vl\",\"stacked_bar_weather.vl\",\"test_aggregate_nested.vl\",\"test_field_with_spaces.vl\",\"test_minimal\",\"test_single_point_color.vl\",\"test_subobject.vl\",\"test_subobject_missing.vl\",\"test_subobject_nested.vl\",\"text_format.vl\",\"text_params.vl\",\"text_scatterplot_colored.vl\",\"text_tooltip_image.vl\",\"tick_dot.vl\",\"tick_dot_thickness.vl\",\"tick_grouped.vl\",\"tick_sort.vl\",\"tick_strip.vl\",\"tick_strip_tick_band.vl\",\"time_custom_step.vl\",\"time_output_utc_scale.vl\",\"time_output_utc_timeunit.vl\",\"time_parse_local.vl\",\"time_parse_utc.vl\",\"time_parse_utc_format.vl\",\"trail_color.vl\",\"trail_comet.vl\",\"trellis_anscombe.vl\",\"trellis_area.vl\",\"trellis_area_seattle.vl\",\"trellis_area_sort_array.vl\",\"trellis_bar.vl\",\"trellis_bar_histogram.vl\",\"trellis_bar_histogram_label_rotated.vl\",\"trellis_bar_no_header.vl\",\"trellis_barley.vl\",\"trellis_barley_independent.vl\",\"trellis_barley_layer_median.vl\",\"trellis_column_year.vl\",\"trellis_cross_sort.vl\",\"trellis_cross_sort_array.vl\",\"trellis_line_quarter.vl\",\"trellis_row_column.vl\",\"trellis_scatter.vl\",\"trellis_scatter_binned_row.vl\",\"trellis_scatter_small.vl\",\"trellis_selections.vl\",\"trellis_stacked_bar.vl\",\"vconcat_flatten.vl\",\"vconcat_weather.vl\",\"waterfall_chart.vl\",\"wheat_wages.vl\",\"window_cumulative_running_average.vl\",\"window_rank.vl\",\"window_top_k.vl\",\"window_top_k_others.vl\"],\"jitter\":0,\"legendgroup\":\"\",\"line\":{\"color\":\"rgba(255,255,255,0)\"},\"marker\":{\"color\":\"#636efa\",\"symbol\":\"line-ns-open\"},\"name\":\"\",\"offsetgroup\":\"\",\"showlegend\":false,\"x\":[878.6786389413988,310.88846880907374,315.97542533081287,316.39886578449904,668.3705103969754,290.2495274102079,507.6880907372401,424.0812854442344,443.67485822306236,382.85444234404537,360.04914933837426,339.13988657844993,430.55576559546313,432.6502835538752,463.14555765595463,415.57466918714556,496.9017013232514,331.5368620037807,499.1568998109641,466.8506616257089,328.9981096408318,348.2079395085066,288.7391304347826,323.94896030245746,393.5538752362949,346.45746691871454,355.7788279773157,303.60680529300566,369.88090737240077,367.26843100189035,362.70888468809073,353.9413988657845,338.26465028355386,290.13988657844993,321.8506616257089,372.8695652173913,283.9678638941399,405.3742911153119,518.8922495274102,309.82986767485824,548.4839319470699,278.7466918714556,323.6502835538752,320.48960302457465,289.25897920604916,486.9073724007561,286.0283553875236,286.0283553875236,305.2136105860113,310.2873345935728,283.1625708884688,570.8109640831758,793.7183364839319,326.0226843100189,316.6313799621928,286.5708884688091,286.04536862003783,347.1833648393195,349.4782608695652,364.2608695652174,388.5671077504726,394.4706994328923,330.4631379962193,326.02457466918713,382.3742911153119,432.89035916824196,358.8733459357278,337.75992438563327,317.4725897920605,468.39508506616255,745.68809073724,316.4385633270321,334.2533081285444,340.4499054820416,311.3837429111531,359.24574669187143,337.7485822306238,374.79017013232516,492.95841209829865,341.4291115311909,380.3686200378072,404.51606805293005,271.6578449905482,319.79017013232516,300.60491493383745,321.9281663516068,292.7561436672968,305.41209829867677,289.38563327032136,303.2930056710775,298.4914933837429,318.8412098298677,273.01512287334594,283.01512287334594,284.3553875236295,282.45557655954633,305.8374291115312,277.76559546313797,313.49338374291113,338.4272211720227,295.86767485822304,346.07372400756145,314.32703213610586,297.2514177693762,313.3648393194707,338.2778827977316,326.992438563327,306.5765595463138,334.7807183364839,371.41209829867677,348.03780718336486,530.9792060491493,337.64272211720225,330.4631379962193,601.4158790170133,272.6162570888469,334.5727788279773,333.9054820415879,334.73156899810965,333.9735349716446,457.96219281663514,445.054820415879,310.53875236294897,362.48960302457465,494.6257088846881,513.9546313799622,280.64272211720225,367.3837429111531,379.5047258979206,416.61058601134215,380.3648393194707,373.20982986767484,626.413988657845,570.937618147448,584.6975425330813,397.4234404536862,410.9697542533081,1011.1833648393194,493.8657844990548,663.6635160680529,424.82986767485824,469.45557655954633,312.937618147448,270.82230623818526,391.8657844990548,368.3875236294896,313.35349716446126,367.35916824196596,407.0812854442344,412.3969754253308,309.35916824196596,550.1474480151229,323.29678638941397,330.83553875236294,350.0586011342155,492.5538752362949,492.5538752362949,453.476370510397,523.7844990548205,544.3534971644613,320.89413988657844,433.23062381852554,435.2079395085066,464.36294896030245,508.5595463137996,337.3875236294896,370.29678638941397,470.007561436673,991.3232514177694,563.8979206049149,605.5538752362949,397.07561436672967,535.765595463138,677.3610586011342,433.36672967863893,496.26654064272213,451.1550094517958,409.0661625708885,294.3875236294896,304.50661625708887,309.7485822306238,326.4083175803403,368.7296786389414,322.4952741020794,422.71455576559543,318.9281663516068,499.710775047259,297.36294896030245,326.86767485822304,526.2722117202269,310.92249527410206,427.53875236294897,500.8393194706994,488.2873345935728,496.5406427221172,378.79395085066164,672.7769376181475,534.4858223062382,947.4517958412098,1088.1928166351606,455.76559546313797,766.194706994329,510.22306238185257,506.9697542533081,554.5822306238185,567.2684310018903,401.476370510397,698.3705103969754,660.9678638941399,588.3005671077505,533.4442344045368,439.7221172022684,368.7183364839319,380.11531190926274,393.2533081285444,345.6238185255198,438.8695652173913,429.5349716446125,439.01890359168243,375.58790170132323,448.73534971644614,546.1455576559546,783.9810964083176,618.3553875236295,560.6578449905483,2340.3005671077503,558.6294896030246,748.5179584120983,450.5293005671077,508.812854442344,404.51606805293005,491.63705103969755,379.8166351606805,544.9357277882798,391.51228733459357,457.0926275992439,347.1833648393195,363.55576559546313,459.6502835538752,374.9035916824197,297.14177693761815,305.9092627599244,368.83553875236294,371.3194706994329,386.83553875236294,497.02457466918713,440.48015122873346,346.05671077504724,548.5841209829867,648.6030245746692,445.523629489603,355.45746691871454,347.48393194706995,729.5425330812855,810.3705103969754,340.4952741020794,365.58034026465026,369.9640831758034,445.75803402646505,390.42155009451795,390.9735349716446,370.9130434782609,523.2155009451795,590.31190926276,357.39886578449904,344.82986767485824,346.187145557656,353.7240075614367,366.9187145557656,390.5330812854442,372.82986767485824,370.23251417769376,369.54442344045367,358.92249527410206,405.16824196597355,388.0718336483932,379.5973534971645,387.60680529300566,407.76370510396976,358.6502835538752,495.8185255198488,362.97920604914935,646.7863894139887,384.51228733459357,372.3478260869565,340.9054820415879,295.98109640831757,548.5689981096408,644.3856332703214,438.27221172022684,308.28544423440457,300.1493383742911,354.6162570888469,287.1833648393195,322.34404536862,462.9735349716446,502.25897920604916,481.1531190926276,611.8506616257089,639.6691871455577,292.9735349716446,295.4499054820416,353.7750472589792,318.04914933837426,335.97542533081287,322.73156899810965,352.14744801512285,309.4499054820416,360.76559546313797,340.03780718336486,302.7826086956522,314.93005671077503,322.67863894139884,312.71455576559543,313.8431001890359,310.7221172022684,334.0718336483932,333.4820415879017,353.6616257088847,298.7258979206049,327.88657844990547,350.34026465028353,645.4120982986767,319.5727788279773,328.3100189035917,261.11531190926274,261.11531190926274,283.70321361058603,275.7920604914934,340.4007561436673,314.83553875236294,336.5330812854442,298.5727788279773,336.60491493383745,356.9413988657845,357.20037807183365,508.5009451795841,988.1928166351606,429.1758034026465,268.54253308128546,265.29489603024575,268.7126654064272,284.8714555765595,265.79962192816635,286.2797731568998,289.812854442344,299.02079395085065,313.4461247637051,590.7202268431001,318.01134215500946,295.9338374291115,302.50661625708887,298.9981096408318,284.4952741020794,285.2797731568998,327.66918714555766,285.3875236294896,285.3421550094518,302.882797731569,339.08317580340264,287.8166351606805,324.2759924385633,322.0642722117202,286.61436672967864,286.41587901701325,381.9149338374291,372.11909262759923,280.4669187145558,300.68241965973533,340.51417769376184,358.76559546313797,271.289224952741,267.07939508506615,655.4480151228734,387.2173913043478,314.20982986767484,408.007561436673,293.85822306238185,441.5330812854442,346.01890359168243,470.64083175803404,541.3837429111531,922.7901701323251,1122.9224952741022,593.3005671077505,481.8071833648393,432.6181474480151,377.117202268431,376.0094517958412,419.3459357277883,373.44801512287336,409.0340264650284,356.80340264650283,430.8998109640832,360.0869565217391,309.6843100189036,287.29489603024575,613.3913043478261,305.7844990548204,298.8790170132325,507.95463137996217,411.20037807183365,439.4083175803403,400.48015122873346,519.7882797731569,518.7202268431001,439.2816635160681,406.02079395085065,439.32325141776937,416.0396975425331,406.02079395085065,542.3610586011342,381.4725897920605,460.3969754253308,600.2797731568999,466.4650283553875,406.98109640831757,382.76370510396976,345.710775047259,359.61058601134215,363.7882797731569,359.7844990548204,405.6899810964083,411.3742911153119,482.9867674858223,479.82797731568996,414.6862003780718,423.95841209829865,491.46124763705103,488.29867674858224,441.70888468809073,439.8412098298677,440.82230623818526,391.01890359168243,405.7164461247637,367.4423440453686,416.20037807183365,485.1663516068053,366.8431001890359,433.5916824196597,343.7296786389414,359.5293005671077,344.5727788279773,352.98109640831757,353.62003780718334,450.79395085066164,416.20037807183365,400.14177693761815,366.8431001890359,370.7807183364839,436.45179584120984,274.4007561436673,413.64272211720225,436.79395085066164,347.42155009451795,442.2778827977316,461.39886578449904,288.93005671077503,313.88657844990547,362.6843100189036,350.26465028355386,358.4631379962193,371.7844990548204,298.41965973534974,552.3345935727788,307.3686200378072,404.0037807183365,454.34404536862,437.0056710775047,528.984877126654,335.945179584121,405.23251417769376,289.8374291115312,299.49338374291113,448.42155009451795,357.8015122873346,269.17202268431004,267.07939508506615,290.10775047258977,302.5765595463138,314.63327032136107,300.5916824196597,317.9130434782609,875.3137996219282,346.29867674858224,321.8109640831758,279.46124763705103,303.61058601134215,290.0018903591682,276.8090737240076,274.7258979206049,306.882797731569,311.1342155009452,334.79962192816635,324.7788279773157,305.4291115311909,302.4820415879017,349.3818525519849,297.289224952741,717.1020793950851,324.8506616257089,420.0037807183365,765.9035916824197,457.24574669187143,444.54442344045367,307.22306238185257,342.34404536862,458.0888468809074,417.02457466918713,456.6502835538752,437.2514177693762,338.9603024574669,483.14555765595463,501.9716446124764,339.593572778828,329.1266540642722,326.46124763705103,298.9395085066163,337.406427221172,638.5822306238185,313.0964083175803,590.8260869565217,424.73534971644614,1071.6049149338373,970.8374291115312,496.0056710775047,587.7145557655955,377.5671077504726,543.5614366729678],\"xaxis\":\"x2\",\"yaxis\":\"y2\",\"type\":\"box\"}],                        {\"template\":{\"data\":{\"histogram2dcontour\":[{\"type\":\"histogram2dcontour\",\"colorbar\":{\"outlinewidth\":0,\"ticks\":\"\"},\"colorscale\":[[0.0,\"#0d0887\"],[0.1111111111111111,\"#46039f\"],[0.2222222222222222,\"#7201a8\"],[0.3333333333333333,\"#9c179e\"],[0.4444444444444444,\"#bd3786\"],[0.5555555555555556,\"#d8576b\"],[0.6666666666666666,\"#ed7953\"],[0.7777777777777778,\"#fb9f3a\"],[0.8888888888888888,\"#fdca26\"],[1.0,\"#f0f921\"]]}],\"choropleth\":[{\"type\":\"choropleth\",\"colorbar\":{\"outlinewidth\":0,\"ticks\":\"\"}}],\"histogram2d\":[{\"type\":\"histogram2d\",\"colorbar\":{\"outlinewidth\":0,\"ticks\":\"\"},\"colorscale\":[[0.0,\"#0d0887\"],[0.1111111111111111,\"#46039f\"],[0.2222222222222222,\"#7201a8\"],[0.3333333333333333,\"#9c179e\"],[0.4444444444444444,\"#bd3786\"],[0.5555555555555556,\"#d8576b\"],[0.6666666666666666,\"#ed7953\"],[0.7777777777777778,\"#fb9f3a\"],[0.8888888888888888,\"#fdca26\"],[1.0,\"#f0f921\"]]}],\"heatmap\":[{\"type\":\"heatmap\",\"colorbar\":{\"outlinewidth\":0,\"ticks\":\"\"},\"colorscale\":[[0.0,\"#0d0887\"],[0.1111111111111111,\"#46039f\"],[0.2222222222222222,\"#7201a8\"],[0.3333333333333333,\"#9c179e\"],[0.4444444444444444,\"#bd3786\"],[0.5555555555555556,\"#d8576b\"],[0.6666666666666666,\"#ed7953\"],[0.7777777777777778,\"#fb9f3a\"],[0.8888888888888888,\"#fdca26\"],[1.0,\"#f0f921\"]]}],\"heatmapgl\":[{\"type\":\"heatmapgl\",\"colorbar\":{\"outlinewidth\":0,\"ticks\":\"\"},\"colorscale\":[[0.0,\"#0d0887\"],[0.1111111111111111,\"#46039f\"],[0.2222222222222222,\"#7201a8\"],[0.3333333333333333,\"#9c179e\"],[0.4444444444444444,\"#bd3786\"],[0.5555555555555556,\"#d8576b\"],[0.6666666666666666,\"#ed7953\"],[0.7777777777777778,\"#fb9f3a\"],[0.8888888888888888,\"#fdca26\"],[1.0,\"#f0f921\"]]}],\"contourcarpet\":[{\"type\":\"contourcarpet\",\"colorbar\":{\"outlinewidth\":0,\"ticks\":\"\"}}],\"contour\":[{\"type\":\"contour\",\"colorbar\":{\"outlinewidth\":0,\"ticks\":\"\"},\"colorscale\":[[0.0,\"#0d0887\"],[0.1111111111111111,\"#46039f\"],[0.2222222222222222,\"#7201a8\"],[0.3333333333333333,\"#9c179e\"],[0.4444444444444444,\"#bd3786\"],[0.5555555555555556,\"#d8576b\"],[0.6666666666666666,\"#ed7953\"],[0.7777777777777778,\"#fb9f3a\"],[0.8888888888888888,\"#fdca26\"],[1.0,\"#f0f921\"]]}],\"surface\":[{\"type\":\"surface\",\"colorbar\":{\"outlinewidth\":0,\"ticks\":\"\"},\"colorscale\":[[0.0,\"#0d0887\"],[0.1111111111111111,\"#46039f\"],[0.2222222222222222,\"#7201a8\"],[0.3333333333333333,\"#9c179e\"],[0.4444444444444444,\"#bd3786\"],[0.5555555555555556,\"#d8576b\"],[0.6666666666666666,\"#ed7953\"],[0.7777777777777778,\"#fb9f3a\"],[0.8888888888888888,\"#fdca26\"],[1.0,\"#f0f921\"]]}],\"mesh3d\":[{\"type\":\"mesh3d\",\"colorbar\":{\"outlinewidth\":0,\"ticks\":\"\"}}],\"scatter\":[{\"fillpattern\":{\"fillmode\":\"overlay\",\"size\":10,\"solidity\":0.2},\"type\":\"scatter\"}],\"parcoords\":[{\"type\":\"parcoords\",\"line\":{\"colorbar\":{\"outlinewidth\":0,\"ticks\":\"\"}}}],\"scatterpolargl\":[{\"type\":\"scatterpolargl\",\"marker\":{\"colorbar\":{\"outlinewidth\":0,\"ticks\":\"\"}}}],\"bar\":[{\"error_x\":{\"color\":\"#2a3f5f\"},\"error_y\":{\"color\":\"#2a3f5f\"},\"marker\":{\"line\":{\"color\":\"#E5ECF6\",\"width\":0.5},\"pattern\":{\"fillmode\":\"overlay\",\"size\":10,\"solidity\":0.2}},\"type\":\"bar\"}],\"scattergeo\":[{\"type\":\"scattergeo\",\"marker\":{\"colorbar\":{\"outlinewidth\":0,\"ticks\":\"\"}}}],\"scatterpolar\":[{\"type\":\"scatterpolar\",\"marker\":{\"colorbar\":{\"outlinewidth\":0,\"ticks\":\"\"}}}],\"histogram\":[{\"marker\":{\"pattern\":{\"fillmode\":\"overlay\",\"size\":10,\"solidity\":0.2}},\"type\":\"histogram\"}],\"scattergl\":[{\"type\":\"scattergl\",\"marker\":{\"colorbar\":{\"outlinewidth\":0,\"ticks\":\"\"}}}],\"scatter3d\":[{\"type\":\"scatter3d\",\"line\":{\"colorbar\":{\"outlinewidth\":0,\"ticks\":\"\"}},\"marker\":{\"colorbar\":{\"outlinewidth\":0,\"ticks\":\"\"}}}],\"scattermapbox\":[{\"type\":\"scattermapbox\",\"marker\":{\"colorbar\":{\"outlinewidth\":0,\"ticks\":\"\"}}}],\"scatterternary\":[{\"type\":\"scatterternary\",\"marker\":{\"colorbar\":{\"outlinewidth\":0,\"ticks\":\"\"}}}],\"scattercarpet\":[{\"type\":\"scattercarpet\",\"marker\":{\"colorbar\":{\"outlinewidth\":0,\"ticks\":\"\"}}}],\"carpet\":[{\"aaxis\":{\"endlinecolor\":\"#2a3f5f\",\"gridcolor\":\"white\",\"linecolor\":\"white\",\"minorgridcolor\":\"white\",\"startlinecolor\":\"#2a3f5f\"},\"baxis\":{\"endlinecolor\":\"#2a3f5f\",\"gridcolor\":\"white\",\"linecolor\":\"white\",\"minorgridcolor\":\"white\",\"startlinecolor\":\"#2a3f5f\"},\"type\":\"carpet\"}],\"table\":[{\"cells\":{\"fill\":{\"color\":\"#EBF0F8\"},\"line\":{\"color\":\"white\"}},\"header\":{\"fill\":{\"color\":\"#C8D4E3\"},\"line\":{\"color\":\"white\"}},\"type\":\"table\"}],\"barpolar\":[{\"marker\":{\"line\":{\"color\":\"#E5ECF6\",\"width\":0.5},\"pattern\":{\"fillmode\":\"overlay\",\"size\":10,\"solidity\":0.2}},\"type\":\"barpolar\"}],\"pie\":[{\"automargin\":true,\"type\":\"pie\"}]},\"layout\":{\"autotypenumbers\":\"strict\",\"colorway\":[\"#636efa\",\"#EF553B\",\"#00cc96\",\"#ab63fa\",\"#FFA15A\",\"#19d3f3\",\"#FF6692\",\"#B6E880\",\"#FF97FF\",\"#FECB52\"],\"font\":{\"color\":\"#2a3f5f\"},\"hovermode\":\"closest\",\"hoverlabel\":{\"align\":\"left\"},\"paper_bgcolor\":\"white\",\"plot_bgcolor\":\"#E5ECF6\",\"polar\":{\"bgcolor\":\"#E5ECF6\",\"angularaxis\":{\"gridcolor\":\"white\",\"linecolor\":\"white\",\"ticks\":\"\"},\"radialaxis\":{\"gridcolor\":\"white\",\"linecolor\":\"white\",\"ticks\":\"\"}},\"ternary\":{\"bgcolor\":\"#E5ECF6\",\"aaxis\":{\"gridcolor\":\"white\",\"linecolor\":\"white\",\"ticks\":\"\"},\"baxis\":{\"gridcolor\":\"white\",\"linecolor\":\"white\",\"ticks\":\"\"},\"caxis\":{\"gridcolor\":\"white\",\"linecolor\":\"white\",\"ticks\":\"\"}},\"coloraxis\":{\"colorbar\":{\"outlinewidth\":0,\"ticks\":\"\"}},\"colorscale\":{\"sequential\":[[0.0,\"#0d0887\"],[0.1111111111111111,\"#46039f\"],[0.2222222222222222,\"#7201a8\"],[0.3333333333333333,\"#9c179e\"],[0.4444444444444444,\"#bd3786\"],[0.5555555555555556,\"#d8576b\"],[0.6666666666666666,\"#ed7953\"],[0.7777777777777778,\"#fb9f3a\"],[0.8888888888888888,\"#fdca26\"],[1.0,\"#f0f921\"]],\"sequentialminus\":[[0.0,\"#0d0887\"],[0.1111111111111111,\"#46039f\"],[0.2222222222222222,\"#7201a8\"],[0.3333333333333333,\"#9c179e\"],[0.4444444444444444,\"#bd3786\"],[0.5555555555555556,\"#d8576b\"],[0.6666666666666666,\"#ed7953\"],[0.7777777777777778,\"#fb9f3a\"],[0.8888888888888888,\"#fdca26\"],[1.0,\"#f0f921\"]],\"diverging\":[[0,\"#8e0152\"],[0.1,\"#c51b7d\"],[0.2,\"#de77ae\"],[0.3,\"#f1b6da\"],[0.4,\"#fde0ef\"],[0.5,\"#f7f7f7\"],[0.6,\"#e6f5d0\"],[0.7,\"#b8e186\"],[0.8,\"#7fbc41\"],[0.9,\"#4d9221\"],[1,\"#276419\"]]},\"xaxis\":{\"gridcolor\":\"white\",\"linecolor\":\"white\",\"ticks\":\"\",\"title\":{\"standoff\":15},\"zerolinecolor\":\"white\",\"automargin\":true,\"zerolinewidth\":2},\"yaxis\":{\"gridcolor\":\"white\",\"linecolor\":\"white\",\"ticks\":\"\",\"title\":{\"standoff\":15},\"zerolinecolor\":\"white\",\"automargin\":true,\"zerolinewidth\":2},\"scene\":{\"xaxis\":{\"backgroundcolor\":\"#E5ECF6\",\"gridcolor\":\"white\",\"linecolor\":\"white\",\"showbackground\":true,\"ticks\":\"\",\"zerolinecolor\":\"white\",\"gridwidth\":2},\"yaxis\":{\"backgroundcolor\":\"#E5ECF6\",\"gridcolor\":\"white\",\"linecolor\":\"white\",\"showbackground\":true,\"ticks\":\"\",\"zerolinecolor\":\"white\",\"gridwidth\":2},\"zaxis\":{\"backgroundcolor\":\"#E5ECF6\",\"gridcolor\":\"white\",\"linecolor\":\"white\",\"showbackground\":true,\"ticks\":\"\",\"zerolinecolor\":\"white\",\"gridwidth\":2}},\"shapedefaults\":{\"line\":{\"color\":\"#2a3f5f\"}},\"annotationdefaults\":{\"arrowcolor\":\"#2a3f5f\",\"arrowhead\":0,\"arrowwidth\":1},\"geo\":{\"bgcolor\":\"white\",\"landcolor\":\"#E5ECF6\",\"subunitcolor\":\"white\",\"showland\":true,\"showlakes\":true,\"lakecolor\":\"white\"},\"title\":{\"x\":0.05},\"mapbox\":{\"style\":\"light\"}}},\"xaxis\":{\"anchor\":\"y\",\"domain\":[0.0,1.0],\"title\":{\"text\":\"farness\"}},\"yaxis\":{\"anchor\":\"x\",\"domain\":[0.0,0.8316],\"title\":{\"text\":\"count\"}},\"xaxis2\":{\"anchor\":\"y2\",\"domain\":[0.0,1.0],\"matches\":\"x\",\"showticklabels\":false,\"showgrid\":true},\"yaxis2\":{\"anchor\":\"x2\",\"domain\":[0.8416,1.0],\"matches\":\"y2\",\"showticklabels\":false,\"showline\":false,\"ticks\":\"\",\"showgrid\":false},\"legend\":{\"tracegroupgap\":0},\"margin\":{\"t\":60},\"barmode\":\"relative\"},                        {\"responsive\": true}                    ).then(function(){\n",
       "                            \n",
       "var gd = document.getElementById('5db443d0-9ef6-4d37-946d-1da724835d98');\n",
       "var x = new MutationObserver(function (mutations, observer) {{\n",
       "        var display = window.getComputedStyle(gd).display;\n",
       "        if (!display || display === 'none') {{\n",
       "            console.log([gd, 'removed!']);\n",
       "            Plotly.purge(gd);\n",
       "            observer.disconnect();\n",
       "        }}\n",
       "}});\n",
       "\n",
       "// Listen for the removal of the full notebook cells\n",
       "var notebookContainer = gd.closest('#notebook-container');\n",
       "if (notebookContainer) {{\n",
       "    x.observe(notebookContainer, {childList: true});\n",
       "}}\n",
       "\n",
       "// Listen for the clearing of the current output cell\n",
       "var outputEl = gd.closest('.output');\n",
       "if (outputEl) {{\n",
       "    x.observe(outputEl, {childList: true});\n",
       "}}\n",
       "\n",
       "                        })                };                });            </script>        </div>"
      ]
     },
     "metadata": {},
     "output_type": "display_data"
    }
   ],
   "source": [
    "dmat, dmat_sym, order = dmat_and_order(\"vega-lite\", \"vega-lite\", \"nmi\")\n",
    "px.histogram(x=np.mean(dmat, axis=1), marginal=\"rug\", hover_name=order, labels=dict(x=\"farness\"))"
   ]
  },
  {
   "cell_type": "code",
   "execution_count": null,
   "id": "a6950e33-ae46-4a9e-8194-55ba1626f805",
   "metadata": {},
   "outputs": [],
   "source": []
  }
 ],
 "metadata": {
  "kernelspec": {
   "display_name": "Python 3 (ipykernel)",
   "language": "python",
   "name": "python3"
  },
  "language_info": {
   "codemirror_mode": {
    "name": "ipython",
    "version": 3
   },
   "file_extension": ".py",
   "mimetype": "text/x-python",
   "name": "python",
   "nbconvert_exporter": "python",
   "pygments_lexer": "ipython3",
   "version": "3.9.7"
  }
 },
 "nbformat": 4,
 "nbformat_minor": 5
}
