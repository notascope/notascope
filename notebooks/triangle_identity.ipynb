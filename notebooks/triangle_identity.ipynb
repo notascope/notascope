{
 "cells": [
  {
   "cell_type": "code",
   "execution_count": 45,
   "id": "7f0f0309-c6b3-4197-8a04-34b6ca33d7a1",
   "metadata": {},
   "outputs": [],
   "source": [
    "from src.distances import dmat_and_order\n",
    "\n",
    "dmat, dmat_sym, order = dmat_and_order(\"vega-lite\", \"vega-lite\", \"difflib\")"
   ]
  },
  {
   "cell_type": "code",
   "execution_count": 48,
   "id": "21d16987-e87c-4f11-ab5c-44de412d6823",
   "metadata": {},
   "outputs": [
    {
     "name": "stderr",
     "output_type": "stream",
     "text": [
      "/Users/nicolas/opt/miniconda3/envs/env/lib/python3.9/site-packages/numba/core/ir_utils.py:2152: NumbaPendingDeprecationWarning: \u001b[1m\n",
      "Encountered the use of a type that is scheduled for deprecation: type 'reflected list' found for argument 'order' of function 'check_triangle_inequality'.\n",
      "\n",
      "For more information visit https://numba.readthedocs.io/en/stable/reference/deprecation.html#deprecation-of-reflection-for-list-and-set-types\n",
      "\u001b[1m\n",
      "File \"../../../../../var/folders/20/zn579xsd7m3fm3yxbg9kkj640000gp/T/ipykernel_11540/693531916.py\", line 4:\u001b[0m\n",
      "\u001b[1m<source missing, REPL/exec in use?>\u001b[0m\n",
      "\u001b[0m\n",
      "  warnings.warn(NumbaPendingDeprecationWarning(msg, loc=loc))\n"
     ]
    },
    {
     "name": "stdout",
     "output_type": "stream",
     "text": [
      "23.975042970829865\n",
      "67092\n"
     ]
    }
   ],
   "source": [
    "from numba import njit\n",
    "\n",
    "\n",
    "@njit\n",
    "def check_triangle_inequality(X, order):\n",
    "    ok = 0\n",
    "    results = []\n",
    "    for i in range(len(X)):\n",
    "        for j in range(len(X)):\n",
    "            for k in range(len(X)):\n",
    "                if X[i,j] > X[i,k]+X[k,j]:\n",
    "                    results.append((i,j,k,order[i],order[j],order[k],X[i,j],X[i,k],X[k,j]))\n",
    "                    break\n",
    "    return results, ok\n",
    "\n",
    "results, ok = check_triangle_inequality(dmat_sym, list(order))\n",
    "print(100.0*len(results)/(len(order)*len(order)))\n",
    "print(len(results))"
   ]
  },
  {
   "cell_type": "code",
   "execution_count": 28,
   "id": "cb591cb8-8027-4e17-9d0a-803253e7c819",
   "metadata": {},
   "outputs": [
    {
     "data": {
      "text/plain": [
       "0.5507601309014873"
      ]
     },
     "execution_count": 28,
     "metadata": {},
     "output_type": "execute_result"
    }
   ],
   "source": [
    "from src.network import find_edges\n",
    "\n",
    "edges = find_edges(dmat_sym)\n",
    "\n",
    "import numpy as np\n",
    "np.count_nonzero(edges)/np.count_nonzero(dmat_sym)"
   ]
  }
 ],
 "metadata": {
  "kernelspec": {
   "display_name": "Python 3 (ipykernel)",
   "language": "python",
   "name": "python3"
  },
  "language_info": {
   "codemirror_mode": {
    "name": "ipython",
    "version": 3
   },
   "file_extension": ".py",
   "mimetype": "text/x-python",
   "name": "python",
   "nbconvert_exporter": "python",
   "pygments_lexer": "ipython3",
   "version": "3.9.7"
  }
 },
 "nbformat": 4,
 "nbformat_minor": 5
}
