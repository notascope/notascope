{
 "cells": [
  {
   "cell_type": "code",
   "execution_count": 27,
   "id": "21d16987-e87c-4f11-ab5c-44de412d6823",
   "metadata": {},
   "outputs": [],
   "source": [
    "import numpy as np\n",
    "import pandas as pd\n",
    "\n",
    "ncd_df = pd.read_csv(\"results/vega-lite/vega-lite/ncd_costs.csv\", names=[\"study\", \"notation\", \"from_slug\", \"to_slug\", \"a\", \"b\", \"ab\"])\n",
    "ncd_df[\"cd\"] = ncd_df[\"ab\"] - ncd_df[[\"a\", \"b\"]].min(axis=1)\n",
    "ncd_df[\"ncd\"] = (1000 * ncd_df[\"cd\"] / ncd_df[[\"a\", \"b\"]].max(axis=1))\n",
    "square = ncd_df.pivot_table(index=\"from_slug\", columns=\"to_slug\", values=\"cd\").fillna(0)\n",
    "\n",
    "difflib_df = pd.read_csv(\"results/difflib_costs.csv\", names=[\"study\", \"notation\", \"from_slug\", \"to_slug\", \"difflib\"])\n",
    "square = difflib_df.pivot_table(index=\"from_slug\", columns=\"to_slug\", values=\"difflib\").fillna(0)\n",
    "order = list(square.index)\n",
    "\n",
    "def check(X):\n",
    "    ok = 0\n",
    "    results = []\n",
    "    for i in range(len(X)):\n",
    "        for j in range(len(X)):\n",
    "            for k in range(len(X)):\n",
    "                if X[i,j] > X[i,k]+X[k,j]:\n",
    "                    results.append((i,j,k,order[i],order[j],order[k],X[i,j],X[i,k],X[k,j]))\n",
    "                else:\n",
    "                    ok += 1\n",
    "    return results, ok\n",
    "\n",
    "#results, ok = check(square.values)\n",
    "#print(100.0*len(results)/ok)"
   ]
  },
  {
   "cell_type": "code",
   "execution_count": 28,
   "id": "6ded1360-a82b-43f1-aefd-5ec127270177",
   "metadata": {},
   "outputs": [],
   "source": [
    "from numba import njit\n",
    "\n",
    "\n",
    "@njit\n",
    "def find_edges(dmat):\n",
    "    n = len(dmat)\n",
    "    result = np.zeros((n, n))\n",
    "    for i in range(n):\n",
    "        for j in range(n):\n",
    "            if i == j:\n",
    "                continue\n",
    "            has_k = False\n",
    "            direct = dmat[i, j]\n",
    "            if direct != 0:\n",
    "                for k in range(n):\n",
    "                    if k == i or k == j:\n",
    "                        continue\n",
    "                    via_k = dmat[i, k] + dmat[k, j]\n",
    "                    if (via_k - direct) / direct <= 0:\n",
    "                        has_k = True\n",
    "                        break\n",
    "                if not has_k:\n",
    "                    result[i, j] = direct\n",
    "    return result"
   ]
  },
  {
   "cell_type": "code",
   "execution_count": 23,
   "id": "0b57b2cc-e621-44ce-979d-41f9852862d7",
   "metadata": {},
   "outputs": [],
   "source": [
    "edges = find_edges(square.values)"
   ]
  },
  {
   "cell_type": "code",
   "execution_count": 25,
   "id": "b3c86f04-92a6-4a2d-9818-00760ec03b8f",
   "metadata": {},
   "outputs": [
    {
     "data": {
      "text/plain": [
       "0"
      ]
     },
     "execution_count": 25,
     "metadata": {},
     "output_type": "execute_result"
    }
   ],
   "source": [
    "np.count_nonzero(edges)"
   ]
  },
  {
   "cell_type": "code",
   "execution_count": 26,
   "id": "cbe17940-b30d-44b7-a40d-bcd4b5720436",
   "metadata": {},
   "outputs": [
    {
     "data": {
      "text/plain": [
       "array([[0., 0., 0., ..., 0., 0., 0.],\n",
       "       [0., 0., 0., ..., 0., 0., 0.],\n",
       "       [0., 0., 0., ..., 0., 0., 0.],\n",
       "       ...,\n",
       "       [0., 0., 0., ..., 0., 0., 0.],\n",
       "       [0., 0., 0., ..., 0., 0., 0.],\n",
       "       [0., 0., 0., ..., 0., 0., 0.]])"
      ]
     },
     "execution_count": 26,
     "metadata": {},
     "output_type": "execute_result"
    }
   ],
   "source": [
    "edges"
   ]
  },
  {
   "cell_type": "code",
   "execution_count": null,
   "id": "a21fe085-d0d1-4d59-89c1-40da1bb7640f",
   "metadata": {},
   "outputs": [],
   "source": []
  }
 ],
 "metadata": {
  "kernelspec": {
   "display_name": "Python 3 (ipykernel)",
   "language": "python",
   "name": "python3"
  },
  "language_info": {
   "codemirror_mode": {
    "name": "ipython",
    "version": 3
   },
   "file_extension": ".py",
   "mimetype": "text/x-python",
   "name": "python",
   "nbconvert_exporter": "python",
   "pygments_lexer": "ipython3",
   "version": "3.9.7"
  }
 },
 "nbformat": 4,
 "nbformat_minor": 5
}
