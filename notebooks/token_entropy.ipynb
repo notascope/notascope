{
 "cells": [
  {
   "cell_type": "code",
   "execution_count": null,
   "id": "daeb50d0-4ddc-4e16-b834-ce27f3e4afe3",
   "metadata": {},
   "outputs": [],
   "source": [
    "import pandas as pd"
   ]
  },
  {
   "cell_type": "code",
   "execution_count": null,
   "id": "21f5647c-c8a5-4538-ade9-f74ae3b246bd",
   "metadata": {},
   "outputs": [],
   "source": [
    "tokens_df = pd.read_csv(\"results/tokens.tsv\", names=[\"study\", \"notation\", \"slug\", \"token\"], delimiter=\"\\t\")"
   ]
  },
  {
   "cell_type": "code",
   "execution_count": null,
   "id": "e18f6689-5ae3-44bb-aa8b-6cfad9cbed04",
   "metadata": {},
   "outputs": [
    {
     "data": {
      "text/plain": [
       "41"
      ]
     },
     "execution_count": 19,
     "metadata": {},
     "output_type": "execute_result"
    }
   ],
   "source": [
    "tokens_df.query(\"study=='gapminder'\").groupby(\"token\").count().reset_index().sort_values(\"slug\")"
   ]
  },
  {
   "cell_type": "code",
   "execution_count": null,
   "id": "9e88c6d1-2107-4e5b-a4ca-cde1639900a6",
   "metadata": {},
   "outputs": [],
   "source": []
  }
 ],
 "metadata": {
  "kernelspec": {
   "display_name": "Python 3 (ipykernel)",
   "language": "python",
   "name": "python3"
  },
  "language_info": {
   "codemirror_mode": {
    "name": "ipython",
    "version": 3
   },
   "file_extension": ".py",
   "mimetype": "text/x-python",
   "name": "python",
   "nbconvert_exporter": "python",
   "pygments_lexer": "ipython3",
   "version": "3.9.7"
  }
 },
 "nbformat": 4,
 "nbformat_minor": 5
}
