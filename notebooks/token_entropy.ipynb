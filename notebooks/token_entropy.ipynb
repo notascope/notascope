{
 "cells": [
  {
   "cell_type": "code",
   "execution_count": 1,
   "id": "daeb50d0-4ddc-4e16-b834-ce27f3e4afe3",
   "metadata": {},
   "outputs": [],
   "source": [
    "import pandas as pd"
   ]
  },
  {
   "cell_type": "code",
   "execution_count": 2,
   "id": "21f5647c-c8a5-4538-ade9-f74ae3b246bd",
   "metadata": {},
   "outputs": [],
   "source": [
    "tokens_df = pd.read_csv(\"results/tokens.tsv\", names=[\"study\", \"notation\", \"slug\", \"token\"], delimiter=\"\\t\")"
   ]
  },
  {
   "cell_type": "code",
   "execution_count": 71,
   "id": "e18f6689-5ae3-44bb-aa8b-6cfad9cbed04",
   "metadata": {},
   "outputs": [],
   "source": [
    "study = \"movies\"\n",
    "notation = \"vega-lite\"\n",
    "\n",
    "filtered = tokens_df.query(f\"study=='{study}' and notation=='{notation}'\").groupby(\"token\").nunique(\"slug\")\n",
    "max_count = filtered[\"slug\"].max()\n",
    "trie = dict()\n",
    "for token, count in filtered[\"slug\"].items():\n",
    "    pointer = trie\n",
    "    for c in token:\n",
    "        if c not in pointer:\n",
    "            pointer[c] = dict()\n",
    "        pointer = pointer[c]\n",
    "    pointer[\"count\"] = count\n"
   ]
  },
  {
   "cell_type": "code",
   "execution_count": 72,
   "id": "9e88c6d1-2107-4e5b-a4ca-cde1639900a6",
   "metadata": {},
   "outputs": [],
   "source": [
    "from pathlib import Path"
   ]
  },
  {
   "cell_type": "code",
   "execution_count": 73,
   "id": "98f43e51-166c-45de-9d28-f3c3bc4fcd85",
   "metadata": {},
   "outputs": [],
   "source": [
    "text = Path(\"studies/movies/vega-lite/bubble_agg.vl\").read_text()"
   ]
  },
  {
   "cell_type": "code",
   "execution_count": 74,
   "id": "7de9d52e-6d99-4a73-a9da-b4625814ea45",
   "metadata": {
    "tags": []
   },
   "outputs": [
    {
     "data": {
      "text/html": [
       "<pre><span>{</span>\n",
       "<span></span> <span></span> <span></span>\"<span>$schema</span>\"<span>:</span> <span></span>\"<span>https://vega.github.io/schema/vega-lite/v5.json</span>\"<span>,</span>\n",
       "<span></span> <span></span> <span></span>\"<span>data</span>\"<span>:</span> <span>{</span>\n",
       "<span></span> <span></span> <span></span> <span></span> <span></span>\"<span>url</span>\"<span>:</span> <span></span>\"<span>data/movies.csv</span>\"<span></span>\n",
       "<span></span> <span></span> <span>}</span>,<span></span>\n",
       "<span></span> <span></span> <span></span>\"<span>mark</span>\"<span>:</span> <span></span>\"<span style='background: #ffb1b1' title='8/26'>point</span>\"<span>,</span>\n",
       "<span></span> <span></span> <span></span>\"<span>encoding</span>\"<span>:</span> <span>{</span>\n",
       "<span></span> <span></span> <span></span> <span></span> <span></span>\"<span style='background: #ffffff' title='25/26'>x</span>\"<span>:</span> <span>{</span>\n",
       "<span></span> <span></span> <span></span> <span></span> <span></span> <span></span> <span></span>\"<span>field</span>\"<span>:</span> <span></span>\"<span style='background: #ffdcdc' title='15/26'>Production Budget</span>\"<span>,</span>\n",
       "<span></span> <span></span> <span></span> <span></span> <span></span> <span></span> <span></span>\"<span>type</span>\"<span>:</span> <span></span>\"<span style='background: #ffdcdc' title='15/26'>quantitative</span>\"<span>,</span>\n",
       "<span></span> <span></span> <span></span> <span></span> <span></span> <span></span> <span></span>\"<span style='background: #ffe0e0' title='16/26'>aggregate</span>\"<span>:</span> <span></span>\"<span style='background: #ff8181' title='4/26'>mean</span>\"<span></span>\n",
       "<span></span> <span></span> <span></span> <span></span> <span>}</span>,<span></span>\n",
       "<span></span> <span></span> <span></span> <span></span> <span></span>\"<span style='background: #fffcfc' title='24/26'>y</span>\"<span>:</span> <span>{</span>\n",
       "<span></span> <span></span> <span></span> <span></span> <span></span> <span></span> <span></span>\"<span>field</span>\"<span>:</span> <span></span>\"<span style='background: #ffcdcd' title='12/26'>Worldwide Gross</span>\"<span>,</span>\n",
       "<span></span> <span></span> <span></span> <span></span> <span></span> <span></span> <span></span>\"<span>type</span>\"<span>:</span> <span></span>\"<span style='background: #ffdcdc' title='15/26'>quantitative</span>\"<span>,</span>\n",
       "<span></span> <span></span> <span></span> <span></span> <span></span> <span></span> <span></span>\"<span style='background: #ffe0e0' title='16/26'>aggregate</span>\"<span>:</span> <span></span>\"<span style='background: #ff8181' title='4/26'>mean</span>\"<span></span>\n",
       "<span></span> <span></span> <span></span> <span></span> <span>}</span>,<span></span>\n",
       "<span></span> <span></span> <span></span> <span></span> <span></span>\"<span style='background: #ffecec' title='19/26'>color</span>\"<span>:</span> <span>{</span>\n",
       "<span></span> <span></span> <span></span> <span></span> <span></span> <span></span> <span></span>\"<span>field</span>\"<span>:</span> <span></span>\"<span style='background: #ffe8e8' title='18/26'>MPAA Rating</span>\"<span>,</span>\n",
       "<span></span> <span></span> <span></span> <span></span> <span></span> <span></span> <span></span>\"<span>type</span>\"<span>:</span> <span></span>\"<span style='background: #fff9f9' title='23/26'>nominal</span>\"<span></span>\n",
       "<span></span> <span></span> <span></span> <span></span> <span>}</span>,<span></span>\n",
       "<span></span> <span></span> <span></span> <span></span> <span></span>\"<span style='background: #ff5252' title='2/26'>size</span>\"<span>:</span> <span>{</span>\n",
       "<span></span> <span></span> <span></span> <span></span> <span></span> <span></span> <span></span>\"<span>field</span>\"<span>:</span> <span></span>\"<span style='background: #ff6d6d' title='3/26'>IMDB Rating</span>\"<span>,</span>\n",
       "<span></span> <span></span> <span></span> <span></span> <span></span> <span></span> <span></span>\"<span>type</span>\"<span>:</span> <span></span>\"<span style='background: #ffdcdc' title='15/26'>quantitative</span>\"<span>,</span>\n",
       "<span></span> <span></span> <span></span> <span></span> <span></span> <span></span> <span></span>\"<span style='background: #ffe0e0' title='16/26'>aggregate</span>\"<span>:</span> <span></span>\"<span style='background: #ff8181' title='4/26'>mean</span>\"<span></span>\n",
       "<span></span> <span></span> <span></span> <span></span> <span>}</span>\n",
       "<span></span> <span></span> <span>}</span>\n",
       "<span>}</span>\n",
       "</pre>"
      ],
      "text/plain": [
       "<IPython.core.display.HTML object>"
      ]
     },
     "execution_count": 74,
     "metadata": {},
     "output_type": "execute_result"
    }
   ],
   "source": [
    "import spectra\n",
    "import math\n",
    "scale = spectra.scale([spectra.html(\"#F22\"), spectra.html(\"#FFF\")]).domain([math.log(1), math.log(max_count-1)])\n",
    "\n",
    "out_text = \"\"\n",
    "\n",
    "pointer = trie\n",
    "buffer = \"\"\n",
    "for c in text:\n",
    "    if c not in pointer:\n",
    "        out_text += \"<span\"\n",
    "        if \"count\" in pointer and pointer[\"count\"] < max_count:\n",
    "            color = scale(math.log(pointer[\"count\"])).hexcode\n",
    "            out_text += f\" style='background: {color}'\"\n",
    "            out_text += f\" title='{pointer['count']}/{max_count}'\"\n",
    "        out_text += \">\" + buffer + \"</span>\"\n",
    "        \n",
    "        buffer = \"\"\n",
    "        pointer = trie\n",
    "        out_text += c\n",
    "    else:\n",
    "        buffer += c\n",
    "        pointer = pointer[c]\n",
    "\n",
    "from IPython.core.display import HTML\n",
    "HTML(\"<pre>\" + out_text + \"</pre>\")\n"
   ]
  },
  {
   "cell_type": "code",
   "execution_count": null,
   "id": "528e14cd-af0e-44bd-9afb-b2059cd7d8d0",
   "metadata": {},
   "outputs": [],
   "source": []
  },
  {
   "cell_type": "code",
   "execution_count": null,
   "id": "d2786508-07b6-4b10-8a53-03c4c3403300",
   "metadata": {},
   "outputs": [],
   "source": []
  }
 ],
 "metadata": {
  "kernelspec": {
   "display_name": "Python 3 (ipykernel)",
   "language": "python",
   "name": "python3"
  },
  "language_info": {
   "codemirror_mode": {
    "name": "ipython",
    "version": 3
   },
   "file_extension": ".py",
   "mimetype": "text/x-python",
   "name": "python",
   "nbconvert_exporter": "python",
   "pygments_lexer": "ipython3",
   "version": "3.9.7"
  }
 },
 "nbformat": 4,
 "nbformat_minor": 5
}
