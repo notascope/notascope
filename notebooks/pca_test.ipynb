{
 "cells": [
  {
   "cell_type": "code",
   "execution_count": 18,
   "id": "eb1e7fda-af2b-42f8-a34e-9904acc53abc",
   "metadata": {},
   "outputs": [],
   "source": [
    "import plotly.express as px\n",
    "import numpy as np\n",
    "df = px.data.gapminder(year=2007).set_index(\"country\")[[\"gdpPercap\", \"lifeExp\"]]\n",
    "df[\"gdpPercap\"] = np.log(df[\"gdpPercap\"])"
   ]
  },
  {
   "cell_type": "code",
   "execution_count": 65,
   "id": "3bff0635-7853-4a61-9766-efc734d31fc1",
   "metadata": {},
   "outputs": [
    {
     "data": {
      "application/vnd.plotly.v1+json": {
       "config": {
        "plotlyServerURL": "https://plotly.com"
       },
       "data": [
        {
         "hovertemplate": "gdpPercap=%{x}<br>lifeExp=%{y}<extra></extra>",
         "legendgroup": "",
         "marker": {
          "color": "#636efa",
          "symbol": "circle"
         },
         "mode": "markers",
         "name": "",
         "orientation": "v",
         "showlegend": false,
         "type": "scatter",
         "x": [
          6.882006956185797,
          8.688964207477106,
          8.736066432319678,
          8.475794211096686,
          9.455588185282302,
          10.446839438460565,
          10.494781744976294,
          10.302131057660269,
          7.237960628192509,
          10.425033658433435,
          7.27329026764787,
          8.248564991242306,
          8.915472382958686,
          9.439056509151994,
          9.11226446181318,
          9.27620234384137,
          7.104171203548545,
          6.063949594245329,
          7.446455969467286,
          7.621731638185456,
          10.500102769993411,
          6.559638660731664,
          7.440771103403637,
          9.48582122511248,
          8.508982546938816,
          8.854605046315045,
          6.8938063222615895,
          5.626007793925132,
          8.19769230667367,
          9.17420129338591,
          7.342617436444727,
          9.590092566363756,
          9.099196824890761,
          10.035975648428332,
          10.471026688821484,
          7.641315522621272,
          8.703734955926622,
          8.835394138005636,
          8.627155681368093,
          8.653183423565686,
          9.405420997068234,
          6.463605770695175,
          6.537858417895999,
          10.410518517683292,
          10.324498420059683,
          9.48846323946509,
          6.623732804027337,
          10.37880125895925,
          7.191134791182141,
          10.223337104679452,
          8.553727607972682,
          6.848699525142248,
          6.3617026444730875,
          7.091440200971258,
          8.174232587672845,
          10.5897354544633,
          9.79862382679109,
          10.496283571591434,
          7.804745103733494,
          8.172066046818411,
          9.359252884241174,
          8.40538122225756,
          10.61339342717752,
          10.147346142223887,
          10.26010268418614,
          8.898485854096965,
          10.362685133050313,
          8.416148055764452,
          7.288414777482674,
          7.373415413898915,
          10.058272590972555,
          10.764413339037992,
          9.255414944734394,
          7.358404974528663,
          6.027090686119344,
          9.397442092229253,
          6.951552165081218,
          6.632462685785543,
          9.429608889033608,
          6.9494551827472755,
          7.497291244077236,
          9.30173298996425,
          9.390791427138863,
          8.037792676125699,
          9.132799943015339,
          8.248051572276294,
          6.713788928589531,
          6.8501261661455,
          8.478672802210884,
          6.995179700490467,
          10.513196962797394,
          10.134004219902934,
          7.919109238352224,
          6.4291982009074955,
          7.6078668045953535,
          10.806838731715855,
          10.013067831605971,
          7.865551642363522,
          9.191074535454053,
          8.336351770041206,
          8.910438009810923,
          8.067926973126148,
          9.64146833273388,
          9.928650677345093,
          9.869346783112231,
          8.945087873112389,
          9.288085884038223,
          6.760517193245893,
          7.376780360230913,
          9.982983892824338,
          7.445693299055102,
          9.18876271106754,
          6.759882401238381,
          10.760944625212437,
          9.835118469488423,
          10.156898687468367,
          6.831026564620053,
          9.134501743962709,
          10.268861777269361,
          8.286545405382396,
          7.864187451932577,
          8.414823896039525,
          10.429982223586265,
          10.532267372509699,
          8.339153993580391,
          10.26528902275493,
          7.009844413302285,
          8.917095700517491,
          6.7832911612930324,
          9.798599660729607,
          8.866852808894505,
          9.042900694727205,
          6.962603362563226,
          10.4104033814055,
          10.66783041537953,
          9.269690109944033,
          9.342754138163883,
          7.800399176888787,
          8.014781999482128,
          7.732268343018254,
          7.147725734910312,
          6.152113988664138
         ],
         "xaxis": "x",
         "y": [
          43.828,
          76.423,
          72.301,
          42.731,
          75.32,
          81.235,
          79.829,
          75.635,
          64.062,
          79.441,
          56.728,
          65.554,
          74.852,
          50.728,
          72.39,
          73.005,
          52.295,
          49.58,
          59.723,
          50.43,
          80.653,
          44.74100000000001,
          50.651,
          78.553,
          72.961,
          72.889,
          65.152,
          46.462,
          55.322,
          78.782,
          48.328,
          75.748,
          78.273,
          76.486,
          78.332,
          54.791,
          72.235,
          74.994,
          71.33800000000002,
          71.878,
          51.57899999999999,
          58.04,
          52.947,
          79.313,
          80.657,
          56.735,
          59.448,
          79.406,
          60.022,
          79.483,
          70.259,
          56.007,
          46.38800000000001,
          60.916,
          70.19800000000001,
          82.208,
          73.33800000000002,
          81.757,
          64.69800000000001,
          70.65,
          70.964,
          59.545,
          78.885,
          80.745,
          80.546,
          72.567,
          82.603,
          72.535,
          54.11,
          67.297,
          78.623,
          77.58800000000002,
          71.993,
          42.592,
          45.678,
          73.952,
          59.44300000000001,
          48.303,
          74.241,
          54.467,
          64.164,
          72.801,
          76.195,
          66.803,
          74.543,
          71.164,
          42.082,
          62.069,
          52.90600000000001,
          63.785,
          79.762,
          80.204,
          72.899,
          56.867,
          46.859,
          80.196,
          75.64,
          65.483,
          75.53699999999998,
          71.752,
          71.421,
          71.688,
          75.563,
          78.098,
          78.74600000000002,
          76.442,
          72.476,
          46.242,
          65.528,
          72.777,
          63.062,
          74.002,
          42.56800000000001,
          79.972,
          74.663,
          77.926,
          48.159,
          49.339,
          80.941,
          72.396,
          58.556,
          39.613,
          80.884,
          81.70100000000002,
          74.143,
          78.4,
          52.517,
          70.616,
          58.42,
          69.819,
          73.923,
          71.777,
          51.542,
          79.425,
          78.242,
          76.384,
          73.747,
          74.249,
          73.422,
          62.698,
          42.38399999999999,
          43.487
         ],
         "yaxis": "y"
        }
       ],
       "layout": {
        "autosize": true,
        "legend": {
         "tracegroupgap": 0
        },
        "margin": {
         "t": 60
        },
        "template": {
         "data": {
          "bar": [
           {
            "error_x": {
             "color": "#2a3f5f"
            },
            "error_y": {
             "color": "#2a3f5f"
            },
            "marker": {
             "line": {
              "color": "#E5ECF6",
              "width": 0.5
             },
             "pattern": {
              "fillmode": "overlay",
              "size": 10,
              "solidity": 0.2
             }
            },
            "type": "bar"
           }
          ],
          "barpolar": [
           {
            "marker": {
             "line": {
              "color": "#E5ECF6",
              "width": 0.5
             },
             "pattern": {
              "fillmode": "overlay",
              "size": 10,
              "solidity": 0.2
             }
            },
            "type": "barpolar"
           }
          ],
          "carpet": [
           {
            "aaxis": {
             "endlinecolor": "#2a3f5f",
             "gridcolor": "white",
             "linecolor": "white",
             "minorgridcolor": "white",
             "startlinecolor": "#2a3f5f"
            },
            "baxis": {
             "endlinecolor": "#2a3f5f",
             "gridcolor": "white",
             "linecolor": "white",
             "minorgridcolor": "white",
             "startlinecolor": "#2a3f5f"
            },
            "type": "carpet"
           }
          ],
          "choropleth": [
           {
            "colorbar": {
             "outlinewidth": 0,
             "ticks": ""
            },
            "type": "choropleth"
           }
          ],
          "contour": [
           {
            "colorbar": {
             "outlinewidth": 0,
             "ticks": ""
            },
            "colorscale": [
             [
              0,
              "#0d0887"
             ],
             [
              0.1111111111111111,
              "#46039f"
             ],
             [
              0.2222222222222222,
              "#7201a8"
             ],
             [
              0.3333333333333333,
              "#9c179e"
             ],
             [
              0.4444444444444444,
              "#bd3786"
             ],
             [
              0.5555555555555556,
              "#d8576b"
             ],
             [
              0.6666666666666666,
              "#ed7953"
             ],
             [
              0.7777777777777778,
              "#fb9f3a"
             ],
             [
              0.8888888888888888,
              "#fdca26"
             ],
             [
              1,
              "#f0f921"
             ]
            ],
            "type": "contour"
           }
          ],
          "contourcarpet": [
           {
            "colorbar": {
             "outlinewidth": 0,
             "ticks": ""
            },
            "type": "contourcarpet"
           }
          ],
          "heatmap": [
           {
            "colorbar": {
             "outlinewidth": 0,
             "ticks": ""
            },
            "colorscale": [
             [
              0,
              "#0d0887"
             ],
             [
              0.1111111111111111,
              "#46039f"
             ],
             [
              0.2222222222222222,
              "#7201a8"
             ],
             [
              0.3333333333333333,
              "#9c179e"
             ],
             [
              0.4444444444444444,
              "#bd3786"
             ],
             [
              0.5555555555555556,
              "#d8576b"
             ],
             [
              0.6666666666666666,
              "#ed7953"
             ],
             [
              0.7777777777777778,
              "#fb9f3a"
             ],
             [
              0.8888888888888888,
              "#fdca26"
             ],
             [
              1,
              "#f0f921"
             ]
            ],
            "type": "heatmap"
           }
          ],
          "heatmapgl": [
           {
            "colorbar": {
             "outlinewidth": 0,
             "ticks": ""
            },
            "colorscale": [
             [
              0,
              "#0d0887"
             ],
             [
              0.1111111111111111,
              "#46039f"
             ],
             [
              0.2222222222222222,
              "#7201a8"
             ],
             [
              0.3333333333333333,
              "#9c179e"
             ],
             [
              0.4444444444444444,
              "#bd3786"
             ],
             [
              0.5555555555555556,
              "#d8576b"
             ],
             [
              0.6666666666666666,
              "#ed7953"
             ],
             [
              0.7777777777777778,
              "#fb9f3a"
             ],
             [
              0.8888888888888888,
              "#fdca26"
             ],
             [
              1,
              "#f0f921"
             ]
            ],
            "type": "heatmapgl"
           }
          ],
          "histogram": [
           {
            "marker": {
             "pattern": {
              "fillmode": "overlay",
              "size": 10,
              "solidity": 0.2
             }
            },
            "type": "histogram"
           }
          ],
          "histogram2d": [
           {
            "colorbar": {
             "outlinewidth": 0,
             "ticks": ""
            },
            "colorscale": [
             [
              0,
              "#0d0887"
             ],
             [
              0.1111111111111111,
              "#46039f"
             ],
             [
              0.2222222222222222,
              "#7201a8"
             ],
             [
              0.3333333333333333,
              "#9c179e"
             ],
             [
              0.4444444444444444,
              "#bd3786"
             ],
             [
              0.5555555555555556,
              "#d8576b"
             ],
             [
              0.6666666666666666,
              "#ed7953"
             ],
             [
              0.7777777777777778,
              "#fb9f3a"
             ],
             [
              0.8888888888888888,
              "#fdca26"
             ],
             [
              1,
              "#f0f921"
             ]
            ],
            "type": "histogram2d"
           }
          ],
          "histogram2dcontour": [
           {
            "colorbar": {
             "outlinewidth": 0,
             "ticks": ""
            },
            "colorscale": [
             [
              0,
              "#0d0887"
             ],
             [
              0.1111111111111111,
              "#46039f"
             ],
             [
              0.2222222222222222,
              "#7201a8"
             ],
             [
              0.3333333333333333,
              "#9c179e"
             ],
             [
              0.4444444444444444,
              "#bd3786"
             ],
             [
              0.5555555555555556,
              "#d8576b"
             ],
             [
              0.6666666666666666,
              "#ed7953"
             ],
             [
              0.7777777777777778,
              "#fb9f3a"
             ],
             [
              0.8888888888888888,
              "#fdca26"
             ],
             [
              1,
              "#f0f921"
             ]
            ],
            "type": "histogram2dcontour"
           }
          ],
          "mesh3d": [
           {
            "colorbar": {
             "outlinewidth": 0,
             "ticks": ""
            },
            "type": "mesh3d"
           }
          ],
          "parcoords": [
           {
            "line": {
             "colorbar": {
              "outlinewidth": 0,
              "ticks": ""
             }
            },
            "type": "parcoords"
           }
          ],
          "pie": [
           {
            "automargin": true,
            "type": "pie"
           }
          ],
          "scatter": [
           {
            "fillpattern": {
             "fillmode": "overlay",
             "size": 10,
             "solidity": 0.2
            },
            "type": "scatter"
           }
          ],
          "scatter3d": [
           {
            "line": {
             "colorbar": {
              "outlinewidth": 0,
              "ticks": ""
             }
            },
            "marker": {
             "colorbar": {
              "outlinewidth": 0,
              "ticks": ""
             }
            },
            "type": "scatter3d"
           }
          ],
          "scattercarpet": [
           {
            "marker": {
             "colorbar": {
              "outlinewidth": 0,
              "ticks": ""
             }
            },
            "type": "scattercarpet"
           }
          ],
          "scattergeo": [
           {
            "marker": {
             "colorbar": {
              "outlinewidth": 0,
              "ticks": ""
             }
            },
            "type": "scattergeo"
           }
          ],
          "scattergl": [
           {
            "marker": {
             "colorbar": {
              "outlinewidth": 0,
              "ticks": ""
             }
            },
            "type": "scattergl"
           }
          ],
          "scattermapbox": [
           {
            "marker": {
             "colorbar": {
              "outlinewidth": 0,
              "ticks": ""
             }
            },
            "type": "scattermapbox"
           }
          ],
          "scatterpolar": [
           {
            "marker": {
             "colorbar": {
              "outlinewidth": 0,
              "ticks": ""
             }
            },
            "type": "scatterpolar"
           }
          ],
          "scatterpolargl": [
           {
            "marker": {
             "colorbar": {
              "outlinewidth": 0,
              "ticks": ""
             }
            },
            "type": "scatterpolargl"
           }
          ],
          "scatterternary": [
           {
            "marker": {
             "colorbar": {
              "outlinewidth": 0,
              "ticks": ""
             }
            },
            "type": "scatterternary"
           }
          ],
          "surface": [
           {
            "colorbar": {
             "outlinewidth": 0,
             "ticks": ""
            },
            "colorscale": [
             [
              0,
              "#0d0887"
             ],
             [
              0.1111111111111111,
              "#46039f"
             ],
             [
              0.2222222222222222,
              "#7201a8"
             ],
             [
              0.3333333333333333,
              "#9c179e"
             ],
             [
              0.4444444444444444,
              "#bd3786"
             ],
             [
              0.5555555555555556,
              "#d8576b"
             ],
             [
              0.6666666666666666,
              "#ed7953"
             ],
             [
              0.7777777777777778,
              "#fb9f3a"
             ],
             [
              0.8888888888888888,
              "#fdca26"
             ],
             [
              1,
              "#f0f921"
             ]
            ],
            "type": "surface"
           }
          ],
          "table": [
           {
            "cells": {
             "fill": {
              "color": "#EBF0F8"
             },
             "line": {
              "color": "white"
             }
            },
            "header": {
             "fill": {
              "color": "#C8D4E3"
             },
             "line": {
              "color": "white"
             }
            },
            "type": "table"
           }
          ]
         },
         "layout": {
          "annotationdefaults": {
           "arrowcolor": "#2a3f5f",
           "arrowhead": 0,
           "arrowwidth": 1
          },
          "autotypenumbers": "strict",
          "coloraxis": {
           "colorbar": {
            "outlinewidth": 0,
            "ticks": ""
           }
          },
          "colorscale": {
           "diverging": [
            [
             0,
             "#8e0152"
            ],
            [
             0.1,
             "#c51b7d"
            ],
            [
             0.2,
             "#de77ae"
            ],
            [
             0.3,
             "#f1b6da"
            ],
            [
             0.4,
             "#fde0ef"
            ],
            [
             0.5,
             "#f7f7f7"
            ],
            [
             0.6,
             "#e6f5d0"
            ],
            [
             0.7,
             "#b8e186"
            ],
            [
             0.8,
             "#7fbc41"
            ],
            [
             0.9,
             "#4d9221"
            ],
            [
             1,
             "#276419"
            ]
           ],
           "sequential": [
            [
             0,
             "#0d0887"
            ],
            [
             0.1111111111111111,
             "#46039f"
            ],
            [
             0.2222222222222222,
             "#7201a8"
            ],
            [
             0.3333333333333333,
             "#9c179e"
            ],
            [
             0.4444444444444444,
             "#bd3786"
            ],
            [
             0.5555555555555556,
             "#d8576b"
            ],
            [
             0.6666666666666666,
             "#ed7953"
            ],
            [
             0.7777777777777778,
             "#fb9f3a"
            ],
            [
             0.8888888888888888,
             "#fdca26"
            ],
            [
             1,
             "#f0f921"
            ]
           ],
           "sequentialminus": [
            [
             0,
             "#0d0887"
            ],
            [
             0.1111111111111111,
             "#46039f"
            ],
            [
             0.2222222222222222,
             "#7201a8"
            ],
            [
             0.3333333333333333,
             "#9c179e"
            ],
            [
             0.4444444444444444,
             "#bd3786"
            ],
            [
             0.5555555555555556,
             "#d8576b"
            ],
            [
             0.6666666666666666,
             "#ed7953"
            ],
            [
             0.7777777777777778,
             "#fb9f3a"
            ],
            [
             0.8888888888888888,
             "#fdca26"
            ],
            [
             1,
             "#f0f921"
            ]
           ]
          },
          "colorway": [
           "#636efa",
           "#EF553B",
           "#00cc96",
           "#ab63fa",
           "#FFA15A",
           "#19d3f3",
           "#FF6692",
           "#B6E880",
           "#FF97FF",
           "#FECB52"
          ],
          "font": {
           "color": "#2a3f5f"
          },
          "geo": {
           "bgcolor": "white",
           "lakecolor": "white",
           "landcolor": "#E5ECF6",
           "showlakes": true,
           "showland": true,
           "subunitcolor": "white"
          },
          "hoverlabel": {
           "align": "left"
          },
          "hovermode": "closest",
          "mapbox": {
           "style": "light"
          },
          "paper_bgcolor": "white",
          "plot_bgcolor": "#E5ECF6",
          "polar": {
           "angularaxis": {
            "gridcolor": "white",
            "linecolor": "white",
            "ticks": ""
           },
           "bgcolor": "#E5ECF6",
           "radialaxis": {
            "gridcolor": "white",
            "linecolor": "white",
            "ticks": ""
           }
          },
          "scene": {
           "xaxis": {
            "backgroundcolor": "#E5ECF6",
            "gridcolor": "white",
            "gridwidth": 2,
            "linecolor": "white",
            "showbackground": true,
            "ticks": "",
            "zerolinecolor": "white"
           },
           "yaxis": {
            "backgroundcolor": "#E5ECF6",
            "gridcolor": "white",
            "gridwidth": 2,
            "linecolor": "white",
            "showbackground": true,
            "ticks": "",
            "zerolinecolor": "white"
           },
           "zaxis": {
            "backgroundcolor": "#E5ECF6",
            "gridcolor": "white",
            "gridwidth": 2,
            "linecolor": "white",
            "showbackground": true,
            "ticks": "",
            "zerolinecolor": "white"
           }
          },
          "shapedefaults": {
           "line": {
            "color": "#2a3f5f"
           }
          },
          "ternary": {
           "aaxis": {
            "gridcolor": "white",
            "linecolor": "white",
            "ticks": ""
           },
           "baxis": {
            "gridcolor": "white",
            "linecolor": "white",
            "ticks": ""
           },
           "bgcolor": "#E5ECF6",
           "caxis": {
            "gridcolor": "white",
            "linecolor": "white",
            "ticks": ""
           }
          },
          "title": {
           "x": 0.05
          },
          "xaxis": {
           "automargin": true,
           "gridcolor": "white",
           "linecolor": "white",
           "ticks": "",
           "title": {
            "standoff": 15
           },
           "zerolinecolor": "white",
           "zerolinewidth": 2
          },
          "yaxis": {
           "automargin": true,
           "gridcolor": "white",
           "linecolor": "white",
           "ticks": "",
           "title": {
            "standoff": 15
           },
           "zerolinecolor": "white",
           "zerolinewidth": 2
          }
         }
        },
        "xaxis": {
         "anchor": "y",
         "autorange": true,
         "domain": [
          0,
          1
         ],
         "range": [
          5.319799595081088,
          11.113046930559898
         ],
         "title": {
          "text": "gdpPercap"
         },
         "type": "linear"
        },
        "yaxis": {
         "anchor": "x",
         "autorange": true,
         "domain": [
          0,
          1
         ],
         "range": [
          36.284377952755904,
          85.93162204724409
         ],
         "title": {
          "text": "lifeExp"
         },
         "type": "linear"
        }
       }
      },
      "image/png": "[encoded data removed]",
      "text/html": [
       "<div>                            <div id=\"6e5c3f51-e81d-4d32-9ee6-fe9bf334f19d\" class=\"plotly-graph-div\" style=\"height:525px; width:100%;\"></div>            <script type=\"text/javascript\">                require([\"plotly\"], function(Plotly) {                    window.PLOTLYENV=window.PLOTLYENV || {};                                    if (document.getElementById(\"6e5c3f51-e81d-4d32-9ee6-fe9bf334f19d\")) {                    Plotly.newPlot(                        \"6e5c3f51-e81d-4d32-9ee6-fe9bf334f19d\",                        [{\"hovertemplate\":\"gdpPercap=%{x}<br>lifeExp=%{y}<extra></extra>\",\"legendgroup\":\"\",\"marker\":{\"color\":\"#636efa\",\"symbol\":\"circle\"},\"mode\":\"markers\",\"name\":\"\",\"orientation\":\"v\",\"showlegend\":false,\"x\":[6.882006956185797,8.688964207477106,8.736066432319678,8.475794211096686,9.455588185282302,10.446839438460565,10.494781744976294,10.302131057660269,7.237960628192509,10.425033658433435,7.27329026764787,8.248564991242306,8.915472382958686,9.439056509151994,9.11226446181318,9.27620234384137,7.104171203548545,6.063949594245329,7.446455969467286,7.621731638185456,10.500102769993411,6.559638660731664,7.440771103403637,9.48582122511248,8.508982546938816,8.854605046315045,6.8938063222615895,5.626007793925132,8.19769230667367,9.17420129338591,7.342617436444727,9.590092566363756,9.099196824890761,10.035975648428332,10.471026688821484,7.641315522621272,8.703734955926622,8.835394138005636,8.627155681368093,8.653183423565686,9.405420997068234,6.463605770695175,6.537858417895999,10.410518517683292,10.324498420059683,9.48846323946509,6.623732804027337,10.37880125895925,7.191134791182141,10.223337104679452,8.553727607972682,6.848699525142248,6.3617026444730875,7.091440200971258,8.174232587672845,10.5897354544633,9.79862382679109,10.496283571591434,7.804745103733494,8.172066046818411,9.359252884241174,8.40538122225756,10.61339342717752,10.147346142223887,10.26010268418614,8.898485854096965,10.362685133050313,8.416148055764452,7.288414777482674,7.373415413898915,10.058272590972555,10.764413339037992,9.255414944734394,7.358404974528663,6.027090686119344,9.397442092229253,6.951552165081218,6.632462685785543,9.429608889033608,6.9494551827472755,7.497291244077236,9.30173298996425,9.390791427138863,8.037792676125699,9.132799943015339,8.248051572276294,6.713788928589531,6.8501261661455,8.478672802210884,6.995179700490467,10.513196962797394,10.134004219902934,7.919109238352224,6.4291982009074955,7.6078668045953535,10.806838731715855,10.013067831605971,7.865551642363522,9.191074535454053,8.336351770041206,8.910438009810923,8.067926973126148,9.64146833273388,9.928650677345093,9.869346783112231,8.945087873112389,9.288085884038223,6.760517193245893,7.376780360230913,9.982983892824338,7.445693299055102,9.18876271106754,6.759882401238381,10.760944625212437,9.835118469488423,10.156898687468367,6.831026564620053,9.134501743962709,10.268861777269361,8.286545405382396,7.864187451932577,8.414823896039525,10.429982223586265,10.532267372509699,8.339153993580391,10.26528902275493,7.009844413302285,8.917095700517491,6.7832911612930324,9.798599660729607,8.866852808894505,9.042900694727205,6.962603362563226,10.4104033814055,10.66783041537953,9.269690109944033,9.342754138163883,7.800399176888787,8.014781999482128,7.732268343018254,7.147725734910312,6.152113988664138],\"xaxis\":\"x\",\"y\":[43.828,76.423,72.301,42.731,75.32,81.235,79.829,75.635,64.062,79.441,56.728,65.554,74.852,50.728,72.39,73.005,52.295,49.58,59.723,50.43,80.653,44.74100000000001,50.651,78.553,72.961,72.889,65.152,46.462,55.322,78.782,48.328,75.748,78.273,76.486,78.332,54.791,72.235,74.994,71.33800000000002,71.878,51.57899999999999,58.04,52.947,79.313,80.657,56.735,59.448,79.406,60.022,79.483,70.259,56.007,46.38800000000001,60.916,70.19800000000001,82.208,73.33800000000002,81.757,64.69800000000001,70.65,70.964,59.545,78.885,80.745,80.546,72.567,82.603,72.535,54.11,67.297,78.623,77.58800000000002,71.993,42.592,45.678,73.952,59.44300000000001,48.303,74.241,54.467,64.164,72.801,76.195,66.803,74.543,71.164,42.082,62.069,52.90600000000001,63.785,79.762,80.204,72.899,56.867,46.859,80.196,75.64,65.483,75.53699999999998,71.752,71.421,71.688,75.563,78.098,78.74600000000002,76.442,72.476,46.242,65.528,72.777,63.062,74.002,42.56800000000001,79.972,74.663,77.926,48.159,49.339,80.941,72.396,58.556,39.613,80.884,81.70100000000002,74.143,78.4,52.517,70.616,58.42,69.819,73.923,71.777,51.542,79.425,78.242,76.384,73.747,74.249,73.422,62.698,42.38399999999999,43.487],\"yaxis\":\"y\",\"type\":\"scatter\"}],                        {\"template\":{\"data\":{\"histogram2dcontour\":[{\"type\":\"histogram2dcontour\",\"colorbar\":{\"outlinewidth\":0,\"ticks\":\"\"},\"colorscale\":[[0.0,\"#0d0887\"],[0.1111111111111111,\"#46039f\"],[0.2222222222222222,\"#7201a8\"],[0.3333333333333333,\"#9c179e\"],[0.4444444444444444,\"#bd3786\"],[0.5555555555555556,\"#d8576b\"],[0.6666666666666666,\"#ed7953\"],[0.7777777777777778,\"#fb9f3a\"],[0.8888888888888888,\"#fdca26\"],[1.0,\"#f0f921\"]]}],\"choropleth\":[{\"type\":\"choropleth\",\"colorbar\":{\"outlinewidth\":0,\"ticks\":\"\"}}],\"histogram2d\":[{\"type\":\"histogram2d\",\"colorbar\":{\"outlinewidth\":0,\"ticks\":\"\"},\"colorscale\":[[0.0,\"#0d0887\"],[0.1111111111111111,\"#46039f\"],[0.2222222222222222,\"#7201a8\"],[0.3333333333333333,\"#9c179e\"],[0.4444444444444444,\"#bd3786\"],[0.5555555555555556,\"#d8576b\"],[0.6666666666666666,\"#ed7953\"],[0.7777777777777778,\"#fb9f3a\"],[0.8888888888888888,\"#fdca26\"],[1.0,\"#f0f921\"]]}],\"heatmap\":[{\"type\":\"heatmap\",\"colorbar\":{\"outlinewidth\":0,\"ticks\":\"\"},\"colorscale\":[[0.0,\"#0d0887\"],[0.1111111111111111,\"#46039f\"],[0.2222222222222222,\"#7201a8\"],[0.3333333333333333,\"#9c179e\"],[0.4444444444444444,\"#bd3786\"],[0.5555555555555556,\"#d8576b\"],[0.6666666666666666,\"#ed7953\"],[0.7777777777777778,\"#fb9f3a\"],[0.8888888888888888,\"#fdca26\"],[1.0,\"#f0f921\"]]}],\"heatmapgl\":[{\"type\":\"heatmapgl\",\"colorbar\":{\"outlinewidth\":0,\"ticks\":\"\"},\"colorscale\":[[0.0,\"#0d0887\"],[0.1111111111111111,\"#46039f\"],[0.2222222222222222,\"#7201a8\"],[0.3333333333333333,\"#9c179e\"],[0.4444444444444444,\"#bd3786\"],[0.5555555555555556,\"#d8576b\"],[0.6666666666666666,\"#ed7953\"],[0.7777777777777778,\"#fb9f3a\"],[0.8888888888888888,\"#fdca26\"],[1.0,\"#f0f921\"]]}],\"contourcarpet\":[{\"type\":\"contourcarpet\",\"colorbar\":{\"outlinewidth\":0,\"ticks\":\"\"}}],\"contour\":[{\"type\":\"contour\",\"colorbar\":{\"outlinewidth\":0,\"ticks\":\"\"},\"colorscale\":[[0.0,\"#0d0887\"],[0.1111111111111111,\"#46039f\"],[0.2222222222222222,\"#7201a8\"],[0.3333333333333333,\"#9c179e\"],[0.4444444444444444,\"#bd3786\"],[0.5555555555555556,\"#d8576b\"],[0.6666666666666666,\"#ed7953\"],[0.7777777777777778,\"#fb9f3a\"],[0.8888888888888888,\"#fdca26\"],[1.0,\"#f0f921\"]]}],\"surface\":[{\"type\":\"surface\",\"colorbar\":{\"outlinewidth\":0,\"ticks\":\"\"},\"colorscale\":[[0.0,\"#0d0887\"],[0.1111111111111111,\"#46039f\"],[0.2222222222222222,\"#7201a8\"],[0.3333333333333333,\"#9c179e\"],[0.4444444444444444,\"#bd3786\"],[0.5555555555555556,\"#d8576b\"],[0.6666666666666666,\"#ed7953\"],[0.7777777777777778,\"#fb9f3a\"],[0.8888888888888888,\"#fdca26\"],[1.0,\"#f0f921\"]]}],\"mesh3d\":[{\"type\":\"mesh3d\",\"colorbar\":{\"outlinewidth\":0,\"ticks\":\"\"}}],\"scatter\":[{\"fillpattern\":{\"fillmode\":\"overlay\",\"size\":10,\"solidity\":0.2},\"type\":\"scatter\"}],\"parcoords\":[{\"type\":\"parcoords\",\"line\":{\"colorbar\":{\"outlinewidth\":0,\"ticks\":\"\"}}}],\"scatterpolargl\":[{\"type\":\"scatterpolargl\",\"marker\":{\"colorbar\":{\"outlinewidth\":0,\"ticks\":\"\"}}}],\"bar\":[{\"error_x\":{\"color\":\"#2a3f5f\"},\"error_y\":{\"color\":\"#2a3f5f\"},\"marker\":{\"line\":{\"color\":\"#E5ECF6\",\"width\":0.5},\"pattern\":{\"fillmode\":\"overlay\",\"size\":10,\"solidity\":0.2}},\"type\":\"bar\"}],\"scattergeo\":[{\"type\":\"scattergeo\",\"marker\":{\"colorbar\":{\"outlinewidth\":0,\"ticks\":\"\"}}}],\"scatterpolar\":[{\"type\":\"scatterpolar\",\"marker\":{\"colorbar\":{\"outlinewidth\":0,\"ticks\":\"\"}}}],\"histogram\":[{\"marker\":{\"pattern\":{\"fillmode\":\"overlay\",\"size\":10,\"solidity\":0.2}},\"type\":\"histogram\"}],\"scattergl\":[{\"type\":\"scattergl\",\"marker\":{\"colorbar\":{\"outlinewidth\":0,\"ticks\":\"\"}}}],\"scatter3d\":[{\"type\":\"scatter3d\",\"line\":{\"colorbar\":{\"outlinewidth\":0,\"ticks\":\"\"}},\"marker\":{\"colorbar\":{\"outlinewidth\":0,\"ticks\":\"\"}}}],\"scattermapbox\":[{\"type\":\"scattermapbox\",\"marker\":{\"colorbar\":{\"outlinewidth\":0,\"ticks\":\"\"}}}],\"scatterternary\":[{\"type\":\"scatterternary\",\"marker\":{\"colorbar\":{\"outlinewidth\":0,\"ticks\":\"\"}}}],\"scattercarpet\":[{\"type\":\"scattercarpet\",\"marker\":{\"colorbar\":{\"outlinewidth\":0,\"ticks\":\"\"}}}],\"carpet\":[{\"aaxis\":{\"endlinecolor\":\"#2a3f5f\",\"gridcolor\":\"white\",\"linecolor\":\"white\",\"minorgridcolor\":\"white\",\"startlinecolor\":\"#2a3f5f\"},\"baxis\":{\"endlinecolor\":\"#2a3f5f\",\"gridcolor\":\"white\",\"linecolor\":\"white\",\"minorgridcolor\":\"white\",\"startlinecolor\":\"#2a3f5f\"},\"type\":\"carpet\"}],\"table\":[{\"cells\":{\"fill\":{\"color\":\"#EBF0F8\"},\"line\":{\"color\":\"white\"}},\"header\":{\"fill\":{\"color\":\"#C8D4E3\"},\"line\":{\"color\":\"white\"}},\"type\":\"table\"}],\"barpolar\":[{\"marker\":{\"line\":{\"color\":\"#E5ECF6\",\"width\":0.5},\"pattern\":{\"fillmode\":\"overlay\",\"size\":10,\"solidity\":0.2}},\"type\":\"barpolar\"}],\"pie\":[{\"automargin\":true,\"type\":\"pie\"}]},\"layout\":{\"autotypenumbers\":\"strict\",\"colorway\":[\"#636efa\",\"#EF553B\",\"#00cc96\",\"#ab63fa\",\"#FFA15A\",\"#19d3f3\",\"#FF6692\",\"#B6E880\",\"#FF97FF\",\"#FECB52\"],\"font\":{\"color\":\"#2a3f5f\"},\"hovermode\":\"closest\",\"hoverlabel\":{\"align\":\"left\"},\"paper_bgcolor\":\"white\",\"plot_bgcolor\":\"#E5ECF6\",\"polar\":{\"bgcolor\":\"#E5ECF6\",\"angularaxis\":{\"gridcolor\":\"white\",\"linecolor\":\"white\",\"ticks\":\"\"},\"radialaxis\":{\"gridcolor\":\"white\",\"linecolor\":\"white\",\"ticks\":\"\"}},\"ternary\":{\"bgcolor\":\"#E5ECF6\",\"aaxis\":{\"gridcolor\":\"white\",\"linecolor\":\"white\",\"ticks\":\"\"},\"baxis\":{\"gridcolor\":\"white\",\"linecolor\":\"white\",\"ticks\":\"\"},\"caxis\":{\"gridcolor\":\"white\",\"linecolor\":\"white\",\"ticks\":\"\"}},\"coloraxis\":{\"colorbar\":{\"outlinewidth\":0,\"ticks\":\"\"}},\"colorscale\":{\"sequential\":[[0.0,\"#0d0887\"],[0.1111111111111111,\"#46039f\"],[0.2222222222222222,\"#7201a8\"],[0.3333333333333333,\"#9c179e\"],[0.4444444444444444,\"#bd3786\"],[0.5555555555555556,\"#d8576b\"],[0.6666666666666666,\"#ed7953\"],[0.7777777777777778,\"#fb9f3a\"],[0.8888888888888888,\"#fdca26\"],[1.0,\"#f0f921\"]],\"sequentialminus\":[[0.0,\"#0d0887\"],[0.1111111111111111,\"#46039f\"],[0.2222222222222222,\"#7201a8\"],[0.3333333333333333,\"#9c179e\"],[0.4444444444444444,\"#bd3786\"],[0.5555555555555556,\"#d8576b\"],[0.6666666666666666,\"#ed7953\"],[0.7777777777777778,\"#fb9f3a\"],[0.8888888888888888,\"#fdca26\"],[1.0,\"#f0f921\"]],\"diverging\":[[0,\"#8e0152\"],[0.1,\"#c51b7d\"],[0.2,\"#de77ae\"],[0.3,\"#f1b6da\"],[0.4,\"#fde0ef\"],[0.5,\"#f7f7f7\"],[0.6,\"#e6f5d0\"],[0.7,\"#b8e186\"],[0.8,\"#7fbc41\"],[0.9,\"#4d9221\"],[1,\"#276419\"]]},\"xaxis\":{\"gridcolor\":\"white\",\"linecolor\":\"white\",\"ticks\":\"\",\"title\":{\"standoff\":15},\"zerolinecolor\":\"white\",\"automargin\":true,\"zerolinewidth\":2},\"yaxis\":{\"gridcolor\":\"white\",\"linecolor\":\"white\",\"ticks\":\"\",\"title\":{\"standoff\":15},\"zerolinecolor\":\"white\",\"automargin\":true,\"zerolinewidth\":2},\"scene\":{\"xaxis\":{\"backgroundcolor\":\"#E5ECF6\",\"gridcolor\":\"white\",\"linecolor\":\"white\",\"showbackground\":true,\"ticks\":\"\",\"zerolinecolor\":\"white\",\"gridwidth\":2},\"yaxis\":{\"backgroundcolor\":\"#E5ECF6\",\"gridcolor\":\"white\",\"linecolor\":\"white\",\"showbackground\":true,\"ticks\":\"\",\"zerolinecolor\":\"white\",\"gridwidth\":2},\"zaxis\":{\"backgroundcolor\":\"#E5ECF6\",\"gridcolor\":\"white\",\"linecolor\":\"white\",\"showbackground\":true,\"ticks\":\"\",\"zerolinecolor\":\"white\",\"gridwidth\":2}},\"shapedefaults\":{\"line\":{\"color\":\"#2a3f5f\"}},\"annotationdefaults\":{\"arrowcolor\":\"#2a3f5f\",\"arrowhead\":0,\"arrowwidth\":1},\"geo\":{\"bgcolor\":\"white\",\"landcolor\":\"#E5ECF6\",\"subunitcolor\":\"white\",\"showland\":true,\"showlakes\":true,\"lakecolor\":\"white\"},\"title\":{\"x\":0.05},\"mapbox\":{\"style\":\"light\"}}},\"xaxis\":{\"anchor\":\"y\",\"domain\":[0.0,1.0],\"title\":{\"text\":\"gdpPercap\"}},\"yaxis\":{\"anchor\":\"x\",\"domain\":[0.0,1.0],\"title\":{\"text\":\"lifeExp\"}},\"legend\":{\"tracegroupgap\":0},\"margin\":{\"t\":60}},                        {\"responsive\": true}                    ).then(function(){\n",
       "                            \n",
       "var gd = document.getElementById('6e5c3f51-e81d-4d32-9ee6-fe9bf334f19d');\n",
       "var x = new MutationObserver(function (mutations, observer) {{\n",
       "        var display = window.getComputedStyle(gd).display;\n",
       "        if (!display || display === 'none') {{\n",
       "            console.log([gd, 'removed!']);\n",
       "            Plotly.purge(gd);\n",
       "            observer.disconnect();\n",
       "        }}\n",
       "}});\n",
       "\n",
       "// Listen for the removal of the full notebook cells\n",
       "var notebookContainer = gd.closest('#notebook-container');\n",
       "if (notebookContainer) {{\n",
       "    x.observe(notebookContainer, {childList: true});\n",
       "}}\n",
       "\n",
       "// Listen for the clearing of the current output cell\n",
       "var outputEl = gd.closest('.output');\n",
       "if (outputEl) {{\n",
       "    x.observe(outputEl, {childList: true});\n",
       "}}\n",
       "\n",
       "                        })                };                });            </script>        </div>"
      ]
     },
     "metadata": {},
     "output_type": "display_data"
    }
   ],
   "source": [
    "fig = px.scatter(df, x=\"gdpPercap\", y=\"lifeExp\")\n",
    "fig"
   ]
  },
  {
   "cell_type": "code",
   "execution_count": 66,
   "id": "4698ab2f-f42e-43f2-85d2-d107ae375546",
   "metadata": {},
   "outputs": [
    {
     "data": {
      "application/vnd.plotly.v1+json": {
       "config": {
        "plotlyServerURL": "https://plotly.com"
       },
       "data": [
        {
         "hovertemplate": "gdpPercap=%{x}<br>lifeExp=%{y}<extra></extra>",
         "legendgroup": "",
         "marker": {
          "color": "#636efa",
          "symbol": "circle"
         },
         "mode": "markers",
         "name": "",
         "orientation": "v",
         "showlegend": false,
         "type": "scatter",
         "x": [
          6.882006956185797,
          8.688964207477106,
          8.736066432319678,
          8.475794211096686,
          9.455588185282302,
          10.446839438460565,
          10.494781744976294,
          10.302131057660269,
          7.237960628192509,
          10.425033658433435,
          7.27329026764787,
          8.248564991242306,
          8.915472382958686,
          9.439056509151994,
          9.11226446181318,
          9.27620234384137,
          7.104171203548545,
          6.063949594245329,
          7.446455969467286,
          7.621731638185456,
          10.500102769993411,
          6.559638660731664,
          7.440771103403637,
          9.48582122511248,
          8.508982546938816,
          8.854605046315045,
          6.8938063222615895,
          5.626007793925132,
          8.19769230667367,
          9.17420129338591,
          7.342617436444727,
          9.590092566363756,
          9.099196824890761,
          10.035975648428332,
          10.471026688821484,
          7.641315522621272,
          8.703734955926622,
          8.835394138005636,
          8.627155681368093,
          8.653183423565686,
          9.405420997068234,
          6.463605770695175,
          6.537858417895999,
          10.410518517683292,
          10.324498420059683,
          9.48846323946509,
          6.623732804027337,
          10.37880125895925,
          7.191134791182141,
          10.223337104679452,
          8.553727607972682,
          6.848699525142248,
          6.3617026444730875,
          7.091440200971258,
          8.174232587672845,
          10.5897354544633,
          9.79862382679109,
          10.496283571591434,
          7.804745103733494,
          8.172066046818411,
          9.359252884241174,
          8.40538122225756,
          10.61339342717752,
          10.147346142223887,
          10.26010268418614,
          8.898485854096965,
          10.362685133050313,
          8.416148055764452,
          7.288414777482674,
          7.373415413898915,
          10.058272590972555,
          10.764413339037992,
          9.255414944734394,
          7.358404974528663,
          6.027090686119344,
          9.397442092229253,
          6.951552165081218,
          6.632462685785543,
          9.429608889033608,
          6.9494551827472755,
          7.497291244077236,
          9.30173298996425,
          9.390791427138863,
          8.037792676125699,
          9.132799943015339,
          8.248051572276294,
          6.713788928589531,
          6.8501261661455,
          8.478672802210884,
          6.995179700490467,
          10.513196962797394,
          10.134004219902934,
          7.919109238352224,
          6.4291982009074955,
          7.6078668045953535,
          10.806838731715855,
          10.013067831605971,
          7.865551642363522,
          9.191074535454053,
          8.336351770041206,
          8.910438009810923,
          8.067926973126148,
          9.64146833273388,
          9.928650677345093,
          9.869346783112231,
          8.945087873112389,
          9.288085884038223,
          6.760517193245893,
          7.376780360230913,
          9.982983892824338,
          7.445693299055102,
          9.18876271106754,
          6.759882401238381,
          10.760944625212437,
          9.835118469488423,
          10.156898687468367,
          6.831026564620053,
          9.134501743962709,
          10.268861777269361,
          8.286545405382396,
          7.864187451932577,
          8.414823896039525,
          10.429982223586265,
          10.532267372509699,
          8.339153993580391,
          10.26528902275493,
          7.009844413302285,
          8.917095700517491,
          6.7832911612930324,
          9.798599660729607,
          8.866852808894505,
          9.042900694727205,
          6.962603362563226,
          10.4104033814055,
          10.66783041537953,
          9.269690109944033,
          9.342754138163883,
          7.800399176888787,
          8.014781999482128,
          7.732268343018254,
          7.147725734910312,
          6.152113988664138
         ],
         "xaxis": "x",
         "y": [
          43.828,
          76.423,
          72.301,
          42.731,
          75.32,
          81.235,
          79.829,
          75.635,
          64.062,
          79.441,
          56.728,
          65.554,
          74.852,
          50.728,
          72.39,
          73.005,
          52.295,
          49.58,
          59.723,
          50.43,
          80.653,
          44.74100000000001,
          50.651,
          78.553,
          72.961,
          72.889,
          65.152,
          46.462,
          55.322,
          78.782,
          48.328,
          75.748,
          78.273,
          76.486,
          78.332,
          54.791,
          72.235,
          74.994,
          71.33800000000002,
          71.878,
          51.57899999999999,
          58.04,
          52.947,
          79.313,
          80.657,
          56.735,
          59.448,
          79.406,
          60.022,
          79.483,
          70.259,
          56.007,
          46.38800000000001,
          60.916,
          70.19800000000001,
          82.208,
          73.33800000000002,
          81.757,
          64.69800000000001,
          70.65,
          70.964,
          59.545,
          78.885,
          80.745,
          80.546,
          72.567,
          82.603,
          72.535,
          54.11,
          67.297,
          78.623,
          77.58800000000002,
          71.993,
          42.592,
          45.678,
          73.952,
          59.44300000000001,
          48.303,
          74.241,
          54.467,
          64.164,
          72.801,
          76.195,
          66.803,
          74.543,
          71.164,
          42.082,
          62.069,
          52.90600000000001,
          63.785,
          79.762,
          80.204,
          72.899,
          56.867,
          46.859,
          80.196,
          75.64,
          65.483,
          75.53699999999998,
          71.752,
          71.421,
          71.688,
          75.563,
          78.098,
          78.74600000000002,
          76.442,
          72.476,
          46.242,
          65.528,
          72.777,
          63.062,
          74.002,
          42.56800000000001,
          79.972,
          74.663,
          77.926,
          48.159,
          49.339,
          80.941,
          72.396,
          58.556,
          39.613,
          80.884,
          81.70100000000002,
          74.143,
          78.4,
          52.517,
          70.616,
          58.42,
          69.819,
          73.923,
          71.777,
          51.542,
          79.425,
          78.242,
          76.384,
          73.747,
          74.249,
          73.422,
          62.698,
          42.38399999999999,
          43.487
         ],
         "yaxis": "y"
        },
        {
         "hovertemplate": "gdpPercap=%{x}<br>lifeExp=%{y}<extra></extra>",
         "legendgroup": "",
         "line": {
          "color": "red",
          "dash": "solid"
         },
         "marker": {
          "symbol": "circle"
         },
         "mode": "lines",
         "name": "",
         "orientation": "v",
         "showlegend": false,
         "type": "scatter",
         "x": [
          6.4472028982348455,
          9.18112979023825,
          8.97320037638475,
          7.182491931482759,
          9.502500240935827,
          10.330296491715973,
          10.275310434895635,
          9.943461236992972,
          7.7614672084361676,
          10.218647346453267,
          7.36727414856674,
          8.350556130669942,
          9.206160707969897,
          8.11321327183003,
          9.166297393760917,
          9.282803094517611,
          7.033769159705791,
          6.361191196190514,
          7.62204821155626,
          7.187815951138153,
          10.324244589725986,
          6.337290395458988,
          7.109746454321413,
          9.699173418164449,
          8.896722273418083,
          9.065490195136332,
          7.650601548347835,
          5.967121732002084,
          7.750517958001438,
          9.556223481538654,
          6.930216136480889,
          9.593787769964088,
          9.49013716483745,
          9.858173422687495,
          10.179365379444782,
          7.4425100221974825,
          8.953328254215846,
          9.174095926767272,
          8.86466548931201,
          8.908004320184796,
          8.144185406098641,
          7.036110320874604,
          6.7872273479399645,
          10.2042016374651,
          10.236667044090781,
          8.475253735805754,
          7.1952433622847165,
          10.193565640064156,
          7.511178664955211,
          10.120157677558696,
          8.76735769039924,
          7.114489340282362,
          6.330813514640367,
          7.511536025475596,
          8.57418458294152,
          10.456385584643437,
          9.5627142278531,
          10.384332686062931,
          8.08057550994047,
          8.59848442699179,
          9.209711248238417,
          8.091514832692564,
          10.281603753724683,
          10.153032750469386,
          10.198235712200468,
          9.069347937828729,
          10.365042570438288,
          8.826382004009199,
          7.227816505913209,
          8.010863573268733,
          9.989330114398523,
          10.28427764886443,
          9.21557817405435,
          6.615991443923592,
          6.12363582909399,
          9.396603962981864,
          7.358872256147084,
          6.573734827828427,
          9.428916830596417,
          7.078384876396091,
          7.8968605643358405,
          9.284112321664434,
          9.519239528164555,
          8.315310481922216,
          9.297471872127552,
          8.665342058838936,
          6.26504318116748,
          7.455628412913477,
          7.755332089447901,
          7.624521163367748,
          10.280755502500895,
          10.115980672202005,
          8.59830386448407,
          6.953033984471709,
          6.980345698504368,
          10.451948669445146,
          9.799210410630398,
          8.1550622855936,
          9.382429557264214,
          8.74251266947529,
          9.010967712165353,
          8.604706201711215,
          9.609086546559913,
          9.895036557804525,
          9.901774562416882,
          9.310258612381272,
          9.25903763550411,
          6.5220218184212095,
          7.91320372450846,
          9.623389997104523,
          7.8091762109526695,
          9.295072139046747,
          6.3153823812884955,
          10.416422373620522,
          9.655370015313869,
          9.999501501604817,
          6.664930111305951,
          7.882933353816737,
          10.224797405243422,
          8.753774809543014,
          7.765378345277339,
          6.976908209925847,
          10.30215666042573,
          10.399179775878837,
          8.878185964244159,
          10.08031524504971,
          6.9990726924897455,
          8.969089904522226,
          7.217292802681155,
          9.365084490295192,
          9.129680758659962,
          9.09719106514116,
          6.9206987675282905,
          10.210433690612662,
          10.272713082761474,
          9.469302605488036,
          9.357747732701647,
          8.614761233187325,
          8.67551053016346,
          7.93202246375326,
          6.498971098868138,
          6.063106763950071
         ],
         "xaxis": "x",
         "y": [
          47.69930260095025,
          72.04097580818268,
          70.18966447392664,
          54.24599022911389,
          74.90231585067703,
          82.27264673904133,
          81.78307526220708,
          78.82843709940329,
          59.400929458794366,
          81.27857223917051,
          55.89120918354984,
          64.64591610308149,
          72.26384000447229,
          62.53272049245644,
          71.90891472454969,
          72.94622984182442,
          52.92182859199859,
          46.93349253145466,
          58.15960450937555,
          54.293392940203034,
          82.21876328628575,
          46.72069039599899,
          53.598296745595725,
          76.65340664345936,
          69.5087373447599,
          71.01137211174849,
          58.413830763628916,
          43.42487269736877,
          59.3034421862832,
          75.38064377166587,
          51.9998383740691,
          75.71509954507688,
          74.79224050114843,
          78.06907220546432,
          80.92882301703345,
          56.56107605333953,
          70.01273190664237,
          71.97834940566416,
          69.22331794855467,
          69.60918768829588,
          62.808482647290276,
          52.94267325330369,
          50.72672958204478,
          81.14995404953817,
          81.43901163953214,
          65.75616830580816,
          54.35952331678122,
          81.05525584318742,
          57.1724712104236,
          80.40166388381822,
          68.35693243964516,
          53.64052529986258,
          46.663023120129196,
          57.17565299009365,
          66.63700471666361,
          83.39528813227463,
          75.4384344997645,
          82.7537610614482,
          62.24212832759099,
          66.85335975694963,
          72.29545244121235,
          62.3395272084165,
          81.83910818348733,
          80.69436896082541,
          81.09683609543514,
          71.04571974270034,
          82.58201042245408,
          68.88245876493836,
          54.649540149292775,
          61.62144414394655,
          79.236833252005,
          81.86291536058212,
          72.34768894810661,
          49.202120994630384,
          44.818404841509036,
          73.95946233130996,
          55.816402457664154,
          48.82588681556708,
          74.24716178156324,
          53.31906715706714,
          60.606411885328924,
          72.95788662001232,
          75.05135504431291,
          64.33210446960166,
          73.07683413558777,
          67.44863047563373,
          46.077433224214104,
          56.677876389422956,
          59.34630507877283,
          58.18162257614557,
          81.83155573058617,
          80.36447367961969,
          66.85175210841695,
          52.20299837835065,
          52.44616977391975,
          83.35578380605402,
          77.5440916820253,
          62.90532556103282,
          73.83325970574052,
          68.13572338613078,
          70.52592809098539,
          66.90875568119041,
          75.85131307055748,
          78.39728522061019,
          78.45727742699383,
          73.19068160296234,
          72.73463272903456,
          48.36545710208978,
          60.75192413924433,
          75.97866465406584,
          59.82570926973097,
          73.05546797594086,
          46.52563114876114,
          83.03947341540098,
          76.26340056075382,
          79.32739477512546,
          49.63784919647191,
          60.4824101762357,
          81.33332963656586,
          68.2359964892428,
          59.43575248757946,
          52.4155638993162,
          82.02210215448157,
          82.88595296805488,
          69.34369826427107,
          80.04692452529636,
          52.61290662744688,
          70.15306665446859,
          54.555841760446384,
          73.67882691781469,
          71.58289643628346,
          71.29362260655854,
          51.91509993957971,
          81.20544148834705,
          81.7599495901056,
          74.60673881981837,
          73.61350368028951,
          66.9982812244651,
          67.53916603703541,
          60.9194778518944,
          48.16022371264049,
          44.27948087555291
         ],
         "yaxis": "y"
        }
       ],
       "layout": {
        "autosize": true,
        "legend": {
         "tracegroupgap": 0
        },
        "margin": {
         "t": 60
        },
        "template": {
         "data": {
          "bar": [
           {
            "error_x": {
             "color": "#2a3f5f"
            },
            "error_y": {
             "color": "#2a3f5f"
            },
            "marker": {
             "line": {
              "color": "#E5ECF6",
              "width": 0.5
             },
             "pattern": {
              "fillmode": "overlay",
              "size": 10,
              "solidity": 0.2
             }
            },
            "type": "bar"
           }
          ],
          "barpolar": [
           {
            "marker": {
             "line": {
              "color": "#E5ECF6",
              "width": 0.5
             },
             "pattern": {
              "fillmode": "overlay",
              "size": 10,
              "solidity": 0.2
             }
            },
            "type": "barpolar"
           }
          ],
          "carpet": [
           {
            "aaxis": {
             "endlinecolor": "#2a3f5f",
             "gridcolor": "white",
             "linecolor": "white",
             "minorgridcolor": "white",
             "startlinecolor": "#2a3f5f"
            },
            "baxis": {
             "endlinecolor": "#2a3f5f",
             "gridcolor": "white",
             "linecolor": "white",
             "minorgridcolor": "white",
             "startlinecolor": "#2a3f5f"
            },
            "type": "carpet"
           }
          ],
          "choropleth": [
           {
            "colorbar": {
             "outlinewidth": 0,
             "ticks": ""
            },
            "type": "choropleth"
           }
          ],
          "contour": [
           {
            "colorbar": {
             "outlinewidth": 0,
             "ticks": ""
            },
            "colorscale": [
             [
              0,
              "#0d0887"
             ],
             [
              0.1111111111111111,
              "#46039f"
             ],
             [
              0.2222222222222222,
              "#7201a8"
             ],
             [
              0.3333333333333333,
              "#9c179e"
             ],
             [
              0.4444444444444444,
              "#bd3786"
             ],
             [
              0.5555555555555556,
              "#d8576b"
             ],
             [
              0.6666666666666666,
              "#ed7953"
             ],
             [
              0.7777777777777778,
              "#fb9f3a"
             ],
             [
              0.8888888888888888,
              "#fdca26"
             ],
             [
              1,
              "#f0f921"
             ]
            ],
            "type": "contour"
           }
          ],
          "contourcarpet": [
           {
            "colorbar": {
             "outlinewidth": 0,
             "ticks": ""
            },
            "type": "contourcarpet"
           }
          ],
          "heatmap": [
           {
            "colorbar": {
             "outlinewidth": 0,
             "ticks": ""
            },
            "colorscale": [
             [
              0,
              "#0d0887"
             ],
             [
              0.1111111111111111,
              "#46039f"
             ],
             [
              0.2222222222222222,
              "#7201a8"
             ],
             [
              0.3333333333333333,
              "#9c179e"
             ],
             [
              0.4444444444444444,
              "#bd3786"
             ],
             [
              0.5555555555555556,
              "#d8576b"
             ],
             [
              0.6666666666666666,
              "#ed7953"
             ],
             [
              0.7777777777777778,
              "#fb9f3a"
             ],
             [
              0.8888888888888888,
              "#fdca26"
             ],
             [
              1,
              "#f0f921"
             ]
            ],
            "type": "heatmap"
           }
          ],
          "heatmapgl": [
           {
            "colorbar": {
             "outlinewidth": 0,
             "ticks": ""
            },
            "colorscale": [
             [
              0,
              "#0d0887"
             ],
             [
              0.1111111111111111,
              "#46039f"
             ],
             [
              0.2222222222222222,
              "#7201a8"
             ],
             [
              0.3333333333333333,
              "#9c179e"
             ],
             [
              0.4444444444444444,
              "#bd3786"
             ],
             [
              0.5555555555555556,
              "#d8576b"
             ],
             [
              0.6666666666666666,
              "#ed7953"
             ],
             [
              0.7777777777777778,
              "#fb9f3a"
             ],
             [
              0.8888888888888888,
              "#fdca26"
             ],
             [
              1,
              "#f0f921"
             ]
            ],
            "type": "heatmapgl"
           }
          ],
          "histogram": [
           {
            "marker": {
             "pattern": {
              "fillmode": "overlay",
              "size": 10,
              "solidity": 0.2
             }
            },
            "type": "histogram"
           }
          ],
          "histogram2d": [
           {
            "colorbar": {
             "outlinewidth": 0,
             "ticks": ""
            },
            "colorscale": [
             [
              0,
              "#0d0887"
             ],
             [
              0.1111111111111111,
              "#46039f"
             ],
             [
              0.2222222222222222,
              "#7201a8"
             ],
             [
              0.3333333333333333,
              "#9c179e"
             ],
             [
              0.4444444444444444,
              "#bd3786"
             ],
             [
              0.5555555555555556,
              "#d8576b"
             ],
             [
              0.6666666666666666,
              "#ed7953"
             ],
             [
              0.7777777777777778,
              "#fb9f3a"
             ],
             [
              0.8888888888888888,
              "#fdca26"
             ],
             [
              1,
              "#f0f921"
             ]
            ],
            "type": "histogram2d"
           }
          ],
          "histogram2dcontour": [
           {
            "colorbar": {
             "outlinewidth": 0,
             "ticks": ""
            },
            "colorscale": [
             [
              0,
              "#0d0887"
             ],
             [
              0.1111111111111111,
              "#46039f"
             ],
             [
              0.2222222222222222,
              "#7201a8"
             ],
             [
              0.3333333333333333,
              "#9c179e"
             ],
             [
              0.4444444444444444,
              "#bd3786"
             ],
             [
              0.5555555555555556,
              "#d8576b"
             ],
             [
              0.6666666666666666,
              "#ed7953"
             ],
             [
              0.7777777777777778,
              "#fb9f3a"
             ],
             [
              0.8888888888888888,
              "#fdca26"
             ],
             [
              1,
              "#f0f921"
             ]
            ],
            "type": "histogram2dcontour"
           }
          ],
          "mesh3d": [
           {
            "colorbar": {
             "outlinewidth": 0,
             "ticks": ""
            },
            "type": "mesh3d"
           }
          ],
          "parcoords": [
           {
            "line": {
             "colorbar": {
              "outlinewidth": 0,
              "ticks": ""
             }
            },
            "type": "parcoords"
           }
          ],
          "pie": [
           {
            "automargin": true,
            "type": "pie"
           }
          ],
          "scatter": [
           {
            "fillpattern": {
             "fillmode": "overlay",
             "size": 10,
             "solidity": 0.2
            },
            "type": "scatter"
           }
          ],
          "scatter3d": [
           {
            "line": {
             "colorbar": {
              "outlinewidth": 0,
              "ticks": ""
             }
            },
            "marker": {
             "colorbar": {
              "outlinewidth": 0,
              "ticks": ""
             }
            },
            "type": "scatter3d"
           }
          ],
          "scattercarpet": [
           {
            "marker": {
             "colorbar": {
              "outlinewidth": 0,
              "ticks": ""
             }
            },
            "type": "scattercarpet"
           }
          ],
          "scattergeo": [
           {
            "marker": {
             "colorbar": {
              "outlinewidth": 0,
              "ticks": ""
             }
            },
            "type": "scattergeo"
           }
          ],
          "scattergl": [
           {
            "marker": {
             "colorbar": {
              "outlinewidth": 0,
              "ticks": ""
             }
            },
            "type": "scattergl"
           }
          ],
          "scattermapbox": [
           {
            "marker": {
             "colorbar": {
              "outlinewidth": 0,
              "ticks": ""
             }
            },
            "type": "scattermapbox"
           }
          ],
          "scatterpolar": [
           {
            "marker": {
             "colorbar": {
              "outlinewidth": 0,
              "ticks": ""
             }
            },
            "type": "scatterpolar"
           }
          ],
          "scatterpolargl": [
           {
            "marker": {
             "colorbar": {
              "outlinewidth": 0,
              "ticks": ""
             }
            },
            "type": "scatterpolargl"
           }
          ],
          "scatterternary": [
           {
            "marker": {
             "colorbar": {
              "outlinewidth": 0,
              "ticks": ""
             }
            },
            "type": "scatterternary"
           }
          ],
          "surface": [
           {
            "colorbar": {
             "outlinewidth": 0,
             "ticks": ""
            },
            "colorscale": [
             [
              0,
              "#0d0887"
             ],
             [
              0.1111111111111111,
              "#46039f"
             ],
             [
              0.2222222222222222,
              "#7201a8"
             ],
             [
              0.3333333333333333,
              "#9c179e"
             ],
             [
              0.4444444444444444,
              "#bd3786"
             ],
             [
              0.5555555555555556,
              "#d8576b"
             ],
             [
              0.6666666666666666,
              "#ed7953"
             ],
             [
              0.7777777777777778,
              "#fb9f3a"
             ],
             [
              0.8888888888888888,
              "#fdca26"
             ],
             [
              1,
              "#f0f921"
             ]
            ],
            "type": "surface"
           }
          ],
          "table": [
           {
            "cells": {
             "fill": {
              "color": "#EBF0F8"
             },
             "line": {
              "color": "white"
             }
            },
            "header": {
             "fill": {
              "color": "#C8D4E3"
             },
             "line": {
              "color": "white"
             }
            },
            "type": "table"
           }
          ]
         },
         "layout": {
          "annotationdefaults": {
           "arrowcolor": "#2a3f5f",
           "arrowhead": 0,
           "arrowwidth": 1
          },
          "autotypenumbers": "strict",
          "coloraxis": {
           "colorbar": {
            "outlinewidth": 0,
            "ticks": ""
           }
          },
          "colorscale": {
           "diverging": [
            [
             0,
             "#8e0152"
            ],
            [
             0.1,
             "#c51b7d"
            ],
            [
             0.2,
             "#de77ae"
            ],
            [
             0.3,
             "#f1b6da"
            ],
            [
             0.4,
             "#fde0ef"
            ],
            [
             0.5,
             "#f7f7f7"
            ],
            [
             0.6,
             "#e6f5d0"
            ],
            [
             0.7,
             "#b8e186"
            ],
            [
             0.8,
             "#7fbc41"
            ],
            [
             0.9,
             "#4d9221"
            ],
            [
             1,
             "#276419"
            ]
           ],
           "sequential": [
            [
             0,
             "#0d0887"
            ],
            [
             0.1111111111111111,
             "#46039f"
            ],
            [
             0.2222222222222222,
             "#7201a8"
            ],
            [
             0.3333333333333333,
             "#9c179e"
            ],
            [
             0.4444444444444444,
             "#bd3786"
            ],
            [
             0.5555555555555556,
             "#d8576b"
            ],
            [
             0.6666666666666666,
             "#ed7953"
            ],
            [
             0.7777777777777778,
             "#fb9f3a"
            ],
            [
             0.8888888888888888,
             "#fdca26"
            ],
            [
             1,
             "#f0f921"
            ]
           ],
           "sequentialminus": [
            [
             0,
             "#0d0887"
            ],
            [
             0.1111111111111111,
             "#46039f"
            ],
            [
             0.2222222222222222,
             "#7201a8"
            ],
            [
             0.3333333333333333,
             "#9c179e"
            ],
            [
             0.4444444444444444,
             "#bd3786"
            ],
            [
             0.5555555555555556,
             "#d8576b"
            ],
            [
             0.6666666666666666,
             "#ed7953"
            ],
            [
             0.7777777777777778,
             "#fb9f3a"
            ],
            [
             0.8888888888888888,
             "#fdca26"
            ],
            [
             1,
             "#f0f921"
            ]
           ]
          },
          "colorway": [
           "#636efa",
           "#EF553B",
           "#00cc96",
           "#ab63fa",
           "#FFA15A",
           "#19d3f3",
           "#FF6692",
           "#B6E880",
           "#FF97FF",
           "#FECB52"
          ],
          "font": {
           "color": "#2a3f5f"
          },
          "geo": {
           "bgcolor": "white",
           "lakecolor": "white",
           "landcolor": "#E5ECF6",
           "showlakes": true,
           "showland": true,
           "subunitcolor": "white"
          },
          "hoverlabel": {
           "align": "left"
          },
          "hovermode": "closest",
          "mapbox": {
           "style": "light"
          },
          "paper_bgcolor": "white",
          "plot_bgcolor": "#E5ECF6",
          "polar": {
           "angularaxis": {
            "gridcolor": "white",
            "linecolor": "white",
            "ticks": ""
           },
           "bgcolor": "#E5ECF6",
           "radialaxis": {
            "gridcolor": "white",
            "linecolor": "white",
            "ticks": ""
           }
          },
          "scene": {
           "xaxis": {
            "backgroundcolor": "#E5ECF6",
            "gridcolor": "white",
            "gridwidth": 2,
            "linecolor": "white",
            "showbackground": true,
            "ticks": "",
            "zerolinecolor": "white"
           },
           "yaxis": {
            "backgroundcolor": "#E5ECF6",
            "gridcolor": "white",
            "gridwidth": 2,
            "linecolor": "white",
            "showbackground": true,
            "ticks": "",
            "zerolinecolor": "white"
           },
           "zaxis": {
            "backgroundcolor": "#E5ECF6",
            "gridcolor": "white",
            "gridwidth": 2,
            "linecolor": "white",
            "showbackground": true,
            "ticks": "",
            "zerolinecolor": "white"
           }
          },
          "shapedefaults": {
           "line": {
            "color": "#2a3f5f"
           }
          },
          "ternary": {
           "aaxis": {
            "gridcolor": "white",
            "linecolor": "white",
            "ticks": ""
           },
           "baxis": {
            "gridcolor": "white",
            "linecolor": "white",
            "ticks": ""
           },
           "bgcolor": "#E5ECF6",
           "caxis": {
            "gridcolor": "white",
            "linecolor": "white",
            "ticks": ""
           }
          },
          "title": {
           "x": 0.05
          },
          "xaxis": {
           "automargin": true,
           "gridcolor": "white",
           "linecolor": "white",
           "ticks": "",
           "title": {
            "standoff": 15
           },
           "zerolinecolor": "white",
           "zerolinewidth": 2
          },
          "yaxis": {
           "automargin": true,
           "gridcolor": "white",
           "linecolor": "white",
           "ticks": "",
           "title": {
            "standoff": 15
           },
           "zerolinecolor": "white",
           "zerolinewidth": 2
          }
         }
        },
        "xaxis": {
         "anchor": "y",
         "autorange": true,
         "domain": [
          0,
          1
         ],
         "range": [
          5.319799595081088,
          11.113046930559898
         ],
         "title": {
          "text": "gdpPercap"
         },
         "type": "linear"
        },
        "yaxis": {
         "anchor": "x",
         "autorange": true,
         "domain": [
          0,
          1
         ],
         "range": [
          36.284377952755904,
          85.93162204724409
         ],
         "title": {
          "text": "lifeExp"
         },
         "type": "linear"
        }
       }
      },
      "image/png": "[encoded data removed]",
      "text/html": [
       "<div>                            <div id=\"f40f4921-47d8-4670-baf5-22c939b86c30\" class=\"plotly-graph-div\" style=\"height:525px; width:100%;\"></div>            <script type=\"text/javascript\">                require([\"plotly\"], function(Plotly) {                    window.PLOTLYENV=window.PLOTLYENV || {};                                    if (document.getElementById(\"f40f4921-47d8-4670-baf5-22c939b86c30\")) {                    Plotly.newPlot(                        \"f40f4921-47d8-4670-baf5-22c939b86c30\",                        [{\"hovertemplate\":\"gdpPercap=%{x}<br>lifeExp=%{y}<extra></extra>\",\"legendgroup\":\"\",\"marker\":{\"color\":\"#636efa\",\"symbol\":\"circle\"},\"mode\":\"markers\",\"name\":\"\",\"orientation\":\"v\",\"showlegend\":false,\"x\":[6.882006956185797,8.688964207477106,8.736066432319678,8.475794211096686,9.455588185282302,10.446839438460565,10.494781744976294,10.302131057660269,7.237960628192509,10.425033658433435,7.27329026764787,8.248564991242306,8.915472382958686,9.439056509151994,9.11226446181318,9.27620234384137,7.104171203548545,6.063949594245329,7.446455969467286,7.621731638185456,10.500102769993411,6.559638660731664,7.440771103403637,9.48582122511248,8.508982546938816,8.854605046315045,6.8938063222615895,5.626007793925132,8.19769230667367,9.17420129338591,7.342617436444727,9.590092566363756,9.099196824890761,10.035975648428332,10.471026688821484,7.641315522621272,8.703734955926622,8.835394138005636,8.627155681368093,8.653183423565686,9.405420997068234,6.463605770695175,6.537858417895999,10.410518517683292,10.324498420059683,9.48846323946509,6.623732804027337,10.37880125895925,7.191134791182141,10.223337104679452,8.553727607972682,6.848699525142248,6.3617026444730875,7.091440200971258,8.174232587672845,10.5897354544633,9.79862382679109,10.496283571591434,7.804745103733494,8.172066046818411,9.359252884241174,8.40538122225756,10.61339342717752,10.147346142223887,10.26010268418614,8.898485854096965,10.362685133050313,8.416148055764452,7.288414777482674,7.373415413898915,10.058272590972555,10.764413339037992,9.255414944734394,7.358404974528663,6.027090686119344,9.397442092229253,6.951552165081218,6.632462685785543,9.429608889033608,6.9494551827472755,7.497291244077236,9.30173298996425,9.390791427138863,8.037792676125699,9.132799943015339,8.248051572276294,6.713788928589531,6.8501261661455,8.478672802210884,6.995179700490467,10.513196962797394,10.134004219902934,7.919109238352224,6.4291982009074955,7.6078668045953535,10.806838731715855,10.013067831605971,7.865551642363522,9.191074535454053,8.336351770041206,8.910438009810923,8.067926973126148,9.64146833273388,9.928650677345093,9.869346783112231,8.945087873112389,9.288085884038223,6.760517193245893,7.376780360230913,9.982983892824338,7.445693299055102,9.18876271106754,6.759882401238381,10.760944625212437,9.835118469488423,10.156898687468367,6.831026564620053,9.134501743962709,10.268861777269361,8.286545405382396,7.864187451932577,8.414823896039525,10.429982223586265,10.532267372509699,8.339153993580391,10.26528902275493,7.009844413302285,8.917095700517491,6.7832911612930324,9.798599660729607,8.866852808894505,9.042900694727205,6.962603362563226,10.4104033814055,10.66783041537953,9.269690109944033,9.342754138163883,7.800399176888787,8.014781999482128,7.732268343018254,7.147725734910312,6.152113988664138],\"xaxis\":\"x\",\"y\":[43.828,76.423,72.301,42.731,75.32,81.235,79.829,75.635,64.062,79.441,56.728,65.554,74.852,50.728,72.39,73.005,52.295,49.58,59.723,50.43,80.653,44.74100000000001,50.651,78.553,72.961,72.889,65.152,46.462,55.322,78.782,48.328,75.748,78.273,76.486,78.332,54.791,72.235,74.994,71.33800000000002,71.878,51.57899999999999,58.04,52.947,79.313,80.657,56.735,59.448,79.406,60.022,79.483,70.259,56.007,46.38800000000001,60.916,70.19800000000001,82.208,73.33800000000002,81.757,64.69800000000001,70.65,70.964,59.545,78.885,80.745,80.546,72.567,82.603,72.535,54.11,67.297,78.623,77.58800000000002,71.993,42.592,45.678,73.952,59.44300000000001,48.303,74.241,54.467,64.164,72.801,76.195,66.803,74.543,71.164,42.082,62.069,52.90600000000001,63.785,79.762,80.204,72.899,56.867,46.859,80.196,75.64,65.483,75.53699999999998,71.752,71.421,71.688,75.563,78.098,78.74600000000002,76.442,72.476,46.242,65.528,72.777,63.062,74.002,42.56800000000001,79.972,74.663,77.926,48.159,49.339,80.941,72.396,58.556,39.613,80.884,81.70100000000002,74.143,78.4,52.517,70.616,58.42,69.819,73.923,71.777,51.542,79.425,78.242,76.384,73.747,74.249,73.422,62.698,42.38399999999999,43.487],\"yaxis\":\"y\",\"type\":\"scatter\"},{\"hovertemplate\":\"gdpPercap=%{x}<br>lifeExp=%{y}<extra></extra>\",\"legendgroup\":\"\",\"line\":{\"color\":\"red\",\"dash\":\"solid\"},\"marker\":{\"symbol\":\"circle\"},\"mode\":\"lines\",\"name\":\"\",\"orientation\":\"v\",\"showlegend\":false,\"x\":[6.4472028982348455,9.18112979023825,8.97320037638475,7.182491931482759,9.502500240935827,10.330296491715973,10.275310434895635,9.943461236992972,7.7614672084361676,10.218647346453267,7.36727414856674,8.350556130669942,9.206160707969897,8.11321327183003,9.166297393760917,9.282803094517611,7.033769159705791,6.361191196190514,7.62204821155626,7.187815951138153,10.324244589725986,6.337290395458988,7.109746454321413,9.699173418164449,8.896722273418083,9.065490195136332,7.650601548347835,5.967121732002084,7.750517958001438,9.556223481538654,6.930216136480889,9.593787769964088,9.49013716483745,9.858173422687495,10.179365379444782,7.4425100221974825,8.953328254215846,9.174095926767272,8.86466548931201,8.908004320184796,8.144185406098641,7.036110320874604,6.7872273479399645,10.2042016374651,10.236667044090781,8.475253735805754,7.1952433622847165,10.193565640064156,7.511178664955211,10.120157677558696,8.76735769039924,7.114489340282362,6.330813514640367,7.511536025475596,8.57418458294152,10.456385584643437,9.5627142278531,10.384332686062931,8.08057550994047,8.59848442699179,9.209711248238417,8.091514832692564,10.281603753724683,10.153032750469386,10.198235712200468,9.069347937828729,10.365042570438288,8.826382004009199,7.227816505913209,8.010863573268733,9.989330114398523,10.28427764886443,9.21557817405435,6.615991443923592,6.12363582909399,9.396603962981864,7.358872256147084,6.573734827828427,9.428916830596417,7.078384876396091,7.8968605643358405,9.284112321664434,9.519239528164555,8.315310481922216,9.297471872127552,8.665342058838936,6.26504318116748,7.455628412913477,7.755332089447901,7.624521163367748,10.280755502500895,10.115980672202005,8.59830386448407,6.953033984471709,6.980345698504368,10.451948669445146,9.799210410630398,8.1550622855936,9.382429557264214,8.74251266947529,9.010967712165353,8.604706201711215,9.609086546559913,9.895036557804525,9.901774562416882,9.310258612381272,9.25903763550411,6.5220218184212095,7.91320372450846,9.623389997104523,7.8091762109526695,9.295072139046747,6.3153823812884955,10.416422373620522,9.655370015313869,9.999501501604817,6.664930111305951,7.882933353816737,10.224797405243422,8.753774809543014,7.765378345277339,6.976908209925847,10.30215666042573,10.399179775878837,8.878185964244159,10.08031524504971,6.9990726924897455,8.969089904522226,7.217292802681155,9.365084490295192,9.129680758659962,9.09719106514116,6.9206987675282905,10.210433690612662,10.272713082761474,9.469302605488036,9.357747732701647,8.614761233187325,8.67551053016346,7.93202246375326,6.498971098868138,6.063106763950071],\"xaxis\":\"x\",\"y\":[47.69930260095025,72.04097580818268,70.18966447392664,54.24599022911389,74.90231585067703,82.27264673904133,81.78307526220708,78.82843709940329,59.400929458794366,81.27857223917051,55.89120918354984,64.64591610308149,72.26384000447229,62.53272049245644,71.90891472454969,72.94622984182442,52.92182859199859,46.93349253145466,58.15960450937555,54.293392940203034,82.21876328628575,46.72069039599899,53.598296745595725,76.65340664345936,69.5087373447599,71.01137211174849,58.413830763628916,43.42487269736877,59.3034421862832,75.38064377166587,51.9998383740691,75.71509954507688,74.79224050114843,78.06907220546432,80.92882301703345,56.56107605333953,70.01273190664237,71.97834940566416,69.22331794855467,69.60918768829588,62.808482647290276,52.94267325330369,50.72672958204478,81.14995404953817,81.43901163953214,65.75616830580816,54.35952331678122,81.05525584318742,57.1724712104236,80.40166388381822,68.35693243964516,53.64052529986258,46.663023120129196,57.17565299009365,66.63700471666361,83.39528813227463,75.4384344997645,82.7537610614482,62.24212832759099,66.85335975694963,72.29545244121235,62.3395272084165,81.83910818348733,80.69436896082541,81.09683609543514,71.04571974270034,82.58201042245408,68.88245876493836,54.649540149292775,61.62144414394655,79.236833252005,81.86291536058212,72.34768894810661,49.202120994630384,44.818404841509036,73.95946233130996,55.816402457664154,48.82588681556708,74.24716178156324,53.31906715706714,60.606411885328924,72.95788662001232,75.05135504431291,64.33210446960166,73.07683413558777,67.44863047563373,46.077433224214104,56.677876389422956,59.34630507877283,58.18162257614557,81.83155573058617,80.36447367961969,66.85175210841695,52.20299837835065,52.44616977391975,83.35578380605402,77.5440916820253,62.90532556103282,73.83325970574052,68.13572338613078,70.52592809098539,66.90875568119041,75.85131307055748,78.39728522061019,78.45727742699383,73.19068160296234,72.73463272903456,48.36545710208978,60.75192413924433,75.97866465406584,59.82570926973097,73.05546797594086,46.52563114876114,83.03947341540098,76.26340056075382,79.32739477512546,49.63784919647191,60.4824101762357,81.33332963656586,68.2359964892428,59.43575248757946,52.4155638993162,82.02210215448157,82.88595296805488,69.34369826427107,80.04692452529636,52.61290662744688,70.15306665446859,54.555841760446384,73.67882691781469,71.58289643628346,71.29362260655854,51.91509993957971,81.20544148834705,81.7599495901056,74.60673881981837,73.61350368028951,66.9982812244651,67.53916603703541,60.9194778518944,48.16022371264049,44.27948087555291],\"yaxis\":\"y\",\"type\":\"scatter\"}],                        {\"template\":{\"data\":{\"histogram2dcontour\":[{\"type\":\"histogram2dcontour\",\"colorbar\":{\"outlinewidth\":0,\"ticks\":\"\"},\"colorscale\":[[0.0,\"#0d0887\"],[0.1111111111111111,\"#46039f\"],[0.2222222222222222,\"#7201a8\"],[0.3333333333333333,\"#9c179e\"],[0.4444444444444444,\"#bd3786\"],[0.5555555555555556,\"#d8576b\"],[0.6666666666666666,\"#ed7953\"],[0.7777777777777778,\"#fb9f3a\"],[0.8888888888888888,\"#fdca26\"],[1.0,\"#f0f921\"]]}],\"choropleth\":[{\"type\":\"choropleth\",\"colorbar\":{\"outlinewidth\":0,\"ticks\":\"\"}}],\"histogram2d\":[{\"type\":\"histogram2d\",\"colorbar\":{\"outlinewidth\":0,\"ticks\":\"\"},\"colorscale\":[[0.0,\"#0d0887\"],[0.1111111111111111,\"#46039f\"],[0.2222222222222222,\"#7201a8\"],[0.3333333333333333,\"#9c179e\"],[0.4444444444444444,\"#bd3786\"],[0.5555555555555556,\"#d8576b\"],[0.6666666666666666,\"#ed7953\"],[0.7777777777777778,\"#fb9f3a\"],[0.8888888888888888,\"#fdca26\"],[1.0,\"#f0f921\"]]}],\"heatmap\":[{\"type\":\"heatmap\",\"colorbar\":{\"outlinewidth\":0,\"ticks\":\"\"},\"colorscale\":[[0.0,\"#0d0887\"],[0.1111111111111111,\"#46039f\"],[0.2222222222222222,\"#7201a8\"],[0.3333333333333333,\"#9c179e\"],[0.4444444444444444,\"#bd3786\"],[0.5555555555555556,\"#d8576b\"],[0.6666666666666666,\"#ed7953\"],[0.7777777777777778,\"#fb9f3a\"],[0.8888888888888888,\"#fdca26\"],[1.0,\"#f0f921\"]]}],\"heatmapgl\":[{\"type\":\"heatmapgl\",\"colorbar\":{\"outlinewidth\":0,\"ticks\":\"\"},\"colorscale\":[[0.0,\"#0d0887\"],[0.1111111111111111,\"#46039f\"],[0.2222222222222222,\"#7201a8\"],[0.3333333333333333,\"#9c179e\"],[0.4444444444444444,\"#bd3786\"],[0.5555555555555556,\"#d8576b\"],[0.6666666666666666,\"#ed7953\"],[0.7777777777777778,\"#fb9f3a\"],[0.8888888888888888,\"#fdca26\"],[1.0,\"#f0f921\"]]}],\"contourcarpet\":[{\"type\":\"contourcarpet\",\"colorbar\":{\"outlinewidth\":0,\"ticks\":\"\"}}],\"contour\":[{\"type\":\"contour\",\"colorbar\":{\"outlinewidth\":0,\"ticks\":\"\"},\"colorscale\":[[0.0,\"#0d0887\"],[0.1111111111111111,\"#46039f\"],[0.2222222222222222,\"#7201a8\"],[0.3333333333333333,\"#9c179e\"],[0.4444444444444444,\"#bd3786\"],[0.5555555555555556,\"#d8576b\"],[0.6666666666666666,\"#ed7953\"],[0.7777777777777778,\"#fb9f3a\"],[0.8888888888888888,\"#fdca26\"],[1.0,\"#f0f921\"]]}],\"surface\":[{\"type\":\"surface\",\"colorbar\":{\"outlinewidth\":0,\"ticks\":\"\"},\"colorscale\":[[0.0,\"#0d0887\"],[0.1111111111111111,\"#46039f\"],[0.2222222222222222,\"#7201a8\"],[0.3333333333333333,\"#9c179e\"],[0.4444444444444444,\"#bd3786\"],[0.5555555555555556,\"#d8576b\"],[0.6666666666666666,\"#ed7953\"],[0.7777777777777778,\"#fb9f3a\"],[0.8888888888888888,\"#fdca26\"],[1.0,\"#f0f921\"]]}],\"mesh3d\":[{\"type\":\"mesh3d\",\"colorbar\":{\"outlinewidth\":0,\"ticks\":\"\"}}],\"scatter\":[{\"fillpattern\":{\"fillmode\":\"overlay\",\"size\":10,\"solidity\":0.2},\"type\":\"scatter\"}],\"parcoords\":[{\"type\":\"parcoords\",\"line\":{\"colorbar\":{\"outlinewidth\":0,\"ticks\":\"\"}}}],\"scatterpolargl\":[{\"type\":\"scatterpolargl\",\"marker\":{\"colorbar\":{\"outlinewidth\":0,\"ticks\":\"\"}}}],\"bar\":[{\"error_x\":{\"color\":\"#2a3f5f\"},\"error_y\":{\"color\":\"#2a3f5f\"},\"marker\":{\"line\":{\"color\":\"#E5ECF6\",\"width\":0.5},\"pattern\":{\"fillmode\":\"overlay\",\"size\":10,\"solidity\":0.2}},\"type\":\"bar\"}],\"scattergeo\":[{\"type\":\"scattergeo\",\"marker\":{\"colorbar\":{\"outlinewidth\":0,\"ticks\":\"\"}}}],\"scatterpolar\":[{\"type\":\"scatterpolar\",\"marker\":{\"colorbar\":{\"outlinewidth\":0,\"ticks\":\"\"}}}],\"histogram\":[{\"marker\":{\"pattern\":{\"fillmode\":\"overlay\",\"size\":10,\"solidity\":0.2}},\"type\":\"histogram\"}],\"scattergl\":[{\"type\":\"scattergl\",\"marker\":{\"colorbar\":{\"outlinewidth\":0,\"ticks\":\"\"}}}],\"scatter3d\":[{\"type\":\"scatter3d\",\"line\":{\"colorbar\":{\"outlinewidth\":0,\"ticks\":\"\"}},\"marker\":{\"colorbar\":{\"outlinewidth\":0,\"ticks\":\"\"}}}],\"scattermapbox\":[{\"type\":\"scattermapbox\",\"marker\":{\"colorbar\":{\"outlinewidth\":0,\"ticks\":\"\"}}}],\"scatterternary\":[{\"type\":\"scatterternary\",\"marker\":{\"colorbar\":{\"outlinewidth\":0,\"ticks\":\"\"}}}],\"scattercarpet\":[{\"type\":\"scattercarpet\",\"marker\":{\"colorbar\":{\"outlinewidth\":0,\"ticks\":\"\"}}}],\"carpet\":[{\"aaxis\":{\"endlinecolor\":\"#2a3f5f\",\"gridcolor\":\"white\",\"linecolor\":\"white\",\"minorgridcolor\":\"white\",\"startlinecolor\":\"#2a3f5f\"},\"baxis\":{\"endlinecolor\":\"#2a3f5f\",\"gridcolor\":\"white\",\"linecolor\":\"white\",\"minorgridcolor\":\"white\",\"startlinecolor\":\"#2a3f5f\"},\"type\":\"carpet\"}],\"table\":[{\"cells\":{\"fill\":{\"color\":\"#EBF0F8\"},\"line\":{\"color\":\"white\"}},\"header\":{\"fill\":{\"color\":\"#C8D4E3\"},\"line\":{\"color\":\"white\"}},\"type\":\"table\"}],\"barpolar\":[{\"marker\":{\"line\":{\"color\":\"#E5ECF6\",\"width\":0.5},\"pattern\":{\"fillmode\":\"overlay\",\"size\":10,\"solidity\":0.2}},\"type\":\"barpolar\"}],\"pie\":[{\"automargin\":true,\"type\":\"pie\"}]},\"layout\":{\"autotypenumbers\":\"strict\",\"colorway\":[\"#636efa\",\"#EF553B\",\"#00cc96\",\"#ab63fa\",\"#FFA15A\",\"#19d3f3\",\"#FF6692\",\"#B6E880\",\"#FF97FF\",\"#FECB52\"],\"font\":{\"color\":\"#2a3f5f\"},\"hovermode\":\"closest\",\"hoverlabel\":{\"align\":\"left\"},\"paper_bgcolor\":\"white\",\"plot_bgcolor\":\"#E5ECF6\",\"polar\":{\"bgcolor\":\"#E5ECF6\",\"angularaxis\":{\"gridcolor\":\"white\",\"linecolor\":\"white\",\"ticks\":\"\"},\"radialaxis\":{\"gridcolor\":\"white\",\"linecolor\":\"white\",\"ticks\":\"\"}},\"ternary\":{\"bgcolor\":\"#E5ECF6\",\"aaxis\":{\"gridcolor\":\"white\",\"linecolor\":\"white\",\"ticks\":\"\"},\"baxis\":{\"gridcolor\":\"white\",\"linecolor\":\"white\",\"ticks\":\"\"},\"caxis\":{\"gridcolor\":\"white\",\"linecolor\":\"white\",\"ticks\":\"\"}},\"coloraxis\":{\"colorbar\":{\"outlinewidth\":0,\"ticks\":\"\"}},\"colorscale\":{\"sequential\":[[0.0,\"#0d0887\"],[0.1111111111111111,\"#46039f\"],[0.2222222222222222,\"#7201a8\"],[0.3333333333333333,\"#9c179e\"],[0.4444444444444444,\"#bd3786\"],[0.5555555555555556,\"#d8576b\"],[0.6666666666666666,\"#ed7953\"],[0.7777777777777778,\"#fb9f3a\"],[0.8888888888888888,\"#fdca26\"],[1.0,\"#f0f921\"]],\"sequentialminus\":[[0.0,\"#0d0887\"],[0.1111111111111111,\"#46039f\"],[0.2222222222222222,\"#7201a8\"],[0.3333333333333333,\"#9c179e\"],[0.4444444444444444,\"#bd3786\"],[0.5555555555555556,\"#d8576b\"],[0.6666666666666666,\"#ed7953\"],[0.7777777777777778,\"#fb9f3a\"],[0.8888888888888888,\"#fdca26\"],[1.0,\"#f0f921\"]],\"diverging\":[[0,\"#8e0152\"],[0.1,\"#c51b7d\"],[0.2,\"#de77ae\"],[0.3,\"#f1b6da\"],[0.4,\"#fde0ef\"],[0.5,\"#f7f7f7\"],[0.6,\"#e6f5d0\"],[0.7,\"#b8e186\"],[0.8,\"#7fbc41\"],[0.9,\"#4d9221\"],[1,\"#276419\"]]},\"xaxis\":{\"gridcolor\":\"white\",\"linecolor\":\"white\",\"ticks\":\"\",\"title\":{\"standoff\":15},\"zerolinecolor\":\"white\",\"automargin\":true,\"zerolinewidth\":2},\"yaxis\":{\"gridcolor\":\"white\",\"linecolor\":\"white\",\"ticks\":\"\",\"title\":{\"standoff\":15},\"zerolinecolor\":\"white\",\"automargin\":true,\"zerolinewidth\":2},\"scene\":{\"xaxis\":{\"backgroundcolor\":\"#E5ECF6\",\"gridcolor\":\"white\",\"linecolor\":\"white\",\"showbackground\":true,\"ticks\":\"\",\"zerolinecolor\":\"white\",\"gridwidth\":2},\"yaxis\":{\"backgroundcolor\":\"#E5ECF6\",\"gridcolor\":\"white\",\"linecolor\":\"white\",\"showbackground\":true,\"ticks\":\"\",\"zerolinecolor\":\"white\",\"gridwidth\":2},\"zaxis\":{\"backgroundcolor\":\"#E5ECF6\",\"gridcolor\":\"white\",\"linecolor\":\"white\",\"showbackground\":true,\"ticks\":\"\",\"zerolinecolor\":\"white\",\"gridwidth\":2}},\"shapedefaults\":{\"line\":{\"color\":\"#2a3f5f\"}},\"annotationdefaults\":{\"arrowcolor\":\"#2a3f5f\",\"arrowhead\":0,\"arrowwidth\":1},\"geo\":{\"bgcolor\":\"white\",\"landcolor\":\"#E5ECF6\",\"subunitcolor\":\"white\",\"showland\":true,\"showlakes\":true,\"lakecolor\":\"white\"},\"title\":{\"x\":0.05},\"mapbox\":{\"style\":\"light\"}}},\"xaxis\":{\"anchor\":\"y\",\"domain\":[0.0,1.0],\"title\":{\"text\":\"gdpPercap\"}},\"yaxis\":{\"anchor\":\"x\",\"domain\":[0.0,1.0],\"title\":{\"text\":\"lifeExp\"}},\"legend\":{\"tracegroupgap\":0},\"margin\":{\"t\":60}},                        {\"responsive\": true}                    ).then(function(){\n",
       "                            \n",
       "var gd = document.getElementById('f40f4921-47d8-4670-baf5-22c939b86c30');\n",
       "var x = new MutationObserver(function (mutations, observer) {{\n",
       "        var display = window.getComputedStyle(gd).display;\n",
       "        if (!display || display === 'none') {{\n",
       "            console.log([gd, 'removed!']);\n",
       "            Plotly.purge(gd);\n",
       "            observer.disconnect();\n",
       "        }}\n",
       "}});\n",
       "\n",
       "// Listen for the removal of the full notebook cells\n",
       "var notebookContainer = gd.closest('#notebook-container');\n",
       "if (notebookContainer) {{\n",
       "    x.observe(notebookContainer, {childList: true});\n",
       "}}\n",
       "\n",
       "// Listen for the clearing of the current output cell\n",
       "var outputEl = gd.closest('.output');\n",
       "if (outputEl) {{\n",
       "    x.observe(outputEl, {childList: true});\n",
       "}}\n",
       "\n",
       "                        })                };                });            </script>        </div>"
      ]
     },
     "metadata": {},
     "output_type": "display_data"
    }
   ],
   "source": [
    "import statsmodels.api as sm\n",
    "\n",
    "fig.add_traces(\n",
    "    px.line(sm.PCA(df).project(ncomp=1), x=\"gdpPercap\", y=\"lifeExp\").update_traces(line_color=\"red\").data\n",
    ")"
   ]
  },
  {
   "cell_type": "code",
   "execution_count": 37,
   "id": "59d763b6-cef8-4d1f-ac11-f14b6e063858",
   "metadata": {},
   "outputs": [],
   "source": [
    "rng = np.random.RandomState(1)\n",
    "X = np.dot(rng.rand(2, 2), rng.randn(2, 200)).T\n"
   ]
  },
  {
   "cell_type": "code",
   "execution_count": 54,
   "id": "875c4437-ff03-4c42-9720-a1d6124a2213",
   "metadata": {},
   "outputs": [
    {
     "data": {
      "application/vnd.plotly.v1+json": {
       "config": {
        "plotlyServerURL": "https://plotly.com"
       },
       "data": [
        {
         "hovertemplate": "0=%{x}<br>1=%{y}<extra></extra>",
         "legendgroup": "",
         "marker": {
          "color": "#636efa",
          "symbol": "circle"
         },
         "mode": "markers",
         "name": "",
         "orientation": "v",
         "showlegend": false,
         "type": "scatter",
         "x": [
          0.1888951352204472,
          -1.8101703341151467,
          -0.48339348054468173,
          0.2846737399281317,
          -0.46957640005582113,
          -0.5458487970733205,
          -0.9025666161204102,
          -0.3481859689435602,
          -1.5308352312450224,
          -0.26548811623769525,
          -1.402341317576695,
          0.6986719480049676,
          -1.5728544461545853,
          -1.1607923192773626,
          0.12373724149923473,
          -0.48344218264032535,
          -0.6285866694180361,
          0.47389316032907647,
          0.7676910891654791,
          0.07035409708992163,
          -1.1403361390025242,
          0.5790000563705513,
          -0.7640435449509939,
          0.23394388265429605,
          -0.3347329593910329,
          -0.03605989190814768,
          0.16374796121273438,
          2.1708434213352206,
          1.818547913892078,
          -1.5877746452403863,
          0.023537164856668097,
          -1.0345674770412454,
          0.435114408356265,
          -0.14961098588452743,
          0.24259073977100842,
          0.6692491292872056,
          0.8505643842542444,
          -0.7794583195583107,
          0.5386667221932135,
          1.1558189195503128,
          0.1841834519481596,
          -0.48686991037526894,
          -0.9291817091647856,
          -1.0620791446355629,
          1.5417513977754758,
          0.7303416880164542,
          -0.950685614652313,
          -0.35122841583285475,
          0.3097331648301309,
          -0.5960083741330244,
          -0.25787468759439736,
          -0.4939708736668109,
          1.4996136553187074,
          0.8813061458784816,
          0.44528232710237536,
          -0.3515125419385683,
          0.15690947964729854,
          -0.15402842965253577,
          -0.5356972730497274,
          -0.982197510575669,
          -0.4800276620747139,
          -0.7053807717799827,
          1.0420081799050092,
          0.5468205028841979,
          -0.17330987914972504,
          -0.5394131143318203,
          -1.3707516045621806,
          0.29708661602011954,
          1.495033105992435,
          1.7939886299569077,
          0.34925615689696043,
          0.4908684599199852,
          -0.911636754550462,
          -0.325820842457761,
          0.09264649303710354,
          0.8173688260684673,
          0.3558145518760668,
          0.2888211187853924,
          1.7237844658370096,
          1.6107887464121209,
          0.23308520445378733,
          0.9693356038820737,
          -0.26413684680771476,
          -0.9657689496727409,
          0.04787548255990087,
          -1.1736308129212187,
          -0.2090923872068154,
          -0.5642567679673028,
          -0.44395480917016145,
          2.24798075065549,
          0.512114558013843,
          -1.0688343756249166,
          0.1308609865302418,
          0.3595838772147698,
          -0.006889915193905083,
          -0.07426703448893338,
          1.0171896385811952,
          0.9136852195305323,
          -2.2979838045049834,
          -0.014439651125014802
         ],
         "xaxis": "x",
         "y": [
          -0.5916223036427957,
          -0.5098059202823687,
          -0.5392312711573032,
          1.8084848049943227,
          0.4809538531069151,
          0.8821688589102603,
          -1.391368550771264,
          -1.1724395145224977,
          -0.9293586854041589,
          0.8050860124418044,
          0.49083894988879395,
          1.4327276992532998,
          -0.39584521690582797,
          -1.1353123376952703,
          -0.2074418058881704,
          0.7296101538221182,
          -0.556175633597196,
          -1.0634485137857541,
          1.0826128391306968,
          -0.3476692192002613,
          1.2472922460558562,
          0.19611980136940033,
          0.27123161653559447,
          0.36896882424766336,
          -1.0578587129030548,
          -0.7080442384731951,
          -1.2282452780267945,
          0.3085798812730748,
          1.128129167055154,
          -0.430049802733086,
          0.3456083727682172,
          0.6609621100063583,
          -0.648485045699697,
          -0.7673537737336955,
          -0.6272436803147645,
          1.3303335523361968,
          0.30858910091916875,
          0.9520828784267101,
          -0.23079072579331542,
          1.6776385842642216,
          -0.2432813243740598,
          -0.8325638183102817,
          -0.6830418083093968,
          -0.31220225945865643,
          0.7207913463843802,
          0.8574222369131101,
          -0.2215780870687024,
          0.40516169342851943,
          0.7558911702544664,
          -0.23903211418542145,
          1.1077382486486014,
          -1.067220666564573,
          1.4773529164424792,
          0.6252581153758388,
          -0.3975156992250177,
          -0.14512749256620183,
          0.15121370423853442,
          0.06819221322801208,
          0.2490529147095906,
          -1.4874698834889246,
          0.14667700221097857,
          -0.2390009087813831,
          1.4368766805730524,
          0.45869893272234763,
          -0.2655930354774336,
          0.3867829549016827,
          0.2958459049492581,
          -1.270089258294755,
          1.6348738348103298,
          1.9978082138142959,
          2.1032047272575825,
          0.14129191673653765,
          -0.6078862181054089,
          -1.6188325584331222,
          -0.4535839523471231,
          0.8582908402797161,
          1.306170683447545,
          -0.0522691155525712,
          -0.003986130797731691,
          0.03217928891342159,
          -1.3157287647090152,
          1.2351246420386137,
          0.014410298830371482,
          -0.08297575902847537,
          -0.8576149252205899,
          -0.49768498560087654,
          -0.40121198986289375,
          -1.9773305148806397,
          -1.2196888064733469,
          1.8861145344709547,
          -0.3345303456609018,
          -0.5896862498695613,
          1.1459540258397696,
          0.33159229815756136,
          -0.2660729749158265,
          0.28464826274428096,
          0.8527899623855952,
          2.3862935304125834,
          -0.9550266611098355,
          -0.27436249018945225
         ],
         "yaxis": "y"
        },
        {
         "hovertemplate": "<b>OLS trendline</b><br>1 = 0.512935 * 0 + 0.0923087<br>R<sup>2</sup>=0.246810<br><br>0=%{x}<br>1=%{y} <b>(trend)</b><extra></extra>",
         "legendgroup": "",
         "marker": {
          "color": "#636efa",
          "symbol": "circle"
         },
         "mode": "lines",
         "name": "",
         "showlegend": false,
         "type": "scatter",
         "x": [
          -2.2979838045049834,
          -1.8101703341151467,
          -1.5877746452403863,
          -1.5728544461545853,
          -1.5308352312450224,
          -1.402341317576695,
          -1.3707516045621806,
          -1.1736308129212187,
          -1.1607923192773626,
          -1.1403361390025242,
          -1.0688343756249166,
          -1.0620791446355629,
          -1.0345674770412454,
          -0.982197510575669,
          -0.9657689496727409,
          -0.950685614652313,
          -0.9291817091647856,
          -0.911636754550462,
          -0.9025666161204102,
          -0.7794583195583107,
          -0.7640435449509939,
          -0.7053807717799827,
          -0.6285866694180361,
          -0.5960083741330244,
          -0.5642567679673028,
          -0.5458487970733205,
          -0.5394131143318203,
          -0.5356972730497274,
          -0.4939708736668109,
          -0.48686991037526894,
          -0.48344218264032535,
          -0.48339348054468173,
          -0.4800276620747139,
          -0.46957640005582113,
          -0.44395480917016145,
          -0.3515125419385683,
          -0.35122841583285475,
          -0.3481859689435602,
          -0.3347329593910329,
          -0.325820842457761,
          -0.26548811623769525,
          -0.26413684680771476,
          -0.25787468759439736,
          -0.2090923872068154,
          -0.17330987914972504,
          -0.15402842965253577,
          -0.14961098588452743,
          -0.07426703448893338,
          -0.03605989190814768,
          -0.014439651125014802,
          -0.006889915193905083,
          0.023537164856668097,
          0.04787548255990087,
          0.07035409708992163,
          0.09264649303710354,
          0.12373724149923473,
          0.1308609865302418,
          0.15690947964729854,
          0.16374796121273438,
          0.1841834519481596,
          0.1888951352204472,
          0.23308520445378733,
          0.23394388265429605,
          0.24259073977100842,
          0.2846737399281317,
          0.2888211187853924,
          0.29708661602011954,
          0.3097331648301309,
          0.34925615689696043,
          0.3558145518760668,
          0.3595838772147698,
          0.435114408356265,
          0.44528232710237536,
          0.47389316032907647,
          0.4908684599199852,
          0.512114558013843,
          0.5386667221932135,
          0.5468205028841979,
          0.5790000563705513,
          0.6692491292872056,
          0.6986719480049676,
          0.7303416880164542,
          0.7676910891654791,
          0.8173688260684673,
          0.8505643842542444,
          0.8813061458784816,
          0.9136852195305323,
          0.9693356038820737,
          1.0171896385811952,
          1.0420081799050092,
          1.1558189195503128,
          1.495033105992435,
          1.4996136553187074,
          1.5417513977754758,
          1.6107887464121209,
          1.7237844658370096,
          1.7939886299569077,
          1.818547913892078,
          2.1708434213352206,
          2.24798075065549
         ],
         "xaxis": "x",
         "y": [
          -1.0864076558493758,
          -0.8361910503948634,
          -0.7221165163450143,
          -0.7144634239345665,
          -0.6929102976747847,
          -0.6270012712718027,
          -0.6107978016311277,
          -0.5096876471503765,
          -0.5031023343336808,
          -0.49260964337776025,
          -0.4559338859369926,
          -0.45246889148764613,
          -0.43835719409982743,
          -0.4114948050265793,
          -0.40306802103812506,
          -0.3953312504960395,
          -0.3843011446016618,
          -0.3753017231979412,
          -0.3706493316861684,
          -0.30750277682691224,
          -0.2995959993182738,
          -0.26950580939861407,
          -0.2301154260281491,
          -0.2134048779344362,
          -0.19711836762924445,
          -0.18767627496477401,
          -0.18437518799791863,
          -0.18246920292688318,
          -0.16106627200107465,
          -0.1574239393511648,
          -0.1556657378042201,
          -0.15564075679448963,
          -0.15391431067675856,
          -0.14855349252839298,
          -0.13541128164883132,
          -0.08799440673407483,
          -0.0878486685082816,
          -0.0862880909942852,
          -0.07938757145617073,
          -0.07481623470182708,
          -0.043869467404611756,
          -0.043176354011178864,
          -0.03996427333632627,
          -0.014942123785005826,
          0.0034119772067908727,
          0.013302107624005008,
          0.015567969170497215,
          0.05421451934605813,
          0.07381230026227766,
          0.08490207860222698,
          0.0887746024487919,
          0.10438171694290974,
          0.11686569208469838,
          0.1283957603678219,
          0.1398303106210041,
          0.15577784387591329,
          0.1594318620774967,
          0.172793046055763,
          0.17630074263986756,
          0.18678282120676104,
          0.1891996084952024,
          0.2118662419309908,
          0.21230668803908492,
          0.21674196374777932,
          0.2383278076939134,
          0.24045514349373925,
          0.24469480636900653,
          0.25118166396116576,
          0.27145439014165573,
          0.27481842051086736,
          0.2767518394268112,
          0.3154940928854911,
          0.32070957435047776,
          0.33538507226874825,
          0.3440922976695068,
          0.3549901651268164,
          0.3686096996245489,
          0.37279205917375985,
          0.38929807864050936,
          0.4355899874157544,
          0.4506819811169092,
          0.46692649940577163,
          0.4860843147153806,
          0.5115657650012746,
          0.5285929288448132,
          0.5443614545338666,
          0.5609698148780433,
          0.5895148451199382,
          0.6140608547046011,
          0.6267911533521858,
          0.6851686657967632,
          0.8591634966195619,
          0.861513020716592,
          0.8831269439045335,
          0.9185386167548881,
          0.9764980767976611,
          1.012508250155142,
          1.0251055666124775,
          1.2058102649039224,
          1.2453767013963795
         ],
         "yaxis": "y"
        },
        {
         "hovertemplate": "0=%{x}<br>1=%{y}<extra></extra>",
         "legendgroup": "",
         "line": {
          "color": "red",
          "dash": "solid"
         },
         "marker": {
          "symbol": "circle"
         },
         "mode": "lines",
         "name": "",
         "orientation": "v",
         "showlegend": false,
         "type": "scatter",
         "x": [
          -0.24077848993507367,
          -1.2006898967079516,
          -0.551551323406254,
          0.969413847928334,
          -0.050596387296044716,
          0.10556433430308361,
          -1.1738035356572043,
          -0.7905921588926903,
          -1.2641997162754672,
          0.2084156629807165,
          -0.5121917771983725,
          0.994444562703874,
          -1.0268440525765927,
          -1.178915707162569,
          -0.08730984037097804,
          0.06288783616454202,
          -0.6323535865932085,
          -0.326771378558262,
          0.8594035481318757,
          -0.18190952699593166,
          -0.014860552329912633,
          0.335754878954226,
          -0.2993924238951242,
          0.24693261641255915,
          -0.728377458171279,
          -0.4096358074532493,
          -0.5616503245208159,
          1.1861377526789438,
          1.4068742126602825,
          -1.0508684520177356,
          0.130416460860744,
          -0.24591908976902832,
          -0.14520584847138052,
          -0.49513326131795604,
          -0.2311810987293096,
          0.9301466047481091,
          0.5260026989486313,
          0.022616927516235348,
          0.10884768773370855,
          1.341621365825651,
          -0.07444278604001289,
          -0.6953420778697765,
          -0.8440887562451425,
          -0.7309505164797183,
          1.0712139308615758,
          0.7316754975698474,
          -0.6313670639813852,
          -0.02812636433035852,
          0.47220265239506526,
          -0.46248092845736943,
          0.35878817496239973,
          -0.8125301409582962,
          1.4165261291546036,
          0.6947273011135493,
          -0.01858463262437889,
          -0.29475769737789714,
          0.10296285569886755,
          -0.09271102591735272,
          -0.19595979713395956,
          -1.2601581020484278,
          -0.21770270983744094,
          -0.5171520153986715,
          1.168121911310582,
          0.4468246445226001,
          -0.26399437335662995,
          -0.13111900952984537,
          -0.590826459781632,
          -0.5152448366383809,
          1.4905187174171854,
          1.8157551898707336,
          1.1444294619357362,
          0.265137508713671,
          -0.7989205821312614,
          -0.9955849438667689,
          -0.22205479655675725,
          0.7756097062939854,
          0.7617279316523042,
          0.07037778171106514,
          0.8112415199547603,
          0.7722575357520719,
          -0.5693474463963974,
          1.0340828974645255,
          -0.17381027312465136,
          -0.571787599259577,
          -0.44010091399085993,
          -0.876550315083912,
          -0.3475619973219996,
          -1.2884131848893026,
          -0.8613580559461322,
          1.9886612047879628,
          0.045333483086579314,
          -0.86870567004312,
          0.5716628168559732,
          0.2916522340993216,
          -0.1810168122836443,
          0.05199312829344456,
          0.8728561951562899,
          1.5637357813822057,
          -1.6602042673593682,
          -0.18880605474555623
         ],
         "xaxis": "x",
         "y": [
          -0.1479932797895065,
          -1.1390817139891947,
          -0.468859725113068,
          1.1015049767691776,
          0.048365760208772285,
          0.20959843643406173,
          -1.1113221090015883,
          -0.7156643840435273,
          -1.2046542732768115,
          0.3157902803638747,
          -0.4282218175449904,
          1.1273486658208471,
          -0.9595895189422428,
          -1.1166003190706257,
          0.010459888411263094,
          0.16553584542949346,
          -0.5522863704646195,
          -0.23677913725148486,
          0.987921645013951,
          -0.08721230782620695,
          0.08526226177288207,
          0.4472653553353115,
          -0.2085109396702744,
          0.35555822852821967,
          -0.6514290078545086,
          -0.3223349255304089,
          -0.4792867323670615,
          1.3252678718628348,
          1.553173646239625,
          -0.9843942084757882,
          0.2352577368890587,
          -0.1533008415127383,
          -0.04931652804736214,
          -0.41060925697491607,
          -0.13808417426642447,
          1.0609623701450273,
          0.6436922471273914,
          0.12395697521872157,
          0.21298843012256488,
          1.4858014477845352,
          0.023744852669069734,
          -0.6173206692045086,
          -0.7708985009953198,
          -0.6540856366975691,
          1.206611431473051,
          0.8560451064691275,
          -0.551267806518243,
          0.0715655885683098,
          0.5881448252273824,
          -0.37689640678954195,
          0.4710467513205351,
          -0.738314891310649,
          1.5631390479817946,
          0.8178968670441122,
          0.08141722682295385,
          -0.20372568155739817,
          0.206912464230518,
          0.004883277394653884,
          -0.10171891763720534,
          -1.2004813911882628,
          -0.1241680198712124,
          -0.4333431596568827,
          1.3066668927656209,
          0.5619425633228317,
          -0.17196319345704647,
          -0.034772161712216976,
          -0.5094104812959899,
          -0.4313740375087985,
          1.6395348465170814,
          1.9753346963306015,
          1.2822049347270001,
          0.3743543987561997,
          -0.7242633067030855,
          -0.9273151435289424,
          -0.12866145830908798,
          0.9014062573263655,
          0.8870736155883223,
          0.17326905742340082,
          0.9381953590701144,
          0.8979452114109674,
          -0.48723384958401467,
          1.1682744167339336,
          -0.07884999774130116,
          -0.48975325633688044,
          -0.35378951032130634,
          -0.8044143809965347,
          -0.2582450159265476,
          -1.2296541727734815,
          -0.7887286914479152,
          2.1538565373868885,
          0.14741134333203787,
          -0.7963149491995227,
          0.6908353630887876,
          0.4017302976988372,
          -0.0862905985724724,
          0.15428728760546523,
          1.0018112214698565,
          1.7151299324487561,
          -1.613520682927214,
          -0.09433282836650231
         ],
         "yaxis": "y"
        }
       ],
       "layout": {
        "height": 500,
        "legend": {
         "tracegroupgap": 0
        },
        "margin": {
         "t": 60
        },
        "template": {
         "data": {
          "bar": [
           {
            "error_x": {
             "color": "#2a3f5f"
            },
            "error_y": {
             "color": "#2a3f5f"
            },
            "marker": {
             "line": {
              "color": "#E5ECF6",
              "width": 0.5
             },
             "pattern": {
              "fillmode": "overlay",
              "size": 10,
              "solidity": 0.2
             }
            },
            "type": "bar"
           }
          ],
          "barpolar": [
           {
            "marker": {
             "line": {
              "color": "#E5ECF6",
              "width": 0.5
             },
             "pattern": {
              "fillmode": "overlay",
              "size": 10,
              "solidity": 0.2
             }
            },
            "type": "barpolar"
           }
          ],
          "carpet": [
           {
            "aaxis": {
             "endlinecolor": "#2a3f5f",
             "gridcolor": "white",
             "linecolor": "white",
             "minorgridcolor": "white",
             "startlinecolor": "#2a3f5f"
            },
            "baxis": {
             "endlinecolor": "#2a3f5f",
             "gridcolor": "white",
             "linecolor": "white",
             "minorgridcolor": "white",
             "startlinecolor": "#2a3f5f"
            },
            "type": "carpet"
           }
          ],
          "choropleth": [
           {
            "colorbar": {
             "outlinewidth": 0,
             "ticks": ""
            },
            "type": "choropleth"
           }
          ],
          "contour": [
           {
            "colorbar": {
             "outlinewidth": 0,
             "ticks": ""
            },
            "colorscale": [
             [
              0,
              "#0d0887"
             ],
             [
              0.1111111111111111,
              "#46039f"
             ],
             [
              0.2222222222222222,
              "#7201a8"
             ],
             [
              0.3333333333333333,
              "#9c179e"
             ],
             [
              0.4444444444444444,
              "#bd3786"
             ],
             [
              0.5555555555555556,
              "#d8576b"
             ],
             [
              0.6666666666666666,
              "#ed7953"
             ],
             [
              0.7777777777777778,
              "#fb9f3a"
             ],
             [
              0.8888888888888888,
              "#fdca26"
             ],
             [
              1,
              "#f0f921"
             ]
            ],
            "type": "contour"
           }
          ],
          "contourcarpet": [
           {
            "colorbar": {
             "outlinewidth": 0,
             "ticks": ""
            },
            "type": "contourcarpet"
           }
          ],
          "heatmap": [
           {
            "colorbar": {
             "outlinewidth": 0,
             "ticks": ""
            },
            "colorscale": [
             [
              0,
              "#0d0887"
             ],
             [
              0.1111111111111111,
              "#46039f"
             ],
             [
              0.2222222222222222,
              "#7201a8"
             ],
             [
              0.3333333333333333,
              "#9c179e"
             ],
             [
              0.4444444444444444,
              "#bd3786"
             ],
             [
              0.5555555555555556,
              "#d8576b"
             ],
             [
              0.6666666666666666,
              "#ed7953"
             ],
             [
              0.7777777777777778,
              "#fb9f3a"
             ],
             [
              0.8888888888888888,
              "#fdca26"
             ],
             [
              1,
              "#f0f921"
             ]
            ],
            "type": "heatmap"
           }
          ],
          "heatmapgl": [
           {
            "colorbar": {
             "outlinewidth": 0,
             "ticks": ""
            },
            "colorscale": [
             [
              0,
              "#0d0887"
             ],
             [
              0.1111111111111111,
              "#46039f"
             ],
             [
              0.2222222222222222,
              "#7201a8"
             ],
             [
              0.3333333333333333,
              "#9c179e"
             ],
             [
              0.4444444444444444,
              "#bd3786"
             ],
             [
              0.5555555555555556,
              "#d8576b"
             ],
             [
              0.6666666666666666,
              "#ed7953"
             ],
             [
              0.7777777777777778,
              "#fb9f3a"
             ],
             [
              0.8888888888888888,
              "#fdca26"
             ],
             [
              1,
              "#f0f921"
             ]
            ],
            "type": "heatmapgl"
           }
          ],
          "histogram": [
           {
            "marker": {
             "pattern": {
              "fillmode": "overlay",
              "size": 10,
              "solidity": 0.2
             }
            },
            "type": "histogram"
           }
          ],
          "histogram2d": [
           {
            "colorbar": {
             "outlinewidth": 0,
             "ticks": ""
            },
            "colorscale": [
             [
              0,
              "#0d0887"
             ],
             [
              0.1111111111111111,
              "#46039f"
             ],
             [
              0.2222222222222222,
              "#7201a8"
             ],
             [
              0.3333333333333333,
              "#9c179e"
             ],
             [
              0.4444444444444444,
              "#bd3786"
             ],
             [
              0.5555555555555556,
              "#d8576b"
             ],
             [
              0.6666666666666666,
              "#ed7953"
             ],
             [
              0.7777777777777778,
              "#fb9f3a"
             ],
             [
              0.8888888888888888,
              "#fdca26"
             ],
             [
              1,
              "#f0f921"
             ]
            ],
            "type": "histogram2d"
           }
          ],
          "histogram2dcontour": [
           {
            "colorbar": {
             "outlinewidth": 0,
             "ticks": ""
            },
            "colorscale": [
             [
              0,
              "#0d0887"
             ],
             [
              0.1111111111111111,
              "#46039f"
             ],
             [
              0.2222222222222222,
              "#7201a8"
             ],
             [
              0.3333333333333333,
              "#9c179e"
             ],
             [
              0.4444444444444444,
              "#bd3786"
             ],
             [
              0.5555555555555556,
              "#d8576b"
             ],
             [
              0.6666666666666666,
              "#ed7953"
             ],
             [
              0.7777777777777778,
              "#fb9f3a"
             ],
             [
              0.8888888888888888,
              "#fdca26"
             ],
             [
              1,
              "#f0f921"
             ]
            ],
            "type": "histogram2dcontour"
           }
          ],
          "mesh3d": [
           {
            "colorbar": {
             "outlinewidth": 0,
             "ticks": ""
            },
            "type": "mesh3d"
           }
          ],
          "parcoords": [
           {
            "line": {
             "colorbar": {
              "outlinewidth": 0,
              "ticks": ""
             }
            },
            "type": "parcoords"
           }
          ],
          "pie": [
           {
            "automargin": true,
            "type": "pie"
           }
          ],
          "scatter": [
           {
            "fillpattern": {
             "fillmode": "overlay",
             "size": 10,
             "solidity": 0.2
            },
            "type": "scatter"
           }
          ],
          "scatter3d": [
           {
            "line": {
             "colorbar": {
              "outlinewidth": 0,
              "ticks": ""
             }
            },
            "marker": {
             "colorbar": {
              "outlinewidth": 0,
              "ticks": ""
             }
            },
            "type": "scatter3d"
           }
          ],
          "scattercarpet": [
           {
            "marker": {
             "colorbar": {
              "outlinewidth": 0,
              "ticks": ""
             }
            },
            "type": "scattercarpet"
           }
          ],
          "scattergeo": [
           {
            "marker": {
             "colorbar": {
              "outlinewidth": 0,
              "ticks": ""
             }
            },
            "type": "scattergeo"
           }
          ],
          "scattergl": [
           {
            "marker": {
             "colorbar": {
              "outlinewidth": 0,
              "ticks": ""
             }
            },
            "type": "scattergl"
           }
          ],
          "scattermapbox": [
           {
            "marker": {
             "colorbar": {
              "outlinewidth": 0,
              "ticks": ""
             }
            },
            "type": "scattermapbox"
           }
          ],
          "scatterpolar": [
           {
            "marker": {
             "colorbar": {
              "outlinewidth": 0,
              "ticks": ""
             }
            },
            "type": "scatterpolar"
           }
          ],
          "scatterpolargl": [
           {
            "marker": {
             "colorbar": {
              "outlinewidth": 0,
              "ticks": ""
             }
            },
            "type": "scatterpolargl"
           }
          ],
          "scatterternary": [
           {
            "marker": {
             "colorbar": {
              "outlinewidth": 0,
              "ticks": ""
             }
            },
            "type": "scatterternary"
           }
          ],
          "surface": [
           {
            "colorbar": {
             "outlinewidth": 0,
             "ticks": ""
            },
            "colorscale": [
             [
              0,
              "#0d0887"
             ],
             [
              0.1111111111111111,
              "#46039f"
             ],
             [
              0.2222222222222222,
              "#7201a8"
             ],
             [
              0.3333333333333333,
              "#9c179e"
             ],
             [
              0.4444444444444444,
              "#bd3786"
             ],
             [
              0.5555555555555556,
              "#d8576b"
             ],
             [
              0.6666666666666666,
              "#ed7953"
             ],
             [
              0.7777777777777778,
              "#fb9f3a"
             ],
             [
              0.8888888888888888,
              "#fdca26"
             ],
             [
              1,
              "#f0f921"
             ]
            ],
            "type": "surface"
           }
          ],
          "table": [
           {
            "cells": {
             "fill": {
              "color": "#EBF0F8"
             },
             "line": {
              "color": "white"
             }
            },
            "header": {
             "fill": {
              "color": "#C8D4E3"
             },
             "line": {
              "color": "white"
             }
            },
            "type": "table"
           }
          ]
         },
         "layout": {
          "annotationdefaults": {
           "arrowcolor": "#2a3f5f",
           "arrowhead": 0,
           "arrowwidth": 1
          },
          "autotypenumbers": "strict",
          "coloraxis": {
           "colorbar": {
            "outlinewidth": 0,
            "ticks": ""
           }
          },
          "colorscale": {
           "diverging": [
            [
             0,
             "#8e0152"
            ],
            [
             0.1,
             "#c51b7d"
            ],
            [
             0.2,
             "#de77ae"
            ],
            [
             0.3,
             "#f1b6da"
            ],
            [
             0.4,
             "#fde0ef"
            ],
            [
             0.5,
             "#f7f7f7"
            ],
            [
             0.6,
             "#e6f5d0"
            ],
            [
             0.7,
             "#b8e186"
            ],
            [
             0.8,
             "#7fbc41"
            ],
            [
             0.9,
             "#4d9221"
            ],
            [
             1,
             "#276419"
            ]
           ],
           "sequential": [
            [
             0,
             "#0d0887"
            ],
            [
             0.1111111111111111,
             "#46039f"
            ],
            [
             0.2222222222222222,
             "#7201a8"
            ],
            [
             0.3333333333333333,
             "#9c179e"
            ],
            [
             0.4444444444444444,
             "#bd3786"
            ],
            [
             0.5555555555555556,
             "#d8576b"
            ],
            [
             0.6666666666666666,
             "#ed7953"
            ],
            [
             0.7777777777777778,
             "#fb9f3a"
            ],
            [
             0.8888888888888888,
             "#fdca26"
            ],
            [
             1,
             "#f0f921"
            ]
           ],
           "sequentialminus": [
            [
             0,
             "#0d0887"
            ],
            [
             0.1111111111111111,
             "#46039f"
            ],
            [
             0.2222222222222222,
             "#7201a8"
            ],
            [
             0.3333333333333333,
             "#9c179e"
            ],
            [
             0.4444444444444444,
             "#bd3786"
            ],
            [
             0.5555555555555556,
             "#d8576b"
            ],
            [
             0.6666666666666666,
             "#ed7953"
            ],
            [
             0.7777777777777778,
             "#fb9f3a"
            ],
            [
             0.8888888888888888,
             "#fdca26"
            ],
            [
             1,
             "#f0f921"
            ]
           ]
          },
          "colorway": [
           "#636efa",
           "#EF553B",
           "#00cc96",
           "#ab63fa",
           "#FFA15A",
           "#19d3f3",
           "#FF6692",
           "#B6E880",
           "#FF97FF",
           "#FECB52"
          ],
          "font": {
           "color": "#2a3f5f"
          },
          "geo": {
           "bgcolor": "white",
           "lakecolor": "white",
           "landcolor": "#E5ECF6",
           "showlakes": true,
           "showland": true,
           "subunitcolor": "white"
          },
          "hoverlabel": {
           "align": "left"
          },
          "hovermode": "closest",
          "mapbox": {
           "style": "light"
          },
          "paper_bgcolor": "white",
          "plot_bgcolor": "#E5ECF6",
          "polar": {
           "angularaxis": {
            "gridcolor": "white",
            "linecolor": "white",
            "ticks": ""
           },
           "bgcolor": "#E5ECF6",
           "radialaxis": {
            "gridcolor": "white",
            "linecolor": "white",
            "ticks": ""
           }
          },
          "scene": {
           "xaxis": {
            "backgroundcolor": "#E5ECF6",
            "gridcolor": "white",
            "gridwidth": 2,
            "linecolor": "white",
            "showbackground": true,
            "ticks": "",
            "zerolinecolor": "white"
           },
           "yaxis": {
            "backgroundcolor": "#E5ECF6",
            "gridcolor": "white",
            "gridwidth": 2,
            "linecolor": "white",
            "showbackground": true,
            "ticks": "",
            "zerolinecolor": "white"
           },
           "zaxis": {
            "backgroundcolor": "#E5ECF6",
            "gridcolor": "white",
            "gridwidth": 2,
            "linecolor": "white",
            "showbackground": true,
            "ticks": "",
            "zerolinecolor": "white"
           }
          },
          "shapedefaults": {
           "line": {
            "color": "#2a3f5f"
           }
          },
          "ternary": {
           "aaxis": {
            "gridcolor": "white",
            "linecolor": "white",
            "ticks": ""
           },
           "baxis": {
            "gridcolor": "white",
            "linecolor": "white",
            "ticks": ""
           },
           "bgcolor": "#E5ECF6",
           "caxis": {
            "gridcolor": "white",
            "linecolor": "white",
            "ticks": ""
           }
          },
          "title": {
           "x": 0.05
          },
          "xaxis": {
           "automargin": true,
           "gridcolor": "white",
           "linecolor": "white",
           "ticks": "",
           "title": {
            "standoff": 15
           },
           "zerolinecolor": "white",
           "zerolinewidth": 2
          },
          "yaxis": {
           "automargin": true,
           "gridcolor": "white",
           "linecolor": "white",
           "ticks": "",
           "title": {
            "standoff": 15
           },
           "zerolinecolor": "white",
           "zerolinewidth": 2
          }
         }
        },
        "width": 500,
        "xaxis": {
         "anchor": "y",
         "autorange": true,
         "domain": [
          0,
          1
         ],
         "range": [
          -2.6139930658771102,
          2.5639900120276167
         ],
         "title": {
          "text": "0"
         },
         "type": "linear"
        },
        "yaxis": {
         "anchor": "x",
         "autorange": true,
         "domain": [
          0,
          1
         ],
         "range": [
          -2.2772004137278046,
          2.6861634292597483
         ],
         "title": {
          "text": "1"
         },
         "type": "linear"
        }
       }
      },
      "image/png": "[encoded data removed]",
      "text/html": [
       "<div>                            <div id=\"89696e8c-b4cf-4c1d-b976-411ae595fb6b\" class=\"plotly-graph-div\" style=\"height:500px; width:500px;\"></div>            <script type=\"text/javascript\">                require([\"plotly\"], function(Plotly) {                    window.PLOTLYENV=window.PLOTLYENV || {};                                    if (document.getElementById(\"89696e8c-b4cf-4c1d-b976-411ae595fb6b\")) {                    Plotly.newPlot(                        \"89696e8c-b4cf-4c1d-b976-411ae595fb6b\",                        [{\"hovertemplate\":\"0=%{x}<br>1=%{y}<extra></extra>\",\"legendgroup\":\"\",\"marker\":{\"color\":\"#636efa\",\"symbol\":\"circle\"},\"mode\":\"markers\",\"name\":\"\",\"orientation\":\"v\",\"showlegend\":false,\"x\":[0.1888951352204472,-1.8101703341151467,-0.48339348054468173,0.2846737399281317,-0.46957640005582113,-0.5458487970733205,-0.9025666161204102,-0.3481859689435602,-1.5308352312450224,-0.26548811623769525,-1.402341317576695,0.6986719480049676,-1.5728544461545853,-1.1607923192773626,0.12373724149923473,-0.48344218264032535,-0.6285866694180361,0.47389316032907647,0.7676910891654791,0.07035409708992163,-1.1403361390025242,0.5790000563705513,-0.7640435449509939,0.23394388265429605,-0.3347329593910329,-0.03605989190814768,0.16374796121273438,2.1708434213352206,1.818547913892078,-1.5877746452403863,0.023537164856668097,-1.0345674770412454,0.435114408356265,-0.14961098588452743,0.24259073977100842,0.6692491292872056,0.8505643842542444,-0.7794583195583107,0.5386667221932135,1.1558189195503128,0.1841834519481596,-0.48686991037526894,-0.9291817091647856,-1.0620791446355629,1.5417513977754758,0.7303416880164542,-0.950685614652313,-0.35122841583285475,0.3097331648301309,-0.5960083741330244,-0.25787468759439736,-0.4939708736668109,1.4996136553187074,0.8813061458784816,0.44528232710237536,-0.3515125419385683,0.15690947964729854,-0.15402842965253577,-0.5356972730497274,-0.982197510575669,-0.4800276620747139,-0.7053807717799827,1.0420081799050092,0.5468205028841979,-0.17330987914972504,-0.5394131143318203,-1.3707516045621806,0.29708661602011954,1.495033105992435,1.7939886299569077,0.34925615689696043,0.4908684599199852,-0.911636754550462,-0.325820842457761,0.09264649303710354,0.8173688260684673,0.3558145518760668,0.2888211187853924,1.7237844658370096,1.6107887464121209,0.23308520445378733,0.9693356038820737,-0.26413684680771476,-0.9657689496727409,0.04787548255990087,-1.1736308129212187,-0.2090923872068154,-0.5642567679673028,-0.44395480917016145,2.24798075065549,0.512114558013843,-1.0688343756249166,0.1308609865302418,0.3595838772147698,-0.006889915193905083,-0.07426703448893338,1.0171896385811952,0.9136852195305323,-2.2979838045049834,-0.014439651125014802],\"xaxis\":\"x\",\"y\":[-0.5916223036427957,-0.5098059202823687,-0.5392312711573032,1.8084848049943227,0.4809538531069151,0.8821688589102603,-1.391368550771264,-1.1724395145224977,-0.9293586854041589,0.8050860124418044,0.49083894988879395,1.4327276992532998,-0.39584521690582797,-1.1353123376952703,-0.2074418058881704,0.7296101538221182,-0.556175633597196,-1.0634485137857541,1.0826128391306968,-0.3476692192002613,1.2472922460558562,0.19611980136940033,0.27123161653559447,0.36896882424766336,-1.0578587129030548,-0.7080442384731951,-1.2282452780267945,0.3085798812730748,1.128129167055154,-0.430049802733086,0.3456083727682172,0.6609621100063583,-0.648485045699697,-0.7673537737336955,-0.6272436803147645,1.3303335523361968,0.30858910091916875,0.9520828784267101,-0.23079072579331542,1.6776385842642216,-0.2432813243740598,-0.8325638183102817,-0.6830418083093968,-0.31220225945865643,0.7207913463843802,0.8574222369131101,-0.2215780870687024,0.40516169342851943,0.7558911702544664,-0.23903211418542145,1.1077382486486014,-1.067220666564573,1.4773529164424792,0.6252581153758388,-0.3975156992250177,-0.14512749256620183,0.15121370423853442,0.06819221322801208,0.2490529147095906,-1.4874698834889246,0.14667700221097857,-0.2390009087813831,1.4368766805730524,0.45869893272234763,-0.2655930354774336,0.3867829549016827,0.2958459049492581,-1.270089258294755,1.6348738348103298,1.9978082138142959,2.1032047272575825,0.14129191673653765,-0.6078862181054089,-1.6188325584331222,-0.4535839523471231,0.8582908402797161,1.306170683447545,-0.0522691155525712,-0.003986130797731691,0.03217928891342159,-1.3157287647090152,1.2351246420386137,0.014410298830371482,-0.08297575902847537,-0.8576149252205899,-0.49768498560087654,-0.40121198986289375,-1.9773305148806397,-1.2196888064733469,1.8861145344709547,-0.3345303456609018,-0.5896862498695613,1.1459540258397696,0.33159229815756136,-0.2660729749158265,0.28464826274428096,0.8527899623855952,2.3862935304125834,-0.9550266611098355,-0.27436249018945225],\"yaxis\":\"y\",\"type\":\"scatter\"},{\"hovertemplate\":\"<b>OLS trendline</b><br>1 = 0.512935 * 0 + 0.0923087<br>R<sup>2</sup>=0.246810<br><br>0=%{x}<br>1=%{y} <b>(trend)</b><extra></extra>\",\"legendgroup\":\"\",\"marker\":{\"color\":\"#636efa\",\"symbol\":\"circle\"},\"mode\":\"lines\",\"name\":\"\",\"showlegend\":false,\"x\":[-2.2979838045049834,-1.8101703341151467,-1.5877746452403863,-1.5728544461545853,-1.5308352312450224,-1.402341317576695,-1.3707516045621806,-1.1736308129212187,-1.1607923192773626,-1.1403361390025242,-1.0688343756249166,-1.0620791446355629,-1.0345674770412454,-0.982197510575669,-0.9657689496727409,-0.950685614652313,-0.9291817091647856,-0.911636754550462,-0.9025666161204102,-0.7794583195583107,-0.7640435449509939,-0.7053807717799827,-0.6285866694180361,-0.5960083741330244,-0.5642567679673028,-0.5458487970733205,-0.5394131143318203,-0.5356972730497274,-0.4939708736668109,-0.48686991037526894,-0.48344218264032535,-0.48339348054468173,-0.4800276620747139,-0.46957640005582113,-0.44395480917016145,-0.3515125419385683,-0.35122841583285475,-0.3481859689435602,-0.3347329593910329,-0.325820842457761,-0.26548811623769525,-0.26413684680771476,-0.25787468759439736,-0.2090923872068154,-0.17330987914972504,-0.15402842965253577,-0.14961098588452743,-0.07426703448893338,-0.03605989190814768,-0.014439651125014802,-0.006889915193905083,0.023537164856668097,0.04787548255990087,0.07035409708992163,0.09264649303710354,0.12373724149923473,0.1308609865302418,0.15690947964729854,0.16374796121273438,0.1841834519481596,0.1888951352204472,0.23308520445378733,0.23394388265429605,0.24259073977100842,0.2846737399281317,0.2888211187853924,0.29708661602011954,0.3097331648301309,0.34925615689696043,0.3558145518760668,0.3595838772147698,0.435114408356265,0.44528232710237536,0.47389316032907647,0.4908684599199852,0.512114558013843,0.5386667221932135,0.5468205028841979,0.5790000563705513,0.6692491292872056,0.6986719480049676,0.7303416880164542,0.7676910891654791,0.8173688260684673,0.8505643842542444,0.8813061458784816,0.9136852195305323,0.9693356038820737,1.0171896385811952,1.0420081799050092,1.1558189195503128,1.495033105992435,1.4996136553187074,1.5417513977754758,1.6107887464121209,1.7237844658370096,1.7939886299569077,1.818547913892078,2.1708434213352206,2.24798075065549],\"xaxis\":\"x\",\"y\":[-1.0864076558493758,-0.8361910503948634,-0.7221165163450143,-0.7144634239345665,-0.6929102976747847,-0.6270012712718027,-0.6107978016311277,-0.5096876471503765,-0.5031023343336808,-0.49260964337776025,-0.4559338859369926,-0.45246889148764613,-0.43835719409982743,-0.4114948050265793,-0.40306802103812506,-0.3953312504960395,-0.3843011446016618,-0.3753017231979412,-0.3706493316861684,-0.30750277682691224,-0.2995959993182738,-0.26950580939861407,-0.2301154260281491,-0.2134048779344362,-0.19711836762924445,-0.18767627496477401,-0.18437518799791863,-0.18246920292688318,-0.16106627200107465,-0.1574239393511648,-0.1556657378042201,-0.15564075679448963,-0.15391431067675856,-0.14855349252839298,-0.13541128164883132,-0.08799440673407483,-0.0878486685082816,-0.0862880909942852,-0.07938757145617073,-0.07481623470182708,-0.043869467404611756,-0.043176354011178864,-0.03996427333632627,-0.014942123785005826,0.0034119772067908727,0.013302107624005008,0.015567969170497215,0.05421451934605813,0.07381230026227766,0.08490207860222698,0.0887746024487919,0.10438171694290974,0.11686569208469838,0.1283957603678219,0.1398303106210041,0.15577784387591329,0.1594318620774967,0.172793046055763,0.17630074263986756,0.18678282120676104,0.1891996084952024,0.2118662419309908,0.21230668803908492,0.21674196374777932,0.2383278076939134,0.24045514349373925,0.24469480636900653,0.25118166396116576,0.27145439014165573,0.27481842051086736,0.2767518394268112,0.3154940928854911,0.32070957435047776,0.33538507226874825,0.3440922976695068,0.3549901651268164,0.3686096996245489,0.37279205917375985,0.38929807864050936,0.4355899874157544,0.4506819811169092,0.46692649940577163,0.4860843147153806,0.5115657650012746,0.5285929288448132,0.5443614545338666,0.5609698148780433,0.5895148451199382,0.6140608547046011,0.6267911533521858,0.6851686657967632,0.8591634966195619,0.861513020716592,0.8831269439045335,0.9185386167548881,0.9764980767976611,1.012508250155142,1.0251055666124775,1.2058102649039224,1.2453767013963795],\"yaxis\":\"y\",\"type\":\"scatter\"},{\"hovertemplate\":\"0=%{x}<br>1=%{y}<extra></extra>\",\"legendgroup\":\"\",\"line\":{\"color\":\"red\",\"dash\":\"solid\"},\"marker\":{\"symbol\":\"circle\"},\"mode\":\"lines\",\"name\":\"\",\"orientation\":\"v\",\"showlegend\":false,\"x\":[-0.24077848993507367,-1.2006898967079516,-0.551551323406254,0.969413847928334,-0.050596387296044716,0.10556433430308361,-1.1738035356572043,-0.7905921588926903,-1.2641997162754672,0.2084156629807165,-0.5121917771983725,0.994444562703874,-1.0268440525765927,-1.178915707162569,-0.08730984037097804,0.06288783616454202,-0.6323535865932085,-0.326771378558262,0.8594035481318757,-0.18190952699593166,-0.014860552329912633,0.335754878954226,-0.2993924238951242,0.24693261641255915,-0.728377458171279,-0.4096358074532493,-0.5616503245208159,1.1861377526789438,1.4068742126602825,-1.0508684520177356,0.130416460860744,-0.24591908976902832,-0.14520584847138052,-0.49513326131795604,-0.2311810987293096,0.9301466047481091,0.5260026989486313,0.022616927516235348,0.10884768773370855,1.341621365825651,-0.07444278604001289,-0.6953420778697765,-0.8440887562451425,-0.7309505164797183,1.0712139308615758,0.7316754975698474,-0.6313670639813852,-0.02812636433035852,0.47220265239506526,-0.46248092845736943,0.35878817496239973,-0.8125301409582962,1.4165261291546036,0.6947273011135493,-0.01858463262437889,-0.29475769737789714,0.10296285569886755,-0.09271102591735272,-0.19595979713395956,-1.2601581020484278,-0.21770270983744094,-0.5171520153986715,1.168121911310582,0.4468246445226001,-0.26399437335662995,-0.13111900952984537,-0.590826459781632,-0.5152448366383809,1.4905187174171854,1.8157551898707336,1.1444294619357362,0.265137508713671,-0.7989205821312614,-0.9955849438667689,-0.22205479655675725,0.7756097062939854,0.7617279316523042,0.07037778171106514,0.8112415199547603,0.7722575357520719,-0.5693474463963974,1.0340828974645255,-0.17381027312465136,-0.571787599259577,-0.44010091399085993,-0.876550315083912,-0.3475619973219996,-1.2884131848893026,-0.8613580559461322,1.9886612047879628,0.045333483086579314,-0.86870567004312,0.5716628168559732,0.2916522340993216,-0.1810168122836443,0.05199312829344456,0.8728561951562899,1.5637357813822057,-1.6602042673593682,-0.18880605474555623],\"xaxis\":\"x\",\"y\":[-0.1479932797895065,-1.1390817139891947,-0.468859725113068,1.1015049767691776,0.048365760208772285,0.20959843643406173,-1.1113221090015883,-0.7156643840435273,-1.2046542732768115,0.3157902803638747,-0.4282218175449904,1.1273486658208471,-0.9595895189422428,-1.1166003190706257,0.010459888411263094,0.16553584542949346,-0.5522863704646195,-0.23677913725148486,0.987921645013951,-0.08721230782620695,0.08526226177288207,0.4472653553353115,-0.2085109396702744,0.35555822852821967,-0.6514290078545086,-0.3223349255304089,-0.4792867323670615,1.3252678718628348,1.553173646239625,-0.9843942084757882,0.2352577368890587,-0.1533008415127383,-0.04931652804736214,-0.41060925697491607,-0.13808417426642447,1.0609623701450273,0.6436922471273914,0.12395697521872157,0.21298843012256488,1.4858014477845352,0.023744852669069734,-0.6173206692045086,-0.7708985009953198,-0.6540856366975691,1.206611431473051,0.8560451064691275,-0.551267806518243,0.0715655885683098,0.5881448252273824,-0.37689640678954195,0.4710467513205351,-0.738314891310649,1.5631390479817946,0.8178968670441122,0.08141722682295385,-0.20372568155739817,0.206912464230518,0.004883277394653884,-0.10171891763720534,-1.2004813911882628,-0.1241680198712124,-0.4333431596568827,1.3066668927656209,0.5619425633228317,-0.17196319345704647,-0.034772161712216976,-0.5094104812959899,-0.4313740375087985,1.6395348465170814,1.9753346963306015,1.2822049347270001,0.3743543987561997,-0.7242633067030855,-0.9273151435289424,-0.12866145830908798,0.9014062573263655,0.8870736155883223,0.17326905742340082,0.9381953590701144,0.8979452114109674,-0.48723384958401467,1.1682744167339336,-0.07884999774130116,-0.48975325633688044,-0.35378951032130634,-0.8044143809965347,-0.2582450159265476,-1.2296541727734815,-0.7887286914479152,2.1538565373868885,0.14741134333203787,-0.7963149491995227,0.6908353630887876,0.4017302976988372,-0.0862905985724724,0.15428728760546523,1.0018112214698565,1.7151299324487561,-1.613520682927214,-0.09433282836650231],\"yaxis\":\"y\",\"type\":\"scatter\"}],                        {\"template\":{\"data\":{\"histogram2dcontour\":[{\"type\":\"histogram2dcontour\",\"colorbar\":{\"outlinewidth\":0,\"ticks\":\"\"},\"colorscale\":[[0.0,\"#0d0887\"],[0.1111111111111111,\"#46039f\"],[0.2222222222222222,\"#7201a8\"],[0.3333333333333333,\"#9c179e\"],[0.4444444444444444,\"#bd3786\"],[0.5555555555555556,\"#d8576b\"],[0.6666666666666666,\"#ed7953\"],[0.7777777777777778,\"#fb9f3a\"],[0.8888888888888888,\"#fdca26\"],[1.0,\"#f0f921\"]]}],\"choropleth\":[{\"type\":\"choropleth\",\"colorbar\":{\"outlinewidth\":0,\"ticks\":\"\"}}],\"histogram2d\":[{\"type\":\"histogram2d\",\"colorbar\":{\"outlinewidth\":0,\"ticks\":\"\"},\"colorscale\":[[0.0,\"#0d0887\"],[0.1111111111111111,\"#46039f\"],[0.2222222222222222,\"#7201a8\"],[0.3333333333333333,\"#9c179e\"],[0.4444444444444444,\"#bd3786\"],[0.5555555555555556,\"#d8576b\"],[0.6666666666666666,\"#ed7953\"],[0.7777777777777778,\"#fb9f3a\"],[0.8888888888888888,\"#fdca26\"],[1.0,\"#f0f921\"]]}],\"heatmap\":[{\"type\":\"heatmap\",\"colorbar\":{\"outlinewidth\":0,\"ticks\":\"\"},\"colorscale\":[[0.0,\"#0d0887\"],[0.1111111111111111,\"#46039f\"],[0.2222222222222222,\"#7201a8\"],[0.3333333333333333,\"#9c179e\"],[0.4444444444444444,\"#bd3786\"],[0.5555555555555556,\"#d8576b\"],[0.6666666666666666,\"#ed7953\"],[0.7777777777777778,\"#fb9f3a\"],[0.8888888888888888,\"#fdca26\"],[1.0,\"#f0f921\"]]}],\"heatmapgl\":[{\"type\":\"heatmapgl\",\"colorbar\":{\"outlinewidth\":0,\"ticks\":\"\"},\"colorscale\":[[0.0,\"#0d0887\"],[0.1111111111111111,\"#46039f\"],[0.2222222222222222,\"#7201a8\"],[0.3333333333333333,\"#9c179e\"],[0.4444444444444444,\"#bd3786\"],[0.5555555555555556,\"#d8576b\"],[0.6666666666666666,\"#ed7953\"],[0.7777777777777778,\"#fb9f3a\"],[0.8888888888888888,\"#fdca26\"],[1.0,\"#f0f921\"]]}],\"contourcarpet\":[{\"type\":\"contourcarpet\",\"colorbar\":{\"outlinewidth\":0,\"ticks\":\"\"}}],\"contour\":[{\"type\":\"contour\",\"colorbar\":{\"outlinewidth\":0,\"ticks\":\"\"},\"colorscale\":[[0.0,\"#0d0887\"],[0.1111111111111111,\"#46039f\"],[0.2222222222222222,\"#7201a8\"],[0.3333333333333333,\"#9c179e\"],[0.4444444444444444,\"#bd3786\"],[0.5555555555555556,\"#d8576b\"],[0.6666666666666666,\"#ed7953\"],[0.7777777777777778,\"#fb9f3a\"],[0.8888888888888888,\"#fdca26\"],[1.0,\"#f0f921\"]]}],\"surface\":[{\"type\":\"surface\",\"colorbar\":{\"outlinewidth\":0,\"ticks\":\"\"},\"colorscale\":[[0.0,\"#0d0887\"],[0.1111111111111111,\"#46039f\"],[0.2222222222222222,\"#7201a8\"],[0.3333333333333333,\"#9c179e\"],[0.4444444444444444,\"#bd3786\"],[0.5555555555555556,\"#d8576b\"],[0.6666666666666666,\"#ed7953\"],[0.7777777777777778,\"#fb9f3a\"],[0.8888888888888888,\"#fdca26\"],[1.0,\"#f0f921\"]]}],\"mesh3d\":[{\"type\":\"mesh3d\",\"colorbar\":{\"outlinewidth\":0,\"ticks\":\"\"}}],\"scatter\":[{\"fillpattern\":{\"fillmode\":\"overlay\",\"size\":10,\"solidity\":0.2},\"type\":\"scatter\"}],\"parcoords\":[{\"type\":\"parcoords\",\"line\":{\"colorbar\":{\"outlinewidth\":0,\"ticks\":\"\"}}}],\"scatterpolargl\":[{\"type\":\"scatterpolargl\",\"marker\":{\"colorbar\":{\"outlinewidth\":0,\"ticks\":\"\"}}}],\"bar\":[{\"error_x\":{\"color\":\"#2a3f5f\"},\"error_y\":{\"color\":\"#2a3f5f\"},\"marker\":{\"line\":{\"color\":\"#E5ECF6\",\"width\":0.5},\"pattern\":{\"fillmode\":\"overlay\",\"size\":10,\"solidity\":0.2}},\"type\":\"bar\"}],\"scattergeo\":[{\"type\":\"scattergeo\",\"marker\":{\"colorbar\":{\"outlinewidth\":0,\"ticks\":\"\"}}}],\"scatterpolar\":[{\"type\":\"scatterpolar\",\"marker\":{\"colorbar\":{\"outlinewidth\":0,\"ticks\":\"\"}}}],\"histogram\":[{\"marker\":{\"pattern\":{\"fillmode\":\"overlay\",\"size\":10,\"solidity\":0.2}},\"type\":\"histogram\"}],\"scattergl\":[{\"type\":\"scattergl\",\"marker\":{\"colorbar\":{\"outlinewidth\":0,\"ticks\":\"\"}}}],\"scatter3d\":[{\"type\":\"scatter3d\",\"line\":{\"colorbar\":{\"outlinewidth\":0,\"ticks\":\"\"}},\"marker\":{\"colorbar\":{\"outlinewidth\":0,\"ticks\":\"\"}}}],\"scattermapbox\":[{\"type\":\"scattermapbox\",\"marker\":{\"colorbar\":{\"outlinewidth\":0,\"ticks\":\"\"}}}],\"scatterternary\":[{\"type\":\"scatterternary\",\"marker\":{\"colorbar\":{\"outlinewidth\":0,\"ticks\":\"\"}}}],\"scattercarpet\":[{\"type\":\"scattercarpet\",\"marker\":{\"colorbar\":{\"outlinewidth\":0,\"ticks\":\"\"}}}],\"carpet\":[{\"aaxis\":{\"endlinecolor\":\"#2a3f5f\",\"gridcolor\":\"white\",\"linecolor\":\"white\",\"minorgridcolor\":\"white\",\"startlinecolor\":\"#2a3f5f\"},\"baxis\":{\"endlinecolor\":\"#2a3f5f\",\"gridcolor\":\"white\",\"linecolor\":\"white\",\"minorgridcolor\":\"white\",\"startlinecolor\":\"#2a3f5f\"},\"type\":\"carpet\"}],\"table\":[{\"cells\":{\"fill\":{\"color\":\"#EBF0F8\"},\"line\":{\"color\":\"white\"}},\"header\":{\"fill\":{\"color\":\"#C8D4E3\"},\"line\":{\"color\":\"white\"}},\"type\":\"table\"}],\"barpolar\":[{\"marker\":{\"line\":{\"color\":\"#E5ECF6\",\"width\":0.5},\"pattern\":{\"fillmode\":\"overlay\",\"size\":10,\"solidity\":0.2}},\"type\":\"barpolar\"}],\"pie\":[{\"automargin\":true,\"type\":\"pie\"}]},\"layout\":{\"autotypenumbers\":\"strict\",\"colorway\":[\"#636efa\",\"#EF553B\",\"#00cc96\",\"#ab63fa\",\"#FFA15A\",\"#19d3f3\",\"#FF6692\",\"#B6E880\",\"#FF97FF\",\"#FECB52\"],\"font\":{\"color\":\"#2a3f5f\"},\"hovermode\":\"closest\",\"hoverlabel\":{\"align\":\"left\"},\"paper_bgcolor\":\"white\",\"plot_bgcolor\":\"#E5ECF6\",\"polar\":{\"bgcolor\":\"#E5ECF6\",\"angularaxis\":{\"gridcolor\":\"white\",\"linecolor\":\"white\",\"ticks\":\"\"},\"radialaxis\":{\"gridcolor\":\"white\",\"linecolor\":\"white\",\"ticks\":\"\"}},\"ternary\":{\"bgcolor\":\"#E5ECF6\",\"aaxis\":{\"gridcolor\":\"white\",\"linecolor\":\"white\",\"ticks\":\"\"},\"baxis\":{\"gridcolor\":\"white\",\"linecolor\":\"white\",\"ticks\":\"\"},\"caxis\":{\"gridcolor\":\"white\",\"linecolor\":\"white\",\"ticks\":\"\"}},\"coloraxis\":{\"colorbar\":{\"outlinewidth\":0,\"ticks\":\"\"}},\"colorscale\":{\"sequential\":[[0.0,\"#0d0887\"],[0.1111111111111111,\"#46039f\"],[0.2222222222222222,\"#7201a8\"],[0.3333333333333333,\"#9c179e\"],[0.4444444444444444,\"#bd3786\"],[0.5555555555555556,\"#d8576b\"],[0.6666666666666666,\"#ed7953\"],[0.7777777777777778,\"#fb9f3a\"],[0.8888888888888888,\"#fdca26\"],[1.0,\"#f0f921\"]],\"sequentialminus\":[[0.0,\"#0d0887\"],[0.1111111111111111,\"#46039f\"],[0.2222222222222222,\"#7201a8\"],[0.3333333333333333,\"#9c179e\"],[0.4444444444444444,\"#bd3786\"],[0.5555555555555556,\"#d8576b\"],[0.6666666666666666,\"#ed7953\"],[0.7777777777777778,\"#fb9f3a\"],[0.8888888888888888,\"#fdca26\"],[1.0,\"#f0f921\"]],\"diverging\":[[0,\"#8e0152\"],[0.1,\"#c51b7d\"],[0.2,\"#de77ae\"],[0.3,\"#f1b6da\"],[0.4,\"#fde0ef\"],[0.5,\"#f7f7f7\"],[0.6,\"#e6f5d0\"],[0.7,\"#b8e186\"],[0.8,\"#7fbc41\"],[0.9,\"#4d9221\"],[1,\"#276419\"]]},\"xaxis\":{\"gridcolor\":\"white\",\"linecolor\":\"white\",\"ticks\":\"\",\"title\":{\"standoff\":15},\"zerolinecolor\":\"white\",\"automargin\":true,\"zerolinewidth\":2},\"yaxis\":{\"gridcolor\":\"white\",\"linecolor\":\"white\",\"ticks\":\"\",\"title\":{\"standoff\":15},\"zerolinecolor\":\"white\",\"automargin\":true,\"zerolinewidth\":2},\"scene\":{\"xaxis\":{\"backgroundcolor\":\"#E5ECF6\",\"gridcolor\":\"white\",\"linecolor\":\"white\",\"showbackground\":true,\"ticks\":\"\",\"zerolinecolor\":\"white\",\"gridwidth\":2},\"yaxis\":{\"backgroundcolor\":\"#E5ECF6\",\"gridcolor\":\"white\",\"linecolor\":\"white\",\"showbackground\":true,\"ticks\":\"\",\"zerolinecolor\":\"white\",\"gridwidth\":2},\"zaxis\":{\"backgroundcolor\":\"#E5ECF6\",\"gridcolor\":\"white\",\"linecolor\":\"white\",\"showbackground\":true,\"ticks\":\"\",\"zerolinecolor\":\"white\",\"gridwidth\":2}},\"shapedefaults\":{\"line\":{\"color\":\"#2a3f5f\"}},\"annotationdefaults\":{\"arrowcolor\":\"#2a3f5f\",\"arrowhead\":0,\"arrowwidth\":1},\"geo\":{\"bgcolor\":\"white\",\"landcolor\":\"#E5ECF6\",\"subunitcolor\":\"white\",\"showland\":true,\"showlakes\":true,\"lakecolor\":\"white\"},\"title\":{\"x\":0.05},\"mapbox\":{\"style\":\"light\"}}},\"xaxis\":{\"anchor\":\"y\",\"domain\":[0.0,1.0],\"title\":{\"text\":\"0\"}},\"yaxis\":{\"anchor\":\"x\",\"domain\":[0.0,1.0],\"title\":{\"text\":\"1\"}},\"legend\":{\"tracegroupgap\":0},\"margin\":{\"t\":60},\"width\":500,\"height\":500},                        {\"responsive\": true}                    ).then(function(){\n",
       "                            \n",
       "var gd = document.getElementById('89696e8c-b4cf-4c1d-b976-411ae595fb6b');\n",
       "var x = new MutationObserver(function (mutations, observer) {{\n",
       "        var display = window.getComputedStyle(gd).display;\n",
       "        if (!display || display === 'none') {{\n",
       "            console.log([gd, 'removed!']);\n",
       "            Plotly.purge(gd);\n",
       "            observer.disconnect();\n",
       "        }}\n",
       "}});\n",
       "\n",
       "// Listen for the removal of the full notebook cells\n",
       "var notebookContainer = gd.closest('#notebook-container');\n",
       "if (notebookContainer) {{\n",
       "    x.observe(notebookContainer, {childList: true});\n",
       "}}\n",
       "\n",
       "// Listen for the clearing of the current output cell\n",
       "var outputEl = gd.closest('.output');\n",
       "if (outputEl) {{\n",
       "    x.observe(outputEl, {childList: true});\n",
       "}}\n",
       "\n",
       "                        })                };                });            </script>        </div>"
      ]
     },
     "metadata": {},
     "output_type": "display_data"
    }
   ],
   "source": [
    "cov = np.array([[1, 0.5], [0.5, 1]])\n",
    "X = np.random.multivariate_normal([0, 0], cov, size=100)\n",
    "\n",
    "fig = px.scatter(X,x=0,y=1, trendline=\"ols\")\n",
    "fig.add_traces(\n",
    "    px.line(sm.PCA(X).project(ncomp=1),x=0,y=1).update_traces(line_color=\"red\").data, \n",
    ").update_layout(width=500, height=500)"
   ]
  },
  {
   "cell_type": "code",
   "execution_count": 55,
   "id": "529c722f-b092-4b0e-8a2c-938c5317b6f9",
   "metadata": {},
   "outputs": [
    {
     "data": {
      "application/vnd.plotly.v1+json": {
       "config": {
        "plotlyServerURL": "https://plotly.com"
       },
       "data": [
        {
         "hovertemplate": "0=%{x}<br>1=%{y}<extra></extra>",
         "legendgroup": "",
         "marker": {
          "color": "#636efa",
          "symbol": "circle"
         },
         "mode": "markers",
         "name": "",
         "orientation": "v",
         "showlegend": false,
         "type": "scatter",
         "x": [
          -0.1831718303287549,
          -0.13608348824631594,
          -0.4892510550393624,
          -1.56119981511055,
          -1.4853068494521218,
          0.4376697757610719,
          0.38466976429637245,
          0.28442679933572546,
          1.1914489007768614,
          0.5955661668013689,
          -0.07127704115356989,
          -1.1086708527832503,
          -0.564399944874174,
          0.7585082114040017,
          -0.4267134648544524,
          0.9839035306556825,
          -0.5836393425808597,
          0.5433543845215668,
          0.4923463386045253,
          0.4985921648611863,
          -1.5362823119203821,
          0.7363315016578658,
          0.9382328179450296,
          0.7512411139683934,
          0.9940666197200554,
          -1.0105299502008356,
          -0.845176567143896,
          -2.1468178700231593,
          1.2394235489260286,
          -1.0401842090276425,
          0.27331580617512274,
          0.267686417200634,
          0.4538078126786031,
          0.4787511353460723,
          -1.6257503359446568,
          0.19346826422619823,
          -1.3966733077637905,
          -0.8862237920982622,
          0.167459504791741,
          0.8599848626435457,
          0.5152474773503014,
          -0.13629835869186152,
          -0.44649700792541525,
          -0.29449163812006307,
          -0.24175883001634021,
          0.3102003292351064,
          0.7743002771133553,
          -1.0956378855940554,
          -2.7607997876338857,
          0.06619770403011443,
          1.588560729660399,
          0.2841090819271085,
          -0.04723906606738587,
          0.31425713491028784,
          1.1999464814291176,
          0.4489194059232927,
          0.5099721137266375,
          1.3319301168821527,
          0.44393498464477893,
          0.30255669530542784,
          -0.8974605884392578,
          -0.9283756126157671,
          -0.7403217856051392,
          -1.2507978401257474,
          0.5375607973037267,
          -0.14822318734029133,
          0.6022316077071768,
          2.3516399950201285,
          0.3054240157555801,
          1.1516482194377062,
          -0.6967373392459798,
          -0.5060087529533135,
          0.3386484440692815,
          -0.3970596659169717,
          0.5016883675851829,
          0.641295476316282,
          -0.9461404411703356,
          1.325925412460183,
          -1.4323749953601554,
          0.1990423184063378,
          -2.3220669881780633,
          0.6933841296773979,
          0.2584499290675003,
          0.9024833623253173,
          -1.9864542568391164,
          -0.8094387680372217,
          -0.5072181481679195,
          1.2118904895145874,
          -0.4601649782751387,
          0.5592413665734975,
          -0.046602780904484886,
          1.1372727180906606,
          -1.5466027168065826,
          1.3147646473450467,
          0.3197252866900816,
          -1.1944489815835277,
          0.9277666836900498,
          -1.9359944179608457,
          -0.35062641003026596,
          -0.6862851907997578,
          -0.6397988077300756,
          0.30496845333452693,
          0.25190168674758256,
          1.3932416521071231,
          -0.4961044217361691,
          -2.190931916378829,
          -1.3169386005812878,
          -0.18845741533122273,
          0.43998859702808363,
          -0.08199168401431389,
          -0.33506077089779757,
          -0.46213955339837354,
          -0.1970378739028631,
          1.7719139138204176,
          0.26728475935308726,
          1.0311631136420705,
          0.7544334343129668,
          0.7774285271702497,
          -1.6300081796557389,
          -0.2382616208299928,
          -2.140902220014775,
          0.49226961388858725,
          1.4973048015914332,
          0.657955003542854,
          -0.3430836568738597,
          1.1631883771022677,
          1.3089694603046262,
          0.1589903748082785,
          0.3889730163965135,
          0.9601785573772461,
          1.584404388105829,
          0.6290061569928513,
          0.5039848638933606,
          -0.5583967386311474,
          -1.1345912626886305,
          -1.387412912858317,
          -0.9617883666865559,
          0.3663350290051046,
          -0.4636015372871749,
          -1.2091828261269517,
          0.33952320579188133,
          -1.2654281217744472,
          0.9026155796041502,
          0.293456000154505,
          -0.04758606836388335,
          -0.3365537356136783,
          1.0930423911040887,
          1.5367319702769031,
          -0.8788212375606044,
          0.10665466042678792,
          0.7105009273766842,
          0.39569023972970985,
          1.7394403133268455,
          -1.039942923034608,
          -1.0293317834463627,
          0.5658818997101962,
          0.00016757140826617611,
          0.7113492645187424,
          -0.8951381775963348,
          -0.5101949204523963,
          0.5568055601873341,
          0.2520965081511475,
          1.0427356996888462,
          0.37339642209201773,
          -0.0831194102204302,
          -0.07111147749453275,
          -0.1138897667062159,
          -0.0923142257580824,
          -1.0441630021432848,
          -1.004045757052462,
          -1.0531188090102037,
          -0.22720562389582533,
          -0.21629744333374804,
          0.24655771570798168,
          0.21613498092362937,
          0.7190206354670425,
          -2.1323231678122556,
          0.7405007322289586,
          -0.3903571688882914,
          -0.5327423233667297,
          -2.214835562344297,
          -0.9296556771169084,
          1.4074649733752562,
          0.5475434855907559,
          -0.14476681553204596,
          0.03346247681019826,
          -1.125331525540558,
          1.1480538896869021,
          0.5779317055386768,
          -1.1367500513640716,
          -1.5359875694933787,
          1.4905773663028354,
          -0.38381159578927865,
          0.32726231139093864,
          -0.4413552862489367,
          0.3289114469887776,
          0.2814723349048672,
          0.0023630877693706642,
          0.9524848458507132,
          2.329523483444226,
          -0.6408948751809174,
          -0.05273291341228703,
          -0.5801998889891269,
          -0.37324256054460997,
          -0.022098098299956563,
          0.8632729409341063,
          -0.2504991976964996,
          0.13200982525992844,
          0.5754090908964561,
          0.5340085087816713,
          -1.641954138335139,
          0.8193079557052972,
          -0.37993643469910743,
          -0.9071073640984719,
          -0.6796820754000477,
          1.0278028267964632,
          1.281858014761928,
          -0.1724061308755187,
          -1.6387034981842703,
          2.2167469707575815,
          0.8280544065450614,
          -0.4936110125125608,
          1.39350397015081,
          -0.41542964544107475,
          -2.0814197800465832,
          1.951054595593604,
          0.3351407648732208,
          -0.46452107399691855,
          -1.9244237561080126,
          0.049994060399671185,
          -0.7637583598758989,
          0.6705288648799225,
          1.0203175110667502,
          -0.6430522677657187,
          -0.28051133994621247,
          0.42245344975138865,
          -1.0711990005761096,
          -1.2768706242529992,
          -0.09790016380296997,
          -1.6101607544347922,
          0.5652396645397624,
          -0.20633571427348713,
          -1.3629652007211206,
          -0.16736116881572294,
          0.914197311962468,
          -0.14701104767198503,
          -2.075182005895606,
          1.3032549208617508,
          0.497274143629343,
          -1.0638301210068333,
          -2.213666248476464,
          0.9187822221822985,
          -0.5259123714131358,
          0.5851270456188864,
          -0.7504388433149518,
          -1.384513649468271,
          -0.2139426099057159,
          0.7245079722933365,
          0.30577405182893824,
          -0.7653631366588092,
          -0.32522830032326255,
          -0.018874642875768344,
          -0.0513988177984952,
          -0.967204126273105,
          -0.210952601669111,
          0.68398561113067,
          -0.8834321034931428,
          -0.3932872593258664,
          0.3733429287817518,
          -0.6726186269322169,
          -0.2263462090771617,
          0.24931122535397027,
          1.876969403677361,
          0.011571764815367924,
          1.4548619651786145,
          2.064445487098737,
          -1.0231436687767097,
          -0.18572029236902687,
          0.6847148007831501,
          0.7259798922753236,
          1.2354097111038609,
          -1.0741134475520162,
          1.6906496288141368,
          -1.283996556825205,
          -1.202574159623679,
          0.4554559094219616,
          -0.805131457137425,
          0.09391946878446211,
          0.017244229188319082,
          -0.8844849042479173,
          -0.28790271196038797,
          -0.5316344870919889,
          0.40201850889563334,
          -1.005333470667569,
          0.38147861217880885,
          -0.2235958688362401,
          0.2654432144794717,
          -0.38084645038089376,
          -0.3357695800493647,
          -0.30980327275621006,
          -2.2878999265287647,
          0.7420641235838926,
          -1.6012602962242595,
          -0.4885575845711828,
          1.6897207478907508,
          0.8583034948900969,
          1.4200326436504667,
          -2.213574809573051,
          -0.6611177109920645,
          -0.31066584523596147,
          0.5753463013792056,
          0.06993099073688673,
          -0.7162526850574171,
          -0.3735302259516927,
          -0.9910400905749788,
          2.160861363643279,
          0.1413563822852119,
          0.8029624156506129,
          2.4553413560485153,
          -1.0060465466409507,
          0.49844559949803297,
          -0.4463212113095461,
          -0.5561513041242012,
          0.6465569664833117,
          -1.0388716486248721,
          0.4423671154789018,
          0.02341285690531919,
          -1.4707556061930793,
          -0.4673287798054061,
          0.35542235441658615,
          -0.2794600630172679,
          -1.6847630160672198,
          0.2988768755743564,
          -1.6688454432415154,
          0.24056878353230715,
          1.6658384160030593,
          -2.3525926561435795,
          0.7734400882954906,
          0.5121365388056112,
          0.32307760069941477,
          -0.22947343646616464,
          -0.036137462519155394,
          -0.6488833146000681,
          0.19525948563109474,
          0.930507525439424,
          -0.09944345057308068,
          -0.6323196307621759,
          1.888942221054042,
          0.6028822701004689,
          0.01937371708704,
          0.16335308494765843,
          -0.16292016714956328,
          -1.2210631380234864,
          0.15028494627847022,
          0.13403562587632195,
          -0.6532315615286416,
          -1.6237378003791763,
          2.2489548070078964,
          -0.5160234020675536,
          0.9068136624716812,
          0.0978134478538012,
          -0.23649296801570543,
          -2.0570560837686434,
          -0.2885170232390315,
          -1.8890450831741716,
          0.7556687498839041,
          -0.17943086831452554,
          0.8052969052263224,
          -0.65949992701439,
          -0.126710418654974,
          0.2927220323977896,
          -1.1396748791099096,
          0.023399304127057263,
          0.3567847490898105,
          0.04734893129958631,
          -0.5639106687362789,
          0.16470411402893556,
          -0.487843896375169,
          -0.406802440194867,
          -0.8627231670088573,
          0.24835241036387432,
          -0.3625622094608443,
          0.42413088086352835,
          -0.698399992137423,
          0.8698082035211439,
          -0.5428852963227858,
          -1.142680003360602,
          0.8108155184878716,
          -0.25971824111982805,
          0.3097771151504831,
          -1.7090905215108192,
          -0.9986437130813812,
          -1.3747424046188659,
          0.019239281284559276,
          -0.21342426894425146,
          0.06082787863511274,
          1.099552620521278,
          0.22722938589812214,
          -1.578960978455265,
          -0.6186124479299127,
          -1.0548930303503035,
          1.164216079630921,
          -0.5851799927322512,
          -0.25698377808732376,
          0.6630115360078228,
          1.0504052993314172,
          -0.3345592449893928,
          1.2719715008386103,
          1.2373526427377026,
          0.2813565330041876,
          -0.2605357738784055,
          -0.6653858191958313,
          -0.2257970994532501,
          -1.7733800582201509,
          0.013090988092321065,
          -1.632614731094686,
          0.20522531634407798,
          -2.6178919813276336,
          -2.004721872504028,
          1.0233761702060709,
          1.5807119957998217,
          -2.0114169425536907,
          -0.4759452585130322,
          0.5830283694649193,
          1.2180071450570205,
          0.9126356177870696,
          -0.6079832031446781,
          -1.0856053660832607,
          -0.4052074941576264,
          -0.28219033591238873,
          -0.3208626541014151,
          -1.7155912817506997,
          -0.6469104870322198,
          0.7365404744882691,
          -0.3606017372775528,
          0.07204379156542706,
          0.7646922523183125,
          -0.9079751951647768,
          -2.0574577658884734,
          -0.3859519676965347,
          -1.1500813323910668,
          0.5786133059689744,
          -0.5458065853861853,
          0.12406943246124122,
          -1.652858212167481,
          -0.6940289279288858,
          0.9146484205281045,
          0.9866550913839389,
          1.1176075741498737,
          -0.322931490327686,
          0.8557812770897276,
          1.273621298051204,
          -0.9291608578056457,
          -1.5459679791308076,
          0.9441523424959807,
          -0.40815567344284365,
          -0.3835464397780628,
          0.43323126048451815,
          -0.11073176537218533,
          -0.3627416573528901,
          -0.9328633715235096,
          -2.827228963085772,
          1.020926731707919,
          0.37814018786905607,
          2.266256477331306,
          -1.1345879818725835,
          0.8736413474175433,
          0.6938942195908582,
          0.046872612912676415,
          0.026415363649964906,
          -1.1304869628633,
          -0.8814818906593764,
          -0.5063557945813784,
          0.906667903590544,
          -0.2760211472329575,
          0.1514906139034408,
          -1.1498152055901296,
          0.4442709654434406,
          0.44703092166999203,
          -0.33213779231340745,
          -0.21317070212929068,
          0.18780113999949322,
          2.2613748519647108,
          0.007159249162384307,
          -0.8940841749971415,
          0.07692884074258999,
          -0.4001225182304836,
          1.9550632785948394,
          -2.386320470167922,
          0.03572599671889892,
          -0.014278311742514094,
          -1.324435879712593,
          -1.4604125859305335,
          -1.2759214237235723,
          -0.783278740788507,
          0.9768647943971727,
          2.0052334947598838,
          -0.2578942461293711,
          0.35573296396546916,
          1.34932078187522,
          0.06739808509867037,
          -0.9146128091560511,
          -0.35390949278140205,
          0.9804126544367756,
          -0.8744242927132062,
          0.2042683557179165,
          1.112266933207772,
          1.2528362965612219,
          0.3319746178266837,
          0.8469490853635353,
          -1.277225389930981,
          -0.1159057507917723,
          -0.26484931658272004,
          0.41159220981274036,
          0.6866316843203666,
          0.14509011757620188,
          0.8024320376944054,
          0.8557687375845818,
          0.06250568486834052,
          0.022455215866873157,
          0.7159138068920681,
          -1.1589106116948833,
          -1.0694094871932438,
          -0.04918343296218536,
          0.13434805610707234,
          0.9828595743492663,
          0.5618613384840674,
          0.7524298873334261,
          -0.26771579341960694,
          0.8735798369292666,
          -1.7329264019969977,
          -0.39359653274529705,
          3.03223005473317,
          -0.2256124603408698,
          2.2913870034405637,
          -0.5208566121488134,
          -0.9318634871458381,
          1.537779404377591,
          -0.30791494306948364,
          0.7895939878717664,
          -0.3567218635535365,
          -0.27314032463151644,
          0.2744711290675257,
          -0.0700281950307754,
          1.7308853697237763,
          -1.3902133811912964,
          -0.9820800433712243,
          0.18833603007549282,
          0.34521129781042914,
          1.804478609334385,
          -2.2633471152106766,
          0.5018061903103015,
          -1.055629184449956,
          0.0875341156922998,
          -0.5812519188667506,
          1.5238463368270625,
          -0.838092055880769,
          -1.0840080050425183,
          -1.1701002504006257,
          0.23331786134320967,
          0.5292258835044477,
          1.7314395166389311,
          -2.4310170001264106,
          0.457070071865493,
          -0.8057871174816116,
          -0.0594729199485676,
          -1.5013625049474943,
          -0.3770398554699328,
          2.145770929098348,
          0.3334215175323848,
          1.4182600032691492,
          -1.6953549918315653,
          0.9089176413466216,
          -0.08025835996216935,
          1.1594950838044031,
          0.5550169187691111,
          -2.289748231696766,
          -1.5499822892807775,
          0.6204101019041108,
          -0.1321710098973717,
          -0.5638013537104363,
          -0.8491965098736072,
          0.08811845535874085,
          0.2641241671180891,
          -1.4571592953342767,
          -0.5428193093697151,
          1.8857725496750555,
          -1.9022083966549719,
          2.1464953807552907,
          -0.8212815381025467,
          -0.745840129705647,
          1.6027445941207592,
          0.10478801556990988,
          1.4851089690998687,
          -0.1781883228252017,
          -0.6870437418999789,
          0.0920028855361883,
          -0.27691328670545295,
          0.7711151569969193,
          -0.7071972905951728,
          -1.4364861545020997,
          -0.31335392918464994,
          -0.49650384284295535,
          -1.5647095968299802,
          -2.235010446035567,
          -0.08084875725256568,
          0.059341219294560765,
          -1.7251664872863453,
          0.4158633572817601,
          -0.9948442483767765,
          -0.932535444559633,
          1.3987967315238663,
          -0.8670819743774716,
          0.38375763381091077,
          0.8608203747981317,
          -1.3504870151668817,
          1.0932820369853506,
          -1.6268986672155457,
          -1.242055169816789,
          -0.616612872094064,
          -0.38881849565479426,
          -1.7715871781570458,
          -0.12305809329568604,
          -2.0531180186965323,
          0.33639550252833494,
          1.5216786364623025,
          -0.5617934627892827,
          -2.226458970790509,
          -0.004302318653023662,
          -1.2480705947522153,
          -0.24687982818736276,
          0.9816807334477768,
          -0.004574236022042766,
          -1.8583399839394639,
          -0.41844980089724426,
          -0.4177045919757319,
          2.259806191866357,
          -0.1813488440810248,
          -0.7672024875448236,
          -0.5175718133037444,
          0.6017147734852245,
          0.7028729850848382,
          1.3454431308333648,
          -0.7345054119481721,
          -0.5073764096672901,
          -1.7990555607129703,
          1.9062123133284081,
          -0.1423893421791492,
          -0.10565975234859537,
          -2.0909707750596276,
          0.5892397003241897,
          -2.182819191183972,
          -1.5109176803982522,
          -0.704264927717765,
          -0.6554551084311363,
          0.41732055577936183,
          -0.4413048881431603,
          0.3923044332513801,
          -0.30526199501740103,
          -1.1930272639400805,
          -0.3835111350811816,
          0.8968142494673332,
          0.8239376194495767,
          1.1725468116427384,
          -1.426452060221231,
          0.9736467719965751,
          -0.23369199166635174,
          -0.05386415327555738,
          -0.25808024999433515,
          1.2439224176801855,
          0.4251837808347655,
          -0.9541588498481552,
          -0.24454210987857133,
          -0.9245658577884004,
          1.030148230603467,
          0.8299632552027149,
          1.3510049232907098,
          0.3979947718183563,
          0.6698132036503577,
          1.3258929088037728,
          0.6204326136100051,
          -0.0949021192747963,
          2.4481224678642026,
          -0.006122755063942109,
          -0.16201325064386168,
          2.103966697220591,
          1.9687173006798895,
          -0.22700388949696337,
          -0.7994140488493032,
          -0.3703875362257948,
          -0.3414710420509474,
          0.7238997856255822,
          0.8043058493284828,
          -1.8623488369924766,
          -0.6885429424101398,
          0.26526393758016953,
          0.909113942448177,
          0.32623215800820615,
          1.5988936070686095,
          0.11682073821433048,
          -1.5511825105845962,
          2.091857772814071,
          -1.4327269877698765,
          -0.5244959892833891,
          0.9813813434164486,
          -1.0905575212953742,
          -0.8770677898077907,
          0.17052549631142758,
          0.5066818590199298,
          -1.4800964459311854,
          0.1327414707218787,
          -0.4721374834895725,
          -0.5905286202022396,
          0.2694561694990623,
          0.6529415392364464,
          1.1107659045484657,
          -0.957053907610852,
          0.4081065658241406,
          2.5477406370588684,
          1.2253367545318405,
          -0.6963174994978423,
          -0.8453474027805213,
          -0.31991928278453874,
          0.6786806700020299,
          -0.23807907653341998,
          1.5211188681224872,
          2.66218259312222,
          -0.8206662467274811,
          -0.878964839905896,
          1.884605841029527,
          -0.3893006298077918,
          -0.8095519847307602,
          0.2790026841617103,
          1.0189819937238729,
          -0.8751802469647851,
          0.3214479771615658,
          0.9494482438176133,
          0.942498474351302,
          1.1644312320536956,
          0.5510991525710495,
          -0.5657600354166563,
          -1.178880623919753,
          -0.7763272054562523,
          0.2607355627860957,
          1.6803253292019176,
          -1.1314676173581653,
          -1.0611508626921233,
          0.04679428380846962,
          -0.6056532879052967,
          -0.38963251172506586,
          0.8966001234744372,
          1.3443238404895552,
          1.2283249174750641,
          -1.0116681520747448,
          -1.2039042114082497,
          -0.29311697099121325,
          -1.0901148490818717,
          0.5108412649339373,
          -0.4350551200769995,
          -2.5089290687231736,
          -0.5322756512263851,
          -0.12417543861996028,
          0.814443528004792,
          -0.40138961108205207,
          0.18156303629889706,
          -0.031368235384226305,
          0.5378576321891948,
          0.6292525467100173,
          -0.17989938061514113,
          -0.08539620778818091,
          0.24104522725297778,
          2.6348404624197177,
          0.7366088517230457,
          0.39386387403989187,
          -0.2149420006790791,
          -1.9045334044781406,
          0.8682976015268378,
          -0.3873951253573833,
          0.39407552237626003,
          0.9570184188025395,
          -0.21408423739464622,
          0.03711847102314453,
          -0.6889949010273706,
          0.4724735531767397,
          -0.2614943232147715,
          -0.15871120597020288,
          1.2362773821220827,
          -0.7272275878208541,
          -1.4909419734771219,
          1.1040938682088275,
          1.1104348358818217,
          -0.27451470937909705,
          0.370941882994025,
          -0.5438123564111206,
          0.8649644847856108,
          -2.6144521763597424,
          0.7466872254736043,
          -1.341228809665585,
          0.5296865378227344,
          -1.2341354617117133
         ],
         "xaxis": "x",
         "y": [
          0.029159685027892943,
          0.6256131321065114,
          0.8350966719628719,
          -0.7855718941594552,
          -0.6841581655408182,
          0.5677926284556993,
          0.0626387007658962,
          2.4475943553009025,
          0.18722209750954366,
          0.7152727292058121,
          -0.0809283839017189,
          -0.5207180024205871,
          -0.25994099789169256,
          0.021383082964574807,
          -0.5619855778560053,
          0.3030067454934745,
          -0.5724636071973804,
          0.1311420814234158,
          -0.3237513218901235,
          1.364619621374171,
          -0.7345531377086987,
          0.8411815530501304,
          0.5971938377360813,
          -0.27745797878234646,
          1.4037111059826852,
          -2.0244867569937686,
          -0.7427216978169101,
          -0.11666721524003587,
          1.1656202879776343,
          -0.5943672252386452,
          0.5304104111431166,
          -0.021221499343890754,
          -0.852525132641684,
          1.6667404080696784,
          -2.5010720420564114,
          -0.4184895970966994,
          -0.28513550878887095,
          -1.0257172712918292,
          -0.7304330985018042,
          0.5717670165452071,
          -0.3525201249739986,
          -0.342822468054907,
          0.13733237836133377,
          -0.703634926334656,
          -0.09881408675844149,
          0.40336928945214956,
          -0.6450078197747977,
          -0.6022219330563483,
          -1.1211375502013565,
          0.8470341716777101,
          1.1879200236075398,
          -1.469656549476729,
          0.5096765094945239,
          1.6326753272586334,
          1.4600647609564874,
          0.43824274130590674,
          0.8798126700842888,
          0.6281182457162624,
          1.3527887392147462,
          1.6434807848567234,
          1.0191950312309925,
          -1.6290776598827852,
          -1.494745318468393,
          -0.4310874037412262,
          0.7073939012505267,
          0.9209670175785147,
          -0.021011654606195584,
          0.5016733331312362,
          -1.6383194532372438,
          1.3629211511249881,
          0.5233902698096673,
          -0.8359128567729656,
          0.8971128419844734,
          -1.6726598251983171,
          0.43999573517693885,
          -0.6614731020883791,
          -0.37284238023939564,
          1.521518704673853,
          0.10260007661549753,
          -0.1279242781201189,
          -1.3982904699720833,
          -1.6845231831563976,
          -0.07331955286732325,
          0.611477350115238,
          0.7000767083328434,
          0.19173080910109136,
          -0.026582893048225253,
          -0.21126627460064817,
          0.5798195880816389,
          1.1135260042469781,
          1.6327405132395847,
          -0.6766023681966046,
          -0.880470298455027,
          -0.3851445485210379,
          -0.4255499777418537,
          -1.371151140359511,
          0.6623252511083771,
          -1.4199108590699998,
          -1.3945561538958722,
          -0.5364157842914049,
          -1.9766960568631537,
          0.2627816503799048,
          0.05163676384245543,
          0.1754236679986495,
          -0.3342813240396147,
          0.756272494374347,
          -1.8717226243960088,
          -0.42659186046762715,
          -0.33821711592615117,
          -1.2865208532929997,
          -0.03478952118612377,
          -0.07589116861862819,
          2.081738381888281,
          1.489834372836605,
          0.4640450481737928,
          0.6609410874913523,
          0.7027044382314668,
          0.0647339354146142,
          -1.0767107126786875,
          -0.23063043819881426,
          -2.1306002017378662,
          0.8434547373476089,
          1.2845354068837351,
          -0.07918242556733357,
          -0.4067377891830751,
          1.793341251453883,
          -0.9286950221564172,
          -1.9948108050913742,
          0.5528025622589012,
          -0.20798391685964618,
          -0.7935318732457299,
          -0.44482677739535925,
          -0.3195683289295587,
          0.5226088013276271,
          0.2808580997678988,
          -1.371584556979899,
          0.09910322472514821,
          1.465625173671012,
          -1.177897603140534,
          0.9215990582047655,
          -0.31754045918820156,
          0.0340890404678712,
          0.6509858950684407,
          0.2107131250457458,
          0.6567266699299535,
          1.7268489070151722,
          1.1135698705258672,
          2.3670556942361003,
          0.06724324775830348,
          -0.4414482003403326,
          -0.1605180122221564,
          0.11698528499906691,
          1.371217905777172,
          -1.1389444031603395,
          -0.31030123999313053,
          -0.3744186854996779,
          1.6793271236282905,
          1.7433750682892053,
          -0.8479654162069945,
          -0.26246738967583405,
          -1.4298327118616723,
          0.9126343052002954,
          0.28542860139054166,
          1.2397088633537523,
          -0.14312006602112712,
          0.10010798157652555,
          -0.18787299407846333,
          -0.7360126931456212,
          -0.5253189542041938,
          -0.05236258579718739,
          -0.14588086268936956,
          -1.2475582235254132,
          0.49490514891494874,
          2.110395530961804,
          0.9278342243618352,
          -0.44288335071817364,
          -1.1943694511894567,
          0.9583600266162751,
          1.010293089866916,
          -0.7111638593579729,
          -2.151545186276472,
          0.5327483493757975,
          1.091660286605003,
          0.7245264318338244,
          0.5017755832147737,
          -0.9531798196696502,
          -1.062312525896687,
          0.38844931784590614,
          -0.791653403689473,
          -1.0596016631638974,
          -2.23771810657525,
          -1.805896077387626,
          1.0118152446650575,
          -1.7182705130796596,
          0.11257746684684067,
          0.9553317665177483,
          -0.46929364181896793,
          0.6891354417570906,
          2.402560760903704,
          0.058688821285595605,
          -2.0279965734916314,
          1.3419887099755656,
          -1.352205916463164,
          -1.1677793794290452,
          -0.04226215749662336,
          0.3171335102691319,
          -0.19596869339191608,
          2.0351133189768857,
          0.7193172012893698,
          -0.15952852904600529,
          -0.30225892944623345,
          -0.6049016699228835,
          -1.6524416931885737,
          -0.3050347117817447,
          -1.4908093179198039,
          0.7837848158635318,
          -0.36997428474106414,
          0.270450625778237,
          -1.5623707251756296,
          2.1198243022096355,
          1.440706105523851,
          0.3198562290482929,
          -0.29390605827472005,
          0.016349003208203594,
          -0.9575715424531819,
          1.7239314962839374,
          -0.4419715840785489,
          -0.0433619594624203,
          -1.0839743388856442,
          0.009765340350949059,
          -1.5017755140213498,
          -1.126637967160943,
          0.7118169905487163,
          -0.7409517693630295,
          -1.0605074617756824,
          -1.5292303733476134,
          -0.4870770193697039,
          -0.05483598437885473,
          0.3398866019040825,
          0.19416069745056042,
          0.4301039682985051,
          0.18978475900042507,
          -0.6682107713941277,
          0.39454677446406977,
          0.7922154953815251,
          1.0650334191104036,
          -0.2694892282931841,
          3.570097423116433,
          -1.2936660051714777,
          -1.4796995649616906,
          -1.265810823655451,
          1.5851182822756014,
          -0.6736995765354193,
          -0.8191443919316711,
          -1.5025302391559947,
          -1.794532250688007,
          0.5880244944728156,
          2.616338436688045,
          0.015573848398926893,
          -0.2892959225237455,
          0.588006366017861,
          -1.0790041345964467,
          0.7453851407896949,
          -0.25509784802949675,
          -1.2226490374520476,
          -0.046506442488387534,
          0.4370135639915865,
          -1.8686209596731713,
          1.0661251986747455,
          -0.8022203981361327,
          -1.1314018068948986,
          -0.1239857555326097,
          1.1017307466957602,
          -0.2936829835384331,
          1.484520463346268,
          -0.4444645300297918,
          -1.2745481854627432,
          -0.4029679538878051,
          -0.031620988997132726,
          -0.42141817380761515,
          1.8147823545309922,
          -0.961640621195034,
          0.8173800319393782,
          -1.4043235741404259,
          -0.46944588292390893,
          -0.7872646506142862,
          -0.6023365265067822,
          -1.1155743767788828,
          1.0051804440522452,
          -0.9809433772463457,
          0.22710558506643871,
          0.9393917361560538,
          -0.6334131375300234,
          -0.7092180584142666,
          0.12501679881785743,
          0.5243198647383607,
          1.5047010062119046,
          0.8968967612796992,
          -0.7362120757973429,
          0.2874072817800887,
          -2.194050639615667,
          -0.23714734946376548,
          -0.5626107163638062,
          -1.0983220136071832,
          0.7073619296870532,
          0.801607643244196,
          -0.16742879198308103,
          -0.9558171605435413,
          -0.3462057775977371,
          1.045917817631112,
          -0.3644211891984205,
          -0.304808898014852,
          0.3589435096548311,
          -0.3172232216334497,
          -0.8552440145649828,
          0.9696006336071524,
          0.3484535012385408,
          0.4696993200377775,
          1.3936561377845544,
          0.42436414982972354,
          -0.417041836279409,
          0.16527104881238033,
          -0.6012690078015225,
          0.03580151230135581,
          0.7155268706052761,
          0.3240496715527209,
          -0.8215879735637194,
          0.03688402600876817,
          -1.152736596471081,
          -0.8018213578415293,
          0.5283796205473422,
          0.3721148954167296,
          0.9650106305159092,
          -1.5050119565935596,
          -0.2641547629075734,
          -0.5522494135877767,
          -1.1324307626579484,
          0.5990000864883628,
          -0.29842047096182894,
          1.0407635773528159,
          -0.021421109597570584,
          -1.5807197515306495,
          -1.7565735997191383,
          -1.5979279406220388,
          1.3385973122961599,
          -0.523487362144593,
          -0.9799991405439226,
          1.1868802846013011,
          0.7530717293573335,
          1.0118188694746186,
          1.374087650629746,
          -0.46866687361758286,
          -1.229188818950693,
          -0.10734522123997232,
          0.7395556362386297,
          -0.2387218014897897,
          -0.7660052381699831,
          0.948294310387816,
          0.09012041271225893,
          -0.4499964375196346,
          -0.8012022784773174,
          0.5912037624704317,
          -1.8753873696000187,
          -0.3090210014813018,
          -2.5237483878281606,
          0.2546633838721211,
          -0.3503081880353053,
          1.1061687155634417,
          0.5147883593845143,
          -1.2870618281415696,
          -0.26446676618015635,
          -0.4304959283493893,
          -1.5566398583724794,
          0.0728523240925256,
          0.126013328781411,
          -0.06247615290853831,
          -0.10493070839888002,
          -0.8204517197557256,
          0.25960317287958123,
          0.04521764892954744,
          0.25192758748003047,
          0.2345788870016886,
          1.3928905863606014,
          0.3159626741554906,
          0.5901531999966906,
          -0.9728131011591197,
          0.8728122627449044,
          0.16141234558265233,
          1.2447881218767742,
          -0.4115439079719312,
          -1.9848434733937836,
          -0.30364036712880516,
          -1.5880252976885054,
          0.24451497300271474,
          0.3210350393898562,
          -1.3459673392159548,
          1.059020518523083,
          0.12571765961991954,
          -1.4088398417139105,
          -0.24211944899247376,
          -0.5116916385518202,
          0.23093733963471313,
          0.3849678703204805,
          -0.5171167717533188,
          1.2854069251259783,
          -0.9080776359462166,
          0.35914608783088303,
          1.0130128937066778,
          0.284876775868368,
          -0.027346615853755196,
          0.21537634695719549,
          -0.3478252409182737,
          -1.5675995672201466,
          -2.2308377061185873,
          -0.6518530173597779,
          -1.4209233619085135,
          -0.25111386601171853,
          -2.3682217336097064,
          -1.0410451305900812,
          0.07951611214506404,
          -0.7744837499696908,
          -2.6854853905179463,
          0.49197308490513575,
          0.6323031159598755,
          0.596094353067465,
          0.23293192031739351,
          -0.6436965233451913,
          -0.8595345243186725,
          0.30284104633582654,
          -0.6049552285214987,
          -0.15238429007762486,
          -1.1508242220154044,
          0.6511142164647964,
          1.0390519290171676,
          0.49767608826805293,
          0.34195393136497904,
          -0.5311414433578909,
          -0.4846547654739052,
          0.10056861712547405,
          -0.16169135329961282,
          -0.7855237058835725,
          0.027121541862848042,
          -1.2248615327763914,
          0.14592249330560836,
          -1.1525004135496908,
          -0.9389581813189591,
          1.0363425946416154,
          0.5201935760079268,
          1.1377566272618458,
          -0.6794732607811544,
          1.218238601171145,
          -0.2047922445930026,
          -0.3610175056055695,
          -0.5314130916633768,
          -0.9591835256866593,
          0.04278706459888659,
          0.3590675049749152,
          0.5610721552477677,
          -0.21132490109340898,
          -0.1712664682555417,
          0.5370813796210481,
          -1.146705323365253,
          0.0773812125473679,
          0.8547066948257499,
          0.7402017406102152,
          0.7802781851633902,
          0.8754354732398856,
          -0.3142813974610318,
          0.6081184328970665,
          -0.0431356658140605,
          2.2795448632361395,
          0.3786755269694071,
          0.6026630926156128,
          0.7176761478694463,
          0.9590207835354745,
          0.32835836835778043,
          -0.7596369265308476,
          -0.027787326040989907,
          0.6099317870625768,
          -0.9641473261211131,
          -0.4239391558406229,
          0.7338426441347827,
          2.319375645310931,
          -1.7569517015703735,
          -0.18584023926902493,
          1.2153032849690613,
          0.9220636267842985,
          2.0669588993014174,
          -2.4514645881315285,
          0.9402553787131652,
          -0.6927165325116775,
          -0.861837290443953,
          -1.3256902607006287,
          -0.6569123887791086,
          -1.595849739419509,
          1.3010872722725066,
          0.7878582157981946,
          -0.44675224757532583,
          0.31837266653949275,
          0.680466436387622,
          -0.05809514393239017,
          0.6468456829441777,
          -1.0225856895579881,
          1.4179839631743503,
          -0.26000103701704036,
          -0.11426106751552896,
          1.241142724158686,
          0.8758467577203808,
          2.062432638959148,
          -0.013573230401275893,
          -1.7018983187966308,
          -0.35786360555908886,
          1.4157718233621435,
          0.6999665029131936,
          0.4714666760943412,
          -1.046719925429069,
          -0.3696471302731489,
          0.521611843085229,
          0.6288716387694506,
          1.9391865946923552,
          1.3822198766224063,
          -2.465484948741013,
          -0.04313553800218217,
          0.7558688164773218,
          -0.20219040334250138,
          0.7688383715904749,
          1.447633877942782,
          -0.2587489267692934,
          -0.739416500212408,
          0.6213702392987381,
          -1.087024451169758,
          0.03396730795307085,
          1.5983357162846046,
          1.8664696844778192,
          1.4309449720914253,
          -0.11599162309329028,
          -0.4422438949262086,
          -0.3522464408576569,
          -0.5238215154218718,
          0.11526779148128408,
          0.3490456684131746,
          0.22265104451065482,
          0.06507985836591364,
          1.412502174206967,
          0.4765629025043825,
          -2.7076047668865875,
          0.09719542798168762,
          1.3592676370150665,
          -0.18403812004711334,
          2.573672276767693,
          -1.4454287550315856,
          0.6019808222268644,
          -0.9547374248519434,
          0.4597855422156085,
          -1.5588922471645454,
          0.31300087468260895,
          -0.8901034125038837,
          1.2004743282349077,
          -1.1864210459275115,
          -0.2337583682071209,
          1.9917440370062116,
          1.5925596414049688,
          -0.803157239998504,
          -0.31199785563885407,
          -0.5414069350104235,
          0.2400883351692779,
          -1.3054209529644856,
          -0.002704507847186982,
          2.0899145771337673,
          0.5673148148976694,
          0.1271542170307527,
          -1.5443297574726338,
          -0.25381302304852243,
          -1.7669702592193408,
          0.294212530140148,
          0.3590100188543319,
          -0.19823515984084672,
          -1.4261759341454028,
          -0.6826642083493201,
          -0.11192995685693266,
          0.17245368856511417,
          -2.4243381928180936,
          0.9131280854761835,
          0.41816838842960935,
          -0.017970964734936312,
          -0.3706377678222239,
          1.3342218017183498,
          1.3677335927953105,
          0.44015256275707904,
          0.5907748788235658,
          -2.3434717107874405,
          0.19421453297744373,
          -0.58376562855546,
          0.46441508830337075,
          -1.455177882580037,
          -1.279699803145241,
          0.8162277206873199,
          -0.33669881059856466,
          0.6420788837393754,
          0.9114504302583156,
          -0.46011737554882887,
          -0.9922392500692422,
          -0.24199260810676762,
          -0.7266054223867272,
          -1.8443069804858965,
          0.6977564576495163,
          -0.573438844862002,
          -2.5985482423218107,
          -0.4240765171768754,
          -1.6443678547388467,
          -1.6240129474939295,
          1.715143625485431,
          0.3710371654379011,
          0.7024070399669756,
          2.199351577083754,
          -1.2713778596657928,
          -0.3335199625037543,
          -0.8108046973533384,
          -0.4090085164892922,
          0.1076218977450869,
          -1.0329403647459334,
          -0.23229377544931795,
          0.6026668299181129,
          -1.4019368250133577,
          -0.30034121677247755,
          0.08381680768906119,
          -0.9689664419598988,
          -1.3900043120829675,
          1.4831255739385607,
          -0.2371951814716432,
          -0.3231419485604735,
          0.504624066009998,
          -0.3581149574996516,
          -2.2018433508518025,
          1.0377239040202577,
          -0.8688454045202626,
          1.8307547746052888,
          0.3007002987122801,
          0.6817493933043176,
          0.9741156162249651,
          0.09348352524930226,
          -0.6163974660851748,
          -0.015217570743436326,
          -0.8579419101910883,
          -0.8722900498191617,
          -0.5220755361301591,
          0.26675090108072996,
          0.4032275949515864,
          -0.2189114296715641,
          -1.4915610863086595,
          0.9225198355454538,
          -2.1506785444330805,
          -0.37708706851316376,
          0.8585084635339244,
          -0.3048584355178966,
          -0.05992924342746572,
          0.9340325703467667,
          0.3798658444473756,
          1.3193133148063076,
          -2.5776422128323437,
          1.552221481665173,
          1.9000977032291733,
          -0.14990357030528123,
          0.5041997779835476,
          0.07330938922415908,
          0.5323888593460779,
          -0.2779421516600244,
          -0.8242367030683555,
          0.8704650403045135,
          0.1317546975050472,
          -0.2759303450793963,
          -1.416508103890987,
          -0.12096292346897267,
          -1.0972629702033707,
          0.6742325097808011,
          1.0562499005020265,
          1.8965492705873346,
          0.14031607162818002,
          -0.17997311768747476,
          0.3387081337477683,
          1.116509545862985,
          -1.003286853323149,
          2.7483507539341163,
          0.23569801905627358,
          -0.6995884645306585,
          1.1687759898075252,
          0.8607393272554401,
          0.4909924997955384,
          -1.0984706220564284,
          -0.41544974600781076,
          -0.4318873794840917,
          0.025041603053024997,
          0.31790872055589153,
          -1.153082224332623,
          -0.5920717918342541,
          0.17030861052222612,
          -2.2088871869951645,
          -1.3870365642853617,
          -0.5270015593841473,
          1.6594559094512258,
          -1.9648591584011748,
          1.6541934701471086,
          -0.22444480076260276,
          -0.07615087277252869,
          1.1279491999524687,
          -0.2209006872503922,
          -1.0437489967245943,
          -0.01188483238629151,
          0.10296011691449258,
          -0.4742733237594532,
          1.1486015430414693,
          -1.092904066032746,
          0.2741965862960088,
          -1.1215107427205302,
          -1.8143575094990303,
          0.8328700307778258,
          -0.33174938198902226,
          1.4791484049051835,
          0.9645178065389292,
          1.4583582287372772,
          -1.1219299847208357,
          -0.02829532566926135,
          1.0974337670876386,
          0.7716061957968627,
          0.7566335578375196,
          0.7446511608847612,
          1.547925496292918,
          -1.6200081240109145,
          0.18754541211888287,
          0.8735271718032223,
          -0.849568605445614,
          0.34689616123824607,
          0.06776677034476179,
          1.3221052328944725,
          -0.5507718243666987,
          1.9929291143036796,
          0.6861592465414474,
          0.8060996436008339,
          1.3873728763893909,
          0.8475094835724655,
          0.44344470470192354,
          0.43596133034756623,
          -0.7063930262023047,
          -0.6998155462236242,
          1.4556759903889631,
          -0.8109030250934713,
          0.0685013468204424,
          0.6268476177490824,
          0.010134842288457235,
          0.43026523690706286,
          0.6405357418472324,
          -0.027197930420915784,
          -0.42578945479171393,
          -1.0367226331918866,
          -0.2467990440611224,
          -0.7468381221107177,
          1.287652378989895,
          0.04881123286149802,
          -1.0130913237161194,
          -1.1941827372297873,
          -0.47926247627571555,
          -2.1987163552363587,
          1.7523820699909576,
          -0.03808886923074414,
          0.1323419573238956,
          -0.1278790566215584,
          -0.17879804629546894,
          0.3970914378665815,
          -0.15675573429354506,
          0.20737312739226985,
          -1.0000076544743584,
          1.1848583868489113,
          1.5804665122630357,
          -1.0252810449017247,
          -0.40248304963919057,
          0.3578842181611728,
          0.3070748655146074,
          0.8732837460114824,
          0.051813177817360945,
          0.5388227260314646,
          -1.465665454798272,
          -0.8685372434514331,
          -1.947318006410511,
          -0.4221291882121217,
          1.8770898668560618,
          0.21113432747640581,
          0.4883769279408929,
          -0.027563532788386802,
          -0.1908293115434676,
          -0.2876149754945373,
          1.831139825550775,
          -1.914064273034537,
          -1.404933706160667,
          0.42942198353169014,
          1.4355841597849994,
          -0.7857663421957007,
          2.2350188566849285,
          -0.34973529179229734,
          1.2390496206913357,
          -0.5178360802475179
         ],
         "yaxis": "y"
        },
        {
         "hovertemplate": "<b>OLS trendline</b><br>1 = 0.532171 * 0 + 0.00327944<br>R<sup>2</sup>=0.284600<br><br>0=%{x}<br>1=%{y} <b>(trend)</b><extra></extra>",
         "legendgroup": "",
         "marker": {
          "color": "#636efa",
          "symbol": "circle"
         },
         "mode": "lines",
         "name": "",
         "showlegend": false,
         "type": "scatter",
         "x": [
          -2.827228963085772,
          -2.7607997876338857,
          -2.6178919813276336,
          -2.6144521763597424,
          -2.5089290687231736,
          -2.4310170001264106,
          -2.386320470167922,
          -2.3525926561435795,
          -2.3220669881780633,
          -2.289748231696766,
          -2.2878999265287647,
          -2.2633471152106766,
          -2.235010446035567,
          -2.226458970790509,
          -2.214835562344297,
          -2.213666248476464,
          -2.213574809573051,
          -2.190931916378829,
          -2.182819191183972,
          -2.1468178700231593,
          -2.140902220014775,
          -2.1323231678122556,
          -2.0909707750596276,
          -2.0814197800465832,
          -2.075182005895606,
          -2.0574577658884734,
          -2.0570560837686434,
          -2.0531180186965323,
          -2.0114169425536907,
          -2.004721872504028,
          -1.9864542568391164,
          -1.9359944179608457,
          -1.9244237561080126,
          -1.9045334044781406,
          -1.9022083966549719,
          -1.8890450831741716,
          -1.8623488369924766,
          -1.8583399839394639,
          -1.7990555607129703,
          -1.7733800582201509,
          -1.7715871781570458,
          -1.7329264019969977,
          -1.7251664872863453,
          -1.7155912817506997,
          -1.7090905215108192,
          -1.6953549918315653,
          -1.6847630160672198,
          -1.6688454432415154,
          -1.652858212167481,
          -1.641954138335139,
          -1.6387034981842703,
          -1.632614731094686,
          -1.6300081796557389,
          -1.6268986672155457,
          -1.6257503359446568,
          -1.6237378003791763,
          -1.6101607544347922,
          -1.6012602962242595,
          -1.578960978455265,
          -1.5647095968299802,
          -1.56119981511055,
          -1.5511825105845962,
          -1.5499822892807775,
          -1.5466027168065826,
          -1.5459679791308076,
          -1.5362823119203821,
          -1.5359875694933787,
          -1.5109176803982522,
          -1.5013625049474943,
          -1.4909419734771219,
          -1.4853068494521218,
          -1.4800964459311854,
          -1.4707556061930793,
          -1.4604125859305335,
          -1.4571592953342767,
          -1.4364861545020997,
          -1.4327269877698765,
          -1.4323749953601554,
          -1.426452060221231,
          -1.3966733077637905,
          -1.3902133811912964,
          -1.387412912858317,
          -1.384513649468271,
          -1.3747424046188659,
          -1.3629652007211206,
          -1.3504870151668817,
          -1.341228809665585,
          -1.324435879712593,
          -1.3169386005812878,
          -1.283996556825205,
          -1.277225389930981,
          -1.2768706242529992,
          -1.2759214237235723,
          -1.2654281217744472,
          -1.2507978401257474,
          -1.2480705947522153,
          -1.242055169816789,
          -1.2341354617117133,
          -1.2210631380234864,
          -1.2091828261269517,
          -1.2039042114082497,
          -1.202574159623679,
          -1.1944489815835277,
          -1.1930272639400805,
          -1.178880623919753,
          -1.1701002504006257,
          -1.1589106116948833,
          -1.1500813323910668,
          -1.1498152055901296,
          -1.142680003360602,
          -1.1396748791099096,
          -1.1367500513640716,
          -1.1345912626886305,
          -1.1345879818725835,
          -1.1314676173581653,
          -1.1304869628633,
          -1.125331525540558,
          -1.1086708527832503,
          -1.0956378855940554,
          -1.0905575212953742,
          -1.0901148490818717,
          -1.0856053660832607,
          -1.0840080050425183,
          -1.0741134475520162,
          -1.0711990005761096,
          -1.0694094871932438,
          -1.0638301210068333,
          -1.0611508626921233,
          -1.055629184449956,
          -1.0548930303503035,
          -1.0531188090102037,
          -1.0441630021432848,
          -1.0401842090276425,
          -1.039942923034608,
          -1.0388716486248721,
          -1.0293317834463627,
          -1.0231436687767097,
          -1.0116681520747448,
          -1.0105299502008356,
          -1.0060465466409507,
          -1.005333470667569,
          -1.004045757052462,
          -0.9986437130813812,
          -0.9948442483767765,
          -0.9910400905749788,
          -0.9820800433712243,
          -0.967204126273105,
          -0.9617883666865559,
          -0.957053907610852,
          -0.9541588498481552,
          -0.9461404411703356,
          -0.9328633715235096,
          -0.932535444559633,
          -0.9318634871458381,
          -0.9296556771169084,
          -0.9291608578056457,
          -0.9283756126157671,
          -0.9245658577884004,
          -0.9146128091560511,
          -0.9079751951647768,
          -0.9071073640984719,
          -0.8974605884392578,
          -0.8951381775963348,
          -0.8940841749971415,
          -0.8862237920982622,
          -0.8844849042479173,
          -0.8834321034931428,
          -0.8814818906593764,
          -0.878964839905896,
          -0.8788212375606044,
          -0.8770677898077907,
          -0.8751802469647851,
          -0.8744242927132062,
          -0.8670819743774716,
          -0.8627231670088573,
          -0.8491965098736072,
          -0.8453474027805213,
          -0.845176567143896,
          -0.838092055880769,
          -0.8212815381025467,
          -0.8206662467274811,
          -0.8095519847307602,
          -0.8094387680372217,
          -0.8057871174816116,
          -0.805131457137425,
          -0.7994140488493032,
          -0.783278740788507,
          -0.7763272054562523,
          -0.7672024875448236,
          -0.7653631366588092,
          -0.7637583598758989,
          -0.7504388433149518,
          -0.745840129705647,
          -0.7403217856051392,
          -0.7345054119481721,
          -0.7272275878208541,
          -0.7162526850574171,
          -0.7071972905951728,
          -0.704264927717765,
          -0.698399992137423,
          -0.6967373392459798,
          -0.6963174994978423,
          -0.6940289279288858,
          -0.6889949010273706,
          -0.6885429424101398,
          -0.6870437418999789,
          -0.6862851907997578,
          -0.6796820754000477,
          -0.6726186269322169,
          -0.6653858191958313,
          -0.6611177109920645,
          -0.65949992701439,
          -0.6554551084311363,
          -0.6532315615286416,
          -0.6488833146000681,
          -0.6469104870322198,
          -0.6430522677657187,
          -0.6408948751809174,
          -0.6397988077300756,
          -0.6323196307621759,
          -0.6186124479299127,
          -0.616612872094064,
          -0.6079832031446781,
          -0.6056532879052967,
          -0.5905286202022396,
          -0.5851799927322512,
          -0.5836393425808597,
          -0.5812519188667506,
          -0.5801998889891269,
          -0.5657600354166563,
          -0.564399944874174,
          -0.5639106687362789,
          -0.5638013537104363,
          -0.5617934627892827,
          -0.5583967386311474,
          -0.5561513041242012,
          -0.5458065853861853,
          -0.5438123564111206,
          -0.5428852963227858,
          -0.5428193093697151,
          -0.5327423233667297,
          -0.5322756512263851,
          -0.5316344870919889,
          -0.5259123714131358,
          -0.5244959892833891,
          -0.5208566121488134,
          -0.5175718133037444,
          -0.5160234020675536,
          -0.5101949204523963,
          -0.5073764096672901,
          -0.5072181481679195,
          -0.5063557945813784,
          -0.5060087529533135,
          -0.49650384284295535,
          -0.4961044217361691,
          -0.4936110125125608,
          -0.4892510550393624,
          -0.4885575845711828,
          -0.487843896375169,
          -0.4759452585130322,
          -0.4721374834895725,
          -0.4673287798054061,
          -0.46452107399691855,
          -0.4636015372871749,
          -0.46213955339837354,
          -0.4601649782751387,
          -0.44649700792541525,
          -0.4463212113095461,
          -0.4413552862489367,
          -0.4413048881431603,
          -0.4350551200769995,
          -0.4267134648544524,
          -0.41844980089724426,
          -0.4177045919757319,
          -0.41542964544107475,
          -0.40815567344284365,
          -0.406802440194867,
          -0.4052074941576264,
          -0.40138961108205207,
          -0.4001225182304836,
          -0.3970596659169717,
          -0.39359653274529705,
          -0.3932872593258664,
          -0.3903571688882914,
          -0.38963251172506586,
          -0.3893006298077918,
          -0.38881849565479426,
          -0.3873951253573833,
          -0.3859519676965347,
          -0.38381159578927865,
          -0.3835464397780628,
          -0.3835111350811816,
          -0.38084645038089376,
          -0.37993643469910743,
          -0.3770398554699328,
          -0.3735302259516927,
          -0.37324256054460997,
          -0.3703875362257948,
          -0.3627416573528901,
          -0.3625622094608443,
          -0.3606017372775528,
          -0.3567218635535365,
          -0.35390949278140205,
          -0.35062641003026596,
          -0.3430836568738597,
          -0.3414710420509474,
          -0.3365537356136783,
          -0.3357695800493647,
          -0.33506077089779757,
          -0.3345592449893928,
          -0.33213779231340745,
          -0.32522830032326255,
          -0.322931490327686,
          -0.3208626541014151,
          -0.31991928278453874,
          -0.31335392918464994,
          -0.31066584523596147,
          -0.30980327275621006,
          -0.30791494306948364,
          -0.30526199501740103,
          -0.29449163812006307,
          -0.29311697099121325,
          -0.2885170232390315,
          -0.28790271196038797,
          -0.28219033591238873,
          -0.28051133994621247,
          -0.2794600630172679,
          -0.27691328670545295,
          -0.2760211472329575,
          -0.27451470937909705,
          -0.27314032463151644,
          -0.26771579341960694,
          -0.26484931658272004,
          -0.2614943232147715,
          -0.2605357738784055,
          -0.25971824111982805,
          -0.25808024999433515,
          -0.2578942461293711,
          -0.25698377808732376,
          -0.2504991976964996,
          -0.24687982818736276,
          -0.24454210987857133,
          -0.24175883001634021,
          -0.2382616208299928,
          -0.23807907653341998,
          -0.23649296801570543,
          -0.23369199166635174,
          -0.22947343646616464,
          -0.22720562389582533,
          -0.22700388949696337,
          -0.2263462090771617,
          -0.2257970994532501,
          -0.2256124603408698,
          -0.2235958688362401,
          -0.21629744333374804,
          -0.2149420006790791,
          -0.21408423739464622,
          -0.2139426099057159,
          -0.21342426894425146,
          -0.21317070212929068,
          -0.210952601669111,
          -0.20633571427348713,
          -0.1970378739028631,
          -0.18845741533122273,
          -0.18572029236902687,
          -0.1831718303287549,
          -0.1813488440810248,
          -0.17989938061514113,
          -0.17943086831452554,
          -0.1781883228252017,
          -0.1724061308755187,
          -0.16736116881572294,
          -0.16292016714956328,
          -0.16201325064386168,
          -0.15871120597020288,
          -0.14822318734029133,
          -0.14701104767198503,
          -0.14476681553204596,
          -0.1423893421791492,
          -0.13629835869186152,
          -0.13608348824631594,
          -0.1321710098973717,
          -0.126710418654974,
          -0.12417543861996028,
          -0.12305809329568604,
          -0.1159057507917723,
          -0.1138897667062159,
          -0.11073176537218533,
          -0.10565975234859537,
          -0.09944345057308068,
          -0.09790016380296997,
          -0.0949021192747963,
          -0.0923142257580824,
          -0.08539620778818091,
          -0.0831194102204302,
          -0.08199168401431389,
          -0.08084875725256568,
          -0.08025835996216935,
          -0.07127704115356989,
          -0.07111147749453275,
          -0.0700281950307754,
          -0.0594729199485676,
          -0.05386415327555738,
          -0.05273291341228703,
          -0.0513988177984952,
          -0.04918343296218536,
          -0.04758606836388335,
          -0.04723906606738587,
          -0.046602780904484886,
          -0.036137462519155394,
          -0.031368235384226305,
          -0.022098098299956563,
          -0.018874642875768344,
          -0.014278311742514094,
          -0.006122755063942109,
          -0.004574236022042766,
          -0.004302318653023662,
          0.00016757140826617611,
          0.0023630877693706642,
          0.007159249162384307,
          0.011571764815367924,
          0.013090988092321065,
          0.017244229188319082,
          0.019239281284559276,
          0.01937371708704,
          0.022455215866873157,
          0.023399304127057263,
          0.02341285690531919,
          0.026415363649964906,
          0.03346247681019826,
          0.03572599671889892,
          0.03711847102314453,
          0.04679428380846962,
          0.046872612912676415,
          0.04734893129958631,
          0.049994060399671185,
          0.059341219294560765,
          0.06082787863511274,
          0.06250568486834052,
          0.06619770403011443,
          0.06739808509867037,
          0.06993099073688673,
          0.07204379156542706,
          0.07692884074258999,
          0.0875341156922998,
          0.08811845535874085,
          0.0920028855361883,
          0.09391946878446211,
          0.0978134478538012,
          0.10478801556990988,
          0.10665466042678792,
          0.11682073821433048,
          0.12406943246124122,
          0.13200982525992844,
          0.1327414707218787,
          0.13403562587632195,
          0.13434805610707234,
          0.1413563822852119,
          0.14509011757620188,
          0.15028494627847022,
          0.1514906139034408,
          0.1589903748082785,
          0.16335308494765843,
          0.16470411402893556,
          0.167459504791741,
          0.17052549631142758,
          0.18156303629889706,
          0.18780113999949322,
          0.18833603007549282,
          0.19346826422619823,
          0.19525948563109474,
          0.1990423184063378,
          0.2042683557179165,
          0.20522531634407798,
          0.21613498092362937,
          0.22722938589812214,
          0.23331786134320967,
          0.24056878353230715,
          0.24104522725297778,
          0.24655771570798168,
          0.24835241036387432,
          0.24931122535397027,
          0.25190168674758256,
          0.2520965081511475,
          0.2584499290675003,
          0.2607355627860957,
          0.2641241671180891,
          0.26526393758016953,
          0.2654432144794717,
          0.26728475935308726,
          0.267686417200634,
          0.2694561694990623,
          0.27331580617512274,
          0.2744711290675257,
          0.2790026841617103,
          0.2813565330041876,
          0.2814723349048672,
          0.2841090819271085,
          0.28442679933572546,
          0.2927220323977896,
          0.293456000154505,
          0.2988768755743564,
          0.30255669530542784,
          0.30496845333452693,
          0.3054240157555801,
          0.30577405182893824,
          0.3097771151504831,
          0.3102003292351064,
          0.31425713491028784,
          0.3197252866900816,
          0.3214479771615658,
          0.32307760069941477,
          0.32623215800820615,
          0.32726231139093864,
          0.3289114469887776,
          0.3319746178266837,
          0.3334215175323848,
          0.3351407648732208,
          0.33639550252833494,
          0.3386484440692815,
          0.33952320579188133,
          0.34521129781042914,
          0.35542235441658615,
          0.35573296396546916,
          0.3567847490898105,
          0.3663350290051046,
          0.370941882994025,
          0.3733429287817518,
          0.37339642209201773,
          0.37814018786905607,
          0.38147861217880885,
          0.38375763381091077,
          0.38466976429637245,
          0.3889730163965135,
          0.3923044332513801,
          0.39386387403989187,
          0.39407552237626003,
          0.39569023972970985,
          0.3979947718183563,
          0.40201850889563334,
          0.4081065658241406,
          0.41159220981274036,
          0.4158633572817601,
          0.41732055577936183,
          0.42245344975138865,
          0.42413088086352835,
          0.4251837808347655,
          0.43323126048451815,
          0.4376697757610719,
          0.43998859702808363,
          0.4423671154789018,
          0.44393498464477893,
          0.4442709654434406,
          0.44703092166999203,
          0.4489194059232927,
          0.4538078126786031,
          0.4554559094219616,
          0.457070071865493,
          0.4724735531767397,
          0.4787511353460723,
          0.49226961388858725,
          0.4923463386045253,
          0.497274143629343,
          0.49844559949803297,
          0.4985921648611863,
          0.5016883675851829,
          0.5018061903103015,
          0.5039848638933606,
          0.5066818590199298,
          0.5099721137266375,
          0.5108412649339373,
          0.5121365388056112,
          0.5152474773503014,
          0.5292258835044477,
          0.5296865378227344,
          0.5340085087816713,
          0.5375607973037267,
          0.5378576321891948,
          0.5433543845215668,
          0.5475434855907559,
          0.5510991525710495,
          0.5550169187691111,
          0.5568055601873341,
          0.5592413665734975,
          0.5618613384840674,
          0.5652396645397624,
          0.5658818997101962,
          0.5753463013792056,
          0.5754090908964561,
          0.5779317055386768,
          0.5786133059689744,
          0.5830283694649193,
          0.5851270456188864,
          0.5892397003241897,
          0.5955661668013689,
          0.6017147734852245,
          0.6022316077071768,
          0.6028822701004689,
          0.6204101019041108,
          0.6204326136100051,
          0.6290061569928513,
          0.6292525467100173,
          0.641295476316282,
          0.6465569664833117,
          0.6529415392364464,
          0.657955003542854,
          0.6630115360078228,
          0.6698132036503577,
          0.6705288648799225,
          0.6786806700020299,
          0.68398561113067,
          0.6847148007831501,
          0.6866316843203666,
          0.6933841296773979,
          0.6938942195908582,
          0.7028729850848382,
          0.7105009273766842,
          0.7113492645187424,
          0.7159138068920681,
          0.7190206354670425,
          0.7238997856255822,
          0.7245079722933365,
          0.7259798922753236,
          0.7363315016578658,
          0.7365404744882691,
          0.7366088517230457,
          0.7405007322289586,
          0.7420641235838926,
          0.7466872254736043,
          0.7512411139683934,
          0.7524298873334261,
          0.7544334343129668,
          0.7556687498839041,
          0.7585082114040017,
          0.7646922523183125,
          0.7711151569969193,
          0.7734400882954906,
          0.7743002771133553,
          0.7774285271702497,
          0.7895939878717664,
          0.8024320376944054,
          0.8029624156506129,
          0.8043058493284828,
          0.8052969052263224,
          0.8108155184878716,
          0.814443528004792,
          0.8193079557052972,
          0.8239376194495767,
          0.8280544065450614,
          0.8299632552027149,
          0.8469490853635353,
          0.8557687375845818,
          0.8557812770897276,
          0.8583034948900969,
          0.8599848626435457,
          0.8608203747981317,
          0.8632729409341063,
          0.8649644847856108,
          0.8682976015268378,
          0.8698082035211439,
          0.8735798369292666,
          0.8736413474175433,
          0.8966001234744372,
          0.8968142494673332,
          0.9024833623253173,
          0.9026155796041502,
          0.906667903590544,
          0.9068136624716812,
          0.9089176413466216,
          0.909113942448177,
          0.9126356177870696,
          0.914197311962468,
          0.9146484205281045,
          0.9187822221822985,
          0.9277666836900498,
          0.930507525439424,
          0.9382328179450296,
          0.942498474351302,
          0.9441523424959807,
          0.9494482438176133,
          0.9524848458507132,
          0.9570184188025395,
          0.9601785573772461,
          0.9736467719965751,
          0.9768647943971727,
          0.9804126544367756,
          0.9813813434164486,
          0.9816807334477768,
          0.9828595743492663,
          0.9839035306556825,
          0.9866550913839389,
          0.9940666197200554,
          1.0189819937238729,
          1.0203175110667502,
          1.020926731707919,
          1.0233761702060709,
          1.0278028267964632,
          1.030148230603467,
          1.0311631136420705,
          1.0427356996888462,
          1.0504052993314172,
          1.0930423911040887,
          1.0932820369853506,
          1.099552620521278,
          1.1040938682088275,
          1.1104348358818217,
          1.1107659045484657,
          1.112266933207772,
          1.1176075741498737,
          1.1372727180906606,
          1.1480538896869021,
          1.1516482194377062,
          1.1594950838044031,
          1.1631883771022677,
          1.164216079630921,
          1.1644312320536956,
          1.1725468116427384,
          1.1914489007768614,
          1.1999464814291176,
          1.2118904895145874,
          1.2180071450570205,
          1.2253367545318405,
          1.2283249174750641,
          1.2354097111038609,
          1.2362773821220827,
          1.2373526427377026,
          1.2394235489260286,
          1.2439224176801855,
          1.2528362965612219,
          1.2719715008386103,
          1.273621298051204,
          1.281858014761928,
          1.3032549208617508,
          1.3089694603046262,
          1.3147646473450467,
          1.3258929088037728,
          1.325925412460183,
          1.3319301168821527,
          1.3443238404895552,
          1.3454431308333648,
          1.34932078187522,
          1.3510049232907098,
          1.3932416521071231,
          1.39350397015081,
          1.3987967315238663,
          1.4074649733752562,
          1.4182600032691492,
          1.4200326436504667,
          1.4548619651786145,
          1.4851089690998687,
          1.4905773663028354,
          1.4973048015914332,
          1.5211188681224872,
          1.5216786364623025,
          1.5238463368270625,
          1.5367319702769031,
          1.537779404377591,
          1.5807119957998217,
          1.584404388105829,
          1.588560729660399,
          1.5988936070686095,
          1.6027445941207592,
          1.6658384160030593,
          1.6803253292019176,
          1.6897207478907508,
          1.6906496288141368,
          1.7308853697237763,
          1.7314395166389311,
          1.7394403133268455,
          1.7719139138204176,
          1.804478609334385,
          1.876969403677361,
          1.884605841029527,
          1.8857725496750555,
          1.888942221054042,
          1.9062123133284081,
          1.951054595593604,
          1.9550632785948394,
          1.9687173006798895,
          2.0052334947598838,
          2.064445487098737,
          2.091857772814071,
          2.103966697220591,
          2.145770929098348,
          2.1464953807552907,
          2.160861363643279,
          2.2167469707575815,
          2.2489548070078964,
          2.259806191866357,
          2.2613748519647108,
          2.266256477331306,
          2.2913870034405637,
          2.329523483444226,
          2.3516399950201285,
          2.4481224678642026,
          2.4553413560485153,
          2.5477406370588684,
          2.6348404624197177,
          2.66218259312222,
          3.03223005473317
         ],
         "xaxis": "x",
         "y": [
          -1.5012908498263802,
          -1.4659391449717605,
          -1.389887702881847,
          -1.3880571371830388,
          -1.3319007611459441,
          -1.290438189393257,
          -1.2666519761161916,
          -1.248702999350047,
          -1.2324581130171033,
          -1.2152589963244287,
          -1.2142753812436156,
          -1.2012090781747646,
          -1.1861291143120936,
          -1.1815782640737997,
          -1.1753926189562744,
          -1.174770343601254,
          -1.174721682435378,
          -1.1626717830980513,
          -1.1583544230720648,
          -1.1391955509139233,
          -1.1360474113849133,
          -1.1314818854795752,
          -1.1094753262579866,
          -1.1043925602222462,
          -1.1010729954491618,
          -1.091640662483379,
          -1.0914268987621072,
          -1.089331173304422,
          -1.0671390547677482,
          -1.0635761302128872,
          -1.0538546282825898,
          -1.0270013470413026,
          -1.0208437721502788,
          -1.01025869660944,
          -1.009021394026799,
          -1.0020162555478616,
          -0.9878092778257744,
          -0.9856758810317966,
          -0.9541264087084899,
          -0.940462641546761,
          -0.9395085221195745,
          -0.9189343641691955,
          -0.9148047597795295,
          -0.9097091095969733,
          -0.9062495911584618,
          -0.8989399356051644,
          -0.8933031894239682,
          -0.884832312994924,
          -0.87632436644091,
          -0.8705215306054248,
          -0.8687916330051555,
          -0.8655513655230548,
          -0.8641642334906124,
          -0.8625094400165146,
          -0.8618983309987127,
          -0.8608273172033989,
          -0.8536020021553277,
          -0.8488654331765734,
          -0.8369983748416427,
          -0.8294141976550311,
          -0.8275463923329658,
          -0.8222154697280804,
          -0.8215767463207191,
          -0.8197782346301884,
          -0.8194404454160146,
          -0.8142860106934124,
          -0.8141291572142494,
          -0.8007876801599261,
          -0.7957026894149489,
          -0.7901571809773844,
          -0.787158329343357,
          -0.7843855017989443,
          -0.7794145743823455,
          -0.7739103151899113,
          -0.7721790070985067,
          -0.7611773535608012,
          -0.7591768326765232,
          -0.7589895123960158,
          -0.7558374959291552,
          -0.7399900966403187,
          -0.7365523087102437,
          -0.7350619796599621,
          -0.7335190747094867,
          -0.7283190980180918,
          -0.7220516073654745,
          -0.7154110743491625,
          -0.7104841225070113,
          -0.7015474060822762,
          -0.6975575688268888,
          -0.6800267564955437,
          -0.6764233353791795,
          -0.6762345392447214,
          -0.6757294019050528,
          -0.6701451671026118,
          -0.6623593501740335,
          -0.6609079882858965,
          -0.657706751397952,
          -0.6534921095397498,
          -0.646535393222761,
          -0.640213031445874,
          -0.6374039038553627,
          -0.6366960883840784,
          -0.6323721013104363,
          -0.6316155038940773,
          -0.6240870671901565,
          -0.6194144038453235,
          -0.6134595985618868,
          -0.6087609089589489,
          -0.6086192838965175,
          -0.6048221335995221,
          -0.6032228925305301,
          -0.6016663829619843,
          -0.6005175374497745,
          -0.6005157914934265,
          -0.5988552228561951,
          -0.598333346616862,
          -0.5955897705090708,
          -0.5867234375764523,
          -0.579787665661203,
          -0.5770840412669636,
          -0.5768484637916657,
          -0.574448646077094,
          -0.5735985762745643,
          -0.5683329761268605,
          -0.5667819909067998,
          -0.5658296631304257,
          -0.562860484221368,
          -0.561434659671739,
          -0.5584961806346078,
          -0.5581044205038911,
          -0.5571602307147615,
          -0.5523942067660884,
          -0.5502768070099578,
          -0.5501484015141304,
          -0.5495782999511699,
          -0.5445014568946458,
          -0.5412083194754321,
          -0.5351013781090449,
          -0.5344956596662417,
          -0.5321097206821277,
          -0.531730242069328,
          -0.5310449577594013,
          -0.5281701446553965,
          -0.5261481783442232,
          -0.5241237145011193,
          -0.5193554339666121,
          -0.5114388968860728,
          -0.5085567847242873,
          -0.5060372411840881,
          -0.5044965743480522,
          -0.500229406871507,
          -0.49316373061862656,
          -0.4929892172792395,
          -0.49263162078634676,
          -0.49145668751362653,
          -0.49119335884622806,
          -0.4907754738431061,
          -0.4887480314232754,
          -0.48345130396488123,
          -0.47991895587893546,
          -0.47945712103737703,
          -0.47432338328459894,
          -0.47308746274047525,
          -0.4725265527404758,
          -0.46834348205812554,
          -0.4674180957404043,
          -0.4668578253275875,
          -0.4658199779053666,
          -0.46448047557471395,
          -0.46440405451886535,
          -0.46347091983799965,
          -0.46246642359019197,
          -0.46206412638563354,
          -0.4581567548280631,
          -0.45583712236890367,
          -0.44863862280207784,
          -0.4465902382333555,
          -0.4464993243997342,
          -0.44272915038342875,
          -0.43378307422176565,
          -0.43345563377194907,
          -0.42754094181450375,
          -0.42748069113236953,
          -0.4255373872783628,
          -0.42518846361921925,
          -0.42214582265671885,
          -0.4135590737708053,
          -0.40985966573690125,
          -0.4050037521674166,
          -0.40402490229905474,
          -0.4031708860509067,
          -0.3960826207658759,
          -0.39363531707557464,
          -0.39069861237315545,
          -0.3876033048754098,
          -0.3837302552886491,
          -0.37788972632435114,
          -0.37307070470931875,
          -0.37151018515953377,
          -0.3683890343968274,
          -0.3675042181411063,
          -0.3672807914500262,
          -0.366062879198458,
          -0.3633839142400343,
          -0.3631433948066053,
          -0.3623455632274448,
          -0.3619418840544046,
          -0.358427895130959,
          -0.3546689301311386,
          -0.35081983697850555,
          -0.3485484720175416,
          -0.34768753371282474,
          -0.3455349970935913,
          -0.3443516891074139,
          -0.34203767661202666,
          -0.34098779427594156,
          -0.33893456046947135,
          -0.3377864579167206,
          -0.3372031622072777,
          -0.33322295840486615,
          -0.3259283882317733,
          -0.32486427123344397,
          -0.3202718085449265,
          -0.3190318943759098,
          -0.3109829793468509,
          -0.30813659297504814,
          -0.30731670308381104,
          -0.30604618455140453,
          -0.30548632437733186,
          -0.29780184781766667,
          -0.29707804657963655,
          -0.2968176678303654,
          -0.2967594935040475,
          -0.2956909514554366,
          -0.2938833121298826,
          -0.2926883561874077,
          -0.2871831931149672,
          -0.28612192156283,
          -0.2856285667318786,
          -0.28559345036511136,
          -0.2802307669872378,
          -0.2799824174381562,
          -0.27964120824673766,
          -0.27659606214569477,
          -0.27584230413693506,
          -0.273905531846131,
          -0.2721574559670049,
          -0.27133343584869046,
          -0.2682316848423295,
          -0.26673175411570466,
          -0.26664753187784695,
          -0.2661886119941611,
          -0.2660039263778764,
          -0.26094568540762014,
          -0.26073312493274203,
          -0.2594062039472689,
          -0.2570859594353851,
          -0.25671691431101445,
          -0.25633710989086206,
          -0.25000499555987915,
          -0.24797860673499242,
          -0.24541955234029952,
          -0.24392537171281087,
          -0.24343602060849992,
          -0.24265799464946106,
          -0.24160718231444372,
          -0.23433347990163741,
          -0.2342399259769293,
          -0.231597202868015,
          -0.23157038243936268,
          -0.22824443484808524,
          -0.22380524481719183,
          -0.21940755950428936,
          -0.2190109806566802,
          -0.21780031925818838,
          -0.21392931966421502,
          -0.21320916768194967,
          -0.21236038307512564,
          -0.21032861503436606,
          -0.20965430450428144,
          -0.2080243422134054,
          -0.20618136191258923,
          -0.20601677545537797,
          -0.20445746523299654,
          -0.2040718234426105,
          -0.2038952053902826,
          -0.20363862740085015,
          -0.2028811504893785,
          -0.20211314330973262,
          -0.2009740986741532,
          -0.20083299023821122,
          -0.2008142020895456,
          -0.1993961332001699,
          -0.19891184891428582,
          -0.19737037239736036,
          -0.19550264807240997,
          -0.19534956078058532,
          -0.19383019859695233,
          -0.18976128081451094,
          -0.18966578378518256,
          -0.18862247663093962,
          -0.1865577189422948,
          -0.185061055754743,
          -0.18331389313166455,
          -0.1792998559023502,
          -0.17844166847376966,
          -0.17582481880391387,
          -0.17540751366831422,
          -0.17503030573589598,
          -0.17476340800955417,
          -0.17347478023811863,
          -0.16979774646689744,
          -0.16857544996060447,
          -0.16747447456589037,
          -0.16697243936621092,
          -0.16347854619125216,
          -0.16204802489195794,
          -0.16158898851957398,
          -0.1605840735360707,
          -0.1591722505547695,
          -0.1534405750428646,
          -0.1527090165629969,
          -0.1502610560971985,
          -0.14993413722663088,
          -0.14689417427821624,
          -0.146000660706136,
          -0.14544120122978832,
          -0.1440858798082357,
          -0.14361110872901828,
          -0.1428094256427955,
          -0.14207801743815276,
          -0.13919123726854202,
          -0.13766578038275507,
          -0.135880348988701,
          -0.13537023648169952,
          -0.13493516895912963,
          -0.1340634769890125,
          -0.13396449105863933,
          -0.13347996603957846,
          -0.13002905805339537,
          -0.12810293324789498,
          -0.1268588665087934,
          -0.1253776846704208,
          -0.12351657009042477,
          -0.12341942524327834,
          -0.12257534371126752,
          -0.12108474430921956,
          -0.1188397500377198,
          -0.11763288513074383,
          -0.11752552786070278,
          -0.11717552917516538,
          -0.11688330875807754,
          -0.11678504910994722,
          -0.11571187685996745,
          -0.11182786381129722,
          -0.1111065360460606,
          -0.11065005898970512,
          -0.11057468889585845,
          -0.11029884267980805,
          -0.1101639016822352,
          -0.10898349213668901,
          -0.10652651687774839,
          -0.10157847249315807,
          -0.09701219815844767,
          -0.09555557970048661,
          -0.09419936118252306,
          -0.0932292201060248,
          -0.09245785715751753,
          -0.0922085283278361,
          -0.09154728120097944,
          -0.0884701642289947,
          -0.08578537989248233,
          -0.08342200598195318,
          -0.08293937098883081,
          -0.0811821173735951,
          -0.07560069420234208,
          -0.07495562818270471,
          -0.073761312105519,
          -0.07249608887040293,
          -0.06925464188491512,
          -0.06914029398700375,
          -0.0670581850506653,
          -0.06415221476547364,
          -0.06280317098462665,
          -0.06220855180027381,
          -0.05840227994009326,
          -0.05732943094114972,
          -0.0556488330663198,
          -0.05294965298152997,
          -0.04964151519176602,
          -0.04882022216755094,
          -0.047224748724142514,
          -0.04584754590360899,
          -0.042165974850118366,
          -0.04095432838482186,
          -0.040354184792428194,
          -0.03974595189962293,
          -0.03943175936877968,
          -0.03465215869532531,
          -0.034564050457203774,
          -0.03398755855176574,
          -0.028370343422612146,
          -0.025385518416522812,
          -0.024783504956411764,
          -0.024073537475018426,
          -0.02289457310672892,
          -0.0220445014109679,
          -0.021859836725817035,
          -0.021521223983309922,
          -0.015951881232160507,
          -0.013413835126488572,
          -0.008480533637561764,
          -0.006765102970347457,
          -0.004319067165573803,
          2.1086549488067916e-05,
          0.0008451640389133853,
          0.0009898706758544157,
          0.0033686181629998444,
          0.00453700909775517,
          0.007089388844267988,
          0.00943760331433391,
          0.010246090436592642,
          0.01245632641223173,
          0.013518036005886958,
          0.013589578890152242,
          0.015229464296428798,
          0.015731881032805622,
          0.01573909343328804,
          0.017336941540519166,
          0.02108721335742764,
          0.022291793832807754,
          0.02303282878148007,
          0.02818201926124324,
          0.028223703767405014,
          0.028477186772670724,
          0.02988484873162872,
          0.03485913902250706,
          0.035650296550340944,
          0.03654317698061618,
          0.03850796385079443,
          0.03914677228037366,
          0.04049471212664921,
          0.04161908422368438,
          0.044218767503457254,
          0.0498625911302578,
          0.050173559967103196,
          0.05224074246978171,
          0.05326069318964814,
          0.05533295733914142,
          0.059044622548158156,
          0.060037997486200874,
          0.06544809296050963,
          0.0693056404591049,
          0.07353129011890311,
          0.07392065088174776,
          0.07460936319444386,
          0.07477562961623843,
          0.07850526011201273,
          0.08049224711154213,
          0.08325678618347312,
          0.083898407966986,
          0.08788956595117728,
          0.09021127535317527,
          0.09093025434104349,
          0.09239659439935707,
          0.09402822728586238,
          0.09990208998705907,
          0.10322183013701342,
          0.10350648331790527,
          0.10623771136200388,
          0.10719094809879046,
          0.10920406337344313,
          0.11198521077353352,
          0.11249447781445979,
          0.11830028888550853,
          0.12420441350436617,
          0.12744452578161744,
          0.1313032589272433,
          0.1315568086315473,
          0.13449039712711644,
          0.13544548222862027,
          0.13595573610892936,
          0.13733430548001235,
          0.13743798385192257,
          0.14081909252178332,
          0.14203544133352006,
          0.1438387595201274,
          0.14444531272063588,
          0.14454071875252275,
          0.1455207361982571,
          0.14573448700251476,
          0.14667629849564606,
          0.14873028660689366,
          0.1493451163654475,
          0.1517566802172086,
          0.15300933116441048,
          0.15307095761975306,
          0.15447415887691882,
          0.15464323898336596,
          0.1590577244698338,
          0.1594483210914493,
          0.162333155753217,
          0.1642914504357284,
          0.165574918993715,
          0.16581735626833677,
          0.16600363544265515,
          0.16813395110734536,
          0.16835917352367288,
          0.170518089329958,
          0.17342808311664204,
          0.17434484965317512,
          0.17521208863276932,
          0.17689085369599292,
          0.1774390718259579,
          0.17831669456511526,
          0.17994682636555234,
          0.18071682495430844,
          0.1816317591553109,
          0.1822994946036562,
          0.18349844557464845,
          0.18396396871301507,
          0.18699100839637323,
          0.19242504030989788,
          0.19259033781694118,
          0.19315006774032592,
          0.1982324532215218,
          0.20068408898873977,
          0.20196185679863266,
          0.20199032440647746,
          0.20451482070661245,
          0.20629143452238002,
          0.2075042645710341,
          0.20798967429487294,
          0.21027974183107762,
          0.21205262648002604,
          0.2128825162102343,
          0.21299514939391243,
          0.21385445572903525,
          0.21508086171212376,
          0.21722217935758387,
          0.2204620689122961,
          0.2223170288252414,
          0.2245900111961381,
          0.22536549050701896,
          0.22809706968912963,
          0.22898975049070408,
          0.22955007370368108,
          0.23383271191898858,
          0.2361947626441718,
          0.23742877291878955,
          0.23869455232509112,
          0.23952892739637124,
          0.23970772675599464,
          0.24117649642337347,
          0.24218149366278127,
          0.24478296374949385,
          0.24566003364004624,
          0.24651904466800129,
          0.25471633631500135,
          0.25805708577547903,
          0.2652512329294602,
          0.26529206362612995,
          0.26791450034363284,
          0.2685379156101694,
          0.26861591349927244,
          0.27026362392355846,
          0.27032632580379745,
          0.2714857534944008,
          0.27292101706737526,
          0.27467199639982687,
          0.2751345337826182,
          0.2758238414445879,
          0.2774793938506599,
          0.2849183013086833,
          0.285163448345197,
          0.2874634775220041,
          0.28935390374716646,
          0.289511870772803,
          0.29243708495454007,
          0.2946664045809956,
          0.2965586287248839,
          0.2986435517030954,
          0.29959541544485696,
          0.3008916818498046,
          0.3022859558729248,
          0.30408380425522336,
          0.30442558342135007,
          0.30946226695915385,
          0.3094956817421419,
          0.3108381450150501,
          0.3112008732451802,
          0.31355044360430795,
          0.3146672989540211,
          0.31685593601479795,
          0.3202227003040201,
          0.32349481270457586,
          0.3237698570770061,
          0.32411612096980913,
          0.3334439311142021,
          0.33345591119941526,
          0.33801850546867845,
          0.33814962702033424,
          0.34455852928548414,
          0.34735854367998825,
          0.35075623046529447,
          0.3534242525994494,
          0.35611519437425515,
          0.3597348471154256,
          0.3601157015275324,
          0.3644538587716765,
          0.3672769965236519,
          0.3676650503750231,
          0.36868516090006553,
          0.3722786189504611,
          0.37255007419504754,
          0.37732831606758027,
          0.3813876885152291,
          0.38183914924854756,
          0.3842682679856165,
          0.38592163318350226,
          0.388518177174493,
          0.38884183670253486,
          0.38962515036582895,
          0.39513398044196013,
          0.39524518979798173,
          0.3952815782042227,
          0.3973527255583568,
          0.3981847176668833,
          0.4006450001016141,
          0.40306844914961915,
          0.4037010802917911,
          0.40476731061907234,
          0.4054247101904056,
          0.40693579029823024,
          0.41022675978151024,
          0.41364484571984805,
          0.41488210757828986,
          0.4153398754340782,
          0.41700464053119846,
          0.4234787503363396,
          0.430310792810923,
          0.43059304477087423,
          0.4313079817025574,
          0.4318353932706903,
          0.43477224121290786,
          0.43670296398312825,
          0.4392916731035576,
          0.44175544756937857,
          0.44394628376987144,
          0.44496211836210386,
          0.45400149075339513,
          0.4586950570985721,
          0.45870173026411903,
          0.46004398234915816,
          0.4609387581185044,
          0.46138339376075715,
          0.4626885792246082,
          0.4635887704219285,
          0.4653625597017185,
          0.4661664588242387,
          0.4681736141164243,
          0.4682063482368199,
          0.48042435138777695,
          0.480538303109307,
          0.4835552426269161,
          0.4836256048764275,
          0.48578213565628114,
          0.4858597043587503,
          0.48697938166471233,
          0.4870838474895193,
          0.4889579822552668,
          0.48978907117344633,
          0.4900291382337596,
          0.4922290290951546,
          0.4970103022231006,
          0.49846889971310376,
          0.502580079156714,
          0.5048501393412632,
          0.5057302806063236,
          0.508548607631881,
          0.5101646002752466,
          0.5125772379730595,
          0.5142589732261734,
          0.5214263713596343,
          0.5231389107272783,
          0.5250269802408971,
          0.5255424887756993,
          0.5257018155767914,
          0.5263291609462999,
          0.5268847245969773,
          0.528349026420584,
          0.5322932295584027,
          0.5455524781059536,
          0.5462632021908524,
          0.5465874119699358,
          0.5478909329945032,
          0.5502466728665064,
          0.5514948296076684,
          0.5520349212977821,
          0.5581935201897196,
          0.5622750614864898,
          0.5849653007368405,
          0.5850928334121502,
          0.5884298584003483,
          0.5908465803727331,
          0.5942210617830997,
          0.5943972470467312,
          0.5951960515145144,
          0.5980381876848847,
          0.6085034141428262,
          0.6142408449277889,
          0.6161536442909639,
          0.6203295207976145,
          0.622294985726533,
          0.6228418995821416,
          0.6229563975402593,
          0.6272752765930908,
          0.637334427134395,
          0.64185659621377,
          0.6482128552783514,
          0.6514679641964213,
          0.6553685724621544,
          0.6569587872090297,
          0.6607291114922585,
          0.6611908611608104,
          0.66176308406839,
          0.6628651610376327,
          0.6652593301552642,
          0.670003041230535,
          0.6801862489754069,
          0.6810642238069902,
          0.6854475685669975,
          0.6968343892538026,
          0.6998755034990176,
          0.7029595360861547,
          0.7088816781563789,
          0.7088989756715188,
          0.7120945074092032,
          0.7186900921961312,
          0.7192857464641815,
          0.7213493213050308,
          0.7222455731378864,
          0.7447227506880416,
          0.7448623488389351,
          0.7476790048737784,
          0.7522919949561369,
          0.7580368007302519,
          0.7589801491783913,
          0.7775153166943805,
          0.793611906003022,
          0.7965220303968906,
          0.8001021788050748,
          0.8127753430535737,
          0.8130732357340337,
          0.8142268237920964,
          0.8210841889104323,
          0.8216416033436282,
          0.8444890990453017,
          0.8464540844921553,
          0.848665970443059,
          0.8541648318988753,
          0.8562142169279754,
          0.8897909421268081,
          0.8975004624719984,
          0.9025004352432061,
          0.9029947590704289,
          0.9244070681585458,
          0.9247019692777813,
          0.9289597641576504,
          0.9462412843994165,
          0.9635712828023644,
          1.0021488076452845,
          1.006212700920764,
          1.0068335898510794,
          1.0085203981896418,
          1.0177110467373969,
          1.0415748252182082,
          1.0437081315155,
          1.050974411061281,
          1.0704072838426837,
          1.101918210521779,
          1.1165062439785678,
          1.1229502667865316,
          1.1451972818512746,
          1.1455828142771018,
          1.153227978973908,
          1.182968698693619,
          1.2001087868157685,
          1.2058835830881989,
          1.2067183790710934,
          1.209316240296929,
          1.2226899866337215,
          1.242985129183851,
          1.2547549032978074,
          1.3061001123934404,
          1.3099417979590722,
          1.359114049290461,
          1.4054660820847842,
          1.4200167810527609,
          1.6169454431365855
         ],
         "yaxis": "y"
        },
        {
         "hovertemplate": "0=%{x}<br>1=%{y}<extra></extra>",
         "legendgroup": "",
         "line": {
          "color": "red",
          "dash": "solid"
         },
         "marker": {
          "symbol": "circle"
         },
         "mode": "lines",
         "name": "",
         "orientation": "v",
         "showlegend": false,
         "type": "scatter",
         "x": [
          -0.09165225071682291,
          0.23085158353911958,
          0.1592669896539124,
          -1.189033199015586,
          -1.1002552316812941,
          0.48874691216864735,
          0.2090491944716419,
          1.354336243460252,
          0.6748835528544398,
          0.6416163859831528,
          -0.09088417007628834,
          -0.8300163116697253,
          -0.4271719049378108,
          0.375289912998772,
          -0.5097221162429546,
          0.6291454713932636,
          -0.5934369454898826,
          0.32272737389767864,
          0.06921766278477398,
          0.9186007678058106,
          -1.151002375834936,
          0.7751081858283988,
          0.7537651669782699,
          0.22186860865280114,
          1.1859317743145104,
          -1.5346781132843588,
          -0.8095438212695865,
          -1.146567917115534,
          1.1892722568604903,
          -0.8326881035490066,
          0.3878328823426909,
          0.10852437096926068,
          -0.21508827848615142,
          1.0601119013739455,
          -2.0811665908124732,
          -0.12770692920841503,
          -0.8559368015929959,
          -0.9719129738332661,
          -0.29706638504912725,
          0.7018965335005283,
          0.06624847865775083,
          -0.2546636941355115,
          -0.16909556703648737,
          -0.5146099400331638,
          -0.18508989441786017,
          0.34259847113120395,
          0.04917161358979725,
          -0.8643519478388544,
          -1.9570283663229437,
          0.44297478819956193,
          1.375018117618763,
          -0.6092617016569931,
          0.21716301696421528,
          0.9607905005694977,
          1.3171177816975688,
          0.42943758893350725,
          0.6812915214415515,
          0.9661140212660873,
          0.8853421984792145,
          0.9603562876326968,
          0.047437628108804815,
          -1.295410505517371,
          -1.1340523497419486,
          -0.8561543652648704,
          0.608664605519359,
          0.3728216163372686,
          0.2759021464548132,
          1.4125911247859881,
          -0.6831429445985397,
          1.2442774728388915,
          -0.10071238759234107,
          -0.6866700097107534,
          0.604301031526996,
          -1.0515971698823103,
          0.456700720830798,
          -0.025583660992488957,
          -0.6746315808249135,
          1.410909735499398,
          -0.6794433917086704,
          0.0207198126466314,
          -1.8765790002033775,
          -0.5123215291100702,
          0.07779308050855502,
          0.7430497473613855,
          -0.6570105095944514,
          -0.3233003853183796,
          -0.28161519680668545,
          0.48537048684485246,
          0.045857794047995,
          0.8230700088189076,
          0.7803932157550527,
          0.2148217355499427,
          -1.229300465983497,
          0.44965476202291915,
          -0.06811728430406598,
          -1.299166982487152,
          0.7811778419482585,
          -1.6943794774187066,
          -0.8889869642530899,
          -0.6266916615130533,
          -1.3253584653547734,
          0.2695159553867023,
          0.13715066772932363,
          0.7698662155042199,
          -0.43028565803908253,
          -0.731082391295953,
          -1.6113126510814442,
          -0.3227308569739809,
          0.03578811898204317,
          -0.7005191939639925,
          -0.19964990678848463,
          -0.2837906286776953,
          0.9302263454700784,
          1.6180228856147654,
          0.35155312572184033,
          0.8321822742144753,
          0.7147504299632896,
          0.40647876791938115,
          -1.3693645505577199,
          -0.24941144538472815,
          -2.1530513659096164,
          0.6542166274487439,
          1.377816569069151,
          0.27460697692446967,
          -0.39009254483172867,
          1.4657865148131068,
          0.17431400075148457,
          -0.9350435081392741,
          0.4568850791503017,
          0.3611597331051683,
          0.3797791315912195,
          0.07686106311776272,
          0.07713356209521313,
          -0.03193378181757947,
          -0.4412034650540618,
          -1.3958661890299309,
          -0.4459028003522995,
          0.9030990946427864,
          -0.8368790160546703,
          -0.15734140607267977,
          -0.00408084017840097,
          -0.6303096613816025,
          0.7629186777485256,
          0.2376614827823035,
          0.29069529562957935,
          0.6825875784720146,
          1.0899925081278312,
          1.9401205301044542,
          -0.4203883747568134,
          -0.1826212449421249,
          0.26011219793420104,
          0.24179950699850403,
          1.5423320924075965,
          -1.105525242091531,
          -0.6848798294328602,
          0.08058949997458323,
          0.8271289441135136,
          1.214822467012071,
          -0.8872758122915642,
          -0.40133569312410267,
          -0.4529526070072612,
          0.5688048684099157,
          0.6497508833138665,
          0.7933940233690465,
          -0.12797761865185198,
          -6.074265559830039e-05,
          -0.1657942546479438,
          -0.429749904017232,
          -0.8000685160274759,
          -0.5429505264740306,
          -0.614361108929639,
          -0.7535969705865943,
          0.12522999655552447,
          1.1663879295664783,
          0.5584427424881373,
          0.12284240383375766,
          -1.6794959964368006,
          0.8359260302786558,
          0.2965274282328364,
          -0.6375090009442218,
          -2.2005162671615173,
          -0.21248101725918384,
          1.2362220841568328,
          0.6222432679159333,
          0.16443897019960402,
          -0.47571197739729043,
          -1.1098094371904312,
          0.7540469314506231,
          -0.1225156665951567,
          -1.114159937547314,
          -1.9042846227241865,
          -0.17456050452304525,
          0.30056316265034816,
          -0.7122975729342544,
          -0.1789325815245309,
          0.6286135363935315,
          -0.10916934574626642,
          0.33191408446923354,
          1.6657931309034977,
          1.1794962605764325,
          -1.3516197969898793,
          0.6315949634350356,
          -0.9825465437890937,
          -0.7866279822544296,
          -0.046914071241810906,
          0.5759109183075959,
          -0.23815676803509528,
          1.0713803693364445,
          0.6335650540396548,
          0.17236194613102654,
          -0.9871599689742152,
          0.09177781143746094,
          -1.0329016436286018,
          -0.6211278839872492,
          -1.101759657690966,
          0.8920749489924307,
          0.4408052192911456,
          0.03467257484513348,
          -1.6171390094893976,
          2.1562085290687834,
          1.1214686280496118,
          -0.10116635326861584,
          0.5347557851102002,
          -0.21420224132837243,
          -1.535354363896579,
          1.8249294537092549,
          -0.06864052773746798,
          -0.26867681154244527,
          -1.5202130776465215,
          0.015209689963305857,
          -1.1492943735664862,
          -0.2441210076212338,
          0.852259942273201,
          -0.7075945324130104,
          -0.6864945942164603,
          -0.5699496357609121,
          -0.7944185550035787,
          -0.6806026987506246,
          0.10672887142996526,
          -0.722443448423601,
          0.4835183305725262,
          -0.022724274850892734,
          -1.0310911136118197,
          0.09939562324382162,
          0.8394978912033175,
          0.44563792000188124,
          -1.1873487837978112,
          2.4263812031731886,
          -0.41446763625582295,
          -1.2882651520215598,
          -1.7559760122780022,
          1.2392160822074598,
          -0.6153158463349264,
          -0.1326972724173711,
          -1.1430129052819518,
          -1.6064101348517013,
          0.173081513860472,
          1.658956228361628,
          0.14601107736878924,
          -0.5423670353476603,
          0.1174295821474387,
          -0.5649473113514477,
          0.3332271024990871,
          -0.6261464693000705,
          -0.732985257290367,
          0.3040004254744161,
          -0.23735426488138828,
          -1.1479323366747665,
          0.7063621396220107,
          -0.753087315089928,
          -0.6949463184142245,
          0.04782836718750056,
          1.4760219042331244,
          -0.15609850606852876,
          1.4568334266592022,
          0.7947622969937889,
          -1.1650941400609467,
          -0.30952131244632386,
          0.3118260387327574,
          0.1370809977388204,
          1.5126440808154606,
          -1.0337407372247924,
          1.2403372408365096,
          -1.3605677502683513,
          -0.8512689006413916,
          -0.18155379508605374,
          -0.7191561711515849,
          -0.5268803152101332,
          0.4977655217930836,
          -0.9486015633971933,
          -0.04480149972402932,
          0.19035096659050985,
          -0.13115768150745274,
          -0.8728292830649125,
          0.23871931949469363,
          0.13632428739067803,
          0.8722391211917001,
          0.2444452784231466,
          -0.5515775174960462,
          -0.02552683125277417,
          -2.258353407884328,
          0.23748496301600655,
          -1.0973088693704864,
          -0.8094714600868579,
          1.184728555743529,
          0.8162585979481563,
          0.6114141740196152,
          -1.6005525318684997,
          -0.5187691825680797,
          0.3542292306625385,
          0.09033273417951018,
          -0.13249552219947383,
          -0.1928955176287685,
          -0.3604485474419012,
          -0.9388750121172895,
          1.5517404622723103,
          0.2306511214011213,
          0.6222260379394616,
          1.9115293025367106,
          -0.30500173751129067,
          0.025507397887553206,
          -0.1550040016366413,
          -0.5941310234937157,
          0.32654122300016736,
          -0.1754751387337504,
          0.3689245850057774,
          -0.41477916033571893,
          -0.7315724762593901,
          -0.8261312153882595,
          -0.23886681391568323,
          0.11042705695292937,
          -0.6705488048634792,
          0.6184475763603761,
          -1.6034601135719642,
          -0.026799601241863917,
          0.5414338704071598,
          -1.758585284240299,
          0.6722741461016478,
          0.09180931564992365,
          0.6685174998078461,
          -0.14015560627797477,
          -0.8250530526618244,
          -1.219568997217712,
          -0.7179798190652223,
          1.121515316571194,
          -0.32679069349796014,
          -0.8220456479970628,
          1.5246877161503547,
          0.6642203862402604,
          0.5021576359475614,
          0.755726877071828,
          -0.33105144248144497,
          -1.2413184524942302,
          0.006655943177854791,
          0.4230224085929767,
          -0.4609520402865904,
          -1.2104948195683023,
          1.5851078405034318,
          -0.22752276239490657,
          0.21317363316344376,
          -0.36736096677189667,
          0.1633998755830384,
          -1.9832082686246606,
          -0.3138307568782494,
          -2.2241800026789456,
          0.4907969944409783,
          -0.2799820076116408,
          0.9424100929491378,
          -0.08640520697162471,
          -0.7231497134745365,
          -0.0008793618442837492,
          -0.8002964202385395,
          -0.7832151326731616,
          0.20022604933476432,
          0.0721539686024169,
          -0.3279521937226602,
          0.015075750498582001,
          -0.6698380138096065,
          -0.08796263593552264,
          -0.4233792046040257,
          0.23576756465721924,
          -0.07838541409169623,
          0.8955403484999597,
          -0.20551240504311027,
          0.7160238891522842,
          -0.7737266306667667,
          -0.14854334307979952,
          0.4716302699582973,
          0.47938256256806383,
          -0.06607112411521286,
          -1.8640880422973924,
          -0.6661971727401944,
          -1.4980172740622717,
          0.11749558403851482,
          0.03951787224340949,
          -0.6589057052047288,
          1.06590591497438,
          0.16194599799390938,
          -1.5103136445935854,
          -0.44534548236852994,
          -0.7986031266553937,
          0.6831784819293535,
          -0.11431501162757955,
          -0.4023677336891393,
          0.9611067663459167,
          0.05536594862528118,
          -0.0019472595726631597,
          1.1290550071917442,
          0.7467827639776493,
          0.11228934389138165,
          -0.03699706297311798,
          -0.5217149583747626,
          -0.9133066565022402,
          -2.0195322120192167,
          -0.3348640412949025,
          -1.5431971295983837,
          -0.03793486134739657,
          -2.5106490088837363,
          -1.5388447790131177,
          0.5368618425794456,
          0.3874804039747278,
          -2.366433180936595,
          -0.006063546046189354,
          0.5937607251718776,
          0.8931012371206066,
          0.5583879923486327,
          -0.6413128669644944,
          -0.9883081770538369,
          -0.06549309420825075,
          -0.45899817948508276,
          -0.25149273677371725,
          -1.449303929150651,
          -0.01178003718634546,
          0.8743910092102388,
          0.05446672427258555,
          0.1927370542403318,
          0.10144071177921543,
          -0.7115925488126271,
          -0.9930030030354772,
          -0.2887023619774315,
          -0.9834498043027214,
          0.28821874131878455,
          -0.9015212155909119,
          0.12049326641684346,
          -1.418777549880027,
          -0.8323293846207338,
          0.9620869857319914,
          0.7393815526296498,
          1.1143981994223164,
          -0.5167193427894096,
          1.0238249364820216,
          0.5194808615969555,
          -0.6602148210692009,
          -1.0540255619075762,
          -0.02337627509481531,
          -0.19731373676042052,
          -0.02648024495992473,
          0.4831591596097233,
          -0.17597002588688587,
          -0.28189653046865015,
          -0.21191302478385723,
          -2.0030582590683603,
          0.5345670501036148,
          0.6027917199169205,
          1.489456680458464,
          -0.19087807974390814,
          0.8609321610355745,
          0.1747382024163253,
          0.3135607865089392,
          -0.023095167818481123,
          0.5626481121313072,
          -0.2656198644847017,
          0.03421220893734415,
          0.7983719171016518,
          0.3279962809649857,
          0.22564597727492616,
          -0.9703415407841045,
          0.19352566345964944,
          0.5145488462737008,
          -0.6640093423818431,
          -0.3337578883374375,
          0.4470416493086012,
          2.2785433558283557,
          -0.8917372308848659,
          -0.5548725834793239,
          0.6329274532038556,
          0.24742160304096153,
          1.9988690189592115,
          -2.436586971851853,
          0.4744640910440829,
          -0.3690306630869354,
          -1.108877646638415,
          -1.4093624811547698,
          -0.9819061500180802,
          -1.2062072779185196,
          1.125892837589215,
          1.3828319884560523,
          -0.367554239608162,
          0.32276203067041315,
          1.001047776106665,
          -0.010101928803423137,
          -0.14777071030908526,
          -0.7041861851274569,
          1.1862587591786864,
          -0.5822141721978576,
          0.030181226362901666,
          1.163547971300049,
          1.0507357832462216,
          1.185055996401127,
          0.40198923794159963,
          -1.5063352078160717,
          -0.25200644193316146,
          0.5625189854198633,
          0.5419574855979649,
          0.5649465220821295,
          -0.46678315474860366,
          0.2012562100084496,
          0.6746492520772461,
          0.3317794275774909,
          0.9685218248954599,
          1.036083344160712,
          -1.8299094515547742,
          -0.5710075291770867,
          0.33958951541249005,
          -0.04885164153020883,
          0.8621117339985493,
          0.9918444932806767,
          0.23184051157951793,
          -0.5191567740804044,
          0.7335565859305768,
          -1.425993204801455,
          -0.19445488271295033,
          2.3025649574620886,
          0.8080401749896267,
          1.8482423650110553,
          -0.33324866191733343,
          -0.702279143794468,
          0.5776516205407206,
          -0.43119392700225273,
          0.43789052380369725,
          -0.018091190258359043,
          -0.03965305020895876,
          0.15517345542404523,
          0.658290703776449,
          1.0896277403829258,
          -2.066918269385047,
          -0.45700488142355195,
          0.7607901315563915,
          0.06567842703293378,
          2.177556037479986,
          -1.8708461311713553,
          0.5379512277947325,
          -1.0210385246499312,
          0.2595428167051759,
          -1.0866697063682096,
          0.9041262201557068,
          -0.8798735300010996,
          0.045026329682641135,
          -1.1944005678640266,
          -0.015189512995390488,
          1.24825046401416,
          1.6492745531631285,
          -1.6327560738372595,
          0.05747070554860977,
          -0.6889443334874371,
          0.07592072492145208,
          -1.4196778792690246,
          -0.20455751538965206,
          2.105728891744497,
          0.43638328912382573,
          0.7581813506691667,
          -1.636422103185676,
          0.3125584058312997,
          -0.9404676253722282,
          0.7125333336984626,
          0.44277262061272127,
          -1.258917303360846,
          -1.5045136493263322,
          -0.04664794158855001,
          -0.13687003657756977,
          -0.21014392672008866,
          -1.6544284603293564,
          0.4870633389234957,
          0.32697812513291297,
          -0.7522692236404391,
          -0.47186599962293174,
          1.5969546966430106,
          -0.28023870070131357,
          1.2791828339203006,
          -0.1292093783087529,
          -1.5622176580999447,
          0.8840362097723061,
          -0.25488816535238906,
          0.9606507053762992,
          -0.8331532787697531,
          -0.9996263159243389,
          0.44043629757728414,
          -0.3219018044823405,
          0.692704015580841,
          0.08856457678514573,
          -0.9635491812466905,
          -0.668697892980357,
          -0.38422760351635815,
          -1.1612323942405811,
          -2.0566070626976556,
          0.29462926366434483,
          -0.272435481785433,
          -2.179732548260223,
          -0.019309708093720138,
          -1.3363087098705668,
          -1.2949518416261683,
          1.544395787479012,
          -0.262248473354563,
          0.5292634651282134,
          1.5181065939987741,
          -1.3271767545672455,
          0.3647891876732297,
          -1.2345300334815228,
          -0.8407164552933225,
          -0.269045248548173,
          -0.7268307482899224,
          -1.0169079366316227,
          0.2258629328239484,
          -1.7439321737324067,
          0.002976064336575872,
          0.7881687083017225,
          -0.7812526574115609,
          -1.8246217302886165,
          0.7265521259580798,
          -0.7576063709333745,
          -0.3000899851303347,
          0.7290904863872185,
          -0.19646666938729307,
          -2.0474793681222985,
          0.29623022710254693,
          -0.659024671586446,
          2.032848158617087,
          0.045363226404142414,
          -0.05657080360952044,
          0.21478691325217678,
          0.33303201434237606,
          0.027798301671011515,
          0.6504120698912812,
          -0.8119599358710535,
          -0.7055871359639215,
          -1.1758891006670324,
          1.0721273882669697,
          0.11623261405539248,
          -0.17723660621535972,
          -1.8077808155104629,
          0.7423313773017237,
          -2.184073695704474,
          -0.9591477605745242,
          0.06349471820367539,
          -0.49521340140815945,
          0.1639400029935601,
          0.23282959765848163,
          0.37186991890705967,
          0.49396486085013797,
          -1.9031842318936387,
          0.5715805787068126,
          1.386108862375624,
          0.3221508082699378,
          0.8243108600937709,
          -0.6911632610997572,
          0.7389900205306931,
          -0.2708406255693936,
          -0.45474528501580225,
          0.2925800380466286,
          0.6733184513186032,
          0.059605636139037625,
          -1.2017561343664298,
          -0.19758316985131108,
          -1.0269447736096344,
          0.8383368767335823,
          0.9297225186870213,
          1.6114256225471824,
          0.254645835919548,
          0.23001687632810866,
          0.8180347255185771,
          0.8551610694095387,
          -0.565009365274727,
          2.5869318554185416,
          0.10039525435668836,
          -0.44634254298085746,
          1.6231255597426641,
          1.4011040056147261,
          0.11791564093499779,
          -0.9649741790650083,
          -0.4081111684308439,
          -0.4018919371328088,
          0.3598194558517153,
          0.5468159302495426,
          -1.5238144826303264,
          -0.6557169328414529,
          0.20331354396828796,
          -0.6672829786748017,
          -0.5467886451339952,
          0.5206164183533739,
          0.8754955020910241,
          -1.775117322019353,
          1.8603763330974326,
          -0.8435437090419321,
          -0.31509901782931554,
          1.0413693187435331,
          -0.6706825639368398,
          -0.976372993323108,
          0.0646237171765654,
          0.29026549805906043,
          -0.9924496963153074,
          0.6274009321520984,
          -0.7985457780242599,
          -0.17251108641202154,
          -0.44208744260608746,
          -0.5976195317705278,
          0.9581594126926141,
          -0.6594913186256858,
          0.9307630964167765,
          1.7426324395174304,
          1.3289575551019508,
          -0.925184413281689,
          -0.4515381447114677,
          0.37542379094220407,
          0.7114095951125516,
          0.24552500404382302,
          1.1191180535708476,
          2.0922741710882207,
          -1.237009909722781,
          -0.3601612628836932,
          1.3654579121458643,
          -0.6351606030630595,
          -0.2455836458125657,
          0.15878599071764468,
          1.1574862450565595,
          -0.7283348507607896,
          1.1449555057495637,
          0.8039649076486336,
          0.8606076077602646,
          1.262924888783873,
          0.6856637524947521,
          -0.07529475771164451,
          -0.3856059349325947,
          -0.7569101628699535,
          -0.235081956157077,
          1.555107427248844,
          -0.9868637932509408,
          -0.5109225918020842,
          0.32290922936034694,
          -0.3124287791654904,
          0.006163074916037722,
          0.7546730316150309,
          0.6438475230595518,
          0.38606249828699746,
          -1.0401513584864517,
          -0.7403369120671521,
          -0.5355772937243375,
          0.08566906001329463,
          0.2652042192358004,
          -0.7400001488961496,
          -1.8677053604727767,
          -0.5210400060395355,
          -1.1788297551099254,
          1.2708841676766418,
          -0.23446805523959613,
          0.14243311217965618,
          -0.09446279792985249,
          0.16462807025608722,
          0.49897793966576326,
          -0.18320219389876816,
          0.04656127569610435,
          -0.3953920630096999,
          1.8966234033891076,
          1.145797795738675,
          -0.3316504915212188,
          -0.3238891186123288,
          -0.787566824774745,
          0.573381565865874,
          0.2293354169277119,
          0.20832600931383657,
          0.7339006834024594,
          -0.8563579096031996,
          -0.4314586808751376,
          -1.3352313861579004,
          0.009971447271699706,
          0.7954223851366993,
          0.011788998521311551,
          0.8482452767249735,
          -0.3921114415424136,
          -0.8558021495764285,
          0.39320400619829626,
          1.4583554792595779,
          -1.111323560472521,
          -0.5334043461171691,
          -0.0713495103294187,
          1.1373564003017158,
          -1.7157568426018153,
          1.4789174881474951,
          -0.8605938261737814,
          0.8712086498062723,
          -0.8913041136560319
         ],
         "xaxis": "x",
         "y": [
          -0.06213552207085951,
          0.2595776508194076,
          0.18816855615855285,
          -1.1568260939241775,
          -1.0682657776731863,
          0.5168407144924398,
          0.2378287132302817,
          1.3803079375481162,
          0.7025210162610023,
          0.6693354083071504,
          -0.061369324482939164,
          -0.7986893845864458,
          -0.39683260489938843,
          0.4036618703594373,
          -0.4791804332996657,
          0.6568950678354996,
          -0.5626900244247824,
          0.3512281953664092,
          0.09833999728097885,
          0.9456407258014479,
          -1.118888508402742,
          0.8024999351169747,
          0.7812092415375534,
          0.25061669889975513,
          1.2123163345249364,
          -1.5016236133686842,
          -0.7782670852398671,
          -1.1144649213531148,
          1.215648627430325,
          -0.8013546262099108,
          0.41617408893323293,
          0.13755033980319348,
          -0.1852689298774989,
          1.0868049258629366,
          -2.0467723011638634,
          -0.09810180768674857,
          -0.8245463269552851,
          -0.9402381680683274,
          -0.2670460561270465,
          0.7294677709652571,
          0.0953780925067182,
          -0.22474732109222956,
          -0.13938897572304593,
          -0.48405627393487755,
          -0.15534409086757947,
          0.3710505759423097,
          0.07834309366180421,
          -0.8329408423424797,
          -1.9229384181663784,
          0.47118080701879783,
          1.4009391073207254,
          -0.5784759840816082,
          0.2459226435997502,
          0.9877270247817774,
          1.3431807218317737,
          0.45767679601074884,
          0.7089132748544452,
          0.9930374941540195,
          0.9124636943142541,
          0.9872938763761762,
          0.0766133592785751,
          -1.2629426022043548,
          -1.1019800375700506,
          -0.824763357240664,
          0.6364644135487516,
          0.4011996250579551,
          0.3045177662432706,
          1.438419999226041,
          -0.6521760972558864,
          1.2705189907509737,
          -0.07117344680675543,
          -0.6556945152953454,
          0.6321115374427564,
          -1.0197270076329557,
          0.48487308868689283,
          0.003771091652475248,
          -0.6436856002310867,
          1.4367427320905952,
          -0.6484856143156722,
          0.049961046121234476,
          -1.8426862844481902,
          -0.4817734733578124,
          0.10689439121909122,
          0.7705200922077421,
          -0.626107729417996,
          -0.2932157402292434,
          -0.25163274854306344,
          0.5134725669277722,
          0.07503739839266547,
          0.850344173271466,
          0.8077720080845616,
          0.24358710215059992,
          -1.1969946402912426,
          0.47784440399120054,
          -0.03865825478198421,
          -1.2666898696674709,
          0.8085547106615135,
          -1.6609334482086346,
          -0.8575154627128464,
          -0.5958632120554406,
          -1.2928171406051445,
          0.2981472317783223,
          0.1661064553607825,
          0.7972708161854773,
          -0.3999387242176847,
          -0.6999980139757632,
          -1.578070271327217,
          -0.29264760815989865,
          0.06499241048448935,
          -0.6695097464175763,
          -0.16986840741681386,
          -0.2538028470513303,
          0.957237801804227,
          1.6433481165649824,
          0.37998327699728,
          0.8594340987273595,
          0.7422901543783986,
          0.43477426162285526,
          -1.3367153389933346,
          -0.219507948933068,
          -2.1184808411021887,
          0.6819047585923375,
          1.403730697992386,
          0.30322577199458534,
          -0.35984414981329615,
          1.4914849736262457,
          0.2031786774920973,
          -0.9034590928100477,
          0.48505699502727195,
          0.38956633249530803,
          0.4081400830309434,
          0.10596465879382416,
          0.10623648970351607,
          -0.002563461000486853,
          -0.4108297647657644,
          -1.3631520051475716,
          -0.41551757901380043,
          0.9301770570674303,
          -0.8055352641319784,
          -0.1276636316599163,
          0.0252211954199273,
          -0.5994723419124945,
          0.7903403112495717,
          0.26637085468206023,
          0.31927464803053063,
          0.7102061544274247,
          1.1166122763053192,
          1.964656095517638,
          -0.39006570545163294,
          -0.1528814936168367,
          0.28876652889733345,
          0.27049873397739327,
          1.5678428894800407,
          -1.0735228679467133,
          -0.6539087238842903,
          0.10968395488807403,
          0.854393157542294,
          1.2411361978179527,
          -0.8558085058696514,
          -0.3710597340210327,
          -0.4225501021230629,
          0.5967023979260967,
          0.6774499628276232,
          0.8207409424765619,
          -0.09837183349874214,
          0.029231437134953724,
          -0.1360957569442037,
          -0.3994042836686106,
          -0.7688150099782628,
          -0.5123273796304034,
          -0.5835628894739969,
          -0.722457395758286,
          0.15421500930975374,
          1.1928204041312085,
          0.5863656761445558,
          0.1518332700914853,
          -1.6460864560747646,
          0.8631686764718797,
          0.32509248237919636,
          -0.6066540313294537,
          -2.1658293757883027,
          -0.18266806070080616,
          1.2624833509337032,
          0.6500097860348997,
          0.1933278569008836,
          -0.44525367486679124,
          -1.07779655976724,
          0.7814903152265458,
          -0.09292327214942361,
          -1.0821363942895241,
          -1.8703239829227942,
          -0.14484051518304572,
          0.32911832265298907,
          -0.6812592491134722,
          -0.14920187345189734,
          0.6563644369456993,
          -0.07960967159452137,
          0.360392383485965,
          1.6910012466961053,
          1.2058965983111558,
          -1.319014089066689,
          0.6593385546192957,
          -0.950845668402494,
          -0.7554074274748129,
          -0.017507024237813563,
          0.6037910263902313,
          -0.20828086393310136,
          1.098045767666234,
          0.6613038152828025,
          0.2012314085951196,
          -0.9554477831575683,
          0.12084483670615001,
          -1.0010773159670867,
          -0.5903130748757954,
          -1.0697665153809002,
          0.9191799385873884,
          0.4690165570992859,
          0.06387960125351591,
          -1.5838823456367928,
          2.1802143257963906,
          1.1480112283012642,
          -0.07162629952534273,
          0.5627367905167185,
          -0.18438506495854254,
          -1.5022982060619097,
          1.8497474254819983,
          -0.03918021541399383,
          -0.23872608346406154,
          -1.4871940407040494,
          0.04446443224203181,
          -1.1171846935307286,
          -0.21423048138667738,
          0.8794625436924016,
          -0.6765677387262804,
          -0.6555195298556425,
          -0.5392602969829471,
          -0.7631789005909189,
          -0.6496420791610642,
          0.13575924217161828,
          -0.6913802506294942,
          0.5116249514647393,
          0.0066234676257833185,
          -0.9992712247072545,
          0.1284439724260692,
          0.86673178050085,
          0.47383740979664,
          -1.155145808276023,
          2.449724635386686,
          -0.3841594824344654,
          -1.2558147665001267,
          -1.7223789709086947,
          1.265470008796909,
          -0.5845152862125991,
          -0.10307991640061441,
          -1.1109186251074195,
          -1.573179774272956,
          0.20194921220785317,
          1.684181105736972,
          0.1749451425187088,
          -0.5117453190107181,
          0.1464337186628566,
          -0.5342702364420915,
          0.361702182476172,
          -0.5953193564542244,
          -0.7018962148392052,
          0.33254715856664546,
          -0.2074803282234123,
          -1.1158259958549634,
          0.7339224290549348,
          -0.7219489897503646,
          -0.6639505335189924,
          0.07700314040805979,
          1.501695269617543,
          -0.1264237787916759,
          1.482553835167678,
          0.8221058615951625,
          -1.1329457247804353,
          -0.27947044860074993,
          0.34035358628544005,
          0.16603695617559688,
          1.538227662026561,
          -1.0019143524128864,
          1.266588418755343,
          -1.3279401052386597,
          -0.8198898699883692,
          -0.15181666075712758,
          -0.6881010325582105,
          -0.4962965666428519,
          0.5258372137868746,
          -0.9169839086787025,
          -0.015399631972195566,
          0.2191763265603908,
          -0.10154410000411923,
          -0.8413973942452553,
          0.26742609796599826,
          0.1652821010042733,
          0.8993927409765421,
          0.2731380189388509,
          -0.5209332204278989,
          0.003827782066467854,
          -2.2235247210103677,
          0.26619476767762423,
          -1.0653266387644003,
          -0.7781949014602746,
          1.2111160658055147,
          0.8435494614872038,
          0.6392072411133831,
          -1.5673365319883954,
          -0.48820531952937424,
          0.382652821108114,
          0.11940330224873966,
          -0.10287866080041115,
          -0.16313057754722105,
          -0.33027282865540986,
          -0.9072812033426338,
          1.5772281934652956,
          0.2593776801412029,
          0.6499925983000241,
          1.9361349631755442,
          -0.2749619540092998,
          0.054736893955394564,
          -0.12533195768406846,
          -0.5633824008033815,
          0.3550326943067617,
          -0.14575290704542096,
          0.39731214782098107,
          -0.3844702427713349,
          -0.7004868974302405,
          -0.7948138131391227,
          -0.20898916904106588,
          0.13944836109721045,
          -0.6396128337420199,
          0.6462234001258192,
          -1.5702369853656932,
          0.002558132443559444,
          0.5693985035926993,
          -1.7249818458911292,
          0.6999180068185291,
          0.12087626368181426,
          0.6961705704465131,
          -0.1105199651563309,
          -0.7937382936730868,
          -1.1872870295251683,
          -0.6869275644566205,
          1.1480578023596795,
          -0.2966974914506152,
          -0.7907382620638576,
          1.5502417707755665,
          0.691883991828658,
          0.5302185600849528,
          0.7831661422359449,
          -0.30094779463702026,
          -1.2089831630976164,
          0.03593165611304015,
          0.45127734334446684,
          -0.43052992371977183,
          -1.1782350984382197,
          1.610513767097405,
          -0.19767292898271227,
          0.24194304030794966,
          -0.33716830126314334,
          0.1922913097640107,
          -1.9490541369294565,
          -0.2837693278521786,
          -2.1894350964871334,
          0.5188857707133661,
          -0.25000356333018026,
          0.9693916791937012,
          -0.05690134215651439,
          -0.6920847841770168,
          0.02841482490090554,
          -0.7690423554516136,
          -0.7520029449516201,
          0.22902719921602183,
          0.10126910435144043,
          -0.2978561441018716,
          0.044330821147853805,
          -0.6389037852876629,
          -0.058454952874609514,
          -0.3930492028786991,
          0.26448157975104747,
          -0.04890121087349532,
          0.922636842203656,
          -0.17571653297138473,
          0.7435604915115459,
          -0.7425377052793676,
          -0.11888713829741669,
          0.49976603602412417,
          0.5074993228497391,
          -0.0366171110290226,
          -1.8302259497993183,
          -0.6352718702280106,
          -1.465052653106557,
          0.14649955874145237,
          0.06871301975594292,
          -0.6279982787022758,
          1.0925847346626232,
          0.19084099655061323,
          -1.4773188774377812,
          -0.4149616273697495,
          -0.7673532132045906,
          0.7107956092057559,
          -0.08474272218639953,
          -0.3720892444003291,
          0.9880425151902655,
          0.08452224245489849,
          0.02734954526690715,
          1.1555790084183435,
          0.7742439568335413,
          0.14130608238968387,
          -0.007614328843785302,
          -0.4911438733719288,
          -0.8817755319775729,
          -1.9852890273093178,
          -0.3047510463535927,
          -1.5101217441726542,
          -0.008549828079682964,
          -2.475201785535938,
          -1.5057800639580694,
          0.5648376847038632,
          0.41582247471322153,
          -2.3313395220161457,
          0.023243350421259353,
          0.6215970720610844,
          0.920203710632694,
          0.5863110602323549,
          -0.6104485716624539,
          -0.9565931762512211,
          -0.03604049823983428,
          -0.42858085306983923,
          -0.22158413775732083,
          -1.416458735487649,
          0.017540874025151715,
          0.9015393533532471,
          0.08362522267120091,
          0.2215565643965999,
          0.13048404715287357,
          -0.6805559534529533,
          -0.9612764922378536,
          -0.2587025385787027,
          -0.9517467144519343,
          0.31680416532449074,
          -0.8700189846539053,
          0.1494898918997366,
          -1.386007195726387,
          -0.8009967867291596,
          0.9890203314371645,
          0.7668608905469348,
          1.1409581337771968,
          -0.4861605052076032,
          1.0506069233279531,
          0.547499315525329,
          -0.6293041850937826,
          -1.0221494461297638,
          0.005973065847827721,
          -0.16753796482262384,
          0.0028767057807792366,
          0.5112666610576811,
          -0.1462465809163849,
          -0.2519133924778567,
          -0.18210146073514466,
          -1.968855462461655,
          0.5625485182192924,
          0.6306059261123429,
          1.5150971086886857,
          -0.16111808568167513,
          0.8881135013483886,
          0.20360183916971303,
          0.3420840810949897,
          0.006253483952005184,
          0.5905607357605196,
          -0.23567663092166552,
          0.06342036399443923,
          0.8257066322356365,
          0.3564841850019993,
          0.25438480679652997,
          -0.93867058759786,
          0.22234324023474153,
          0.5425793916985369,
          -0.6330894036289553,
          -0.30364760527832907,
          0.4752376976728627,
          2.302249232335112,
          -0.8602589866974347,
          -0.5242202081153747,
          0.6606677776108918,
          0.2761070466980334,
          2.0232605545795823,
          -2.401321321512262,
          0.5025929096177817,
          -0.3388339040939239,
          -1.0768670536246232,
          -1.3766152093037436,
          -0.9502068446426238,
          -1.1739580682713282,
          1.1524245912983304,
          1.4087338214065868,
          -0.3373611002651517,
          0.3512627671734213,
          1.0278856042134301,
          0.019214868300504274,
          -0.1181163997394738,
          -0.6731677474608212,
          1.2126425177419013,
          -0.5514947652653512,
          0.0593992639139357,
          1.189987408403028,
          1.077451794545217,
          1.211442703698463,
          0.43029573832941803,
          -1.4733501943311442,
          -0.22209658349972936,
          0.590431925620512,
          0.5699208350706988,
          0.5928535108513572,
          -0.43634674242330324,
          0.23005483431277252,
          0.7022872899035606,
          0.36025805672363664,
          0.9954393947301455,
          1.062835277877574,
          -1.796131152451888,
          -0.5403155968316528,
          0.3680489970817448,
          -0.019439844313012163,
          0.8892901824301803,
          1.0187048844685436,
          0.2605641543701971,
          -0.4885919608091687,
          0.7610502045342789,
          -1.3932051605028668,
          -0.16468611963894178,
          2.326211941793509,
          0.835351187093838,
          1.8730031820577775,
          -0.303139627295031,
          -0.6712653814952064,
          0.6055274610585748,
          -0.4008447664377824,
          0.4661090073783986,
          0.011245193590598144,
          -0.010263804571011156,
          0.18408505777638995,
          0.685968846775993,
          1.1162484028374198,
          -2.032558911405713,
          -0.4265924418456112,
          0.788216983473656,
          0.09480943843984715,
          2.201509497930125,
          -1.836967470312813,
          0.5659243991453157,
          -0.9892432810142678,
          0.2881985435826892,
          -1.0547135590958876,
          0.9312016644445195,
          -0.8484243712661387,
          0.07420797247362074,
          -1.1621803039486507,
          0.014139757002927428,
          1.2744822416059896,
          1.6745231664625808,
          -1.5994611226586957,
          0.08662183928458896,
          -0.6579632632625279,
          0.10502662596260848,
          -1.386905317837242,
          -0.17476398435786863,
          2.129858446067352,
          0.4646054678863165,
          0.7856145983623568,
          -1.6031181642449113,
          0.34108415788790186,
          -0.9088699120927655,
          0.7400784936221589,
          0.470979135072887,
          -1.2265388680230604,
          -1.471533101636134,
          -0.01724154703705941,
          -0.10724245047031772,
          -0.1803366998523412,
          -1.6210803763911752,
          0.5151612687527,
          0.35546852531538337,
          -0.7211329039616895,
          -0.4414171260223131,
          1.6223315790816608,
          -0.2502596271023464,
          1.305338776662321,
          -0.09960057333178651,
          -1.5290956412998142,
          0.9111609074136653,
          -0.22497124198783952,
          0.987587572315228,
          -0.8018186609912695,
          -0.9678835671876346,
          0.4686485398464421,
          -0.2918205882015359,
          0.7202977897350612,
          0.11763947972916322,
          -0.9318948804400385,
          -0.6377664596174041,
          -0.35399358718747115,
          -1.129093446547428,
          -2.022272984023233,
          0.32319897141550125,
          -0.24247553882328116,
          -2.145096610958944,
          0.010029663114993651,
          -1.303740539129158,
          -1.2624850627891429,
          1.5699015251264505,
          -0.23231350520865382,
          0.5572579356931467,
          1.5436767831268206,
          -1.2946309720379587,
          0.3931868889691435,
          -1.2022113868037771,
          -0.8093632953741143,
          -0.23909361719709865,
          -0.6957567944422886,
          -0.9851228196859912,
          0.25460123044995137,
          -1.7103646594471862,
          0.03226079898784989,
          0.8155284379693254,
          -0.7500452809610979,
          -1.7908563947429768,
          0.7540629169340126,
          -0.7264569665228505,
          -0.27006224344748797,
          0.7565950542324151,
          -0.16669297414866993,
          -2.0131676672142524,
          0.3247960098773031,
          -0.6281169534219664,
          2.0571563898233314,
          0.07454404324766459,
          -0.027140081832107057,
          0.2435523652243632,
          0.3615075726042192,
          0.0570221812812432,
          0.6781095284175432,
          -0.7806772764126259,
          -0.6745652636785807,
          -1.1437142200940544,
          1.0987909551797495,
          0.1452396850984835,
          -0.14751005605345985,
          -1.7740567677241095,
          0.7698034833285442,
          -2.149427115498516,
          -0.9275042504404469,
          0.09263108326540395,
          -0.46470728852347754,
          0.19283011297980765,
          0.2615508155720992,
          0.4002502608415251,
          0.5220458706735247,
          -1.8692262898478216,
          0.5994713031972513,
          1.4120026616306385,
          0.3506530432665655,
          0.8515819824331533,
          -0.6601767508764667,
          0.7664703183413846,
          -0.24088459261096845,
          -0.4243383851412444,
          0.32115476974898616,
          0.7009597517813068,
          0.08875153580659048,
          -1.1695178372941162,
          -0.16780673736218765,
          -0.9951350500132002,
          0.8655736124136648,
          0.9567352102200422,
          1.6367670275718527,
          0.28331356840166,
          0.2587449900049765,
          0.845321234642882,
          0.882356558326809,
          -0.5343321382318625,
          2.609881676194032,
          0.1294411528093107,
          -0.41595624355437827,
          1.6484382808034908,
          1.4269610422667183,
          0.14691858581216533,
          -0.9333163846852528,
          -0.37781859834213555,
          -0.3716146143230139,
          0.3882293411111411,
          0.5747673685941743,
          -1.490786616360943,
          -0.6248173240417487,
          0.23210712444272247,
          -0.6363550141638696,
          -0.5161560886281595,
          0.5486320883121929,
          0.9026411384217314,
          -1.7414733531642503,
          1.8851074020954208,
          -0.812183617731303,
          -0.2850344794915744,
          1.0681082931853767,
          -0.6397462648870882,
          -0.9446872532227406,
          0.09375731434602437,
          0.31884590416634934,
          -0.9607245420232524,
          0.655154805566055,
          -0.7672960051713108,
          -0.14279612149514626,
          -0.4117115751283669,
          -0.5668623565346879,
          0.9851023873693937,
          -0.6285824564134581,
          0.9577732368340539,
          1.7676521734483883,
          1.3549914684451072,
          -0.8936241688446396,
          -0.42113910757112755,
          0.4037954200831512,
          0.7389575100319741,
          0.2742150974674835,
          1.1456664165708152,
          2.1164367114617177,
          -1.2046851832961225,
          -0.32998624841379287,
          1.3914023399726254,
          -0.6043113908603861,
          -0.21568953372448757,
          0.18768873645563203,
          1.1839405432937047,
          -0.6972572094043964,
          1.171440524773258,
          0.8312859108168233,
          0.8877897437589239,
          1.2891206900569847,
          0.7132747867973335,
          -0.04581813165171188,
          -0.3553685394395423,
          -0.72576246530679,
          -0.20521359036843143,
          1.580586903876011,
          -0.9551523335487674,
          -0.4803779657320965,
          0.3514096049860419,
          -0.28237078727564957,
          0.03543999618381201,
          0.7821148804225021,
          0.6715610754520309,
          0.41440804521128605,
          -1.0083092571774899,
          -0.709229846049172,
          -0.5049722233488204,
          0.11475106170468191,
          0.2938460664263734,
          -0.7088939084982101,
          -1.8338343996344697,
          -0.49047057577279607,
          -1.1466476651285282,
          1.2970604557109928,
          -0.20460119451131342,
          0.1713759491906896,
          -0.06493917885077881,
          0.19351649335323864,
          0.5270466592546736,
          -0.15346101829926473,
          0.07573915536124688,
          -0.36513067551231065,
          1.9212656078371144,
          1.1722807497755927,
          -0.30154537502779966,
          -0.29380303016463133,
          -0.7563439682968834,
          0.6012678749949573,
          0.25806520129361643,
          0.2371073010577986,
          0.7613934584050995,
          -0.8249664025627725,
          -0.4011088712310705,
          -1.3026658566199363,
          0.03923903180431648,
          0.8227643314435378,
          0.04105212708348534,
          0.8754577206347368,
          -0.3618580969281596,
          -0.8244120050561797,
          0.4215320447589676,
          1.4840721562521466,
          -1.0793069709732086,
          -0.5028046030138893,
          -0.04188255657211265,
          1.163860049550707,
          -1.682258403916398,
          1.504583754619935,
          -0.8291919342162625,
          0.8983647959298005,
          -0.8598269313135256
         ],
         "yaxis": "y"
        }
       ],
       "layout": {
        "height": 500,
        "legend": {
         "tracegroupgap": 0
        },
        "margin": {
         "t": 60
        },
        "template": {
         "data": {
          "bar": [
           {
            "error_x": {
             "color": "#2a3f5f"
            },
            "error_y": {
             "color": "#2a3f5f"
            },
            "marker": {
             "line": {
              "color": "#E5ECF6",
              "width": 0.5
             },
             "pattern": {
              "fillmode": "overlay",
              "size": 10,
              "solidity": 0.2
             }
            },
            "type": "bar"
           }
          ],
          "barpolar": [
           {
            "marker": {
             "line": {
              "color": "#E5ECF6",
              "width": 0.5
             },
             "pattern": {
              "fillmode": "overlay",
              "size": 10,
              "solidity": 0.2
             }
            },
            "type": "barpolar"
           }
          ],
          "carpet": [
           {
            "aaxis": {
             "endlinecolor": "#2a3f5f",
             "gridcolor": "white",
             "linecolor": "white",
             "minorgridcolor": "white",
             "startlinecolor": "#2a3f5f"
            },
            "baxis": {
             "endlinecolor": "#2a3f5f",
             "gridcolor": "white",
             "linecolor": "white",
             "minorgridcolor": "white",
             "startlinecolor": "#2a3f5f"
            },
            "type": "carpet"
           }
          ],
          "choropleth": [
           {
            "colorbar": {
             "outlinewidth": 0,
             "ticks": ""
            },
            "type": "choropleth"
           }
          ],
          "contour": [
           {
            "colorbar": {
             "outlinewidth": 0,
             "ticks": ""
            },
            "colorscale": [
             [
              0,
              "#0d0887"
             ],
             [
              0.1111111111111111,
              "#46039f"
             ],
             [
              0.2222222222222222,
              "#7201a8"
             ],
             [
              0.3333333333333333,
              "#9c179e"
             ],
             [
              0.4444444444444444,
              "#bd3786"
             ],
             [
              0.5555555555555556,
              "#d8576b"
             ],
             [
              0.6666666666666666,
              "#ed7953"
             ],
             [
              0.7777777777777778,
              "#fb9f3a"
             ],
             [
              0.8888888888888888,
              "#fdca26"
             ],
             [
              1,
              "#f0f921"
             ]
            ],
            "type": "contour"
           }
          ],
          "contourcarpet": [
           {
            "colorbar": {
             "outlinewidth": 0,
             "ticks": ""
            },
            "type": "contourcarpet"
           }
          ],
          "heatmap": [
           {
            "colorbar": {
             "outlinewidth": 0,
             "ticks": ""
            },
            "colorscale": [
             [
              0,
              "#0d0887"
             ],
             [
              0.1111111111111111,
              "#46039f"
             ],
             [
              0.2222222222222222,
              "#7201a8"
             ],
             [
              0.3333333333333333,
              "#9c179e"
             ],
             [
              0.4444444444444444,
              "#bd3786"
             ],
             [
              0.5555555555555556,
              "#d8576b"
             ],
             [
              0.6666666666666666,
              "#ed7953"
             ],
             [
              0.7777777777777778,
              "#fb9f3a"
             ],
             [
              0.8888888888888888,
              "#fdca26"
             ],
             [
              1,
              "#f0f921"
             ]
            ],
            "type": "heatmap"
           }
          ],
          "heatmapgl": [
           {
            "colorbar": {
             "outlinewidth": 0,
             "ticks": ""
            },
            "colorscale": [
             [
              0,
              "#0d0887"
             ],
             [
              0.1111111111111111,
              "#46039f"
             ],
             [
              0.2222222222222222,
              "#7201a8"
             ],
             [
              0.3333333333333333,
              "#9c179e"
             ],
             [
              0.4444444444444444,
              "#bd3786"
             ],
             [
              0.5555555555555556,
              "#d8576b"
             ],
             [
              0.6666666666666666,
              "#ed7953"
             ],
             [
              0.7777777777777778,
              "#fb9f3a"
             ],
             [
              0.8888888888888888,
              "#fdca26"
             ],
             [
              1,
              "#f0f921"
             ]
            ],
            "type": "heatmapgl"
           }
          ],
          "histogram": [
           {
            "marker": {
             "pattern": {
              "fillmode": "overlay",
              "size": 10,
              "solidity": 0.2
             }
            },
            "type": "histogram"
           }
          ],
          "histogram2d": [
           {
            "colorbar": {
             "outlinewidth": 0,
             "ticks": ""
            },
            "colorscale": [
             [
              0,
              "#0d0887"
             ],
             [
              0.1111111111111111,
              "#46039f"
             ],
             [
              0.2222222222222222,
              "#7201a8"
             ],
             [
              0.3333333333333333,
              "#9c179e"
             ],
             [
              0.4444444444444444,
              "#bd3786"
             ],
             [
              0.5555555555555556,
              "#d8576b"
             ],
             [
              0.6666666666666666,
              "#ed7953"
             ],
             [
              0.7777777777777778,
              "#fb9f3a"
             ],
             [
              0.8888888888888888,
              "#fdca26"
             ],
             [
              1,
              "#f0f921"
             ]
            ],
            "type": "histogram2d"
           }
          ],
          "histogram2dcontour": [
           {
            "colorbar": {
             "outlinewidth": 0,
             "ticks": ""
            },
            "colorscale": [
             [
              0,
              "#0d0887"
             ],
             [
              0.1111111111111111,
              "#46039f"
             ],
             [
              0.2222222222222222,
              "#7201a8"
             ],
             [
              0.3333333333333333,
              "#9c179e"
             ],
             [
              0.4444444444444444,
              "#bd3786"
             ],
             [
              0.5555555555555556,
              "#d8576b"
             ],
             [
              0.6666666666666666,
              "#ed7953"
             ],
             [
              0.7777777777777778,
              "#fb9f3a"
             ],
             [
              0.8888888888888888,
              "#fdca26"
             ],
             [
              1,
              "#f0f921"
             ]
            ],
            "type": "histogram2dcontour"
           }
          ],
          "mesh3d": [
           {
            "colorbar": {
             "outlinewidth": 0,
             "ticks": ""
            },
            "type": "mesh3d"
           }
          ],
          "parcoords": [
           {
            "line": {
             "colorbar": {
              "outlinewidth": 0,
              "ticks": ""
             }
            },
            "type": "parcoords"
           }
          ],
          "pie": [
           {
            "automargin": true,
            "type": "pie"
           }
          ],
          "scatter": [
           {
            "fillpattern": {
             "fillmode": "overlay",
             "size": 10,
             "solidity": 0.2
            },
            "type": "scatter"
           }
          ],
          "scatter3d": [
           {
            "line": {
             "colorbar": {
              "outlinewidth": 0,
              "ticks": ""
             }
            },
            "marker": {
             "colorbar": {
              "outlinewidth": 0,
              "ticks": ""
             }
            },
            "type": "scatter3d"
           }
          ],
          "scattercarpet": [
           {
            "marker": {
             "colorbar": {
              "outlinewidth": 0,
              "ticks": ""
             }
            },
            "type": "scattercarpet"
           }
          ],
          "scattergeo": [
           {
            "marker": {
             "colorbar": {
              "outlinewidth": 0,
              "ticks": ""
             }
            },
            "type": "scattergeo"
           }
          ],
          "scattergl": [
           {
            "marker": {
             "colorbar": {
              "outlinewidth": 0,
              "ticks": ""
             }
            },
            "type": "scattergl"
           }
          ],
          "scattermapbox": [
           {
            "marker": {
             "colorbar": {
              "outlinewidth": 0,
              "ticks": ""
             }
            },
            "type": "scattermapbox"
           }
          ],
          "scatterpolar": [
           {
            "marker": {
             "colorbar": {
              "outlinewidth": 0,
              "ticks": ""
             }
            },
            "type": "scatterpolar"
           }
          ],
          "scatterpolargl": [
           {
            "marker": {
             "colorbar": {
              "outlinewidth": 0,
              "ticks": ""
             }
            },
            "type": "scatterpolargl"
           }
          ],
          "scatterternary": [
           {
            "marker": {
             "colorbar": {
              "outlinewidth": 0,
              "ticks": ""
             }
            },
            "type": "scatterternary"
           }
          ],
          "surface": [
           {
            "colorbar": {
             "outlinewidth": 0,
             "ticks": ""
            },
            "colorscale": [
             [
              0,
              "#0d0887"
             ],
             [
              0.1111111111111111,
              "#46039f"
             ],
             [
              0.2222222222222222,
              "#7201a8"
             ],
             [
              0.3333333333333333,
              "#9c179e"
             ],
             [
              0.4444444444444444,
              "#bd3786"
             ],
             [
              0.5555555555555556,
              "#d8576b"
             ],
             [
              0.6666666666666666,
              "#ed7953"
             ],
             [
              0.7777777777777778,
              "#fb9f3a"
             ],
             [
              0.8888888888888888,
              "#fdca26"
             ],
             [
              1,
              "#f0f921"
             ]
            ],
            "type": "surface"
           }
          ],
          "table": [
           {
            "cells": {
             "fill": {
              "color": "#EBF0F8"
             },
             "line": {
              "color": "white"
             }
            },
            "header": {
             "fill": {
              "color": "#C8D4E3"
             },
             "line": {
              "color": "white"
             }
            },
            "type": "table"
           }
          ]
         },
         "layout": {
          "annotationdefaults": {
           "arrowcolor": "#2a3f5f",
           "arrowhead": 0,
           "arrowwidth": 1
          },
          "autotypenumbers": "strict",
          "coloraxis": {
           "colorbar": {
            "outlinewidth": 0,
            "ticks": ""
           }
          },
          "colorscale": {
           "diverging": [
            [
             0,
             "#8e0152"
            ],
            [
             0.1,
             "#c51b7d"
            ],
            [
             0.2,
             "#de77ae"
            ],
            [
             0.3,
             "#f1b6da"
            ],
            [
             0.4,
             "#fde0ef"
            ],
            [
             0.5,
             "#f7f7f7"
            ],
            [
             0.6,
             "#e6f5d0"
            ],
            [
             0.7,
             "#b8e186"
            ],
            [
             0.8,
             "#7fbc41"
            ],
            [
             0.9,
             "#4d9221"
            ],
            [
             1,
             "#276419"
            ]
           ],
           "sequential": [
            [
             0,
             "#0d0887"
            ],
            [
             0.1111111111111111,
             "#46039f"
            ],
            [
             0.2222222222222222,
             "#7201a8"
            ],
            [
             0.3333333333333333,
             "#9c179e"
            ],
            [
             0.4444444444444444,
             "#bd3786"
            ],
            [
             0.5555555555555556,
             "#d8576b"
            ],
            [
             0.6666666666666666,
             "#ed7953"
            ],
            [
             0.7777777777777778,
             "#fb9f3a"
            ],
            [
             0.8888888888888888,
             "#fdca26"
            ],
            [
             1,
             "#f0f921"
            ]
           ],
           "sequentialminus": [
            [
             0,
             "#0d0887"
            ],
            [
             0.1111111111111111,
             "#46039f"
            ],
            [
             0.2222222222222222,
             "#7201a8"
            ],
            [
             0.3333333333333333,
             "#9c179e"
            ],
            [
             0.4444444444444444,
             "#bd3786"
            ],
            [
             0.5555555555555556,
             "#d8576b"
            ],
            [
             0.6666666666666666,
             "#ed7953"
            ],
            [
             0.7777777777777778,
             "#fb9f3a"
            ],
            [
             0.8888888888888888,
             "#fdca26"
            ],
            [
             1,
             "#f0f921"
            ]
           ]
          },
          "colorway": [
           "#636efa",
           "#EF553B",
           "#00cc96",
           "#ab63fa",
           "#FFA15A",
           "#19d3f3",
           "#FF6692",
           "#B6E880",
           "#FF97FF",
           "#FECB52"
          ],
          "font": {
           "color": "#2a3f5f"
          },
          "geo": {
           "bgcolor": "white",
           "lakecolor": "white",
           "landcolor": "#E5ECF6",
           "showlakes": true,
           "showland": true,
           "subunitcolor": "white"
          },
          "hoverlabel": {
           "align": "left"
          },
          "hovermode": "closest",
          "mapbox": {
           "style": "light"
          },
          "paper_bgcolor": "white",
          "plot_bgcolor": "#E5ECF6",
          "polar": {
           "angularaxis": {
            "gridcolor": "white",
            "linecolor": "white",
            "ticks": ""
           },
           "bgcolor": "#E5ECF6",
           "radialaxis": {
            "gridcolor": "white",
            "linecolor": "white",
            "ticks": ""
           }
          },
          "scene": {
           "xaxis": {
            "backgroundcolor": "#E5ECF6",
            "gridcolor": "white",
            "gridwidth": 2,
            "linecolor": "white",
            "showbackground": true,
            "ticks": "",
            "zerolinecolor": "white"
           },
           "yaxis": {
            "backgroundcolor": "#E5ECF6",
            "gridcolor": "white",
            "gridwidth": 2,
            "linecolor": "white",
            "showbackground": true,
            "ticks": "",
            "zerolinecolor": "white"
           },
           "zaxis": {
            "backgroundcolor": "#E5ECF6",
            "gridcolor": "white",
            "gridwidth": 2,
            "linecolor": "white",
            "showbackground": true,
            "ticks": "",
            "zerolinecolor": "white"
           }
          },
          "shapedefaults": {
           "line": {
            "color": "#2a3f5f"
           }
          },
          "ternary": {
           "aaxis": {
            "gridcolor": "white",
            "linecolor": "white",
            "ticks": ""
           },
           "baxis": {
            "gridcolor": "white",
            "linecolor": "white",
            "ticks": ""
           },
           "bgcolor": "#E5ECF6",
           "caxis": {
            "gridcolor": "white",
            "linecolor": "white",
            "ticks": ""
           }
          },
          "title": {
           "x": 0.05
          },
          "xaxis": {
           "automargin": true,
           "gridcolor": "white",
           "linecolor": "white",
           "ticks": "",
           "title": {
            "standoff": 15
           },
           "zerolinecolor": "white",
           "zerolinewidth": 2
          },
          "yaxis": {
           "automargin": true,
           "gridcolor": "white",
           "linecolor": "white",
           "ticks": "",
           "title": {
            "standoff": 15
           },
           "zerolinecolor": "white",
           "zerolinewidth": 2
          }
         }
        },
        "width": 500,
        "xaxis": {
         "anchor": "y",
         "autorange": true,
         "domain": [
          0,
          1
         ],
         "range": [
          -3.234544790957608,
          3.4395458826050063
         ],
         "title": {
          "text": "0"
         },
         "type": "linear"
        },
        "yaxis": {
         "anchor": "x",
         "autorange": true,
         "domain": [
          0,
          1
         ],
         "range": [
          -3.1390108415550415,
          4.001503497784887
         ],
         "title": {
          "text": "1"
         },
         "type": "linear"
        }
       }
      },
      "image/png": "[encoded data removed]",
      "text/html": [
       "<div>                            <div id=\"1d35273b-1afc-4e4d-9ddf-ea3b1826823d\" class=\"plotly-graph-div\" style=\"height:500px; width:500px;\"></div>            <script type=\"text/javascript\">                require([\"plotly\"], function(Plotly) {                    window.PLOTLYENV=window.PLOTLYENV || {};                                    if (document.getElementById(\"1d35273b-1afc-4e4d-9ddf-ea3b1826823d\")) {                    Plotly.newPlot(                        \"1d35273b-1afc-4e4d-9ddf-ea3b1826823d\",                        [{\"hovertemplate\":\"0=%{x}<br>1=%{y}<extra></extra>\",\"legendgroup\":\"\",\"marker\":{\"color\":\"#636efa\",\"symbol\":\"circle\"},\"mode\":\"markers\",\"name\":\"\",\"orientation\":\"v\",\"showlegend\":false,\"x\":[-0.1831718303287549,-0.13608348824631594,-0.4892510550393624,-1.56119981511055,-1.4853068494521218,0.4376697757610719,0.38466976429637245,0.28442679933572546,1.1914489007768614,0.5955661668013689,-0.07127704115356989,-1.1086708527832503,-0.564399944874174,0.7585082114040017,-0.4267134648544524,0.9839035306556825,-0.5836393425808597,0.5433543845215668,0.4923463386045253,0.4985921648611863,-1.5362823119203821,0.7363315016578658,0.9382328179450296,0.7512411139683934,0.9940666197200554,-1.0105299502008356,-0.845176567143896,-2.1468178700231593,1.2394235489260286,-1.0401842090276425,0.27331580617512274,0.267686417200634,0.4538078126786031,0.4787511353460723,-1.6257503359446568,0.19346826422619823,-1.3966733077637905,-0.8862237920982622,0.167459504791741,0.8599848626435457,0.5152474773503014,-0.13629835869186152,-0.44649700792541525,-0.29449163812006307,-0.24175883001634021,0.3102003292351064,0.7743002771133553,-1.0956378855940554,-2.7607997876338857,0.06619770403011443,1.588560729660399,0.2841090819271085,-0.04723906606738587,0.31425713491028784,1.1999464814291176,0.4489194059232927,0.5099721137266375,1.3319301168821527,0.44393498464477893,0.30255669530542784,-0.8974605884392578,-0.9283756126157671,-0.7403217856051392,-1.2507978401257474,0.5375607973037267,-0.14822318734029133,0.6022316077071768,2.3516399950201285,0.3054240157555801,1.1516482194377062,-0.6967373392459798,-0.5060087529533135,0.3386484440692815,-0.3970596659169717,0.5016883675851829,0.641295476316282,-0.9461404411703356,1.325925412460183,-1.4323749953601554,0.1990423184063378,-2.3220669881780633,0.6933841296773979,0.2584499290675003,0.9024833623253173,-1.9864542568391164,-0.8094387680372217,-0.5072181481679195,1.2118904895145874,-0.4601649782751387,0.5592413665734975,-0.046602780904484886,1.1372727180906606,-1.5466027168065826,1.3147646473450467,0.3197252866900816,-1.1944489815835277,0.9277666836900498,-1.9359944179608457,-0.35062641003026596,-0.6862851907997578,-0.6397988077300756,0.30496845333452693,0.25190168674758256,1.3932416521071231,-0.4961044217361691,-2.190931916378829,-1.3169386005812878,-0.18845741533122273,0.43998859702808363,-0.08199168401431389,-0.33506077089779757,-0.46213955339837354,-0.1970378739028631,1.7719139138204176,0.26728475935308726,1.0311631136420705,0.7544334343129668,0.7774285271702497,-1.6300081796557389,-0.2382616208299928,-2.140902220014775,0.49226961388858725,1.4973048015914332,0.657955003542854,-0.3430836568738597,1.1631883771022677,1.3089694603046262,0.1589903748082785,0.3889730163965135,0.9601785573772461,1.584404388105829,0.6290061569928513,0.5039848638933606,-0.5583967386311474,-1.1345912626886305,-1.387412912858317,-0.9617883666865559,0.3663350290051046,-0.4636015372871749,-1.2091828261269517,0.33952320579188133,-1.2654281217744472,0.9026155796041502,0.293456000154505,-0.04758606836388335,-0.3365537356136783,1.0930423911040887,1.5367319702769031,-0.8788212375606044,0.10665466042678792,0.7105009273766842,0.39569023972970985,1.7394403133268455,-1.039942923034608,-1.0293317834463627,0.5658818997101962,0.00016757140826617611,0.7113492645187424,-0.8951381775963348,-0.5101949204523963,0.5568055601873341,0.2520965081511475,1.0427356996888462,0.37339642209201773,-0.0831194102204302,-0.07111147749453275,-0.1138897667062159,-0.0923142257580824,-1.0441630021432848,-1.004045757052462,-1.0531188090102037,-0.22720562389582533,-0.21629744333374804,0.24655771570798168,0.21613498092362937,0.7190206354670425,-2.1323231678122556,0.7405007322289586,-0.3903571688882914,-0.5327423233667297,-2.214835562344297,-0.9296556771169084,1.4074649733752562,0.5475434855907559,-0.14476681553204596,0.03346247681019826,-1.125331525540558,1.1480538896869021,0.5779317055386768,-1.1367500513640716,-1.5359875694933787,1.4905773663028354,-0.38381159578927865,0.32726231139093864,-0.4413552862489367,0.3289114469887776,0.2814723349048672,0.0023630877693706642,0.9524848458507132,2.329523483444226,-0.6408948751809174,-0.05273291341228703,-0.5801998889891269,-0.37324256054460997,-0.022098098299956563,0.8632729409341063,-0.2504991976964996,0.13200982525992844,0.5754090908964561,0.5340085087816713,-1.641954138335139,0.8193079557052972,-0.37993643469910743,-0.9071073640984719,-0.6796820754000477,1.0278028267964632,1.281858014761928,-0.1724061308755187,-1.6387034981842703,2.2167469707575815,0.8280544065450614,-0.4936110125125608,1.39350397015081,-0.41542964544107475,-2.0814197800465832,1.951054595593604,0.3351407648732208,-0.46452107399691855,-1.9244237561080126,0.049994060399671185,-0.7637583598758989,0.6705288648799225,1.0203175110667502,-0.6430522677657187,-0.28051133994621247,0.42245344975138865,-1.0711990005761096,-1.2768706242529992,-0.09790016380296997,-1.6101607544347922,0.5652396645397624,-0.20633571427348713,-1.3629652007211206,-0.16736116881572294,0.914197311962468,-0.14701104767198503,-2.075182005895606,1.3032549208617508,0.497274143629343,-1.0638301210068333,-2.213666248476464,0.9187822221822985,-0.5259123714131358,0.5851270456188864,-0.7504388433149518,-1.384513649468271,-0.2139426099057159,0.7245079722933365,0.30577405182893824,-0.7653631366588092,-0.32522830032326255,-0.018874642875768344,-0.0513988177984952,-0.967204126273105,-0.210952601669111,0.68398561113067,-0.8834321034931428,-0.3932872593258664,0.3733429287817518,-0.6726186269322169,-0.2263462090771617,0.24931122535397027,1.876969403677361,0.011571764815367924,1.4548619651786145,2.064445487098737,-1.0231436687767097,-0.18572029236902687,0.6847148007831501,0.7259798922753236,1.2354097111038609,-1.0741134475520162,1.6906496288141368,-1.283996556825205,-1.202574159623679,0.4554559094219616,-0.805131457137425,0.09391946878446211,0.017244229188319082,-0.8844849042479173,-0.28790271196038797,-0.5316344870919889,0.40201850889563334,-1.005333470667569,0.38147861217880885,-0.2235958688362401,0.2654432144794717,-0.38084645038089376,-0.3357695800493647,-0.30980327275621006,-2.2878999265287647,0.7420641235838926,-1.6012602962242595,-0.4885575845711828,1.6897207478907508,0.8583034948900969,1.4200326436504667,-2.213574809573051,-0.6611177109920645,-0.31066584523596147,0.5753463013792056,0.06993099073688673,-0.7162526850574171,-0.3735302259516927,-0.9910400905749788,2.160861363643279,0.1413563822852119,0.8029624156506129,2.4553413560485153,-1.0060465466409507,0.49844559949803297,-0.4463212113095461,-0.5561513041242012,0.6465569664833117,-1.0388716486248721,0.4423671154789018,0.02341285690531919,-1.4707556061930793,-0.4673287798054061,0.35542235441658615,-0.2794600630172679,-1.6847630160672198,0.2988768755743564,-1.6688454432415154,0.24056878353230715,1.6658384160030593,-2.3525926561435795,0.7734400882954906,0.5121365388056112,0.32307760069941477,-0.22947343646616464,-0.036137462519155394,-0.6488833146000681,0.19525948563109474,0.930507525439424,-0.09944345057308068,-0.6323196307621759,1.888942221054042,0.6028822701004689,0.01937371708704,0.16335308494765843,-0.16292016714956328,-1.2210631380234864,0.15028494627847022,0.13403562587632195,-0.6532315615286416,-1.6237378003791763,2.2489548070078964,-0.5160234020675536,0.9068136624716812,0.0978134478538012,-0.23649296801570543,-2.0570560837686434,-0.2885170232390315,-1.8890450831741716,0.7556687498839041,-0.17943086831452554,0.8052969052263224,-0.65949992701439,-0.126710418654974,0.2927220323977896,-1.1396748791099096,0.023399304127057263,0.3567847490898105,0.04734893129958631,-0.5639106687362789,0.16470411402893556,-0.487843896375169,-0.406802440194867,-0.8627231670088573,0.24835241036387432,-0.3625622094608443,0.42413088086352835,-0.698399992137423,0.8698082035211439,-0.5428852963227858,-1.142680003360602,0.8108155184878716,-0.25971824111982805,0.3097771151504831,-1.7090905215108192,-0.9986437130813812,-1.3747424046188659,0.019239281284559276,-0.21342426894425146,0.06082787863511274,1.099552620521278,0.22722938589812214,-1.578960978455265,-0.6186124479299127,-1.0548930303503035,1.164216079630921,-0.5851799927322512,-0.25698377808732376,0.6630115360078228,1.0504052993314172,-0.3345592449893928,1.2719715008386103,1.2373526427377026,0.2813565330041876,-0.2605357738784055,-0.6653858191958313,-0.2257970994532501,-1.7733800582201509,0.013090988092321065,-1.632614731094686,0.20522531634407798,-2.6178919813276336,-2.004721872504028,1.0233761702060709,1.5807119957998217,-2.0114169425536907,-0.4759452585130322,0.5830283694649193,1.2180071450570205,0.9126356177870696,-0.6079832031446781,-1.0856053660832607,-0.4052074941576264,-0.28219033591238873,-0.3208626541014151,-1.7155912817506997,-0.6469104870322198,0.7365404744882691,-0.3606017372775528,0.07204379156542706,0.7646922523183125,-0.9079751951647768,-2.0574577658884734,-0.3859519676965347,-1.1500813323910668,0.5786133059689744,-0.5458065853861853,0.12406943246124122,-1.652858212167481,-0.6940289279288858,0.9146484205281045,0.9866550913839389,1.1176075741498737,-0.322931490327686,0.8557812770897276,1.273621298051204,-0.9291608578056457,-1.5459679791308076,0.9441523424959807,-0.40815567344284365,-0.3835464397780628,0.43323126048451815,-0.11073176537218533,-0.3627416573528901,-0.9328633715235096,-2.827228963085772,1.020926731707919,0.37814018786905607,2.266256477331306,-1.1345879818725835,0.8736413474175433,0.6938942195908582,0.046872612912676415,0.026415363649964906,-1.1304869628633,-0.8814818906593764,-0.5063557945813784,0.906667903590544,-0.2760211472329575,0.1514906139034408,-1.1498152055901296,0.4442709654434406,0.44703092166999203,-0.33213779231340745,-0.21317070212929068,0.18780113999949322,2.2613748519647108,0.007159249162384307,-0.8940841749971415,0.07692884074258999,-0.4001225182304836,1.9550632785948394,-2.386320470167922,0.03572599671889892,-0.014278311742514094,-1.324435879712593,-1.4604125859305335,-1.2759214237235723,-0.783278740788507,0.9768647943971727,2.0052334947598838,-0.2578942461293711,0.35573296396546916,1.34932078187522,0.06739808509867037,-0.9146128091560511,-0.35390949278140205,0.9804126544367756,-0.8744242927132062,0.2042683557179165,1.112266933207772,1.2528362965612219,0.3319746178266837,0.8469490853635353,-1.277225389930981,-0.1159057507917723,-0.26484931658272004,0.41159220981274036,0.6866316843203666,0.14509011757620188,0.8024320376944054,0.8557687375845818,0.06250568486834052,0.022455215866873157,0.7159138068920681,-1.1589106116948833,-1.0694094871932438,-0.04918343296218536,0.13434805610707234,0.9828595743492663,0.5618613384840674,0.7524298873334261,-0.26771579341960694,0.8735798369292666,-1.7329264019969977,-0.39359653274529705,3.03223005473317,-0.2256124603408698,2.2913870034405637,-0.5208566121488134,-0.9318634871458381,1.537779404377591,-0.30791494306948364,0.7895939878717664,-0.3567218635535365,-0.27314032463151644,0.2744711290675257,-0.0700281950307754,1.7308853697237763,-1.3902133811912964,-0.9820800433712243,0.18833603007549282,0.34521129781042914,1.804478609334385,-2.2633471152106766,0.5018061903103015,-1.055629184449956,0.0875341156922998,-0.5812519188667506,1.5238463368270625,-0.838092055880769,-1.0840080050425183,-1.1701002504006257,0.23331786134320967,0.5292258835044477,1.7314395166389311,-2.4310170001264106,0.457070071865493,-0.8057871174816116,-0.0594729199485676,-1.5013625049474943,-0.3770398554699328,2.145770929098348,0.3334215175323848,1.4182600032691492,-1.6953549918315653,0.9089176413466216,-0.08025835996216935,1.1594950838044031,0.5550169187691111,-2.289748231696766,-1.5499822892807775,0.6204101019041108,-0.1321710098973717,-0.5638013537104363,-0.8491965098736072,0.08811845535874085,0.2641241671180891,-1.4571592953342767,-0.5428193093697151,1.8857725496750555,-1.9022083966549719,2.1464953807552907,-0.8212815381025467,-0.745840129705647,1.6027445941207592,0.10478801556990988,1.4851089690998687,-0.1781883228252017,-0.6870437418999789,0.0920028855361883,-0.27691328670545295,0.7711151569969193,-0.7071972905951728,-1.4364861545020997,-0.31335392918464994,-0.49650384284295535,-1.5647095968299802,-2.235010446035567,-0.08084875725256568,0.059341219294560765,-1.7251664872863453,0.4158633572817601,-0.9948442483767765,-0.932535444559633,1.3987967315238663,-0.8670819743774716,0.38375763381091077,0.8608203747981317,-1.3504870151668817,1.0932820369853506,-1.6268986672155457,-1.242055169816789,-0.616612872094064,-0.38881849565479426,-1.7715871781570458,-0.12305809329568604,-2.0531180186965323,0.33639550252833494,1.5216786364623025,-0.5617934627892827,-2.226458970790509,-0.004302318653023662,-1.2480705947522153,-0.24687982818736276,0.9816807334477768,-0.004574236022042766,-1.8583399839394639,-0.41844980089724426,-0.4177045919757319,2.259806191866357,-0.1813488440810248,-0.7672024875448236,-0.5175718133037444,0.6017147734852245,0.7028729850848382,1.3454431308333648,-0.7345054119481721,-0.5073764096672901,-1.7990555607129703,1.9062123133284081,-0.1423893421791492,-0.10565975234859537,-2.0909707750596276,0.5892397003241897,-2.182819191183972,-1.5109176803982522,-0.704264927717765,-0.6554551084311363,0.41732055577936183,-0.4413048881431603,0.3923044332513801,-0.30526199501740103,-1.1930272639400805,-0.3835111350811816,0.8968142494673332,0.8239376194495767,1.1725468116427384,-1.426452060221231,0.9736467719965751,-0.23369199166635174,-0.05386415327555738,-0.25808024999433515,1.2439224176801855,0.4251837808347655,-0.9541588498481552,-0.24454210987857133,-0.9245658577884004,1.030148230603467,0.8299632552027149,1.3510049232907098,0.3979947718183563,0.6698132036503577,1.3258929088037728,0.6204326136100051,-0.0949021192747963,2.4481224678642026,-0.006122755063942109,-0.16201325064386168,2.103966697220591,1.9687173006798895,-0.22700388949696337,-0.7994140488493032,-0.3703875362257948,-0.3414710420509474,0.7238997856255822,0.8043058493284828,-1.8623488369924766,-0.6885429424101398,0.26526393758016953,0.909113942448177,0.32623215800820615,1.5988936070686095,0.11682073821433048,-1.5511825105845962,2.091857772814071,-1.4327269877698765,-0.5244959892833891,0.9813813434164486,-1.0905575212953742,-0.8770677898077907,0.17052549631142758,0.5066818590199298,-1.4800964459311854,0.1327414707218787,-0.4721374834895725,-0.5905286202022396,0.2694561694990623,0.6529415392364464,1.1107659045484657,-0.957053907610852,0.4081065658241406,2.5477406370588684,1.2253367545318405,-0.6963174994978423,-0.8453474027805213,-0.31991928278453874,0.6786806700020299,-0.23807907653341998,1.5211188681224872,2.66218259312222,-0.8206662467274811,-0.878964839905896,1.884605841029527,-0.3893006298077918,-0.8095519847307602,0.2790026841617103,1.0189819937238729,-0.8751802469647851,0.3214479771615658,0.9494482438176133,0.942498474351302,1.1644312320536956,0.5510991525710495,-0.5657600354166563,-1.178880623919753,-0.7763272054562523,0.2607355627860957,1.6803253292019176,-1.1314676173581653,-1.0611508626921233,0.04679428380846962,-0.6056532879052967,-0.38963251172506586,0.8966001234744372,1.3443238404895552,1.2283249174750641,-1.0116681520747448,-1.2039042114082497,-0.29311697099121325,-1.0901148490818717,0.5108412649339373,-0.4350551200769995,-2.5089290687231736,-0.5322756512263851,-0.12417543861996028,0.814443528004792,-0.40138961108205207,0.18156303629889706,-0.031368235384226305,0.5378576321891948,0.6292525467100173,-0.17989938061514113,-0.08539620778818091,0.24104522725297778,2.6348404624197177,0.7366088517230457,0.39386387403989187,-0.2149420006790791,-1.9045334044781406,0.8682976015268378,-0.3873951253573833,0.39407552237626003,0.9570184188025395,-0.21408423739464622,0.03711847102314453,-0.6889949010273706,0.4724735531767397,-0.2614943232147715,-0.15871120597020288,1.2362773821220827,-0.7272275878208541,-1.4909419734771219,1.1040938682088275,1.1104348358818217,-0.27451470937909705,0.370941882994025,-0.5438123564111206,0.8649644847856108,-2.6144521763597424,0.7466872254736043,-1.341228809665585,0.5296865378227344,-1.2341354617117133],\"xaxis\":\"x\",\"y\":[0.029159685027892943,0.6256131321065114,0.8350966719628719,-0.7855718941594552,-0.6841581655408182,0.5677926284556993,0.0626387007658962,2.4475943553009025,0.18722209750954366,0.7152727292058121,-0.0809283839017189,-0.5207180024205871,-0.25994099789169256,0.021383082964574807,-0.5619855778560053,0.3030067454934745,-0.5724636071973804,0.1311420814234158,-0.3237513218901235,1.364619621374171,-0.7345531377086987,0.8411815530501304,0.5971938377360813,-0.27745797878234646,1.4037111059826852,-2.0244867569937686,-0.7427216978169101,-0.11666721524003587,1.1656202879776343,-0.5943672252386452,0.5304104111431166,-0.021221499343890754,-0.852525132641684,1.6667404080696784,-2.5010720420564114,-0.4184895970966994,-0.28513550878887095,-1.0257172712918292,-0.7304330985018042,0.5717670165452071,-0.3525201249739986,-0.342822468054907,0.13733237836133377,-0.703634926334656,-0.09881408675844149,0.40336928945214956,-0.6450078197747977,-0.6022219330563483,-1.1211375502013565,0.8470341716777101,1.1879200236075398,-1.469656549476729,0.5096765094945239,1.6326753272586334,1.4600647609564874,0.43824274130590674,0.8798126700842888,0.6281182457162624,1.3527887392147462,1.6434807848567234,1.0191950312309925,-1.6290776598827852,-1.494745318468393,-0.4310874037412262,0.7073939012505267,0.9209670175785147,-0.021011654606195584,0.5016733331312362,-1.6383194532372438,1.3629211511249881,0.5233902698096673,-0.8359128567729656,0.8971128419844734,-1.6726598251983171,0.43999573517693885,-0.6614731020883791,-0.37284238023939564,1.521518704673853,0.10260007661549753,-0.1279242781201189,-1.3982904699720833,-1.6845231831563976,-0.07331955286732325,0.611477350115238,0.7000767083328434,0.19173080910109136,-0.026582893048225253,-0.21126627460064817,0.5798195880816389,1.1135260042469781,1.6327405132395847,-0.6766023681966046,-0.880470298455027,-0.3851445485210379,-0.4255499777418537,-1.371151140359511,0.6623252511083771,-1.4199108590699998,-1.3945561538958722,-0.5364157842914049,-1.9766960568631537,0.2627816503799048,0.05163676384245543,0.1754236679986495,-0.3342813240396147,0.756272494374347,-1.8717226243960088,-0.42659186046762715,-0.33821711592615117,-1.2865208532929997,-0.03478952118612377,-0.07589116861862819,2.081738381888281,1.489834372836605,0.4640450481737928,0.6609410874913523,0.7027044382314668,0.0647339354146142,-1.0767107126786875,-0.23063043819881426,-2.1306002017378662,0.8434547373476089,1.2845354068837351,-0.07918242556733357,-0.4067377891830751,1.793341251453883,-0.9286950221564172,-1.9948108050913742,0.5528025622589012,-0.20798391685964618,-0.7935318732457299,-0.44482677739535925,-0.3195683289295587,0.5226088013276271,0.2808580997678988,-1.371584556979899,0.09910322472514821,1.465625173671012,-1.177897603140534,0.9215990582047655,-0.31754045918820156,0.0340890404678712,0.6509858950684407,0.2107131250457458,0.6567266699299535,1.7268489070151722,1.1135698705258672,2.3670556942361003,0.06724324775830348,-0.4414482003403326,-0.1605180122221564,0.11698528499906691,1.371217905777172,-1.1389444031603395,-0.31030123999313053,-0.3744186854996779,1.6793271236282905,1.7433750682892053,-0.8479654162069945,-0.26246738967583405,-1.4298327118616723,0.9126343052002954,0.28542860139054166,1.2397088633537523,-0.14312006602112712,0.10010798157652555,-0.18787299407846333,-0.7360126931456212,-0.5253189542041938,-0.05236258579718739,-0.14588086268936956,-1.2475582235254132,0.49490514891494874,2.110395530961804,0.9278342243618352,-0.44288335071817364,-1.1943694511894567,0.9583600266162751,1.010293089866916,-0.7111638593579729,-2.151545186276472,0.5327483493757975,1.091660286605003,0.7245264318338244,0.5017755832147737,-0.9531798196696502,-1.062312525896687,0.38844931784590614,-0.791653403689473,-1.0596016631638974,-2.23771810657525,-1.805896077387626,1.0118152446650575,-1.7182705130796596,0.11257746684684067,0.9553317665177483,-0.46929364181896793,0.6891354417570906,2.402560760903704,0.058688821285595605,-2.0279965734916314,1.3419887099755656,-1.352205916463164,-1.1677793794290452,-0.04226215749662336,0.3171335102691319,-0.19596869339191608,2.0351133189768857,0.7193172012893698,-0.15952852904600529,-0.30225892944623345,-0.6049016699228835,-1.6524416931885737,-0.3050347117817447,-1.4908093179198039,0.7837848158635318,-0.36997428474106414,0.270450625778237,-1.5623707251756296,2.1198243022096355,1.440706105523851,0.3198562290482929,-0.29390605827472005,0.016349003208203594,-0.9575715424531819,1.7239314962839374,-0.4419715840785489,-0.0433619594624203,-1.0839743388856442,0.009765340350949059,-1.5017755140213498,-1.126637967160943,0.7118169905487163,-0.7409517693630295,-1.0605074617756824,-1.5292303733476134,-0.4870770193697039,-0.05483598437885473,0.3398866019040825,0.19416069745056042,0.4301039682985051,0.18978475900042507,-0.6682107713941277,0.39454677446406977,0.7922154953815251,1.0650334191104036,-0.2694892282931841,3.570097423116433,-1.2936660051714777,-1.4796995649616906,-1.265810823655451,1.5851182822756014,-0.6736995765354193,-0.8191443919316711,-1.5025302391559947,-1.794532250688007,0.5880244944728156,2.616338436688045,0.015573848398926893,-0.2892959225237455,0.588006366017861,-1.0790041345964467,0.7453851407896949,-0.25509784802949675,-1.2226490374520476,-0.046506442488387534,0.4370135639915865,-1.8686209596731713,1.0661251986747455,-0.8022203981361327,-1.1314018068948986,-0.1239857555326097,1.1017307466957602,-0.2936829835384331,1.484520463346268,-0.4444645300297918,-1.2745481854627432,-0.4029679538878051,-0.031620988997132726,-0.42141817380761515,1.8147823545309922,-0.961640621195034,0.8173800319393782,-1.4043235741404259,-0.46944588292390893,-0.7872646506142862,-0.6023365265067822,-1.1155743767788828,1.0051804440522452,-0.9809433772463457,0.22710558506643871,0.9393917361560538,-0.6334131375300234,-0.7092180584142666,0.12501679881785743,0.5243198647383607,1.5047010062119046,0.8968967612796992,-0.7362120757973429,0.2874072817800887,-2.194050639615667,-0.23714734946376548,-0.5626107163638062,-1.0983220136071832,0.7073619296870532,0.801607643244196,-0.16742879198308103,-0.9558171605435413,-0.3462057775977371,1.045917817631112,-0.3644211891984205,-0.304808898014852,0.3589435096548311,-0.3172232216334497,-0.8552440145649828,0.9696006336071524,0.3484535012385408,0.4696993200377775,1.3936561377845544,0.42436414982972354,-0.417041836279409,0.16527104881238033,-0.6012690078015225,0.03580151230135581,0.7155268706052761,0.3240496715527209,-0.8215879735637194,0.03688402600876817,-1.152736596471081,-0.8018213578415293,0.5283796205473422,0.3721148954167296,0.9650106305159092,-1.5050119565935596,-0.2641547629075734,-0.5522494135877767,-1.1324307626579484,0.5990000864883628,-0.29842047096182894,1.0407635773528159,-0.021421109597570584,-1.5807197515306495,-1.7565735997191383,-1.5979279406220388,1.3385973122961599,-0.523487362144593,-0.9799991405439226,1.1868802846013011,0.7530717293573335,1.0118188694746186,1.374087650629746,-0.46866687361758286,-1.229188818950693,-0.10734522123997232,0.7395556362386297,-0.2387218014897897,-0.7660052381699831,0.948294310387816,0.09012041271225893,-0.4499964375196346,-0.8012022784773174,0.5912037624704317,-1.8753873696000187,-0.3090210014813018,-2.5237483878281606,0.2546633838721211,-0.3503081880353053,1.1061687155634417,0.5147883593845143,-1.2870618281415696,-0.26446676618015635,-0.4304959283493893,-1.5566398583724794,0.0728523240925256,0.126013328781411,-0.06247615290853831,-0.10493070839888002,-0.8204517197557256,0.25960317287958123,0.04521764892954744,0.25192758748003047,0.2345788870016886,1.3928905863606014,0.3159626741554906,0.5901531999966906,-0.9728131011591197,0.8728122627449044,0.16141234558265233,1.2447881218767742,-0.4115439079719312,-1.9848434733937836,-0.30364036712880516,-1.5880252976885054,0.24451497300271474,0.3210350393898562,-1.3459673392159548,1.059020518523083,0.12571765961991954,-1.4088398417139105,-0.24211944899247376,-0.5116916385518202,0.23093733963471313,0.3849678703204805,-0.5171167717533188,1.2854069251259783,-0.9080776359462166,0.35914608783088303,1.0130128937066778,0.284876775868368,-0.027346615853755196,0.21537634695719549,-0.3478252409182737,-1.5675995672201466,-2.2308377061185873,-0.6518530173597779,-1.4209233619085135,-0.25111386601171853,-2.3682217336097064,-1.0410451305900812,0.07951611214506404,-0.7744837499696908,-2.6854853905179463,0.49197308490513575,0.6323031159598755,0.596094353067465,0.23293192031739351,-0.6436965233451913,-0.8595345243186725,0.30284104633582654,-0.6049552285214987,-0.15238429007762486,-1.1508242220154044,0.6511142164647964,1.0390519290171676,0.49767608826805293,0.34195393136497904,-0.5311414433578909,-0.4846547654739052,0.10056861712547405,-0.16169135329961282,-0.7855237058835725,0.027121541862848042,-1.2248615327763914,0.14592249330560836,-1.1525004135496908,-0.9389581813189591,1.0363425946416154,0.5201935760079268,1.1377566272618458,-0.6794732607811544,1.218238601171145,-0.2047922445930026,-0.3610175056055695,-0.5314130916633768,-0.9591835256866593,0.04278706459888659,0.3590675049749152,0.5610721552477677,-0.21132490109340898,-0.1712664682555417,0.5370813796210481,-1.146705323365253,0.0773812125473679,0.8547066948257499,0.7402017406102152,0.7802781851633902,0.8754354732398856,-0.3142813974610318,0.6081184328970665,-0.0431356658140605,2.2795448632361395,0.3786755269694071,0.6026630926156128,0.7176761478694463,0.9590207835354745,0.32835836835778043,-0.7596369265308476,-0.027787326040989907,0.6099317870625768,-0.9641473261211131,-0.4239391558406229,0.7338426441347827,2.319375645310931,-1.7569517015703735,-0.18584023926902493,1.2153032849690613,0.9220636267842985,2.0669588993014174,-2.4514645881315285,0.9402553787131652,-0.6927165325116775,-0.861837290443953,-1.3256902607006287,-0.6569123887791086,-1.595849739419509,1.3010872722725066,0.7878582157981946,-0.44675224757532583,0.31837266653949275,0.680466436387622,-0.05809514393239017,0.6468456829441777,-1.0225856895579881,1.4179839631743503,-0.26000103701704036,-0.11426106751552896,1.241142724158686,0.8758467577203808,2.062432638959148,-0.013573230401275893,-1.7018983187966308,-0.35786360555908886,1.4157718233621435,0.6999665029131936,0.4714666760943412,-1.046719925429069,-0.3696471302731489,0.521611843085229,0.6288716387694506,1.9391865946923552,1.3822198766224063,-2.465484948741013,-0.04313553800218217,0.7558688164773218,-0.20219040334250138,0.7688383715904749,1.447633877942782,-0.2587489267692934,-0.739416500212408,0.6213702392987381,-1.087024451169758,0.03396730795307085,1.5983357162846046,1.8664696844778192,1.4309449720914253,-0.11599162309329028,-0.4422438949262086,-0.3522464408576569,-0.5238215154218718,0.11526779148128408,0.3490456684131746,0.22265104451065482,0.06507985836591364,1.412502174206967,0.4765629025043825,-2.7076047668865875,0.09719542798168762,1.3592676370150665,-0.18403812004711334,2.573672276767693,-1.4454287550315856,0.6019808222268644,-0.9547374248519434,0.4597855422156085,-1.5588922471645454,0.31300087468260895,-0.8901034125038837,1.2004743282349077,-1.1864210459275115,-0.2337583682071209,1.9917440370062116,1.5925596414049688,-0.803157239998504,-0.31199785563885407,-0.5414069350104235,0.2400883351692779,-1.3054209529644856,-0.002704507847186982,2.0899145771337673,0.5673148148976694,0.1271542170307527,-1.5443297574726338,-0.25381302304852243,-1.7669702592193408,0.294212530140148,0.3590100188543319,-0.19823515984084672,-1.4261759341454028,-0.6826642083493201,-0.11192995685693266,0.17245368856511417,-2.4243381928180936,0.9131280854761835,0.41816838842960935,-0.017970964734936312,-0.3706377678222239,1.3342218017183498,1.3677335927953105,0.44015256275707904,0.5907748788235658,-2.3434717107874405,0.19421453297744373,-0.58376562855546,0.46441508830337075,-1.455177882580037,-1.279699803145241,0.8162277206873199,-0.33669881059856466,0.6420788837393754,0.9114504302583156,-0.46011737554882887,-0.9922392500692422,-0.24199260810676762,-0.7266054223867272,-1.8443069804858965,0.6977564576495163,-0.573438844862002,-2.5985482423218107,-0.4240765171768754,-1.6443678547388467,-1.6240129474939295,1.715143625485431,0.3710371654379011,0.7024070399669756,2.199351577083754,-1.2713778596657928,-0.3335199625037543,-0.8108046973533384,-0.4090085164892922,0.1076218977450869,-1.0329403647459334,-0.23229377544931795,0.6026668299181129,-1.4019368250133577,-0.30034121677247755,0.08381680768906119,-0.9689664419598988,-1.3900043120829675,1.4831255739385607,-0.2371951814716432,-0.3231419485604735,0.504624066009998,-0.3581149574996516,-2.2018433508518025,1.0377239040202577,-0.8688454045202626,1.8307547746052888,0.3007002987122801,0.6817493933043176,0.9741156162249651,0.09348352524930226,-0.6163974660851748,-0.015217570743436326,-0.8579419101910883,-0.8722900498191617,-0.5220755361301591,0.26675090108072996,0.4032275949515864,-0.2189114296715641,-1.4915610863086595,0.9225198355454538,-2.1506785444330805,-0.37708706851316376,0.8585084635339244,-0.3048584355178966,-0.05992924342746572,0.9340325703467667,0.3798658444473756,1.3193133148063076,-2.5776422128323437,1.552221481665173,1.9000977032291733,-0.14990357030528123,0.5041997779835476,0.07330938922415908,0.5323888593460779,-0.2779421516600244,-0.8242367030683555,0.8704650403045135,0.1317546975050472,-0.2759303450793963,-1.416508103890987,-0.12096292346897267,-1.0972629702033707,0.6742325097808011,1.0562499005020265,1.8965492705873346,0.14031607162818002,-0.17997311768747476,0.3387081337477683,1.116509545862985,-1.003286853323149,2.7483507539341163,0.23569801905627358,-0.6995884645306585,1.1687759898075252,0.8607393272554401,0.4909924997955384,-1.0984706220564284,-0.41544974600781076,-0.4318873794840917,0.025041603053024997,0.31790872055589153,-1.153082224332623,-0.5920717918342541,0.17030861052222612,-2.2088871869951645,-1.3870365642853617,-0.5270015593841473,1.6594559094512258,-1.9648591584011748,1.6541934701471086,-0.22444480076260276,-0.07615087277252869,1.1279491999524687,-0.2209006872503922,-1.0437489967245943,-0.01188483238629151,0.10296011691449258,-0.4742733237594532,1.1486015430414693,-1.092904066032746,0.2741965862960088,-1.1215107427205302,-1.8143575094990303,0.8328700307778258,-0.33174938198902226,1.4791484049051835,0.9645178065389292,1.4583582287372772,-1.1219299847208357,-0.02829532566926135,1.0974337670876386,0.7716061957968627,0.7566335578375196,0.7446511608847612,1.547925496292918,-1.6200081240109145,0.18754541211888287,0.8735271718032223,-0.849568605445614,0.34689616123824607,0.06776677034476179,1.3221052328944725,-0.5507718243666987,1.9929291143036796,0.6861592465414474,0.8060996436008339,1.3873728763893909,0.8475094835724655,0.44344470470192354,0.43596133034756623,-0.7063930262023047,-0.6998155462236242,1.4556759903889631,-0.8109030250934713,0.0685013468204424,0.6268476177490824,0.010134842288457235,0.43026523690706286,0.6405357418472324,-0.027197930420915784,-0.42578945479171393,-1.0367226331918866,-0.2467990440611224,-0.7468381221107177,1.287652378989895,0.04881123286149802,-1.0130913237161194,-1.1941827372297873,-0.47926247627571555,-2.1987163552363587,1.7523820699909576,-0.03808886923074414,0.1323419573238956,-0.1278790566215584,-0.17879804629546894,0.3970914378665815,-0.15675573429354506,0.20737312739226985,-1.0000076544743584,1.1848583868489113,1.5804665122630357,-1.0252810449017247,-0.40248304963919057,0.3578842181611728,0.3070748655146074,0.8732837460114824,0.051813177817360945,0.5388227260314646,-1.465665454798272,-0.8685372434514331,-1.947318006410511,-0.4221291882121217,1.8770898668560618,0.21113432747640581,0.4883769279408929,-0.027563532788386802,-0.1908293115434676,-0.2876149754945373,1.831139825550775,-1.914064273034537,-1.404933706160667,0.42942198353169014,1.4355841597849994,-0.7857663421957007,2.2350188566849285,-0.34973529179229734,1.2390496206913357,-0.5178360802475179],\"yaxis\":\"y\",\"type\":\"scatter\"},{\"hovertemplate\":\"<b>OLS trendline</b><br>1 = 0.532171 * 0 + 0.00327944<br>R<sup>2</sup>=0.284600<br><br>0=%{x}<br>1=%{y} <b>(trend)</b><extra></extra>\",\"legendgroup\":\"\",\"marker\":{\"color\":\"#636efa\",\"symbol\":\"circle\"},\"mode\":\"lines\",\"name\":\"\",\"showlegend\":false,\"x\":[-2.827228963085772,-2.7607997876338857,-2.6178919813276336,-2.6144521763597424,-2.5089290687231736,-2.4310170001264106,-2.386320470167922,-2.3525926561435795,-2.3220669881780633,-2.289748231696766,-2.2878999265287647,-2.2633471152106766,-2.235010446035567,-2.226458970790509,-2.214835562344297,-2.213666248476464,-2.213574809573051,-2.190931916378829,-2.182819191183972,-2.1468178700231593,-2.140902220014775,-2.1323231678122556,-2.0909707750596276,-2.0814197800465832,-2.075182005895606,-2.0574577658884734,-2.0570560837686434,-2.0531180186965323,-2.0114169425536907,-2.004721872504028,-1.9864542568391164,-1.9359944179608457,-1.9244237561080126,-1.9045334044781406,-1.9022083966549719,-1.8890450831741716,-1.8623488369924766,-1.8583399839394639,-1.7990555607129703,-1.7733800582201509,-1.7715871781570458,-1.7329264019969977,-1.7251664872863453,-1.7155912817506997,-1.7090905215108192,-1.6953549918315653,-1.6847630160672198,-1.6688454432415154,-1.652858212167481,-1.641954138335139,-1.6387034981842703,-1.632614731094686,-1.6300081796557389,-1.6268986672155457,-1.6257503359446568,-1.6237378003791763,-1.6101607544347922,-1.6012602962242595,-1.578960978455265,-1.5647095968299802,-1.56119981511055,-1.5511825105845962,-1.5499822892807775,-1.5466027168065826,-1.5459679791308076,-1.5362823119203821,-1.5359875694933787,-1.5109176803982522,-1.5013625049474943,-1.4909419734771219,-1.4853068494521218,-1.4800964459311854,-1.4707556061930793,-1.4604125859305335,-1.4571592953342767,-1.4364861545020997,-1.4327269877698765,-1.4323749953601554,-1.426452060221231,-1.3966733077637905,-1.3902133811912964,-1.387412912858317,-1.384513649468271,-1.3747424046188659,-1.3629652007211206,-1.3504870151668817,-1.341228809665585,-1.324435879712593,-1.3169386005812878,-1.283996556825205,-1.277225389930981,-1.2768706242529992,-1.2759214237235723,-1.2654281217744472,-1.2507978401257474,-1.2480705947522153,-1.242055169816789,-1.2341354617117133,-1.2210631380234864,-1.2091828261269517,-1.2039042114082497,-1.202574159623679,-1.1944489815835277,-1.1930272639400805,-1.178880623919753,-1.1701002504006257,-1.1589106116948833,-1.1500813323910668,-1.1498152055901296,-1.142680003360602,-1.1396748791099096,-1.1367500513640716,-1.1345912626886305,-1.1345879818725835,-1.1314676173581653,-1.1304869628633,-1.125331525540558,-1.1086708527832503,-1.0956378855940554,-1.0905575212953742,-1.0901148490818717,-1.0856053660832607,-1.0840080050425183,-1.0741134475520162,-1.0711990005761096,-1.0694094871932438,-1.0638301210068333,-1.0611508626921233,-1.055629184449956,-1.0548930303503035,-1.0531188090102037,-1.0441630021432848,-1.0401842090276425,-1.039942923034608,-1.0388716486248721,-1.0293317834463627,-1.0231436687767097,-1.0116681520747448,-1.0105299502008356,-1.0060465466409507,-1.005333470667569,-1.004045757052462,-0.9986437130813812,-0.9948442483767765,-0.9910400905749788,-0.9820800433712243,-0.967204126273105,-0.9617883666865559,-0.957053907610852,-0.9541588498481552,-0.9461404411703356,-0.9328633715235096,-0.932535444559633,-0.9318634871458381,-0.9296556771169084,-0.9291608578056457,-0.9283756126157671,-0.9245658577884004,-0.9146128091560511,-0.9079751951647768,-0.9071073640984719,-0.8974605884392578,-0.8951381775963348,-0.8940841749971415,-0.8862237920982622,-0.8844849042479173,-0.8834321034931428,-0.8814818906593764,-0.878964839905896,-0.8788212375606044,-0.8770677898077907,-0.8751802469647851,-0.8744242927132062,-0.8670819743774716,-0.8627231670088573,-0.8491965098736072,-0.8453474027805213,-0.845176567143896,-0.838092055880769,-0.8212815381025467,-0.8206662467274811,-0.8095519847307602,-0.8094387680372217,-0.8057871174816116,-0.805131457137425,-0.7994140488493032,-0.783278740788507,-0.7763272054562523,-0.7672024875448236,-0.7653631366588092,-0.7637583598758989,-0.7504388433149518,-0.745840129705647,-0.7403217856051392,-0.7345054119481721,-0.7272275878208541,-0.7162526850574171,-0.7071972905951728,-0.704264927717765,-0.698399992137423,-0.6967373392459798,-0.6963174994978423,-0.6940289279288858,-0.6889949010273706,-0.6885429424101398,-0.6870437418999789,-0.6862851907997578,-0.6796820754000477,-0.6726186269322169,-0.6653858191958313,-0.6611177109920645,-0.65949992701439,-0.6554551084311363,-0.6532315615286416,-0.6488833146000681,-0.6469104870322198,-0.6430522677657187,-0.6408948751809174,-0.6397988077300756,-0.6323196307621759,-0.6186124479299127,-0.616612872094064,-0.6079832031446781,-0.6056532879052967,-0.5905286202022396,-0.5851799927322512,-0.5836393425808597,-0.5812519188667506,-0.5801998889891269,-0.5657600354166563,-0.564399944874174,-0.5639106687362789,-0.5638013537104363,-0.5617934627892827,-0.5583967386311474,-0.5561513041242012,-0.5458065853861853,-0.5438123564111206,-0.5428852963227858,-0.5428193093697151,-0.5327423233667297,-0.5322756512263851,-0.5316344870919889,-0.5259123714131358,-0.5244959892833891,-0.5208566121488134,-0.5175718133037444,-0.5160234020675536,-0.5101949204523963,-0.5073764096672901,-0.5072181481679195,-0.5063557945813784,-0.5060087529533135,-0.49650384284295535,-0.4961044217361691,-0.4936110125125608,-0.4892510550393624,-0.4885575845711828,-0.487843896375169,-0.4759452585130322,-0.4721374834895725,-0.4673287798054061,-0.46452107399691855,-0.4636015372871749,-0.46213955339837354,-0.4601649782751387,-0.44649700792541525,-0.4463212113095461,-0.4413552862489367,-0.4413048881431603,-0.4350551200769995,-0.4267134648544524,-0.41844980089724426,-0.4177045919757319,-0.41542964544107475,-0.40815567344284365,-0.406802440194867,-0.4052074941576264,-0.40138961108205207,-0.4001225182304836,-0.3970596659169717,-0.39359653274529705,-0.3932872593258664,-0.3903571688882914,-0.38963251172506586,-0.3893006298077918,-0.38881849565479426,-0.3873951253573833,-0.3859519676965347,-0.38381159578927865,-0.3835464397780628,-0.3835111350811816,-0.38084645038089376,-0.37993643469910743,-0.3770398554699328,-0.3735302259516927,-0.37324256054460997,-0.3703875362257948,-0.3627416573528901,-0.3625622094608443,-0.3606017372775528,-0.3567218635535365,-0.35390949278140205,-0.35062641003026596,-0.3430836568738597,-0.3414710420509474,-0.3365537356136783,-0.3357695800493647,-0.33506077089779757,-0.3345592449893928,-0.33213779231340745,-0.32522830032326255,-0.322931490327686,-0.3208626541014151,-0.31991928278453874,-0.31335392918464994,-0.31066584523596147,-0.30980327275621006,-0.30791494306948364,-0.30526199501740103,-0.29449163812006307,-0.29311697099121325,-0.2885170232390315,-0.28790271196038797,-0.28219033591238873,-0.28051133994621247,-0.2794600630172679,-0.27691328670545295,-0.2760211472329575,-0.27451470937909705,-0.27314032463151644,-0.26771579341960694,-0.26484931658272004,-0.2614943232147715,-0.2605357738784055,-0.25971824111982805,-0.25808024999433515,-0.2578942461293711,-0.25698377808732376,-0.2504991976964996,-0.24687982818736276,-0.24454210987857133,-0.24175883001634021,-0.2382616208299928,-0.23807907653341998,-0.23649296801570543,-0.23369199166635174,-0.22947343646616464,-0.22720562389582533,-0.22700388949696337,-0.2263462090771617,-0.2257970994532501,-0.2256124603408698,-0.2235958688362401,-0.21629744333374804,-0.2149420006790791,-0.21408423739464622,-0.2139426099057159,-0.21342426894425146,-0.21317070212929068,-0.210952601669111,-0.20633571427348713,-0.1970378739028631,-0.18845741533122273,-0.18572029236902687,-0.1831718303287549,-0.1813488440810248,-0.17989938061514113,-0.17943086831452554,-0.1781883228252017,-0.1724061308755187,-0.16736116881572294,-0.16292016714956328,-0.16201325064386168,-0.15871120597020288,-0.14822318734029133,-0.14701104767198503,-0.14476681553204596,-0.1423893421791492,-0.13629835869186152,-0.13608348824631594,-0.1321710098973717,-0.126710418654974,-0.12417543861996028,-0.12305809329568604,-0.1159057507917723,-0.1138897667062159,-0.11073176537218533,-0.10565975234859537,-0.09944345057308068,-0.09790016380296997,-0.0949021192747963,-0.0923142257580824,-0.08539620778818091,-0.0831194102204302,-0.08199168401431389,-0.08084875725256568,-0.08025835996216935,-0.07127704115356989,-0.07111147749453275,-0.0700281950307754,-0.0594729199485676,-0.05386415327555738,-0.05273291341228703,-0.0513988177984952,-0.04918343296218536,-0.04758606836388335,-0.04723906606738587,-0.046602780904484886,-0.036137462519155394,-0.031368235384226305,-0.022098098299956563,-0.018874642875768344,-0.014278311742514094,-0.006122755063942109,-0.004574236022042766,-0.004302318653023662,0.00016757140826617611,0.0023630877693706642,0.007159249162384307,0.011571764815367924,0.013090988092321065,0.017244229188319082,0.019239281284559276,0.01937371708704,0.022455215866873157,0.023399304127057263,0.02341285690531919,0.026415363649964906,0.03346247681019826,0.03572599671889892,0.03711847102314453,0.04679428380846962,0.046872612912676415,0.04734893129958631,0.049994060399671185,0.059341219294560765,0.06082787863511274,0.06250568486834052,0.06619770403011443,0.06739808509867037,0.06993099073688673,0.07204379156542706,0.07692884074258999,0.0875341156922998,0.08811845535874085,0.0920028855361883,0.09391946878446211,0.0978134478538012,0.10478801556990988,0.10665466042678792,0.11682073821433048,0.12406943246124122,0.13200982525992844,0.1327414707218787,0.13403562587632195,0.13434805610707234,0.1413563822852119,0.14509011757620188,0.15028494627847022,0.1514906139034408,0.1589903748082785,0.16335308494765843,0.16470411402893556,0.167459504791741,0.17052549631142758,0.18156303629889706,0.18780113999949322,0.18833603007549282,0.19346826422619823,0.19525948563109474,0.1990423184063378,0.2042683557179165,0.20522531634407798,0.21613498092362937,0.22722938589812214,0.23331786134320967,0.24056878353230715,0.24104522725297778,0.24655771570798168,0.24835241036387432,0.24931122535397027,0.25190168674758256,0.2520965081511475,0.2584499290675003,0.2607355627860957,0.2641241671180891,0.26526393758016953,0.2654432144794717,0.26728475935308726,0.267686417200634,0.2694561694990623,0.27331580617512274,0.2744711290675257,0.2790026841617103,0.2813565330041876,0.2814723349048672,0.2841090819271085,0.28442679933572546,0.2927220323977896,0.293456000154505,0.2988768755743564,0.30255669530542784,0.30496845333452693,0.3054240157555801,0.30577405182893824,0.3097771151504831,0.3102003292351064,0.31425713491028784,0.3197252866900816,0.3214479771615658,0.32307760069941477,0.32623215800820615,0.32726231139093864,0.3289114469887776,0.3319746178266837,0.3334215175323848,0.3351407648732208,0.33639550252833494,0.3386484440692815,0.33952320579188133,0.34521129781042914,0.35542235441658615,0.35573296396546916,0.3567847490898105,0.3663350290051046,0.370941882994025,0.3733429287817518,0.37339642209201773,0.37814018786905607,0.38147861217880885,0.38375763381091077,0.38466976429637245,0.3889730163965135,0.3923044332513801,0.39386387403989187,0.39407552237626003,0.39569023972970985,0.3979947718183563,0.40201850889563334,0.4081065658241406,0.41159220981274036,0.4158633572817601,0.41732055577936183,0.42245344975138865,0.42413088086352835,0.4251837808347655,0.43323126048451815,0.4376697757610719,0.43998859702808363,0.4423671154789018,0.44393498464477893,0.4442709654434406,0.44703092166999203,0.4489194059232927,0.4538078126786031,0.4554559094219616,0.457070071865493,0.4724735531767397,0.4787511353460723,0.49226961388858725,0.4923463386045253,0.497274143629343,0.49844559949803297,0.4985921648611863,0.5016883675851829,0.5018061903103015,0.5039848638933606,0.5066818590199298,0.5099721137266375,0.5108412649339373,0.5121365388056112,0.5152474773503014,0.5292258835044477,0.5296865378227344,0.5340085087816713,0.5375607973037267,0.5378576321891948,0.5433543845215668,0.5475434855907559,0.5510991525710495,0.5550169187691111,0.5568055601873341,0.5592413665734975,0.5618613384840674,0.5652396645397624,0.5658818997101962,0.5753463013792056,0.5754090908964561,0.5779317055386768,0.5786133059689744,0.5830283694649193,0.5851270456188864,0.5892397003241897,0.5955661668013689,0.6017147734852245,0.6022316077071768,0.6028822701004689,0.6204101019041108,0.6204326136100051,0.6290061569928513,0.6292525467100173,0.641295476316282,0.6465569664833117,0.6529415392364464,0.657955003542854,0.6630115360078228,0.6698132036503577,0.6705288648799225,0.6786806700020299,0.68398561113067,0.6847148007831501,0.6866316843203666,0.6933841296773979,0.6938942195908582,0.7028729850848382,0.7105009273766842,0.7113492645187424,0.7159138068920681,0.7190206354670425,0.7238997856255822,0.7245079722933365,0.7259798922753236,0.7363315016578658,0.7365404744882691,0.7366088517230457,0.7405007322289586,0.7420641235838926,0.7466872254736043,0.7512411139683934,0.7524298873334261,0.7544334343129668,0.7556687498839041,0.7585082114040017,0.7646922523183125,0.7711151569969193,0.7734400882954906,0.7743002771133553,0.7774285271702497,0.7895939878717664,0.8024320376944054,0.8029624156506129,0.8043058493284828,0.8052969052263224,0.8108155184878716,0.814443528004792,0.8193079557052972,0.8239376194495767,0.8280544065450614,0.8299632552027149,0.8469490853635353,0.8557687375845818,0.8557812770897276,0.8583034948900969,0.8599848626435457,0.8608203747981317,0.8632729409341063,0.8649644847856108,0.8682976015268378,0.8698082035211439,0.8735798369292666,0.8736413474175433,0.8966001234744372,0.8968142494673332,0.9024833623253173,0.9026155796041502,0.906667903590544,0.9068136624716812,0.9089176413466216,0.909113942448177,0.9126356177870696,0.914197311962468,0.9146484205281045,0.9187822221822985,0.9277666836900498,0.930507525439424,0.9382328179450296,0.942498474351302,0.9441523424959807,0.9494482438176133,0.9524848458507132,0.9570184188025395,0.9601785573772461,0.9736467719965751,0.9768647943971727,0.9804126544367756,0.9813813434164486,0.9816807334477768,0.9828595743492663,0.9839035306556825,0.9866550913839389,0.9940666197200554,1.0189819937238729,1.0203175110667502,1.020926731707919,1.0233761702060709,1.0278028267964632,1.030148230603467,1.0311631136420705,1.0427356996888462,1.0504052993314172,1.0930423911040887,1.0932820369853506,1.099552620521278,1.1040938682088275,1.1104348358818217,1.1107659045484657,1.112266933207772,1.1176075741498737,1.1372727180906606,1.1480538896869021,1.1516482194377062,1.1594950838044031,1.1631883771022677,1.164216079630921,1.1644312320536956,1.1725468116427384,1.1914489007768614,1.1999464814291176,1.2118904895145874,1.2180071450570205,1.2253367545318405,1.2283249174750641,1.2354097111038609,1.2362773821220827,1.2373526427377026,1.2394235489260286,1.2439224176801855,1.2528362965612219,1.2719715008386103,1.273621298051204,1.281858014761928,1.3032549208617508,1.3089694603046262,1.3147646473450467,1.3258929088037728,1.325925412460183,1.3319301168821527,1.3443238404895552,1.3454431308333648,1.34932078187522,1.3510049232907098,1.3932416521071231,1.39350397015081,1.3987967315238663,1.4074649733752562,1.4182600032691492,1.4200326436504667,1.4548619651786145,1.4851089690998687,1.4905773663028354,1.4973048015914332,1.5211188681224872,1.5216786364623025,1.5238463368270625,1.5367319702769031,1.537779404377591,1.5807119957998217,1.584404388105829,1.588560729660399,1.5988936070686095,1.6027445941207592,1.6658384160030593,1.6803253292019176,1.6897207478907508,1.6906496288141368,1.7308853697237763,1.7314395166389311,1.7394403133268455,1.7719139138204176,1.804478609334385,1.876969403677361,1.884605841029527,1.8857725496750555,1.888942221054042,1.9062123133284081,1.951054595593604,1.9550632785948394,1.9687173006798895,2.0052334947598838,2.064445487098737,2.091857772814071,2.103966697220591,2.145770929098348,2.1464953807552907,2.160861363643279,2.2167469707575815,2.2489548070078964,2.259806191866357,2.2613748519647108,2.266256477331306,2.2913870034405637,2.329523483444226,2.3516399950201285,2.4481224678642026,2.4553413560485153,2.5477406370588684,2.6348404624197177,2.66218259312222,3.03223005473317],\"xaxis\":\"x\",\"y\":[-1.5012908498263802,-1.4659391449717605,-1.389887702881847,-1.3880571371830388,-1.3319007611459441,-1.290438189393257,-1.2666519761161916,-1.248702999350047,-1.2324581130171033,-1.2152589963244287,-1.2142753812436156,-1.2012090781747646,-1.1861291143120936,-1.1815782640737997,-1.1753926189562744,-1.174770343601254,-1.174721682435378,-1.1626717830980513,-1.1583544230720648,-1.1391955509139233,-1.1360474113849133,-1.1314818854795752,-1.1094753262579866,-1.1043925602222462,-1.1010729954491618,-1.091640662483379,-1.0914268987621072,-1.089331173304422,-1.0671390547677482,-1.0635761302128872,-1.0538546282825898,-1.0270013470413026,-1.0208437721502788,-1.01025869660944,-1.009021394026799,-1.0020162555478616,-0.9878092778257744,-0.9856758810317966,-0.9541264087084899,-0.940462641546761,-0.9395085221195745,-0.9189343641691955,-0.9148047597795295,-0.9097091095969733,-0.9062495911584618,-0.8989399356051644,-0.8933031894239682,-0.884832312994924,-0.87632436644091,-0.8705215306054248,-0.8687916330051555,-0.8655513655230548,-0.8641642334906124,-0.8625094400165146,-0.8618983309987127,-0.8608273172033989,-0.8536020021553277,-0.8488654331765734,-0.8369983748416427,-0.8294141976550311,-0.8275463923329658,-0.8222154697280804,-0.8215767463207191,-0.8197782346301884,-0.8194404454160146,-0.8142860106934124,-0.8141291572142494,-0.8007876801599261,-0.7957026894149489,-0.7901571809773844,-0.787158329343357,-0.7843855017989443,-0.7794145743823455,-0.7739103151899113,-0.7721790070985067,-0.7611773535608012,-0.7591768326765232,-0.7589895123960158,-0.7558374959291552,-0.7399900966403187,-0.7365523087102437,-0.7350619796599621,-0.7335190747094867,-0.7283190980180918,-0.7220516073654745,-0.7154110743491625,-0.7104841225070113,-0.7015474060822762,-0.6975575688268888,-0.6800267564955437,-0.6764233353791795,-0.6762345392447214,-0.6757294019050528,-0.6701451671026118,-0.6623593501740335,-0.6609079882858965,-0.657706751397952,-0.6534921095397498,-0.646535393222761,-0.640213031445874,-0.6374039038553627,-0.6366960883840784,-0.6323721013104363,-0.6316155038940773,-0.6240870671901565,-0.6194144038453235,-0.6134595985618868,-0.6087609089589489,-0.6086192838965175,-0.6048221335995221,-0.6032228925305301,-0.6016663829619843,-0.6005175374497745,-0.6005157914934265,-0.5988552228561951,-0.598333346616862,-0.5955897705090708,-0.5867234375764523,-0.579787665661203,-0.5770840412669636,-0.5768484637916657,-0.574448646077094,-0.5735985762745643,-0.5683329761268605,-0.5667819909067998,-0.5658296631304257,-0.562860484221368,-0.561434659671739,-0.5584961806346078,-0.5581044205038911,-0.5571602307147615,-0.5523942067660884,-0.5502768070099578,-0.5501484015141304,-0.5495782999511699,-0.5445014568946458,-0.5412083194754321,-0.5351013781090449,-0.5344956596662417,-0.5321097206821277,-0.531730242069328,-0.5310449577594013,-0.5281701446553965,-0.5261481783442232,-0.5241237145011193,-0.5193554339666121,-0.5114388968860728,-0.5085567847242873,-0.5060372411840881,-0.5044965743480522,-0.500229406871507,-0.49316373061862656,-0.4929892172792395,-0.49263162078634676,-0.49145668751362653,-0.49119335884622806,-0.4907754738431061,-0.4887480314232754,-0.48345130396488123,-0.47991895587893546,-0.47945712103737703,-0.47432338328459894,-0.47308746274047525,-0.4725265527404758,-0.46834348205812554,-0.4674180957404043,-0.4668578253275875,-0.4658199779053666,-0.46448047557471395,-0.46440405451886535,-0.46347091983799965,-0.46246642359019197,-0.46206412638563354,-0.4581567548280631,-0.45583712236890367,-0.44863862280207784,-0.4465902382333555,-0.4464993243997342,-0.44272915038342875,-0.43378307422176565,-0.43345563377194907,-0.42754094181450375,-0.42748069113236953,-0.4255373872783628,-0.42518846361921925,-0.42214582265671885,-0.4135590737708053,-0.40985966573690125,-0.4050037521674166,-0.40402490229905474,-0.4031708860509067,-0.3960826207658759,-0.39363531707557464,-0.39069861237315545,-0.3876033048754098,-0.3837302552886491,-0.37788972632435114,-0.37307070470931875,-0.37151018515953377,-0.3683890343968274,-0.3675042181411063,-0.3672807914500262,-0.366062879198458,-0.3633839142400343,-0.3631433948066053,-0.3623455632274448,-0.3619418840544046,-0.358427895130959,-0.3546689301311386,-0.35081983697850555,-0.3485484720175416,-0.34768753371282474,-0.3455349970935913,-0.3443516891074139,-0.34203767661202666,-0.34098779427594156,-0.33893456046947135,-0.3377864579167206,-0.3372031622072777,-0.33322295840486615,-0.3259283882317733,-0.32486427123344397,-0.3202718085449265,-0.3190318943759098,-0.3109829793468509,-0.30813659297504814,-0.30731670308381104,-0.30604618455140453,-0.30548632437733186,-0.29780184781766667,-0.29707804657963655,-0.2968176678303654,-0.2967594935040475,-0.2956909514554366,-0.2938833121298826,-0.2926883561874077,-0.2871831931149672,-0.28612192156283,-0.2856285667318786,-0.28559345036511136,-0.2802307669872378,-0.2799824174381562,-0.27964120824673766,-0.27659606214569477,-0.27584230413693506,-0.273905531846131,-0.2721574559670049,-0.27133343584869046,-0.2682316848423295,-0.26673175411570466,-0.26664753187784695,-0.2661886119941611,-0.2660039263778764,-0.26094568540762014,-0.26073312493274203,-0.2594062039472689,-0.2570859594353851,-0.25671691431101445,-0.25633710989086206,-0.25000499555987915,-0.24797860673499242,-0.24541955234029952,-0.24392537171281087,-0.24343602060849992,-0.24265799464946106,-0.24160718231444372,-0.23433347990163741,-0.2342399259769293,-0.231597202868015,-0.23157038243936268,-0.22824443484808524,-0.22380524481719183,-0.21940755950428936,-0.2190109806566802,-0.21780031925818838,-0.21392931966421502,-0.21320916768194967,-0.21236038307512564,-0.21032861503436606,-0.20965430450428144,-0.2080243422134054,-0.20618136191258923,-0.20601677545537797,-0.20445746523299654,-0.2040718234426105,-0.2038952053902826,-0.20363862740085015,-0.2028811504893785,-0.20211314330973262,-0.2009740986741532,-0.20083299023821122,-0.2008142020895456,-0.1993961332001699,-0.19891184891428582,-0.19737037239736036,-0.19550264807240997,-0.19534956078058532,-0.19383019859695233,-0.18976128081451094,-0.18966578378518256,-0.18862247663093962,-0.1865577189422948,-0.185061055754743,-0.18331389313166455,-0.1792998559023502,-0.17844166847376966,-0.17582481880391387,-0.17540751366831422,-0.17503030573589598,-0.17476340800955417,-0.17347478023811863,-0.16979774646689744,-0.16857544996060447,-0.16747447456589037,-0.16697243936621092,-0.16347854619125216,-0.16204802489195794,-0.16158898851957398,-0.1605840735360707,-0.1591722505547695,-0.1534405750428646,-0.1527090165629969,-0.1502610560971985,-0.14993413722663088,-0.14689417427821624,-0.146000660706136,-0.14544120122978832,-0.1440858798082357,-0.14361110872901828,-0.1428094256427955,-0.14207801743815276,-0.13919123726854202,-0.13766578038275507,-0.135880348988701,-0.13537023648169952,-0.13493516895912963,-0.1340634769890125,-0.13396449105863933,-0.13347996603957846,-0.13002905805339537,-0.12810293324789498,-0.1268588665087934,-0.1253776846704208,-0.12351657009042477,-0.12341942524327834,-0.12257534371126752,-0.12108474430921956,-0.1188397500377198,-0.11763288513074383,-0.11752552786070278,-0.11717552917516538,-0.11688330875807754,-0.11678504910994722,-0.11571187685996745,-0.11182786381129722,-0.1111065360460606,-0.11065005898970512,-0.11057468889585845,-0.11029884267980805,-0.1101639016822352,-0.10898349213668901,-0.10652651687774839,-0.10157847249315807,-0.09701219815844767,-0.09555557970048661,-0.09419936118252306,-0.0932292201060248,-0.09245785715751753,-0.0922085283278361,-0.09154728120097944,-0.0884701642289947,-0.08578537989248233,-0.08342200598195318,-0.08293937098883081,-0.0811821173735951,-0.07560069420234208,-0.07495562818270471,-0.073761312105519,-0.07249608887040293,-0.06925464188491512,-0.06914029398700375,-0.0670581850506653,-0.06415221476547364,-0.06280317098462665,-0.06220855180027381,-0.05840227994009326,-0.05732943094114972,-0.0556488330663198,-0.05294965298152997,-0.04964151519176602,-0.04882022216755094,-0.047224748724142514,-0.04584754590360899,-0.042165974850118366,-0.04095432838482186,-0.040354184792428194,-0.03974595189962293,-0.03943175936877968,-0.03465215869532531,-0.034564050457203774,-0.03398755855176574,-0.028370343422612146,-0.025385518416522812,-0.024783504956411764,-0.024073537475018426,-0.02289457310672892,-0.0220445014109679,-0.021859836725817035,-0.021521223983309922,-0.015951881232160507,-0.013413835126488572,-0.008480533637561764,-0.006765102970347457,-0.004319067165573803,2.1086549488067916e-05,0.0008451640389133853,0.0009898706758544157,0.0033686181629998444,0.00453700909775517,0.007089388844267988,0.00943760331433391,0.010246090436592642,0.01245632641223173,0.013518036005886958,0.013589578890152242,0.015229464296428798,0.015731881032805622,0.01573909343328804,0.017336941540519166,0.02108721335742764,0.022291793832807754,0.02303282878148007,0.02818201926124324,0.028223703767405014,0.028477186772670724,0.02988484873162872,0.03485913902250706,0.035650296550340944,0.03654317698061618,0.03850796385079443,0.03914677228037366,0.04049471212664921,0.04161908422368438,0.044218767503457254,0.0498625911302578,0.050173559967103196,0.05224074246978171,0.05326069318964814,0.05533295733914142,0.059044622548158156,0.060037997486200874,0.06544809296050963,0.0693056404591049,0.07353129011890311,0.07392065088174776,0.07460936319444386,0.07477562961623843,0.07850526011201273,0.08049224711154213,0.08325678618347312,0.083898407966986,0.08788956595117728,0.09021127535317527,0.09093025434104349,0.09239659439935707,0.09402822728586238,0.09990208998705907,0.10322183013701342,0.10350648331790527,0.10623771136200388,0.10719094809879046,0.10920406337344313,0.11198521077353352,0.11249447781445979,0.11830028888550853,0.12420441350436617,0.12744452578161744,0.1313032589272433,0.1315568086315473,0.13449039712711644,0.13544548222862027,0.13595573610892936,0.13733430548001235,0.13743798385192257,0.14081909252178332,0.14203544133352006,0.1438387595201274,0.14444531272063588,0.14454071875252275,0.1455207361982571,0.14573448700251476,0.14667629849564606,0.14873028660689366,0.1493451163654475,0.1517566802172086,0.15300933116441048,0.15307095761975306,0.15447415887691882,0.15464323898336596,0.1590577244698338,0.1594483210914493,0.162333155753217,0.1642914504357284,0.165574918993715,0.16581735626833677,0.16600363544265515,0.16813395110734536,0.16835917352367288,0.170518089329958,0.17342808311664204,0.17434484965317512,0.17521208863276932,0.17689085369599292,0.1774390718259579,0.17831669456511526,0.17994682636555234,0.18071682495430844,0.1816317591553109,0.1822994946036562,0.18349844557464845,0.18396396871301507,0.18699100839637323,0.19242504030989788,0.19259033781694118,0.19315006774032592,0.1982324532215218,0.20068408898873977,0.20196185679863266,0.20199032440647746,0.20451482070661245,0.20629143452238002,0.2075042645710341,0.20798967429487294,0.21027974183107762,0.21205262648002604,0.2128825162102343,0.21299514939391243,0.21385445572903525,0.21508086171212376,0.21722217935758387,0.2204620689122961,0.2223170288252414,0.2245900111961381,0.22536549050701896,0.22809706968912963,0.22898975049070408,0.22955007370368108,0.23383271191898858,0.2361947626441718,0.23742877291878955,0.23869455232509112,0.23952892739637124,0.23970772675599464,0.24117649642337347,0.24218149366278127,0.24478296374949385,0.24566003364004624,0.24651904466800129,0.25471633631500135,0.25805708577547903,0.2652512329294602,0.26529206362612995,0.26791450034363284,0.2685379156101694,0.26861591349927244,0.27026362392355846,0.27032632580379745,0.2714857534944008,0.27292101706737526,0.27467199639982687,0.2751345337826182,0.2758238414445879,0.2774793938506599,0.2849183013086833,0.285163448345197,0.2874634775220041,0.28935390374716646,0.289511870772803,0.29243708495454007,0.2946664045809956,0.2965586287248839,0.2986435517030954,0.29959541544485696,0.3008916818498046,0.3022859558729248,0.30408380425522336,0.30442558342135007,0.30946226695915385,0.3094956817421419,0.3108381450150501,0.3112008732451802,0.31355044360430795,0.3146672989540211,0.31685593601479795,0.3202227003040201,0.32349481270457586,0.3237698570770061,0.32411612096980913,0.3334439311142021,0.33345591119941526,0.33801850546867845,0.33814962702033424,0.34455852928548414,0.34735854367998825,0.35075623046529447,0.3534242525994494,0.35611519437425515,0.3597348471154256,0.3601157015275324,0.3644538587716765,0.3672769965236519,0.3676650503750231,0.36868516090006553,0.3722786189504611,0.37255007419504754,0.37732831606758027,0.3813876885152291,0.38183914924854756,0.3842682679856165,0.38592163318350226,0.388518177174493,0.38884183670253486,0.38962515036582895,0.39513398044196013,0.39524518979798173,0.3952815782042227,0.3973527255583568,0.3981847176668833,0.4006450001016141,0.40306844914961915,0.4037010802917911,0.40476731061907234,0.4054247101904056,0.40693579029823024,0.41022675978151024,0.41364484571984805,0.41488210757828986,0.4153398754340782,0.41700464053119846,0.4234787503363396,0.430310792810923,0.43059304477087423,0.4313079817025574,0.4318353932706903,0.43477224121290786,0.43670296398312825,0.4392916731035576,0.44175544756937857,0.44394628376987144,0.44496211836210386,0.45400149075339513,0.4586950570985721,0.45870173026411903,0.46004398234915816,0.4609387581185044,0.46138339376075715,0.4626885792246082,0.4635887704219285,0.4653625597017185,0.4661664588242387,0.4681736141164243,0.4682063482368199,0.48042435138777695,0.480538303109307,0.4835552426269161,0.4836256048764275,0.48578213565628114,0.4858597043587503,0.48697938166471233,0.4870838474895193,0.4889579822552668,0.48978907117344633,0.4900291382337596,0.4922290290951546,0.4970103022231006,0.49846889971310376,0.502580079156714,0.5048501393412632,0.5057302806063236,0.508548607631881,0.5101646002752466,0.5125772379730595,0.5142589732261734,0.5214263713596343,0.5231389107272783,0.5250269802408971,0.5255424887756993,0.5257018155767914,0.5263291609462999,0.5268847245969773,0.528349026420584,0.5322932295584027,0.5455524781059536,0.5462632021908524,0.5465874119699358,0.5478909329945032,0.5502466728665064,0.5514948296076684,0.5520349212977821,0.5581935201897196,0.5622750614864898,0.5849653007368405,0.5850928334121502,0.5884298584003483,0.5908465803727331,0.5942210617830997,0.5943972470467312,0.5951960515145144,0.5980381876848847,0.6085034141428262,0.6142408449277889,0.6161536442909639,0.6203295207976145,0.622294985726533,0.6228418995821416,0.6229563975402593,0.6272752765930908,0.637334427134395,0.64185659621377,0.6482128552783514,0.6514679641964213,0.6553685724621544,0.6569587872090297,0.6607291114922585,0.6611908611608104,0.66176308406839,0.6628651610376327,0.6652593301552642,0.670003041230535,0.6801862489754069,0.6810642238069902,0.6854475685669975,0.6968343892538026,0.6998755034990176,0.7029595360861547,0.7088816781563789,0.7088989756715188,0.7120945074092032,0.7186900921961312,0.7192857464641815,0.7213493213050308,0.7222455731378864,0.7447227506880416,0.7448623488389351,0.7476790048737784,0.7522919949561369,0.7580368007302519,0.7589801491783913,0.7775153166943805,0.793611906003022,0.7965220303968906,0.8001021788050748,0.8127753430535737,0.8130732357340337,0.8142268237920964,0.8210841889104323,0.8216416033436282,0.8444890990453017,0.8464540844921553,0.848665970443059,0.8541648318988753,0.8562142169279754,0.8897909421268081,0.8975004624719984,0.9025004352432061,0.9029947590704289,0.9244070681585458,0.9247019692777813,0.9289597641576504,0.9462412843994165,0.9635712828023644,1.0021488076452845,1.006212700920764,1.0068335898510794,1.0085203981896418,1.0177110467373969,1.0415748252182082,1.0437081315155,1.050974411061281,1.0704072838426837,1.101918210521779,1.1165062439785678,1.1229502667865316,1.1451972818512746,1.1455828142771018,1.153227978973908,1.182968698693619,1.2001087868157685,1.2058835830881989,1.2067183790710934,1.209316240296929,1.2226899866337215,1.242985129183851,1.2547549032978074,1.3061001123934404,1.3099417979590722,1.359114049290461,1.4054660820847842,1.4200167810527609,1.6169454431365855],\"yaxis\":\"y\",\"type\":\"scatter\"},{\"hovertemplate\":\"0=%{x}<br>1=%{y}<extra></extra>\",\"legendgroup\":\"\",\"line\":{\"color\":\"red\",\"dash\":\"solid\"},\"marker\":{\"symbol\":\"circle\"},\"mode\":\"lines\",\"name\":\"\",\"orientation\":\"v\",\"showlegend\":false,\"x\":[-0.09165225071682291,0.23085158353911958,0.1592669896539124,-1.189033199015586,-1.1002552316812941,0.48874691216864735,0.2090491944716419,1.354336243460252,0.6748835528544398,0.6416163859831528,-0.09088417007628834,-0.8300163116697253,-0.4271719049378108,0.375289912998772,-0.5097221162429546,0.6291454713932636,-0.5934369454898826,0.32272737389767864,0.06921766278477398,0.9186007678058106,-1.151002375834936,0.7751081858283988,0.7537651669782699,0.22186860865280114,1.1859317743145104,-1.5346781132843588,-0.8095438212695865,-1.146567917115534,1.1892722568604903,-0.8326881035490066,0.3878328823426909,0.10852437096926068,-0.21508827848615142,1.0601119013739455,-2.0811665908124732,-0.12770692920841503,-0.8559368015929959,-0.9719129738332661,-0.29706638504912725,0.7018965335005283,0.06624847865775083,-0.2546636941355115,-0.16909556703648737,-0.5146099400331638,-0.18508989441786017,0.34259847113120395,0.04917161358979725,-0.8643519478388544,-1.9570283663229437,0.44297478819956193,1.375018117618763,-0.6092617016569931,0.21716301696421528,0.9607905005694977,1.3171177816975688,0.42943758893350725,0.6812915214415515,0.9661140212660873,0.8853421984792145,0.9603562876326968,0.047437628108804815,-1.295410505517371,-1.1340523497419486,-0.8561543652648704,0.608664605519359,0.3728216163372686,0.2759021464548132,1.4125911247859881,-0.6831429445985397,1.2442774728388915,-0.10071238759234107,-0.6866700097107534,0.604301031526996,-1.0515971698823103,0.456700720830798,-0.025583660992488957,-0.6746315808249135,1.410909735499398,-0.6794433917086704,0.0207198126466314,-1.8765790002033775,-0.5123215291100702,0.07779308050855502,0.7430497473613855,-0.6570105095944514,-0.3233003853183796,-0.28161519680668545,0.48537048684485246,0.045857794047995,0.8230700088189076,0.7803932157550527,0.2148217355499427,-1.229300465983497,0.44965476202291915,-0.06811728430406598,-1.299166982487152,0.7811778419482585,-1.6943794774187066,-0.8889869642530899,-0.6266916615130533,-1.3253584653547734,0.2695159553867023,0.13715066772932363,0.7698662155042199,-0.43028565803908253,-0.731082391295953,-1.6113126510814442,-0.3227308569739809,0.03578811898204317,-0.7005191939639925,-0.19964990678848463,-0.2837906286776953,0.9302263454700784,1.6180228856147654,0.35155312572184033,0.8321822742144753,0.7147504299632896,0.40647876791938115,-1.3693645505577199,-0.24941144538472815,-2.1530513659096164,0.6542166274487439,1.377816569069151,0.27460697692446967,-0.39009254483172867,1.4657865148131068,0.17431400075148457,-0.9350435081392741,0.4568850791503017,0.3611597331051683,0.3797791315912195,0.07686106311776272,0.07713356209521313,-0.03193378181757947,-0.4412034650540618,-1.3958661890299309,-0.4459028003522995,0.9030990946427864,-0.8368790160546703,-0.15734140607267977,-0.00408084017840097,-0.6303096613816025,0.7629186777485256,0.2376614827823035,0.29069529562957935,0.6825875784720146,1.0899925081278312,1.9401205301044542,-0.4203883747568134,-0.1826212449421249,0.26011219793420104,0.24179950699850403,1.5423320924075965,-1.105525242091531,-0.6848798294328602,0.08058949997458323,0.8271289441135136,1.214822467012071,-0.8872758122915642,-0.40133569312410267,-0.4529526070072612,0.5688048684099157,0.6497508833138665,0.7933940233690465,-0.12797761865185198,-6.074265559830039e-05,-0.1657942546479438,-0.429749904017232,-0.8000685160274759,-0.5429505264740306,-0.614361108929639,-0.7535969705865943,0.12522999655552447,1.1663879295664783,0.5584427424881373,0.12284240383375766,-1.6794959964368006,0.8359260302786558,0.2965274282328364,-0.6375090009442218,-2.2005162671615173,-0.21248101725918384,1.2362220841568328,0.6222432679159333,0.16443897019960402,-0.47571197739729043,-1.1098094371904312,0.7540469314506231,-0.1225156665951567,-1.114159937547314,-1.9042846227241865,-0.17456050452304525,0.30056316265034816,-0.7122975729342544,-0.1789325815245309,0.6286135363935315,-0.10916934574626642,0.33191408446923354,1.6657931309034977,1.1794962605764325,-1.3516197969898793,0.6315949634350356,-0.9825465437890937,-0.7866279822544296,-0.046914071241810906,0.5759109183075959,-0.23815676803509528,1.0713803693364445,0.6335650540396548,0.17236194613102654,-0.9871599689742152,0.09177781143746094,-1.0329016436286018,-0.6211278839872492,-1.101759657690966,0.8920749489924307,0.4408052192911456,0.03467257484513348,-1.6171390094893976,2.1562085290687834,1.1214686280496118,-0.10116635326861584,0.5347557851102002,-0.21420224132837243,-1.535354363896579,1.8249294537092549,-0.06864052773746798,-0.26867681154244527,-1.5202130776465215,0.015209689963305857,-1.1492943735664862,-0.2441210076212338,0.852259942273201,-0.7075945324130104,-0.6864945942164603,-0.5699496357609121,-0.7944185550035787,-0.6806026987506246,0.10672887142996526,-0.722443448423601,0.4835183305725262,-0.022724274850892734,-1.0310911136118197,0.09939562324382162,0.8394978912033175,0.44563792000188124,-1.1873487837978112,2.4263812031731886,-0.41446763625582295,-1.2882651520215598,-1.7559760122780022,1.2392160822074598,-0.6153158463349264,-0.1326972724173711,-1.1430129052819518,-1.6064101348517013,0.173081513860472,1.658956228361628,0.14601107736878924,-0.5423670353476603,0.1174295821474387,-0.5649473113514477,0.3332271024990871,-0.6261464693000705,-0.732985257290367,0.3040004254744161,-0.23735426488138828,-1.1479323366747665,0.7063621396220107,-0.753087315089928,-0.6949463184142245,0.04782836718750056,1.4760219042331244,-0.15609850606852876,1.4568334266592022,0.7947622969937889,-1.1650941400609467,-0.30952131244632386,0.3118260387327574,0.1370809977388204,1.5126440808154606,-1.0337407372247924,1.2403372408365096,-1.3605677502683513,-0.8512689006413916,-0.18155379508605374,-0.7191561711515849,-0.5268803152101332,0.4977655217930836,-0.9486015633971933,-0.04480149972402932,0.19035096659050985,-0.13115768150745274,-0.8728292830649125,0.23871931949469363,0.13632428739067803,0.8722391211917001,0.2444452784231466,-0.5515775174960462,-0.02552683125277417,-2.258353407884328,0.23748496301600655,-1.0973088693704864,-0.8094714600868579,1.184728555743529,0.8162585979481563,0.6114141740196152,-1.6005525318684997,-0.5187691825680797,0.3542292306625385,0.09033273417951018,-0.13249552219947383,-0.1928955176287685,-0.3604485474419012,-0.9388750121172895,1.5517404622723103,0.2306511214011213,0.6222260379394616,1.9115293025367106,-0.30500173751129067,0.025507397887553206,-0.1550040016366413,-0.5941310234937157,0.32654122300016736,-0.1754751387337504,0.3689245850057774,-0.41477916033571893,-0.7315724762593901,-0.8261312153882595,-0.23886681391568323,0.11042705695292937,-0.6705488048634792,0.6184475763603761,-1.6034601135719642,-0.026799601241863917,0.5414338704071598,-1.758585284240299,0.6722741461016478,0.09180931564992365,0.6685174998078461,-0.14015560627797477,-0.8250530526618244,-1.219568997217712,-0.7179798190652223,1.121515316571194,-0.32679069349796014,-0.8220456479970628,1.5246877161503547,0.6642203862402604,0.5021576359475614,0.755726877071828,-0.33105144248144497,-1.2413184524942302,0.006655943177854791,0.4230224085929767,-0.4609520402865904,-1.2104948195683023,1.5851078405034318,-0.22752276239490657,0.21317363316344376,-0.36736096677189667,0.1633998755830384,-1.9832082686246606,-0.3138307568782494,-2.2241800026789456,0.4907969944409783,-0.2799820076116408,0.9424100929491378,-0.08640520697162471,-0.7231497134745365,-0.0008793618442837492,-0.8002964202385395,-0.7832151326731616,0.20022604933476432,0.0721539686024169,-0.3279521937226602,0.015075750498582001,-0.6698380138096065,-0.08796263593552264,-0.4233792046040257,0.23576756465721924,-0.07838541409169623,0.8955403484999597,-0.20551240504311027,0.7160238891522842,-0.7737266306667667,-0.14854334307979952,0.4716302699582973,0.47938256256806383,-0.06607112411521286,-1.8640880422973924,-0.6661971727401944,-1.4980172740622717,0.11749558403851482,0.03951787224340949,-0.6589057052047288,1.06590591497438,0.16194599799390938,-1.5103136445935854,-0.44534548236852994,-0.7986031266553937,0.6831784819293535,-0.11431501162757955,-0.4023677336891393,0.9611067663459167,0.05536594862528118,-0.0019472595726631597,1.1290550071917442,0.7467827639776493,0.11228934389138165,-0.03699706297311798,-0.5217149583747626,-0.9133066565022402,-2.0195322120192167,-0.3348640412949025,-1.5431971295983837,-0.03793486134739657,-2.5106490088837363,-1.5388447790131177,0.5368618425794456,0.3874804039747278,-2.366433180936595,-0.006063546046189354,0.5937607251718776,0.8931012371206066,0.5583879923486327,-0.6413128669644944,-0.9883081770538369,-0.06549309420825075,-0.45899817948508276,-0.25149273677371725,-1.449303929150651,-0.01178003718634546,0.8743910092102388,0.05446672427258555,0.1927370542403318,0.10144071177921543,-0.7115925488126271,-0.9930030030354772,-0.2887023619774315,-0.9834498043027214,0.28821874131878455,-0.9015212155909119,0.12049326641684346,-1.418777549880027,-0.8323293846207338,0.9620869857319914,0.7393815526296498,1.1143981994223164,-0.5167193427894096,1.0238249364820216,0.5194808615969555,-0.6602148210692009,-1.0540255619075762,-0.02337627509481531,-0.19731373676042052,-0.02648024495992473,0.4831591596097233,-0.17597002588688587,-0.28189653046865015,-0.21191302478385723,-2.0030582590683603,0.5345670501036148,0.6027917199169205,1.489456680458464,-0.19087807974390814,0.8609321610355745,0.1747382024163253,0.3135607865089392,-0.023095167818481123,0.5626481121313072,-0.2656198644847017,0.03421220893734415,0.7983719171016518,0.3279962809649857,0.22564597727492616,-0.9703415407841045,0.19352566345964944,0.5145488462737008,-0.6640093423818431,-0.3337578883374375,0.4470416493086012,2.2785433558283557,-0.8917372308848659,-0.5548725834793239,0.6329274532038556,0.24742160304096153,1.9988690189592115,-2.436586971851853,0.4744640910440829,-0.3690306630869354,-1.108877646638415,-1.4093624811547698,-0.9819061500180802,-1.2062072779185196,1.125892837589215,1.3828319884560523,-0.367554239608162,0.32276203067041315,1.001047776106665,-0.010101928803423137,-0.14777071030908526,-0.7041861851274569,1.1862587591786864,-0.5822141721978576,0.030181226362901666,1.163547971300049,1.0507357832462216,1.185055996401127,0.40198923794159963,-1.5063352078160717,-0.25200644193316146,0.5625189854198633,0.5419574855979649,0.5649465220821295,-0.46678315474860366,0.2012562100084496,0.6746492520772461,0.3317794275774909,0.9685218248954599,1.036083344160712,-1.8299094515547742,-0.5710075291770867,0.33958951541249005,-0.04885164153020883,0.8621117339985493,0.9918444932806767,0.23184051157951793,-0.5191567740804044,0.7335565859305768,-1.425993204801455,-0.19445488271295033,2.3025649574620886,0.8080401749896267,1.8482423650110553,-0.33324866191733343,-0.702279143794468,0.5776516205407206,-0.43119392700225273,0.43789052380369725,-0.018091190258359043,-0.03965305020895876,0.15517345542404523,0.658290703776449,1.0896277403829258,-2.066918269385047,-0.45700488142355195,0.7607901315563915,0.06567842703293378,2.177556037479986,-1.8708461311713553,0.5379512277947325,-1.0210385246499312,0.2595428167051759,-1.0866697063682096,0.9041262201557068,-0.8798735300010996,0.045026329682641135,-1.1944005678640266,-0.015189512995390488,1.24825046401416,1.6492745531631285,-1.6327560738372595,0.05747070554860977,-0.6889443334874371,0.07592072492145208,-1.4196778792690246,-0.20455751538965206,2.105728891744497,0.43638328912382573,0.7581813506691667,-1.636422103185676,0.3125584058312997,-0.9404676253722282,0.7125333336984626,0.44277262061272127,-1.258917303360846,-1.5045136493263322,-0.04664794158855001,-0.13687003657756977,-0.21014392672008866,-1.6544284603293564,0.4870633389234957,0.32697812513291297,-0.7522692236404391,-0.47186599962293174,1.5969546966430106,-0.28023870070131357,1.2791828339203006,-0.1292093783087529,-1.5622176580999447,0.8840362097723061,-0.25488816535238906,0.9606507053762992,-0.8331532787697531,-0.9996263159243389,0.44043629757728414,-0.3219018044823405,0.692704015580841,0.08856457678514573,-0.9635491812466905,-0.668697892980357,-0.38422760351635815,-1.1612323942405811,-2.0566070626976556,0.29462926366434483,-0.272435481785433,-2.179732548260223,-0.019309708093720138,-1.3363087098705668,-1.2949518416261683,1.544395787479012,-0.262248473354563,0.5292634651282134,1.5181065939987741,-1.3271767545672455,0.3647891876732297,-1.2345300334815228,-0.8407164552933225,-0.269045248548173,-0.7268307482899224,-1.0169079366316227,0.2258629328239484,-1.7439321737324067,0.002976064336575872,0.7881687083017225,-0.7812526574115609,-1.8246217302886165,0.7265521259580798,-0.7576063709333745,-0.3000899851303347,0.7290904863872185,-0.19646666938729307,-2.0474793681222985,0.29623022710254693,-0.659024671586446,2.032848158617087,0.045363226404142414,-0.05657080360952044,0.21478691325217678,0.33303201434237606,0.027798301671011515,0.6504120698912812,-0.8119599358710535,-0.7055871359639215,-1.1758891006670324,1.0721273882669697,0.11623261405539248,-0.17723660621535972,-1.8077808155104629,0.7423313773017237,-2.184073695704474,-0.9591477605745242,0.06349471820367539,-0.49521340140815945,0.1639400029935601,0.23282959765848163,0.37186991890705967,0.49396486085013797,-1.9031842318936387,0.5715805787068126,1.386108862375624,0.3221508082699378,0.8243108600937709,-0.6911632610997572,0.7389900205306931,-0.2708406255693936,-0.45474528501580225,0.2925800380466286,0.6733184513186032,0.059605636139037625,-1.2017561343664298,-0.19758316985131108,-1.0269447736096344,0.8383368767335823,0.9297225186870213,1.6114256225471824,0.254645835919548,0.23001687632810866,0.8180347255185771,0.8551610694095387,-0.565009365274727,2.5869318554185416,0.10039525435668836,-0.44634254298085746,1.6231255597426641,1.4011040056147261,0.11791564093499779,-0.9649741790650083,-0.4081111684308439,-0.4018919371328088,0.3598194558517153,0.5468159302495426,-1.5238144826303264,-0.6557169328414529,0.20331354396828796,-0.6672829786748017,-0.5467886451339952,0.5206164183533739,0.8754955020910241,-1.775117322019353,1.8603763330974326,-0.8435437090419321,-0.31509901782931554,1.0413693187435331,-0.6706825639368398,-0.976372993323108,0.0646237171765654,0.29026549805906043,-0.9924496963153074,0.6274009321520984,-0.7985457780242599,-0.17251108641202154,-0.44208744260608746,-0.5976195317705278,0.9581594126926141,-0.6594913186256858,0.9307630964167765,1.7426324395174304,1.3289575551019508,-0.925184413281689,-0.4515381447114677,0.37542379094220407,0.7114095951125516,0.24552500404382302,1.1191180535708476,2.0922741710882207,-1.237009909722781,-0.3601612628836932,1.3654579121458643,-0.6351606030630595,-0.2455836458125657,0.15878599071764468,1.1574862450565595,-0.7283348507607896,1.1449555057495637,0.8039649076486336,0.8606076077602646,1.262924888783873,0.6856637524947521,-0.07529475771164451,-0.3856059349325947,-0.7569101628699535,-0.235081956157077,1.555107427248844,-0.9868637932509408,-0.5109225918020842,0.32290922936034694,-0.3124287791654904,0.006163074916037722,0.7546730316150309,0.6438475230595518,0.38606249828699746,-1.0401513584864517,-0.7403369120671521,-0.5355772937243375,0.08566906001329463,0.2652042192358004,-0.7400001488961496,-1.8677053604727767,-0.5210400060395355,-1.1788297551099254,1.2708841676766418,-0.23446805523959613,0.14243311217965618,-0.09446279792985249,0.16462807025608722,0.49897793966576326,-0.18320219389876816,0.04656127569610435,-0.3953920630096999,1.8966234033891076,1.145797795738675,-0.3316504915212188,-0.3238891186123288,-0.787566824774745,0.573381565865874,0.2293354169277119,0.20832600931383657,0.7339006834024594,-0.8563579096031996,-0.4314586808751376,-1.3352313861579004,0.009971447271699706,0.7954223851366993,0.011788998521311551,0.8482452767249735,-0.3921114415424136,-0.8558021495764285,0.39320400619829626,1.4583554792595779,-1.111323560472521,-0.5334043461171691,-0.0713495103294187,1.1373564003017158,-1.7157568426018153,1.4789174881474951,-0.8605938261737814,0.8712086498062723,-0.8913041136560319],\"xaxis\":\"x\",\"y\":[-0.06213552207085951,0.2595776508194076,0.18816855615855285,-1.1568260939241775,-1.0682657776731863,0.5168407144924398,0.2378287132302817,1.3803079375481162,0.7025210162610023,0.6693354083071504,-0.061369324482939164,-0.7986893845864458,-0.39683260489938843,0.4036618703594373,-0.4791804332996657,0.6568950678354996,-0.5626900244247824,0.3512281953664092,0.09833999728097885,0.9456407258014479,-1.118888508402742,0.8024999351169747,0.7812092415375534,0.25061669889975513,1.2123163345249364,-1.5016236133686842,-0.7782670852398671,-1.1144649213531148,1.215648627430325,-0.8013546262099108,0.41617408893323293,0.13755033980319348,-0.1852689298774989,1.0868049258629366,-2.0467723011638634,-0.09810180768674857,-0.8245463269552851,-0.9402381680683274,-0.2670460561270465,0.7294677709652571,0.0953780925067182,-0.22474732109222956,-0.13938897572304593,-0.48405627393487755,-0.15534409086757947,0.3710505759423097,0.07834309366180421,-0.8329408423424797,-1.9229384181663784,0.47118080701879783,1.4009391073207254,-0.5784759840816082,0.2459226435997502,0.9877270247817774,1.3431807218317737,0.45767679601074884,0.7089132748544452,0.9930374941540195,0.9124636943142541,0.9872938763761762,0.0766133592785751,-1.2629426022043548,-1.1019800375700506,-0.824763357240664,0.6364644135487516,0.4011996250579551,0.3045177662432706,1.438419999226041,-0.6521760972558864,1.2705189907509737,-0.07117344680675543,-0.6556945152953454,0.6321115374427564,-1.0197270076329557,0.48487308868689283,0.003771091652475248,-0.6436856002310867,1.4367427320905952,-0.6484856143156722,0.049961046121234476,-1.8426862844481902,-0.4817734733578124,0.10689439121909122,0.7705200922077421,-0.626107729417996,-0.2932157402292434,-0.25163274854306344,0.5134725669277722,0.07503739839266547,0.850344173271466,0.8077720080845616,0.24358710215059992,-1.1969946402912426,0.47784440399120054,-0.03865825478198421,-1.2666898696674709,0.8085547106615135,-1.6609334482086346,-0.8575154627128464,-0.5958632120554406,-1.2928171406051445,0.2981472317783223,0.1661064553607825,0.7972708161854773,-0.3999387242176847,-0.6999980139757632,-1.578070271327217,-0.29264760815989865,0.06499241048448935,-0.6695097464175763,-0.16986840741681386,-0.2538028470513303,0.957237801804227,1.6433481165649824,0.37998327699728,0.8594340987273595,0.7422901543783986,0.43477426162285526,-1.3367153389933346,-0.219507948933068,-2.1184808411021887,0.6819047585923375,1.403730697992386,0.30322577199458534,-0.35984414981329615,1.4914849736262457,0.2031786774920973,-0.9034590928100477,0.48505699502727195,0.38956633249530803,0.4081400830309434,0.10596465879382416,0.10623648970351607,-0.002563461000486853,-0.4108297647657644,-1.3631520051475716,-0.41551757901380043,0.9301770570674303,-0.8055352641319784,-0.1276636316599163,0.0252211954199273,-0.5994723419124945,0.7903403112495717,0.26637085468206023,0.31927464803053063,0.7102061544274247,1.1166122763053192,1.964656095517638,-0.39006570545163294,-0.1528814936168367,0.28876652889733345,0.27049873397739327,1.5678428894800407,-1.0735228679467133,-0.6539087238842903,0.10968395488807403,0.854393157542294,1.2411361978179527,-0.8558085058696514,-0.3710597340210327,-0.4225501021230629,0.5967023979260967,0.6774499628276232,0.8207409424765619,-0.09837183349874214,0.029231437134953724,-0.1360957569442037,-0.3994042836686106,-0.7688150099782628,-0.5123273796304034,-0.5835628894739969,-0.722457395758286,0.15421500930975374,1.1928204041312085,0.5863656761445558,0.1518332700914853,-1.6460864560747646,0.8631686764718797,0.32509248237919636,-0.6066540313294537,-2.1658293757883027,-0.18266806070080616,1.2624833509337032,0.6500097860348997,0.1933278569008836,-0.44525367486679124,-1.07779655976724,0.7814903152265458,-0.09292327214942361,-1.0821363942895241,-1.8703239829227942,-0.14484051518304572,0.32911832265298907,-0.6812592491134722,-0.14920187345189734,0.6563644369456993,-0.07960967159452137,0.360392383485965,1.6910012466961053,1.2058965983111558,-1.319014089066689,0.6593385546192957,-0.950845668402494,-0.7554074274748129,-0.017507024237813563,0.6037910263902313,-0.20828086393310136,1.098045767666234,0.6613038152828025,0.2012314085951196,-0.9554477831575683,0.12084483670615001,-1.0010773159670867,-0.5903130748757954,-1.0697665153809002,0.9191799385873884,0.4690165570992859,0.06387960125351591,-1.5838823456367928,2.1802143257963906,1.1480112283012642,-0.07162629952534273,0.5627367905167185,-0.18438506495854254,-1.5022982060619097,1.8497474254819983,-0.03918021541399383,-0.23872608346406154,-1.4871940407040494,0.04446443224203181,-1.1171846935307286,-0.21423048138667738,0.8794625436924016,-0.6765677387262804,-0.6555195298556425,-0.5392602969829471,-0.7631789005909189,-0.6496420791610642,0.13575924217161828,-0.6913802506294942,0.5116249514647393,0.0066234676257833185,-0.9992712247072545,0.1284439724260692,0.86673178050085,0.47383740979664,-1.155145808276023,2.449724635386686,-0.3841594824344654,-1.2558147665001267,-1.7223789709086947,1.265470008796909,-0.5845152862125991,-0.10307991640061441,-1.1109186251074195,-1.573179774272956,0.20194921220785317,1.684181105736972,0.1749451425187088,-0.5117453190107181,0.1464337186628566,-0.5342702364420915,0.361702182476172,-0.5953193564542244,-0.7018962148392052,0.33254715856664546,-0.2074803282234123,-1.1158259958549634,0.7339224290549348,-0.7219489897503646,-0.6639505335189924,0.07700314040805979,1.501695269617543,-0.1264237787916759,1.482553835167678,0.8221058615951625,-1.1329457247804353,-0.27947044860074993,0.34035358628544005,0.16603695617559688,1.538227662026561,-1.0019143524128864,1.266588418755343,-1.3279401052386597,-0.8198898699883692,-0.15181666075712758,-0.6881010325582105,-0.4962965666428519,0.5258372137868746,-0.9169839086787025,-0.015399631972195566,0.2191763265603908,-0.10154410000411923,-0.8413973942452553,0.26742609796599826,0.1652821010042733,0.8993927409765421,0.2731380189388509,-0.5209332204278989,0.003827782066467854,-2.2235247210103677,0.26619476767762423,-1.0653266387644003,-0.7781949014602746,1.2111160658055147,0.8435494614872038,0.6392072411133831,-1.5673365319883954,-0.48820531952937424,0.382652821108114,0.11940330224873966,-0.10287866080041115,-0.16313057754722105,-0.33027282865540986,-0.9072812033426338,1.5772281934652956,0.2593776801412029,0.6499925983000241,1.9361349631755442,-0.2749619540092998,0.054736893955394564,-0.12533195768406846,-0.5633824008033815,0.3550326943067617,-0.14575290704542096,0.39731214782098107,-0.3844702427713349,-0.7004868974302405,-0.7948138131391227,-0.20898916904106588,0.13944836109721045,-0.6396128337420199,0.6462234001258192,-1.5702369853656932,0.002558132443559444,0.5693985035926993,-1.7249818458911292,0.6999180068185291,0.12087626368181426,0.6961705704465131,-0.1105199651563309,-0.7937382936730868,-1.1872870295251683,-0.6869275644566205,1.1480578023596795,-0.2966974914506152,-0.7907382620638576,1.5502417707755665,0.691883991828658,0.5302185600849528,0.7831661422359449,-0.30094779463702026,-1.2089831630976164,0.03593165611304015,0.45127734334446684,-0.43052992371977183,-1.1782350984382197,1.610513767097405,-0.19767292898271227,0.24194304030794966,-0.33716830126314334,0.1922913097640107,-1.9490541369294565,-0.2837693278521786,-2.1894350964871334,0.5188857707133661,-0.25000356333018026,0.9693916791937012,-0.05690134215651439,-0.6920847841770168,0.02841482490090554,-0.7690423554516136,-0.7520029449516201,0.22902719921602183,0.10126910435144043,-0.2978561441018716,0.044330821147853805,-0.6389037852876629,-0.058454952874609514,-0.3930492028786991,0.26448157975104747,-0.04890121087349532,0.922636842203656,-0.17571653297138473,0.7435604915115459,-0.7425377052793676,-0.11888713829741669,0.49976603602412417,0.5074993228497391,-0.0366171110290226,-1.8302259497993183,-0.6352718702280106,-1.465052653106557,0.14649955874145237,0.06871301975594292,-0.6279982787022758,1.0925847346626232,0.19084099655061323,-1.4773188774377812,-0.4149616273697495,-0.7673532132045906,0.7107956092057559,-0.08474272218639953,-0.3720892444003291,0.9880425151902655,0.08452224245489849,0.02734954526690715,1.1555790084183435,0.7742439568335413,0.14130608238968387,-0.007614328843785302,-0.4911438733719288,-0.8817755319775729,-1.9852890273093178,-0.3047510463535927,-1.5101217441726542,-0.008549828079682964,-2.475201785535938,-1.5057800639580694,0.5648376847038632,0.41582247471322153,-2.3313395220161457,0.023243350421259353,0.6215970720610844,0.920203710632694,0.5863110602323549,-0.6104485716624539,-0.9565931762512211,-0.03604049823983428,-0.42858085306983923,-0.22158413775732083,-1.416458735487649,0.017540874025151715,0.9015393533532471,0.08362522267120091,0.2215565643965999,0.13048404715287357,-0.6805559534529533,-0.9612764922378536,-0.2587025385787027,-0.9517467144519343,0.31680416532449074,-0.8700189846539053,0.1494898918997366,-1.386007195726387,-0.8009967867291596,0.9890203314371645,0.7668608905469348,1.1409581337771968,-0.4861605052076032,1.0506069233279531,0.547499315525329,-0.6293041850937826,-1.0221494461297638,0.005973065847827721,-0.16753796482262384,0.0028767057807792366,0.5112666610576811,-0.1462465809163849,-0.2519133924778567,-0.18210146073514466,-1.968855462461655,0.5625485182192924,0.6306059261123429,1.5150971086886857,-0.16111808568167513,0.8881135013483886,0.20360183916971303,0.3420840810949897,0.006253483952005184,0.5905607357605196,-0.23567663092166552,0.06342036399443923,0.8257066322356365,0.3564841850019993,0.25438480679652997,-0.93867058759786,0.22234324023474153,0.5425793916985369,-0.6330894036289553,-0.30364760527832907,0.4752376976728627,2.302249232335112,-0.8602589866974347,-0.5242202081153747,0.6606677776108918,0.2761070466980334,2.0232605545795823,-2.401321321512262,0.5025929096177817,-0.3388339040939239,-1.0768670536246232,-1.3766152093037436,-0.9502068446426238,-1.1739580682713282,1.1524245912983304,1.4087338214065868,-0.3373611002651517,0.3512627671734213,1.0278856042134301,0.019214868300504274,-0.1181163997394738,-0.6731677474608212,1.2126425177419013,-0.5514947652653512,0.0593992639139357,1.189987408403028,1.077451794545217,1.211442703698463,0.43029573832941803,-1.4733501943311442,-0.22209658349972936,0.590431925620512,0.5699208350706988,0.5928535108513572,-0.43634674242330324,0.23005483431277252,0.7022872899035606,0.36025805672363664,0.9954393947301455,1.062835277877574,-1.796131152451888,-0.5403155968316528,0.3680489970817448,-0.019439844313012163,0.8892901824301803,1.0187048844685436,0.2605641543701971,-0.4885919608091687,0.7610502045342789,-1.3932051605028668,-0.16468611963894178,2.326211941793509,0.835351187093838,1.8730031820577775,-0.303139627295031,-0.6712653814952064,0.6055274610585748,-0.4008447664377824,0.4661090073783986,0.011245193590598144,-0.010263804571011156,0.18408505777638995,0.685968846775993,1.1162484028374198,-2.032558911405713,-0.4265924418456112,0.788216983473656,0.09480943843984715,2.201509497930125,-1.836967470312813,0.5659243991453157,-0.9892432810142678,0.2881985435826892,-1.0547135590958876,0.9312016644445195,-0.8484243712661387,0.07420797247362074,-1.1621803039486507,0.014139757002927428,1.2744822416059896,1.6745231664625808,-1.5994611226586957,0.08662183928458896,-0.6579632632625279,0.10502662596260848,-1.386905317837242,-0.17476398435786863,2.129858446067352,0.4646054678863165,0.7856145983623568,-1.6031181642449113,0.34108415788790186,-0.9088699120927655,0.7400784936221589,0.470979135072887,-1.2265388680230604,-1.471533101636134,-0.01724154703705941,-0.10724245047031772,-0.1803366998523412,-1.6210803763911752,0.5151612687527,0.35546852531538337,-0.7211329039616895,-0.4414171260223131,1.6223315790816608,-0.2502596271023464,1.305338776662321,-0.09960057333178651,-1.5290956412998142,0.9111609074136653,-0.22497124198783952,0.987587572315228,-0.8018186609912695,-0.9678835671876346,0.4686485398464421,-0.2918205882015359,0.7202977897350612,0.11763947972916322,-0.9318948804400385,-0.6377664596174041,-0.35399358718747115,-1.129093446547428,-2.022272984023233,0.32319897141550125,-0.24247553882328116,-2.145096610958944,0.010029663114993651,-1.303740539129158,-1.2624850627891429,1.5699015251264505,-0.23231350520865382,0.5572579356931467,1.5436767831268206,-1.2946309720379587,0.3931868889691435,-1.2022113868037771,-0.8093632953741143,-0.23909361719709865,-0.6957567944422886,-0.9851228196859912,0.25460123044995137,-1.7103646594471862,0.03226079898784989,0.8155284379693254,-0.7500452809610979,-1.7908563947429768,0.7540629169340126,-0.7264569665228505,-0.27006224344748797,0.7565950542324151,-0.16669297414866993,-2.0131676672142524,0.3247960098773031,-0.6281169534219664,2.0571563898233314,0.07454404324766459,-0.027140081832107057,0.2435523652243632,0.3615075726042192,0.0570221812812432,0.6781095284175432,-0.7806772764126259,-0.6745652636785807,-1.1437142200940544,1.0987909551797495,0.1452396850984835,-0.14751005605345985,-1.7740567677241095,0.7698034833285442,-2.149427115498516,-0.9275042504404469,0.09263108326540395,-0.46470728852347754,0.19283011297980765,0.2615508155720992,0.4002502608415251,0.5220458706735247,-1.8692262898478216,0.5994713031972513,1.4120026616306385,0.3506530432665655,0.8515819824331533,-0.6601767508764667,0.7664703183413846,-0.24088459261096845,-0.4243383851412444,0.32115476974898616,0.7009597517813068,0.08875153580659048,-1.1695178372941162,-0.16780673736218765,-0.9951350500132002,0.8655736124136648,0.9567352102200422,1.6367670275718527,0.28331356840166,0.2587449900049765,0.845321234642882,0.882356558326809,-0.5343321382318625,2.609881676194032,0.1294411528093107,-0.41595624355437827,1.6484382808034908,1.4269610422667183,0.14691858581216533,-0.9333163846852528,-0.37781859834213555,-0.3716146143230139,0.3882293411111411,0.5747673685941743,-1.490786616360943,-0.6248173240417487,0.23210712444272247,-0.6363550141638696,-0.5161560886281595,0.5486320883121929,0.9026411384217314,-1.7414733531642503,1.8851074020954208,-0.812183617731303,-0.2850344794915744,1.0681082931853767,-0.6397462648870882,-0.9446872532227406,0.09375731434602437,0.31884590416634934,-0.9607245420232524,0.655154805566055,-0.7672960051713108,-0.14279612149514626,-0.4117115751283669,-0.5668623565346879,0.9851023873693937,-0.6285824564134581,0.9577732368340539,1.7676521734483883,1.3549914684451072,-0.8936241688446396,-0.42113910757112755,0.4037954200831512,0.7389575100319741,0.2742150974674835,1.1456664165708152,2.1164367114617177,-1.2046851832961225,-0.32998624841379287,1.3914023399726254,-0.6043113908603861,-0.21568953372448757,0.18768873645563203,1.1839405432937047,-0.6972572094043964,1.171440524773258,0.8312859108168233,0.8877897437589239,1.2891206900569847,0.7132747867973335,-0.04581813165171188,-0.3553685394395423,-0.72576246530679,-0.20521359036843143,1.580586903876011,-0.9551523335487674,-0.4803779657320965,0.3514096049860419,-0.28237078727564957,0.03543999618381201,0.7821148804225021,0.6715610754520309,0.41440804521128605,-1.0083092571774899,-0.709229846049172,-0.5049722233488204,0.11475106170468191,0.2938460664263734,-0.7088939084982101,-1.8338343996344697,-0.49047057577279607,-1.1466476651285282,1.2970604557109928,-0.20460119451131342,0.1713759491906896,-0.06493917885077881,0.19351649335323864,0.5270466592546736,-0.15346101829926473,0.07573915536124688,-0.36513067551231065,1.9212656078371144,1.1722807497755927,-0.30154537502779966,-0.29380303016463133,-0.7563439682968834,0.6012678749949573,0.25806520129361643,0.2371073010577986,0.7613934584050995,-0.8249664025627725,-0.4011088712310705,-1.3026658566199363,0.03923903180431648,0.8227643314435378,0.04105212708348534,0.8754577206347368,-0.3618580969281596,-0.8244120050561797,0.4215320447589676,1.4840721562521466,-1.0793069709732086,-0.5028046030138893,-0.04188255657211265,1.163860049550707,-1.682258403916398,1.504583754619935,-0.8291919342162625,0.8983647959298005,-0.8598269313135256],\"yaxis\":\"y\",\"type\":\"scatter\"}],                        {\"template\":{\"data\":{\"histogram2dcontour\":[{\"type\":\"histogram2dcontour\",\"colorbar\":{\"outlinewidth\":0,\"ticks\":\"\"},\"colorscale\":[[0.0,\"#0d0887\"],[0.1111111111111111,\"#46039f\"],[0.2222222222222222,\"#7201a8\"],[0.3333333333333333,\"#9c179e\"],[0.4444444444444444,\"#bd3786\"],[0.5555555555555556,\"#d8576b\"],[0.6666666666666666,\"#ed7953\"],[0.7777777777777778,\"#fb9f3a\"],[0.8888888888888888,\"#fdca26\"],[1.0,\"#f0f921\"]]}],\"choropleth\":[{\"type\":\"choropleth\",\"colorbar\":{\"outlinewidth\":0,\"ticks\":\"\"}}],\"histogram2d\":[{\"type\":\"histogram2d\",\"colorbar\":{\"outlinewidth\":0,\"ticks\":\"\"},\"colorscale\":[[0.0,\"#0d0887\"],[0.1111111111111111,\"#46039f\"],[0.2222222222222222,\"#7201a8\"],[0.3333333333333333,\"#9c179e\"],[0.4444444444444444,\"#bd3786\"],[0.5555555555555556,\"#d8576b\"],[0.6666666666666666,\"#ed7953\"],[0.7777777777777778,\"#fb9f3a\"],[0.8888888888888888,\"#fdca26\"],[1.0,\"#f0f921\"]]}],\"heatmap\":[{\"type\":\"heatmap\",\"colorbar\":{\"outlinewidth\":0,\"ticks\":\"\"},\"colorscale\":[[0.0,\"#0d0887\"],[0.1111111111111111,\"#46039f\"],[0.2222222222222222,\"#7201a8\"],[0.3333333333333333,\"#9c179e\"],[0.4444444444444444,\"#bd3786\"],[0.5555555555555556,\"#d8576b\"],[0.6666666666666666,\"#ed7953\"],[0.7777777777777778,\"#fb9f3a\"],[0.8888888888888888,\"#fdca26\"],[1.0,\"#f0f921\"]]}],\"heatmapgl\":[{\"type\":\"heatmapgl\",\"colorbar\":{\"outlinewidth\":0,\"ticks\":\"\"},\"colorscale\":[[0.0,\"#0d0887\"],[0.1111111111111111,\"#46039f\"],[0.2222222222222222,\"#7201a8\"],[0.3333333333333333,\"#9c179e\"],[0.4444444444444444,\"#bd3786\"],[0.5555555555555556,\"#d8576b\"],[0.6666666666666666,\"#ed7953\"],[0.7777777777777778,\"#fb9f3a\"],[0.8888888888888888,\"#fdca26\"],[1.0,\"#f0f921\"]]}],\"contourcarpet\":[{\"type\":\"contourcarpet\",\"colorbar\":{\"outlinewidth\":0,\"ticks\":\"\"}}],\"contour\":[{\"type\":\"contour\",\"colorbar\":{\"outlinewidth\":0,\"ticks\":\"\"},\"colorscale\":[[0.0,\"#0d0887\"],[0.1111111111111111,\"#46039f\"],[0.2222222222222222,\"#7201a8\"],[0.3333333333333333,\"#9c179e\"],[0.4444444444444444,\"#bd3786\"],[0.5555555555555556,\"#d8576b\"],[0.6666666666666666,\"#ed7953\"],[0.7777777777777778,\"#fb9f3a\"],[0.8888888888888888,\"#fdca26\"],[1.0,\"#f0f921\"]]}],\"surface\":[{\"type\":\"surface\",\"colorbar\":{\"outlinewidth\":0,\"ticks\":\"\"},\"colorscale\":[[0.0,\"#0d0887\"],[0.1111111111111111,\"#46039f\"],[0.2222222222222222,\"#7201a8\"],[0.3333333333333333,\"#9c179e\"],[0.4444444444444444,\"#bd3786\"],[0.5555555555555556,\"#d8576b\"],[0.6666666666666666,\"#ed7953\"],[0.7777777777777778,\"#fb9f3a\"],[0.8888888888888888,\"#fdca26\"],[1.0,\"#f0f921\"]]}],\"mesh3d\":[{\"type\":\"mesh3d\",\"colorbar\":{\"outlinewidth\":0,\"ticks\":\"\"}}],\"scatter\":[{\"fillpattern\":{\"fillmode\":\"overlay\",\"size\":10,\"solidity\":0.2},\"type\":\"scatter\"}],\"parcoords\":[{\"type\":\"parcoords\",\"line\":{\"colorbar\":{\"outlinewidth\":0,\"ticks\":\"\"}}}],\"scatterpolargl\":[{\"type\":\"scatterpolargl\",\"marker\":{\"colorbar\":{\"outlinewidth\":0,\"ticks\":\"\"}}}],\"bar\":[{\"error_x\":{\"color\":\"#2a3f5f\"},\"error_y\":{\"color\":\"#2a3f5f\"},\"marker\":{\"line\":{\"color\":\"#E5ECF6\",\"width\":0.5},\"pattern\":{\"fillmode\":\"overlay\",\"size\":10,\"solidity\":0.2}},\"type\":\"bar\"}],\"scattergeo\":[{\"type\":\"scattergeo\",\"marker\":{\"colorbar\":{\"outlinewidth\":0,\"ticks\":\"\"}}}],\"scatterpolar\":[{\"type\":\"scatterpolar\",\"marker\":{\"colorbar\":{\"outlinewidth\":0,\"ticks\":\"\"}}}],\"histogram\":[{\"marker\":{\"pattern\":{\"fillmode\":\"overlay\",\"size\":10,\"solidity\":0.2}},\"type\":\"histogram\"}],\"scattergl\":[{\"type\":\"scattergl\",\"marker\":{\"colorbar\":{\"outlinewidth\":0,\"ticks\":\"\"}}}],\"scatter3d\":[{\"type\":\"scatter3d\",\"line\":{\"colorbar\":{\"outlinewidth\":0,\"ticks\":\"\"}},\"marker\":{\"colorbar\":{\"outlinewidth\":0,\"ticks\":\"\"}}}],\"scattermapbox\":[{\"type\":\"scattermapbox\",\"marker\":{\"colorbar\":{\"outlinewidth\":0,\"ticks\":\"\"}}}],\"scatterternary\":[{\"type\":\"scatterternary\",\"marker\":{\"colorbar\":{\"outlinewidth\":0,\"ticks\":\"\"}}}],\"scattercarpet\":[{\"type\":\"scattercarpet\",\"marker\":{\"colorbar\":{\"outlinewidth\":0,\"ticks\":\"\"}}}],\"carpet\":[{\"aaxis\":{\"endlinecolor\":\"#2a3f5f\",\"gridcolor\":\"white\",\"linecolor\":\"white\",\"minorgridcolor\":\"white\",\"startlinecolor\":\"#2a3f5f\"},\"baxis\":{\"endlinecolor\":\"#2a3f5f\",\"gridcolor\":\"white\",\"linecolor\":\"white\",\"minorgridcolor\":\"white\",\"startlinecolor\":\"#2a3f5f\"},\"type\":\"carpet\"}],\"table\":[{\"cells\":{\"fill\":{\"color\":\"#EBF0F8\"},\"line\":{\"color\":\"white\"}},\"header\":{\"fill\":{\"color\":\"#C8D4E3\"},\"line\":{\"color\":\"white\"}},\"type\":\"table\"}],\"barpolar\":[{\"marker\":{\"line\":{\"color\":\"#E5ECF6\",\"width\":0.5},\"pattern\":{\"fillmode\":\"overlay\",\"size\":10,\"solidity\":0.2}},\"type\":\"barpolar\"}],\"pie\":[{\"automargin\":true,\"type\":\"pie\"}]},\"layout\":{\"autotypenumbers\":\"strict\",\"colorway\":[\"#636efa\",\"#EF553B\",\"#00cc96\",\"#ab63fa\",\"#FFA15A\",\"#19d3f3\",\"#FF6692\",\"#B6E880\",\"#FF97FF\",\"#FECB52\"],\"font\":{\"color\":\"#2a3f5f\"},\"hovermode\":\"closest\",\"hoverlabel\":{\"align\":\"left\"},\"paper_bgcolor\":\"white\",\"plot_bgcolor\":\"#E5ECF6\",\"polar\":{\"bgcolor\":\"#E5ECF6\",\"angularaxis\":{\"gridcolor\":\"white\",\"linecolor\":\"white\",\"ticks\":\"\"},\"radialaxis\":{\"gridcolor\":\"white\",\"linecolor\":\"white\",\"ticks\":\"\"}},\"ternary\":{\"bgcolor\":\"#E5ECF6\",\"aaxis\":{\"gridcolor\":\"white\",\"linecolor\":\"white\",\"ticks\":\"\"},\"baxis\":{\"gridcolor\":\"white\",\"linecolor\":\"white\",\"ticks\":\"\"},\"caxis\":{\"gridcolor\":\"white\",\"linecolor\":\"white\",\"ticks\":\"\"}},\"coloraxis\":{\"colorbar\":{\"outlinewidth\":0,\"ticks\":\"\"}},\"colorscale\":{\"sequential\":[[0.0,\"#0d0887\"],[0.1111111111111111,\"#46039f\"],[0.2222222222222222,\"#7201a8\"],[0.3333333333333333,\"#9c179e\"],[0.4444444444444444,\"#bd3786\"],[0.5555555555555556,\"#d8576b\"],[0.6666666666666666,\"#ed7953\"],[0.7777777777777778,\"#fb9f3a\"],[0.8888888888888888,\"#fdca26\"],[1.0,\"#f0f921\"]],\"sequentialminus\":[[0.0,\"#0d0887\"],[0.1111111111111111,\"#46039f\"],[0.2222222222222222,\"#7201a8\"],[0.3333333333333333,\"#9c179e\"],[0.4444444444444444,\"#bd3786\"],[0.5555555555555556,\"#d8576b\"],[0.6666666666666666,\"#ed7953\"],[0.7777777777777778,\"#fb9f3a\"],[0.8888888888888888,\"#fdca26\"],[1.0,\"#f0f921\"]],\"diverging\":[[0,\"#8e0152\"],[0.1,\"#c51b7d\"],[0.2,\"#de77ae\"],[0.3,\"#f1b6da\"],[0.4,\"#fde0ef\"],[0.5,\"#f7f7f7\"],[0.6,\"#e6f5d0\"],[0.7,\"#b8e186\"],[0.8,\"#7fbc41\"],[0.9,\"#4d9221\"],[1,\"#276419\"]]},\"xaxis\":{\"gridcolor\":\"white\",\"linecolor\":\"white\",\"ticks\":\"\",\"title\":{\"standoff\":15},\"zerolinecolor\":\"white\",\"automargin\":true,\"zerolinewidth\":2},\"yaxis\":{\"gridcolor\":\"white\",\"linecolor\":\"white\",\"ticks\":\"\",\"title\":{\"standoff\":15},\"zerolinecolor\":\"white\",\"automargin\":true,\"zerolinewidth\":2},\"scene\":{\"xaxis\":{\"backgroundcolor\":\"#E5ECF6\",\"gridcolor\":\"white\",\"linecolor\":\"white\",\"showbackground\":true,\"ticks\":\"\",\"zerolinecolor\":\"white\",\"gridwidth\":2},\"yaxis\":{\"backgroundcolor\":\"#E5ECF6\",\"gridcolor\":\"white\",\"linecolor\":\"white\",\"showbackground\":true,\"ticks\":\"\",\"zerolinecolor\":\"white\",\"gridwidth\":2},\"zaxis\":{\"backgroundcolor\":\"#E5ECF6\",\"gridcolor\":\"white\",\"linecolor\":\"white\",\"showbackground\":true,\"ticks\":\"\",\"zerolinecolor\":\"white\",\"gridwidth\":2}},\"shapedefaults\":{\"line\":{\"color\":\"#2a3f5f\"}},\"annotationdefaults\":{\"arrowcolor\":\"#2a3f5f\",\"arrowhead\":0,\"arrowwidth\":1},\"geo\":{\"bgcolor\":\"white\",\"landcolor\":\"#E5ECF6\",\"subunitcolor\":\"white\",\"showland\":true,\"showlakes\":true,\"lakecolor\":\"white\"},\"title\":{\"x\":0.05},\"mapbox\":{\"style\":\"light\"}}},\"xaxis\":{\"anchor\":\"y\",\"domain\":[0.0,1.0],\"title\":{\"text\":\"0\"}},\"yaxis\":{\"anchor\":\"x\",\"domain\":[0.0,1.0],\"title\":{\"text\":\"1\"}},\"legend\":{\"tracegroupgap\":0},\"margin\":{\"t\":60},\"width\":500,\"height\":500},                        {\"responsive\": true}                    ).then(function(){\n",
       "                            \n",
       "var gd = document.getElementById('1d35273b-1afc-4e4d-9ddf-ea3b1826823d');\n",
       "var x = new MutationObserver(function (mutations, observer) {{\n",
       "        var display = window.getComputedStyle(gd).display;\n",
       "        if (!display || display === 'none') {{\n",
       "            console.log([gd, 'removed!']);\n",
       "            Plotly.purge(gd);\n",
       "            observer.disconnect();\n",
       "        }}\n",
       "}});\n",
       "\n",
       "// Listen for the removal of the full notebook cells\n",
       "var notebookContainer = gd.closest('#notebook-container');\n",
       "if (notebookContainer) {{\n",
       "    x.observe(notebookContainer, {childList: true});\n",
       "}}\n",
       "\n",
       "// Listen for the clearing of the current output cell\n",
       "var outputEl = gd.closest('.output');\n",
       "if (outputEl) {{\n",
       "    x.observe(outputEl, {childList: true});\n",
       "}}\n",
       "\n",
       "                        })                };                });            </script>        </div>"
      ]
     },
     "metadata": {},
     "output_type": "display_data"
    }
   ],
   "source": [
    "cov = np.array([[1, 0.5], [0.5, 1]])\n",
    "X = np.random.multivariate_normal([0, 0], cov, size=800)\n",
    "\n",
    "fig = px.scatter(X,x=0,y=1, trendline=\"ols\")\n",
    "fig.add_traces(\n",
    "    px.line(sm.PCA(X).project(ncomp=1) ,x=0,y=1).update_traces(line_color=\"red\").data, \n",
    ").update_layout(width=500, height=500)"
   ]
  },
  {
   "cell_type": "code",
   "execution_count": null,
   "id": "136c2dae-f25e-4256-ac24-15128a3f3bd5",
   "metadata": {},
   "outputs": [],
   "source": []
  }
 ],
 "metadata": {
  "kernelspec": {
   "display_name": "Python 3 (ipykernel)",
   "language": "python",
   "name": "python3"
  },
  "language_info": {
   "codemirror_mode": {
    "name": "ipython",
    "version": 3
   },
   "file_extension": ".py",
   "mimetype": "text/x-python",
   "name": "python",
   "nbconvert_exporter": "python",
   "pygments_lexer": "ipython3",
   "version": "3.9.7"
  }
 },
 "nbformat": 4,
 "nbformat_minor": 5
}
