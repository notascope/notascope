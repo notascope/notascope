{
 "cells": [
  {
   "cell_type": "code",
   "execution_count": 74,
   "id": "0d14e69c-d1c7-4cbc-bb58-8ac9cebd0006",
   "metadata": {
    "tags": []
   },
   "outputs": [
    {
     "data": {
      "application/vnd.plotly.v1+json": {
       "config": {
        "plotlyServerURL": "https://plotly.com"
       },
       "data": [
        {
         "customdata": [
          [
           "box",
           "box_day"
          ],
          [
           "box",
           "box_day_time"
          ],
          [
           "box",
           "box_time_day"
          ],
          [
           "box",
           "strip_day"
          ],
          [
           "box",
           "strip"
          ],
          [
           "box",
           "strip_time"
          ],
          [
           "box",
           "box_time"
          ],
          [
           "box_day",
           "box"
          ],
          [
           "box_day",
           "box_day_time"
          ],
          [
           "box_day",
           "box_time_day"
          ],
          [
           "box_day",
           "strip_day"
          ],
          [
           "box_day",
           "strip"
          ],
          [
           "box_day",
           "strip_time"
          ],
          [
           "box_day",
           "box_time"
          ],
          [
           "box_day_time",
           "box"
          ],
          [
           "box_day_time",
           "box_day"
          ],
          [
           "box_day_time",
           "box_time_day"
          ],
          [
           "box_day_time",
           "strip_day"
          ],
          [
           "box_day_time",
           "strip"
          ],
          [
           "box_day_time",
           "strip_time"
          ],
          [
           "box_day_time",
           "box_time"
          ],
          [
           "box_time_day",
           "box"
          ],
          [
           "box_time_day",
           "box_day"
          ],
          [
           "box_time_day",
           "box_day_time"
          ],
          [
           "box_time_day",
           "strip_day"
          ],
          [
           "box_time_day",
           "strip"
          ],
          [
           "box_time_day",
           "strip_time"
          ],
          [
           "box_time_day",
           "box_time"
          ],
          [
           "strip_day",
           "box"
          ],
          [
           "strip_day",
           "box_day"
          ],
          [
           "strip_day",
           "box_day_time"
          ],
          [
           "strip_day",
           "box_time_day"
          ],
          [
           "strip_day",
           "strip"
          ],
          [
           "strip_day",
           "strip_time"
          ],
          [
           "strip_day",
           "box_time"
          ],
          [
           "strip",
           "box"
          ],
          [
           "strip",
           "box_day"
          ],
          [
           "strip",
           "box_day_time"
          ],
          [
           "strip",
           "box_time_day"
          ],
          [
           "strip",
           "strip_day"
          ],
          [
           "strip",
           "strip_time"
          ],
          [
           "strip",
           "box_time"
          ],
          [
           "strip_time",
           "box"
          ],
          [
           "strip_time",
           "box_day"
          ],
          [
           "strip_time",
           "box_day_time"
          ],
          [
           "strip_time",
           "box_time_day"
          ],
          [
           "strip_time",
           "strip_day"
          ],
          [
           "strip_time",
           "strip"
          ],
          [
           "strip_time",
           "box_time"
          ],
          [
           "box_time",
           "box"
          ],
          [
           "box_time",
           "box_day"
          ],
          [
           "box_time",
           "box_day_time"
          ],
          [
           "box_time",
           "box_time_day"
          ],
          [
           "box_time",
           "strip_day"
          ],
          [
           "box_time",
           "strip"
          ],
          [
           "box_time",
           "strip_time"
          ]
         ],
         "hovertemplate": "ncd_ggplot2=%{x}<br>ncd_plotly_express=%{y}<br>from_slug=%{customdata[0]}<br>to_slug=%{customdata[1]}<extra></extra>",
         "legendgroup": "",
         "marker": {
          "color": "#636efa",
          "symbol": "circle"
         },
         "mode": "markers",
         "name": "",
         "orientation": "v",
         "showlegend": false,
         "type": "scatter",
         "x": [
          175,
          276,
          276,
          214,
          108,
          214,
          170,
          175,
          212,
          170,
          119,
          175,
          166,
          97,
          276,
          212,
          85,
          234,
          297,
          191,
          148,
          276,
          170,
          85,
          191,
          297,
          234,
          191,
          214,
          119,
          212,
          212,
          142,
          71,
          142,
          108,
          200,
          297,
          297,
          142,
          142,
          195,
          214,
          166,
          191,
          212,
          71,
          142,
          95,
          170,
          97,
          148,
          191,
          142,
          195,
          95
         ],
         "xaxis": "x",
         "y": [
          128,
          186,
          186,
          179,
          111,
          179,
          128,
          128,
          116,
          139,
          76,
          179,
          128,
          76,
          186,
          116,
          69,
          162,
          232,
          162,
          116,
          209,
          139,
          69,
          162,
          232,
          162,
          139,
          179,
          76,
          162,
          162,
          153,
          76,
          128,
          111,
          179,
          232,
          232,
          128,
          128,
          179,
          179,
          128,
          162,
          162,
          76,
          128,
          76,
          128,
          76,
          116,
          116,
          128,
          179,
          76
         ],
         "yaxis": "y"
        }
       ],
       "layout": {
        "height": 600,
        "legend": {
         "tracegroupgap": 0
        },
        "margin": {
         "t": 60
        },
        "shapes": [
         {
          "line": {
           "color": "white",
           "width": 1
          },
          "type": "line",
          "x0": 46.2,
          "x1": 319.8,
          "y0": 46.2,
          "y1": 319.8
         }
        ],
        "template": {
         "data": {
          "bar": [
           {
            "error_x": {
             "color": "#2a3f5f"
            },
            "error_y": {
             "color": "#2a3f5f"
            },
            "marker": {
             "line": {
              "color": "#E5ECF6",
              "width": 0.5
             },
             "pattern": {
              "fillmode": "overlay",
              "size": 10,
              "solidity": 0.2
             }
            },
            "type": "bar"
           }
          ],
          "barpolar": [
           {
            "marker": {
             "line": {
              "color": "#E5ECF6",
              "width": 0.5
             },
             "pattern": {
              "fillmode": "overlay",
              "size": 10,
              "solidity": 0.2
             }
            },
            "type": "barpolar"
           }
          ],
          "carpet": [
           {
            "aaxis": {
             "endlinecolor": "#2a3f5f",
             "gridcolor": "white",
             "linecolor": "white",
             "minorgridcolor": "white",
             "startlinecolor": "#2a3f5f"
            },
            "baxis": {
             "endlinecolor": "#2a3f5f",
             "gridcolor": "white",
             "linecolor": "white",
             "minorgridcolor": "white",
             "startlinecolor": "#2a3f5f"
            },
            "type": "carpet"
           }
          ],
          "choropleth": [
           {
            "colorbar": {
             "outlinewidth": 0,
             "ticks": ""
            },
            "type": "choropleth"
           }
          ],
          "contour": [
           {
            "colorbar": {
             "outlinewidth": 0,
             "ticks": ""
            },
            "colorscale": [
             [
              0,
              "#0d0887"
             ],
             [
              0.1111111111111111,
              "#46039f"
             ],
             [
              0.2222222222222222,
              "#7201a8"
             ],
             [
              0.3333333333333333,
              "#9c179e"
             ],
             [
              0.4444444444444444,
              "#bd3786"
             ],
             [
              0.5555555555555556,
              "#d8576b"
             ],
             [
              0.6666666666666666,
              "#ed7953"
             ],
             [
              0.7777777777777778,
              "#fb9f3a"
             ],
             [
              0.8888888888888888,
              "#fdca26"
             ],
             [
              1,
              "#f0f921"
             ]
            ],
            "type": "contour"
           }
          ],
          "contourcarpet": [
           {
            "colorbar": {
             "outlinewidth": 0,
             "ticks": ""
            },
            "type": "contourcarpet"
           }
          ],
          "heatmap": [
           {
            "colorbar": {
             "outlinewidth": 0,
             "ticks": ""
            },
            "colorscale": [
             [
              0,
              "#0d0887"
             ],
             [
              0.1111111111111111,
              "#46039f"
             ],
             [
              0.2222222222222222,
              "#7201a8"
             ],
             [
              0.3333333333333333,
              "#9c179e"
             ],
             [
              0.4444444444444444,
              "#bd3786"
             ],
             [
              0.5555555555555556,
              "#d8576b"
             ],
             [
              0.6666666666666666,
              "#ed7953"
             ],
             [
              0.7777777777777778,
              "#fb9f3a"
             ],
             [
              0.8888888888888888,
              "#fdca26"
             ],
             [
              1,
              "#f0f921"
             ]
            ],
            "type": "heatmap"
           }
          ],
          "heatmapgl": [
           {
            "colorbar": {
             "outlinewidth": 0,
             "ticks": ""
            },
            "colorscale": [
             [
              0,
              "#0d0887"
             ],
             [
              0.1111111111111111,
              "#46039f"
             ],
             [
              0.2222222222222222,
              "#7201a8"
             ],
             [
              0.3333333333333333,
              "#9c179e"
             ],
             [
              0.4444444444444444,
              "#bd3786"
             ],
             [
              0.5555555555555556,
              "#d8576b"
             ],
             [
              0.6666666666666666,
              "#ed7953"
             ],
             [
              0.7777777777777778,
              "#fb9f3a"
             ],
             [
              0.8888888888888888,
              "#fdca26"
             ],
             [
              1,
              "#f0f921"
             ]
            ],
            "type": "heatmapgl"
           }
          ],
          "histogram": [
           {
            "marker": {
             "pattern": {
              "fillmode": "overlay",
              "size": 10,
              "solidity": 0.2
             }
            },
            "type": "histogram"
           }
          ],
          "histogram2d": [
           {
            "colorbar": {
             "outlinewidth": 0,
             "ticks": ""
            },
            "colorscale": [
             [
              0,
              "#0d0887"
             ],
             [
              0.1111111111111111,
              "#46039f"
             ],
             [
              0.2222222222222222,
              "#7201a8"
             ],
             [
              0.3333333333333333,
              "#9c179e"
             ],
             [
              0.4444444444444444,
              "#bd3786"
             ],
             [
              0.5555555555555556,
              "#d8576b"
             ],
             [
              0.6666666666666666,
              "#ed7953"
             ],
             [
              0.7777777777777778,
              "#fb9f3a"
             ],
             [
              0.8888888888888888,
              "#fdca26"
             ],
             [
              1,
              "#f0f921"
             ]
            ],
            "type": "histogram2d"
           }
          ],
          "histogram2dcontour": [
           {
            "colorbar": {
             "outlinewidth": 0,
             "ticks": ""
            },
            "colorscale": [
             [
              0,
              "#0d0887"
             ],
             [
              0.1111111111111111,
              "#46039f"
             ],
             [
              0.2222222222222222,
              "#7201a8"
             ],
             [
              0.3333333333333333,
              "#9c179e"
             ],
             [
              0.4444444444444444,
              "#bd3786"
             ],
             [
              0.5555555555555556,
              "#d8576b"
             ],
             [
              0.6666666666666666,
              "#ed7953"
             ],
             [
              0.7777777777777778,
              "#fb9f3a"
             ],
             [
              0.8888888888888888,
              "#fdca26"
             ],
             [
              1,
              "#f0f921"
             ]
            ],
            "type": "histogram2dcontour"
           }
          ],
          "mesh3d": [
           {
            "colorbar": {
             "outlinewidth": 0,
             "ticks": ""
            },
            "type": "mesh3d"
           }
          ],
          "parcoords": [
           {
            "line": {
             "colorbar": {
              "outlinewidth": 0,
              "ticks": ""
             }
            },
            "type": "parcoords"
           }
          ],
          "pie": [
           {
            "automargin": true,
            "type": "pie"
           }
          ],
          "scatter": [
           {
            "fillpattern": {
             "fillmode": "overlay",
             "size": 10,
             "solidity": 0.2
            },
            "type": "scatter"
           }
          ],
          "scatter3d": [
           {
            "line": {
             "colorbar": {
              "outlinewidth": 0,
              "ticks": ""
             }
            },
            "marker": {
             "colorbar": {
              "outlinewidth": 0,
              "ticks": ""
             }
            },
            "type": "scatter3d"
           }
          ],
          "scattercarpet": [
           {
            "marker": {
             "colorbar": {
              "outlinewidth": 0,
              "ticks": ""
             }
            },
            "type": "scattercarpet"
           }
          ],
          "scattergeo": [
           {
            "marker": {
             "colorbar": {
              "outlinewidth": 0,
              "ticks": ""
             }
            },
            "type": "scattergeo"
           }
          ],
          "scattergl": [
           {
            "marker": {
             "colorbar": {
              "outlinewidth": 0,
              "ticks": ""
             }
            },
            "type": "scattergl"
           }
          ],
          "scattermapbox": [
           {
            "marker": {
             "colorbar": {
              "outlinewidth": 0,
              "ticks": ""
             }
            },
            "type": "scattermapbox"
           }
          ],
          "scatterpolar": [
           {
            "marker": {
             "colorbar": {
              "outlinewidth": 0,
              "ticks": ""
             }
            },
            "type": "scatterpolar"
           }
          ],
          "scatterpolargl": [
           {
            "marker": {
             "colorbar": {
              "outlinewidth": 0,
              "ticks": ""
             }
            },
            "type": "scatterpolargl"
           }
          ],
          "scatterternary": [
           {
            "marker": {
             "colorbar": {
              "outlinewidth": 0,
              "ticks": ""
             }
            },
            "type": "scatterternary"
           }
          ],
          "surface": [
           {
            "colorbar": {
             "outlinewidth": 0,
             "ticks": ""
            },
            "colorscale": [
             [
              0,
              "#0d0887"
             ],
             [
              0.1111111111111111,
              "#46039f"
             ],
             [
              0.2222222222222222,
              "#7201a8"
             ],
             [
              0.3333333333333333,
              "#9c179e"
             ],
             [
              0.4444444444444444,
              "#bd3786"
             ],
             [
              0.5555555555555556,
              "#d8576b"
             ],
             [
              0.6666666666666666,
              "#ed7953"
             ],
             [
              0.7777777777777778,
              "#fb9f3a"
             ],
             [
              0.8888888888888888,
              "#fdca26"
             ],
             [
              1,
              "#f0f921"
             ]
            ],
            "type": "surface"
           }
          ],
          "table": [
           {
            "cells": {
             "fill": {
              "color": "#EBF0F8"
             },
             "line": {
              "color": "white"
             }
            },
            "header": {
             "fill": {
              "color": "#C8D4E3"
             },
             "line": {
              "color": "white"
             }
            },
            "type": "table"
           }
          ]
         },
         "layout": {
          "annotationdefaults": {
           "arrowcolor": "#2a3f5f",
           "arrowhead": 0,
           "arrowwidth": 1
          },
          "autotypenumbers": "strict",
          "coloraxis": {
           "colorbar": {
            "outlinewidth": 0,
            "ticks": ""
           }
          },
          "colorscale": {
           "diverging": [
            [
             0,
             "#8e0152"
            ],
            [
             0.1,
             "#c51b7d"
            ],
            [
             0.2,
             "#de77ae"
            ],
            [
             0.3,
             "#f1b6da"
            ],
            [
             0.4,
             "#fde0ef"
            ],
            [
             0.5,
             "#f7f7f7"
            ],
            [
             0.6,
             "#e6f5d0"
            ],
            [
             0.7,
             "#b8e186"
            ],
            [
             0.8,
             "#7fbc41"
            ],
            [
             0.9,
             "#4d9221"
            ],
            [
             1,
             "#276419"
            ]
           ],
           "sequential": [
            [
             0,
             "#0d0887"
            ],
            [
             0.1111111111111111,
             "#46039f"
            ],
            [
             0.2222222222222222,
             "#7201a8"
            ],
            [
             0.3333333333333333,
             "#9c179e"
            ],
            [
             0.4444444444444444,
             "#bd3786"
            ],
            [
             0.5555555555555556,
             "#d8576b"
            ],
            [
             0.6666666666666666,
             "#ed7953"
            ],
            [
             0.7777777777777778,
             "#fb9f3a"
            ],
            [
             0.8888888888888888,
             "#fdca26"
            ],
            [
             1,
             "#f0f921"
            ]
           ],
           "sequentialminus": [
            [
             0,
             "#0d0887"
            ],
            [
             0.1111111111111111,
             "#46039f"
            ],
            [
             0.2222222222222222,
             "#7201a8"
            ],
            [
             0.3333333333333333,
             "#9c179e"
            ],
            [
             0.4444444444444444,
             "#bd3786"
            ],
            [
             0.5555555555555556,
             "#d8576b"
            ],
            [
             0.6666666666666666,
             "#ed7953"
            ],
            [
             0.7777777777777778,
             "#fb9f3a"
            ],
            [
             0.8888888888888888,
             "#fdca26"
            ],
            [
             1,
             "#f0f921"
            ]
           ]
          },
          "colorway": [
           "#636efa",
           "#EF553B",
           "#00cc96",
           "#ab63fa",
           "#FFA15A",
           "#19d3f3",
           "#FF6692",
           "#B6E880",
           "#FF97FF",
           "#FECB52"
          ],
          "font": {
           "color": "#2a3f5f"
          },
          "geo": {
           "bgcolor": "white",
           "lakecolor": "white",
           "landcolor": "#E5ECF6",
           "showlakes": true,
           "showland": true,
           "subunitcolor": "white"
          },
          "hoverlabel": {
           "align": "left"
          },
          "hovermode": "closest",
          "mapbox": {
           "style": "light"
          },
          "paper_bgcolor": "white",
          "plot_bgcolor": "#E5ECF6",
          "polar": {
           "angularaxis": {
            "gridcolor": "white",
            "linecolor": "white",
            "ticks": ""
           },
           "bgcolor": "#E5ECF6",
           "radialaxis": {
            "gridcolor": "white",
            "linecolor": "white",
            "ticks": ""
           }
          },
          "scene": {
           "xaxis": {
            "backgroundcolor": "#E5ECF6",
            "gridcolor": "white",
            "gridwidth": 2,
            "linecolor": "white",
            "showbackground": true,
            "ticks": "",
            "zerolinecolor": "white"
           },
           "yaxis": {
            "backgroundcolor": "#E5ECF6",
            "gridcolor": "white",
            "gridwidth": 2,
            "linecolor": "white",
            "showbackground": true,
            "ticks": "",
            "zerolinecolor": "white"
           },
           "zaxis": {
            "backgroundcolor": "#E5ECF6",
            "gridcolor": "white",
            "gridwidth": 2,
            "linecolor": "white",
            "showbackground": true,
            "ticks": "",
            "zerolinecolor": "white"
           }
          },
          "shapedefaults": {
           "line": {
            "color": "#2a3f5f"
           }
          },
          "ternary": {
           "aaxis": {
            "gridcolor": "white",
            "linecolor": "white",
            "ticks": ""
           },
           "baxis": {
            "gridcolor": "white",
            "linecolor": "white",
            "ticks": ""
           },
           "bgcolor": "#E5ECF6",
           "caxis": {
            "gridcolor": "white",
            "linecolor": "white",
            "ticks": ""
           }
          },
          "title": {
           "x": 0.05
          },
          "xaxis": {
           "automargin": true,
           "gridcolor": "white",
           "linecolor": "white",
           "ticks": "",
           "title": {
            "standoff": 15
           },
           "zerolinecolor": "white",
           "zerolinewidth": 2
          },
          "yaxis": {
           "automargin": true,
           "gridcolor": "white",
           "linecolor": "white",
           "ticks": "",
           "title": {
            "standoff": 15
           },
           "zerolinecolor": "white",
           "zerolinewidth": 2
          }
         }
        },
        "width": 600,
        "xaxis": {
         "anchor": "y",
         "autorange": true,
         "domain": [
          0,
          1
         ],
         "range": [
          45.88838268792711,
          320.1116173120729
         ],
         "title": {
          "text": "ncd_ggplot2"
         },
         "type": "linear"
        },
        "yaxis": {
         "anchor": "x",
         "autorange": true,
         "domain": [
          0,
          1
         ],
         "range": [
          45.90196078431373,
          320.0980392156863
         ],
         "title": {
          "text": "ncd_plotly_express"
         },
         "type": "linear"
        }
       }
      },
      "image/png": "[encoded data removed]",
      "text/html": [
       "<div>                            <div id=\"c319839f-f62a-43e4-ba9d-792cd0e98bf5\" class=\"plotly-graph-div\" style=\"height:600px; width:600px;\"></div>            <script type=\"text/javascript\">                require([\"plotly\"], function(Plotly) {                    window.PLOTLYENV=window.PLOTLYENV || {};                                    if (document.getElementById(\"c319839f-f62a-43e4-ba9d-792cd0e98bf5\")) {                    Plotly.newPlot(                        \"c319839f-f62a-43e4-ba9d-792cd0e98bf5\",                        [{\"customdata\":[[\"box\",\"box_day\"],[\"box\",\"box_day_time\"],[\"box\",\"box_time_day\"],[\"box\",\"strip_day\"],[\"box\",\"strip\"],[\"box\",\"strip_time\"],[\"box\",\"box_time\"],[\"box_day\",\"box\"],[\"box_day\",\"box_day_time\"],[\"box_day\",\"box_time_day\"],[\"box_day\",\"strip_day\"],[\"box_day\",\"strip\"],[\"box_day\",\"strip_time\"],[\"box_day\",\"box_time\"],[\"box_day_time\",\"box\"],[\"box_day_time\",\"box_day\"],[\"box_day_time\",\"box_time_day\"],[\"box_day_time\",\"strip_day\"],[\"box_day_time\",\"strip\"],[\"box_day_time\",\"strip_time\"],[\"box_day_time\",\"box_time\"],[\"box_time_day\",\"box\"],[\"box_time_day\",\"box_day\"],[\"box_time_day\",\"box_day_time\"],[\"box_time_day\",\"strip_day\"],[\"box_time_day\",\"strip\"],[\"box_time_day\",\"strip_time\"],[\"box_time_day\",\"box_time\"],[\"strip_day\",\"box\"],[\"strip_day\",\"box_day\"],[\"strip_day\",\"box_day_time\"],[\"strip_day\",\"box_time_day\"],[\"strip_day\",\"strip\"],[\"strip_day\",\"strip_time\"],[\"strip_day\",\"box_time\"],[\"strip\",\"box\"],[\"strip\",\"box_day\"],[\"strip\",\"box_day_time\"],[\"strip\",\"box_time_day\"],[\"strip\",\"strip_day\"],[\"strip\",\"strip_time\"],[\"strip\",\"box_time\"],[\"strip_time\",\"box\"],[\"strip_time\",\"box_day\"],[\"strip_time\",\"box_day_time\"],[\"strip_time\",\"box_time_day\"],[\"strip_time\",\"strip_day\"],[\"strip_time\",\"strip\"],[\"strip_time\",\"box_time\"],[\"box_time\",\"box\"],[\"box_time\",\"box_day\"],[\"box_time\",\"box_day_time\"],[\"box_time\",\"box_time_day\"],[\"box_time\",\"strip_day\"],[\"box_time\",\"strip\"],[\"box_time\",\"strip_time\"]],\"hovertemplate\":\"ncd_ggplot2=%{x}<br>ncd_plotly_express=%{y}<br>from_slug=%{customdata[0]}<br>to_slug=%{customdata[1]}<extra></extra>\",\"legendgroup\":\"\",\"marker\":{\"color\":\"#636efa\",\"symbol\":\"circle\"},\"mode\":\"markers\",\"name\":\"\",\"orientation\":\"v\",\"showlegend\":false,\"x\":[175,276,276,214,108,214,170,175,212,170,119,175,166,97,276,212,85,234,297,191,148,276,170,85,191,297,234,191,214,119,212,212,142,71,142,108,200,297,297,142,142,195,214,166,191,212,71,142,95,170,97,148,191,142,195,95],\"xaxis\":\"x\",\"y\":[128,186,186,179,111,179,128,128,116,139,76,179,128,76,186,116,69,162,232,162,116,209,139,69,162,232,162,139,179,76,162,162,153,76,128,111,179,232,232,128,128,179,179,128,162,162,76,128,76,128,76,116,116,128,179,76],\"yaxis\":\"y\",\"type\":\"scatter\"}],                        {\"template\":{\"data\":{\"histogram2dcontour\":[{\"type\":\"histogram2dcontour\",\"colorbar\":{\"outlinewidth\":0,\"ticks\":\"\"},\"colorscale\":[[0.0,\"#0d0887\"],[0.1111111111111111,\"#46039f\"],[0.2222222222222222,\"#7201a8\"],[0.3333333333333333,\"#9c179e\"],[0.4444444444444444,\"#bd3786\"],[0.5555555555555556,\"#d8576b\"],[0.6666666666666666,\"#ed7953\"],[0.7777777777777778,\"#fb9f3a\"],[0.8888888888888888,\"#fdca26\"],[1.0,\"#f0f921\"]]}],\"choropleth\":[{\"type\":\"choropleth\",\"colorbar\":{\"outlinewidth\":0,\"ticks\":\"\"}}],\"histogram2d\":[{\"type\":\"histogram2d\",\"colorbar\":{\"outlinewidth\":0,\"ticks\":\"\"},\"colorscale\":[[0.0,\"#0d0887\"],[0.1111111111111111,\"#46039f\"],[0.2222222222222222,\"#7201a8\"],[0.3333333333333333,\"#9c179e\"],[0.4444444444444444,\"#bd3786\"],[0.5555555555555556,\"#d8576b\"],[0.6666666666666666,\"#ed7953\"],[0.7777777777777778,\"#fb9f3a\"],[0.8888888888888888,\"#fdca26\"],[1.0,\"#f0f921\"]]}],\"heatmap\":[{\"type\":\"heatmap\",\"colorbar\":{\"outlinewidth\":0,\"ticks\":\"\"},\"colorscale\":[[0.0,\"#0d0887\"],[0.1111111111111111,\"#46039f\"],[0.2222222222222222,\"#7201a8\"],[0.3333333333333333,\"#9c179e\"],[0.4444444444444444,\"#bd3786\"],[0.5555555555555556,\"#d8576b\"],[0.6666666666666666,\"#ed7953\"],[0.7777777777777778,\"#fb9f3a\"],[0.8888888888888888,\"#fdca26\"],[1.0,\"#f0f921\"]]}],\"heatmapgl\":[{\"type\":\"heatmapgl\",\"colorbar\":{\"outlinewidth\":0,\"ticks\":\"\"},\"colorscale\":[[0.0,\"#0d0887\"],[0.1111111111111111,\"#46039f\"],[0.2222222222222222,\"#7201a8\"],[0.3333333333333333,\"#9c179e\"],[0.4444444444444444,\"#bd3786\"],[0.5555555555555556,\"#d8576b\"],[0.6666666666666666,\"#ed7953\"],[0.7777777777777778,\"#fb9f3a\"],[0.8888888888888888,\"#fdca26\"],[1.0,\"#f0f921\"]]}],\"contourcarpet\":[{\"type\":\"contourcarpet\",\"colorbar\":{\"outlinewidth\":0,\"ticks\":\"\"}}],\"contour\":[{\"type\":\"contour\",\"colorbar\":{\"outlinewidth\":0,\"ticks\":\"\"},\"colorscale\":[[0.0,\"#0d0887\"],[0.1111111111111111,\"#46039f\"],[0.2222222222222222,\"#7201a8\"],[0.3333333333333333,\"#9c179e\"],[0.4444444444444444,\"#bd3786\"],[0.5555555555555556,\"#d8576b\"],[0.6666666666666666,\"#ed7953\"],[0.7777777777777778,\"#fb9f3a\"],[0.8888888888888888,\"#fdca26\"],[1.0,\"#f0f921\"]]}],\"surface\":[{\"type\":\"surface\",\"colorbar\":{\"outlinewidth\":0,\"ticks\":\"\"},\"colorscale\":[[0.0,\"#0d0887\"],[0.1111111111111111,\"#46039f\"],[0.2222222222222222,\"#7201a8\"],[0.3333333333333333,\"#9c179e\"],[0.4444444444444444,\"#bd3786\"],[0.5555555555555556,\"#d8576b\"],[0.6666666666666666,\"#ed7953\"],[0.7777777777777778,\"#fb9f3a\"],[0.8888888888888888,\"#fdca26\"],[1.0,\"#f0f921\"]]}],\"mesh3d\":[{\"type\":\"mesh3d\",\"colorbar\":{\"outlinewidth\":0,\"ticks\":\"\"}}],\"scatter\":[{\"fillpattern\":{\"fillmode\":\"overlay\",\"size\":10,\"solidity\":0.2},\"type\":\"scatter\"}],\"parcoords\":[{\"type\":\"parcoords\",\"line\":{\"colorbar\":{\"outlinewidth\":0,\"ticks\":\"\"}}}],\"scatterpolargl\":[{\"type\":\"scatterpolargl\",\"marker\":{\"colorbar\":{\"outlinewidth\":0,\"ticks\":\"\"}}}],\"bar\":[{\"error_x\":{\"color\":\"#2a3f5f\"},\"error_y\":{\"color\":\"#2a3f5f\"},\"marker\":{\"line\":{\"color\":\"#E5ECF6\",\"width\":0.5},\"pattern\":{\"fillmode\":\"overlay\",\"size\":10,\"solidity\":0.2}},\"type\":\"bar\"}],\"scattergeo\":[{\"type\":\"scattergeo\",\"marker\":{\"colorbar\":{\"outlinewidth\":0,\"ticks\":\"\"}}}],\"scatterpolar\":[{\"type\":\"scatterpolar\",\"marker\":{\"colorbar\":{\"outlinewidth\":0,\"ticks\":\"\"}}}],\"histogram\":[{\"marker\":{\"pattern\":{\"fillmode\":\"overlay\",\"size\":10,\"solidity\":0.2}},\"type\":\"histogram\"}],\"scattergl\":[{\"type\":\"scattergl\",\"marker\":{\"colorbar\":{\"outlinewidth\":0,\"ticks\":\"\"}}}],\"scatter3d\":[{\"type\":\"scatter3d\",\"line\":{\"colorbar\":{\"outlinewidth\":0,\"ticks\":\"\"}},\"marker\":{\"colorbar\":{\"outlinewidth\":0,\"ticks\":\"\"}}}],\"scattermapbox\":[{\"type\":\"scattermapbox\",\"marker\":{\"colorbar\":{\"outlinewidth\":0,\"ticks\":\"\"}}}],\"scatterternary\":[{\"type\":\"scatterternary\",\"marker\":{\"colorbar\":{\"outlinewidth\":0,\"ticks\":\"\"}}}],\"scattercarpet\":[{\"type\":\"scattercarpet\",\"marker\":{\"colorbar\":{\"outlinewidth\":0,\"ticks\":\"\"}}}],\"carpet\":[{\"aaxis\":{\"endlinecolor\":\"#2a3f5f\",\"gridcolor\":\"white\",\"linecolor\":\"white\",\"minorgridcolor\":\"white\",\"startlinecolor\":\"#2a3f5f\"},\"baxis\":{\"endlinecolor\":\"#2a3f5f\",\"gridcolor\":\"white\",\"linecolor\":\"white\",\"minorgridcolor\":\"white\",\"startlinecolor\":\"#2a3f5f\"},\"type\":\"carpet\"}],\"table\":[{\"cells\":{\"fill\":{\"color\":\"#EBF0F8\"},\"line\":{\"color\":\"white\"}},\"header\":{\"fill\":{\"color\":\"#C8D4E3\"},\"line\":{\"color\":\"white\"}},\"type\":\"table\"}],\"barpolar\":[{\"marker\":{\"line\":{\"color\":\"#E5ECF6\",\"width\":0.5},\"pattern\":{\"fillmode\":\"overlay\",\"size\":10,\"solidity\":0.2}},\"type\":\"barpolar\"}],\"pie\":[{\"automargin\":true,\"type\":\"pie\"}]},\"layout\":{\"autotypenumbers\":\"strict\",\"colorway\":[\"#636efa\",\"#EF553B\",\"#00cc96\",\"#ab63fa\",\"#FFA15A\",\"#19d3f3\",\"#FF6692\",\"#B6E880\",\"#FF97FF\",\"#FECB52\"],\"font\":{\"color\":\"#2a3f5f\"},\"hovermode\":\"closest\",\"hoverlabel\":{\"align\":\"left\"},\"paper_bgcolor\":\"white\",\"plot_bgcolor\":\"#E5ECF6\",\"polar\":{\"bgcolor\":\"#E5ECF6\",\"angularaxis\":{\"gridcolor\":\"white\",\"linecolor\":\"white\",\"ticks\":\"\"},\"radialaxis\":{\"gridcolor\":\"white\",\"linecolor\":\"white\",\"ticks\":\"\"}},\"ternary\":{\"bgcolor\":\"#E5ECF6\",\"aaxis\":{\"gridcolor\":\"white\",\"linecolor\":\"white\",\"ticks\":\"\"},\"baxis\":{\"gridcolor\":\"white\",\"linecolor\":\"white\",\"ticks\":\"\"},\"caxis\":{\"gridcolor\":\"white\",\"linecolor\":\"white\",\"ticks\":\"\"}},\"coloraxis\":{\"colorbar\":{\"outlinewidth\":0,\"ticks\":\"\"}},\"colorscale\":{\"sequential\":[[0.0,\"#0d0887\"],[0.1111111111111111,\"#46039f\"],[0.2222222222222222,\"#7201a8\"],[0.3333333333333333,\"#9c179e\"],[0.4444444444444444,\"#bd3786\"],[0.5555555555555556,\"#d8576b\"],[0.6666666666666666,\"#ed7953\"],[0.7777777777777778,\"#fb9f3a\"],[0.8888888888888888,\"#fdca26\"],[1.0,\"#f0f921\"]],\"sequentialminus\":[[0.0,\"#0d0887\"],[0.1111111111111111,\"#46039f\"],[0.2222222222222222,\"#7201a8\"],[0.3333333333333333,\"#9c179e\"],[0.4444444444444444,\"#bd3786\"],[0.5555555555555556,\"#d8576b\"],[0.6666666666666666,\"#ed7953\"],[0.7777777777777778,\"#fb9f3a\"],[0.8888888888888888,\"#fdca26\"],[1.0,\"#f0f921\"]],\"diverging\":[[0,\"#8e0152\"],[0.1,\"#c51b7d\"],[0.2,\"#de77ae\"],[0.3,\"#f1b6da\"],[0.4,\"#fde0ef\"],[0.5,\"#f7f7f7\"],[0.6,\"#e6f5d0\"],[0.7,\"#b8e186\"],[0.8,\"#7fbc41\"],[0.9,\"#4d9221\"],[1,\"#276419\"]]},\"xaxis\":{\"gridcolor\":\"white\",\"linecolor\":\"white\",\"ticks\":\"\",\"title\":{\"standoff\":15},\"zerolinecolor\":\"white\",\"automargin\":true,\"zerolinewidth\":2},\"yaxis\":{\"gridcolor\":\"white\",\"linecolor\":\"white\",\"ticks\":\"\",\"title\":{\"standoff\":15},\"zerolinecolor\":\"white\",\"automargin\":true,\"zerolinewidth\":2},\"scene\":{\"xaxis\":{\"backgroundcolor\":\"#E5ECF6\",\"gridcolor\":\"white\",\"linecolor\":\"white\",\"showbackground\":true,\"ticks\":\"\",\"zerolinecolor\":\"white\",\"gridwidth\":2},\"yaxis\":{\"backgroundcolor\":\"#E5ECF6\",\"gridcolor\":\"white\",\"linecolor\":\"white\",\"showbackground\":true,\"ticks\":\"\",\"zerolinecolor\":\"white\",\"gridwidth\":2},\"zaxis\":{\"backgroundcolor\":\"#E5ECF6\",\"gridcolor\":\"white\",\"linecolor\":\"white\",\"showbackground\":true,\"ticks\":\"\",\"zerolinecolor\":\"white\",\"gridwidth\":2}},\"shapedefaults\":{\"line\":{\"color\":\"#2a3f5f\"}},\"annotationdefaults\":{\"arrowcolor\":\"#2a3f5f\",\"arrowhead\":0,\"arrowwidth\":1},\"geo\":{\"bgcolor\":\"white\",\"landcolor\":\"#E5ECF6\",\"subunitcolor\":\"white\",\"showland\":true,\"showlakes\":true,\"lakecolor\":\"white\"},\"title\":{\"x\":0.05},\"mapbox\":{\"style\":\"light\"}}},\"xaxis\":{\"anchor\":\"y\",\"domain\":[0.0,1.0],\"title\":{\"text\":\"ncd_ggplot2\"}},\"yaxis\":{\"anchor\":\"x\",\"domain\":[0.0,1.0],\"title\":{\"text\":\"ncd_plotly_express\"}},\"legend\":{\"tracegroupgap\":0},\"margin\":{\"t\":60},\"height\":600,\"width\":600,\"shapes\":[{\"line\":{\"color\":\"white\",\"width\":1},\"type\":\"line\",\"x0\":46.2,\"x1\":319.8,\"y0\":46.2,\"y1\":319.8}]},                        {\"responsive\": true}                    ).then(function(){\n",
       "                            \n",
       "var gd = document.getElementById('c319839f-f62a-43e4-ba9d-792cd0e98bf5');\n",
       "var x = new MutationObserver(function (mutations, observer) {{\n",
       "        var display = window.getComputedStyle(gd).display;\n",
       "        if (!display || display === 'none') {{\n",
       "            console.log([gd, 'removed!']);\n",
       "            Plotly.purge(gd);\n",
       "            observer.disconnect();\n",
       "        }}\n",
       "}});\n",
       "\n",
       "// Listen for the removal of the full notebook cells\n",
       "var notebookContainer = gd.closest('#notebook-container');\n",
       "if (notebookContainer) {{\n",
       "    x.observe(notebookContainer, {childList: true});\n",
       "}}\n",
       "\n",
       "// Listen for the clearing of the current output cell\n",
       "var outputEl = gd.closest('.output');\n",
       "if (outputEl) {{\n",
       "    x.observe(outputEl, {childList: true});\n",
       "}}\n",
       "\n",
       "                        })                };                });            </script>        </div>"
      ]
     },
     "metadata": {},
     "output_type": "display_data"
    }
   ],
   "source": [
    "from src.distances import load_distances\n",
    "import plotly.express as px\n",
    "\n",
    "\n",
    "df = load_distances()\n",
    "\n",
    "notation1 = \"ggplot2\"\n",
    "notation2 = \"plotly_express\"\n",
    "distance1 = \"ncd\"\n",
    "distance2 = \"ncd\"\n",
    "\n",
    "merged = pd.merge(df.query(f\"study=='basic' and notation=='{notation1}'\")[[\"from_slug\", \"to_slug\", distance1]], \n",
    "                  df.query(f\"study=='basic' and notation=='{notation2}'\")[[\"from_slug\", \"to_slug\", distance2]], \n",
    "                  on=[\"from_slug\", \"to_slug\"], suffixes=[\"_\" + notation1, \"_\"+ notation2])\n",
    "\n",
    "x= distance1+\"_\"+notation1\n",
    "y= distance2+\"_\"+notation2\n",
    "fig = px.scatter(merged, x=x, y=y,\n",
    "                 hover_data=merged.columns, width=600, height=600)\n",
    "\n",
    "if distance1 == distance2:\n",
    "    the_min = min(merged[x].min(), merged[y].min())\n",
    "    the_max = max(merged[x].max(), merged[y].max())\n",
    "    stretch = 0.1*(the_max-the_min)\n",
    "    fig.add_shape(type=\"line\", line=dict(color=\"white\", width=1),\n",
    "                  x0=the_min-stretch, y0=the_min-stretch,\n",
    "                  x1=the_max+stretch, y1=the_max+stretch)\n"
   ]
  },
  {
   "cell_type": "code",
   "execution_count": 21,
   "id": "b7d6fef9-84c0-4063-ae9f-9ca2313ea45c",
   "metadata": {},
   "outputs": [
    {
     "data": {
      "application/vnd.plotly.v1+json": {
       "config": {
        "plotlyServerURL": "https://plotly.com"
       },
       "data": [
        {
         "customdata": [
          [
           "box",
           "box_day",
           175,
           128.2051282051282
          ],
          [
           "box",
           "box_day_time",
           276.59574468085106,
           186.04651162790697
          ],
          [
           "box",
           "box_time_day",
           276.59574468085106,
           186.04651162790697
          ],
          [
           "box",
           "strip_day",
           214.28571428571428,
           179.48717948717947
          ],
          [
           "box",
           "strip",
           108.10810810810811,
           111.11111111111111
          ],
          [
           "box",
           "strip_time",
           214.28571428571428,
           179.48717948717947
          ],
          [
           "box",
           "box_time",
           170.73170731707316,
           128.2051282051282
          ],
          [
           "box_day",
           "box",
           175,
           128.2051282051282
          ],
          [
           "box_day",
           "box_day_time",
           212.7659574468085,
           116.27906976744185
          ],
          [
           "box_day",
           "box_time_day",
           170.2127659574468,
           139.53488372093022
          ],
          [
           "box_day",
           "strip_day",
           119.04761904761905,
           76.92307692307692
          ],
          [
           "box_day",
           "strip",
           175,
           179.48717948717947
          ],
          [
           "box_day",
           "strip_time",
           166.66666666666666,
           128.2051282051282
          ],
          [
           "box_day",
           "box_time",
           97.5609756097561,
           76.92307692307692
          ],
          [
           "box_day_time",
           "box",
           276.59574468085106,
           186.04651162790697
          ],
          [
           "box_day_time",
           "box_day",
           212.7659574468085,
           116.27906976744185
          ],
          [
           "box_day_time",
           "box_time_day",
           85.1063829787234,
           69.76744186046511
          ],
          [
           "box_day_time",
           "strip_day",
           234.04255319148936,
           162.7906976744186
          ],
          [
           "box_day_time",
           "strip",
           297.8723404255319,
           232.5581395348837
          ],
          [
           "box_day_time",
           "strip_time",
           191.48936170212767,
           162.7906976744186
          ],
          [
           "box_day_time",
           "box_time",
           148.93617021276594,
           116.27906976744185
          ],
          [
           "box_time_day",
           "box",
           276.59574468085106,
           209.30232558139534
          ],
          [
           "box_time_day",
           "box_day",
           170.2127659574468,
           139.53488372093022
          ],
          [
           "box_time_day",
           "box_day_time",
           85.1063829787234,
           69.76744186046511
          ],
          [
           "box_time_day",
           "strip_day",
           191.48936170212767,
           162.7906976744186
          ],
          [
           "box_time_day",
           "strip",
           297.8723404255319,
           232.5581395348837
          ],
          [
           "box_time_day",
           "strip_time",
           234.04255319148936,
           162.7906976744186
          ],
          [
           "box_time_day",
           "box_time",
           191.48936170212767,
           139.53488372093022
          ],
          [
           "strip_day",
           "box",
           214.28571428571428,
           179.48717948717947
          ],
          [
           "strip_day",
           "box_day",
           119.04761904761905,
           76.92307692307692
          ],
          [
           "strip_day",
           "box_day_time",
           212.7659574468085,
           162.7906976744186
          ],
          [
           "strip_day",
           "box_time_day",
           212.7659574468085,
           162.7906976744186
          ],
          [
           "strip_day",
           "strip",
           142.85714285714286,
           153.84615384615384
          ],
          [
           "strip_day",
           "strip_time",
           71.42857142857143,
           76.92307692307692
          ],
          [
           "strip_day",
           "box_time",
           142.85714285714286,
           128.2051282051282
          ],
          [
           "strip",
           "box",
           108.10810810810811,
           111.11111111111111
          ],
          [
           "strip",
           "box_day",
           200,
           179.48717948717947
          ],
          [
           "strip",
           "box_day_time",
           297.8723404255319,
           232.5581395348837
          ],
          [
           "strip",
           "box_time_day",
           297.8723404255319,
           232.5581395348837
          ],
          [
           "strip",
           "strip_day",
           142.85714285714286,
           128.2051282051282
          ],
          [
           "strip",
           "strip_time",
           142.85714285714286,
           128.2051282051282
          ],
          [
           "strip",
           "box_time",
           195.1219512195122,
           179.48717948717947
          ],
          [
           "strip_time",
           "box",
           214.28571428571428,
           179.48717948717947
          ],
          [
           "strip_time",
           "box_day",
           166.66666666666666,
           128.2051282051282
          ],
          [
           "strip_time",
           "box_day_time",
           191.48936170212767,
           162.7906976744186
          ],
          [
           "strip_time",
           "box_time_day",
           212.7659574468085,
           162.7906976744186
          ],
          [
           "strip_time",
           "strip_day",
           71.42857142857143,
           76.92307692307692
          ],
          [
           "strip_time",
           "strip",
           142.85714285714286,
           128.2051282051282
          ],
          [
           "strip_time",
           "box_time",
           95.23809523809524,
           76.92307692307692
          ],
          [
           "box_time",
           "box",
           170.73170731707316,
           128.2051282051282
          ],
          [
           "box_time",
           "box_day",
           97.5609756097561,
           76.92307692307692
          ],
          [
           "box_time",
           "box_day_time",
           148.93617021276594,
           116.27906976744185
          ],
          [
           "box_time",
           "box_time_day",
           191.48936170212767,
           116.27906976744185
          ],
          [
           "box_time",
           "strip_day",
           142.85714285714286,
           128.2051282051282
          ],
          [
           "box_time",
           "strip",
           195.1219512195122,
           179.48717948717947
          ],
          [
           "box_time",
           "strip_time",
           95.23809523809524,
           76.92307692307692
          ]
         ],
         "hovertemplate": "ncd_diff=%{x}<br>ncd_mean=%{y}<br>from_slug=%{customdata[0]}<br>to_slug=%{customdata[1]}<br>ncd_gg=%{customdata[2]}<br>ncd_px=%{customdata[3]}<extra></extra>",
         "legendgroup": "",
         "marker": {
          "color": "#636efa",
          "symbol": "circle"
         },
         "mode": "markers",
         "name": "",
         "orientation": "v",
         "showlegend": false,
         "type": "scatter",
         "x": [
          46.794871794871796,
          90.54923305294409,
          90.54923305294409,
          34.7985347985348,
          -3.003003003003002,
          34.7985347985348,
          42.526579111944955,
          46.794871794871796,
          96.48688767936665,
          30.67788223651658,
          42.12454212454213,
          -4.487179487179475,
          38.46153846153845,
          20.63789868667918,
          90.54923305294409,
          96.48688767936665,
          15.33894111825829,
          71.25185551707077,
          65.31420089064818,
          28.69866402770907,
          32.65710044532409,
          67.29341909945572,
          30.67788223651658,
          15.33894111825829,
          28.69866402770907,
          65.31420089064818,
          71.25185551707077,
          51.95447798119744,
          34.7985347985348,
          42.12454212454213,
          49.975259772389904,
          49.975259772389904,
          -10.989010989010978,
          -5.494505494505489,
          14.652014652014657,
          -3.003003003003002,
          20.512820512820525,
          65.31420089064818,
          65.31420089064818,
          14.652014652014657,
          14.652014652014657,
          15.634771732332723,
          34.7985347985348,
          38.46153846153845,
          28.69866402770907,
          49.975259772389904,
          -5.494505494505489,
          14.652014652014657,
          18.31501831501832,
          42.526579111944955,
          20.63789868667918,
          32.65710044532409,
          75.21029193468581,
          14.652014652014657,
          15.634771732332723,
          18.31501831501832
         ],
         "xaxis": "x",
         "y": [
          151.6025641025641,
          231.321128154379,
          231.321128154379,
          196.8864468864469,
          109.6096096096096,
          196.8864468864469,
          149.46841776110068,
          151.6025641025641,
          164.52251360712518,
          154.8738248391885,
          97.98534798534799,
          177.24358974358972,
          147.43589743589743,
          87.2420262664165,
          231.321128154379,
          164.52251360712518,
          77.43691241959425,
          198.416625432954,
          265.2152399802078,
          177.14002968827313,
          132.6076199901039,
          242.9490351311232,
          154.8738248391885,
          77.43691241959425,
          177.14002968827313,
          265.2152399802078,
          198.416625432954,
          165.51212271152895,
          196.8864468864469,
          97.98534798534799,
          187.77832756061355,
          187.77832756061355,
          148.35164835164835,
          74.17582417582418,
          135.53113553113553,
          109.6096096096096,
          189.74358974358972,
          265.2152399802078,
          265.2152399802078,
          135.53113553113553,
          135.53113553113553,
          187.30456535334582,
          196.8864468864469,
          147.43589743589743,
          177.14002968827313,
          187.77832756061355,
          74.17582417582418,
          135.53113553113553,
          86.08058608058607,
          149.46841776110068,
          87.2420262664165,
          132.6076199901039,
          153.88421573478476,
          135.53113553113553,
          187.30456535334582,
          86.08058608058607
         ],
         "yaxis": "y"
        }
       ],
       "layout": {
        "annotations": [
         {
          "showarrow": false,
          "text": "< more PX ... more ggplot >",
          "x": 0,
          "xanchor": "center",
          "xref": "x",
          "y": 1,
          "yanchor": "bottom",
          "yref": "y domain"
         }
        ],
        "autosize": true,
        "legend": {
         "tracegroupgap": 0
        },
        "margin": {
         "t": 60
        },
        "shapes": [
         {
          "type": "line",
          "x0": 0,
          "x1": 0,
          "xref": "x",
          "y0": 0,
          "y1": 1,
          "yref": "y domain"
         },
         {
          "type": "line",
          "x0": 37.60171541213955,
          "x1": 37.60171541213955,
          "xref": "x",
          "y0": 0,
          "y1": 1,
          "yref": "y domain"
         }
        ],
        "template": {
         "data": {
          "bar": [
           {
            "error_x": {
             "color": "#2a3f5f"
            },
            "error_y": {
             "color": "#2a3f5f"
            },
            "marker": {
             "line": {
              "color": "#E5ECF6",
              "width": 0.5
             },
             "pattern": {
              "fillmode": "overlay",
              "size": 10,
              "solidity": 0.2
             }
            },
            "type": "bar"
           }
          ],
          "barpolar": [
           {
            "marker": {
             "line": {
              "color": "#E5ECF6",
              "width": 0.5
             },
             "pattern": {
              "fillmode": "overlay",
              "size": 10,
              "solidity": 0.2
             }
            },
            "type": "barpolar"
           }
          ],
          "carpet": [
           {
            "aaxis": {
             "endlinecolor": "#2a3f5f",
             "gridcolor": "white",
             "linecolor": "white",
             "minorgridcolor": "white",
             "startlinecolor": "#2a3f5f"
            },
            "baxis": {
             "endlinecolor": "#2a3f5f",
             "gridcolor": "white",
             "linecolor": "white",
             "minorgridcolor": "white",
             "startlinecolor": "#2a3f5f"
            },
            "type": "carpet"
           }
          ],
          "choropleth": [
           {
            "colorbar": {
             "outlinewidth": 0,
             "ticks": ""
            },
            "type": "choropleth"
           }
          ],
          "contour": [
           {
            "colorbar": {
             "outlinewidth": 0,
             "ticks": ""
            },
            "colorscale": [
             [
              0,
              "#0d0887"
             ],
             [
              0.1111111111111111,
              "#46039f"
             ],
             [
              0.2222222222222222,
              "#7201a8"
             ],
             [
              0.3333333333333333,
              "#9c179e"
             ],
             [
              0.4444444444444444,
              "#bd3786"
             ],
             [
              0.5555555555555556,
              "#d8576b"
             ],
             [
              0.6666666666666666,
              "#ed7953"
             ],
             [
              0.7777777777777778,
              "#fb9f3a"
             ],
             [
              0.8888888888888888,
              "#fdca26"
             ],
             [
              1,
              "#f0f921"
             ]
            ],
            "type": "contour"
           }
          ],
          "contourcarpet": [
           {
            "colorbar": {
             "outlinewidth": 0,
             "ticks": ""
            },
            "type": "contourcarpet"
           }
          ],
          "heatmap": [
           {
            "colorbar": {
             "outlinewidth": 0,
             "ticks": ""
            },
            "colorscale": [
             [
              0,
              "#0d0887"
             ],
             [
              0.1111111111111111,
              "#46039f"
             ],
             [
              0.2222222222222222,
              "#7201a8"
             ],
             [
              0.3333333333333333,
              "#9c179e"
             ],
             [
              0.4444444444444444,
              "#bd3786"
             ],
             [
              0.5555555555555556,
              "#d8576b"
             ],
             [
              0.6666666666666666,
              "#ed7953"
             ],
             [
              0.7777777777777778,
              "#fb9f3a"
             ],
             [
              0.8888888888888888,
              "#fdca26"
             ],
             [
              1,
              "#f0f921"
             ]
            ],
            "type": "heatmap"
           }
          ],
          "heatmapgl": [
           {
            "colorbar": {
             "outlinewidth": 0,
             "ticks": ""
            },
            "colorscale": [
             [
              0,
              "#0d0887"
             ],
             [
              0.1111111111111111,
              "#46039f"
             ],
             [
              0.2222222222222222,
              "#7201a8"
             ],
             [
              0.3333333333333333,
              "#9c179e"
             ],
             [
              0.4444444444444444,
              "#bd3786"
             ],
             [
              0.5555555555555556,
              "#d8576b"
             ],
             [
              0.6666666666666666,
              "#ed7953"
             ],
             [
              0.7777777777777778,
              "#fb9f3a"
             ],
             [
              0.8888888888888888,
              "#fdca26"
             ],
             [
              1,
              "#f0f921"
             ]
            ],
            "type": "heatmapgl"
           }
          ],
          "histogram": [
           {
            "marker": {
             "pattern": {
              "fillmode": "overlay",
              "size": 10,
              "solidity": 0.2
             }
            },
            "type": "histogram"
           }
          ],
          "histogram2d": [
           {
            "colorbar": {
             "outlinewidth": 0,
             "ticks": ""
            },
            "colorscale": [
             [
              0,
              "#0d0887"
             ],
             [
              0.1111111111111111,
              "#46039f"
             ],
             [
              0.2222222222222222,
              "#7201a8"
             ],
             [
              0.3333333333333333,
              "#9c179e"
             ],
             [
              0.4444444444444444,
              "#bd3786"
             ],
             [
              0.5555555555555556,
              "#d8576b"
             ],
             [
              0.6666666666666666,
              "#ed7953"
             ],
             [
              0.7777777777777778,
              "#fb9f3a"
             ],
             [
              0.8888888888888888,
              "#fdca26"
             ],
             [
              1,
              "#f0f921"
             ]
            ],
            "type": "histogram2d"
           }
          ],
          "histogram2dcontour": [
           {
            "colorbar": {
             "outlinewidth": 0,
             "ticks": ""
            },
            "colorscale": [
             [
              0,
              "#0d0887"
             ],
             [
              0.1111111111111111,
              "#46039f"
             ],
             [
              0.2222222222222222,
              "#7201a8"
             ],
             [
              0.3333333333333333,
              "#9c179e"
             ],
             [
              0.4444444444444444,
              "#bd3786"
             ],
             [
              0.5555555555555556,
              "#d8576b"
             ],
             [
              0.6666666666666666,
              "#ed7953"
             ],
             [
              0.7777777777777778,
              "#fb9f3a"
             ],
             [
              0.8888888888888888,
              "#fdca26"
             ],
             [
              1,
              "#f0f921"
             ]
            ],
            "type": "histogram2dcontour"
           }
          ],
          "mesh3d": [
           {
            "colorbar": {
             "outlinewidth": 0,
             "ticks": ""
            },
            "type": "mesh3d"
           }
          ],
          "parcoords": [
           {
            "line": {
             "colorbar": {
              "outlinewidth": 0,
              "ticks": ""
             }
            },
            "type": "parcoords"
           }
          ],
          "pie": [
           {
            "automargin": true,
            "type": "pie"
           }
          ],
          "scatter": [
           {
            "fillpattern": {
             "fillmode": "overlay",
             "size": 10,
             "solidity": 0.2
            },
            "type": "scatter"
           }
          ],
          "scatter3d": [
           {
            "line": {
             "colorbar": {
              "outlinewidth": 0,
              "ticks": ""
             }
            },
            "marker": {
             "colorbar": {
              "outlinewidth": 0,
              "ticks": ""
             }
            },
            "type": "scatter3d"
           }
          ],
          "scattercarpet": [
           {
            "marker": {
             "colorbar": {
              "outlinewidth": 0,
              "ticks": ""
             }
            },
            "type": "scattercarpet"
           }
          ],
          "scattergeo": [
           {
            "marker": {
             "colorbar": {
              "outlinewidth": 0,
              "ticks": ""
             }
            },
            "type": "scattergeo"
           }
          ],
          "scattergl": [
           {
            "marker": {
             "colorbar": {
              "outlinewidth": 0,
              "ticks": ""
             }
            },
            "type": "scattergl"
           }
          ],
          "scattermapbox": [
           {
            "marker": {
             "colorbar": {
              "outlinewidth": 0,
              "ticks": ""
             }
            },
            "type": "scattermapbox"
           }
          ],
          "scatterpolar": [
           {
            "marker": {
             "colorbar": {
              "outlinewidth": 0,
              "ticks": ""
             }
            },
            "type": "scatterpolar"
           }
          ],
          "scatterpolargl": [
           {
            "marker": {
             "colorbar": {
              "outlinewidth": 0,
              "ticks": ""
             }
            },
            "type": "scatterpolargl"
           }
          ],
          "scatterternary": [
           {
            "marker": {
             "colorbar": {
              "outlinewidth": 0,
              "ticks": ""
             }
            },
            "type": "scatterternary"
           }
          ],
          "surface": [
           {
            "colorbar": {
             "outlinewidth": 0,
             "ticks": ""
            },
            "colorscale": [
             [
              0,
              "#0d0887"
             ],
             [
              0.1111111111111111,
              "#46039f"
             ],
             [
              0.2222222222222222,
              "#7201a8"
             ],
             [
              0.3333333333333333,
              "#9c179e"
             ],
             [
              0.4444444444444444,
              "#bd3786"
             ],
             [
              0.5555555555555556,
              "#d8576b"
             ],
             [
              0.6666666666666666,
              "#ed7953"
             ],
             [
              0.7777777777777778,
              "#fb9f3a"
             ],
             [
              0.8888888888888888,
              "#fdca26"
             ],
             [
              1,
              "#f0f921"
             ]
            ],
            "type": "surface"
           }
          ],
          "table": [
           {
            "cells": {
             "fill": {
              "color": "#EBF0F8"
             },
             "line": {
              "color": "white"
             }
            },
            "header": {
             "fill": {
              "color": "#C8D4E3"
             },
             "line": {
              "color": "white"
             }
            },
            "type": "table"
           }
          ]
         },
         "layout": {
          "annotationdefaults": {
           "arrowcolor": "#2a3f5f",
           "arrowhead": 0,
           "arrowwidth": 1
          },
          "autotypenumbers": "strict",
          "coloraxis": {
           "colorbar": {
            "outlinewidth": 0,
            "ticks": ""
           }
          },
          "colorscale": {
           "diverging": [
            [
             0,
             "#8e0152"
            ],
            [
             0.1,
             "#c51b7d"
            ],
            [
             0.2,
             "#de77ae"
            ],
            [
             0.3,
             "#f1b6da"
            ],
            [
             0.4,
             "#fde0ef"
            ],
            [
             0.5,
             "#f7f7f7"
            ],
            [
             0.6,
             "#e6f5d0"
            ],
            [
             0.7,
             "#b8e186"
            ],
            [
             0.8,
             "#7fbc41"
            ],
            [
             0.9,
             "#4d9221"
            ],
            [
             1,
             "#276419"
            ]
           ],
           "sequential": [
            [
             0,
             "#0d0887"
            ],
            [
             0.1111111111111111,
             "#46039f"
            ],
            [
             0.2222222222222222,
             "#7201a8"
            ],
            [
             0.3333333333333333,
             "#9c179e"
            ],
            [
             0.4444444444444444,
             "#bd3786"
            ],
            [
             0.5555555555555556,
             "#d8576b"
            ],
            [
             0.6666666666666666,
             "#ed7953"
            ],
            [
             0.7777777777777778,
             "#fb9f3a"
            ],
            [
             0.8888888888888888,
             "#fdca26"
            ],
            [
             1,
             "#f0f921"
            ]
           ],
           "sequentialminus": [
            [
             0,
             "#0d0887"
            ],
            [
             0.1111111111111111,
             "#46039f"
            ],
            [
             0.2222222222222222,
             "#7201a8"
            ],
            [
             0.3333333333333333,
             "#9c179e"
            ],
            [
             0.4444444444444444,
             "#bd3786"
            ],
            [
             0.5555555555555556,
             "#d8576b"
            ],
            [
             0.6666666666666666,
             "#ed7953"
            ],
            [
             0.7777777777777778,
             "#fb9f3a"
            ],
            [
             0.8888888888888888,
             "#fdca26"
            ],
            [
             1,
             "#f0f921"
            ]
           ]
          },
          "colorway": [
           "#636efa",
           "#EF553B",
           "#00cc96",
           "#ab63fa",
           "#FFA15A",
           "#19d3f3",
           "#FF6692",
           "#B6E880",
           "#FF97FF",
           "#FECB52"
          ],
          "font": {
           "color": "#2a3f5f"
          },
          "geo": {
           "bgcolor": "white",
           "lakecolor": "white",
           "landcolor": "#E5ECF6",
           "showlakes": true,
           "showland": true,
           "subunitcolor": "white"
          },
          "hoverlabel": {
           "align": "left"
          },
          "hovermode": "closest",
          "mapbox": {
           "style": "light"
          },
          "paper_bgcolor": "white",
          "plot_bgcolor": "#E5ECF6",
          "polar": {
           "angularaxis": {
            "gridcolor": "white",
            "linecolor": "white",
            "ticks": ""
           },
           "bgcolor": "#E5ECF6",
           "radialaxis": {
            "gridcolor": "white",
            "linecolor": "white",
            "ticks": ""
           }
          },
          "scene": {
           "xaxis": {
            "backgroundcolor": "#E5ECF6",
            "gridcolor": "white",
            "gridwidth": 2,
            "linecolor": "white",
            "showbackground": true,
            "ticks": "",
            "zerolinecolor": "white"
           },
           "yaxis": {
            "backgroundcolor": "#E5ECF6",
            "gridcolor": "white",
            "gridwidth": 2,
            "linecolor": "white",
            "showbackground": true,
            "ticks": "",
            "zerolinecolor": "white"
           },
           "zaxis": {
            "backgroundcolor": "#E5ECF6",
            "gridcolor": "white",
            "gridwidth": 2,
            "linecolor": "white",
            "showbackground": true,
            "ticks": "",
            "zerolinecolor": "white"
           }
          },
          "shapedefaults": {
           "line": {
            "color": "#2a3f5f"
           }
          },
          "ternary": {
           "aaxis": {
            "gridcolor": "white",
            "linecolor": "white",
            "ticks": ""
           },
           "baxis": {
            "gridcolor": "white",
            "linecolor": "white",
            "ticks": ""
           },
           "bgcolor": "#E5ECF6",
           "caxis": {
            "gridcolor": "white",
            "linecolor": "white",
            "ticks": ""
           }
          },
          "title": {
           "x": 0.05
          },
          "xaxis": {
           "automargin": true,
           "gridcolor": "white",
           "linecolor": "white",
           "ticks": "",
           "title": {
            "standoff": 15
           },
           "zerolinecolor": "white",
           "zerolinewidth": 2
          },
          "yaxis": {
           "automargin": true,
           "gridcolor": "white",
           "linecolor": "white",
           "ticks": "",
           "title": {
            "standoff": 15
           },
           "zerolinecolor": "white",
           "zerolinewidth": 2
          }
         }
        },
        "xaxis": {
         "anchor": "y",
         "autorange": true,
         "domain": [
          0,
          1
         ],
         "range": [
          -17.36885885517038,
          102.86673554552604
         ],
         "title": {
          "text": "ncd_diff"
         },
         "type": "linear"
        },
        "yaxis": {
         "anchor": "x",
         "autorange": true,
         "domain": [
          0,
          1
         ],
         "range": [
          59.38405838519604,
          280.0070057708359
         ],
         "title": {
          "text": "ncd_mean"
         },
         "type": "linear"
        }
       }
      },
      "image/png": "[encoded data removed]",
      "text/html": [
       "<div>                            <div id=\"c7c9b07f-6d31-42e8-8281-c70e602d5432\" class=\"plotly-graph-div\" style=\"height:525px; width:100%;\"></div>            <script type=\"text/javascript\">                require([\"plotly\"], function(Plotly) {                    window.PLOTLYENV=window.PLOTLYENV || {};                                    if (document.getElementById(\"c7c9b07f-6d31-42e8-8281-c70e602d5432\")) {                    Plotly.newPlot(                        \"c7c9b07f-6d31-42e8-8281-c70e602d5432\",                        [{\"customdata\":[[\"box\",\"box_day\",175.0,128.2051282051282],[\"box\",\"box_day_time\",276.59574468085106,186.04651162790697],[\"box\",\"box_time_day\",276.59574468085106,186.04651162790697],[\"box\",\"strip_day\",214.28571428571428,179.48717948717947],[\"box\",\"strip\",108.10810810810811,111.11111111111111],[\"box\",\"strip_time\",214.28571428571428,179.48717948717947],[\"box\",\"box_time\",170.73170731707316,128.2051282051282],[\"box_day\",\"box\",175.0,128.2051282051282],[\"box_day\",\"box_day_time\",212.7659574468085,116.27906976744185],[\"box_day\",\"box_time_day\",170.2127659574468,139.53488372093022],[\"box_day\",\"strip_day\",119.04761904761905,76.92307692307692],[\"box_day\",\"strip\",175.0,179.48717948717947],[\"box_day\",\"strip_time\",166.66666666666666,128.2051282051282],[\"box_day\",\"box_time\",97.5609756097561,76.92307692307692],[\"box_day_time\",\"box\",276.59574468085106,186.04651162790697],[\"box_day_time\",\"box_day\",212.7659574468085,116.27906976744185],[\"box_day_time\",\"box_time_day\",85.1063829787234,69.76744186046511],[\"box_day_time\",\"strip_day\",234.04255319148936,162.7906976744186],[\"box_day_time\",\"strip\",297.8723404255319,232.5581395348837],[\"box_day_time\",\"strip_time\",191.48936170212767,162.7906976744186],[\"box_day_time\",\"box_time\",148.93617021276594,116.27906976744185],[\"box_time_day\",\"box\",276.59574468085106,209.30232558139534],[\"box_time_day\",\"box_day\",170.2127659574468,139.53488372093022],[\"box_time_day\",\"box_day_time\",85.1063829787234,69.76744186046511],[\"box_time_day\",\"strip_day\",191.48936170212767,162.7906976744186],[\"box_time_day\",\"strip\",297.8723404255319,232.5581395348837],[\"box_time_day\",\"strip_time\",234.04255319148936,162.7906976744186],[\"box_time_day\",\"box_time\",191.48936170212767,139.53488372093022],[\"strip_day\",\"box\",214.28571428571428,179.48717948717947],[\"strip_day\",\"box_day\",119.04761904761905,76.92307692307692],[\"strip_day\",\"box_day_time\",212.7659574468085,162.7906976744186],[\"strip_day\",\"box_time_day\",212.7659574468085,162.7906976744186],[\"strip_day\",\"strip\",142.85714285714286,153.84615384615384],[\"strip_day\",\"strip_time\",71.42857142857143,76.92307692307692],[\"strip_day\",\"box_time\",142.85714285714286,128.2051282051282],[\"strip\",\"box\",108.10810810810811,111.11111111111111],[\"strip\",\"box_day\",200.0,179.48717948717947],[\"strip\",\"box_day_time\",297.8723404255319,232.5581395348837],[\"strip\",\"box_time_day\",297.8723404255319,232.5581395348837],[\"strip\",\"strip_day\",142.85714285714286,128.2051282051282],[\"strip\",\"strip_time\",142.85714285714286,128.2051282051282],[\"strip\",\"box_time\",195.1219512195122,179.48717948717947],[\"strip_time\",\"box\",214.28571428571428,179.48717948717947],[\"strip_time\",\"box_day\",166.66666666666666,128.2051282051282],[\"strip_time\",\"box_day_time\",191.48936170212767,162.7906976744186],[\"strip_time\",\"box_time_day\",212.7659574468085,162.7906976744186],[\"strip_time\",\"strip_day\",71.42857142857143,76.92307692307692],[\"strip_time\",\"strip\",142.85714285714286,128.2051282051282],[\"strip_time\",\"box_time\",95.23809523809524,76.92307692307692],[\"box_time\",\"box\",170.73170731707316,128.2051282051282],[\"box_time\",\"box_day\",97.5609756097561,76.92307692307692],[\"box_time\",\"box_day_time\",148.93617021276594,116.27906976744185],[\"box_time\",\"box_time_day\",191.48936170212767,116.27906976744185],[\"box_time\",\"strip_day\",142.85714285714286,128.2051282051282],[\"box_time\",\"strip\",195.1219512195122,179.48717948717947],[\"box_time\",\"strip_time\",95.23809523809524,76.92307692307692]],\"hovertemplate\":\"ncd_diff=%{x}<br>ncd_mean=%{y}<br>from_slug=%{customdata[0]}<br>to_slug=%{customdata[1]}<br>ncd_gg=%{customdata[2]}<br>ncd_px=%{customdata[3]}<extra></extra>\",\"legendgroup\":\"\",\"marker\":{\"color\":\"#636efa\",\"symbol\":\"circle\"},\"mode\":\"markers\",\"name\":\"\",\"orientation\":\"v\",\"showlegend\":false,\"x\":[46.794871794871796,90.54923305294409,90.54923305294409,34.7985347985348,-3.003003003003002,34.7985347985348,42.526579111944955,46.794871794871796,96.48688767936665,30.67788223651658,42.12454212454213,-4.487179487179475,38.46153846153845,20.63789868667918,90.54923305294409,96.48688767936665,15.33894111825829,71.25185551707077,65.31420089064818,28.69866402770907,32.65710044532409,67.29341909945572,30.67788223651658,15.33894111825829,28.69866402770907,65.31420089064818,71.25185551707077,51.95447798119744,34.7985347985348,42.12454212454213,49.975259772389904,49.975259772389904,-10.989010989010978,-5.494505494505489,14.652014652014657,-3.003003003003002,20.512820512820525,65.31420089064818,65.31420089064818,14.652014652014657,14.652014652014657,15.634771732332723,34.7985347985348,38.46153846153845,28.69866402770907,49.975259772389904,-5.494505494505489,14.652014652014657,18.31501831501832,42.526579111944955,20.63789868667918,32.65710044532409,75.21029193468581,14.652014652014657,15.634771732332723,18.31501831501832],\"xaxis\":\"x\",\"y\":[151.6025641025641,231.321128154379,231.321128154379,196.8864468864469,109.6096096096096,196.8864468864469,149.46841776110068,151.6025641025641,164.52251360712518,154.8738248391885,97.98534798534799,177.24358974358972,147.43589743589743,87.2420262664165,231.321128154379,164.52251360712518,77.43691241959425,198.416625432954,265.2152399802078,177.14002968827313,132.6076199901039,242.9490351311232,154.8738248391885,77.43691241959425,177.14002968827313,265.2152399802078,198.416625432954,165.51212271152895,196.8864468864469,97.98534798534799,187.77832756061355,187.77832756061355,148.35164835164835,74.17582417582418,135.53113553113553,109.6096096096096,189.74358974358972,265.2152399802078,265.2152399802078,135.53113553113553,135.53113553113553,187.30456535334582,196.8864468864469,147.43589743589743,177.14002968827313,187.77832756061355,74.17582417582418,135.53113553113553,86.08058608058607,149.46841776110068,87.2420262664165,132.6076199901039,153.88421573478476,135.53113553113553,187.30456535334582,86.08058608058607],\"yaxis\":\"y\",\"type\":\"scatter\"}],                        {\"template\":{\"data\":{\"histogram2dcontour\":[{\"type\":\"histogram2dcontour\",\"colorbar\":{\"outlinewidth\":0,\"ticks\":\"\"},\"colorscale\":[[0.0,\"#0d0887\"],[0.1111111111111111,\"#46039f\"],[0.2222222222222222,\"#7201a8\"],[0.3333333333333333,\"#9c179e\"],[0.4444444444444444,\"#bd3786\"],[0.5555555555555556,\"#d8576b\"],[0.6666666666666666,\"#ed7953\"],[0.7777777777777778,\"#fb9f3a\"],[0.8888888888888888,\"#fdca26\"],[1.0,\"#f0f921\"]]}],\"choropleth\":[{\"type\":\"choropleth\",\"colorbar\":{\"outlinewidth\":0,\"ticks\":\"\"}}],\"histogram2d\":[{\"type\":\"histogram2d\",\"colorbar\":{\"outlinewidth\":0,\"ticks\":\"\"},\"colorscale\":[[0.0,\"#0d0887\"],[0.1111111111111111,\"#46039f\"],[0.2222222222222222,\"#7201a8\"],[0.3333333333333333,\"#9c179e\"],[0.4444444444444444,\"#bd3786\"],[0.5555555555555556,\"#d8576b\"],[0.6666666666666666,\"#ed7953\"],[0.7777777777777778,\"#fb9f3a\"],[0.8888888888888888,\"#fdca26\"],[1.0,\"#f0f921\"]]}],\"heatmap\":[{\"type\":\"heatmap\",\"colorbar\":{\"outlinewidth\":0,\"ticks\":\"\"},\"colorscale\":[[0.0,\"#0d0887\"],[0.1111111111111111,\"#46039f\"],[0.2222222222222222,\"#7201a8\"],[0.3333333333333333,\"#9c179e\"],[0.4444444444444444,\"#bd3786\"],[0.5555555555555556,\"#d8576b\"],[0.6666666666666666,\"#ed7953\"],[0.7777777777777778,\"#fb9f3a\"],[0.8888888888888888,\"#fdca26\"],[1.0,\"#f0f921\"]]}],\"heatmapgl\":[{\"type\":\"heatmapgl\",\"colorbar\":{\"outlinewidth\":0,\"ticks\":\"\"},\"colorscale\":[[0.0,\"#0d0887\"],[0.1111111111111111,\"#46039f\"],[0.2222222222222222,\"#7201a8\"],[0.3333333333333333,\"#9c179e\"],[0.4444444444444444,\"#bd3786\"],[0.5555555555555556,\"#d8576b\"],[0.6666666666666666,\"#ed7953\"],[0.7777777777777778,\"#fb9f3a\"],[0.8888888888888888,\"#fdca26\"],[1.0,\"#f0f921\"]]}],\"contourcarpet\":[{\"type\":\"contourcarpet\",\"colorbar\":{\"outlinewidth\":0,\"ticks\":\"\"}}],\"contour\":[{\"type\":\"contour\",\"colorbar\":{\"outlinewidth\":0,\"ticks\":\"\"},\"colorscale\":[[0.0,\"#0d0887\"],[0.1111111111111111,\"#46039f\"],[0.2222222222222222,\"#7201a8\"],[0.3333333333333333,\"#9c179e\"],[0.4444444444444444,\"#bd3786\"],[0.5555555555555556,\"#d8576b\"],[0.6666666666666666,\"#ed7953\"],[0.7777777777777778,\"#fb9f3a\"],[0.8888888888888888,\"#fdca26\"],[1.0,\"#f0f921\"]]}],\"surface\":[{\"type\":\"surface\",\"colorbar\":{\"outlinewidth\":0,\"ticks\":\"\"},\"colorscale\":[[0.0,\"#0d0887\"],[0.1111111111111111,\"#46039f\"],[0.2222222222222222,\"#7201a8\"],[0.3333333333333333,\"#9c179e\"],[0.4444444444444444,\"#bd3786\"],[0.5555555555555556,\"#d8576b\"],[0.6666666666666666,\"#ed7953\"],[0.7777777777777778,\"#fb9f3a\"],[0.8888888888888888,\"#fdca26\"],[1.0,\"#f0f921\"]]}],\"mesh3d\":[{\"type\":\"mesh3d\",\"colorbar\":{\"outlinewidth\":0,\"ticks\":\"\"}}],\"scatter\":[{\"fillpattern\":{\"fillmode\":\"overlay\",\"size\":10,\"solidity\":0.2},\"type\":\"scatter\"}],\"parcoords\":[{\"type\":\"parcoords\",\"line\":{\"colorbar\":{\"outlinewidth\":0,\"ticks\":\"\"}}}],\"scatterpolargl\":[{\"type\":\"scatterpolargl\",\"marker\":{\"colorbar\":{\"outlinewidth\":0,\"ticks\":\"\"}}}],\"bar\":[{\"error_x\":{\"color\":\"#2a3f5f\"},\"error_y\":{\"color\":\"#2a3f5f\"},\"marker\":{\"line\":{\"color\":\"#E5ECF6\",\"width\":0.5},\"pattern\":{\"fillmode\":\"overlay\",\"size\":10,\"solidity\":0.2}},\"type\":\"bar\"}],\"scattergeo\":[{\"type\":\"scattergeo\",\"marker\":{\"colorbar\":{\"outlinewidth\":0,\"ticks\":\"\"}}}],\"scatterpolar\":[{\"type\":\"scatterpolar\",\"marker\":{\"colorbar\":{\"outlinewidth\":0,\"ticks\":\"\"}}}],\"histogram\":[{\"marker\":{\"pattern\":{\"fillmode\":\"overlay\",\"size\":10,\"solidity\":0.2}},\"type\":\"histogram\"}],\"scattergl\":[{\"type\":\"scattergl\",\"marker\":{\"colorbar\":{\"outlinewidth\":0,\"ticks\":\"\"}}}],\"scatter3d\":[{\"type\":\"scatter3d\",\"line\":{\"colorbar\":{\"outlinewidth\":0,\"ticks\":\"\"}},\"marker\":{\"colorbar\":{\"outlinewidth\":0,\"ticks\":\"\"}}}],\"scattermapbox\":[{\"type\":\"scattermapbox\",\"marker\":{\"colorbar\":{\"outlinewidth\":0,\"ticks\":\"\"}}}],\"scatterternary\":[{\"type\":\"scatterternary\",\"marker\":{\"colorbar\":{\"outlinewidth\":0,\"ticks\":\"\"}}}],\"scattercarpet\":[{\"type\":\"scattercarpet\",\"marker\":{\"colorbar\":{\"outlinewidth\":0,\"ticks\":\"\"}}}],\"carpet\":[{\"aaxis\":{\"endlinecolor\":\"#2a3f5f\",\"gridcolor\":\"white\",\"linecolor\":\"white\",\"minorgridcolor\":\"white\",\"startlinecolor\":\"#2a3f5f\"},\"baxis\":{\"endlinecolor\":\"#2a3f5f\",\"gridcolor\":\"white\",\"linecolor\":\"white\",\"minorgridcolor\":\"white\",\"startlinecolor\":\"#2a3f5f\"},\"type\":\"carpet\"}],\"table\":[{\"cells\":{\"fill\":{\"color\":\"#EBF0F8\"},\"line\":{\"color\":\"white\"}},\"header\":{\"fill\":{\"color\":\"#C8D4E3\"},\"line\":{\"color\":\"white\"}},\"type\":\"table\"}],\"barpolar\":[{\"marker\":{\"line\":{\"color\":\"#E5ECF6\",\"width\":0.5},\"pattern\":{\"fillmode\":\"overlay\",\"size\":10,\"solidity\":0.2}},\"type\":\"barpolar\"}],\"pie\":[{\"automargin\":true,\"type\":\"pie\"}]},\"layout\":{\"autotypenumbers\":\"strict\",\"colorway\":[\"#636efa\",\"#EF553B\",\"#00cc96\",\"#ab63fa\",\"#FFA15A\",\"#19d3f3\",\"#FF6692\",\"#B6E880\",\"#FF97FF\",\"#FECB52\"],\"font\":{\"color\":\"#2a3f5f\"},\"hovermode\":\"closest\",\"hoverlabel\":{\"align\":\"left\"},\"paper_bgcolor\":\"white\",\"plot_bgcolor\":\"#E5ECF6\",\"polar\":{\"bgcolor\":\"#E5ECF6\",\"angularaxis\":{\"gridcolor\":\"white\",\"linecolor\":\"white\",\"ticks\":\"\"},\"radialaxis\":{\"gridcolor\":\"white\",\"linecolor\":\"white\",\"ticks\":\"\"}},\"ternary\":{\"bgcolor\":\"#E5ECF6\",\"aaxis\":{\"gridcolor\":\"white\",\"linecolor\":\"white\",\"ticks\":\"\"},\"baxis\":{\"gridcolor\":\"white\",\"linecolor\":\"white\",\"ticks\":\"\"},\"caxis\":{\"gridcolor\":\"white\",\"linecolor\":\"white\",\"ticks\":\"\"}},\"coloraxis\":{\"colorbar\":{\"outlinewidth\":0,\"ticks\":\"\"}},\"colorscale\":{\"sequential\":[[0.0,\"#0d0887\"],[0.1111111111111111,\"#46039f\"],[0.2222222222222222,\"#7201a8\"],[0.3333333333333333,\"#9c179e\"],[0.4444444444444444,\"#bd3786\"],[0.5555555555555556,\"#d8576b\"],[0.6666666666666666,\"#ed7953\"],[0.7777777777777778,\"#fb9f3a\"],[0.8888888888888888,\"#fdca26\"],[1.0,\"#f0f921\"]],\"sequentialminus\":[[0.0,\"#0d0887\"],[0.1111111111111111,\"#46039f\"],[0.2222222222222222,\"#7201a8\"],[0.3333333333333333,\"#9c179e\"],[0.4444444444444444,\"#bd3786\"],[0.5555555555555556,\"#d8576b\"],[0.6666666666666666,\"#ed7953\"],[0.7777777777777778,\"#fb9f3a\"],[0.8888888888888888,\"#fdca26\"],[1.0,\"#f0f921\"]],\"diverging\":[[0,\"#8e0152\"],[0.1,\"#c51b7d\"],[0.2,\"#de77ae\"],[0.3,\"#f1b6da\"],[0.4,\"#fde0ef\"],[0.5,\"#f7f7f7\"],[0.6,\"#e6f5d0\"],[0.7,\"#b8e186\"],[0.8,\"#7fbc41\"],[0.9,\"#4d9221\"],[1,\"#276419\"]]},\"xaxis\":{\"gridcolor\":\"white\",\"linecolor\":\"white\",\"ticks\":\"\",\"title\":{\"standoff\":15},\"zerolinecolor\":\"white\",\"automargin\":true,\"zerolinewidth\":2},\"yaxis\":{\"gridcolor\":\"white\",\"linecolor\":\"white\",\"ticks\":\"\",\"title\":{\"standoff\":15},\"zerolinecolor\":\"white\",\"automargin\":true,\"zerolinewidth\":2},\"scene\":{\"xaxis\":{\"backgroundcolor\":\"#E5ECF6\",\"gridcolor\":\"white\",\"linecolor\":\"white\",\"showbackground\":true,\"ticks\":\"\",\"zerolinecolor\":\"white\",\"gridwidth\":2},\"yaxis\":{\"backgroundcolor\":\"#E5ECF6\",\"gridcolor\":\"white\",\"linecolor\":\"white\",\"showbackground\":true,\"ticks\":\"\",\"zerolinecolor\":\"white\",\"gridwidth\":2},\"zaxis\":{\"backgroundcolor\":\"#E5ECF6\",\"gridcolor\":\"white\",\"linecolor\":\"white\",\"showbackground\":true,\"ticks\":\"\",\"zerolinecolor\":\"white\",\"gridwidth\":2}},\"shapedefaults\":{\"line\":{\"color\":\"#2a3f5f\"}},\"annotationdefaults\":{\"arrowcolor\":\"#2a3f5f\",\"arrowhead\":0,\"arrowwidth\":1},\"geo\":{\"bgcolor\":\"white\",\"landcolor\":\"#E5ECF6\",\"subunitcolor\":\"white\",\"showland\":true,\"showlakes\":true,\"lakecolor\":\"white\"},\"title\":{\"x\":0.05},\"mapbox\":{\"style\":\"light\"}}},\"xaxis\":{\"anchor\":\"y\",\"domain\":[0.0,1.0],\"title\":{\"text\":\"ncd_diff\"}},\"yaxis\":{\"anchor\":\"x\",\"domain\":[0.0,1.0],\"title\":{\"text\":\"ncd_mean\"}},\"legend\":{\"tracegroupgap\":0},\"margin\":{\"t\":60},\"shapes\":[{\"type\":\"line\",\"x0\":0,\"x1\":0,\"xref\":\"x\",\"y0\":0,\"y1\":1,\"yref\":\"y domain\"},{\"type\":\"line\",\"x0\":37.60171541213955,\"x1\":37.60171541213955,\"xref\":\"x\",\"y0\":0,\"y1\":1,\"yref\":\"y domain\"}],\"annotations\":[{\"showarrow\":false,\"text\":\"< more PX ... more ggplot >\",\"x\":0,\"xanchor\":\"center\",\"xref\":\"x\",\"y\":1,\"yanchor\":\"bottom\",\"yref\":\"y domain\"}]},                        {\"responsive\": true}                    ).then(function(){\n",
       "                            \n",
       "var gd = document.getElementById('c7c9b07f-6d31-42e8-8281-c70e602d5432');\n",
       "var x = new MutationObserver(function (mutations, observer) {{\n",
       "        var display = window.getComputedStyle(gd).display;\n",
       "        if (!display || display === 'none') {{\n",
       "            console.log([gd, 'removed!']);\n",
       "            Plotly.purge(gd);\n",
       "            observer.disconnect();\n",
       "        }}\n",
       "}});\n",
       "\n",
       "// Listen for the removal of the full notebook cells\n",
       "var notebookContainer = gd.closest('#notebook-container');\n",
       "if (notebookContainer) {{\n",
       "    x.observe(notebookContainer, {childList: true});\n",
       "}}\n",
       "\n",
       "// Listen for the clearing of the current output cell\n",
       "var outputEl = gd.closest('.output');\n",
       "if (outputEl) {{\n",
       "    x.observe(outputEl, {childList: true});\n",
       "}}\n",
       "\n",
       "                        })                };                });            </script>        </div>"
      ]
     },
     "metadata": {},
     "output_type": "display_data"
    }
   ],
   "source": [
    "px.scatter(merged, y=\"ncd_mean\", x=\"ncd_diff\",\n",
    "           hover_data=merged.columns\n",
    "          ).add_vline(x=0, annotation_text=\"< more PX ... more ggplot >\", annotation_position=\"top\").add_vline(\n",
    "    x=merged.ncd_diff.mean())"
   ]
  },
  {
   "cell_type": "code",
   "execution_count": 23,
   "id": "2d01eea8-f346-440a-a56d-ab7c4e7b3a4a",
   "metadata": {},
   "outputs": [
    {
     "data": {
      "application/vnd.plotly.v1+json": {
       "config": {
        "plotlyServerURL": "https://plotly.com"
       },
       "data": [
        {
         "customdata": [
          [
           "area_colored"
          ],
          [
           "area_colored_stacked"
          ],
          [
           "bar_budget"
          ],
          [
           "bar_budget_avg"
          ],
          [
           "bar_budget_avg_colored"
          ],
          [
           "bar_count"
          ],
          [
           "bar_count_100"
          ],
          [
           "bar_count_colored"
          ],
          [
           "bar_count_horizontal"
          ],
          [
           "bar_count_single"
          ],
          [
           "box"
          ],
          [
           "box_colored"
          ],
          [
           "box_faceted"
          ],
          [
           "bubble"
          ],
          [
           "bubble_agg"
          ],
          [
           "heatmap_budget_avg"
          ],
          [
           "heatmap_count"
          ],
          [
           "line"
          ],
          [
           "line_colored"
          ],
          [
           "pie_count"
          ],
          [
           "scatter"
          ],
          [
           "scatter_colored"
          ],
          [
           "scatter_colored_continuous"
          ],
          [
           "scatter_colored_symbol"
          ],
          [
           "scatter_ols_global"
          ],
          [
           "scatter_ols_separate"
          ]
         ],
         "hovertemplate": "difflib_vega-lite=%{x}<br>difflib_ggplot2=%{y}<br>from_slug=%{customdata[0]}<extra></extra>",
         "legendgroup": "",
         "marker": {
          "color": "#636efa",
          "symbol": "circle"
         },
         "mode": "markers",
         "name": "",
         "orientation": "v",
         "showlegend": false,
         "type": "scatter",
         "x": [
          28.8,
          32.32,
          29.56,
          29.48,
          28,
          27.92,
          22.44,
          21.56,
          29.44,
          30.32,
          29.72,
          27.44,
          44.6,
          28.04,
          36.08,
          31.68,
          28.44,
          27.12,
          28.8,
          30.76,
          24.2,
          24.48,
          25.72,
          30.36,
          58.6,
          97.48
         ],
         "xaxis": "x",
         "y": [
          26.12,
          29.88,
          17.04,
          17.12,
          20.48,
          16.6,
          15.08,
          14,
          16.76,
          15.48,
          14.88,
          13.8,
          25.48,
          15.04,
          52,
          19.84,
          13.92,
          26.8,
          26.16,
          18.48,
          14.4,
          13.52,
          13.92,
          14.88,
          28.92,
          25.76
         ],
         "yaxis": "y"
        }
       ],
       "layout": {
        "height": 600,
        "legend": {
         "tracegroupgap": 0
        },
        "margin": {
         "t": 60
        },
        "shapes": [
         {
          "line": {
           "color": "white",
           "width": 1
          },
          "type": "line",
          "x0": 5.123999999999999,
          "x1": 105.876,
          "y0": 5.123999999999999,
          "y1": 105.876
         }
        ],
        "template": {
         "data": {
          "bar": [
           {
            "error_x": {
             "color": "#2a3f5f"
            },
            "error_y": {
             "color": "#2a3f5f"
            },
            "marker": {
             "line": {
              "color": "#E5ECF6",
              "width": 0.5
             },
             "pattern": {
              "fillmode": "overlay",
              "size": 10,
              "solidity": 0.2
             }
            },
            "type": "bar"
           }
          ],
          "barpolar": [
           {
            "marker": {
             "line": {
              "color": "#E5ECF6",
              "width": 0.5
             },
             "pattern": {
              "fillmode": "overlay",
              "size": 10,
              "solidity": 0.2
             }
            },
            "type": "barpolar"
           }
          ],
          "carpet": [
           {
            "aaxis": {
             "endlinecolor": "#2a3f5f",
             "gridcolor": "white",
             "linecolor": "white",
             "minorgridcolor": "white",
             "startlinecolor": "#2a3f5f"
            },
            "baxis": {
             "endlinecolor": "#2a3f5f",
             "gridcolor": "white",
             "linecolor": "white",
             "minorgridcolor": "white",
             "startlinecolor": "#2a3f5f"
            },
            "type": "carpet"
           }
          ],
          "choropleth": [
           {
            "colorbar": {
             "outlinewidth": 0,
             "ticks": ""
            },
            "type": "choropleth"
           }
          ],
          "contour": [
           {
            "colorbar": {
             "outlinewidth": 0,
             "ticks": ""
            },
            "colorscale": [
             [
              0,
              "#0d0887"
             ],
             [
              0.1111111111111111,
              "#46039f"
             ],
             [
              0.2222222222222222,
              "#7201a8"
             ],
             [
              0.3333333333333333,
              "#9c179e"
             ],
             [
              0.4444444444444444,
              "#bd3786"
             ],
             [
              0.5555555555555556,
              "#d8576b"
             ],
             [
              0.6666666666666666,
              "#ed7953"
             ],
             [
              0.7777777777777778,
              "#fb9f3a"
             ],
             [
              0.8888888888888888,
              "#fdca26"
             ],
             [
              1,
              "#f0f921"
             ]
            ],
            "type": "contour"
           }
          ],
          "contourcarpet": [
           {
            "colorbar": {
             "outlinewidth": 0,
             "ticks": ""
            },
            "type": "contourcarpet"
           }
          ],
          "heatmap": [
           {
            "colorbar": {
             "outlinewidth": 0,
             "ticks": ""
            },
            "colorscale": [
             [
              0,
              "#0d0887"
             ],
             [
              0.1111111111111111,
              "#46039f"
             ],
             [
              0.2222222222222222,
              "#7201a8"
             ],
             [
              0.3333333333333333,
              "#9c179e"
             ],
             [
              0.4444444444444444,
              "#bd3786"
             ],
             [
              0.5555555555555556,
              "#d8576b"
             ],
             [
              0.6666666666666666,
              "#ed7953"
             ],
             [
              0.7777777777777778,
              "#fb9f3a"
             ],
             [
              0.8888888888888888,
              "#fdca26"
             ],
             [
              1,
              "#f0f921"
             ]
            ],
            "type": "heatmap"
           }
          ],
          "heatmapgl": [
           {
            "colorbar": {
             "outlinewidth": 0,
             "ticks": ""
            },
            "colorscale": [
             [
              0,
              "#0d0887"
             ],
             [
              0.1111111111111111,
              "#46039f"
             ],
             [
              0.2222222222222222,
              "#7201a8"
             ],
             [
              0.3333333333333333,
              "#9c179e"
             ],
             [
              0.4444444444444444,
              "#bd3786"
             ],
             [
              0.5555555555555556,
              "#d8576b"
             ],
             [
              0.6666666666666666,
              "#ed7953"
             ],
             [
              0.7777777777777778,
              "#fb9f3a"
             ],
             [
              0.8888888888888888,
              "#fdca26"
             ],
             [
              1,
              "#f0f921"
             ]
            ],
            "type": "heatmapgl"
           }
          ],
          "histogram": [
           {
            "marker": {
             "pattern": {
              "fillmode": "overlay",
              "size": 10,
              "solidity": 0.2
             }
            },
            "type": "histogram"
           }
          ],
          "histogram2d": [
           {
            "colorbar": {
             "outlinewidth": 0,
             "ticks": ""
            },
            "colorscale": [
             [
              0,
              "#0d0887"
             ],
             [
              0.1111111111111111,
              "#46039f"
             ],
             [
              0.2222222222222222,
              "#7201a8"
             ],
             [
              0.3333333333333333,
              "#9c179e"
             ],
             [
              0.4444444444444444,
              "#bd3786"
             ],
             [
              0.5555555555555556,
              "#d8576b"
             ],
             [
              0.6666666666666666,
              "#ed7953"
             ],
             [
              0.7777777777777778,
              "#fb9f3a"
             ],
             [
              0.8888888888888888,
              "#fdca26"
             ],
             [
              1,
              "#f0f921"
             ]
            ],
            "type": "histogram2d"
           }
          ],
          "histogram2dcontour": [
           {
            "colorbar": {
             "outlinewidth": 0,
             "ticks": ""
            },
            "colorscale": [
             [
              0,
              "#0d0887"
             ],
             [
              0.1111111111111111,
              "#46039f"
             ],
             [
              0.2222222222222222,
              "#7201a8"
             ],
             [
              0.3333333333333333,
              "#9c179e"
             ],
             [
              0.4444444444444444,
              "#bd3786"
             ],
             [
              0.5555555555555556,
              "#d8576b"
             ],
             [
              0.6666666666666666,
              "#ed7953"
             ],
             [
              0.7777777777777778,
              "#fb9f3a"
             ],
             [
              0.8888888888888888,
              "#fdca26"
             ],
             [
              1,
              "#f0f921"
             ]
            ],
            "type": "histogram2dcontour"
           }
          ],
          "mesh3d": [
           {
            "colorbar": {
             "outlinewidth": 0,
             "ticks": ""
            },
            "type": "mesh3d"
           }
          ],
          "parcoords": [
           {
            "line": {
             "colorbar": {
              "outlinewidth": 0,
              "ticks": ""
             }
            },
            "type": "parcoords"
           }
          ],
          "pie": [
           {
            "automargin": true,
            "type": "pie"
           }
          ],
          "scatter": [
           {
            "fillpattern": {
             "fillmode": "overlay",
             "size": 10,
             "solidity": 0.2
            },
            "type": "scatter"
           }
          ],
          "scatter3d": [
           {
            "line": {
             "colorbar": {
              "outlinewidth": 0,
              "ticks": ""
             }
            },
            "marker": {
             "colorbar": {
              "outlinewidth": 0,
              "ticks": ""
             }
            },
            "type": "scatter3d"
           }
          ],
          "scattercarpet": [
           {
            "marker": {
             "colorbar": {
              "outlinewidth": 0,
              "ticks": ""
             }
            },
            "type": "scattercarpet"
           }
          ],
          "scattergeo": [
           {
            "marker": {
             "colorbar": {
              "outlinewidth": 0,
              "ticks": ""
             }
            },
            "type": "scattergeo"
           }
          ],
          "scattergl": [
           {
            "marker": {
             "colorbar": {
              "outlinewidth": 0,
              "ticks": ""
             }
            },
            "type": "scattergl"
           }
          ],
          "scattermapbox": [
           {
            "marker": {
             "colorbar": {
              "outlinewidth": 0,
              "ticks": ""
             }
            },
            "type": "scattermapbox"
           }
          ],
          "scatterpolar": [
           {
            "marker": {
             "colorbar": {
              "outlinewidth": 0,
              "ticks": ""
             }
            },
            "type": "scatterpolar"
           }
          ],
          "scatterpolargl": [
           {
            "marker": {
             "colorbar": {
              "outlinewidth": 0,
              "ticks": ""
             }
            },
            "type": "scatterpolargl"
           }
          ],
          "scatterternary": [
           {
            "marker": {
             "colorbar": {
              "outlinewidth": 0,
              "ticks": ""
             }
            },
            "type": "scatterternary"
           }
          ],
          "surface": [
           {
            "colorbar": {
             "outlinewidth": 0,
             "ticks": ""
            },
            "colorscale": [
             [
              0,
              "#0d0887"
             ],
             [
              0.1111111111111111,
              "#46039f"
             ],
             [
              0.2222222222222222,
              "#7201a8"
             ],
             [
              0.3333333333333333,
              "#9c179e"
             ],
             [
              0.4444444444444444,
              "#bd3786"
             ],
             [
              0.5555555555555556,
              "#d8576b"
             ],
             [
              0.6666666666666666,
              "#ed7953"
             ],
             [
              0.7777777777777778,
              "#fb9f3a"
             ],
             [
              0.8888888888888888,
              "#fdca26"
             ],
             [
              1,
              "#f0f921"
             ]
            ],
            "type": "surface"
           }
          ],
          "table": [
           {
            "cells": {
             "fill": {
              "color": "#EBF0F8"
             },
             "line": {
              "color": "white"
             }
            },
            "header": {
             "fill": {
              "color": "#C8D4E3"
             },
             "line": {
              "color": "white"
             }
            },
            "type": "table"
           }
          ]
         },
         "layout": {
          "annotationdefaults": {
           "arrowcolor": "#2a3f5f",
           "arrowhead": 0,
           "arrowwidth": 1
          },
          "autotypenumbers": "strict",
          "coloraxis": {
           "colorbar": {
            "outlinewidth": 0,
            "ticks": ""
           }
          },
          "colorscale": {
           "diverging": [
            [
             0,
             "#8e0152"
            ],
            [
             0.1,
             "#c51b7d"
            ],
            [
             0.2,
             "#de77ae"
            ],
            [
             0.3,
             "#f1b6da"
            ],
            [
             0.4,
             "#fde0ef"
            ],
            [
             0.5,
             "#f7f7f7"
            ],
            [
             0.6,
             "#e6f5d0"
            ],
            [
             0.7,
             "#b8e186"
            ],
            [
             0.8,
             "#7fbc41"
            ],
            [
             0.9,
             "#4d9221"
            ],
            [
             1,
             "#276419"
            ]
           ],
           "sequential": [
            [
             0,
             "#0d0887"
            ],
            [
             0.1111111111111111,
             "#46039f"
            ],
            [
             0.2222222222222222,
             "#7201a8"
            ],
            [
             0.3333333333333333,
             "#9c179e"
            ],
            [
             0.4444444444444444,
             "#bd3786"
            ],
            [
             0.5555555555555556,
             "#d8576b"
            ],
            [
             0.6666666666666666,
             "#ed7953"
            ],
            [
             0.7777777777777778,
             "#fb9f3a"
            ],
            [
             0.8888888888888888,
             "#fdca26"
            ],
            [
             1,
             "#f0f921"
            ]
           ],
           "sequentialminus": [
            [
             0,
             "#0d0887"
            ],
            [
             0.1111111111111111,
             "#46039f"
            ],
            [
             0.2222222222222222,
             "#7201a8"
            ],
            [
             0.3333333333333333,
             "#9c179e"
            ],
            [
             0.4444444444444444,
             "#bd3786"
            ],
            [
             0.5555555555555556,
             "#d8576b"
            ],
            [
             0.6666666666666666,
             "#ed7953"
            ],
            [
             0.7777777777777778,
             "#fb9f3a"
            ],
            [
             0.8888888888888888,
             "#fdca26"
            ],
            [
             1,
             "#f0f921"
            ]
           ]
          },
          "colorway": [
           "#636efa",
           "#EF553B",
           "#00cc96",
           "#ab63fa",
           "#FFA15A",
           "#19d3f3",
           "#FF6692",
           "#B6E880",
           "#FF97FF",
           "#FECB52"
          ],
          "font": {
           "color": "#2a3f5f"
          },
          "geo": {
           "bgcolor": "white",
           "lakecolor": "white",
           "landcolor": "#E5ECF6",
           "showlakes": true,
           "showland": true,
           "subunitcolor": "white"
          },
          "hoverlabel": {
           "align": "left"
          },
          "hovermode": "closest",
          "mapbox": {
           "style": "light"
          },
          "paper_bgcolor": "white",
          "plot_bgcolor": "#E5ECF6",
          "polar": {
           "angularaxis": {
            "gridcolor": "white",
            "linecolor": "white",
            "ticks": ""
           },
           "bgcolor": "#E5ECF6",
           "radialaxis": {
            "gridcolor": "white",
            "linecolor": "white",
            "ticks": ""
           }
          },
          "scene": {
           "xaxis": {
            "backgroundcolor": "#E5ECF6",
            "gridcolor": "white",
            "gridwidth": 2,
            "linecolor": "white",
            "showbackground": true,
            "ticks": "",
            "zerolinecolor": "white"
           },
           "yaxis": {
            "backgroundcolor": "#E5ECF6",
            "gridcolor": "white",
            "gridwidth": 2,
            "linecolor": "white",
            "showbackground": true,
            "ticks": "",
            "zerolinecolor": "white"
           },
           "zaxis": {
            "backgroundcolor": "#E5ECF6",
            "gridcolor": "white",
            "gridwidth": 2,
            "linecolor": "white",
            "showbackground": true,
            "ticks": "",
            "zerolinecolor": "white"
           }
          },
          "shapedefaults": {
           "line": {
            "color": "#2a3f5f"
           }
          },
          "ternary": {
           "aaxis": {
            "gridcolor": "white",
            "linecolor": "white",
            "ticks": ""
           },
           "baxis": {
            "gridcolor": "white",
            "linecolor": "white",
            "ticks": ""
           },
           "bgcolor": "#E5ECF6",
           "caxis": {
            "gridcolor": "white",
            "linecolor": "white",
            "ticks": ""
           }
          },
          "title": {
           "x": 0.05
          },
          "xaxis": {
           "automargin": true,
           "gridcolor": "white",
           "linecolor": "white",
           "ticks": "",
           "title": {
            "standoff": 15
           },
           "zerolinecolor": "white",
           "zerolinewidth": 2
          },
          "yaxis": {
           "automargin": true,
           "gridcolor": "white",
           "linecolor": "white",
           "ticks": "",
           "title": {
            "standoff": 15
           },
           "zerolinecolor": "white",
           "zerolinewidth": 2
          }
         }
        },
        "width": 600,
        "xaxis": {
         "anchor": "y",
         "autorange": true,
         "domain": [
          0,
          1
         ],
         "range": [
          5.009248291571753,
          105.99075170842825
         ],
         "title": {
          "text": "difflib_vega-lite"
         },
         "type": "linear"
        },
        "yaxis": {
         "anchor": "x",
         "autorange": true,
         "domain": [
          0,
          1
         ],
         "range": [
          5.014248366013071,
          105.98575163398694
         ],
         "title": {
          "text": "difflib_ggplot2"
         },
         "type": "linear"
        }
       }
      },
      "image/png": "[encoded data removed]",
      "text/html": [
       "<div>                            <div id=\"f9e8e767-4599-4ea8-8ba4-0b455c8d53ef\" class=\"plotly-graph-div\" style=\"height:600px; width:600px;\"></div>            <script type=\"text/javascript\">                require([\"plotly\"], function(Plotly) {                    window.PLOTLYENV=window.PLOTLYENV || {};                                    if (document.getElementById(\"f9e8e767-4599-4ea8-8ba4-0b455c8d53ef\")) {                    Plotly.newPlot(                        \"f9e8e767-4599-4ea8-8ba4-0b455c8d53ef\",                        [{\"customdata\":[[\"area_colored\"],[\"area_colored_stacked\"],[\"bar_budget\"],[\"bar_budget_avg\"],[\"bar_budget_avg_colored\"],[\"bar_count\"],[\"bar_count_100\"],[\"bar_count_colored\"],[\"bar_count_horizontal\"],[\"bar_count_single\"],[\"box\"],[\"box_colored\"],[\"box_faceted\"],[\"bubble\"],[\"bubble_agg\"],[\"heatmap_budget_avg\"],[\"heatmap_count\"],[\"line\"],[\"line_colored\"],[\"pie_count\"],[\"scatter\"],[\"scatter_colored\"],[\"scatter_colored_continuous\"],[\"scatter_colored_symbol\"],[\"scatter_ols_global\"],[\"scatter_ols_separate\"]],\"hovertemplate\":\"difflib_vega-lite=%{x}<br>difflib_ggplot2=%{y}<br>from_slug=%{customdata[0]}<extra></extra>\",\"legendgroup\":\"\",\"marker\":{\"color\":\"#636efa\",\"symbol\":\"circle\"},\"mode\":\"markers\",\"name\":\"\",\"orientation\":\"v\",\"showlegend\":false,\"x\":[28.8,32.32,29.56,29.48,28.0,27.92,22.44,21.56,29.44,30.32,29.72,27.44,44.6,28.04,36.08,31.68,28.44,27.12,28.8,30.76,24.2,24.48,25.72,30.36,58.6,97.48],\"xaxis\":\"x\",\"y\":[26.12,29.88,17.04,17.12,20.48,16.6,15.08,14.0,16.76,15.48,14.88,13.8,25.48,15.04,52.0,19.84,13.92,26.8,26.16,18.48,14.4,13.52,13.92,14.88,28.92,25.76],\"yaxis\":\"y\",\"type\":\"scatter\"}],                        {\"template\":{\"data\":{\"histogram2dcontour\":[{\"type\":\"histogram2dcontour\",\"colorbar\":{\"outlinewidth\":0,\"ticks\":\"\"},\"colorscale\":[[0.0,\"#0d0887\"],[0.1111111111111111,\"#46039f\"],[0.2222222222222222,\"#7201a8\"],[0.3333333333333333,\"#9c179e\"],[0.4444444444444444,\"#bd3786\"],[0.5555555555555556,\"#d8576b\"],[0.6666666666666666,\"#ed7953\"],[0.7777777777777778,\"#fb9f3a\"],[0.8888888888888888,\"#fdca26\"],[1.0,\"#f0f921\"]]}],\"choropleth\":[{\"type\":\"choropleth\",\"colorbar\":{\"outlinewidth\":0,\"ticks\":\"\"}}],\"histogram2d\":[{\"type\":\"histogram2d\",\"colorbar\":{\"outlinewidth\":0,\"ticks\":\"\"},\"colorscale\":[[0.0,\"#0d0887\"],[0.1111111111111111,\"#46039f\"],[0.2222222222222222,\"#7201a8\"],[0.3333333333333333,\"#9c179e\"],[0.4444444444444444,\"#bd3786\"],[0.5555555555555556,\"#d8576b\"],[0.6666666666666666,\"#ed7953\"],[0.7777777777777778,\"#fb9f3a\"],[0.8888888888888888,\"#fdca26\"],[1.0,\"#f0f921\"]]}],\"heatmap\":[{\"type\":\"heatmap\",\"colorbar\":{\"outlinewidth\":0,\"ticks\":\"\"},\"colorscale\":[[0.0,\"#0d0887\"],[0.1111111111111111,\"#46039f\"],[0.2222222222222222,\"#7201a8\"],[0.3333333333333333,\"#9c179e\"],[0.4444444444444444,\"#bd3786\"],[0.5555555555555556,\"#d8576b\"],[0.6666666666666666,\"#ed7953\"],[0.7777777777777778,\"#fb9f3a\"],[0.8888888888888888,\"#fdca26\"],[1.0,\"#f0f921\"]]}],\"heatmapgl\":[{\"type\":\"heatmapgl\",\"colorbar\":{\"outlinewidth\":0,\"ticks\":\"\"},\"colorscale\":[[0.0,\"#0d0887\"],[0.1111111111111111,\"#46039f\"],[0.2222222222222222,\"#7201a8\"],[0.3333333333333333,\"#9c179e\"],[0.4444444444444444,\"#bd3786\"],[0.5555555555555556,\"#d8576b\"],[0.6666666666666666,\"#ed7953\"],[0.7777777777777778,\"#fb9f3a\"],[0.8888888888888888,\"#fdca26\"],[1.0,\"#f0f921\"]]}],\"contourcarpet\":[{\"type\":\"contourcarpet\",\"colorbar\":{\"outlinewidth\":0,\"ticks\":\"\"}}],\"contour\":[{\"type\":\"contour\",\"colorbar\":{\"outlinewidth\":0,\"ticks\":\"\"},\"colorscale\":[[0.0,\"#0d0887\"],[0.1111111111111111,\"#46039f\"],[0.2222222222222222,\"#7201a8\"],[0.3333333333333333,\"#9c179e\"],[0.4444444444444444,\"#bd3786\"],[0.5555555555555556,\"#d8576b\"],[0.6666666666666666,\"#ed7953\"],[0.7777777777777778,\"#fb9f3a\"],[0.8888888888888888,\"#fdca26\"],[1.0,\"#f0f921\"]]}],\"surface\":[{\"type\":\"surface\",\"colorbar\":{\"outlinewidth\":0,\"ticks\":\"\"},\"colorscale\":[[0.0,\"#0d0887\"],[0.1111111111111111,\"#46039f\"],[0.2222222222222222,\"#7201a8\"],[0.3333333333333333,\"#9c179e\"],[0.4444444444444444,\"#bd3786\"],[0.5555555555555556,\"#d8576b\"],[0.6666666666666666,\"#ed7953\"],[0.7777777777777778,\"#fb9f3a\"],[0.8888888888888888,\"#fdca26\"],[1.0,\"#f0f921\"]]}],\"mesh3d\":[{\"type\":\"mesh3d\",\"colorbar\":{\"outlinewidth\":0,\"ticks\":\"\"}}],\"scatter\":[{\"fillpattern\":{\"fillmode\":\"overlay\",\"size\":10,\"solidity\":0.2},\"type\":\"scatter\"}],\"parcoords\":[{\"type\":\"parcoords\",\"line\":{\"colorbar\":{\"outlinewidth\":0,\"ticks\":\"\"}}}],\"scatterpolargl\":[{\"type\":\"scatterpolargl\",\"marker\":{\"colorbar\":{\"outlinewidth\":0,\"ticks\":\"\"}}}],\"bar\":[{\"error_x\":{\"color\":\"#2a3f5f\"},\"error_y\":{\"color\":\"#2a3f5f\"},\"marker\":{\"line\":{\"color\":\"#E5ECF6\",\"width\":0.5},\"pattern\":{\"fillmode\":\"overlay\",\"size\":10,\"solidity\":0.2}},\"type\":\"bar\"}],\"scattergeo\":[{\"type\":\"scattergeo\",\"marker\":{\"colorbar\":{\"outlinewidth\":0,\"ticks\":\"\"}}}],\"scatterpolar\":[{\"type\":\"scatterpolar\",\"marker\":{\"colorbar\":{\"outlinewidth\":0,\"ticks\":\"\"}}}],\"histogram\":[{\"marker\":{\"pattern\":{\"fillmode\":\"overlay\",\"size\":10,\"solidity\":0.2}},\"type\":\"histogram\"}],\"scattergl\":[{\"type\":\"scattergl\",\"marker\":{\"colorbar\":{\"outlinewidth\":0,\"ticks\":\"\"}}}],\"scatter3d\":[{\"type\":\"scatter3d\",\"line\":{\"colorbar\":{\"outlinewidth\":0,\"ticks\":\"\"}},\"marker\":{\"colorbar\":{\"outlinewidth\":0,\"ticks\":\"\"}}}],\"scattermapbox\":[{\"type\":\"scattermapbox\",\"marker\":{\"colorbar\":{\"outlinewidth\":0,\"ticks\":\"\"}}}],\"scatterternary\":[{\"type\":\"scatterternary\",\"marker\":{\"colorbar\":{\"outlinewidth\":0,\"ticks\":\"\"}}}],\"scattercarpet\":[{\"type\":\"scattercarpet\",\"marker\":{\"colorbar\":{\"outlinewidth\":0,\"ticks\":\"\"}}}],\"carpet\":[{\"aaxis\":{\"endlinecolor\":\"#2a3f5f\",\"gridcolor\":\"white\",\"linecolor\":\"white\",\"minorgridcolor\":\"white\",\"startlinecolor\":\"#2a3f5f\"},\"baxis\":{\"endlinecolor\":\"#2a3f5f\",\"gridcolor\":\"white\",\"linecolor\":\"white\",\"minorgridcolor\":\"white\",\"startlinecolor\":\"#2a3f5f\"},\"type\":\"carpet\"}],\"table\":[{\"cells\":{\"fill\":{\"color\":\"#EBF0F8\"},\"line\":{\"color\":\"white\"}},\"header\":{\"fill\":{\"color\":\"#C8D4E3\"},\"line\":{\"color\":\"white\"}},\"type\":\"table\"}],\"barpolar\":[{\"marker\":{\"line\":{\"color\":\"#E5ECF6\",\"width\":0.5},\"pattern\":{\"fillmode\":\"overlay\",\"size\":10,\"solidity\":0.2}},\"type\":\"barpolar\"}],\"pie\":[{\"automargin\":true,\"type\":\"pie\"}]},\"layout\":{\"autotypenumbers\":\"strict\",\"colorway\":[\"#636efa\",\"#EF553B\",\"#00cc96\",\"#ab63fa\",\"#FFA15A\",\"#19d3f3\",\"#FF6692\",\"#B6E880\",\"#FF97FF\",\"#FECB52\"],\"font\":{\"color\":\"#2a3f5f\"},\"hovermode\":\"closest\",\"hoverlabel\":{\"align\":\"left\"},\"paper_bgcolor\":\"white\",\"plot_bgcolor\":\"#E5ECF6\",\"polar\":{\"bgcolor\":\"#E5ECF6\",\"angularaxis\":{\"gridcolor\":\"white\",\"linecolor\":\"white\",\"ticks\":\"\"},\"radialaxis\":{\"gridcolor\":\"white\",\"linecolor\":\"white\",\"ticks\":\"\"}},\"ternary\":{\"bgcolor\":\"#E5ECF6\",\"aaxis\":{\"gridcolor\":\"white\",\"linecolor\":\"white\",\"ticks\":\"\"},\"baxis\":{\"gridcolor\":\"white\",\"linecolor\":\"white\",\"ticks\":\"\"},\"caxis\":{\"gridcolor\":\"white\",\"linecolor\":\"white\",\"ticks\":\"\"}},\"coloraxis\":{\"colorbar\":{\"outlinewidth\":0,\"ticks\":\"\"}},\"colorscale\":{\"sequential\":[[0.0,\"#0d0887\"],[0.1111111111111111,\"#46039f\"],[0.2222222222222222,\"#7201a8\"],[0.3333333333333333,\"#9c179e\"],[0.4444444444444444,\"#bd3786\"],[0.5555555555555556,\"#d8576b\"],[0.6666666666666666,\"#ed7953\"],[0.7777777777777778,\"#fb9f3a\"],[0.8888888888888888,\"#fdca26\"],[1.0,\"#f0f921\"]],\"sequentialminus\":[[0.0,\"#0d0887\"],[0.1111111111111111,\"#46039f\"],[0.2222222222222222,\"#7201a8\"],[0.3333333333333333,\"#9c179e\"],[0.4444444444444444,\"#bd3786\"],[0.5555555555555556,\"#d8576b\"],[0.6666666666666666,\"#ed7953\"],[0.7777777777777778,\"#fb9f3a\"],[0.8888888888888888,\"#fdca26\"],[1.0,\"#f0f921\"]],\"diverging\":[[0,\"#8e0152\"],[0.1,\"#c51b7d\"],[0.2,\"#de77ae\"],[0.3,\"#f1b6da\"],[0.4,\"#fde0ef\"],[0.5,\"#f7f7f7\"],[0.6,\"#e6f5d0\"],[0.7,\"#b8e186\"],[0.8,\"#7fbc41\"],[0.9,\"#4d9221\"],[1,\"#276419\"]]},\"xaxis\":{\"gridcolor\":\"white\",\"linecolor\":\"white\",\"ticks\":\"\",\"title\":{\"standoff\":15},\"zerolinecolor\":\"white\",\"automargin\":true,\"zerolinewidth\":2},\"yaxis\":{\"gridcolor\":\"white\",\"linecolor\":\"white\",\"ticks\":\"\",\"title\":{\"standoff\":15},\"zerolinecolor\":\"white\",\"automargin\":true,\"zerolinewidth\":2},\"scene\":{\"xaxis\":{\"backgroundcolor\":\"#E5ECF6\",\"gridcolor\":\"white\",\"linecolor\":\"white\",\"showbackground\":true,\"ticks\":\"\",\"zerolinecolor\":\"white\",\"gridwidth\":2},\"yaxis\":{\"backgroundcolor\":\"#E5ECF6\",\"gridcolor\":\"white\",\"linecolor\":\"white\",\"showbackground\":true,\"ticks\":\"\",\"zerolinecolor\":\"white\",\"gridwidth\":2},\"zaxis\":{\"backgroundcolor\":\"#E5ECF6\",\"gridcolor\":\"white\",\"linecolor\":\"white\",\"showbackground\":true,\"ticks\":\"\",\"zerolinecolor\":\"white\",\"gridwidth\":2}},\"shapedefaults\":{\"line\":{\"color\":\"#2a3f5f\"}},\"annotationdefaults\":{\"arrowcolor\":\"#2a3f5f\",\"arrowhead\":0,\"arrowwidth\":1},\"geo\":{\"bgcolor\":\"white\",\"landcolor\":\"#E5ECF6\",\"subunitcolor\":\"white\",\"showland\":true,\"showlakes\":true,\"lakecolor\":\"white\"},\"title\":{\"x\":0.05},\"mapbox\":{\"style\":\"light\"}}},\"xaxis\":{\"anchor\":\"y\",\"domain\":[0.0,1.0],\"title\":{\"text\":\"difflib_vega-lite\"}},\"yaxis\":{\"anchor\":\"x\",\"domain\":[0.0,1.0],\"title\":{\"text\":\"difflib_ggplot2\"}},\"legend\":{\"tracegroupgap\":0},\"margin\":{\"t\":60},\"height\":600,\"width\":600,\"shapes\":[{\"line\":{\"color\":\"white\",\"width\":1},\"type\":\"line\",\"x0\":5.123999999999999,\"x1\":105.876,\"y0\":5.123999999999999,\"y1\":105.876}]},                        {\"responsive\": true}                    ).then(function(){\n",
       "                            \n",
       "var gd = document.getElementById('f9e8e767-4599-4ea8-8ba4-0b455c8d53ef');\n",
       "var x = new MutationObserver(function (mutations, observer) {{\n",
       "        var display = window.getComputedStyle(gd).display;\n",
       "        if (!display || display === 'none') {{\n",
       "            console.log([gd, 'removed!']);\n",
       "            Plotly.purge(gd);\n",
       "            observer.disconnect();\n",
       "        }}\n",
       "}});\n",
       "\n",
       "// Listen for the removal of the full notebook cells\n",
       "var notebookContainer = gd.closest('#notebook-container');\n",
       "if (notebookContainer) {{\n",
       "    x.observe(notebookContainer, {childList: true});\n",
       "}}\n",
       "\n",
       "// Listen for the clearing of the current output cell\n",
       "var outputEl = gd.closest('.output');\n",
       "if (outputEl) {{\n",
       "    x.observe(outputEl, {childList: true});\n",
       "}}\n",
       "\n",
       "                        })                };                });            </script>        </div>"
      ]
     },
     "metadata": {},
     "output_type": "display_data"
    }
   ],
   "source": [
    "from src.distances import load_distances\n",
    "import plotly.express as px\n",
    "import pandas as pd\n",
    "\n",
    "\n",
    "df = load_distances()\n",
    "\n",
    "study = \"movies\"\n",
    "\n",
    "notation1 = \"vega-lite\"\n",
    "notation2 = \"ggplot2\"\n",
    "distance1 = \"difflib\"\n",
    "distance2 = \"difflib\"\n",
    "\n",
    "merged = pd.merge(df.query(f\"study=='{study}' and notation=='{notation1}'\")[[\"from_slug\", \"to_slug\", distance1]], \n",
    "                  df.query(f\"study=='{study}' and notation=='{notation2}'\")[[\"from_slug\", \"to_slug\", distance2]], \n",
    "                  on=[\"from_slug\", \"to_slug\"], suffixes=[\"_\" + notation1, \"_\"+ notation2])\n",
    "\n",
    "x= distance1+\"_\"+notation1\n",
    "y= distance2+\"_\"+notation2\n",
    "merged = merged.groupby(\"from_slug\").mean([x,y]).reset_index()\n",
    "\n",
    "fig = px.scatter(merged, x=x, y=y,\n",
    "                 hover_data=merged.columns, width=600, height=600)\n",
    "\n",
    "if distance1 == distance2:\n",
    "    the_min = min(merged[x].min(), merged[y].min())\n",
    "    the_max = max(merged[x].max(), merged[y].max())\n",
    "    stretch = 0.1*(the_max-the_min)\n",
    "    fig.add_shape(type=\"line\", line=dict(color=\"white\", width=1),\n",
    "                  x0=the_min-stretch, y0=the_min-stretch,\n",
    "                  x1=the_max+stretch, y1=the_max+stretch)\n",
    "fig"
   ]
  },
  {
   "cell_type": "code",
   "execution_count": 3,
   "id": "c8d9cab4-c058-4481-a89e-90c8ac355338",
   "metadata": {},
   "outputs": [
    {
     "data": {
      "application/vnd.plotly.v1+json": {
       "config": {
        "plotlyServerURL": "https://plotly.com"
       },
       "data": [
        {
         "customdata": [
          [
           false
          ],
          [
           false
          ],
          [
           false
          ],
          [
           false
          ],
          [
           false
          ],
          [
           false
          ],
          [
           false
          ],
          [
           false
          ],
          [
           false
          ],
          [
           false
          ],
          [
           false
          ],
          [
           false
          ],
          [
           false
          ],
          [
           false
          ],
          [
           false
          ],
          [
           false
          ],
          [
           false
          ],
          [
           false
          ],
          [
           false
          ],
          [
           false
          ],
          [
           false
          ],
          [
           false
          ],
          [
           false
          ],
          [
           false
          ]
         ],
         "hovertemplate": "<b>%{hovertext}</b><br><br><extra></extra>",
         "hovertext": [
          "area_colored",
          "area_colored_stacked",
          "bar_budget",
          "bar_budget_avg",
          "bar_budget_avg_colored",
          "bar_count_100",
          "bar_count_colored",
          "bar_count_horizontal",
          "bar_count_single",
          "box",
          "box_colored",
          "box_faceted",
          "bubble",
          "heatmap_budget_avg",
          "heatmap_count",
          "line",
          "line_colored",
          "pie_count",
          "scatter",
          "scatter_colored",
          "scatter_colored_continuous",
          "scatter_colored_symbol",
          "scatter_ols_global",
          "scatter_ols_separate"
         ],
         "legendgroup": "False",
         "marker": {
          "color": "#636efa",
          "symbol": "circle"
         },
         "mode": "markers",
         "name": "False",
         "orientation": "v",
         "showlegend": true,
         "type": "scatter",
         "x": [
          122.24,
          132.8,
          98.24,
          97.28,
          99.2,
          102.08,
          93.12,
          100.16,
          95.04,
          96.32,
          96.32,
          114.88,
          101.12,
          98.56,
          95.04,
          126.4,
          119.36,
          103.36,
          97.6,
          90.56,
          103.36,
          97.92,
          215.36,
          229.12
         ],
         "xaxis": "x",
         "y": [
          133.6,
          145.44,
          77.92,
          87.2,
          94.56,
          86.88,
          74.4,
          81.44,
          92,
          78.88,
          74.72,
          96.8,
          105.76,
          94.56,
          83.36,
          133.92,
          133.28,
          82.72,
          76.96,
          73.12,
          79.52,
          81.44,
          93.92,
          82.4
         ],
         "yaxis": "y"
        },
        {
         "customdata": [
          [
           true
          ],
          [
           true
          ]
         ],
         "hovertemplate": "<b>%{hovertext}</b><br><br><extra></extra>",
         "hovertext": [
          "bar_count",
          "bubble_agg"
         ],
         "legendgroup": "True",
         "marker": {
          "color": "#EF553B",
          "size": 10,
          "symbol": "circle"
         },
         "mode": "markers",
         "name": "True",
         "orientation": "v",
         "showlegend": true,
         "type": "scatter",
         "x": [
          94.08,
          106.88
         ],
         "xaxis": "x",
         "y": [
          81.12,
          109.6
         ],
         "yaxis": "y"
        }
       ],
       "layout": {
        "height": 500,
        "legend": {
         "title": {
          "text": "selected"
         },
         "tracegroupgap": 0
        },
        "margin": {
         "t": 60
        },
        "shapes": [
         {
          "line": {
           "color": "white",
           "width": 1
          },
          "type": "line",
          "x0": 57.52,
          "x1": 244.72,
          "y0": 57.52,
          "y1": 244.72
         }
        ],
        "showlegend": false,
        "template": {
         "data": {
          "bar": [
           {
            "error_x": {
             "color": "#2a3f5f"
            },
            "error_y": {
             "color": "#2a3f5f"
            },
            "marker": {
             "line": {
              "color": "#E5ECF6",
              "width": 0.5
             },
             "pattern": {
              "fillmode": "overlay",
              "size": 10,
              "solidity": 0.2
             }
            },
            "type": "bar"
           }
          ],
          "barpolar": [
           {
            "marker": {
             "line": {
              "color": "#E5ECF6",
              "width": 0.5
             },
             "pattern": {
              "fillmode": "overlay",
              "size": 10,
              "solidity": 0.2
             }
            },
            "type": "barpolar"
           }
          ],
          "carpet": [
           {
            "aaxis": {
             "endlinecolor": "#2a3f5f",
             "gridcolor": "white",
             "linecolor": "white",
             "minorgridcolor": "white",
             "startlinecolor": "#2a3f5f"
            },
            "baxis": {
             "endlinecolor": "#2a3f5f",
             "gridcolor": "white",
             "linecolor": "white",
             "minorgridcolor": "white",
             "startlinecolor": "#2a3f5f"
            },
            "type": "carpet"
           }
          ],
          "choropleth": [
           {
            "colorbar": {
             "outlinewidth": 0,
             "ticks": ""
            },
            "type": "choropleth"
           }
          ],
          "contour": [
           {
            "colorbar": {
             "outlinewidth": 0,
             "ticks": ""
            },
            "colorscale": [
             [
              0,
              "#0d0887"
             ],
             [
              0.1111111111111111,
              "#46039f"
             ],
             [
              0.2222222222222222,
              "#7201a8"
             ],
             [
              0.3333333333333333,
              "#9c179e"
             ],
             [
              0.4444444444444444,
              "#bd3786"
             ],
             [
              0.5555555555555556,
              "#d8576b"
             ],
             [
              0.6666666666666666,
              "#ed7953"
             ],
             [
              0.7777777777777778,
              "#fb9f3a"
             ],
             [
              0.8888888888888888,
              "#fdca26"
             ],
             [
              1,
              "#f0f921"
             ]
            ],
            "type": "contour"
           }
          ],
          "contourcarpet": [
           {
            "colorbar": {
             "outlinewidth": 0,
             "ticks": ""
            },
            "type": "contourcarpet"
           }
          ],
          "heatmap": [
           {
            "colorbar": {
             "outlinewidth": 0,
             "ticks": ""
            },
            "colorscale": [
             [
              0,
              "#0d0887"
             ],
             [
              0.1111111111111111,
              "#46039f"
             ],
             [
              0.2222222222222222,
              "#7201a8"
             ],
             [
              0.3333333333333333,
              "#9c179e"
             ],
             [
              0.4444444444444444,
              "#bd3786"
             ],
             [
              0.5555555555555556,
              "#d8576b"
             ],
             [
              0.6666666666666666,
              "#ed7953"
             ],
             [
              0.7777777777777778,
              "#fb9f3a"
             ],
             [
              0.8888888888888888,
              "#fdca26"
             ],
             [
              1,
              "#f0f921"
             ]
            ],
            "type": "heatmap"
           }
          ],
          "heatmapgl": [
           {
            "colorbar": {
             "outlinewidth": 0,
             "ticks": ""
            },
            "colorscale": [
             [
              0,
              "#0d0887"
             ],
             [
              0.1111111111111111,
              "#46039f"
             ],
             [
              0.2222222222222222,
              "#7201a8"
             ],
             [
              0.3333333333333333,
              "#9c179e"
             ],
             [
              0.4444444444444444,
              "#bd3786"
             ],
             [
              0.5555555555555556,
              "#d8576b"
             ],
             [
              0.6666666666666666,
              "#ed7953"
             ],
             [
              0.7777777777777778,
              "#fb9f3a"
             ],
             [
              0.8888888888888888,
              "#fdca26"
             ],
             [
              1,
              "#f0f921"
             ]
            ],
            "type": "heatmapgl"
           }
          ],
          "histogram": [
           {
            "marker": {
             "pattern": {
              "fillmode": "overlay",
              "size": 10,
              "solidity": 0.2
             }
            },
            "type": "histogram"
           }
          ],
          "histogram2d": [
           {
            "colorbar": {
             "outlinewidth": 0,
             "ticks": ""
            },
            "colorscale": [
             [
              0,
              "#0d0887"
             ],
             [
              0.1111111111111111,
              "#46039f"
             ],
             [
              0.2222222222222222,
              "#7201a8"
             ],
             [
              0.3333333333333333,
              "#9c179e"
             ],
             [
              0.4444444444444444,
              "#bd3786"
             ],
             [
              0.5555555555555556,
              "#d8576b"
             ],
             [
              0.6666666666666666,
              "#ed7953"
             ],
             [
              0.7777777777777778,
              "#fb9f3a"
             ],
             [
              0.8888888888888888,
              "#fdca26"
             ],
             [
              1,
              "#f0f921"
             ]
            ],
            "type": "histogram2d"
           }
          ],
          "histogram2dcontour": [
           {
            "colorbar": {
             "outlinewidth": 0,
             "ticks": ""
            },
            "colorscale": [
             [
              0,
              "#0d0887"
             ],
             [
              0.1111111111111111,
              "#46039f"
             ],
             [
              0.2222222222222222,
              "#7201a8"
             ],
             [
              0.3333333333333333,
              "#9c179e"
             ],
             [
              0.4444444444444444,
              "#bd3786"
             ],
             [
              0.5555555555555556,
              "#d8576b"
             ],
             [
              0.6666666666666666,
              "#ed7953"
             ],
             [
              0.7777777777777778,
              "#fb9f3a"
             ],
             [
              0.8888888888888888,
              "#fdca26"
             ],
             [
              1,
              "#f0f921"
             ]
            ],
            "type": "histogram2dcontour"
           }
          ],
          "mesh3d": [
           {
            "colorbar": {
             "outlinewidth": 0,
             "ticks": ""
            },
            "type": "mesh3d"
           }
          ],
          "parcoords": [
           {
            "line": {
             "colorbar": {
              "outlinewidth": 0,
              "ticks": ""
             }
            },
            "type": "parcoords"
           }
          ],
          "pie": [
           {
            "automargin": true,
            "type": "pie"
           }
          ],
          "scatter": [
           {
            "fillpattern": {
             "fillmode": "overlay",
             "size": 10,
             "solidity": 0.2
            },
            "type": "scatter"
           }
          ],
          "scatter3d": [
           {
            "line": {
             "colorbar": {
              "outlinewidth": 0,
              "ticks": ""
             }
            },
            "marker": {
             "colorbar": {
              "outlinewidth": 0,
              "ticks": ""
             }
            },
            "type": "scatter3d"
           }
          ],
          "scattercarpet": [
           {
            "marker": {
             "colorbar": {
              "outlinewidth": 0,
              "ticks": ""
             }
            },
            "type": "scattercarpet"
           }
          ],
          "scattergeo": [
           {
            "marker": {
             "colorbar": {
              "outlinewidth": 0,
              "ticks": ""
             }
            },
            "type": "scattergeo"
           }
          ],
          "scattergl": [
           {
            "marker": {
             "colorbar": {
              "outlinewidth": 0,
              "ticks": ""
             }
            },
            "type": "scattergl"
           }
          ],
          "scattermapbox": [
           {
            "marker": {
             "colorbar": {
              "outlinewidth": 0,
              "ticks": ""
             }
            },
            "type": "scattermapbox"
           }
          ],
          "scatterpolar": [
           {
            "marker": {
             "colorbar": {
              "outlinewidth": 0,
              "ticks": ""
             }
            },
            "type": "scatterpolar"
           }
          ],
          "scatterpolargl": [
           {
            "marker": {
             "colorbar": {
              "outlinewidth": 0,
              "ticks": ""
             }
            },
            "type": "scatterpolargl"
           }
          ],
          "scatterternary": [
           {
            "marker": {
             "colorbar": {
              "outlinewidth": 0,
              "ticks": ""
             }
            },
            "type": "scatterternary"
           }
          ],
          "surface": [
           {
            "colorbar": {
             "outlinewidth": 0,
             "ticks": ""
            },
            "colorscale": [
             [
              0,
              "#0d0887"
             ],
             [
              0.1111111111111111,
              "#46039f"
             ],
             [
              0.2222222222222222,
              "#7201a8"
             ],
             [
              0.3333333333333333,
              "#9c179e"
             ],
             [
              0.4444444444444444,
              "#bd3786"
             ],
             [
              0.5555555555555556,
              "#d8576b"
             ],
             [
              0.6666666666666666,
              "#ed7953"
             ],
             [
              0.7777777777777778,
              "#fb9f3a"
             ],
             [
              0.8888888888888888,
              "#fdca26"
             ],
             [
              1,
              "#f0f921"
             ]
            ],
            "type": "surface"
           }
          ],
          "table": [
           {
            "cells": {
             "fill": {
              "color": "#EBF0F8"
             },
             "line": {
              "color": "white"
             }
            },
            "header": {
             "fill": {
              "color": "#C8D4E3"
             },
             "line": {
              "color": "white"
             }
            },
            "type": "table"
           }
          ]
         },
         "layout": {
          "annotationdefaults": {
           "arrowcolor": "#2a3f5f",
           "arrowhead": 0,
           "arrowwidth": 1
          },
          "autotypenumbers": "strict",
          "coloraxis": {
           "colorbar": {
            "outlinewidth": 0,
            "ticks": ""
           }
          },
          "colorscale": {
           "diverging": [
            [
             0,
             "#8e0152"
            ],
            [
             0.1,
             "#c51b7d"
            ],
            [
             0.2,
             "#de77ae"
            ],
            [
             0.3,
             "#f1b6da"
            ],
            [
             0.4,
             "#fde0ef"
            ],
            [
             0.5,
             "#f7f7f7"
            ],
            [
             0.6,
             "#e6f5d0"
            ],
            [
             0.7,
             "#b8e186"
            ],
            [
             0.8,
             "#7fbc41"
            ],
            [
             0.9,
             "#4d9221"
            ],
            [
             1,
             "#276419"
            ]
           ],
           "sequential": [
            [
             0,
             "#0d0887"
            ],
            [
             0.1111111111111111,
             "#46039f"
            ],
            [
             0.2222222222222222,
             "#7201a8"
            ],
            [
             0.3333333333333333,
             "#9c179e"
            ],
            [
             0.4444444444444444,
             "#bd3786"
            ],
            [
             0.5555555555555556,
             "#d8576b"
            ],
            [
             0.6666666666666666,
             "#ed7953"
            ],
            [
             0.7777777777777778,
             "#fb9f3a"
            ],
            [
             0.8888888888888888,
             "#fdca26"
            ],
            [
             1,
             "#f0f921"
            ]
           ],
           "sequentialminus": [
            [
             0,
             "#0d0887"
            ],
            [
             0.1111111111111111,
             "#46039f"
            ],
            [
             0.2222222222222222,
             "#7201a8"
            ],
            [
             0.3333333333333333,
             "#9c179e"
            ],
            [
             0.4444444444444444,
             "#bd3786"
            ],
            [
             0.5555555555555556,
             "#d8576b"
            ],
            [
             0.6666666666666666,
             "#ed7953"
            ],
            [
             0.7777777777777778,
             "#fb9f3a"
            ],
            [
             0.8888888888888888,
             "#fdca26"
            ],
            [
             1,
             "#f0f921"
            ]
           ]
          },
          "colorway": [
           "#636efa",
           "#EF553B",
           "#00cc96",
           "#ab63fa",
           "#FFA15A",
           "#19d3f3",
           "#FF6692",
           "#B6E880",
           "#FF97FF",
           "#FECB52"
          ],
          "font": {
           "color": "#2a3f5f"
          },
          "geo": {
           "bgcolor": "white",
           "lakecolor": "white",
           "landcolor": "#E5ECF6",
           "showlakes": true,
           "showland": true,
           "subunitcolor": "white"
          },
          "hoverlabel": {
           "align": "left"
          },
          "hovermode": "closest",
          "mapbox": {
           "style": "light"
          },
          "paper_bgcolor": "white",
          "plot_bgcolor": "#E5ECF6",
          "polar": {
           "angularaxis": {
            "gridcolor": "white",
            "linecolor": "white",
            "ticks": ""
           },
           "bgcolor": "#E5ECF6",
           "radialaxis": {
            "gridcolor": "white",
            "linecolor": "white",
            "ticks": ""
           }
          },
          "scene": {
           "xaxis": {
            "backgroundcolor": "#E5ECF6",
            "gridcolor": "white",
            "gridwidth": 2,
            "linecolor": "white",
            "showbackground": true,
            "ticks": "",
            "zerolinecolor": "white"
           },
           "yaxis": {
            "backgroundcolor": "#E5ECF6",
            "gridcolor": "white",
            "gridwidth": 2,
            "linecolor": "white",
            "showbackground": true,
            "ticks": "",
            "zerolinecolor": "white"
           },
           "zaxis": {
            "backgroundcolor": "#E5ECF6",
            "gridcolor": "white",
            "gridwidth": 2,
            "linecolor": "white",
            "showbackground": true,
            "ticks": "",
            "zerolinecolor": "white"
           }
          },
          "shapedefaults": {
           "line": {
            "color": "#2a3f5f"
           }
          },
          "ternary": {
           "aaxis": {
            "gridcolor": "white",
            "linecolor": "white",
            "ticks": ""
           },
           "baxis": {
            "gridcolor": "white",
            "linecolor": "white",
            "ticks": ""
           },
           "bgcolor": "#E5ECF6",
           "caxis": {
            "gridcolor": "white",
            "linecolor": "white",
            "ticks": ""
           }
          },
          "title": {
           "x": 0.05
          },
          "xaxis": {
           "automargin": true,
           "gridcolor": "white",
           "linecolor": "white",
           "ticks": "",
           "title": {
            "standoff": 15
           },
           "zerolinecolor": "white",
           "zerolinewidth": 2
          },
          "yaxis": {
           "automargin": true,
           "gridcolor": "white",
           "linecolor": "white",
           "ticks": "",
           "title": {
            "standoff": 15
           },
           "zerolinecolor": "white",
           "zerolinewidth": 2
          }
         }
        },
        "width": 500,
        "xaxis": {
         "anchor": "y",
         "autorange": true,
         "domain": [
          0,
          1
         ],
         "range": [
          57.24389380530974,
          244.99610619469027
         ],
         "title": {
          "text": "nmi_vega-lite"
         },
         "type": "linear"
        },
        "yaxis": {
         "anchor": "x",
         "autorange": true,
         "domain": [
          0,
          1
         ],
         "range": [
          57.259275766016714,
          244.9807242339833
         ],
         "title": {
          "text": "nmi_plotly_express"
         },
         "type": "linear"
        }
       }
      },
      "image/png": "[encoded data removed]",
      "text/html": [
       "<div>                            <div id=\"d51fc6f1-709c-4b1c-b66c-97a32a3d4662\" class=\"plotly-graph-div\" style=\"height:500px; width:500px;\"></div>            <script type=\"text/javascript\">                require([\"plotly\"], function(Plotly) {                    window.PLOTLYENV=window.PLOTLYENV || {};                                    if (document.getElementById(\"d51fc6f1-709c-4b1c-b66c-97a32a3d4662\")) {                    Plotly.newPlot(                        \"d51fc6f1-709c-4b1c-b66c-97a32a3d4662\",                        [{\"customdata\":[[false],[false],[false],[false],[false],[false],[false],[false],[false],[false],[false],[false],[false],[false],[false],[false],[false],[false],[false],[false],[false],[false],[false],[false]],\"hovertemplate\":\"<b>%{hovertext}</b><br><br><extra></extra>\",\"hovertext\":[\"area_colored\",\"area_colored_stacked\",\"bar_budget\",\"bar_budget_avg\",\"bar_budget_avg_colored\",\"bar_count_100\",\"bar_count_colored\",\"bar_count_horizontal\",\"bar_count_single\",\"box\",\"box_colored\",\"box_faceted\",\"bubble\",\"heatmap_budget_avg\",\"heatmap_count\",\"line\",\"line_colored\",\"pie_count\",\"scatter\",\"scatter_colored\",\"scatter_colored_continuous\",\"scatter_colored_symbol\",\"scatter_ols_global\",\"scatter_ols_separate\"],\"legendgroup\":\"False\",\"marker\":{\"color\":\"#636efa\",\"symbol\":\"circle\"},\"mode\":\"markers\",\"name\":\"False\",\"orientation\":\"v\",\"showlegend\":true,\"x\":[122.24,132.8,98.24,97.28,99.2,102.08,93.12,100.16,95.04,96.32,96.32,114.88,101.12,98.56,95.04,126.4,119.36,103.36,97.6,90.56,103.36,97.92,215.36,229.12],\"xaxis\":\"x\",\"y\":[133.6,145.44,77.92,87.2,94.56,86.88,74.4,81.44,92.0,78.88,74.72,96.8,105.76,94.56,83.36,133.92,133.28,82.72,76.96,73.12,79.52,81.44,93.92,82.4],\"yaxis\":\"y\",\"type\":\"scatter\"},{\"customdata\":[[true],[true]],\"hovertemplate\":\"<b>%{hovertext}</b><br><br><extra></extra>\",\"hovertext\":[\"bar_count\",\"bubble_agg\"],\"legendgroup\":\"True\",\"marker\":{\"color\":\"#EF553B\",\"symbol\":\"circle\",\"size\":10},\"mode\":\"markers\",\"name\":\"True\",\"orientation\":\"v\",\"showlegend\":true,\"x\":[94.08,106.88],\"xaxis\":\"x\",\"y\":[81.12,109.6],\"yaxis\":\"y\",\"type\":\"scatter\"}],                        {\"template\":{\"data\":{\"histogram2dcontour\":[{\"type\":\"histogram2dcontour\",\"colorbar\":{\"outlinewidth\":0,\"ticks\":\"\"},\"colorscale\":[[0.0,\"#0d0887\"],[0.1111111111111111,\"#46039f\"],[0.2222222222222222,\"#7201a8\"],[0.3333333333333333,\"#9c179e\"],[0.4444444444444444,\"#bd3786\"],[0.5555555555555556,\"#d8576b\"],[0.6666666666666666,\"#ed7953\"],[0.7777777777777778,\"#fb9f3a\"],[0.8888888888888888,\"#fdca26\"],[1.0,\"#f0f921\"]]}],\"choropleth\":[{\"type\":\"choropleth\",\"colorbar\":{\"outlinewidth\":0,\"ticks\":\"\"}}],\"histogram2d\":[{\"type\":\"histogram2d\",\"colorbar\":{\"outlinewidth\":0,\"ticks\":\"\"},\"colorscale\":[[0.0,\"#0d0887\"],[0.1111111111111111,\"#46039f\"],[0.2222222222222222,\"#7201a8\"],[0.3333333333333333,\"#9c179e\"],[0.4444444444444444,\"#bd3786\"],[0.5555555555555556,\"#d8576b\"],[0.6666666666666666,\"#ed7953\"],[0.7777777777777778,\"#fb9f3a\"],[0.8888888888888888,\"#fdca26\"],[1.0,\"#f0f921\"]]}],\"heatmap\":[{\"type\":\"heatmap\",\"colorbar\":{\"outlinewidth\":0,\"ticks\":\"\"},\"colorscale\":[[0.0,\"#0d0887\"],[0.1111111111111111,\"#46039f\"],[0.2222222222222222,\"#7201a8\"],[0.3333333333333333,\"#9c179e\"],[0.4444444444444444,\"#bd3786\"],[0.5555555555555556,\"#d8576b\"],[0.6666666666666666,\"#ed7953\"],[0.7777777777777778,\"#fb9f3a\"],[0.8888888888888888,\"#fdca26\"],[1.0,\"#f0f921\"]]}],\"heatmapgl\":[{\"type\":\"heatmapgl\",\"colorbar\":{\"outlinewidth\":0,\"ticks\":\"\"},\"colorscale\":[[0.0,\"#0d0887\"],[0.1111111111111111,\"#46039f\"],[0.2222222222222222,\"#7201a8\"],[0.3333333333333333,\"#9c179e\"],[0.4444444444444444,\"#bd3786\"],[0.5555555555555556,\"#d8576b\"],[0.6666666666666666,\"#ed7953\"],[0.7777777777777778,\"#fb9f3a\"],[0.8888888888888888,\"#fdca26\"],[1.0,\"#f0f921\"]]}],\"contourcarpet\":[{\"type\":\"contourcarpet\",\"colorbar\":{\"outlinewidth\":0,\"ticks\":\"\"}}],\"contour\":[{\"type\":\"contour\",\"colorbar\":{\"outlinewidth\":0,\"ticks\":\"\"},\"colorscale\":[[0.0,\"#0d0887\"],[0.1111111111111111,\"#46039f\"],[0.2222222222222222,\"#7201a8\"],[0.3333333333333333,\"#9c179e\"],[0.4444444444444444,\"#bd3786\"],[0.5555555555555556,\"#d8576b\"],[0.6666666666666666,\"#ed7953\"],[0.7777777777777778,\"#fb9f3a\"],[0.8888888888888888,\"#fdca26\"],[1.0,\"#f0f921\"]]}],\"surface\":[{\"type\":\"surface\",\"colorbar\":{\"outlinewidth\":0,\"ticks\":\"\"},\"colorscale\":[[0.0,\"#0d0887\"],[0.1111111111111111,\"#46039f\"],[0.2222222222222222,\"#7201a8\"],[0.3333333333333333,\"#9c179e\"],[0.4444444444444444,\"#bd3786\"],[0.5555555555555556,\"#d8576b\"],[0.6666666666666666,\"#ed7953\"],[0.7777777777777778,\"#fb9f3a\"],[0.8888888888888888,\"#fdca26\"],[1.0,\"#f0f921\"]]}],\"mesh3d\":[{\"type\":\"mesh3d\",\"colorbar\":{\"outlinewidth\":0,\"ticks\":\"\"}}],\"scatter\":[{\"fillpattern\":{\"fillmode\":\"overlay\",\"size\":10,\"solidity\":0.2},\"type\":\"scatter\"}],\"parcoords\":[{\"type\":\"parcoords\",\"line\":{\"colorbar\":{\"outlinewidth\":0,\"ticks\":\"\"}}}],\"scatterpolargl\":[{\"type\":\"scatterpolargl\",\"marker\":{\"colorbar\":{\"outlinewidth\":0,\"ticks\":\"\"}}}],\"bar\":[{\"error_x\":{\"color\":\"#2a3f5f\"},\"error_y\":{\"color\":\"#2a3f5f\"},\"marker\":{\"line\":{\"color\":\"#E5ECF6\",\"width\":0.5},\"pattern\":{\"fillmode\":\"overlay\",\"size\":10,\"solidity\":0.2}},\"type\":\"bar\"}],\"scattergeo\":[{\"type\":\"scattergeo\",\"marker\":{\"colorbar\":{\"outlinewidth\":0,\"ticks\":\"\"}}}],\"scatterpolar\":[{\"type\":\"scatterpolar\",\"marker\":{\"colorbar\":{\"outlinewidth\":0,\"ticks\":\"\"}}}],\"histogram\":[{\"marker\":{\"pattern\":{\"fillmode\":\"overlay\",\"size\":10,\"solidity\":0.2}},\"type\":\"histogram\"}],\"scattergl\":[{\"type\":\"scattergl\",\"marker\":{\"colorbar\":{\"outlinewidth\":0,\"ticks\":\"\"}}}],\"scatter3d\":[{\"type\":\"scatter3d\",\"line\":{\"colorbar\":{\"outlinewidth\":0,\"ticks\":\"\"}},\"marker\":{\"colorbar\":{\"outlinewidth\":0,\"ticks\":\"\"}}}],\"scattermapbox\":[{\"type\":\"scattermapbox\",\"marker\":{\"colorbar\":{\"outlinewidth\":0,\"ticks\":\"\"}}}],\"scatterternary\":[{\"type\":\"scatterternary\",\"marker\":{\"colorbar\":{\"outlinewidth\":0,\"ticks\":\"\"}}}],\"scattercarpet\":[{\"type\":\"scattercarpet\",\"marker\":{\"colorbar\":{\"outlinewidth\":0,\"ticks\":\"\"}}}],\"carpet\":[{\"aaxis\":{\"endlinecolor\":\"#2a3f5f\",\"gridcolor\":\"white\",\"linecolor\":\"white\",\"minorgridcolor\":\"white\",\"startlinecolor\":\"#2a3f5f\"},\"baxis\":{\"endlinecolor\":\"#2a3f5f\",\"gridcolor\":\"white\",\"linecolor\":\"white\",\"minorgridcolor\":\"white\",\"startlinecolor\":\"#2a3f5f\"},\"type\":\"carpet\"}],\"table\":[{\"cells\":{\"fill\":{\"color\":\"#EBF0F8\"},\"line\":{\"color\":\"white\"}},\"header\":{\"fill\":{\"color\":\"#C8D4E3\"},\"line\":{\"color\":\"white\"}},\"type\":\"table\"}],\"barpolar\":[{\"marker\":{\"line\":{\"color\":\"#E5ECF6\",\"width\":0.5},\"pattern\":{\"fillmode\":\"overlay\",\"size\":10,\"solidity\":0.2}},\"type\":\"barpolar\"}],\"pie\":[{\"automargin\":true,\"type\":\"pie\"}]},\"layout\":{\"autotypenumbers\":\"strict\",\"colorway\":[\"#636efa\",\"#EF553B\",\"#00cc96\",\"#ab63fa\",\"#FFA15A\",\"#19d3f3\",\"#FF6692\",\"#B6E880\",\"#FF97FF\",\"#FECB52\"],\"font\":{\"color\":\"#2a3f5f\"},\"hovermode\":\"closest\",\"hoverlabel\":{\"align\":\"left\"},\"paper_bgcolor\":\"white\",\"plot_bgcolor\":\"#E5ECF6\",\"polar\":{\"bgcolor\":\"#E5ECF6\",\"angularaxis\":{\"gridcolor\":\"white\",\"linecolor\":\"white\",\"ticks\":\"\"},\"radialaxis\":{\"gridcolor\":\"white\",\"linecolor\":\"white\",\"ticks\":\"\"}},\"ternary\":{\"bgcolor\":\"#E5ECF6\",\"aaxis\":{\"gridcolor\":\"white\",\"linecolor\":\"white\",\"ticks\":\"\"},\"baxis\":{\"gridcolor\":\"white\",\"linecolor\":\"white\",\"ticks\":\"\"},\"caxis\":{\"gridcolor\":\"white\",\"linecolor\":\"white\",\"ticks\":\"\"}},\"coloraxis\":{\"colorbar\":{\"outlinewidth\":0,\"ticks\":\"\"}},\"colorscale\":{\"sequential\":[[0.0,\"#0d0887\"],[0.1111111111111111,\"#46039f\"],[0.2222222222222222,\"#7201a8\"],[0.3333333333333333,\"#9c179e\"],[0.4444444444444444,\"#bd3786\"],[0.5555555555555556,\"#d8576b\"],[0.6666666666666666,\"#ed7953\"],[0.7777777777777778,\"#fb9f3a\"],[0.8888888888888888,\"#fdca26\"],[1.0,\"#f0f921\"]],\"sequentialminus\":[[0.0,\"#0d0887\"],[0.1111111111111111,\"#46039f\"],[0.2222222222222222,\"#7201a8\"],[0.3333333333333333,\"#9c179e\"],[0.4444444444444444,\"#bd3786\"],[0.5555555555555556,\"#d8576b\"],[0.6666666666666666,\"#ed7953\"],[0.7777777777777778,\"#fb9f3a\"],[0.8888888888888888,\"#fdca26\"],[1.0,\"#f0f921\"]],\"diverging\":[[0,\"#8e0152\"],[0.1,\"#c51b7d\"],[0.2,\"#de77ae\"],[0.3,\"#f1b6da\"],[0.4,\"#fde0ef\"],[0.5,\"#f7f7f7\"],[0.6,\"#e6f5d0\"],[0.7,\"#b8e186\"],[0.8,\"#7fbc41\"],[0.9,\"#4d9221\"],[1,\"#276419\"]]},\"xaxis\":{\"gridcolor\":\"white\",\"linecolor\":\"white\",\"ticks\":\"\",\"title\":{\"standoff\":15},\"zerolinecolor\":\"white\",\"automargin\":true,\"zerolinewidth\":2},\"yaxis\":{\"gridcolor\":\"white\",\"linecolor\":\"white\",\"ticks\":\"\",\"title\":{\"standoff\":15},\"zerolinecolor\":\"white\",\"automargin\":true,\"zerolinewidth\":2},\"scene\":{\"xaxis\":{\"backgroundcolor\":\"#E5ECF6\",\"gridcolor\":\"white\",\"linecolor\":\"white\",\"showbackground\":true,\"ticks\":\"\",\"zerolinecolor\":\"white\",\"gridwidth\":2},\"yaxis\":{\"backgroundcolor\":\"#E5ECF6\",\"gridcolor\":\"white\",\"linecolor\":\"white\",\"showbackground\":true,\"ticks\":\"\",\"zerolinecolor\":\"white\",\"gridwidth\":2},\"zaxis\":{\"backgroundcolor\":\"#E5ECF6\",\"gridcolor\":\"white\",\"linecolor\":\"white\",\"showbackground\":true,\"ticks\":\"\",\"zerolinecolor\":\"white\",\"gridwidth\":2}},\"shapedefaults\":{\"line\":{\"color\":\"#2a3f5f\"}},\"annotationdefaults\":{\"arrowcolor\":\"#2a3f5f\",\"arrowhead\":0,\"arrowwidth\":1},\"geo\":{\"bgcolor\":\"white\",\"landcolor\":\"#E5ECF6\",\"subunitcolor\":\"white\",\"showland\":true,\"showlakes\":true,\"lakecolor\":\"white\"},\"title\":{\"x\":0.05},\"mapbox\":{\"style\":\"light\"}}},\"xaxis\":{\"anchor\":\"y\",\"domain\":[0.0,1.0],\"title\":{\"text\":\"nmi_vega-lite\"}},\"yaxis\":{\"anchor\":\"x\",\"domain\":[0.0,1.0],\"title\":{\"text\":\"nmi_plotly_express\"}},\"legend\":{\"title\":{\"text\":\"selected\"},\"tracegroupgap\":0},\"margin\":{\"t\":60},\"height\":500,\"width\":500,\"showlegend\":false,\"shapes\":[{\"line\":{\"color\":\"white\",\"width\":1},\"type\":\"line\",\"x0\":57.52,\"x1\":244.72,\"y0\":57.52,\"y1\":244.72}]},                        {\"responsive\": true}                    ).then(function(){\n",
       "                            \n",
       "var gd = document.getElementById('d51fc6f1-709c-4b1c-b66c-97a32a3d4662');\n",
       "var x = new MutationObserver(function (mutations, observer) {{\n",
       "        var display = window.getComputedStyle(gd).display;\n",
       "        if (!display || display === 'none') {{\n",
       "            console.log([gd, 'removed!']);\n",
       "            Plotly.purge(gd);\n",
       "            observer.disconnect();\n",
       "        }}\n",
       "}});\n",
       "\n",
       "// Listen for the removal of the full notebook cells\n",
       "var notebookContainer = gd.closest('#notebook-container');\n",
       "if (notebookContainer) {{\n",
       "    x.observe(notebookContainer, {childList: true});\n",
       "}}\n",
       "\n",
       "// Listen for the clearing of the current output cell\n",
       "var outputEl = gd.closest('.output');\n",
       "if (outputEl) {{\n",
       "    x.observe(outputEl, {childList: true});\n",
       "}}\n",
       "\n",
       "                        })                };                });            </script>        </div>"
      ]
     },
     "metadata": {},
     "output_type": "display_data"
    }
   ],
   "source": [
    "from src import vis_types, ext, get_distance, distance_types, get_vis, merged_distances\n",
    "import plotly.express as px\n",
    "import pandas as pd\n",
    "import numpy as np\n",
    "import statsmodels.api as sm\n",
    "\n",
    "def cross_notation_figure(study, notation, distance, notation2, distance2, from_slug, to_slug):\n",
    "\n",
    "    merged = merged_distances(study, notation, distance, notation2, distance2)\n",
    "\n",
    "    x = distance\n",
    "    y = distance2\n",
    "    if notation != notation2:\n",
    "        x += \"_\" + notation\n",
    "        y += \"_\" + notation2\n",
    "        \n",
    "    merged = merged.groupby(\"from_slug\").mean([x,y]).reset_index()\n",
    "    merged[\"selected\"] = (merged[\"from_slug\"] == from_slug) | (merged[\"from_slug\"] == to_slug)\n",
    "\n",
    "    fig = px.scatter(merged, x=x, y=y, hover_name=\"from_slug\", color=\"selected\", \n",
    "                     hover_data={x: False, y: False, \"selected\": False}, \n",
    "                     width=500, height=500)\n",
    "    fig.update_layout(showlegend=False)\n",
    "    if len(fig.data) > 1:\n",
    "        fig.data[1].marker.size = 10\n",
    "        \n",
    "    \n",
    "    if distance == distance2:\n",
    "        the_min = min(merged[x].min(), merged[y].min())\n",
    "        the_max = max(merged[x].max(), merged[y].max())\n",
    "        stretch = 0.1 * (the_max - the_min)\n",
    "        fig.add_shape(\n",
    "            type=\"line\", line=dict(color=\"white\", width=1), x0=the_min - stretch, y0=the_min - stretch, x1=the_max + stretch, y1=the_max + stretch\n",
    "        )\n",
    "    return fig\n",
    "\n",
    "cross_notation_figure(\"movies\", \"vega-lite\", \"nmi\", \"plotly_express\", \"nmi\", \"bar_count\", \"bubble_agg\")"
   ]
  },
  {
   "cell_type": "code",
   "execution_count": 4,
   "id": "35aaa676-20be-4138-8c8d-d1634ffd33e0",
   "metadata": {},
   "outputs": [
    {
     "data": {
      "application/vnd.plotly.v1+json": {
       "config": {
        "plotlyServerURL": "https://plotly.com"
       },
       "data": [
        {
         "a": [
          144,
          160,
          68,
          72,
          84,
          68,
          80,
          68,
          72,
          104,
          88,
          68,
          64,
          88,
          112,
          124,
          84,
          76,
          68,
          80,
          140,
          144,
          148,
          80,
          72,
          76,
          80,
          84,
          100,
          88
         ],
         "b": [
          124,
          140,
          80,
          84,
          92,
          96,
          104,
          88,
          96,
          100,
          96,
          80,
          88,
          104,
          104,
          108,
          88,
          92,
          100,
          108,
          128,
          124,
          168,
          96,
          100,
          88,
          104,
          100,
          168,
          180
         ],
         "hovertext": [
          "area_colored",
          "area_colored_stacked",
          "bar_budget",
          "bar_budget_avg",
          "bar_budget_avg_colored",
          "bar_count",
          "bar_count_100",
          "bar_count_colored",
          "bar_count_horizontal",
          "bar_count_ordered",
          "bar_count_single",
          "box",
          "box_colored",
          "box_faceted",
          "bubble",
          "bubble_agg",
          "heatmap_budget_avg",
          "heatmap_count",
          "histogram",
          "histogram_mean",
          "line",
          "line_colored",
          "ols_separate",
          "pie_count",
          "scatter",
          "scatter_colored",
          "scatter_colored_continuous",
          "scatter_colored_symbol",
          "scatter_ols_global",
          "scatter_ols_separate"
         ],
         "mode": "markers",
         "type": "scattercarpet"
        },
        {
         "a": [
          52,
          122,
          192,
          52,
          122,
          192,
          52,
          122,
          192
         ],
         "aaxis": {
          "gridcolor": "lightgrey",
          "title": {
           "text": "nmi_plotly_express"
          },
          "type": "linear"
         },
         "b": [
          52,
          52,
          52,
          122,
          122,
          122,
          192,
          192,
          192
         ],
         "baxis": {
          "gridcolor": "lightgrey",
          "title": {
           "text": "nmi_vega-lite"
          },
          "type": "linear"
         },
         "type": "carpet",
         "x": [
          0,
          -5,
          -10,
          5,
          0,
          -5,
          10,
          5,
          0
         ],
         "y": [
          0,
          5,
          10,
          5,
          10,
          15,
          10,
          15,
          20
         ]
        }
       ],
       "layout": {
        "height": 500,
        "margin": {
         "b": 0,
         "l": 0,
         "r": 0,
         "t": 0
        },
        "plot_bgcolor": "white",
        "shapes": [
         {
          "line": {
           "color": "lightgrey",
           "width": 1
          },
          "x0": 0,
          "x1": 0,
          "y0": 0.1,
          "y1": 19.9
         }
        ],
        "showlegend": false,
        "template": {
         "data": {
          "bar": [
           {
            "error_x": {
             "color": "#2a3f5f"
            },
            "error_y": {
             "color": "#2a3f5f"
            },
            "marker": {
             "line": {
              "color": "#E5ECF6",
              "width": 0.5
             },
             "pattern": {
              "fillmode": "overlay",
              "size": 10,
              "solidity": 0.2
             }
            },
            "type": "bar"
           }
          ],
          "barpolar": [
           {
            "marker": {
             "line": {
              "color": "#E5ECF6",
              "width": 0.5
             },
             "pattern": {
              "fillmode": "overlay",
              "size": 10,
              "solidity": 0.2
             }
            },
            "type": "barpolar"
           }
          ],
          "carpet": [
           {
            "aaxis": {
             "endlinecolor": "#2a3f5f",
             "gridcolor": "white",
             "linecolor": "white",
             "minorgridcolor": "white",
             "startlinecolor": "#2a3f5f"
            },
            "baxis": {
             "endlinecolor": "#2a3f5f",
             "gridcolor": "white",
             "linecolor": "white",
             "minorgridcolor": "white",
             "startlinecolor": "#2a3f5f"
            },
            "type": "carpet"
           }
          ],
          "choropleth": [
           {
            "colorbar": {
             "outlinewidth": 0,
             "ticks": ""
            },
            "type": "choropleth"
           }
          ],
          "contour": [
           {
            "colorbar": {
             "outlinewidth": 0,
             "ticks": ""
            },
            "colorscale": [
             [
              0,
              "#0d0887"
             ],
             [
              0.1111111111111111,
              "#46039f"
             ],
             [
              0.2222222222222222,
              "#7201a8"
             ],
             [
              0.3333333333333333,
              "#9c179e"
             ],
             [
              0.4444444444444444,
              "#bd3786"
             ],
             [
              0.5555555555555556,
              "#d8576b"
             ],
             [
              0.6666666666666666,
              "#ed7953"
             ],
             [
              0.7777777777777778,
              "#fb9f3a"
             ],
             [
              0.8888888888888888,
              "#fdca26"
             ],
             [
              1,
              "#f0f921"
             ]
            ],
            "type": "contour"
           }
          ],
          "contourcarpet": [
           {
            "colorbar": {
             "outlinewidth": 0,
             "ticks": ""
            },
            "type": "contourcarpet"
           }
          ],
          "heatmap": [
           {
            "colorbar": {
             "outlinewidth": 0,
             "ticks": ""
            },
            "colorscale": [
             [
              0,
              "#0d0887"
             ],
             [
              0.1111111111111111,
              "#46039f"
             ],
             [
              0.2222222222222222,
              "#7201a8"
             ],
             [
              0.3333333333333333,
              "#9c179e"
             ],
             [
              0.4444444444444444,
              "#bd3786"
             ],
             [
              0.5555555555555556,
              "#d8576b"
             ],
             [
              0.6666666666666666,
              "#ed7953"
             ],
             [
              0.7777777777777778,
              "#fb9f3a"
             ],
             [
              0.8888888888888888,
              "#fdca26"
             ],
             [
              1,
              "#f0f921"
             ]
            ],
            "type": "heatmap"
           }
          ],
          "heatmapgl": [
           {
            "colorbar": {
             "outlinewidth": 0,
             "ticks": ""
            },
            "colorscale": [
             [
              0,
              "#0d0887"
             ],
             [
              0.1111111111111111,
              "#46039f"
             ],
             [
              0.2222222222222222,
              "#7201a8"
             ],
             [
              0.3333333333333333,
              "#9c179e"
             ],
             [
              0.4444444444444444,
              "#bd3786"
             ],
             [
              0.5555555555555556,
              "#d8576b"
             ],
             [
              0.6666666666666666,
              "#ed7953"
             ],
             [
              0.7777777777777778,
              "#fb9f3a"
             ],
             [
              0.8888888888888888,
              "#fdca26"
             ],
             [
              1,
              "#f0f921"
             ]
            ],
            "type": "heatmapgl"
           }
          ],
          "histogram": [
           {
            "marker": {
             "pattern": {
              "fillmode": "overlay",
              "size": 10,
              "solidity": 0.2
             }
            },
            "type": "histogram"
           }
          ],
          "histogram2d": [
           {
            "colorbar": {
             "outlinewidth": 0,
             "ticks": ""
            },
            "colorscale": [
             [
              0,
              "#0d0887"
             ],
             [
              0.1111111111111111,
              "#46039f"
             ],
             [
              0.2222222222222222,
              "#7201a8"
             ],
             [
              0.3333333333333333,
              "#9c179e"
             ],
             [
              0.4444444444444444,
              "#bd3786"
             ],
             [
              0.5555555555555556,
              "#d8576b"
             ],
             [
              0.6666666666666666,
              "#ed7953"
             ],
             [
              0.7777777777777778,
              "#fb9f3a"
             ],
             [
              0.8888888888888888,
              "#fdca26"
             ],
             [
              1,
              "#f0f921"
             ]
            ],
            "type": "histogram2d"
           }
          ],
          "histogram2dcontour": [
           {
            "colorbar": {
             "outlinewidth": 0,
             "ticks": ""
            },
            "colorscale": [
             [
              0,
              "#0d0887"
             ],
             [
              0.1111111111111111,
              "#46039f"
             ],
             [
              0.2222222222222222,
              "#7201a8"
             ],
             [
              0.3333333333333333,
              "#9c179e"
             ],
             [
              0.4444444444444444,
              "#bd3786"
             ],
             [
              0.5555555555555556,
              "#d8576b"
             ],
             [
              0.6666666666666666,
              "#ed7953"
             ],
             [
              0.7777777777777778,
              "#fb9f3a"
             ],
             [
              0.8888888888888888,
              "#fdca26"
             ],
             [
              1,
              "#f0f921"
             ]
            ],
            "type": "histogram2dcontour"
           }
          ],
          "mesh3d": [
           {
            "colorbar": {
             "outlinewidth": 0,
             "ticks": ""
            },
            "type": "mesh3d"
           }
          ],
          "parcoords": [
           {
            "line": {
             "colorbar": {
              "outlinewidth": 0,
              "ticks": ""
             }
            },
            "type": "parcoords"
           }
          ],
          "pie": [
           {
            "automargin": true,
            "type": "pie"
           }
          ],
          "scatter": [
           {
            "fillpattern": {
             "fillmode": "overlay",
             "size": 10,
             "solidity": 0.2
            },
            "type": "scatter"
           }
          ],
          "scatter3d": [
           {
            "line": {
             "colorbar": {
              "outlinewidth": 0,
              "ticks": ""
             }
            },
            "marker": {
             "colorbar": {
              "outlinewidth": 0,
              "ticks": ""
             }
            },
            "type": "scatter3d"
           }
          ],
          "scattercarpet": [
           {
            "marker": {
             "colorbar": {
              "outlinewidth": 0,
              "ticks": ""
             }
            },
            "type": "scattercarpet"
           }
          ],
          "scattergeo": [
           {
            "marker": {
             "colorbar": {
              "outlinewidth": 0,
              "ticks": ""
             }
            },
            "type": "scattergeo"
           }
          ],
          "scattergl": [
           {
            "marker": {
             "colorbar": {
              "outlinewidth": 0,
              "ticks": ""
             }
            },
            "type": "scattergl"
           }
          ],
          "scattermapbox": [
           {
            "marker": {
             "colorbar": {
              "outlinewidth": 0,
              "ticks": ""
             }
            },
            "type": "scattermapbox"
           }
          ],
          "scatterpolar": [
           {
            "marker": {
             "colorbar": {
              "outlinewidth": 0,
              "ticks": ""
             }
            },
            "type": "scatterpolar"
           }
          ],
          "scatterpolargl": [
           {
            "marker": {
             "colorbar": {
              "outlinewidth": 0,
              "ticks": ""
             }
            },
            "type": "scatterpolargl"
           }
          ],
          "scatterternary": [
           {
            "marker": {
             "colorbar": {
              "outlinewidth": 0,
              "ticks": ""
             }
            },
            "type": "scatterternary"
           }
          ],
          "surface": [
           {
            "colorbar": {
             "outlinewidth": 0,
             "ticks": ""
            },
            "colorscale": [
             [
              0,
              "#0d0887"
             ],
             [
              0.1111111111111111,
              "#46039f"
             ],
             [
              0.2222222222222222,
              "#7201a8"
             ],
             [
              0.3333333333333333,
              "#9c179e"
             ],
             [
              0.4444444444444444,
              "#bd3786"
             ],
             [
              0.5555555555555556,
              "#d8576b"
             ],
             [
              0.6666666666666666,
              "#ed7953"
             ],
             [
              0.7777777777777778,
              "#fb9f3a"
             ],
             [
              0.8888888888888888,
              "#fdca26"
             ],
             [
              1,
              "#f0f921"
             ]
            ],
            "type": "surface"
           }
          ],
          "table": [
           {
            "cells": {
             "fill": {
              "color": "#EBF0F8"
             },
             "line": {
              "color": "white"
             }
            },
            "header": {
             "fill": {
              "color": "#C8D4E3"
             },
             "line": {
              "color": "white"
             }
            },
            "type": "table"
           }
          ]
         },
         "layout": {
          "annotationdefaults": {
           "arrowcolor": "#2a3f5f",
           "arrowhead": 0,
           "arrowwidth": 1
          },
          "autotypenumbers": "strict",
          "coloraxis": {
           "colorbar": {
            "outlinewidth": 0,
            "ticks": ""
           }
          },
          "colorscale": {
           "diverging": [
            [
             0,
             "#8e0152"
            ],
            [
             0.1,
             "#c51b7d"
            ],
            [
             0.2,
             "#de77ae"
            ],
            [
             0.3,
             "#f1b6da"
            ],
            [
             0.4,
             "#fde0ef"
            ],
            [
             0.5,
             "#f7f7f7"
            ],
            [
             0.6,
             "#e6f5d0"
            ],
            [
             0.7,
             "#b8e186"
            ],
            [
             0.8,
             "#7fbc41"
            ],
            [
             0.9,
             "#4d9221"
            ],
            [
             1,
             "#276419"
            ]
           ],
           "sequential": [
            [
             0,
             "#0d0887"
            ],
            [
             0.1111111111111111,
             "#46039f"
            ],
            [
             0.2222222222222222,
             "#7201a8"
            ],
            [
             0.3333333333333333,
             "#9c179e"
            ],
            [
             0.4444444444444444,
             "#bd3786"
            ],
            [
             0.5555555555555556,
             "#d8576b"
            ],
            [
             0.6666666666666666,
             "#ed7953"
            ],
            [
             0.7777777777777778,
             "#fb9f3a"
            ],
            [
             0.8888888888888888,
             "#fdca26"
            ],
            [
             1,
             "#f0f921"
            ]
           ],
           "sequentialminus": [
            [
             0,
             "#0d0887"
            ],
            [
             0.1111111111111111,
             "#46039f"
            ],
            [
             0.2222222222222222,
             "#7201a8"
            ],
            [
             0.3333333333333333,
             "#9c179e"
            ],
            [
             0.4444444444444444,
             "#bd3786"
            ],
            [
             0.5555555555555556,
             "#d8576b"
            ],
            [
             0.6666666666666666,
             "#ed7953"
            ],
            [
             0.7777777777777778,
             "#fb9f3a"
            ],
            [
             0.8888888888888888,
             "#fdca26"
            ],
            [
             1,
             "#f0f921"
            ]
           ]
          },
          "colorway": [
           "#636efa",
           "#EF553B",
           "#00cc96",
           "#ab63fa",
           "#FFA15A",
           "#19d3f3",
           "#FF6692",
           "#B6E880",
           "#FF97FF",
           "#FECB52"
          ],
          "font": {
           "color": "#2a3f5f"
          },
          "geo": {
           "bgcolor": "white",
           "lakecolor": "white",
           "landcolor": "#E5ECF6",
           "showlakes": true,
           "showland": true,
           "subunitcolor": "white"
          },
          "hoverlabel": {
           "align": "left"
          },
          "hovermode": "closest",
          "mapbox": {
           "style": "light"
          },
          "paper_bgcolor": "white",
          "plot_bgcolor": "#E5ECF6",
          "polar": {
           "angularaxis": {
            "gridcolor": "white",
            "linecolor": "white",
            "ticks": ""
           },
           "bgcolor": "#E5ECF6",
           "radialaxis": {
            "gridcolor": "white",
            "linecolor": "white",
            "ticks": ""
           }
          },
          "scene": {
           "xaxis": {
            "backgroundcolor": "#E5ECF6",
            "gridcolor": "white",
            "gridwidth": 2,
            "linecolor": "white",
            "showbackground": true,
            "ticks": "",
            "zerolinecolor": "white"
           },
           "yaxis": {
            "backgroundcolor": "#E5ECF6",
            "gridcolor": "white",
            "gridwidth": 2,
            "linecolor": "white",
            "showbackground": true,
            "ticks": "",
            "zerolinecolor": "white"
           },
           "zaxis": {
            "backgroundcolor": "#E5ECF6",
            "gridcolor": "white",
            "gridwidth": 2,
            "linecolor": "white",
            "showbackground": true,
            "ticks": "",
            "zerolinecolor": "white"
           }
          },
          "shapedefaults": {
           "line": {
            "color": "#2a3f5f"
           }
          },
          "ternary": {
           "aaxis": {
            "gridcolor": "white",
            "linecolor": "white",
            "ticks": ""
           },
           "baxis": {
            "gridcolor": "white",
            "linecolor": "white",
            "ticks": ""
           },
           "bgcolor": "#E5ECF6",
           "caxis": {
            "gridcolor": "white",
            "linecolor": "white",
            "ticks": ""
           }
          },
          "title": {
           "x": 0.05
          },
          "xaxis": {
           "automargin": true,
           "gridcolor": "white",
           "linecolor": "white",
           "ticks": "",
           "title": {
            "standoff": 15
           },
           "zerolinecolor": "white",
           "zerolinewidth": 2
          },
          "yaxis": {
           "automargin": true,
           "gridcolor": "white",
           "linecolor": "white",
           "ticks": "",
           "title": {
            "standoff": 15
           },
           "zerolinecolor": "white",
           "zerolinewidth": 2
          }
         }
        },
        "width": 500,
        "xaxis": {
         "range": [
          -11,
          11
         ],
         "type": "linear",
         "visible": false
        },
        "yaxis": {
         "range": [
          -1,
          21
         ],
         "type": "linear",
         "visible": false
        }
       }
      },
      "image/png": "[encoded data removed]",
      "text/html": [
       "<div>                            <div id=\"be662fa7-a20e-4fbd-b135-2313d55e7371\" class=\"plotly-graph-div\" style=\"height:500px; width:500px;\"></div>            <script type=\"text/javascript\">                require([\"plotly\"], function(Plotly) {                    window.PLOTLYENV=window.PLOTLYENV || {};                                    if (document.getElementById(\"be662fa7-a20e-4fbd-b135-2313d55e7371\")) {                    Plotly.newPlot(                        \"be662fa7-a20e-4fbd-b135-2313d55e7371\",                        [{\"a\":[144,160,68,72,84,68,80,68,72,104,88,68,64,88,112,124,84,76,68,80,140,144,148,80,72,76,80,84,100,88],\"b\":[124,140,80,84,92,96,104,88,96,100,96,80,88,104,104,108,88,92,100,108,128,124,168,96,100,88,104,100,168,180],\"hovertext\":[\"area_colored\",\"area_colored_stacked\",\"bar_budget\",\"bar_budget_avg\",\"bar_budget_avg_colored\",\"bar_count\",\"bar_count_100\",\"bar_count_colored\",\"bar_count_horizontal\",\"bar_count_ordered\",\"bar_count_single\",\"box\",\"box_colored\",\"box_faceted\",\"bubble\",\"bubble_agg\",\"heatmap_budget_avg\",\"heatmap_count\",\"histogram\",\"histogram_mean\",\"line\",\"line_colored\",\"ols_separate\",\"pie_count\",\"scatter\",\"scatter_colored\",\"scatter_colored_continuous\",\"scatter_colored_symbol\",\"scatter_ols_global\",\"scatter_ols_separate\"],\"mode\":\"markers\",\"type\":\"scattercarpet\"},{\"a\":[52,122,192,52,122,192,52,122,192],\"aaxis\":{\"gridcolor\":\"lightgrey\",\"title\":{\"text\":\"nmi_plotly_express\"}},\"b\":[52,52,52,122,122,122,192,192,192],\"baxis\":{\"gridcolor\":\"lightgrey\",\"title\":{\"text\":\"nmi_vega-lite\"}},\"x\":[0,-5,-10,5,0,-5,10,5,0],\"y\":[0,5,10,5,10,15,10,15,20],\"type\":\"carpet\"}],                        {\"template\":{\"data\":{\"histogram2dcontour\":[{\"type\":\"histogram2dcontour\",\"colorbar\":{\"outlinewidth\":0,\"ticks\":\"\"},\"colorscale\":[[0.0,\"#0d0887\"],[0.1111111111111111,\"#46039f\"],[0.2222222222222222,\"#7201a8\"],[0.3333333333333333,\"#9c179e\"],[0.4444444444444444,\"#bd3786\"],[0.5555555555555556,\"#d8576b\"],[0.6666666666666666,\"#ed7953\"],[0.7777777777777778,\"#fb9f3a\"],[0.8888888888888888,\"#fdca26\"],[1.0,\"#f0f921\"]]}],\"choropleth\":[{\"type\":\"choropleth\",\"colorbar\":{\"outlinewidth\":0,\"ticks\":\"\"}}],\"histogram2d\":[{\"type\":\"histogram2d\",\"colorbar\":{\"outlinewidth\":0,\"ticks\":\"\"},\"colorscale\":[[0.0,\"#0d0887\"],[0.1111111111111111,\"#46039f\"],[0.2222222222222222,\"#7201a8\"],[0.3333333333333333,\"#9c179e\"],[0.4444444444444444,\"#bd3786\"],[0.5555555555555556,\"#d8576b\"],[0.6666666666666666,\"#ed7953\"],[0.7777777777777778,\"#fb9f3a\"],[0.8888888888888888,\"#fdca26\"],[1.0,\"#f0f921\"]]}],\"heatmap\":[{\"type\":\"heatmap\",\"colorbar\":{\"outlinewidth\":0,\"ticks\":\"\"},\"colorscale\":[[0.0,\"#0d0887\"],[0.1111111111111111,\"#46039f\"],[0.2222222222222222,\"#7201a8\"],[0.3333333333333333,\"#9c179e\"],[0.4444444444444444,\"#bd3786\"],[0.5555555555555556,\"#d8576b\"],[0.6666666666666666,\"#ed7953\"],[0.7777777777777778,\"#fb9f3a\"],[0.8888888888888888,\"#fdca26\"],[1.0,\"#f0f921\"]]}],\"heatmapgl\":[{\"type\":\"heatmapgl\",\"colorbar\":{\"outlinewidth\":0,\"ticks\":\"\"},\"colorscale\":[[0.0,\"#0d0887\"],[0.1111111111111111,\"#46039f\"],[0.2222222222222222,\"#7201a8\"],[0.3333333333333333,\"#9c179e\"],[0.4444444444444444,\"#bd3786\"],[0.5555555555555556,\"#d8576b\"],[0.6666666666666666,\"#ed7953\"],[0.7777777777777778,\"#fb9f3a\"],[0.8888888888888888,\"#fdca26\"],[1.0,\"#f0f921\"]]}],\"contourcarpet\":[{\"type\":\"contourcarpet\",\"colorbar\":{\"outlinewidth\":0,\"ticks\":\"\"}}],\"contour\":[{\"type\":\"contour\",\"colorbar\":{\"outlinewidth\":0,\"ticks\":\"\"},\"colorscale\":[[0.0,\"#0d0887\"],[0.1111111111111111,\"#46039f\"],[0.2222222222222222,\"#7201a8\"],[0.3333333333333333,\"#9c179e\"],[0.4444444444444444,\"#bd3786\"],[0.5555555555555556,\"#d8576b\"],[0.6666666666666666,\"#ed7953\"],[0.7777777777777778,\"#fb9f3a\"],[0.8888888888888888,\"#fdca26\"],[1.0,\"#f0f921\"]]}],\"surface\":[{\"type\":\"surface\",\"colorbar\":{\"outlinewidth\":0,\"ticks\":\"\"},\"colorscale\":[[0.0,\"#0d0887\"],[0.1111111111111111,\"#46039f\"],[0.2222222222222222,\"#7201a8\"],[0.3333333333333333,\"#9c179e\"],[0.4444444444444444,\"#bd3786\"],[0.5555555555555556,\"#d8576b\"],[0.6666666666666666,\"#ed7953\"],[0.7777777777777778,\"#fb9f3a\"],[0.8888888888888888,\"#fdca26\"],[1.0,\"#f0f921\"]]}],\"mesh3d\":[{\"type\":\"mesh3d\",\"colorbar\":{\"outlinewidth\":0,\"ticks\":\"\"}}],\"scatter\":[{\"fillpattern\":{\"fillmode\":\"overlay\",\"size\":10,\"solidity\":0.2},\"type\":\"scatter\"}],\"parcoords\":[{\"type\":\"parcoords\",\"line\":{\"colorbar\":{\"outlinewidth\":0,\"ticks\":\"\"}}}],\"scatterpolargl\":[{\"type\":\"scatterpolargl\",\"marker\":{\"colorbar\":{\"outlinewidth\":0,\"ticks\":\"\"}}}],\"bar\":[{\"error_x\":{\"color\":\"#2a3f5f\"},\"error_y\":{\"color\":\"#2a3f5f\"},\"marker\":{\"line\":{\"color\":\"#E5ECF6\",\"width\":0.5},\"pattern\":{\"fillmode\":\"overlay\",\"size\":10,\"solidity\":0.2}},\"type\":\"bar\"}],\"scattergeo\":[{\"type\":\"scattergeo\",\"marker\":{\"colorbar\":{\"outlinewidth\":0,\"ticks\":\"\"}}}],\"scatterpolar\":[{\"type\":\"scatterpolar\",\"marker\":{\"colorbar\":{\"outlinewidth\":0,\"ticks\":\"\"}}}],\"histogram\":[{\"marker\":{\"pattern\":{\"fillmode\":\"overlay\",\"size\":10,\"solidity\":0.2}},\"type\":\"histogram\"}],\"scattergl\":[{\"type\":\"scattergl\",\"marker\":{\"colorbar\":{\"outlinewidth\":0,\"ticks\":\"\"}}}],\"scatter3d\":[{\"type\":\"scatter3d\",\"line\":{\"colorbar\":{\"outlinewidth\":0,\"ticks\":\"\"}},\"marker\":{\"colorbar\":{\"outlinewidth\":0,\"ticks\":\"\"}}}],\"scattermapbox\":[{\"type\":\"scattermapbox\",\"marker\":{\"colorbar\":{\"outlinewidth\":0,\"ticks\":\"\"}}}],\"scatterternary\":[{\"type\":\"scatterternary\",\"marker\":{\"colorbar\":{\"outlinewidth\":0,\"ticks\":\"\"}}}],\"scattercarpet\":[{\"type\":\"scattercarpet\",\"marker\":{\"colorbar\":{\"outlinewidth\":0,\"ticks\":\"\"}}}],\"carpet\":[{\"aaxis\":{\"endlinecolor\":\"#2a3f5f\",\"gridcolor\":\"white\",\"linecolor\":\"white\",\"minorgridcolor\":\"white\",\"startlinecolor\":\"#2a3f5f\"},\"baxis\":{\"endlinecolor\":\"#2a3f5f\",\"gridcolor\":\"white\",\"linecolor\":\"white\",\"minorgridcolor\":\"white\",\"startlinecolor\":\"#2a3f5f\"},\"type\":\"carpet\"}],\"table\":[{\"cells\":{\"fill\":{\"color\":\"#EBF0F8\"},\"line\":{\"color\":\"white\"}},\"header\":{\"fill\":{\"color\":\"#C8D4E3\"},\"line\":{\"color\":\"white\"}},\"type\":\"table\"}],\"barpolar\":[{\"marker\":{\"line\":{\"color\":\"#E5ECF6\",\"width\":0.5},\"pattern\":{\"fillmode\":\"overlay\",\"size\":10,\"solidity\":0.2}},\"type\":\"barpolar\"}],\"pie\":[{\"automargin\":true,\"type\":\"pie\"}]},\"layout\":{\"autotypenumbers\":\"strict\",\"colorway\":[\"#636efa\",\"#EF553B\",\"#00cc96\",\"#ab63fa\",\"#FFA15A\",\"#19d3f3\",\"#FF6692\",\"#B6E880\",\"#FF97FF\",\"#FECB52\"],\"font\":{\"color\":\"#2a3f5f\"},\"hovermode\":\"closest\",\"hoverlabel\":{\"align\":\"left\"},\"paper_bgcolor\":\"white\",\"plot_bgcolor\":\"#E5ECF6\",\"polar\":{\"bgcolor\":\"#E5ECF6\",\"angularaxis\":{\"gridcolor\":\"white\",\"linecolor\":\"white\",\"ticks\":\"\"},\"radialaxis\":{\"gridcolor\":\"white\",\"linecolor\":\"white\",\"ticks\":\"\"}},\"ternary\":{\"bgcolor\":\"#E5ECF6\",\"aaxis\":{\"gridcolor\":\"white\",\"linecolor\":\"white\",\"ticks\":\"\"},\"baxis\":{\"gridcolor\":\"white\",\"linecolor\":\"white\",\"ticks\":\"\"},\"caxis\":{\"gridcolor\":\"white\",\"linecolor\":\"white\",\"ticks\":\"\"}},\"coloraxis\":{\"colorbar\":{\"outlinewidth\":0,\"ticks\":\"\"}},\"colorscale\":{\"sequential\":[[0.0,\"#0d0887\"],[0.1111111111111111,\"#46039f\"],[0.2222222222222222,\"#7201a8\"],[0.3333333333333333,\"#9c179e\"],[0.4444444444444444,\"#bd3786\"],[0.5555555555555556,\"#d8576b\"],[0.6666666666666666,\"#ed7953\"],[0.7777777777777778,\"#fb9f3a\"],[0.8888888888888888,\"#fdca26\"],[1.0,\"#f0f921\"]],\"sequentialminus\":[[0.0,\"#0d0887\"],[0.1111111111111111,\"#46039f\"],[0.2222222222222222,\"#7201a8\"],[0.3333333333333333,\"#9c179e\"],[0.4444444444444444,\"#bd3786\"],[0.5555555555555556,\"#d8576b\"],[0.6666666666666666,\"#ed7953\"],[0.7777777777777778,\"#fb9f3a\"],[0.8888888888888888,\"#fdca26\"],[1.0,\"#f0f921\"]],\"diverging\":[[0,\"#8e0152\"],[0.1,\"#c51b7d\"],[0.2,\"#de77ae\"],[0.3,\"#f1b6da\"],[0.4,\"#fde0ef\"],[0.5,\"#f7f7f7\"],[0.6,\"#e6f5d0\"],[0.7,\"#b8e186\"],[0.8,\"#7fbc41\"],[0.9,\"#4d9221\"],[1,\"#276419\"]]},\"xaxis\":{\"gridcolor\":\"white\",\"linecolor\":\"white\",\"ticks\":\"\",\"title\":{\"standoff\":15},\"zerolinecolor\":\"white\",\"automargin\":true,\"zerolinewidth\":2},\"yaxis\":{\"gridcolor\":\"white\",\"linecolor\":\"white\",\"ticks\":\"\",\"title\":{\"standoff\":15},\"zerolinecolor\":\"white\",\"automargin\":true,\"zerolinewidth\":2},\"scene\":{\"xaxis\":{\"backgroundcolor\":\"#E5ECF6\",\"gridcolor\":\"white\",\"linecolor\":\"white\",\"showbackground\":true,\"ticks\":\"\",\"zerolinecolor\":\"white\",\"gridwidth\":2},\"yaxis\":{\"backgroundcolor\":\"#E5ECF6\",\"gridcolor\":\"white\",\"linecolor\":\"white\",\"showbackground\":true,\"ticks\":\"\",\"zerolinecolor\":\"white\",\"gridwidth\":2},\"zaxis\":{\"backgroundcolor\":\"#E5ECF6\",\"gridcolor\":\"white\",\"linecolor\":\"white\",\"showbackground\":true,\"ticks\":\"\",\"zerolinecolor\":\"white\",\"gridwidth\":2}},\"shapedefaults\":{\"line\":{\"color\":\"#2a3f5f\"}},\"annotationdefaults\":{\"arrowcolor\":\"#2a3f5f\",\"arrowhead\":0,\"arrowwidth\":1},\"geo\":{\"bgcolor\":\"white\",\"landcolor\":\"#E5ECF6\",\"subunitcolor\":\"white\",\"showland\":true,\"showlakes\":true,\"lakecolor\":\"white\"},\"title\":{\"x\":0.05},\"mapbox\":{\"style\":\"light\"}}},\"shapes\":[{\"line\":{\"color\":\"lightgrey\",\"width\":1},\"x0\":0,\"x1\":0,\"y0\":0.1,\"y1\":19.9}],\"xaxis\":{\"visible\":false,\"range\":[-11,11]},\"yaxis\":{\"visible\":false,\"range\":[-1,21]},\"margin\":{\"b\":0,\"t\":0,\"l\":0,\"r\":0},\"plot_bgcolor\":\"white\",\"width\":500,\"height\":500,\"showlegend\":false},                        {\"responsive\": true}                    ).then(function(){\n",
       "                            \n",
       "var gd = document.getElementById('be662fa7-a20e-4fbd-b135-2313d55e7371');\n",
       "var x = new MutationObserver(function (mutations, observer) {{\n",
       "        var display = window.getComputedStyle(gd).display;\n",
       "        if (!display || display === 'none') {{\n",
       "            console.log([gd, 'removed!']);\n",
       "            Plotly.purge(gd);\n",
       "            observer.disconnect();\n",
       "        }}\n",
       "}});\n",
       "\n",
       "// Listen for the removal of the full notebook cells\n",
       "var notebookContainer = gd.closest('#notebook-container');\n",
       "if (notebookContainer) {{\n",
       "    x.observe(notebookContainer, {childList: true});\n",
       "}}\n",
       "\n",
       "// Listen for the clearing of the current output cell\n",
       "var outputEl = gd.closest('.output');\n",
       "if (outputEl) {{\n",
       "    x.observe(outputEl, {childList: true});\n",
       "}}\n",
       "\n",
       "                        })                };                });            </script>        </div>"
      ]
     },
     "metadata": {},
     "output_type": "display_data"
    }
   ],
   "source": [
    "from src import vis_types, ext, get_distance, distance_types, get_vis, merged_distances\n",
    "import plotly.express as px\n",
    "import pandas as pd\n",
    "import numpy as np\n",
    "import plotly.graph_objects as go\n",
    "\n",
    "def cross_notation_figure(study, notation, distance, notation2, distance2, from_slug, to_slug):\n",
    "\n",
    "    merged = merged_distances(study, notation, distance, notation2, distance2)\n",
    "\n",
    "    x = distance\n",
    "    y = distance2\n",
    "    if notation != notation2:\n",
    "        x += \"_\" + notation\n",
    "        y += \"_\" + notation2\n",
    "        \n",
    "    merged = merged.groupby(\"from_slug\").median([x,y]).reset_index()\n",
    "    #merged[\"selected\"] = (merged[\"from_slug\"] == from_slug) | (merged[\"from_slug\"] == to_slug)\n",
    "\n",
    "    mn = min(merged[x].min(), merged[y].min())\n",
    "    mx = max(merged[x].max(), merged[y].max())\n",
    "    s = 0.1 * (mx - mn)\n",
    "    mx += s\n",
    "    mn -= s\n",
    "    md = (mn+mx)/2\n",
    "    md = round(md)\n",
    "    mx = round(mx)\n",
    "    mn = round(mn)\n",
    "\n",
    "    fig = go.Figure([\n",
    "        \n",
    "    go.Scattercarpet(mode=\"markers\", a=merged[y], b=merged[x], \n",
    "                     hovertext=merged[\"from_slug\"]),go.Carpet(\n",
    "        a = [mn, md, mx, mn, md, mx, mn, md, mx],\n",
    "        b = [mn, mn, mn, md, md, md, mx, mx, mx],\n",
    "        x = [ 0, -5,-10,  5,  0, -5, 10,  5,  0],\n",
    "        y = [ 0,  5, 10,  5, 10, 15, 10, 15, 20],\n",
    "        aaxis=dict(title=y, gridcolor=\"lightgrey\"),\n",
    "        baxis=dict(title=x, gridcolor=\"lightgrey\"),\n",
    "    ),\n",
    "    ]\n",
    "    )\n",
    "    fig.add_shape(line_color=\"lightgrey\", line_width=1, x0=0,x1=0,y0=0.1,y1=19.9)\n",
    "    fig.update_xaxes(visible=False, range=[-11,11])\n",
    "    fig.update_yaxes(visible=False, range=[-1,21])\n",
    "    fig.update_layout(plot_bgcolor=\"white\", margin=dict(b=0,t=0,l=0,r=0),\n",
    "                      width=500, height=500, showlegend=False)\n",
    "    \n",
    "\n",
    "    return fig\n",
    "\n",
    "cross_notation_figure(\"movies\", \"vega-lite\", \"nmi\", \"plotly_express\", \"nmi\", \"bar_count\", \"bubble_agg\")"
   ]
  },
  {
   "cell_type": "code",
   "execution_count": 34,
   "id": "b0c13146-aaf1-4c64-8cd5-bd418a51e5e8",
   "metadata": {},
   "outputs": [],
   "source": [
    "\n",
    "x = \"nmi_vega-lite\"\n",
    "y = \"nmi_plotly_express\"\n",
    "merged = merged_distances(\"movies\", \"vega-lite\", \"nmi\", \"plotly_express\", \"nmi\")\n",
    "merged = merged[merged[\"from_slug\"] < merged[\"to_slug\"]]\n",
    "merged2 = merged.groupby(\"from_slug\").mean([x,y]).reset_index()\n",
    "\n",
    "big = pd.merge(pd.merge(merged, merged2, on=\"from_slug\", suffixes=[\"\", \"_from\"]), \n",
    "         merged2, right_on=\"from_slug\", left_on=\"to_slug\", suffixes=[\"\", \"_to\"])\n",
    "big[x] = big[x] / ((big[x+\"_from\"] + big[x+\"_to\"])/2)\n",
    "big[y] = big[y] / ((big[y+\"_from\"] + big[y+\"_to\"])/2)"
   ]
  },
  {
   "cell_type": "code",
   "execution_count": 35,
   "id": "e51c7680-2a77-45ca-a108-c97ce776f909",
   "metadata": {},
   "outputs": [],
   "source": [
    "import plotly.express as px"
   ]
  },
  {
   "cell_type": "code",
   "execution_count": 38,
   "id": "57fb122e-a4b0-43b7-ab30-2cea055e073e",
   "metadata": {},
   "outputs": [
    {
     "data": {
      "application/vnd.plotly.v1+json": {
       "config": {
        "plotlyServerURL": "https://plotly.com"
       },
       "data": [
        {
         "customdata": [
          [
           "line_colored",
           "scatter"
          ],
          [
           "area_colored_stacked",
           "scatter"
          ],
          [
           "bar_budget_avg",
           "scatter"
          ],
          [
           "box_colored",
           "scatter"
          ],
          [
           "bubble_agg",
           "scatter"
          ],
          [
           "bar_count_horizontal",
           "scatter"
          ],
          [
           "bubble",
           "scatter"
          ],
          [
           "histogram_mean",
           "scatter"
          ],
          [
           "bar_count_single",
           "scatter"
          ],
          [
           "box_faceted",
           "scatter"
          ],
          [
           "pie_count",
           "scatter"
          ],
          [
           "bar_count_ordered",
           "scatter"
          ],
          [
           "box",
           "scatter"
          ],
          [
           "ols_separate",
           "scatter"
          ],
          [
           "bar_budget_avg_colored",
           "scatter"
          ],
          [
           "bar_count_colored",
           "scatter"
          ],
          [
           "bar_budget",
           "scatter"
          ],
          [
           "heatmap_count",
           "scatter"
          ],
          [
           "heatmap_budget_avg",
           "scatter"
          ],
          [
           "bar_count",
           "scatter"
          ],
          [
           "line",
           "scatter"
          ],
          [
           "area_colored",
           "scatter"
          ],
          [
           "histogram",
           "scatter"
          ],
          [
           "bar_count_100",
           "scatter"
          ],
          [
           "line_colored",
           "scatter_colored_symbol"
          ],
          [
           "area_colored_stacked",
           "scatter_colored_symbol"
          ],
          [
           "bar_budget_avg",
           "scatter_colored_symbol"
          ],
          [
           "box_colored",
           "scatter_colored_symbol"
          ],
          [
           "bubble_agg",
           "scatter_colored_symbol"
          ],
          [
           "bar_count_horizontal",
           "scatter_colored_symbol"
          ],
          [
           "scatter",
           "scatter_colored_symbol"
          ],
          [
           "bubble",
           "scatter_colored_symbol"
          ],
          [
           "histogram_mean",
           "scatter_colored_symbol"
          ],
          [
           "bar_count_single",
           "scatter_colored_symbol"
          ],
          [
           "scatter_colored_continuous",
           "scatter_colored_symbol"
          ],
          [
           "scatter_colored",
           "scatter_colored_symbol"
          ],
          [
           "box_faceted",
           "scatter_colored_symbol"
          ],
          [
           "pie_count",
           "scatter_colored_symbol"
          ],
          [
           "bar_count_ordered",
           "scatter_colored_symbol"
          ],
          [
           "box",
           "scatter_colored_symbol"
          ],
          [
           "ols_separate",
           "scatter_colored_symbol"
          ],
          [
           "bar_budget_avg_colored",
           "scatter_colored_symbol"
          ],
          [
           "bar_count_colored",
           "scatter_colored_symbol"
          ],
          [
           "bar_budget",
           "scatter_colored_symbol"
          ],
          [
           "heatmap_count",
           "scatter_colored_symbol"
          ],
          [
           "heatmap_budget_avg",
           "scatter_colored_symbol"
          ],
          [
           "bar_count",
           "scatter_colored_symbol"
          ],
          [
           "line",
           "scatter_colored_symbol"
          ],
          [
           "area_colored",
           "scatter_colored_symbol"
          ],
          [
           "histogram",
           "scatter_colored_symbol"
          ],
          [
           "bar_count_100",
           "scatter_colored_symbol"
          ],
          [
           "line_colored",
           "scatter_colored_continuous"
          ],
          [
           "area_colored_stacked",
           "scatter_colored_continuous"
          ],
          [
           "bar_budget_avg",
           "scatter_colored_continuous"
          ],
          [
           "box_colored",
           "scatter_colored_continuous"
          ],
          [
           "bubble_agg",
           "scatter_colored_continuous"
          ],
          [
           "bar_count_horizontal",
           "scatter_colored_continuous"
          ],
          [
           "scatter",
           "scatter_colored_continuous"
          ],
          [
           "bubble",
           "scatter_colored_continuous"
          ],
          [
           "histogram_mean",
           "scatter_colored_continuous"
          ],
          [
           "bar_count_single",
           "scatter_colored_continuous"
          ],
          [
           "scatter_colored",
           "scatter_colored_continuous"
          ],
          [
           "box_faceted",
           "scatter_colored_continuous"
          ],
          [
           "pie_count",
           "scatter_colored_continuous"
          ],
          [
           "bar_count_ordered",
           "scatter_colored_continuous"
          ],
          [
           "box",
           "scatter_colored_continuous"
          ],
          [
           "ols_separate",
           "scatter_colored_continuous"
          ],
          [
           "bar_budget_avg_colored",
           "scatter_colored_continuous"
          ],
          [
           "bar_count_colored",
           "scatter_colored_continuous"
          ],
          [
           "bar_budget",
           "scatter_colored_continuous"
          ],
          [
           "heatmap_count",
           "scatter_colored_continuous"
          ],
          [
           "heatmap_budget_avg",
           "scatter_colored_continuous"
          ],
          [
           "bar_count",
           "scatter_colored_continuous"
          ],
          [
           "line",
           "scatter_colored_continuous"
          ],
          [
           "area_colored",
           "scatter_colored_continuous"
          ],
          [
           "histogram",
           "scatter_colored_continuous"
          ],
          [
           "bar_count_100",
           "scatter_colored_continuous"
          ],
          [
           "line_colored",
           "scatter_colored"
          ],
          [
           "area_colored_stacked",
           "scatter_colored"
          ],
          [
           "bar_budget_avg",
           "scatter_colored"
          ],
          [
           "box_colored",
           "scatter_colored"
          ],
          [
           "bubble_agg",
           "scatter_colored"
          ],
          [
           "bar_count_horizontal",
           "scatter_colored"
          ],
          [
           "scatter",
           "scatter_colored"
          ],
          [
           "bubble",
           "scatter_colored"
          ],
          [
           "histogram_mean",
           "scatter_colored"
          ],
          [
           "bar_count_single",
           "scatter_colored"
          ],
          [
           "box_faceted",
           "scatter_colored"
          ],
          [
           "pie_count",
           "scatter_colored"
          ],
          [
           "bar_count_ordered",
           "scatter_colored"
          ],
          [
           "box",
           "scatter_colored"
          ],
          [
           "ols_separate",
           "scatter_colored"
          ],
          [
           "bar_budget_avg_colored",
           "scatter_colored"
          ],
          [
           "bar_count_colored",
           "scatter_colored"
          ],
          [
           "bar_budget",
           "scatter_colored"
          ],
          [
           "heatmap_count",
           "scatter_colored"
          ],
          [
           "heatmap_budget_avg",
           "scatter_colored"
          ],
          [
           "bar_count",
           "scatter_colored"
          ],
          [
           "line",
           "scatter_colored"
          ],
          [
           "area_colored",
           "scatter_colored"
          ],
          [
           "histogram",
           "scatter_colored"
          ],
          [
           "bar_count_100",
           "scatter_colored"
          ],
          [
           "line_colored",
           "pie_count"
          ],
          [
           "area_colored_stacked",
           "pie_count"
          ],
          [
           "bar_budget_avg",
           "pie_count"
          ],
          [
           "box_colored",
           "pie_count"
          ],
          [
           "bubble_agg",
           "pie_count"
          ],
          [
           "bar_count_horizontal",
           "pie_count"
          ],
          [
           "bubble",
           "pie_count"
          ],
          [
           "histogram_mean",
           "pie_count"
          ],
          [
           "bar_count_single",
           "pie_count"
          ],
          [
           "box_faceted",
           "pie_count"
          ],
          [
           "bar_count_ordered",
           "pie_count"
          ],
          [
           "box",
           "pie_count"
          ],
          [
           "ols_separate",
           "pie_count"
          ],
          [
           "bar_budget_avg_colored",
           "pie_count"
          ],
          [
           "bar_count_colored",
           "pie_count"
          ],
          [
           "bar_budget",
           "pie_count"
          ],
          [
           "heatmap_count",
           "pie_count"
          ],
          [
           "heatmap_budget_avg",
           "pie_count"
          ],
          [
           "bar_count",
           "pie_count"
          ],
          [
           "line",
           "pie_count"
          ],
          [
           "area_colored",
           "pie_count"
          ],
          [
           "histogram",
           "pie_count"
          ],
          [
           "bar_count_100",
           "pie_count"
          ],
          [
           "line_colored",
           "ols_separate"
          ],
          [
           "area_colored_stacked",
           "ols_separate"
          ],
          [
           "bar_budget_avg",
           "ols_separate"
          ],
          [
           "box_colored",
           "ols_separate"
          ],
          [
           "bubble_agg",
           "ols_separate"
          ],
          [
           "bar_count_horizontal",
           "ols_separate"
          ],
          [
           "bubble",
           "ols_separate"
          ],
          [
           "histogram_mean",
           "ols_separate"
          ],
          [
           "bar_count_single",
           "ols_separate"
          ],
          [
           "box_faceted",
           "ols_separate"
          ],
          [
           "bar_count_ordered",
           "ols_separate"
          ],
          [
           "box",
           "ols_separate"
          ],
          [
           "bar_budget_avg_colored",
           "ols_separate"
          ],
          [
           "bar_count_colored",
           "ols_separate"
          ],
          [
           "bar_budget",
           "ols_separate"
          ],
          [
           "heatmap_count",
           "ols_separate"
          ],
          [
           "heatmap_budget_avg",
           "ols_separate"
          ],
          [
           "bar_count",
           "ols_separate"
          ],
          [
           "line",
           "ols_separate"
          ],
          [
           "area_colored",
           "ols_separate"
          ],
          [
           "histogram",
           "ols_separate"
          ],
          [
           "bar_count_100",
           "ols_separate"
          ],
          [
           "line_colored",
           "scatter_ols_global"
          ],
          [
           "area_colored_stacked",
           "scatter_ols_global"
          ],
          [
           "bar_budget_avg",
           "scatter_ols_global"
          ],
          [
           "box_colored",
           "scatter_ols_global"
          ],
          [
           "bubble_agg",
           "scatter_ols_global"
          ],
          [
           "bar_count_horizontal",
           "scatter_ols_global"
          ],
          [
           "scatter",
           "scatter_ols_global"
          ],
          [
           "bubble",
           "scatter_ols_global"
          ],
          [
           "histogram_mean",
           "scatter_ols_global"
          ],
          [
           "scatter_colored_symbol",
           "scatter_ols_global"
          ],
          [
           "bar_count_single",
           "scatter_ols_global"
          ],
          [
           "scatter_colored_continuous",
           "scatter_ols_global"
          ],
          [
           "scatter_colored",
           "scatter_ols_global"
          ],
          [
           "box_faceted",
           "scatter_ols_global"
          ],
          [
           "pie_count",
           "scatter_ols_global"
          ],
          [
           "bar_count_ordered",
           "scatter_ols_global"
          ],
          [
           "box",
           "scatter_ols_global"
          ],
          [
           "ols_separate",
           "scatter_ols_global"
          ],
          [
           "bar_budget_avg_colored",
           "scatter_ols_global"
          ],
          [
           "bar_count_colored",
           "scatter_ols_global"
          ],
          [
           "bar_budget",
           "scatter_ols_global"
          ],
          [
           "heatmap_count",
           "scatter_ols_global"
          ],
          [
           "heatmap_budget_avg",
           "scatter_ols_global"
          ],
          [
           "bar_count",
           "scatter_ols_global"
          ],
          [
           "line",
           "scatter_ols_global"
          ],
          [
           "area_colored",
           "scatter_ols_global"
          ],
          [
           "histogram",
           "scatter_ols_global"
          ],
          [
           "bar_count_100",
           "scatter_ols_global"
          ],
          [
           "area_colored_stacked",
           "line_colored"
          ],
          [
           "bar_budget_avg",
           "line_colored"
          ],
          [
           "box_colored",
           "line_colored"
          ],
          [
           "bubble_agg",
           "line_colored"
          ],
          [
           "bar_count_horizontal",
           "line_colored"
          ],
          [
           "bubble",
           "line_colored"
          ],
          [
           "histogram_mean",
           "line_colored"
          ],
          [
           "bar_count_single",
           "line_colored"
          ],
          [
           "box_faceted",
           "line_colored"
          ],
          [
           "bar_count_ordered",
           "line_colored"
          ],
          [
           "box",
           "line_colored"
          ],
          [
           "bar_budget_avg_colored",
           "line_colored"
          ],
          [
           "bar_count_colored",
           "line_colored"
          ],
          [
           "bar_budget",
           "line_colored"
          ],
          [
           "heatmap_count",
           "line_colored"
          ],
          [
           "heatmap_budget_avg",
           "line_colored"
          ],
          [
           "bar_count",
           "line_colored"
          ],
          [
           "line",
           "line_colored"
          ],
          [
           "area_colored",
           "line_colored"
          ],
          [
           "histogram",
           "line_colored"
          ],
          [
           "bar_count_100",
           "line_colored"
          ],
          [
           "area_colored_stacked",
           "bar_budget_avg"
          ],
          [
           "bar_budget",
           "bar_budget_avg"
          ],
          [
           "area_colored",
           "bar_budget_avg"
          ],
          [
           "area_colored_stacked",
           "box_colored"
          ],
          [
           "bar_budget_avg",
           "box_colored"
          ],
          [
           "bar_count_horizontal",
           "box_colored"
          ],
          [
           "bar_count_single",
           "box_colored"
          ],
          [
           "bar_count_ordered",
           "box_colored"
          ],
          [
           "box",
           "box_colored"
          ],
          [
           "bar_budget_avg_colored",
           "box_colored"
          ],
          [
           "bar_count_colored",
           "box_colored"
          ],
          [
           "bar_budget",
           "box_colored"
          ],
          [
           "bar_count",
           "box_colored"
          ],
          [
           "area_colored",
           "box_colored"
          ],
          [
           "bar_count_100",
           "box_colored"
          ],
          [
           "area_colored_stacked",
           "bubble_agg"
          ],
          [
           "bar_budget_avg",
           "bubble_agg"
          ],
          [
           "box_colored",
           "bubble_agg"
          ],
          [
           "bar_count_horizontal",
           "bubble_agg"
          ],
          [
           "bubble",
           "bubble_agg"
          ],
          [
           "bar_count_single",
           "bubble_agg"
          ],
          [
           "box_faceted",
           "bubble_agg"
          ],
          [
           "bar_count_ordered",
           "bubble_agg"
          ],
          [
           "box",
           "bubble_agg"
          ],
          [
           "bar_budget_avg_colored",
           "bubble_agg"
          ],
          [
           "bar_count_colored",
           "bubble_agg"
          ],
          [
           "bar_budget",
           "bubble_agg"
          ],
          [
           "bar_count",
           "bubble_agg"
          ],
          [
           "area_colored",
           "bubble_agg"
          ],
          [
           "bar_count_100",
           "bubble_agg"
          ],
          [
           "area_colored_stacked",
           "bar_count_horizontal"
          ],
          [
           "bar_budget_avg",
           "bar_count_horizontal"
          ],
          [
           "bar_budget_avg_colored",
           "bar_count_horizontal"
          ],
          [
           "bar_count_colored",
           "bar_count_horizontal"
          ],
          [
           "bar_budget",
           "bar_count_horizontal"
          ],
          [
           "bar_count",
           "bar_count_horizontal"
          ],
          [
           "area_colored",
           "bar_count_horizontal"
          ],
          [
           "bar_count_100",
           "bar_count_horizontal"
          ],
          [
           "area_colored_stacked",
           "bubble"
          ],
          [
           "bar_budget_avg",
           "bubble"
          ],
          [
           "box_colored",
           "bubble"
          ],
          [
           "bar_count_horizontal",
           "bubble"
          ],
          [
           "bar_count_single",
           "bubble"
          ],
          [
           "box_faceted",
           "bubble"
          ],
          [
           "bar_count_ordered",
           "bubble"
          ],
          [
           "box",
           "bubble"
          ],
          [
           "bar_budget_avg_colored",
           "bubble"
          ],
          [
           "bar_count_colored",
           "bubble"
          ],
          [
           "bar_budget",
           "bubble"
          ],
          [
           "bar_count",
           "bubble"
          ],
          [
           "area_colored",
           "bubble"
          ],
          [
           "bar_count_100",
           "bubble"
          ],
          [
           "area_colored_stacked",
           "histogram_mean"
          ],
          [
           "bar_budget_avg",
           "histogram_mean"
          ],
          [
           "box_colored",
           "histogram_mean"
          ],
          [
           "bubble_agg",
           "histogram_mean"
          ],
          [
           "bar_count_horizontal",
           "histogram_mean"
          ],
          [
           "bubble",
           "histogram_mean"
          ],
          [
           "bar_count_single",
           "histogram_mean"
          ],
          [
           "box_faceted",
           "histogram_mean"
          ],
          [
           "bar_count_ordered",
           "histogram_mean"
          ],
          [
           "box",
           "histogram_mean"
          ],
          [
           "bar_budget_avg_colored",
           "histogram_mean"
          ],
          [
           "bar_count_colored",
           "histogram_mean"
          ],
          [
           "bar_budget",
           "histogram_mean"
          ],
          [
           "heatmap_count",
           "histogram_mean"
          ],
          [
           "heatmap_budget_avg",
           "histogram_mean"
          ],
          [
           "bar_count",
           "histogram_mean"
          ],
          [
           "area_colored",
           "histogram_mean"
          ],
          [
           "histogram",
           "histogram_mean"
          ],
          [
           "bar_count_100",
           "histogram_mean"
          ],
          [
           "area_colored_stacked",
           "bar_count_single"
          ],
          [
           "bar_budget_avg",
           "bar_count_single"
          ],
          [
           "bar_count_horizontal",
           "bar_count_single"
          ],
          [
           "bar_count_ordered",
           "bar_count_single"
          ],
          [
           "bar_budget_avg_colored",
           "bar_count_single"
          ],
          [
           "bar_count_colored",
           "bar_count_single"
          ],
          [
           "bar_budget",
           "bar_count_single"
          ],
          [
           "bar_count",
           "bar_count_single"
          ],
          [
           "area_colored",
           "bar_count_single"
          ],
          [
           "bar_count_100",
           "bar_count_single"
          ],
          [
           "area_colored_stacked",
           "box_faceted"
          ],
          [
           "bar_budget_avg",
           "box_faceted"
          ],
          [
           "box_colored",
           "box_faceted"
          ],
          [
           "bar_count_horizontal",
           "box_faceted"
          ],
          [
           "bar_count_single",
           "box_faceted"
          ],
          [
           "bar_count_ordered",
           "box_faceted"
          ],
          [
           "box",
           "box_faceted"
          ],
          [
           "bar_budget_avg_colored",
           "box_faceted"
          ],
          [
           "bar_count_colored",
           "box_faceted"
          ],
          [
           "bar_budget",
           "box_faceted"
          ],
          [
           "bar_count",
           "box_faceted"
          ],
          [
           "area_colored",
           "box_faceted"
          ],
          [
           "bar_count_100",
           "box_faceted"
          ],
          [
           "area_colored_stacked",
           "bar_count_ordered"
          ],
          [
           "bar_budget_avg",
           "bar_count_ordered"
          ],
          [
           "bar_count_horizontal",
           "bar_count_ordered"
          ],
          [
           "bar_budget_avg_colored",
           "bar_count_ordered"
          ],
          [
           "bar_count_colored",
           "bar_count_ordered"
          ],
          [
           "bar_budget",
           "bar_count_ordered"
          ],
          [
           "bar_count",
           "bar_count_ordered"
          ],
          [
           "area_colored",
           "bar_count_ordered"
          ],
          [
           "bar_count_100",
           "bar_count_ordered"
          ],
          [
           "area_colored_stacked",
           "box"
          ],
          [
           "bar_budget_avg",
           "box"
          ],
          [
           "bar_count_horizontal",
           "box"
          ],
          [
           "bar_count_single",
           "box"
          ],
          [
           "bar_count_ordered",
           "box"
          ],
          [
           "bar_budget_avg_colored",
           "box"
          ],
          [
           "bar_count_colored",
           "box"
          ],
          [
           "bar_budget",
           "box"
          ],
          [
           "bar_count",
           "box"
          ],
          [
           "area_colored",
           "box"
          ],
          [
           "bar_count_100",
           "box"
          ],
          [
           "area_colored_stacked",
           "bar_budget_avg_colored"
          ],
          [
           "bar_budget_avg",
           "bar_budget_avg_colored"
          ],
          [
           "bar_budget",
           "bar_budget_avg_colored"
          ],
          [
           "area_colored",
           "bar_budget_avg_colored"
          ],
          [
           "area_colored_stacked",
           "bar_count_colored"
          ],
          [
           "bar_budget_avg",
           "bar_count_colored"
          ],
          [
           "bar_budget_avg_colored",
           "bar_count_colored"
          ],
          [
           "bar_budget",
           "bar_count_colored"
          ],
          [
           "bar_count",
           "bar_count_colored"
          ],
          [
           "area_colored",
           "bar_count_colored"
          ],
          [
           "bar_count_100",
           "bar_count_colored"
          ],
          [
           "area_colored_stacked",
           "bar_budget"
          ],
          [
           "area_colored",
           "bar_budget"
          ],
          [
           "area_colored_stacked",
           "heatmap_count"
          ],
          [
           "bar_budget_avg",
           "heatmap_count"
          ],
          [
           "box_colored",
           "heatmap_count"
          ],
          [
           "bubble_agg",
           "heatmap_count"
          ],
          [
           "bar_count_horizontal",
           "heatmap_count"
          ],
          [
           "bubble",
           "heatmap_count"
          ],
          [
           "bar_count_single",
           "heatmap_count"
          ],
          [
           "box_faceted",
           "heatmap_count"
          ],
          [
           "bar_count_ordered",
           "heatmap_count"
          ],
          [
           "box",
           "heatmap_count"
          ],
          [
           "bar_budget_avg_colored",
           "heatmap_count"
          ],
          [
           "bar_count_colored",
           "heatmap_count"
          ],
          [
           "bar_budget",
           "heatmap_count"
          ],
          [
           "heatmap_budget_avg",
           "heatmap_count"
          ],
          [
           "bar_count",
           "heatmap_count"
          ],
          [
           "area_colored",
           "heatmap_count"
          ],
          [
           "bar_count_100",
           "heatmap_count"
          ],
          [
           "area_colored_stacked",
           "heatmap_budget_avg"
          ],
          [
           "bar_budget_avg",
           "heatmap_budget_avg"
          ],
          [
           "box_colored",
           "heatmap_budget_avg"
          ],
          [
           "bubble_agg",
           "heatmap_budget_avg"
          ],
          [
           "bar_count_horizontal",
           "heatmap_budget_avg"
          ],
          [
           "bubble",
           "heatmap_budget_avg"
          ],
          [
           "bar_count_single",
           "heatmap_budget_avg"
          ],
          [
           "box_faceted",
           "heatmap_budget_avg"
          ],
          [
           "bar_count_ordered",
           "heatmap_budget_avg"
          ],
          [
           "box",
           "heatmap_budget_avg"
          ],
          [
           "bar_budget_avg_colored",
           "heatmap_budget_avg"
          ],
          [
           "bar_count_colored",
           "heatmap_budget_avg"
          ],
          [
           "bar_budget",
           "heatmap_budget_avg"
          ],
          [
           "bar_count",
           "heatmap_budget_avg"
          ],
          [
           "area_colored",
           "heatmap_budget_avg"
          ],
          [
           "bar_count_100",
           "heatmap_budget_avg"
          ],
          [
           "area_colored_stacked",
           "bar_count"
          ],
          [
           "bar_budget_avg",
           "bar_count"
          ],
          [
           "bar_budget_avg_colored",
           "bar_count"
          ],
          [
           "bar_budget",
           "bar_count"
          ],
          [
           "area_colored",
           "bar_count"
          ],
          [
           "area_colored_stacked",
           "line"
          ],
          [
           "bar_budget_avg",
           "line"
          ],
          [
           "box_colored",
           "line"
          ],
          [
           "bubble_agg",
           "line"
          ],
          [
           "bar_count_horizontal",
           "line"
          ],
          [
           "bubble",
           "line"
          ],
          [
           "histogram_mean",
           "line"
          ],
          [
           "bar_count_single",
           "line"
          ],
          [
           "box_faceted",
           "line"
          ],
          [
           "bar_count_ordered",
           "line"
          ],
          [
           "box",
           "line"
          ],
          [
           "bar_budget_avg_colored",
           "line"
          ],
          [
           "bar_count_colored",
           "line"
          ],
          [
           "bar_budget",
           "line"
          ],
          [
           "heatmap_count",
           "line"
          ],
          [
           "heatmap_budget_avg",
           "line"
          ],
          [
           "bar_count",
           "line"
          ],
          [
           "area_colored",
           "line"
          ],
          [
           "histogram",
           "line"
          ],
          [
           "bar_count_100",
           "line"
          ],
          [
           "area_colored_stacked",
           "histogram"
          ],
          [
           "bar_budget_avg",
           "histogram"
          ],
          [
           "box_colored",
           "histogram"
          ],
          [
           "bubble_agg",
           "histogram"
          ],
          [
           "bar_count_horizontal",
           "histogram"
          ],
          [
           "bubble",
           "histogram"
          ],
          [
           "bar_count_single",
           "histogram"
          ],
          [
           "box_faceted",
           "histogram"
          ],
          [
           "bar_count_ordered",
           "histogram"
          ],
          [
           "box",
           "histogram"
          ],
          [
           "bar_budget_avg_colored",
           "histogram"
          ],
          [
           "bar_count_colored",
           "histogram"
          ],
          [
           "bar_budget",
           "histogram"
          ],
          [
           "heatmap_count",
           "histogram"
          ],
          [
           "heatmap_budget_avg",
           "histogram"
          ],
          [
           "bar_count",
           "histogram"
          ],
          [
           "area_colored",
           "histogram"
          ],
          [
           "bar_count_100",
           "histogram"
          ],
          [
           "area_colored_stacked",
           "bar_count_100"
          ],
          [
           "bar_budget_avg",
           "bar_count_100"
          ],
          [
           "bar_budget_avg_colored",
           "bar_count_100"
          ],
          [
           "bar_budget",
           "bar_count_100"
          ],
          [
           "bar_count",
           "bar_count_100"
          ],
          [
           "area_colored",
           "bar_count_100"
          ],
          [
           "area_colored",
           "area_colored_stacked"
          ]
         ],
         "hovertemplate": "nmi_vega-lite=%{x}<br>nmi_plotly_express=%{y}<br>from_slug=%{customdata[0]}<br>to_slug=%{customdata[1]}<extra></extra>",
         "legendgroup": "",
         "marker": {
          "color": "#636efa",
          "symbol": "circle"
         },
         "mode": "markers",
         "name": "",
         "orientation": "v",
         "showlegend": false,
         "type": "scatter",
         "x": [
          1.2283308568598315,
          1.2942989214175653,
          1.13193261404505,
          1.0386003887808941,
          0.752435337588176,
          1.1418007829491084,
          0.6678082191780821,
          0.7676767676767676,
          1.2721186035389764,
          1.070090957731407,
          1.0887096774193548,
          1.0729613733905579,
          0.7240547063555912,
          1.4349775784753362,
          1.4272121788772596,
          1.3701067615658362,
          1.1497870764673206,
          1.1178788964528843,
          1.161911309728429,
          1.1256595661520423,
          0.9090909090909091,
          1.3034652747571407,
          0.9257226491035492,
          1.4262852570514102,
          0.9606625258799172,
          1.0838709677419354,
          0.989345509893455,
          0.6122678671918964,
          0.6103542234332425,
          1.0057649667405766,
          0.532150776053215,
          0.4505119453924915,
          0.9764309764309764,
          1.038555392874573,
          0.37370242214532867,
          0.37209302325581395,
          0.6710816777041942,
          0.907563025210084,
          1.0973451327433628,
          0.7402597402597403,
          1.1009174311926606,
          0.9241432422025414,
          0.945389435989257,
          1.0018552875695734,
          0.8508124076809452,
          0.8050668543279381,
          1.141950832672482,
          1.0909090909090908,
          1.0093009300930094,
          1.0404271548436308,
          1.0118126272912424,
          1.120622568093385,
          1.1838802025985466,
          1.2813141683778235,
          0.9244712990936554,
          0.6579634464751958,
          1.2804878048780486,
          0.36585365853658536,
          0.38095238095238093,
          0.913126188966392,
          1.146795827123696,
          0.3870967741935483,
          0.9640167364016735,
          1.0632911392405062,
          1.2080536912751676,
          0.898876404494382,
          1.2167832167832167,
          1.2858409695536506,
          1.2289655172413794,
          1.2072226999140154,
          1.1697478991596637,
          1.1292225201072388,
          1.1814038286235187,
          1.0434782608695652,
          1.185017026106697,
          0.9856404365307293,
          1.3752725007785738,
          0.9509043927648578,
          1.1044558071585098,
          1.2974051896207583,
          0.8940832724616509,
          0.5936395759717314,
          1.2952598515134208,
          0.4833836858006042,
          0.3800904977375566,
          1.0548523206751055,
          1.1450094161958568,
          0.8515406162464986,
          0.968421052631579,
          1.3932584269662922,
          0.9661016949152543,
          1.1294117647058823,
          1.2018027040560841,
          1.1348182883939038,
          1.3190034196384954,
          0.9906191369606002,
          1.0315599639314699,
          1.3812949640287768,
          1.1958762886597938,
          1.011755783086841,
          1.1346704871060171,
          1.305307409353652,
          0.8015414258188824,
          0.8563626433642819,
          0.726764500349406,
          0.8103626943005181,
          0.8782936010037641,
          0.4811783960720131,
          0.9000000000000001,
          0.8763693270735524,
          0.23963963963963966,
          0.8507157464212679,
          0.5901639344262295,
          0.7880597014925373,
          1.3898305084745763,
          0.6732813607370659,
          0.3980263157894737,
          0.7351940095302928,
          0.426812585499316,
          0.6423927178153446,
          0.5960555149744339,
          0.9846153846153847,
          0.8391764051196439,
          0.6865248226950355,
          0.5529676934635612,
          1.302713987473904,
          1.4240094618568893,
          1.7986164488854726,
          1.3909090909090909,
          1.232462173314993,
          1.7672336615935542,
          1.0344827586206897,
          1.4601018675721562,
          1.5724137931034483,
          1.3184855233853006,
          1.75,
          1.534426229508197,
          1.6329704510108864,
          1.5913200723327305,
          1.8215892053973015,
          1.4307004470938895,
          1.4772727272727273,
          1.8446757405924739,
          1.5,
          1.3692493946731235,
          1.5907692307692307,
          1.6266447368421053,
          1.7874659400544959,
          2.0261739799846032,
          2.497331910352188,
          1.9065420560747663,
          1.687382297551789,
          2.3985419198055893,
          1.8300653594771241,
          1.4563106796116507,
          1.915367483296214,
          1.2839506172839505,
          2.1308411214953273,
          1.485148514851485,
          1.543859649122807,
          1.7566765578635015,
          1.8222222222222222,
          2.3333333333333335,
          2.0090497737556565,
          1,
          2.3504273504273505,
          2.3157894736842106,
          2.5418410041841004,
          2.003976143141153,
          1.9923371647509578,
          2.52354874041621,
          2.0434782608695654,
          2.001605136436597,
          2.0846774193548385,
          2.315436241610738,
          0.24144435462139585,
          1.2161650902837489,
          1.075647404005613,
          0.9341983317886932,
          1.0835432832812657,
          0.9592621060722522,
          1.04978772674643,
          0.9106845667369355,
          1.096774193548387,
          1.098989898989899,
          1.1285819250551066,
          1.151531012823868,
          0.9617486338797814,
          1.2300477346955867,
          0.8091706001348618,
          0.9662021464039725,
          1.1395683453237409,
          0.3036053130929791,
          0.12730639961588586,
          1.1698443239461256,
          0.9532796743454529,
          1.3467698748843775,
          0.17603360185562483,
          1.3583885900162642,
          1.2036267745547808,
          0.8786028680959818,
          0.9027541091748666,
          0.8596141051230872,
          1.0043763676148796,
          0.37038531369780114,
          0.5690512624330528,
          0.7494155627296003,
          0.8055606872344356,
          1.044043108114758,
          1.1328292936031428,
          0.8294777250227295,
          1.1316595223515002,
          1.2091638029782361,
          0.9659254248752853,
          1.2911038658593386,
          0.4755532681420484,
          1.0905629987553993,
          0.9990089197224975,
          1.2980132450331126,
          1.025390625,
          1.1343249030615197,
          1.2447797386501416,
          1.2252836304700163,
          1.360810005955926,
          1.1294476600708934,
          1.2992602555480834,
          1.2083916083916084,
          0.48751813683544776,
          0.6715322975057372,
          0.36390687904778574,
          0.41154055525313016,
          0.35134193098640637,
          1.2109125997836194,
          0.4610061642473653,
          1.1694583423972154,
          1.2620629875758451,
          0.8243300723096555,
          1.3466933867735473,
          1.1307861866274798,
          0.8720066061106524,
          1.3509933774834437,
          0.974169741697417,
          1.2671133119720361,
          1.3002717391304346,
          1.371718882303133,
          1.4231805929919137,
          1.0916423930091865,
          1.355848940743015,
          1.1027239908106334,
          0.6552786334360123,
          1.0235648292328454,
          0.8798391151332329,
          0.8262972374784818,
          0.9768315591734502,
          0.8573233462683872,
          1.1142974190905366,
          0.6568144499178982,
          0.8612440191387559,
          0.8164714235001774,
          0.9062448508815291,
          0.7365477733069631,
          0.8879144971224994,
          0.7789501107203335,
          0.667349626811064,
          1.0345019787079874,
          0.31254439551072594,
          1.0386091668548205,
          0.9696741145784229,
          0.6874309335734456,
          0.3421303353658537,
          0.5413105413105413,
          0.6291651144501014,
          0.4024648565376468,
          0.6963152221645574,
          0.5440831806366386,
          0.9576748527471112,
          0.49722112817819786,
          1.2156526706655242,
          0.9968663594470045,
          0.40824123345613317,
          0.8677499192940923,
          0.9001539737060287,
          1.1010752688172043,
          0.6042486231313926,
          0.8587697190329506,
          0.8779006723053567,
          1.009073757973228,
          1.0707692307692307,
          1.1507768619155299,
          0.9455479790493132,
          1.153978248425873,
          0.5380635624538064,
          0.362381363244176,
          0.7110778443113773,
          0.4208695652173913,
          0.5446685878962536,
          0.18504240555127216,
          1.1532163742690058,
          0.5103011093502378,
          1.258165175785313,
          0.5973741794310722,
          0.7196573060447407,
          0.915342991796125,
          0.7570977917981073,
          0.7871840905952217,
          0.806690254100997,
          0.60552663195835,
          0.8593350383631714,
          1.26396752483709,
          0.8852602420177867,
          1.2795494405058911,
          0.4633680049253102,
          0.5549933590538233,
          1.2866342155967954,
          1.0235489600641723,
          0.5614194035485088,
          0.5030104412773416,
          0.5691752045404289,
          0.4967463739709918,
          1.0143084260731319,
          0.20349071020670795,
          1.290316463197819,
          1.2983808037456106,
          0.9950324799388612,
          0.6544108574953732,
          0.67062368733449,
          1.0400176873756357,
          0.4718081659105638,
          1.154228855721393,
          0.43370056273282076,
          0.8614501076812634,
          0.5179856115107914,
          0.7962085308056872,
          0.5997376147935278,
          0.30657570039192916,
          0.6624571531661555,
          0.2853549788498914,
          0.593050193050193,
          0.9850178126982578,
          0.47457178758018653,
          1.1561323109033985,
          0.43831417624521074,
          0.6163500087153565,
          0.9216162042409538,
          0.7123532239236421,
          1.1136964569011105,
          0.7466183027280283,
          0.8173586195113617,
          0.7479452054794521,
          0.7452853909982399,
          0.38764312977099236,
          0.5552627929552073,
          0.6053115658772131,
          0.8429843414184833,
          1.1554750626915575,
          0.7166645641478492,
          1.2663746562086178,
          0.540763949070062,
          0.8083802081579036,
          0.5479558981364036,
          1.1998432806582213,
          0.42173211403980637,
          1.1420727522306109,
          1.2118126272912424,
          1.0702836004932181,
          1.0136765888978279,
          1.1042944785276074,
          0.8628659476117102,
          1.0434012400354296,
          1.2877263581488934,
          0.9032258064516129,
          0.9853372434017597,
          1.2883008356545962,
          1.1017770597738288,
          1.0828877005347595,
          1.0013458950201883,
          1.0971867007672635,
          0.9303661162957645,
          0.38116100766703176,
          0.9832402234636871,
          1.223042836041359,
          1.2216768307799097,
          0.5078962389801484,
          0.9497742663656884,
          1.0873476824962987,
          0.5490603877293322,
          1.1230856494611459,
          0.6494398560798103,
          1.0454798589196213,
          0.4583333333333333,
          0.7152533188837714,
          0.7429563874951756,
          0.6863711001642036,
          0.5137773384406277,
          0.7540047187383583,
          0.7089235127478754,
          0.4550818802625472,
          1.224691856940796,
          0.7591380250954719,
          0.8774531638936197,
          0.6542893288200499,
          0.5963080752212389,
          0.6628418945963975,
          0.5892609329964773,
          1.0745932012244241,
          0.1893987987637763
         ],
         "xaxis": "x",
         "y": [
          1.5918135304150085,
          1.5663743574236466,
          1.1114079615281858,
          1.1281625881377022,
          1.0737111205794632,
          1.1969601013299558,
          0.9513742071881607,
          0.6081081081081081,
          1.3908338637810311,
          1.2809315866084425,
          1.2514484356894555,
          1.3594771241830066,
          0.8326908249807248,
          1.492007104795737,
          1.4556962025316456,
          1.3655668082326038,
          0.9968758875319511,
          1.1626721060683327,
          1.2557497700091995,
          1.135422826729746,
          1.3284132841328413,
          1.6195947024094464,
          0.688360450563204,
          1.5597626448149196,
          1.5258855585831064,
          1.505813953488372,
          1.4335839598997493,
          0.9251700680272109,
          1.0161290322580645,
          1.2509307520476545,
          1.0471204188481675,
          0.8973080757726819,
          1.0793650793650793,
          1.4296463506395787,
          0.9917355371900828,
          0.7384615384615385,
          0.993103448275862,
          1.434782608695652,
          1.4943960149439601,
          1.1717902350813743,
          1.408805031446541,
          1.2537313432835822,
          1.2782874617737003,
          1.358041032428855,
          1.0987951807228917,
          1.0750816104461371,
          1.3296398891966759,
          1.725094577553594,
          1.5513947267863966,
          1.2922173274596183,
          1.224218230206254,
          1.4653098982423682,
          1.531789058649581,
          1.4735938170888794,
          1.0872751499000666,
          0.8093599449415003,
          1.412844036697248,
          0.6569343065693432,
          0.7975460122699386,
          0.8478260869565218,
          1.2302158273381296,
          0.518918918918919,
          1.2423529411764707,
          1.3407821229050279,
          1.42433234421365,
          1.204460966542751,
          1.3237822349570199,
          1.4081632653061225,
          1.3151546932354485,
          1.3997271487039564,
          1.2444444444444445,
          1.3328380386329868,
          1.5042735042735043,
          1.5732647814910026,
          1.49026732416299,
          1.062374245472837,
          1.5075102412380519,
          1.4103343465045592,
          1.486725663716814,
          1.541882876204596,
          1.0974063400576368,
          0.9126891734575088,
          1.4691735898557063,
          0.8362369337979094,
          0.7669959325973271,
          0.9719626168224299,
          1.2572921201567262,
          1.2698412698412698,
          1.2347266881028938,
          1.5819209039548023,
          1.2320855614973263,
          1.364190012180268,
          1.4608695652173913,
          1.3612374886260237,
          1.6357114388202472,
          1.2737430167597765,
          1.2419861722187304,
          1.5789473684210527,
          1.7300353356890459,
          1.4366858851163784,
          1.2211621856027755,
          1.5757103931490852,
          1.188297074268567,
          1.2582995951417004,
          0.991105463786531,
          0.7012030444389884,
          1.33051742344245,
          0.6723842195540309,
          1.2529002320185614,
          1.020242914979757,
          0.5824326979760267,
          0.8711433756805806,
          0.8832385413181667,
          0.7922971114167814,
          1.6461622210125204,
          1.0656370656370655,
          0.5584615384615385,
          0.9030988686669945,
          0.5875706214689266,
          0.9330675021361435,
          0.7044025157232704,
          1.1913133402275076,
          1.2046575055071855,
          0.6892950391644908,
          0.7557761423926065,
          1.5946682823386853,
          1.639494833524684,
          1.7365976145637163,
          1.4768276129532674,
          1.3195876288659794,
          1.7758985200845665,
          1.2471841081302477,
          1.3910256410256412,
          1.6234741784037559,
          1.4598117306299783,
          1.7286270299288684,
          1.6440739398332727,
          1.588957055214724,
          1.6355636473979667,
          1.802551875241655,
          1.5528353734698976,
          1.5283704039945527,
          1.8537931034482757,
          1.7504862461794943,
          1.6840768644713453,
          1.4536873156342185,
          1.6613713509843855,
          1.8328173374613004,
          1.7872340425531914,
          2.2229007633587785,
          1.7767220902612826,
          1.3365155131264916,
          2.115107913669065,
          1.7647058823529411,
          1.2171837708830548,
          1.4615384615384615,
          1.5483870967741935,
          1.8321428571428573,
          1.6363636363636365,
          1.4883720930232558,
          1.6910569105691058,
          1.9072847682119205,
          2.077922077922078,
          1.9030837004405288,
          1.5399999999999998,
          1.9285714285714286,
          2.0637898686679175,
          2.224052718286656,
          1.7191977077363898,
          1.675257731958763,
          2.2779661016949153,
          2.07492795389049,
          1.8677110530896432,
          1.5714285714285716,
          1.9136,
          0.21616405307599518,
          1.6196573801695795,
          1.3420456060808108,
          1.0944625407166124,
          1.3720029316301958,
          1.372016578533657,
          1.3481152993348116,
          1.2030339672419479,
          1.4069529652351738,
          1.3840830449826989,
          1.4748938296277792,
          1.5074946466809422,
          1.245369406867846,
          1.589209074187615,
          1.2782060266292923,
          1.461280536484113,
          1.419257012888552,
          0.31916179730002014,
          0.11429275201674981,
          1.3971097089354774,
          1.3553687789215223,
          1.5296974224878594,
          0.265436533444247,
          1.5689709405018268,
          1.335443493273865,
          0.6006454900628503,
          0.775928818854853,
          0.8589824340401707,
          0.8904231890958871,
          0.30009807126511934,
          0.607977991746905,
          0.564218610711102,
          0.5906644829199813,
          0.8132552634857357,
          1.287110249142175,
          0.7630198804732283,
          1.101123595505618,
          1.4184120798830977,
          1.0739870264172229,
          1.3791688045151362,
          0.6268033031539151,
          1.2550034243969257,
          1.1050035236081748,
          1.4657767307943987,
          1.240288275619617,
          1.210134128166915,
          1.2229411764705884,
          1.3676002744682179,
          1.4378175982883126,
          1.0411548165611946,
          1.2738181578426848,
          1.4304950495049504,
          0.5759746824315415,
          0.854389721627409,
          0.44222281308162725,
          0.4620399293766128,
          0.19483908379240358,
          1.3904516582267366,
          0.5498268747331975,
          1.299203464542572,
          1.3449075450383494,
          1.0773328434974283,
          1.3060261634141113,
          1.181259714306861,
          1.0270455323519343,
          1.4072900158478607,
          1.1585993820803298,
          1.2191582002902757,
          1.23337885430892,
          1.2866568914956011,
          1.364170913367307,
          1.3204984821856527,
          1.1971468962858245,
          1.341317365269461,
          0.5340802987861811,
          0.9321789321789321,
          1.088646967340591,
          0.8004484304932735,
          1.0015174506828528,
          0.9675925925925926,
          1.0695187165775402,
          0.9871668311944719,
          0.8247978436657682,
          0.8181818181818182,
          0.8949152542372881,
          0.6236766121270453,
          0.9759704251386323,
          0.785234899328859,
          0.8377823408624231,
          1.2944823310601363,
          0.4342105263157895,
          1.065458207452165,
          1.2674965751384835,
          0.9403127124405166,
          0.56583396967383,
          0.7760003889726261,
          0.8425720620842572,
          0.4576558821919308,
          0.8580588207963574,
          0.5901443504230961,
          1.2183900985841958,
          0.5573706156487613,
          1.3976705490848587,
          0.7835914608622855,
          0.3515347334410339,
          0.8469876480967986,
          0.9159025412627718,
          1.0830324909747293,
          0.6090634441087613,
          0.6974358974358974,
          0.7559373420919656,
          0.786463910901692,
          0.9705882352941178,
          1.3582750249892903,
          0.8346563846677251,
          1.4349963392950529,
          0.7222779535457983,
          0.46942672192986545,
          0.949667616334283,
          0.6137822003161909,
          0.6365172291854937,
          0.4874746106973595,
          1.4003272795557582,
          0.7718444565627753,
          1.460968046379938,
          0.49487152373902926,
          0.5755614769699277,
          0.9396833704042915,
          0.8020496825220007,
          0.7866323907455013,
          0.760466009473819,
          0.2652259332023576,
          0.6029309141660851,
          1.422243956965209,
          0.8491340018231541,
          1.4275782155272305,
          0.5093499554764025,
          0.5928636779505947,
          1.4578096947935368,
          1.3132854578096946,
          0.6595706936313642,
          0.6630785791173305,
          0.5448291676221051,
          0.3607261370290845,
          1.2628147285693494,
          0.3381545658503986,
          1.5679472071647418,
          1.5354446514364153,
          1.2753843234010247,
          0.7679166063413928,
          0.5929569591950811,
          1.3466116103959194,
          0.5706819963417821,
          1.2761432116270826,
          0.7413964411525609,
          0.8428093645484951,
          0.781637717121588,
          0.677115987460815,
          0.9345132743362833,
          0.46178065418926006,
          0.6736466919135666,
          0.49050176863618494,
          0.5954198473282443,
          1.2264917519212886,
          0.6485470353254484,
          1.4490696668109042,
          0.5772843723313407,
          0.6724819961456537,
          1.2456120984656145,
          0.8203384469397438,
          1.1720510894064613,
          0.9732392053849943,
          0.7510452299505891,
          0.9908956171924624,
          0.6656552247297554,
          0.6688102893890675,
          0.8168187227290757,
          0.7560072693006663,
          0.8552878372529216,
          1.4798162273071949,
          0.8932356497617185,
          1.4083009609486812,
          0.5028203062046737,
          0.7984344422700588,
          0.3777167124656508,
          1.4390075809786356,
          0.47092448059799924,
          1.4140097002464815,
          1.4253493503309633,
          1.231103270457321,
          1.1629650995096625,
          1.5224232887490163,
          1.2097759674134418,
          1.2752191877456414,
          1.4838407494145198,
          1.2657115232486595,
          1.2644628099173554,
          1.5913555992141453,
          1.3261888814467515,
          1.3715529753265603,
          1.283855421686747,
          1.472559637055466,
          1.2043910088865657,
          0.3813645048892885,
          1.1849635309519357,
          1.4355062413314839,
          1.3875398307878255,
          0.4920430107526882,
          0.6961840180827018,
          1.2339390470739733,
          0.47697708032211444,
          1.152395585975695,
          0.6677316293929713,
          0.8657156910969012,
          0.7184976866551755,
          0.49168115222249814,
          0.7824267782426778,
          0.6552119129438717,
          0.3690423360255614,
          0.7633951352270796,
          0.8388391478851498,
          0.3996215704824977,
          1.4162445216005464,
          0.7506722299490032,
          1.2167696471429301,
          0.7553187290309847,
          0.7526467757459094,
          0.6556485015836919,
          0.47895878524945773,
          1.3733699382292381,
          0.16379223398890572
         ],
         "yaxis": "y"
        }
       ],
       "layout": {
        "height": 800,
        "legend": {
         "tracegroupgap": 0
        },
        "margin": {
         "t": 60
        },
        "template": {
         "data": {
          "bar": [
           {
            "error_x": {
             "color": "#2a3f5f"
            },
            "error_y": {
             "color": "#2a3f5f"
            },
            "marker": {
             "line": {
              "color": "#E5ECF6",
              "width": 0.5
             },
             "pattern": {
              "fillmode": "overlay",
              "size": 10,
              "solidity": 0.2
             }
            },
            "type": "bar"
           }
          ],
          "barpolar": [
           {
            "marker": {
             "line": {
              "color": "#E5ECF6",
              "width": 0.5
             },
             "pattern": {
              "fillmode": "overlay",
              "size": 10,
              "solidity": 0.2
             }
            },
            "type": "barpolar"
           }
          ],
          "carpet": [
           {
            "aaxis": {
             "endlinecolor": "#2a3f5f",
             "gridcolor": "white",
             "linecolor": "white",
             "minorgridcolor": "white",
             "startlinecolor": "#2a3f5f"
            },
            "baxis": {
             "endlinecolor": "#2a3f5f",
             "gridcolor": "white",
             "linecolor": "white",
             "minorgridcolor": "white",
             "startlinecolor": "#2a3f5f"
            },
            "type": "carpet"
           }
          ],
          "choropleth": [
           {
            "colorbar": {
             "outlinewidth": 0,
             "ticks": ""
            },
            "type": "choropleth"
           }
          ],
          "contour": [
           {
            "colorbar": {
             "outlinewidth": 0,
             "ticks": ""
            },
            "colorscale": [
             [
              0,
              "#0d0887"
             ],
             [
              0.1111111111111111,
              "#46039f"
             ],
             [
              0.2222222222222222,
              "#7201a8"
             ],
             [
              0.3333333333333333,
              "#9c179e"
             ],
             [
              0.4444444444444444,
              "#bd3786"
             ],
             [
              0.5555555555555556,
              "#d8576b"
             ],
             [
              0.6666666666666666,
              "#ed7953"
             ],
             [
              0.7777777777777778,
              "#fb9f3a"
             ],
             [
              0.8888888888888888,
              "#fdca26"
             ],
             [
              1,
              "#f0f921"
             ]
            ],
            "type": "contour"
           }
          ],
          "contourcarpet": [
           {
            "colorbar": {
             "outlinewidth": 0,
             "ticks": ""
            },
            "type": "contourcarpet"
           }
          ],
          "heatmap": [
           {
            "colorbar": {
             "outlinewidth": 0,
             "ticks": ""
            },
            "colorscale": [
             [
              0,
              "#0d0887"
             ],
             [
              0.1111111111111111,
              "#46039f"
             ],
             [
              0.2222222222222222,
              "#7201a8"
             ],
             [
              0.3333333333333333,
              "#9c179e"
             ],
             [
              0.4444444444444444,
              "#bd3786"
             ],
             [
              0.5555555555555556,
              "#d8576b"
             ],
             [
              0.6666666666666666,
              "#ed7953"
             ],
             [
              0.7777777777777778,
              "#fb9f3a"
             ],
             [
              0.8888888888888888,
              "#fdca26"
             ],
             [
              1,
              "#f0f921"
             ]
            ],
            "type": "heatmap"
           }
          ],
          "heatmapgl": [
           {
            "colorbar": {
             "outlinewidth": 0,
             "ticks": ""
            },
            "colorscale": [
             [
              0,
              "#0d0887"
             ],
             [
              0.1111111111111111,
              "#46039f"
             ],
             [
              0.2222222222222222,
              "#7201a8"
             ],
             [
              0.3333333333333333,
              "#9c179e"
             ],
             [
              0.4444444444444444,
              "#bd3786"
             ],
             [
              0.5555555555555556,
              "#d8576b"
             ],
             [
              0.6666666666666666,
              "#ed7953"
             ],
             [
              0.7777777777777778,
              "#fb9f3a"
             ],
             [
              0.8888888888888888,
              "#fdca26"
             ],
             [
              1,
              "#f0f921"
             ]
            ],
            "type": "heatmapgl"
           }
          ],
          "histogram": [
           {
            "marker": {
             "pattern": {
              "fillmode": "overlay",
              "size": 10,
              "solidity": 0.2
             }
            },
            "type": "histogram"
           }
          ],
          "histogram2d": [
           {
            "colorbar": {
             "outlinewidth": 0,
             "ticks": ""
            },
            "colorscale": [
             [
              0,
              "#0d0887"
             ],
             [
              0.1111111111111111,
              "#46039f"
             ],
             [
              0.2222222222222222,
              "#7201a8"
             ],
             [
              0.3333333333333333,
              "#9c179e"
             ],
             [
              0.4444444444444444,
              "#bd3786"
             ],
             [
              0.5555555555555556,
              "#d8576b"
             ],
             [
              0.6666666666666666,
              "#ed7953"
             ],
             [
              0.7777777777777778,
              "#fb9f3a"
             ],
             [
              0.8888888888888888,
              "#fdca26"
             ],
             [
              1,
              "#f0f921"
             ]
            ],
            "type": "histogram2d"
           }
          ],
          "histogram2dcontour": [
           {
            "colorbar": {
             "outlinewidth": 0,
             "ticks": ""
            },
            "colorscale": [
             [
              0,
              "#0d0887"
             ],
             [
              0.1111111111111111,
              "#46039f"
             ],
             [
              0.2222222222222222,
              "#7201a8"
             ],
             [
              0.3333333333333333,
              "#9c179e"
             ],
             [
              0.4444444444444444,
              "#bd3786"
             ],
             [
              0.5555555555555556,
              "#d8576b"
             ],
             [
              0.6666666666666666,
              "#ed7953"
             ],
             [
              0.7777777777777778,
              "#fb9f3a"
             ],
             [
              0.8888888888888888,
              "#fdca26"
             ],
             [
              1,
              "#f0f921"
             ]
            ],
            "type": "histogram2dcontour"
           }
          ],
          "mesh3d": [
           {
            "colorbar": {
             "outlinewidth": 0,
             "ticks": ""
            },
            "type": "mesh3d"
           }
          ],
          "parcoords": [
           {
            "line": {
             "colorbar": {
              "outlinewidth": 0,
              "ticks": ""
             }
            },
            "type": "parcoords"
           }
          ],
          "pie": [
           {
            "automargin": true,
            "type": "pie"
           }
          ],
          "scatter": [
           {
            "fillpattern": {
             "fillmode": "overlay",
             "size": 10,
             "solidity": 0.2
            },
            "type": "scatter"
           }
          ],
          "scatter3d": [
           {
            "line": {
             "colorbar": {
              "outlinewidth": 0,
              "ticks": ""
             }
            },
            "marker": {
             "colorbar": {
              "outlinewidth": 0,
              "ticks": ""
             }
            },
            "type": "scatter3d"
           }
          ],
          "scattercarpet": [
           {
            "marker": {
             "colorbar": {
              "outlinewidth": 0,
              "ticks": ""
             }
            },
            "type": "scattercarpet"
           }
          ],
          "scattergeo": [
           {
            "marker": {
             "colorbar": {
              "outlinewidth": 0,
              "ticks": ""
             }
            },
            "type": "scattergeo"
           }
          ],
          "scattergl": [
           {
            "marker": {
             "colorbar": {
              "outlinewidth": 0,
              "ticks": ""
             }
            },
            "type": "scattergl"
           }
          ],
          "scattermapbox": [
           {
            "marker": {
             "colorbar": {
              "outlinewidth": 0,
              "ticks": ""
             }
            },
            "type": "scattermapbox"
           }
          ],
          "scatterpolar": [
           {
            "marker": {
             "colorbar": {
              "outlinewidth": 0,
              "ticks": ""
             }
            },
            "type": "scatterpolar"
           }
          ],
          "scatterpolargl": [
           {
            "marker": {
             "colorbar": {
              "outlinewidth": 0,
              "ticks": ""
             }
            },
            "type": "scatterpolargl"
           }
          ],
          "scatterternary": [
           {
            "marker": {
             "colorbar": {
              "outlinewidth": 0,
              "ticks": ""
             }
            },
            "type": "scatterternary"
           }
          ],
          "surface": [
           {
            "colorbar": {
             "outlinewidth": 0,
             "ticks": ""
            },
            "colorscale": [
             [
              0,
              "#0d0887"
             ],
             [
              0.1111111111111111,
              "#46039f"
             ],
             [
              0.2222222222222222,
              "#7201a8"
             ],
             [
              0.3333333333333333,
              "#9c179e"
             ],
             [
              0.4444444444444444,
              "#bd3786"
             ],
             [
              0.5555555555555556,
              "#d8576b"
             ],
             [
              0.6666666666666666,
              "#ed7953"
             ],
             [
              0.7777777777777778,
              "#fb9f3a"
             ],
             [
              0.8888888888888888,
              "#fdca26"
             ],
             [
              1,
              "#f0f921"
             ]
            ],
            "type": "surface"
           }
          ],
          "table": [
           {
            "cells": {
             "fill": {
              "color": "#EBF0F8"
             },
             "line": {
              "color": "white"
             }
            },
            "header": {
             "fill": {
              "color": "#C8D4E3"
             },
             "line": {
              "color": "white"
             }
            },
            "type": "table"
           }
          ]
         },
         "layout": {
          "annotationdefaults": {
           "arrowcolor": "#2a3f5f",
           "arrowhead": 0,
           "arrowwidth": 1
          },
          "autotypenumbers": "strict",
          "coloraxis": {
           "colorbar": {
            "outlinewidth": 0,
            "ticks": ""
           }
          },
          "colorscale": {
           "diverging": [
            [
             0,
             "#8e0152"
            ],
            [
             0.1,
             "#c51b7d"
            ],
            [
             0.2,
             "#de77ae"
            ],
            [
             0.3,
             "#f1b6da"
            ],
            [
             0.4,
             "#fde0ef"
            ],
            [
             0.5,
             "#f7f7f7"
            ],
            [
             0.6,
             "#e6f5d0"
            ],
            [
             0.7,
             "#b8e186"
            ],
            [
             0.8,
             "#7fbc41"
            ],
            [
             0.9,
             "#4d9221"
            ],
            [
             1,
             "#276419"
            ]
           ],
           "sequential": [
            [
             0,
             "#0d0887"
            ],
            [
             0.1111111111111111,
             "#46039f"
            ],
            [
             0.2222222222222222,
             "#7201a8"
            ],
            [
             0.3333333333333333,
             "#9c179e"
            ],
            [
             0.4444444444444444,
             "#bd3786"
            ],
            [
             0.5555555555555556,
             "#d8576b"
            ],
            [
             0.6666666666666666,
             "#ed7953"
            ],
            [
             0.7777777777777778,
             "#fb9f3a"
            ],
            [
             0.8888888888888888,
             "#fdca26"
            ],
            [
             1,
             "#f0f921"
            ]
           ],
           "sequentialminus": [
            [
             0,
             "#0d0887"
            ],
            [
             0.1111111111111111,
             "#46039f"
            ],
            [
             0.2222222222222222,
             "#7201a8"
            ],
            [
             0.3333333333333333,
             "#9c179e"
            ],
            [
             0.4444444444444444,
             "#bd3786"
            ],
            [
             0.5555555555555556,
             "#d8576b"
            ],
            [
             0.6666666666666666,
             "#ed7953"
            ],
            [
             0.7777777777777778,
             "#fb9f3a"
            ],
            [
             0.8888888888888888,
             "#fdca26"
            ],
            [
             1,
             "#f0f921"
            ]
           ]
          },
          "colorway": [
           "#636efa",
           "#EF553B",
           "#00cc96",
           "#ab63fa",
           "#FFA15A",
           "#19d3f3",
           "#FF6692",
           "#B6E880",
           "#FF97FF",
           "#FECB52"
          ],
          "font": {
           "color": "#2a3f5f"
          },
          "geo": {
           "bgcolor": "white",
           "lakecolor": "white",
           "landcolor": "#E5ECF6",
           "showlakes": true,
           "showland": true,
           "subunitcolor": "white"
          },
          "hoverlabel": {
           "align": "left"
          },
          "hovermode": "closest",
          "mapbox": {
           "style": "light"
          },
          "paper_bgcolor": "white",
          "plot_bgcolor": "#E5ECF6",
          "polar": {
           "angularaxis": {
            "gridcolor": "white",
            "linecolor": "white",
            "ticks": ""
           },
           "bgcolor": "#E5ECF6",
           "radialaxis": {
            "gridcolor": "white",
            "linecolor": "white",
            "ticks": ""
           }
          },
          "scene": {
           "xaxis": {
            "backgroundcolor": "#E5ECF6",
            "gridcolor": "white",
            "gridwidth": 2,
            "linecolor": "white",
            "showbackground": true,
            "ticks": "",
            "zerolinecolor": "white"
           },
           "yaxis": {
            "backgroundcolor": "#E5ECF6",
            "gridcolor": "white",
            "gridwidth": 2,
            "linecolor": "white",
            "showbackground": true,
            "ticks": "",
            "zerolinecolor": "white"
           },
           "zaxis": {
            "backgroundcolor": "#E5ECF6",
            "gridcolor": "white",
            "gridwidth": 2,
            "linecolor": "white",
            "showbackground": true,
            "ticks": "",
            "zerolinecolor": "white"
           }
          },
          "shapedefaults": {
           "line": {
            "color": "#2a3f5f"
           }
          },
          "ternary": {
           "aaxis": {
            "gridcolor": "white",
            "linecolor": "white",
            "ticks": ""
           },
           "baxis": {
            "gridcolor": "white",
            "linecolor": "white",
            "ticks": ""
           },
           "bgcolor": "#E5ECF6",
           "caxis": {
            "gridcolor": "white",
            "linecolor": "white",
            "ticks": ""
           }
          },
          "title": {
           "x": 0.05
          },
          "xaxis": {
           "automargin": true,
           "gridcolor": "white",
           "linecolor": "white",
           "ticks": "",
           "title": {
            "standoff": 15
           },
           "zerolinecolor": "white",
           "zerolinewidth": 2
          },
          "yaxis": {
           "automargin": true,
           "gridcolor": "white",
           "linecolor": "white",
           "ticks": "",
           "title": {
            "standoff": 15
           },
           "zerolinecolor": "white",
           "zerolinewidth": 2
          }
         }
        },
        "width": 800,
        "xaxis": {
         "anchor": "y",
         "domain": [
          0,
          1
         ],
         "range": [
          0,
          3
         ],
         "title": {
          "text": "nmi_vega-lite"
         },
         "type": "linear"
        },
        "yaxis": {
         "anchor": "x",
         "domain": [
          0,
          1
         ],
         "range": [
          0,
          3
         ],
         "title": {
          "text": "nmi_plotly_express"
         },
         "type": "linear"
        }
       }
      },
      "image/png": "[encoded data removed]",
      "text/html": [
       "<div>                            <div id=\"75c449f4-48b3-4fb5-ae53-ac077e4f6312\" class=\"plotly-graph-div\" style=\"height:800px; width:800px;\"></div>            <script type=\"text/javascript\">                require([\"plotly\"], function(Plotly) {                    window.PLOTLYENV=window.PLOTLYENV || {};                                    if (document.getElementById(\"75c449f4-48b3-4fb5-ae53-ac077e4f6312\")) {                    Plotly.newPlot(                        \"75c449f4-48b3-4fb5-ae53-ac077e4f6312\",                        [{\"customdata\":[[\"line_colored\",\"scatter\"],[\"area_colored_stacked\",\"scatter\"],[\"bar_budget_avg\",\"scatter\"],[\"box_colored\",\"scatter\"],[\"bubble_agg\",\"scatter\"],[\"bar_count_horizontal\",\"scatter\"],[\"bubble\",\"scatter\"],[\"histogram_mean\",\"scatter\"],[\"bar_count_single\",\"scatter\"],[\"box_faceted\",\"scatter\"],[\"pie_count\",\"scatter\"],[\"bar_count_ordered\",\"scatter\"],[\"box\",\"scatter\"],[\"ols_separate\",\"scatter\"],[\"bar_budget_avg_colored\",\"scatter\"],[\"bar_count_colored\",\"scatter\"],[\"bar_budget\",\"scatter\"],[\"heatmap_count\",\"scatter\"],[\"heatmap_budget_avg\",\"scatter\"],[\"bar_count\",\"scatter\"],[\"line\",\"scatter\"],[\"area_colored\",\"scatter\"],[\"histogram\",\"scatter\"],[\"bar_count_100\",\"scatter\"],[\"line_colored\",\"scatter_colored_symbol\"],[\"area_colored_stacked\",\"scatter_colored_symbol\"],[\"bar_budget_avg\",\"scatter_colored_symbol\"],[\"box_colored\",\"scatter_colored_symbol\"],[\"bubble_agg\",\"scatter_colored_symbol\"],[\"bar_count_horizontal\",\"scatter_colored_symbol\"],[\"scatter\",\"scatter_colored_symbol\"],[\"bubble\",\"scatter_colored_symbol\"],[\"histogram_mean\",\"scatter_colored_symbol\"],[\"bar_count_single\",\"scatter_colored_symbol\"],[\"scatter_colored_continuous\",\"scatter_colored_symbol\"],[\"scatter_colored\",\"scatter_colored_symbol\"],[\"box_faceted\",\"scatter_colored_symbol\"],[\"pie_count\",\"scatter_colored_symbol\"],[\"bar_count_ordered\",\"scatter_colored_symbol\"],[\"box\",\"scatter_colored_symbol\"],[\"ols_separate\",\"scatter_colored_symbol\"],[\"bar_budget_avg_colored\",\"scatter_colored_symbol\"],[\"bar_count_colored\",\"scatter_colored_symbol\"],[\"bar_budget\",\"scatter_colored_symbol\"],[\"heatmap_count\",\"scatter_colored_symbol\"],[\"heatmap_budget_avg\",\"scatter_colored_symbol\"],[\"bar_count\",\"scatter_colored_symbol\"],[\"line\",\"scatter_colored_symbol\"],[\"area_colored\",\"scatter_colored_symbol\"],[\"histogram\",\"scatter_colored_symbol\"],[\"bar_count_100\",\"scatter_colored_symbol\"],[\"line_colored\",\"scatter_colored_continuous\"],[\"area_colored_stacked\",\"scatter_colored_continuous\"],[\"bar_budget_avg\",\"scatter_colored_continuous\"],[\"box_colored\",\"scatter_colored_continuous\"],[\"bubble_agg\",\"scatter_colored_continuous\"],[\"bar_count_horizontal\",\"scatter_colored_continuous\"],[\"scatter\",\"scatter_colored_continuous\"],[\"bubble\",\"scatter_colored_continuous\"],[\"histogram_mean\",\"scatter_colored_continuous\"],[\"bar_count_single\",\"scatter_colored_continuous\"],[\"scatter_colored\",\"scatter_colored_continuous\"],[\"box_faceted\",\"scatter_colored_continuous\"],[\"pie_count\",\"scatter_colored_continuous\"],[\"bar_count_ordered\",\"scatter_colored_continuous\"],[\"box\",\"scatter_colored_continuous\"],[\"ols_separate\",\"scatter_colored_continuous\"],[\"bar_budget_avg_colored\",\"scatter_colored_continuous\"],[\"bar_count_colored\",\"scatter_colored_continuous\"],[\"bar_budget\",\"scatter_colored_continuous\"],[\"heatmap_count\",\"scatter_colored_continuous\"],[\"heatmap_budget_avg\",\"scatter_colored_continuous\"],[\"bar_count\",\"scatter_colored_continuous\"],[\"line\",\"scatter_colored_continuous\"],[\"area_colored\",\"scatter_colored_continuous\"],[\"histogram\",\"scatter_colored_continuous\"],[\"bar_count_100\",\"scatter_colored_continuous\"],[\"line_colored\",\"scatter_colored\"],[\"area_colored_stacked\",\"scatter_colored\"],[\"bar_budget_avg\",\"scatter_colored\"],[\"box_colored\",\"scatter_colored\"],[\"bubble_agg\",\"scatter_colored\"],[\"bar_count_horizontal\",\"scatter_colored\"],[\"scatter\",\"scatter_colored\"],[\"bubble\",\"scatter_colored\"],[\"histogram_mean\",\"scatter_colored\"],[\"bar_count_single\",\"scatter_colored\"],[\"box_faceted\",\"scatter_colored\"],[\"pie_count\",\"scatter_colored\"],[\"bar_count_ordered\",\"scatter_colored\"],[\"box\",\"scatter_colored\"],[\"ols_separate\",\"scatter_colored\"],[\"bar_budget_avg_colored\",\"scatter_colored\"],[\"bar_count_colored\",\"scatter_colored\"],[\"bar_budget\",\"scatter_colored\"],[\"heatmap_count\",\"scatter_colored\"],[\"heatmap_budget_avg\",\"scatter_colored\"],[\"bar_count\",\"scatter_colored\"],[\"line\",\"scatter_colored\"],[\"area_colored\",\"scatter_colored\"],[\"histogram\",\"scatter_colored\"],[\"bar_count_100\",\"scatter_colored\"],[\"line_colored\",\"pie_count\"],[\"area_colored_stacked\",\"pie_count\"],[\"bar_budget_avg\",\"pie_count\"],[\"box_colored\",\"pie_count\"],[\"bubble_agg\",\"pie_count\"],[\"bar_count_horizontal\",\"pie_count\"],[\"bubble\",\"pie_count\"],[\"histogram_mean\",\"pie_count\"],[\"bar_count_single\",\"pie_count\"],[\"box_faceted\",\"pie_count\"],[\"bar_count_ordered\",\"pie_count\"],[\"box\",\"pie_count\"],[\"ols_separate\",\"pie_count\"],[\"bar_budget_avg_colored\",\"pie_count\"],[\"bar_count_colored\",\"pie_count\"],[\"bar_budget\",\"pie_count\"],[\"heatmap_count\",\"pie_count\"],[\"heatmap_budget_avg\",\"pie_count\"],[\"bar_count\",\"pie_count\"],[\"line\",\"pie_count\"],[\"area_colored\",\"pie_count\"],[\"histogram\",\"pie_count\"],[\"bar_count_100\",\"pie_count\"],[\"line_colored\",\"ols_separate\"],[\"area_colored_stacked\",\"ols_separate\"],[\"bar_budget_avg\",\"ols_separate\"],[\"box_colored\",\"ols_separate\"],[\"bubble_agg\",\"ols_separate\"],[\"bar_count_horizontal\",\"ols_separate\"],[\"bubble\",\"ols_separate\"],[\"histogram_mean\",\"ols_separate\"],[\"bar_count_single\",\"ols_separate\"],[\"box_faceted\",\"ols_separate\"],[\"bar_count_ordered\",\"ols_separate\"],[\"box\",\"ols_separate\"],[\"bar_budget_avg_colored\",\"ols_separate\"],[\"bar_count_colored\",\"ols_separate\"],[\"bar_budget\",\"ols_separate\"],[\"heatmap_count\",\"ols_separate\"],[\"heatmap_budget_avg\",\"ols_separate\"],[\"bar_count\",\"ols_separate\"],[\"line\",\"ols_separate\"],[\"area_colored\",\"ols_separate\"],[\"histogram\",\"ols_separate\"],[\"bar_count_100\",\"ols_separate\"],[\"line_colored\",\"scatter_ols_global\"],[\"area_colored_stacked\",\"scatter_ols_global\"],[\"bar_budget_avg\",\"scatter_ols_global\"],[\"box_colored\",\"scatter_ols_global\"],[\"bubble_agg\",\"scatter_ols_global\"],[\"bar_count_horizontal\",\"scatter_ols_global\"],[\"scatter\",\"scatter_ols_global\"],[\"bubble\",\"scatter_ols_global\"],[\"histogram_mean\",\"scatter_ols_global\"],[\"scatter_colored_symbol\",\"scatter_ols_global\"],[\"bar_count_single\",\"scatter_ols_global\"],[\"scatter_colored_continuous\",\"scatter_ols_global\"],[\"scatter_colored\",\"scatter_ols_global\"],[\"box_faceted\",\"scatter_ols_global\"],[\"pie_count\",\"scatter_ols_global\"],[\"bar_count_ordered\",\"scatter_ols_global\"],[\"box\",\"scatter_ols_global\"],[\"ols_separate\",\"scatter_ols_global\"],[\"bar_budget_avg_colored\",\"scatter_ols_global\"],[\"bar_count_colored\",\"scatter_ols_global\"],[\"bar_budget\",\"scatter_ols_global\"],[\"heatmap_count\",\"scatter_ols_global\"],[\"heatmap_budget_avg\",\"scatter_ols_global\"],[\"bar_count\",\"scatter_ols_global\"],[\"line\",\"scatter_ols_global\"],[\"area_colored\",\"scatter_ols_global\"],[\"histogram\",\"scatter_ols_global\"],[\"bar_count_100\",\"scatter_ols_global\"],[\"area_colored_stacked\",\"line_colored\"],[\"bar_budget_avg\",\"line_colored\"],[\"box_colored\",\"line_colored\"],[\"bubble_agg\",\"line_colored\"],[\"bar_count_horizontal\",\"line_colored\"],[\"bubble\",\"line_colored\"],[\"histogram_mean\",\"line_colored\"],[\"bar_count_single\",\"line_colored\"],[\"box_faceted\",\"line_colored\"],[\"bar_count_ordered\",\"line_colored\"],[\"box\",\"line_colored\"],[\"bar_budget_avg_colored\",\"line_colored\"],[\"bar_count_colored\",\"line_colored\"],[\"bar_budget\",\"line_colored\"],[\"heatmap_count\",\"line_colored\"],[\"heatmap_budget_avg\",\"line_colored\"],[\"bar_count\",\"line_colored\"],[\"line\",\"line_colored\"],[\"area_colored\",\"line_colored\"],[\"histogram\",\"line_colored\"],[\"bar_count_100\",\"line_colored\"],[\"area_colored_stacked\",\"bar_budget_avg\"],[\"bar_budget\",\"bar_budget_avg\"],[\"area_colored\",\"bar_budget_avg\"],[\"area_colored_stacked\",\"box_colored\"],[\"bar_budget_avg\",\"box_colored\"],[\"bar_count_horizontal\",\"box_colored\"],[\"bar_count_single\",\"box_colored\"],[\"bar_count_ordered\",\"box_colored\"],[\"box\",\"box_colored\"],[\"bar_budget_avg_colored\",\"box_colored\"],[\"bar_count_colored\",\"box_colored\"],[\"bar_budget\",\"box_colored\"],[\"bar_count\",\"box_colored\"],[\"area_colored\",\"box_colored\"],[\"bar_count_100\",\"box_colored\"],[\"area_colored_stacked\",\"bubble_agg\"],[\"bar_budget_avg\",\"bubble_agg\"],[\"box_colored\",\"bubble_agg\"],[\"bar_count_horizontal\",\"bubble_agg\"],[\"bubble\",\"bubble_agg\"],[\"bar_count_single\",\"bubble_agg\"],[\"box_faceted\",\"bubble_agg\"],[\"bar_count_ordered\",\"bubble_agg\"],[\"box\",\"bubble_agg\"],[\"bar_budget_avg_colored\",\"bubble_agg\"],[\"bar_count_colored\",\"bubble_agg\"],[\"bar_budget\",\"bubble_agg\"],[\"bar_count\",\"bubble_agg\"],[\"area_colored\",\"bubble_agg\"],[\"bar_count_100\",\"bubble_agg\"],[\"area_colored_stacked\",\"bar_count_horizontal\"],[\"bar_budget_avg\",\"bar_count_horizontal\"],[\"bar_budget_avg_colored\",\"bar_count_horizontal\"],[\"bar_count_colored\",\"bar_count_horizontal\"],[\"bar_budget\",\"bar_count_horizontal\"],[\"bar_count\",\"bar_count_horizontal\"],[\"area_colored\",\"bar_count_horizontal\"],[\"bar_count_100\",\"bar_count_horizontal\"],[\"area_colored_stacked\",\"bubble\"],[\"bar_budget_avg\",\"bubble\"],[\"box_colored\",\"bubble\"],[\"bar_count_horizontal\",\"bubble\"],[\"bar_count_single\",\"bubble\"],[\"box_faceted\",\"bubble\"],[\"bar_count_ordered\",\"bubble\"],[\"box\",\"bubble\"],[\"bar_budget_avg_colored\",\"bubble\"],[\"bar_count_colored\",\"bubble\"],[\"bar_budget\",\"bubble\"],[\"bar_count\",\"bubble\"],[\"area_colored\",\"bubble\"],[\"bar_count_100\",\"bubble\"],[\"area_colored_stacked\",\"histogram_mean\"],[\"bar_budget_avg\",\"histogram_mean\"],[\"box_colored\",\"histogram_mean\"],[\"bubble_agg\",\"histogram_mean\"],[\"bar_count_horizontal\",\"histogram_mean\"],[\"bubble\",\"histogram_mean\"],[\"bar_count_single\",\"histogram_mean\"],[\"box_faceted\",\"histogram_mean\"],[\"bar_count_ordered\",\"histogram_mean\"],[\"box\",\"histogram_mean\"],[\"bar_budget_avg_colored\",\"histogram_mean\"],[\"bar_count_colored\",\"histogram_mean\"],[\"bar_budget\",\"histogram_mean\"],[\"heatmap_count\",\"histogram_mean\"],[\"heatmap_budget_avg\",\"histogram_mean\"],[\"bar_count\",\"histogram_mean\"],[\"area_colored\",\"histogram_mean\"],[\"histogram\",\"histogram_mean\"],[\"bar_count_100\",\"histogram_mean\"],[\"area_colored_stacked\",\"bar_count_single\"],[\"bar_budget_avg\",\"bar_count_single\"],[\"bar_count_horizontal\",\"bar_count_single\"],[\"bar_count_ordered\",\"bar_count_single\"],[\"bar_budget_avg_colored\",\"bar_count_single\"],[\"bar_count_colored\",\"bar_count_single\"],[\"bar_budget\",\"bar_count_single\"],[\"bar_count\",\"bar_count_single\"],[\"area_colored\",\"bar_count_single\"],[\"bar_count_100\",\"bar_count_single\"],[\"area_colored_stacked\",\"box_faceted\"],[\"bar_budget_avg\",\"box_faceted\"],[\"box_colored\",\"box_faceted\"],[\"bar_count_horizontal\",\"box_faceted\"],[\"bar_count_single\",\"box_faceted\"],[\"bar_count_ordered\",\"box_faceted\"],[\"box\",\"box_faceted\"],[\"bar_budget_avg_colored\",\"box_faceted\"],[\"bar_count_colored\",\"box_faceted\"],[\"bar_budget\",\"box_faceted\"],[\"bar_count\",\"box_faceted\"],[\"area_colored\",\"box_faceted\"],[\"bar_count_100\",\"box_faceted\"],[\"area_colored_stacked\",\"bar_count_ordered\"],[\"bar_budget_avg\",\"bar_count_ordered\"],[\"bar_count_horizontal\",\"bar_count_ordered\"],[\"bar_budget_avg_colored\",\"bar_count_ordered\"],[\"bar_count_colored\",\"bar_count_ordered\"],[\"bar_budget\",\"bar_count_ordered\"],[\"bar_count\",\"bar_count_ordered\"],[\"area_colored\",\"bar_count_ordered\"],[\"bar_count_100\",\"bar_count_ordered\"],[\"area_colored_stacked\",\"box\"],[\"bar_budget_avg\",\"box\"],[\"bar_count_horizontal\",\"box\"],[\"bar_count_single\",\"box\"],[\"bar_count_ordered\",\"box\"],[\"bar_budget_avg_colored\",\"box\"],[\"bar_count_colored\",\"box\"],[\"bar_budget\",\"box\"],[\"bar_count\",\"box\"],[\"area_colored\",\"box\"],[\"bar_count_100\",\"box\"],[\"area_colored_stacked\",\"bar_budget_avg_colored\"],[\"bar_budget_avg\",\"bar_budget_avg_colored\"],[\"bar_budget\",\"bar_budget_avg_colored\"],[\"area_colored\",\"bar_budget_avg_colored\"],[\"area_colored_stacked\",\"bar_count_colored\"],[\"bar_budget_avg\",\"bar_count_colored\"],[\"bar_budget_avg_colored\",\"bar_count_colored\"],[\"bar_budget\",\"bar_count_colored\"],[\"bar_count\",\"bar_count_colored\"],[\"area_colored\",\"bar_count_colored\"],[\"bar_count_100\",\"bar_count_colored\"],[\"area_colored_stacked\",\"bar_budget\"],[\"area_colored\",\"bar_budget\"],[\"area_colored_stacked\",\"heatmap_count\"],[\"bar_budget_avg\",\"heatmap_count\"],[\"box_colored\",\"heatmap_count\"],[\"bubble_agg\",\"heatmap_count\"],[\"bar_count_horizontal\",\"heatmap_count\"],[\"bubble\",\"heatmap_count\"],[\"bar_count_single\",\"heatmap_count\"],[\"box_faceted\",\"heatmap_count\"],[\"bar_count_ordered\",\"heatmap_count\"],[\"box\",\"heatmap_count\"],[\"bar_budget_avg_colored\",\"heatmap_count\"],[\"bar_count_colored\",\"heatmap_count\"],[\"bar_budget\",\"heatmap_count\"],[\"heatmap_budget_avg\",\"heatmap_count\"],[\"bar_count\",\"heatmap_count\"],[\"area_colored\",\"heatmap_count\"],[\"bar_count_100\",\"heatmap_count\"],[\"area_colored_stacked\",\"heatmap_budget_avg\"],[\"bar_budget_avg\",\"heatmap_budget_avg\"],[\"box_colored\",\"heatmap_budget_avg\"],[\"bubble_agg\",\"heatmap_budget_avg\"],[\"bar_count_horizontal\",\"heatmap_budget_avg\"],[\"bubble\",\"heatmap_budget_avg\"],[\"bar_count_single\",\"heatmap_budget_avg\"],[\"box_faceted\",\"heatmap_budget_avg\"],[\"bar_count_ordered\",\"heatmap_budget_avg\"],[\"box\",\"heatmap_budget_avg\"],[\"bar_budget_avg_colored\",\"heatmap_budget_avg\"],[\"bar_count_colored\",\"heatmap_budget_avg\"],[\"bar_budget\",\"heatmap_budget_avg\"],[\"bar_count\",\"heatmap_budget_avg\"],[\"area_colored\",\"heatmap_budget_avg\"],[\"bar_count_100\",\"heatmap_budget_avg\"],[\"area_colored_stacked\",\"bar_count\"],[\"bar_budget_avg\",\"bar_count\"],[\"bar_budget_avg_colored\",\"bar_count\"],[\"bar_budget\",\"bar_count\"],[\"area_colored\",\"bar_count\"],[\"area_colored_stacked\",\"line\"],[\"bar_budget_avg\",\"line\"],[\"box_colored\",\"line\"],[\"bubble_agg\",\"line\"],[\"bar_count_horizontal\",\"line\"],[\"bubble\",\"line\"],[\"histogram_mean\",\"line\"],[\"bar_count_single\",\"line\"],[\"box_faceted\",\"line\"],[\"bar_count_ordered\",\"line\"],[\"box\",\"line\"],[\"bar_budget_avg_colored\",\"line\"],[\"bar_count_colored\",\"line\"],[\"bar_budget\",\"line\"],[\"heatmap_count\",\"line\"],[\"heatmap_budget_avg\",\"line\"],[\"bar_count\",\"line\"],[\"area_colored\",\"line\"],[\"histogram\",\"line\"],[\"bar_count_100\",\"line\"],[\"area_colored_stacked\",\"histogram\"],[\"bar_budget_avg\",\"histogram\"],[\"box_colored\",\"histogram\"],[\"bubble_agg\",\"histogram\"],[\"bar_count_horizontal\",\"histogram\"],[\"bubble\",\"histogram\"],[\"bar_count_single\",\"histogram\"],[\"box_faceted\",\"histogram\"],[\"bar_count_ordered\",\"histogram\"],[\"box\",\"histogram\"],[\"bar_budget_avg_colored\",\"histogram\"],[\"bar_count_colored\",\"histogram\"],[\"bar_budget\",\"histogram\"],[\"heatmap_count\",\"histogram\"],[\"heatmap_budget_avg\",\"histogram\"],[\"bar_count\",\"histogram\"],[\"area_colored\",\"histogram\"],[\"bar_count_100\",\"histogram\"],[\"area_colored_stacked\",\"bar_count_100\"],[\"bar_budget_avg\",\"bar_count_100\"],[\"bar_budget_avg_colored\",\"bar_count_100\"],[\"bar_budget\",\"bar_count_100\"],[\"bar_count\",\"bar_count_100\"],[\"area_colored\",\"bar_count_100\"],[\"area_colored\",\"area_colored_stacked\"]],\"hovertemplate\":\"nmi_vega-lite=%{x}<br>nmi_plotly_express=%{y}<br>from_slug=%{customdata[0]}<br>to_slug=%{customdata[1]}<extra></extra>\",\"legendgroup\":\"\",\"marker\":{\"color\":\"#636efa\",\"symbol\":\"circle\"},\"mode\":\"markers\",\"name\":\"\",\"orientation\":\"v\",\"showlegend\":false,\"x\":[1.2283308568598315,1.2942989214175653,1.13193261404505,1.0386003887808941,0.752435337588176,1.1418007829491084,0.6678082191780821,0.7676767676767676,1.2721186035389764,1.070090957731407,1.0887096774193548,1.0729613733905579,0.7240547063555912,1.4349775784753362,1.4272121788772596,1.3701067615658362,1.1497870764673206,1.1178788964528843,1.161911309728429,1.1256595661520423,0.9090909090909091,1.3034652747571407,0.9257226491035492,1.4262852570514102,0.9606625258799172,1.0838709677419354,0.989345509893455,0.6122678671918964,0.6103542234332425,1.0057649667405766,0.532150776053215,0.4505119453924915,0.9764309764309764,1.038555392874573,0.37370242214532867,0.37209302325581395,0.6710816777041942,0.907563025210084,1.0973451327433628,0.7402597402597403,1.1009174311926606,0.9241432422025414,0.945389435989257,1.0018552875695734,0.8508124076809452,0.8050668543279381,1.141950832672482,1.0909090909090908,1.0093009300930094,1.0404271548436308,1.0118126272912424,1.120622568093385,1.1838802025985466,1.2813141683778235,0.9244712990936554,0.6579634464751958,1.2804878048780486,0.36585365853658536,0.38095238095238093,0.913126188966392,1.146795827123696,0.3870967741935483,0.9640167364016735,1.0632911392405062,1.2080536912751676,0.898876404494382,1.2167832167832167,1.2858409695536506,1.2289655172413794,1.2072226999140154,1.1697478991596637,1.1292225201072388,1.1814038286235187,1.0434782608695652,1.185017026106697,0.9856404365307293,1.3752725007785738,0.9509043927648578,1.1044558071585098,1.2974051896207583,0.8940832724616509,0.5936395759717314,1.2952598515134208,0.4833836858006042,0.3800904977375566,1.0548523206751055,1.1450094161958568,0.8515406162464986,0.968421052631579,1.3932584269662922,0.9661016949152543,1.1294117647058823,1.2018027040560841,1.1348182883939038,1.3190034196384954,0.9906191369606002,1.0315599639314699,1.3812949640287768,1.1958762886597938,1.011755783086841,1.1346704871060171,1.305307409353652,0.8015414258188824,0.8563626433642819,0.726764500349406,0.8103626943005181,0.8782936010037641,0.4811783960720131,0.9000000000000001,0.8763693270735524,0.23963963963963966,0.8507157464212679,0.5901639344262295,0.7880597014925373,1.3898305084745763,0.6732813607370659,0.3980263157894737,0.7351940095302928,0.426812585499316,0.6423927178153446,0.5960555149744339,0.9846153846153847,0.8391764051196439,0.6865248226950355,0.5529676934635612,1.302713987473904,1.4240094618568893,1.7986164488854726,1.3909090909090909,1.232462173314993,1.7672336615935542,1.0344827586206897,1.4601018675721562,1.5724137931034483,1.3184855233853006,1.75,1.534426229508197,1.6329704510108864,1.5913200723327305,1.8215892053973015,1.4307004470938895,1.4772727272727273,1.8446757405924739,1.5,1.3692493946731235,1.5907692307692307,1.6266447368421053,1.7874659400544959,2.0261739799846032,2.497331910352188,1.9065420560747663,1.687382297551789,2.3985419198055893,1.8300653594771241,1.4563106796116507,1.915367483296214,1.2839506172839505,2.1308411214953273,1.485148514851485,1.543859649122807,1.7566765578635015,1.8222222222222222,2.3333333333333335,2.0090497737556565,1.0,2.3504273504273505,2.3157894736842106,2.5418410041841004,2.003976143141153,1.9923371647509578,2.52354874041621,2.0434782608695654,2.001605136436597,2.0846774193548385,2.315436241610738,0.24144435462139585,1.2161650902837489,1.075647404005613,0.9341983317886932,1.0835432832812657,0.9592621060722522,1.04978772674643,0.9106845667369355,1.096774193548387,1.098989898989899,1.1285819250551066,1.151531012823868,0.9617486338797814,1.2300477346955867,0.8091706001348618,0.9662021464039725,1.1395683453237409,0.3036053130929791,0.12730639961588586,1.1698443239461256,0.9532796743454529,1.3467698748843775,0.17603360185562483,1.3583885900162642,1.2036267745547808,0.8786028680959818,0.9027541091748666,0.8596141051230872,1.0043763676148796,0.37038531369780114,0.5690512624330528,0.7494155627296003,0.8055606872344356,1.044043108114758,1.1328292936031428,0.8294777250227295,1.1316595223515002,1.2091638029782361,0.9659254248752853,1.2911038658593386,0.4755532681420484,1.0905629987553993,0.9990089197224975,1.2980132450331126,1.025390625,1.1343249030615197,1.2447797386501416,1.2252836304700163,1.360810005955926,1.1294476600708934,1.2992602555480834,1.2083916083916084,0.48751813683544776,0.6715322975057372,0.36390687904778574,0.41154055525313016,0.35134193098640637,1.2109125997836194,0.4610061642473653,1.1694583423972154,1.2620629875758451,0.8243300723096555,1.3466933867735473,1.1307861866274798,0.8720066061106524,1.3509933774834437,0.974169741697417,1.2671133119720361,1.3002717391304346,1.371718882303133,1.4231805929919137,1.0916423930091865,1.355848940743015,1.1027239908106334,0.6552786334360123,1.0235648292328454,0.8798391151332329,0.8262972374784818,0.9768315591734502,0.8573233462683872,1.1142974190905366,0.6568144499178982,0.8612440191387559,0.8164714235001774,0.9062448508815291,0.7365477733069631,0.8879144971224994,0.7789501107203335,0.667349626811064,1.0345019787079874,0.31254439551072594,1.0386091668548205,0.9696741145784229,0.6874309335734456,0.3421303353658537,0.5413105413105413,0.6291651144501014,0.4024648565376468,0.6963152221645574,0.5440831806366386,0.9576748527471112,0.49722112817819786,1.2156526706655242,0.9968663594470045,0.40824123345613317,0.8677499192940923,0.9001539737060287,1.1010752688172043,0.6042486231313926,0.8587697190329506,0.8779006723053567,1.009073757973228,1.0707692307692307,1.1507768619155299,0.9455479790493132,1.153978248425873,0.5380635624538064,0.362381363244176,0.7110778443113773,0.4208695652173913,0.5446685878962536,0.18504240555127216,1.1532163742690058,0.5103011093502378,1.258165175785313,0.5973741794310722,0.7196573060447407,0.915342991796125,0.7570977917981073,0.7871840905952217,0.806690254100997,0.60552663195835,0.8593350383631714,1.26396752483709,0.8852602420177867,1.2795494405058911,0.4633680049253102,0.5549933590538233,1.2866342155967954,1.0235489600641723,0.5614194035485088,0.5030104412773416,0.5691752045404289,0.4967463739709918,1.0143084260731319,0.20349071020670795,1.290316463197819,1.2983808037456106,0.9950324799388612,0.6544108574953732,0.67062368733449,1.0400176873756357,0.4718081659105638,1.154228855721393,0.43370056273282076,0.8614501076812634,0.5179856115107914,0.7962085308056872,0.5997376147935278,0.30657570039192916,0.6624571531661555,0.2853549788498914,0.593050193050193,0.9850178126982578,0.47457178758018653,1.1561323109033985,0.43831417624521074,0.6163500087153565,0.9216162042409538,0.7123532239236421,1.1136964569011105,0.7466183027280283,0.8173586195113617,0.7479452054794521,0.7452853909982399,0.38764312977099236,0.5552627929552073,0.6053115658772131,0.8429843414184833,1.1554750626915575,0.7166645641478492,1.2663746562086178,0.540763949070062,0.8083802081579036,0.5479558981364036,1.1998432806582213,0.42173211403980637,1.1420727522306109,1.2118126272912424,1.0702836004932181,1.0136765888978279,1.1042944785276074,0.8628659476117102,1.0434012400354296,1.2877263581488934,0.9032258064516129,0.9853372434017597,1.2883008356545962,1.1017770597738288,1.0828877005347595,1.0013458950201883,1.0971867007672635,0.9303661162957645,0.38116100766703176,0.9832402234636871,1.223042836041359,1.2216768307799097,0.5078962389801484,0.9497742663656884,1.0873476824962987,0.5490603877293322,1.1230856494611459,0.6494398560798103,1.0454798589196213,0.4583333333333333,0.7152533188837714,0.7429563874951756,0.6863711001642036,0.5137773384406277,0.7540047187383583,0.7089235127478754,0.4550818802625472,1.224691856940796,0.7591380250954719,0.8774531638936197,0.6542893288200499,0.5963080752212389,0.6628418945963975,0.5892609329964773,1.0745932012244241,0.1893987987637763],\"xaxis\":\"x\",\"y\":[1.5918135304150085,1.5663743574236466,1.1114079615281858,1.1281625881377022,1.0737111205794632,1.1969601013299558,0.9513742071881607,0.6081081081081081,1.3908338637810311,1.2809315866084425,1.2514484356894555,1.3594771241830066,0.8326908249807248,1.492007104795737,1.4556962025316456,1.3655668082326038,0.9968758875319511,1.1626721060683327,1.2557497700091995,1.135422826729746,1.3284132841328413,1.6195947024094464,0.688360450563204,1.5597626448149196,1.5258855585831064,1.505813953488372,1.4335839598997493,0.9251700680272109,1.0161290322580645,1.2509307520476545,1.0471204188481675,0.8973080757726819,1.0793650793650793,1.4296463506395787,0.9917355371900828,0.7384615384615385,0.993103448275862,1.434782608695652,1.4943960149439601,1.1717902350813743,1.408805031446541,1.2537313432835822,1.2782874617737003,1.358041032428855,1.0987951807228917,1.0750816104461371,1.3296398891966759,1.725094577553594,1.5513947267863966,1.2922173274596183,1.224218230206254,1.4653098982423682,1.531789058649581,1.4735938170888794,1.0872751499000666,0.8093599449415003,1.412844036697248,0.6569343065693432,0.7975460122699386,0.8478260869565218,1.2302158273381296,0.518918918918919,1.2423529411764707,1.3407821229050279,1.42433234421365,1.204460966542751,1.3237822349570199,1.4081632653061225,1.3151546932354485,1.3997271487039564,1.2444444444444445,1.3328380386329868,1.5042735042735043,1.5732647814910026,1.49026732416299,1.062374245472837,1.5075102412380519,1.4103343465045592,1.486725663716814,1.541882876204596,1.0974063400576368,0.9126891734575088,1.4691735898557063,0.8362369337979094,0.7669959325973271,0.9719626168224299,1.2572921201567262,1.2698412698412698,1.2347266881028938,1.5819209039548023,1.2320855614973263,1.364190012180268,1.4608695652173913,1.3612374886260237,1.6357114388202472,1.2737430167597765,1.2419861722187304,1.5789473684210527,1.7300353356890459,1.4366858851163784,1.2211621856027755,1.5757103931490852,1.188297074268567,1.2582995951417004,0.991105463786531,0.7012030444389884,1.33051742344245,0.6723842195540309,1.2529002320185614,1.020242914979757,0.5824326979760267,0.8711433756805806,0.8832385413181667,0.7922971114167814,1.6461622210125204,1.0656370656370655,0.5584615384615385,0.9030988686669945,0.5875706214689266,0.9330675021361435,0.7044025157232704,1.1913133402275076,1.2046575055071855,0.6892950391644908,0.7557761423926065,1.5946682823386853,1.639494833524684,1.7365976145637163,1.4768276129532674,1.3195876288659794,1.7758985200845665,1.2471841081302477,1.3910256410256412,1.6234741784037559,1.4598117306299783,1.7286270299288684,1.6440739398332727,1.588957055214724,1.6355636473979667,1.802551875241655,1.5528353734698976,1.5283704039945527,1.8537931034482757,1.7504862461794943,1.6840768644713453,1.4536873156342185,1.6613713509843855,1.8328173374613004,1.7872340425531914,2.2229007633587785,1.7767220902612826,1.3365155131264916,2.115107913669065,1.7647058823529411,1.2171837708830548,1.4615384615384615,1.5483870967741935,1.8321428571428573,1.6363636363636365,1.4883720930232558,1.6910569105691058,1.9072847682119205,2.077922077922078,1.9030837004405288,1.5399999999999998,1.9285714285714286,2.0637898686679175,2.224052718286656,1.7191977077363898,1.675257731958763,2.2779661016949153,2.07492795389049,1.8677110530896432,1.5714285714285716,1.9136,0.21616405307599518,1.6196573801695795,1.3420456060808108,1.0944625407166124,1.3720029316301958,1.372016578533657,1.3481152993348116,1.2030339672419479,1.4069529652351738,1.3840830449826989,1.4748938296277792,1.5074946466809422,1.245369406867846,1.589209074187615,1.2782060266292923,1.461280536484113,1.419257012888552,0.31916179730002014,0.11429275201674981,1.3971097089354774,1.3553687789215223,1.5296974224878594,0.265436533444247,1.5689709405018268,1.335443493273865,0.6006454900628503,0.775928818854853,0.8589824340401707,0.8904231890958871,0.30009807126511934,0.607977991746905,0.564218610711102,0.5906644829199813,0.8132552634857357,1.287110249142175,0.7630198804732283,1.101123595505618,1.4184120798830977,1.0739870264172229,1.3791688045151362,0.6268033031539151,1.2550034243969257,1.1050035236081748,1.4657767307943987,1.240288275619617,1.210134128166915,1.2229411764705884,1.3676002744682179,1.4378175982883126,1.0411548165611946,1.2738181578426848,1.4304950495049504,0.5759746824315415,0.854389721627409,0.44222281308162725,0.4620399293766128,0.19483908379240358,1.3904516582267366,0.5498268747331975,1.299203464542572,1.3449075450383494,1.0773328434974283,1.3060261634141113,1.181259714306861,1.0270455323519343,1.4072900158478607,1.1585993820803298,1.2191582002902757,1.23337885430892,1.2866568914956011,1.364170913367307,1.3204984821856527,1.1971468962858245,1.341317365269461,0.5340802987861811,0.9321789321789321,1.088646967340591,0.8004484304932735,1.0015174506828528,0.9675925925925926,1.0695187165775402,0.9871668311944719,0.8247978436657682,0.8181818181818182,0.8949152542372881,0.6236766121270453,0.9759704251386323,0.785234899328859,0.8377823408624231,1.2944823310601363,0.4342105263157895,1.065458207452165,1.2674965751384835,0.9403127124405166,0.56583396967383,0.7760003889726261,0.8425720620842572,0.4576558821919308,0.8580588207963574,0.5901443504230961,1.2183900985841958,0.5573706156487613,1.3976705490848587,0.7835914608622855,0.3515347334410339,0.8469876480967986,0.9159025412627718,1.0830324909747293,0.6090634441087613,0.6974358974358974,0.7559373420919656,0.786463910901692,0.9705882352941178,1.3582750249892903,0.8346563846677251,1.4349963392950529,0.7222779535457983,0.46942672192986545,0.949667616334283,0.6137822003161909,0.6365172291854937,0.4874746106973595,1.4003272795557582,0.7718444565627753,1.460968046379938,0.49487152373902926,0.5755614769699277,0.9396833704042915,0.8020496825220007,0.7866323907455013,0.760466009473819,0.2652259332023576,0.6029309141660851,1.422243956965209,0.8491340018231541,1.4275782155272305,0.5093499554764025,0.5928636779505947,1.4578096947935368,1.3132854578096946,0.6595706936313642,0.6630785791173305,0.5448291676221051,0.3607261370290845,1.2628147285693494,0.3381545658503986,1.5679472071647418,1.5354446514364153,1.2753843234010247,0.7679166063413928,0.5929569591950811,1.3466116103959194,0.5706819963417821,1.2761432116270826,0.7413964411525609,0.8428093645484951,0.781637717121588,0.677115987460815,0.9345132743362833,0.46178065418926006,0.6736466919135666,0.49050176863618494,0.5954198473282443,1.2264917519212886,0.6485470353254484,1.4490696668109042,0.5772843723313407,0.6724819961456537,1.2456120984656145,0.8203384469397438,1.1720510894064613,0.9732392053849943,0.7510452299505891,0.9908956171924624,0.6656552247297554,0.6688102893890675,0.8168187227290757,0.7560072693006663,0.8552878372529216,1.4798162273071949,0.8932356497617185,1.4083009609486812,0.5028203062046737,0.7984344422700588,0.3777167124656508,1.4390075809786356,0.47092448059799924,1.4140097002464815,1.4253493503309633,1.231103270457321,1.1629650995096625,1.5224232887490163,1.2097759674134418,1.2752191877456414,1.4838407494145198,1.2657115232486595,1.2644628099173554,1.5913555992141453,1.3261888814467515,1.3715529753265603,1.283855421686747,1.472559637055466,1.2043910088865657,0.3813645048892885,1.1849635309519357,1.4355062413314839,1.3875398307878255,0.4920430107526882,0.6961840180827018,1.2339390470739733,0.47697708032211444,1.152395585975695,0.6677316293929713,0.8657156910969012,0.7184976866551755,0.49168115222249814,0.7824267782426778,0.6552119129438717,0.3690423360255614,0.7633951352270796,0.8388391478851498,0.3996215704824977,1.4162445216005464,0.7506722299490032,1.2167696471429301,0.7553187290309847,0.7526467757459094,0.6556485015836919,0.47895878524945773,1.3733699382292381,0.16379223398890572],\"yaxis\":\"y\",\"type\":\"scatter\"}],                        {\"template\":{\"data\":{\"histogram2dcontour\":[{\"type\":\"histogram2dcontour\",\"colorbar\":{\"outlinewidth\":0,\"ticks\":\"\"},\"colorscale\":[[0.0,\"#0d0887\"],[0.1111111111111111,\"#46039f\"],[0.2222222222222222,\"#7201a8\"],[0.3333333333333333,\"#9c179e\"],[0.4444444444444444,\"#bd3786\"],[0.5555555555555556,\"#d8576b\"],[0.6666666666666666,\"#ed7953\"],[0.7777777777777778,\"#fb9f3a\"],[0.8888888888888888,\"#fdca26\"],[1.0,\"#f0f921\"]]}],\"choropleth\":[{\"type\":\"choropleth\",\"colorbar\":{\"outlinewidth\":0,\"ticks\":\"\"}}],\"histogram2d\":[{\"type\":\"histogram2d\",\"colorbar\":{\"outlinewidth\":0,\"ticks\":\"\"},\"colorscale\":[[0.0,\"#0d0887\"],[0.1111111111111111,\"#46039f\"],[0.2222222222222222,\"#7201a8\"],[0.3333333333333333,\"#9c179e\"],[0.4444444444444444,\"#bd3786\"],[0.5555555555555556,\"#d8576b\"],[0.6666666666666666,\"#ed7953\"],[0.7777777777777778,\"#fb9f3a\"],[0.8888888888888888,\"#fdca26\"],[1.0,\"#f0f921\"]]}],\"heatmap\":[{\"type\":\"heatmap\",\"colorbar\":{\"outlinewidth\":0,\"ticks\":\"\"},\"colorscale\":[[0.0,\"#0d0887\"],[0.1111111111111111,\"#46039f\"],[0.2222222222222222,\"#7201a8\"],[0.3333333333333333,\"#9c179e\"],[0.4444444444444444,\"#bd3786\"],[0.5555555555555556,\"#d8576b\"],[0.6666666666666666,\"#ed7953\"],[0.7777777777777778,\"#fb9f3a\"],[0.8888888888888888,\"#fdca26\"],[1.0,\"#f0f921\"]]}],\"heatmapgl\":[{\"type\":\"heatmapgl\",\"colorbar\":{\"outlinewidth\":0,\"ticks\":\"\"},\"colorscale\":[[0.0,\"#0d0887\"],[0.1111111111111111,\"#46039f\"],[0.2222222222222222,\"#7201a8\"],[0.3333333333333333,\"#9c179e\"],[0.4444444444444444,\"#bd3786\"],[0.5555555555555556,\"#d8576b\"],[0.6666666666666666,\"#ed7953\"],[0.7777777777777778,\"#fb9f3a\"],[0.8888888888888888,\"#fdca26\"],[1.0,\"#f0f921\"]]}],\"contourcarpet\":[{\"type\":\"contourcarpet\",\"colorbar\":{\"outlinewidth\":0,\"ticks\":\"\"}}],\"contour\":[{\"type\":\"contour\",\"colorbar\":{\"outlinewidth\":0,\"ticks\":\"\"},\"colorscale\":[[0.0,\"#0d0887\"],[0.1111111111111111,\"#46039f\"],[0.2222222222222222,\"#7201a8\"],[0.3333333333333333,\"#9c179e\"],[0.4444444444444444,\"#bd3786\"],[0.5555555555555556,\"#d8576b\"],[0.6666666666666666,\"#ed7953\"],[0.7777777777777778,\"#fb9f3a\"],[0.8888888888888888,\"#fdca26\"],[1.0,\"#f0f921\"]]}],\"surface\":[{\"type\":\"surface\",\"colorbar\":{\"outlinewidth\":0,\"ticks\":\"\"},\"colorscale\":[[0.0,\"#0d0887\"],[0.1111111111111111,\"#46039f\"],[0.2222222222222222,\"#7201a8\"],[0.3333333333333333,\"#9c179e\"],[0.4444444444444444,\"#bd3786\"],[0.5555555555555556,\"#d8576b\"],[0.6666666666666666,\"#ed7953\"],[0.7777777777777778,\"#fb9f3a\"],[0.8888888888888888,\"#fdca26\"],[1.0,\"#f0f921\"]]}],\"mesh3d\":[{\"type\":\"mesh3d\",\"colorbar\":{\"outlinewidth\":0,\"ticks\":\"\"}}],\"scatter\":[{\"fillpattern\":{\"fillmode\":\"overlay\",\"size\":10,\"solidity\":0.2},\"type\":\"scatter\"}],\"parcoords\":[{\"type\":\"parcoords\",\"line\":{\"colorbar\":{\"outlinewidth\":0,\"ticks\":\"\"}}}],\"scatterpolargl\":[{\"type\":\"scatterpolargl\",\"marker\":{\"colorbar\":{\"outlinewidth\":0,\"ticks\":\"\"}}}],\"bar\":[{\"error_x\":{\"color\":\"#2a3f5f\"},\"error_y\":{\"color\":\"#2a3f5f\"},\"marker\":{\"line\":{\"color\":\"#E5ECF6\",\"width\":0.5},\"pattern\":{\"fillmode\":\"overlay\",\"size\":10,\"solidity\":0.2}},\"type\":\"bar\"}],\"scattergeo\":[{\"type\":\"scattergeo\",\"marker\":{\"colorbar\":{\"outlinewidth\":0,\"ticks\":\"\"}}}],\"scatterpolar\":[{\"type\":\"scatterpolar\",\"marker\":{\"colorbar\":{\"outlinewidth\":0,\"ticks\":\"\"}}}],\"histogram\":[{\"marker\":{\"pattern\":{\"fillmode\":\"overlay\",\"size\":10,\"solidity\":0.2}},\"type\":\"histogram\"}],\"scattergl\":[{\"type\":\"scattergl\",\"marker\":{\"colorbar\":{\"outlinewidth\":0,\"ticks\":\"\"}}}],\"scatter3d\":[{\"type\":\"scatter3d\",\"line\":{\"colorbar\":{\"outlinewidth\":0,\"ticks\":\"\"}},\"marker\":{\"colorbar\":{\"outlinewidth\":0,\"ticks\":\"\"}}}],\"scattermapbox\":[{\"type\":\"scattermapbox\",\"marker\":{\"colorbar\":{\"outlinewidth\":0,\"ticks\":\"\"}}}],\"scatterternary\":[{\"type\":\"scatterternary\",\"marker\":{\"colorbar\":{\"outlinewidth\":0,\"ticks\":\"\"}}}],\"scattercarpet\":[{\"type\":\"scattercarpet\",\"marker\":{\"colorbar\":{\"outlinewidth\":0,\"ticks\":\"\"}}}],\"carpet\":[{\"aaxis\":{\"endlinecolor\":\"#2a3f5f\",\"gridcolor\":\"white\",\"linecolor\":\"white\",\"minorgridcolor\":\"white\",\"startlinecolor\":\"#2a3f5f\"},\"baxis\":{\"endlinecolor\":\"#2a3f5f\",\"gridcolor\":\"white\",\"linecolor\":\"white\",\"minorgridcolor\":\"white\",\"startlinecolor\":\"#2a3f5f\"},\"type\":\"carpet\"}],\"table\":[{\"cells\":{\"fill\":{\"color\":\"#EBF0F8\"},\"line\":{\"color\":\"white\"}},\"header\":{\"fill\":{\"color\":\"#C8D4E3\"},\"line\":{\"color\":\"white\"}},\"type\":\"table\"}],\"barpolar\":[{\"marker\":{\"line\":{\"color\":\"#E5ECF6\",\"width\":0.5},\"pattern\":{\"fillmode\":\"overlay\",\"size\":10,\"solidity\":0.2}},\"type\":\"barpolar\"}],\"pie\":[{\"automargin\":true,\"type\":\"pie\"}]},\"layout\":{\"autotypenumbers\":\"strict\",\"colorway\":[\"#636efa\",\"#EF553B\",\"#00cc96\",\"#ab63fa\",\"#FFA15A\",\"#19d3f3\",\"#FF6692\",\"#B6E880\",\"#FF97FF\",\"#FECB52\"],\"font\":{\"color\":\"#2a3f5f\"},\"hovermode\":\"closest\",\"hoverlabel\":{\"align\":\"left\"},\"paper_bgcolor\":\"white\",\"plot_bgcolor\":\"#E5ECF6\",\"polar\":{\"bgcolor\":\"#E5ECF6\",\"angularaxis\":{\"gridcolor\":\"white\",\"linecolor\":\"white\",\"ticks\":\"\"},\"radialaxis\":{\"gridcolor\":\"white\",\"linecolor\":\"white\",\"ticks\":\"\"}},\"ternary\":{\"bgcolor\":\"#E5ECF6\",\"aaxis\":{\"gridcolor\":\"white\",\"linecolor\":\"white\",\"ticks\":\"\"},\"baxis\":{\"gridcolor\":\"white\",\"linecolor\":\"white\",\"ticks\":\"\"},\"caxis\":{\"gridcolor\":\"white\",\"linecolor\":\"white\",\"ticks\":\"\"}},\"coloraxis\":{\"colorbar\":{\"outlinewidth\":0,\"ticks\":\"\"}},\"colorscale\":{\"sequential\":[[0.0,\"#0d0887\"],[0.1111111111111111,\"#46039f\"],[0.2222222222222222,\"#7201a8\"],[0.3333333333333333,\"#9c179e\"],[0.4444444444444444,\"#bd3786\"],[0.5555555555555556,\"#d8576b\"],[0.6666666666666666,\"#ed7953\"],[0.7777777777777778,\"#fb9f3a\"],[0.8888888888888888,\"#fdca26\"],[1.0,\"#f0f921\"]],\"sequentialminus\":[[0.0,\"#0d0887\"],[0.1111111111111111,\"#46039f\"],[0.2222222222222222,\"#7201a8\"],[0.3333333333333333,\"#9c179e\"],[0.4444444444444444,\"#bd3786\"],[0.5555555555555556,\"#d8576b\"],[0.6666666666666666,\"#ed7953\"],[0.7777777777777778,\"#fb9f3a\"],[0.8888888888888888,\"#fdca26\"],[1.0,\"#f0f921\"]],\"diverging\":[[0,\"#8e0152\"],[0.1,\"#c51b7d\"],[0.2,\"#de77ae\"],[0.3,\"#f1b6da\"],[0.4,\"#fde0ef\"],[0.5,\"#f7f7f7\"],[0.6,\"#e6f5d0\"],[0.7,\"#b8e186\"],[0.8,\"#7fbc41\"],[0.9,\"#4d9221\"],[1,\"#276419\"]]},\"xaxis\":{\"gridcolor\":\"white\",\"linecolor\":\"white\",\"ticks\":\"\",\"title\":{\"standoff\":15},\"zerolinecolor\":\"white\",\"automargin\":true,\"zerolinewidth\":2},\"yaxis\":{\"gridcolor\":\"white\",\"linecolor\":\"white\",\"ticks\":\"\",\"title\":{\"standoff\":15},\"zerolinecolor\":\"white\",\"automargin\":true,\"zerolinewidth\":2},\"scene\":{\"xaxis\":{\"backgroundcolor\":\"#E5ECF6\",\"gridcolor\":\"white\",\"linecolor\":\"white\",\"showbackground\":true,\"ticks\":\"\",\"zerolinecolor\":\"white\",\"gridwidth\":2},\"yaxis\":{\"backgroundcolor\":\"#E5ECF6\",\"gridcolor\":\"white\",\"linecolor\":\"white\",\"showbackground\":true,\"ticks\":\"\",\"zerolinecolor\":\"white\",\"gridwidth\":2},\"zaxis\":{\"backgroundcolor\":\"#E5ECF6\",\"gridcolor\":\"white\",\"linecolor\":\"white\",\"showbackground\":true,\"ticks\":\"\",\"zerolinecolor\":\"white\",\"gridwidth\":2}},\"shapedefaults\":{\"line\":{\"color\":\"#2a3f5f\"}},\"annotationdefaults\":{\"arrowcolor\":\"#2a3f5f\",\"arrowhead\":0,\"arrowwidth\":1},\"geo\":{\"bgcolor\":\"white\",\"landcolor\":\"#E5ECF6\",\"subunitcolor\":\"white\",\"showland\":true,\"showlakes\":true,\"lakecolor\":\"white\"},\"title\":{\"x\":0.05},\"mapbox\":{\"style\":\"light\"}}},\"xaxis\":{\"anchor\":\"y\",\"domain\":[0.0,1.0],\"title\":{\"text\":\"nmi_vega-lite\"},\"range\":[0,3]},\"yaxis\":{\"anchor\":\"x\",\"domain\":[0.0,1.0],\"title\":{\"text\":\"nmi_plotly_express\"},\"range\":[0,3]},\"legend\":{\"tracegroupgap\":0},\"margin\":{\"t\":60},\"height\":800,\"width\":800},                        {\"responsive\": true}                    ).then(function(){\n",
       "                            \n",
       "var gd = document.getElementById('75c449f4-48b3-4fb5-ae53-ac077e4f6312');\n",
       "var x = new MutationObserver(function (mutations, observer) {{\n",
       "        var display = window.getComputedStyle(gd).display;\n",
       "        if (!display || display === 'none') {{\n",
       "            console.log([gd, 'removed!']);\n",
       "            Plotly.purge(gd);\n",
       "            observer.disconnect();\n",
       "        }}\n",
       "}});\n",
       "\n",
       "// Listen for the removal of the full notebook cells\n",
       "var notebookContainer = gd.closest('#notebook-container');\n",
       "if (notebookContainer) {{\n",
       "    x.observe(notebookContainer, {childList: true});\n",
       "}}\n",
       "\n",
       "// Listen for the clearing of the current output cell\n",
       "var outputEl = gd.closest('.output');\n",
       "if (outputEl) {{\n",
       "    x.observe(outputEl, {childList: true});\n",
       "}}\n",
       "\n",
       "                        })                };                });            </script>        </div>"
      ]
     },
     "metadata": {},
     "output_type": "display_data"
    }
   ],
   "source": [
    "px.scatter(big, x=x, y=y, hover_data=[\"from_slug\", \"to_slug\"], height=800, width=800,\n",
    "          range_x=[0,3], range_y=[0,3])"
   ]
  },
  {
   "cell_type": "code",
   "execution_count": null,
   "id": "86db2a4d-974f-431b-8b82-7ec264bd62b0",
   "metadata": {},
   "outputs": [],
   "source": []
  }
 ],
 "metadata": {
  "kernelspec": {
   "display_name": "Python 3 (ipykernel)",
   "language": "python",
   "name": "python3"
  },
  "language_info": {
   "codemirror_mode": {
    "name": "ipython",
    "version": 3
   },
   "file_extension": ".py",
   "mimetype": "text/x-python",
   "name": "python",
   "nbconvert_exporter": "python",
   "pygments_lexer": "ipython3",
   "version": "3.9.7"
  }
 },
 "nbformat": 4,
 "nbformat_minor": 5
}
