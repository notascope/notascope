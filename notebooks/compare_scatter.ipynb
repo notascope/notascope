{
 "cells": [
  {
   "cell_type": "code",
   "execution_count": 74,
   "id": "0d14e69c-d1c7-4cbc-bb58-8ac9cebd0006",
   "metadata": {
    "tags": []
   },
   "outputs": [
    {
     "data": {
      "application/vnd.plotly.v1+json": {
       "config": {
        "plotlyServerURL": "https://plotly.com"
       },
       "data": [
        {
         "customdata": [
          [
           "box",
           "box_day"
          ],
          [
           "box",
           "box_day_time"
          ],
          [
           "box",
           "box_time_day"
          ],
          [
           "box",
           "strip_day"
          ],
          [
           "box",
           "strip"
          ],
          [
           "box",
           "strip_time"
          ],
          [
           "box",
           "box_time"
          ],
          [
           "box_day",
           "box"
          ],
          [
           "box_day",
           "box_day_time"
          ],
          [
           "box_day",
           "box_time_day"
          ],
          [
           "box_day",
           "strip_day"
          ],
          [
           "box_day",
           "strip"
          ],
          [
           "box_day",
           "strip_time"
          ],
          [
           "box_day",
           "box_time"
          ],
          [
           "box_day_time",
           "box"
          ],
          [
           "box_day_time",
           "box_day"
          ],
          [
           "box_day_time",
           "box_time_day"
          ],
          [
           "box_day_time",
           "strip_day"
          ],
          [
           "box_day_time",
           "strip"
          ],
          [
           "box_day_time",
           "strip_time"
          ],
          [
           "box_day_time",
           "box_time"
          ],
          [
           "box_time_day",
           "box"
          ],
          [
           "box_time_day",
           "box_day"
          ],
          [
           "box_time_day",
           "box_day_time"
          ],
          [
           "box_time_day",
           "strip_day"
          ],
          [
           "box_time_day",
           "strip"
          ],
          [
           "box_time_day",
           "strip_time"
          ],
          [
           "box_time_day",
           "box_time"
          ],
          [
           "strip_day",
           "box"
          ],
          [
           "strip_day",
           "box_day"
          ],
          [
           "strip_day",
           "box_day_time"
          ],
          [
           "strip_day",
           "box_time_day"
          ],
          [
           "strip_day",
           "strip"
          ],
          [
           "strip_day",
           "strip_time"
          ],
          [
           "strip_day",
           "box_time"
          ],
          [
           "strip",
           "box"
          ],
          [
           "strip",
           "box_day"
          ],
          [
           "strip",
           "box_day_time"
          ],
          [
           "strip",
           "box_time_day"
          ],
          [
           "strip",
           "strip_day"
          ],
          [
           "strip",
           "strip_time"
          ],
          [
           "strip",
           "box_time"
          ],
          [
           "strip_time",
           "box"
          ],
          [
           "strip_time",
           "box_day"
          ],
          [
           "strip_time",
           "box_day_time"
          ],
          [
           "strip_time",
           "box_time_day"
          ],
          [
           "strip_time",
           "strip_day"
          ],
          [
           "strip_time",
           "strip"
          ],
          [
           "strip_time",
           "box_time"
          ],
          [
           "box_time",
           "box"
          ],
          [
           "box_time",
           "box_day"
          ],
          [
           "box_time",
           "box_day_time"
          ],
          [
           "box_time",
           "box_time_day"
          ],
          [
           "box_time",
           "strip_day"
          ],
          [
           "box_time",
           "strip"
          ],
          [
           "box_time",
           "strip_time"
          ]
         ],
         "hovertemplate": "ncd_ggplot2=%{x}<br>ncd_plotly_express=%{y}<br>from_slug=%{customdata[0]}<br>to_slug=%{customdata[1]}<extra></extra>",
         "legendgroup": "",
         "marker": {
          "color": "#636efa",
          "symbol": "circle"
         },
         "mode": "markers",
         "name": "",
         "orientation": "v",
         "showlegend": false,
         "type": "scatter",
         "x": [
          175,
          276,
          276,
          214,
          108,
          214,
          170,
          175,
          212,
          170,
          119,
          175,
          166,
          97,
          276,
          212,
          85,
          234,
          297,
          191,
          148,
          276,
          170,
          85,
          191,
          297,
          234,
          191,
          214,
          119,
          212,
          212,
          142,
          71,
          142,
          108,
          200,
          297,
          297,
          142,
          142,
          195,
          214,
          166,
          191,
          212,
          71,
          142,
          95,
          170,
          97,
          148,
          191,
          142,
          195,
          95
         ],
         "xaxis": "x",
         "y": [
          128,
          186,
          186,
          179,
          111,
          179,
          128,
          128,
          116,
          139,
          76,
          179,
          128,
          76,
          186,
          116,
          69,
          162,
          232,
          162,
          116,
          209,
          139,
          69,
          162,
          232,
          162,
          139,
          179,
          76,
          162,
          162,
          153,
          76,
          128,
          111,
          179,
          232,
          232,
          128,
          128,
          179,
          179,
          128,
          162,
          162,
          76,
          128,
          76,
          128,
          76,
          116,
          116,
          128,
          179,
          76
         ],
         "yaxis": "y"
        }
       ],
       "layout": {
        "height": 600,
        "legend": {
         "tracegroupgap": 0
        },
        "margin": {
         "t": 60
        },
        "shapes": [
         {
          "line": {
           "color": "white",
           "width": 1
          },
          "type": "line",
          "x0": 46.2,
          "x1": 319.8,
          "y0": 46.2,
          "y1": 319.8
         }
        ],
        "template": {
         "data": {
          "bar": [
           {
            "error_x": {
             "color": "#2a3f5f"
            },
            "error_y": {
             "color": "#2a3f5f"
            },
            "marker": {
             "line": {
              "color": "#E5ECF6",
              "width": 0.5
             },
             "pattern": {
              "fillmode": "overlay",
              "size": 10,
              "solidity": 0.2
             }
            },
            "type": "bar"
           }
          ],
          "barpolar": [
           {
            "marker": {
             "line": {
              "color": "#E5ECF6",
              "width": 0.5
             },
             "pattern": {
              "fillmode": "overlay",
              "size": 10,
              "solidity": 0.2
             }
            },
            "type": "barpolar"
           }
          ],
          "carpet": [
           {
            "aaxis": {
             "endlinecolor": "#2a3f5f",
             "gridcolor": "white",
             "linecolor": "white",
             "minorgridcolor": "white",
             "startlinecolor": "#2a3f5f"
            },
            "baxis": {
             "endlinecolor": "#2a3f5f",
             "gridcolor": "white",
             "linecolor": "white",
             "minorgridcolor": "white",
             "startlinecolor": "#2a3f5f"
            },
            "type": "carpet"
           }
          ],
          "choropleth": [
           {
            "colorbar": {
             "outlinewidth": 0,
             "ticks": ""
            },
            "type": "choropleth"
           }
          ],
          "contour": [
           {
            "colorbar": {
             "outlinewidth": 0,
             "ticks": ""
            },
            "colorscale": [
             [
              0,
              "#0d0887"
             ],
             [
              0.1111111111111111,
              "#46039f"
             ],
             [
              0.2222222222222222,
              "#7201a8"
             ],
             [
              0.3333333333333333,
              "#9c179e"
             ],
             [
              0.4444444444444444,
              "#bd3786"
             ],
             [
              0.5555555555555556,
              "#d8576b"
             ],
             [
              0.6666666666666666,
              "#ed7953"
             ],
             [
              0.7777777777777778,
              "#fb9f3a"
             ],
             [
              0.8888888888888888,
              "#fdca26"
             ],
             [
              1,
              "#f0f921"
             ]
            ],
            "type": "contour"
           }
          ],
          "contourcarpet": [
           {
            "colorbar": {
             "outlinewidth": 0,
             "ticks": ""
            },
            "type": "contourcarpet"
           }
          ],
          "heatmap": [
           {
            "colorbar": {
             "outlinewidth": 0,
             "ticks": ""
            },
            "colorscale": [
             [
              0,
              "#0d0887"
             ],
             [
              0.1111111111111111,
              "#46039f"
             ],
             [
              0.2222222222222222,
              "#7201a8"
             ],
             [
              0.3333333333333333,
              "#9c179e"
             ],
             [
              0.4444444444444444,
              "#bd3786"
             ],
             [
              0.5555555555555556,
              "#d8576b"
             ],
             [
              0.6666666666666666,
              "#ed7953"
             ],
             [
              0.7777777777777778,
              "#fb9f3a"
             ],
             [
              0.8888888888888888,
              "#fdca26"
             ],
             [
              1,
              "#f0f921"
             ]
            ],
            "type": "heatmap"
           }
          ],
          "heatmapgl": [
           {
            "colorbar": {
             "outlinewidth": 0,
             "ticks": ""
            },
            "colorscale": [
             [
              0,
              "#0d0887"
             ],
             [
              0.1111111111111111,
              "#46039f"
             ],
             [
              0.2222222222222222,
              "#7201a8"
             ],
             [
              0.3333333333333333,
              "#9c179e"
             ],
             [
              0.4444444444444444,
              "#bd3786"
             ],
             [
              0.5555555555555556,
              "#d8576b"
             ],
             [
              0.6666666666666666,
              "#ed7953"
             ],
             [
              0.7777777777777778,
              "#fb9f3a"
             ],
             [
              0.8888888888888888,
              "#fdca26"
             ],
             [
              1,
              "#f0f921"
             ]
            ],
            "type": "heatmapgl"
           }
          ],
          "histogram": [
           {
            "marker": {
             "pattern": {
              "fillmode": "overlay",
              "size": 10,
              "solidity": 0.2
             }
            },
            "type": "histogram"
           }
          ],
          "histogram2d": [
           {
            "colorbar": {
             "outlinewidth": 0,
             "ticks": ""
            },
            "colorscale": [
             [
              0,
              "#0d0887"
             ],
             [
              0.1111111111111111,
              "#46039f"
             ],
             [
              0.2222222222222222,
              "#7201a8"
             ],
             [
              0.3333333333333333,
              "#9c179e"
             ],
             [
              0.4444444444444444,
              "#bd3786"
             ],
             [
              0.5555555555555556,
              "#d8576b"
             ],
             [
              0.6666666666666666,
              "#ed7953"
             ],
             [
              0.7777777777777778,
              "#fb9f3a"
             ],
             [
              0.8888888888888888,
              "#fdca26"
             ],
             [
              1,
              "#f0f921"
             ]
            ],
            "type": "histogram2d"
           }
          ],
          "histogram2dcontour": [
           {
            "colorbar": {
             "outlinewidth": 0,
             "ticks": ""
            },
            "colorscale": [
             [
              0,
              "#0d0887"
             ],
             [
              0.1111111111111111,
              "#46039f"
             ],
             [
              0.2222222222222222,
              "#7201a8"
             ],
             [
              0.3333333333333333,
              "#9c179e"
             ],
             [
              0.4444444444444444,
              "#bd3786"
             ],
             [
              0.5555555555555556,
              "#d8576b"
             ],
             [
              0.6666666666666666,
              "#ed7953"
             ],
             [
              0.7777777777777778,
              "#fb9f3a"
             ],
             [
              0.8888888888888888,
              "#fdca26"
             ],
             [
              1,
              "#f0f921"
             ]
            ],
            "type": "histogram2dcontour"
           }
          ],
          "mesh3d": [
           {
            "colorbar": {
             "outlinewidth": 0,
             "ticks": ""
            },
            "type": "mesh3d"
           }
          ],
          "parcoords": [
           {
            "line": {
             "colorbar": {
              "outlinewidth": 0,
              "ticks": ""
             }
            },
            "type": "parcoords"
           }
          ],
          "pie": [
           {
            "automargin": true,
            "type": "pie"
           }
          ],
          "scatter": [
           {
            "fillpattern": {
             "fillmode": "overlay",
             "size": 10,
             "solidity": 0.2
            },
            "type": "scatter"
           }
          ],
          "scatter3d": [
           {
            "line": {
             "colorbar": {
              "outlinewidth": 0,
              "ticks": ""
             }
            },
            "marker": {
             "colorbar": {
              "outlinewidth": 0,
              "ticks": ""
             }
            },
            "type": "scatter3d"
           }
          ],
          "scattercarpet": [
           {
            "marker": {
             "colorbar": {
              "outlinewidth": 0,
              "ticks": ""
             }
            },
            "type": "scattercarpet"
           }
          ],
          "scattergeo": [
           {
            "marker": {
             "colorbar": {
              "outlinewidth": 0,
              "ticks": ""
             }
            },
            "type": "scattergeo"
           }
          ],
          "scattergl": [
           {
            "marker": {
             "colorbar": {
              "outlinewidth": 0,
              "ticks": ""
             }
            },
            "type": "scattergl"
           }
          ],
          "scattermapbox": [
           {
            "marker": {
             "colorbar": {
              "outlinewidth": 0,
              "ticks": ""
             }
            },
            "type": "scattermapbox"
           }
          ],
          "scatterpolar": [
           {
            "marker": {
             "colorbar": {
              "outlinewidth": 0,
              "ticks": ""
             }
            },
            "type": "scatterpolar"
           }
          ],
          "scatterpolargl": [
           {
            "marker": {
             "colorbar": {
              "outlinewidth": 0,
              "ticks": ""
             }
            },
            "type": "scatterpolargl"
           }
          ],
          "scatterternary": [
           {
            "marker": {
             "colorbar": {
              "outlinewidth": 0,
              "ticks": ""
             }
            },
            "type": "scatterternary"
           }
          ],
          "surface": [
           {
            "colorbar": {
             "outlinewidth": 0,
             "ticks": ""
            },
            "colorscale": [
             [
              0,
              "#0d0887"
             ],
             [
              0.1111111111111111,
              "#46039f"
             ],
             [
              0.2222222222222222,
              "#7201a8"
             ],
             [
              0.3333333333333333,
              "#9c179e"
             ],
             [
              0.4444444444444444,
              "#bd3786"
             ],
             [
              0.5555555555555556,
              "#d8576b"
             ],
             [
              0.6666666666666666,
              "#ed7953"
             ],
             [
              0.7777777777777778,
              "#fb9f3a"
             ],
             [
              0.8888888888888888,
              "#fdca26"
             ],
             [
              1,
              "#f0f921"
             ]
            ],
            "type": "surface"
           }
          ],
          "table": [
           {
            "cells": {
             "fill": {
              "color": "#EBF0F8"
             },
             "line": {
              "color": "white"
             }
            },
            "header": {
             "fill": {
              "color": "#C8D4E3"
             },
             "line": {
              "color": "white"
             }
            },
            "type": "table"
           }
          ]
         },
         "layout": {
          "annotationdefaults": {
           "arrowcolor": "#2a3f5f",
           "arrowhead": 0,
           "arrowwidth": 1
          },
          "autotypenumbers": "strict",
          "coloraxis": {
           "colorbar": {
            "outlinewidth": 0,
            "ticks": ""
           }
          },
          "colorscale": {
           "diverging": [
            [
             0,
             "#8e0152"
            ],
            [
             0.1,
             "#c51b7d"
            ],
            [
             0.2,
             "#de77ae"
            ],
            [
             0.3,
             "#f1b6da"
            ],
            [
             0.4,
             "#fde0ef"
            ],
            [
             0.5,
             "#f7f7f7"
            ],
            [
             0.6,
             "#e6f5d0"
            ],
            [
             0.7,
             "#b8e186"
            ],
            [
             0.8,
             "#7fbc41"
            ],
            [
             0.9,
             "#4d9221"
            ],
            [
             1,
             "#276419"
            ]
           ],
           "sequential": [
            [
             0,
             "#0d0887"
            ],
            [
             0.1111111111111111,
             "#46039f"
            ],
            [
             0.2222222222222222,
             "#7201a8"
            ],
            [
             0.3333333333333333,
             "#9c179e"
            ],
            [
             0.4444444444444444,
             "#bd3786"
            ],
            [
             0.5555555555555556,
             "#d8576b"
            ],
            [
             0.6666666666666666,
             "#ed7953"
            ],
            [
             0.7777777777777778,
             "#fb9f3a"
            ],
            [
             0.8888888888888888,
             "#fdca26"
            ],
            [
             1,
             "#f0f921"
            ]
           ],
           "sequentialminus": [
            [
             0,
             "#0d0887"
            ],
            [
             0.1111111111111111,
             "#46039f"
            ],
            [
             0.2222222222222222,
             "#7201a8"
            ],
            [
             0.3333333333333333,
             "#9c179e"
            ],
            [
             0.4444444444444444,
             "#bd3786"
            ],
            [
             0.5555555555555556,
             "#d8576b"
            ],
            [
             0.6666666666666666,
             "#ed7953"
            ],
            [
             0.7777777777777778,
             "#fb9f3a"
            ],
            [
             0.8888888888888888,
             "#fdca26"
            ],
            [
             1,
             "#f0f921"
            ]
           ]
          },
          "colorway": [
           "#636efa",
           "#EF553B",
           "#00cc96",
           "#ab63fa",
           "#FFA15A",
           "#19d3f3",
           "#FF6692",
           "#B6E880",
           "#FF97FF",
           "#FECB52"
          ],
          "font": {
           "color": "#2a3f5f"
          },
          "geo": {
           "bgcolor": "white",
           "lakecolor": "white",
           "landcolor": "#E5ECF6",
           "showlakes": true,
           "showland": true,
           "subunitcolor": "white"
          },
          "hoverlabel": {
           "align": "left"
          },
          "hovermode": "closest",
          "mapbox": {
           "style": "light"
          },
          "paper_bgcolor": "white",
          "plot_bgcolor": "#E5ECF6",
          "polar": {
           "angularaxis": {
            "gridcolor": "white",
            "linecolor": "white",
            "ticks": ""
           },
           "bgcolor": "#E5ECF6",
           "radialaxis": {
            "gridcolor": "white",
            "linecolor": "white",
            "ticks": ""
           }
          },
          "scene": {
           "xaxis": {
            "backgroundcolor": "#E5ECF6",
            "gridcolor": "white",
            "gridwidth": 2,
            "linecolor": "white",
            "showbackground": true,
            "ticks": "",
            "zerolinecolor": "white"
           },
           "yaxis": {
            "backgroundcolor": "#E5ECF6",
            "gridcolor": "white",
            "gridwidth": 2,
            "linecolor": "white",
            "showbackground": true,
            "ticks": "",
            "zerolinecolor": "white"
           },
           "zaxis": {
            "backgroundcolor": "#E5ECF6",
            "gridcolor": "white",
            "gridwidth": 2,
            "linecolor": "white",
            "showbackground": true,
            "ticks": "",
            "zerolinecolor": "white"
           }
          },
          "shapedefaults": {
           "line": {
            "color": "#2a3f5f"
           }
          },
          "ternary": {
           "aaxis": {
            "gridcolor": "white",
            "linecolor": "white",
            "ticks": ""
           },
           "baxis": {
            "gridcolor": "white",
            "linecolor": "white",
            "ticks": ""
           },
           "bgcolor": "#E5ECF6",
           "caxis": {
            "gridcolor": "white",
            "linecolor": "white",
            "ticks": ""
           }
          },
          "title": {
           "x": 0.05
          },
          "xaxis": {
           "automargin": true,
           "gridcolor": "white",
           "linecolor": "white",
           "ticks": "",
           "title": {
            "standoff": 15
           },
           "zerolinecolor": "white",
           "zerolinewidth": 2
          },
          "yaxis": {
           "automargin": true,
           "gridcolor": "white",
           "linecolor": "white",
           "ticks": "",
           "title": {
            "standoff": 15
           },
           "zerolinecolor": "white",
           "zerolinewidth": 2
          }
         }
        },
        "width": 600,
        "xaxis": {
         "anchor": "y",
         "autorange": true,
         "domain": [
          0,
          1
         ],
         "range": [
          45.88838268792711,
          320.1116173120729
         ],
         "title": {
          "text": "ncd_ggplot2"
         },
         "type": "linear"
        },
        "yaxis": {
         "anchor": "x",
         "autorange": true,
         "domain": [
          0,
          1
         ],
         "range": [
          45.90196078431373,
          320.0980392156863
         ],
         "title": {
          "text": "ncd_plotly_express"
         },
         "type": "linear"
        }
       }
      },
      "image/png": "[encoded data removed]",
      "text/html": [
       "<div>                            <div id=\"c319839f-f62a-43e4-ba9d-792cd0e98bf5\" class=\"plotly-graph-div\" style=\"height:600px; width:600px;\"></div>            <script type=\"text/javascript\">                require([\"plotly\"], function(Plotly) {                    window.PLOTLYENV=window.PLOTLYENV || {};                                    if (document.getElementById(\"c319839f-f62a-43e4-ba9d-792cd0e98bf5\")) {                    Plotly.newPlot(                        \"c319839f-f62a-43e4-ba9d-792cd0e98bf5\",                        [{\"customdata\":[[\"box\",\"box_day\"],[\"box\",\"box_day_time\"],[\"box\",\"box_time_day\"],[\"box\",\"strip_day\"],[\"box\",\"strip\"],[\"box\",\"strip_time\"],[\"box\",\"box_time\"],[\"box_day\",\"box\"],[\"box_day\",\"box_day_time\"],[\"box_day\",\"box_time_day\"],[\"box_day\",\"strip_day\"],[\"box_day\",\"strip\"],[\"box_day\",\"strip_time\"],[\"box_day\",\"box_time\"],[\"box_day_time\",\"box\"],[\"box_day_time\",\"box_day\"],[\"box_day_time\",\"box_time_day\"],[\"box_day_time\",\"strip_day\"],[\"box_day_time\",\"strip\"],[\"box_day_time\",\"strip_time\"],[\"box_day_time\",\"box_time\"],[\"box_time_day\",\"box\"],[\"box_time_day\",\"box_day\"],[\"box_time_day\",\"box_day_time\"],[\"box_time_day\",\"strip_day\"],[\"box_time_day\",\"strip\"],[\"box_time_day\",\"strip_time\"],[\"box_time_day\",\"box_time\"],[\"strip_day\",\"box\"],[\"strip_day\",\"box_day\"],[\"strip_day\",\"box_day_time\"],[\"strip_day\",\"box_time_day\"],[\"strip_day\",\"strip\"],[\"strip_day\",\"strip_time\"],[\"strip_day\",\"box_time\"],[\"strip\",\"box\"],[\"strip\",\"box_day\"],[\"strip\",\"box_day_time\"],[\"strip\",\"box_time_day\"],[\"strip\",\"strip_day\"],[\"strip\",\"strip_time\"],[\"strip\",\"box_time\"],[\"strip_time\",\"box\"],[\"strip_time\",\"box_day\"],[\"strip_time\",\"box_day_time\"],[\"strip_time\",\"box_time_day\"],[\"strip_time\",\"strip_day\"],[\"strip_time\",\"strip\"],[\"strip_time\",\"box_time\"],[\"box_time\",\"box\"],[\"box_time\",\"box_day\"],[\"box_time\",\"box_day_time\"],[\"box_time\",\"box_time_day\"],[\"box_time\",\"strip_day\"],[\"box_time\",\"strip\"],[\"box_time\",\"strip_time\"]],\"hovertemplate\":\"ncd_ggplot2=%{x}<br>ncd_plotly_express=%{y}<br>from_slug=%{customdata[0]}<br>to_slug=%{customdata[1]}<extra></extra>\",\"legendgroup\":\"\",\"marker\":{\"color\":\"#636efa\",\"symbol\":\"circle\"},\"mode\":\"markers\",\"name\":\"\",\"orientation\":\"v\",\"showlegend\":false,\"x\":[175,276,276,214,108,214,170,175,212,170,119,175,166,97,276,212,85,234,297,191,148,276,170,85,191,297,234,191,214,119,212,212,142,71,142,108,200,297,297,142,142,195,214,166,191,212,71,142,95,170,97,148,191,142,195,95],\"xaxis\":\"x\",\"y\":[128,186,186,179,111,179,128,128,116,139,76,179,128,76,186,116,69,162,232,162,116,209,139,69,162,232,162,139,179,76,162,162,153,76,128,111,179,232,232,128,128,179,179,128,162,162,76,128,76,128,76,116,116,128,179,76],\"yaxis\":\"y\",\"type\":\"scatter\"}],                        {\"template\":{\"data\":{\"histogram2dcontour\":[{\"type\":\"histogram2dcontour\",\"colorbar\":{\"outlinewidth\":0,\"ticks\":\"\"},\"colorscale\":[[0.0,\"#0d0887\"],[0.1111111111111111,\"#46039f\"],[0.2222222222222222,\"#7201a8\"],[0.3333333333333333,\"#9c179e\"],[0.4444444444444444,\"#bd3786\"],[0.5555555555555556,\"#d8576b\"],[0.6666666666666666,\"#ed7953\"],[0.7777777777777778,\"#fb9f3a\"],[0.8888888888888888,\"#fdca26\"],[1.0,\"#f0f921\"]]}],\"choropleth\":[{\"type\":\"choropleth\",\"colorbar\":{\"outlinewidth\":0,\"ticks\":\"\"}}],\"histogram2d\":[{\"type\":\"histogram2d\",\"colorbar\":{\"outlinewidth\":0,\"ticks\":\"\"},\"colorscale\":[[0.0,\"#0d0887\"],[0.1111111111111111,\"#46039f\"],[0.2222222222222222,\"#7201a8\"],[0.3333333333333333,\"#9c179e\"],[0.4444444444444444,\"#bd3786\"],[0.5555555555555556,\"#d8576b\"],[0.6666666666666666,\"#ed7953\"],[0.7777777777777778,\"#fb9f3a\"],[0.8888888888888888,\"#fdca26\"],[1.0,\"#f0f921\"]]}],\"heatmap\":[{\"type\":\"heatmap\",\"colorbar\":{\"outlinewidth\":0,\"ticks\":\"\"},\"colorscale\":[[0.0,\"#0d0887\"],[0.1111111111111111,\"#46039f\"],[0.2222222222222222,\"#7201a8\"],[0.3333333333333333,\"#9c179e\"],[0.4444444444444444,\"#bd3786\"],[0.5555555555555556,\"#d8576b\"],[0.6666666666666666,\"#ed7953\"],[0.7777777777777778,\"#fb9f3a\"],[0.8888888888888888,\"#fdca26\"],[1.0,\"#f0f921\"]]}],\"heatmapgl\":[{\"type\":\"heatmapgl\",\"colorbar\":{\"outlinewidth\":0,\"ticks\":\"\"},\"colorscale\":[[0.0,\"#0d0887\"],[0.1111111111111111,\"#46039f\"],[0.2222222222222222,\"#7201a8\"],[0.3333333333333333,\"#9c179e\"],[0.4444444444444444,\"#bd3786\"],[0.5555555555555556,\"#d8576b\"],[0.6666666666666666,\"#ed7953\"],[0.7777777777777778,\"#fb9f3a\"],[0.8888888888888888,\"#fdca26\"],[1.0,\"#f0f921\"]]}],\"contourcarpet\":[{\"type\":\"contourcarpet\",\"colorbar\":{\"outlinewidth\":0,\"ticks\":\"\"}}],\"contour\":[{\"type\":\"contour\",\"colorbar\":{\"outlinewidth\":0,\"ticks\":\"\"},\"colorscale\":[[0.0,\"#0d0887\"],[0.1111111111111111,\"#46039f\"],[0.2222222222222222,\"#7201a8\"],[0.3333333333333333,\"#9c179e\"],[0.4444444444444444,\"#bd3786\"],[0.5555555555555556,\"#d8576b\"],[0.6666666666666666,\"#ed7953\"],[0.7777777777777778,\"#fb9f3a\"],[0.8888888888888888,\"#fdca26\"],[1.0,\"#f0f921\"]]}],\"surface\":[{\"type\":\"surface\",\"colorbar\":{\"outlinewidth\":0,\"ticks\":\"\"},\"colorscale\":[[0.0,\"#0d0887\"],[0.1111111111111111,\"#46039f\"],[0.2222222222222222,\"#7201a8\"],[0.3333333333333333,\"#9c179e\"],[0.4444444444444444,\"#bd3786\"],[0.5555555555555556,\"#d8576b\"],[0.6666666666666666,\"#ed7953\"],[0.7777777777777778,\"#fb9f3a\"],[0.8888888888888888,\"#fdca26\"],[1.0,\"#f0f921\"]]}],\"mesh3d\":[{\"type\":\"mesh3d\",\"colorbar\":{\"outlinewidth\":0,\"ticks\":\"\"}}],\"scatter\":[{\"fillpattern\":{\"fillmode\":\"overlay\",\"size\":10,\"solidity\":0.2},\"type\":\"scatter\"}],\"parcoords\":[{\"type\":\"parcoords\",\"line\":{\"colorbar\":{\"outlinewidth\":0,\"ticks\":\"\"}}}],\"scatterpolargl\":[{\"type\":\"scatterpolargl\",\"marker\":{\"colorbar\":{\"outlinewidth\":0,\"ticks\":\"\"}}}],\"bar\":[{\"error_x\":{\"color\":\"#2a3f5f\"},\"error_y\":{\"color\":\"#2a3f5f\"},\"marker\":{\"line\":{\"color\":\"#E5ECF6\",\"width\":0.5},\"pattern\":{\"fillmode\":\"overlay\",\"size\":10,\"solidity\":0.2}},\"type\":\"bar\"}],\"scattergeo\":[{\"type\":\"scattergeo\",\"marker\":{\"colorbar\":{\"outlinewidth\":0,\"ticks\":\"\"}}}],\"scatterpolar\":[{\"type\":\"scatterpolar\",\"marker\":{\"colorbar\":{\"outlinewidth\":0,\"ticks\":\"\"}}}],\"histogram\":[{\"marker\":{\"pattern\":{\"fillmode\":\"overlay\",\"size\":10,\"solidity\":0.2}},\"type\":\"histogram\"}],\"scattergl\":[{\"type\":\"scattergl\",\"marker\":{\"colorbar\":{\"outlinewidth\":0,\"ticks\":\"\"}}}],\"scatter3d\":[{\"type\":\"scatter3d\",\"line\":{\"colorbar\":{\"outlinewidth\":0,\"ticks\":\"\"}},\"marker\":{\"colorbar\":{\"outlinewidth\":0,\"ticks\":\"\"}}}],\"scattermapbox\":[{\"type\":\"scattermapbox\",\"marker\":{\"colorbar\":{\"outlinewidth\":0,\"ticks\":\"\"}}}],\"scatterternary\":[{\"type\":\"scatterternary\",\"marker\":{\"colorbar\":{\"outlinewidth\":0,\"ticks\":\"\"}}}],\"scattercarpet\":[{\"type\":\"scattercarpet\",\"marker\":{\"colorbar\":{\"outlinewidth\":0,\"ticks\":\"\"}}}],\"carpet\":[{\"aaxis\":{\"endlinecolor\":\"#2a3f5f\",\"gridcolor\":\"white\",\"linecolor\":\"white\",\"minorgridcolor\":\"white\",\"startlinecolor\":\"#2a3f5f\"},\"baxis\":{\"endlinecolor\":\"#2a3f5f\",\"gridcolor\":\"white\",\"linecolor\":\"white\",\"minorgridcolor\":\"white\",\"startlinecolor\":\"#2a3f5f\"},\"type\":\"carpet\"}],\"table\":[{\"cells\":{\"fill\":{\"color\":\"#EBF0F8\"},\"line\":{\"color\":\"white\"}},\"header\":{\"fill\":{\"color\":\"#C8D4E3\"},\"line\":{\"color\":\"white\"}},\"type\":\"table\"}],\"barpolar\":[{\"marker\":{\"line\":{\"color\":\"#E5ECF6\",\"width\":0.5},\"pattern\":{\"fillmode\":\"overlay\",\"size\":10,\"solidity\":0.2}},\"type\":\"barpolar\"}],\"pie\":[{\"automargin\":true,\"type\":\"pie\"}]},\"layout\":{\"autotypenumbers\":\"strict\",\"colorway\":[\"#636efa\",\"#EF553B\",\"#00cc96\",\"#ab63fa\",\"#FFA15A\",\"#19d3f3\",\"#FF6692\",\"#B6E880\",\"#FF97FF\",\"#FECB52\"],\"font\":{\"color\":\"#2a3f5f\"},\"hovermode\":\"closest\",\"hoverlabel\":{\"align\":\"left\"},\"paper_bgcolor\":\"white\",\"plot_bgcolor\":\"#E5ECF6\",\"polar\":{\"bgcolor\":\"#E5ECF6\",\"angularaxis\":{\"gridcolor\":\"white\",\"linecolor\":\"white\",\"ticks\":\"\"},\"radialaxis\":{\"gridcolor\":\"white\",\"linecolor\":\"white\",\"ticks\":\"\"}},\"ternary\":{\"bgcolor\":\"#E5ECF6\",\"aaxis\":{\"gridcolor\":\"white\",\"linecolor\":\"white\",\"ticks\":\"\"},\"baxis\":{\"gridcolor\":\"white\",\"linecolor\":\"white\",\"ticks\":\"\"},\"caxis\":{\"gridcolor\":\"white\",\"linecolor\":\"white\",\"ticks\":\"\"}},\"coloraxis\":{\"colorbar\":{\"outlinewidth\":0,\"ticks\":\"\"}},\"colorscale\":{\"sequential\":[[0.0,\"#0d0887\"],[0.1111111111111111,\"#46039f\"],[0.2222222222222222,\"#7201a8\"],[0.3333333333333333,\"#9c179e\"],[0.4444444444444444,\"#bd3786\"],[0.5555555555555556,\"#d8576b\"],[0.6666666666666666,\"#ed7953\"],[0.7777777777777778,\"#fb9f3a\"],[0.8888888888888888,\"#fdca26\"],[1.0,\"#f0f921\"]],\"sequentialminus\":[[0.0,\"#0d0887\"],[0.1111111111111111,\"#46039f\"],[0.2222222222222222,\"#7201a8\"],[0.3333333333333333,\"#9c179e\"],[0.4444444444444444,\"#bd3786\"],[0.5555555555555556,\"#d8576b\"],[0.6666666666666666,\"#ed7953\"],[0.7777777777777778,\"#fb9f3a\"],[0.8888888888888888,\"#fdca26\"],[1.0,\"#f0f921\"]],\"diverging\":[[0,\"#8e0152\"],[0.1,\"#c51b7d\"],[0.2,\"#de77ae\"],[0.3,\"#f1b6da\"],[0.4,\"#fde0ef\"],[0.5,\"#f7f7f7\"],[0.6,\"#e6f5d0\"],[0.7,\"#b8e186\"],[0.8,\"#7fbc41\"],[0.9,\"#4d9221\"],[1,\"#276419\"]]},\"xaxis\":{\"gridcolor\":\"white\",\"linecolor\":\"white\",\"ticks\":\"\",\"title\":{\"standoff\":15},\"zerolinecolor\":\"white\",\"automargin\":true,\"zerolinewidth\":2},\"yaxis\":{\"gridcolor\":\"white\",\"linecolor\":\"white\",\"ticks\":\"\",\"title\":{\"standoff\":15},\"zerolinecolor\":\"white\",\"automargin\":true,\"zerolinewidth\":2},\"scene\":{\"xaxis\":{\"backgroundcolor\":\"#E5ECF6\",\"gridcolor\":\"white\",\"linecolor\":\"white\",\"showbackground\":true,\"ticks\":\"\",\"zerolinecolor\":\"white\",\"gridwidth\":2},\"yaxis\":{\"backgroundcolor\":\"#E5ECF6\",\"gridcolor\":\"white\",\"linecolor\":\"white\",\"showbackground\":true,\"ticks\":\"\",\"zerolinecolor\":\"white\",\"gridwidth\":2},\"zaxis\":{\"backgroundcolor\":\"#E5ECF6\",\"gridcolor\":\"white\",\"linecolor\":\"white\",\"showbackground\":true,\"ticks\":\"\",\"zerolinecolor\":\"white\",\"gridwidth\":2}},\"shapedefaults\":{\"line\":{\"color\":\"#2a3f5f\"}},\"annotationdefaults\":{\"arrowcolor\":\"#2a3f5f\",\"arrowhead\":0,\"arrowwidth\":1},\"geo\":{\"bgcolor\":\"white\",\"landcolor\":\"#E5ECF6\",\"subunitcolor\":\"white\",\"showland\":true,\"showlakes\":true,\"lakecolor\":\"white\"},\"title\":{\"x\":0.05},\"mapbox\":{\"style\":\"light\"}}},\"xaxis\":{\"anchor\":\"y\",\"domain\":[0.0,1.0],\"title\":{\"text\":\"ncd_ggplot2\"}},\"yaxis\":{\"anchor\":\"x\",\"domain\":[0.0,1.0],\"title\":{\"text\":\"ncd_plotly_express\"}},\"legend\":{\"tracegroupgap\":0},\"margin\":{\"t\":60},\"height\":600,\"width\":600,\"shapes\":[{\"line\":{\"color\":\"white\",\"width\":1},\"type\":\"line\",\"x0\":46.2,\"x1\":319.8,\"y0\":46.2,\"y1\":319.8}]},                        {\"responsive\": true}                    ).then(function(){\n",
       "                            \n",
       "var gd = document.getElementById('c319839f-f62a-43e4-ba9d-792cd0e98bf5');\n",
       "var x = new MutationObserver(function (mutations, observer) {{\n",
       "        var display = window.getComputedStyle(gd).display;\n",
       "        if (!display || display === 'none') {{\n",
       "            console.log([gd, 'removed!']);\n",
       "            Plotly.purge(gd);\n",
       "            observer.disconnect();\n",
       "        }}\n",
       "}});\n",
       "\n",
       "// Listen for the removal of the full notebook cells\n",
       "var notebookContainer = gd.closest('#notebook-container');\n",
       "if (notebookContainer) {{\n",
       "    x.observe(notebookContainer, {childList: true});\n",
       "}}\n",
       "\n",
       "// Listen for the clearing of the current output cell\n",
       "var outputEl = gd.closest('.output');\n",
       "if (outputEl) {{\n",
       "    x.observe(outputEl, {childList: true});\n",
       "}}\n",
       "\n",
       "                        })                };                });            </script>        </div>"
      ]
     },
     "metadata": {},
     "output_type": "display_data"
    }
   ],
   "source": [
    "from src.distances import load_distances\n",
    "import plotly.express as px\n",
    "\n",
    "\n",
    "df = load_distances()\n",
    "\n",
    "notation1 = \"ggplot2\"\n",
    "notation2 = \"plotly_express\"\n",
    "distance1 = \"ncd\"\n",
    "distance2 = \"ncd\"\n",
    "\n",
    "merged = pd.merge(df.query(f\"study=='basic' and notation=='{notation1}'\")[[\"from_slug\", \"to_slug\", distance1]], \n",
    "                  df.query(f\"study=='basic' and notation=='{notation2}'\")[[\"from_slug\", \"to_slug\", distance2]], \n",
    "                  on=[\"from_slug\", \"to_slug\"], suffixes=[\"_\" + notation1, \"_\"+ notation2])\n",
    "\n",
    "x= distance1+\"_\"+notation1\n",
    "y= distance2+\"_\"+notation2\n",
    "fig = px.scatter(merged, x=x, y=y,\n",
    "                 hover_data=merged.columns, width=600, height=600)\n",
    "\n",
    "if distance1 == distance2:\n",
    "    the_min = min(merged[x].min(), merged[y].min())\n",
    "    the_max = max(merged[x].max(), merged[y].max())\n",
    "    stretch = 0.1*(the_max-the_min)\n",
    "    fig.add_shape(type=\"line\", line=dict(color=\"white\", width=1),\n",
    "                  x0=the_min-stretch, y0=the_min-stretch,\n",
    "                  x1=the_max+stretch, y1=the_max+stretch)\n"
   ]
  },
  {
   "cell_type": "code",
   "execution_count": 21,
   "id": "b7d6fef9-84c0-4063-ae9f-9ca2313ea45c",
   "metadata": {},
   "outputs": [
    {
     "data": {
      "application/vnd.plotly.v1+json": {
       "config": {
        "plotlyServerURL": "https://plotly.com"
       },
       "data": [
        {
         "customdata": [
          [
           "box",
           "box_day",
           175,
           128.2051282051282
          ],
          [
           "box",
           "box_day_time",
           276.59574468085106,
           186.04651162790697
          ],
          [
           "box",
           "box_time_day",
           276.59574468085106,
           186.04651162790697
          ],
          [
           "box",
           "strip_day",
           214.28571428571428,
           179.48717948717947
          ],
          [
           "box",
           "strip",
           108.10810810810811,
           111.11111111111111
          ],
          [
           "box",
           "strip_time",
           214.28571428571428,
           179.48717948717947
          ],
          [
           "box",
           "box_time",
           170.73170731707316,
           128.2051282051282
          ],
          [
           "box_day",
           "box",
           175,
           128.2051282051282
          ],
          [
           "box_day",
           "box_day_time",
           212.7659574468085,
           116.27906976744185
          ],
          [
           "box_day",
           "box_time_day",
           170.2127659574468,
           139.53488372093022
          ],
          [
           "box_day",
           "strip_day",
           119.04761904761905,
           76.92307692307692
          ],
          [
           "box_day",
           "strip",
           175,
           179.48717948717947
          ],
          [
           "box_day",
           "strip_time",
           166.66666666666666,
           128.2051282051282
          ],
          [
           "box_day",
           "box_time",
           97.5609756097561,
           76.92307692307692
          ],
          [
           "box_day_time",
           "box",
           276.59574468085106,
           186.04651162790697
          ],
          [
           "box_day_time",
           "box_day",
           212.7659574468085,
           116.27906976744185
          ],
          [
           "box_day_time",
           "box_time_day",
           85.1063829787234,
           69.76744186046511
          ],
          [
           "box_day_time",
           "strip_day",
           234.04255319148936,
           162.7906976744186
          ],
          [
           "box_day_time",
           "strip",
           297.8723404255319,
           232.5581395348837
          ],
          [
           "box_day_time",
           "strip_time",
           191.48936170212767,
           162.7906976744186
          ],
          [
           "box_day_time",
           "box_time",
           148.93617021276594,
           116.27906976744185
          ],
          [
           "box_time_day",
           "box",
           276.59574468085106,
           209.30232558139534
          ],
          [
           "box_time_day",
           "box_day",
           170.2127659574468,
           139.53488372093022
          ],
          [
           "box_time_day",
           "box_day_time",
           85.1063829787234,
           69.76744186046511
          ],
          [
           "box_time_day",
           "strip_day",
           191.48936170212767,
           162.7906976744186
          ],
          [
           "box_time_day",
           "strip",
           297.8723404255319,
           232.5581395348837
          ],
          [
           "box_time_day",
           "strip_time",
           234.04255319148936,
           162.7906976744186
          ],
          [
           "box_time_day",
           "box_time",
           191.48936170212767,
           139.53488372093022
          ],
          [
           "strip_day",
           "box",
           214.28571428571428,
           179.48717948717947
          ],
          [
           "strip_day",
           "box_day",
           119.04761904761905,
           76.92307692307692
          ],
          [
           "strip_day",
           "box_day_time",
           212.7659574468085,
           162.7906976744186
          ],
          [
           "strip_day",
           "box_time_day",
           212.7659574468085,
           162.7906976744186
          ],
          [
           "strip_day",
           "strip",
           142.85714285714286,
           153.84615384615384
          ],
          [
           "strip_day",
           "strip_time",
           71.42857142857143,
           76.92307692307692
          ],
          [
           "strip_day",
           "box_time",
           142.85714285714286,
           128.2051282051282
          ],
          [
           "strip",
           "box",
           108.10810810810811,
           111.11111111111111
          ],
          [
           "strip",
           "box_day",
           200,
           179.48717948717947
          ],
          [
           "strip",
           "box_day_time",
           297.8723404255319,
           232.5581395348837
          ],
          [
           "strip",
           "box_time_day",
           297.8723404255319,
           232.5581395348837
          ],
          [
           "strip",
           "strip_day",
           142.85714285714286,
           128.2051282051282
          ],
          [
           "strip",
           "strip_time",
           142.85714285714286,
           128.2051282051282
          ],
          [
           "strip",
           "box_time",
           195.1219512195122,
           179.48717948717947
          ],
          [
           "strip_time",
           "box",
           214.28571428571428,
           179.48717948717947
          ],
          [
           "strip_time",
           "box_day",
           166.66666666666666,
           128.2051282051282
          ],
          [
           "strip_time",
           "box_day_time",
           191.48936170212767,
           162.7906976744186
          ],
          [
           "strip_time",
           "box_time_day",
           212.7659574468085,
           162.7906976744186
          ],
          [
           "strip_time",
           "strip_day",
           71.42857142857143,
           76.92307692307692
          ],
          [
           "strip_time",
           "strip",
           142.85714285714286,
           128.2051282051282
          ],
          [
           "strip_time",
           "box_time",
           95.23809523809524,
           76.92307692307692
          ],
          [
           "box_time",
           "box",
           170.73170731707316,
           128.2051282051282
          ],
          [
           "box_time",
           "box_day",
           97.5609756097561,
           76.92307692307692
          ],
          [
           "box_time",
           "box_day_time",
           148.93617021276594,
           116.27906976744185
          ],
          [
           "box_time",
           "box_time_day",
           191.48936170212767,
           116.27906976744185
          ],
          [
           "box_time",
           "strip_day",
           142.85714285714286,
           128.2051282051282
          ],
          [
           "box_time",
           "strip",
           195.1219512195122,
           179.48717948717947
          ],
          [
           "box_time",
           "strip_time",
           95.23809523809524,
           76.92307692307692
          ]
         ],
         "hovertemplate": "ncd_diff=%{x}<br>ncd_mean=%{y}<br>from_slug=%{customdata[0]}<br>to_slug=%{customdata[1]}<br>ncd_gg=%{customdata[2]}<br>ncd_px=%{customdata[3]}<extra></extra>",
         "legendgroup": "",
         "marker": {
          "color": "#636efa",
          "symbol": "circle"
         },
         "mode": "markers",
         "name": "",
         "orientation": "v",
         "showlegend": false,
         "type": "scatter",
         "x": [
          46.794871794871796,
          90.54923305294409,
          90.54923305294409,
          34.7985347985348,
          -3.003003003003002,
          34.7985347985348,
          42.526579111944955,
          46.794871794871796,
          96.48688767936665,
          30.67788223651658,
          42.12454212454213,
          -4.487179487179475,
          38.46153846153845,
          20.63789868667918,
          90.54923305294409,
          96.48688767936665,
          15.33894111825829,
          71.25185551707077,
          65.31420089064818,
          28.69866402770907,
          32.65710044532409,
          67.29341909945572,
          30.67788223651658,
          15.33894111825829,
          28.69866402770907,
          65.31420089064818,
          71.25185551707077,
          51.95447798119744,
          34.7985347985348,
          42.12454212454213,
          49.975259772389904,
          49.975259772389904,
          -10.989010989010978,
          -5.494505494505489,
          14.652014652014657,
          -3.003003003003002,
          20.512820512820525,
          65.31420089064818,
          65.31420089064818,
          14.652014652014657,
          14.652014652014657,
          15.634771732332723,
          34.7985347985348,
          38.46153846153845,
          28.69866402770907,
          49.975259772389904,
          -5.494505494505489,
          14.652014652014657,
          18.31501831501832,
          42.526579111944955,
          20.63789868667918,
          32.65710044532409,
          75.21029193468581,
          14.652014652014657,
          15.634771732332723,
          18.31501831501832
         ],
         "xaxis": "x",
         "y": [
          151.6025641025641,
          231.321128154379,
          231.321128154379,
          196.8864468864469,
          109.6096096096096,
          196.8864468864469,
          149.46841776110068,
          151.6025641025641,
          164.52251360712518,
          154.8738248391885,
          97.98534798534799,
          177.24358974358972,
          147.43589743589743,
          87.2420262664165,
          231.321128154379,
          164.52251360712518,
          77.43691241959425,
          198.416625432954,
          265.2152399802078,
          177.14002968827313,
          132.6076199901039,
          242.9490351311232,
          154.8738248391885,
          77.43691241959425,
          177.14002968827313,
          265.2152399802078,
          198.416625432954,
          165.51212271152895,
          196.8864468864469,
          97.98534798534799,
          187.77832756061355,
          187.77832756061355,
          148.35164835164835,
          74.17582417582418,
          135.53113553113553,
          109.6096096096096,
          189.74358974358972,
          265.2152399802078,
          265.2152399802078,
          135.53113553113553,
          135.53113553113553,
          187.30456535334582,
          196.8864468864469,
          147.43589743589743,
          177.14002968827313,
          187.77832756061355,
          74.17582417582418,
          135.53113553113553,
          86.08058608058607,
          149.46841776110068,
          87.2420262664165,
          132.6076199901039,
          153.88421573478476,
          135.53113553113553,
          187.30456535334582,
          86.08058608058607
         ],
         "yaxis": "y"
        }
       ],
       "layout": {
        "annotations": [
         {
          "showarrow": false,
          "text": "< more PX ... more ggplot >",
          "x": 0,
          "xanchor": "center",
          "xref": "x",
          "y": 1,
          "yanchor": "bottom",
          "yref": "y domain"
         }
        ],
        "autosize": true,
        "legend": {
         "tracegroupgap": 0
        },
        "margin": {
         "t": 60
        },
        "shapes": [
         {
          "type": "line",
          "x0": 0,
          "x1": 0,
          "xref": "x",
          "y0": 0,
          "y1": 1,
          "yref": "y domain"
         },
         {
          "type": "line",
          "x0": 37.60171541213955,
          "x1": 37.60171541213955,
          "xref": "x",
          "y0": 0,
          "y1": 1,
          "yref": "y domain"
         }
        ],
        "template": {
         "data": {
          "bar": [
           {
            "error_x": {
             "color": "#2a3f5f"
            },
            "error_y": {
             "color": "#2a3f5f"
            },
            "marker": {
             "line": {
              "color": "#E5ECF6",
              "width": 0.5
             },
             "pattern": {
              "fillmode": "overlay",
              "size": 10,
              "solidity": 0.2
             }
            },
            "type": "bar"
           }
          ],
          "barpolar": [
           {
            "marker": {
             "line": {
              "color": "#E5ECF6",
              "width": 0.5
             },
             "pattern": {
              "fillmode": "overlay",
              "size": 10,
              "solidity": 0.2
             }
            },
            "type": "barpolar"
           }
          ],
          "carpet": [
           {
            "aaxis": {
             "endlinecolor": "#2a3f5f",
             "gridcolor": "white",
             "linecolor": "white",
             "minorgridcolor": "white",
             "startlinecolor": "#2a3f5f"
            },
            "baxis": {
             "endlinecolor": "#2a3f5f",
             "gridcolor": "white",
             "linecolor": "white",
             "minorgridcolor": "white",
             "startlinecolor": "#2a3f5f"
            },
            "type": "carpet"
           }
          ],
          "choropleth": [
           {
            "colorbar": {
             "outlinewidth": 0,
             "ticks": ""
            },
            "type": "choropleth"
           }
          ],
          "contour": [
           {
            "colorbar": {
             "outlinewidth": 0,
             "ticks": ""
            },
            "colorscale": [
             [
              0,
              "#0d0887"
             ],
             [
              0.1111111111111111,
              "#46039f"
             ],
             [
              0.2222222222222222,
              "#7201a8"
             ],
             [
              0.3333333333333333,
              "#9c179e"
             ],
             [
              0.4444444444444444,
              "#bd3786"
             ],
             [
              0.5555555555555556,
              "#d8576b"
             ],
             [
              0.6666666666666666,
              "#ed7953"
             ],
             [
              0.7777777777777778,
              "#fb9f3a"
             ],
             [
              0.8888888888888888,
              "#fdca26"
             ],
             [
              1,
              "#f0f921"
             ]
            ],
            "type": "contour"
           }
          ],
          "contourcarpet": [
           {
            "colorbar": {
             "outlinewidth": 0,
             "ticks": ""
            },
            "type": "contourcarpet"
           }
          ],
          "heatmap": [
           {
            "colorbar": {
             "outlinewidth": 0,
             "ticks": ""
            },
            "colorscale": [
             [
              0,
              "#0d0887"
             ],
             [
              0.1111111111111111,
              "#46039f"
             ],
             [
              0.2222222222222222,
              "#7201a8"
             ],
             [
              0.3333333333333333,
              "#9c179e"
             ],
             [
              0.4444444444444444,
              "#bd3786"
             ],
             [
              0.5555555555555556,
              "#d8576b"
             ],
             [
              0.6666666666666666,
              "#ed7953"
             ],
             [
              0.7777777777777778,
              "#fb9f3a"
             ],
             [
              0.8888888888888888,
              "#fdca26"
             ],
             [
              1,
              "#f0f921"
             ]
            ],
            "type": "heatmap"
           }
          ],
          "heatmapgl": [
           {
            "colorbar": {
             "outlinewidth": 0,
             "ticks": ""
            },
            "colorscale": [
             [
              0,
              "#0d0887"
             ],
             [
              0.1111111111111111,
              "#46039f"
             ],
             [
              0.2222222222222222,
              "#7201a8"
             ],
             [
              0.3333333333333333,
              "#9c179e"
             ],
             [
              0.4444444444444444,
              "#bd3786"
             ],
             [
              0.5555555555555556,
              "#d8576b"
             ],
             [
              0.6666666666666666,
              "#ed7953"
             ],
             [
              0.7777777777777778,
              "#fb9f3a"
             ],
             [
              0.8888888888888888,
              "#fdca26"
             ],
             [
              1,
              "#f0f921"
             ]
            ],
            "type": "heatmapgl"
           }
          ],
          "histogram": [
           {
            "marker": {
             "pattern": {
              "fillmode": "overlay",
              "size": 10,
              "solidity": 0.2
             }
            },
            "type": "histogram"
           }
          ],
          "histogram2d": [
           {
            "colorbar": {
             "outlinewidth": 0,
             "ticks": ""
            },
            "colorscale": [
             [
              0,
              "#0d0887"
             ],
             [
              0.1111111111111111,
              "#46039f"
             ],
             [
              0.2222222222222222,
              "#7201a8"
             ],
             [
              0.3333333333333333,
              "#9c179e"
             ],
             [
              0.4444444444444444,
              "#bd3786"
             ],
             [
              0.5555555555555556,
              "#d8576b"
             ],
             [
              0.6666666666666666,
              "#ed7953"
             ],
             [
              0.7777777777777778,
              "#fb9f3a"
             ],
             [
              0.8888888888888888,
              "#fdca26"
             ],
             [
              1,
              "#f0f921"
             ]
            ],
            "type": "histogram2d"
           }
          ],
          "histogram2dcontour": [
           {
            "colorbar": {
             "outlinewidth": 0,
             "ticks": ""
            },
            "colorscale": [
             [
              0,
              "#0d0887"
             ],
             [
              0.1111111111111111,
              "#46039f"
             ],
             [
              0.2222222222222222,
              "#7201a8"
             ],
             [
              0.3333333333333333,
              "#9c179e"
             ],
             [
              0.4444444444444444,
              "#bd3786"
             ],
             [
              0.5555555555555556,
              "#d8576b"
             ],
             [
              0.6666666666666666,
              "#ed7953"
             ],
             [
              0.7777777777777778,
              "#fb9f3a"
             ],
             [
              0.8888888888888888,
              "#fdca26"
             ],
             [
              1,
              "#f0f921"
             ]
            ],
            "type": "histogram2dcontour"
           }
          ],
          "mesh3d": [
           {
            "colorbar": {
             "outlinewidth": 0,
             "ticks": ""
            },
            "type": "mesh3d"
           }
          ],
          "parcoords": [
           {
            "line": {
             "colorbar": {
              "outlinewidth": 0,
              "ticks": ""
             }
            },
            "type": "parcoords"
           }
          ],
          "pie": [
           {
            "automargin": true,
            "type": "pie"
           }
          ],
          "scatter": [
           {
            "fillpattern": {
             "fillmode": "overlay",
             "size": 10,
             "solidity": 0.2
            },
            "type": "scatter"
           }
          ],
          "scatter3d": [
           {
            "line": {
             "colorbar": {
              "outlinewidth": 0,
              "ticks": ""
             }
            },
            "marker": {
             "colorbar": {
              "outlinewidth": 0,
              "ticks": ""
             }
            },
            "type": "scatter3d"
           }
          ],
          "scattercarpet": [
           {
            "marker": {
             "colorbar": {
              "outlinewidth": 0,
              "ticks": ""
             }
            },
            "type": "scattercarpet"
           }
          ],
          "scattergeo": [
           {
            "marker": {
             "colorbar": {
              "outlinewidth": 0,
              "ticks": ""
             }
            },
            "type": "scattergeo"
           }
          ],
          "scattergl": [
           {
            "marker": {
             "colorbar": {
              "outlinewidth": 0,
              "ticks": ""
             }
            },
            "type": "scattergl"
           }
          ],
          "scattermapbox": [
           {
            "marker": {
             "colorbar": {
              "outlinewidth": 0,
              "ticks": ""
             }
            },
            "type": "scattermapbox"
           }
          ],
          "scatterpolar": [
           {
            "marker": {
             "colorbar": {
              "outlinewidth": 0,
              "ticks": ""
             }
            },
            "type": "scatterpolar"
           }
          ],
          "scatterpolargl": [
           {
            "marker": {
             "colorbar": {
              "outlinewidth": 0,
              "ticks": ""
             }
            },
            "type": "scatterpolargl"
           }
          ],
          "scatterternary": [
           {
            "marker": {
             "colorbar": {
              "outlinewidth": 0,
              "ticks": ""
             }
            },
            "type": "scatterternary"
           }
          ],
          "surface": [
           {
            "colorbar": {
             "outlinewidth": 0,
             "ticks": ""
            },
            "colorscale": [
             [
              0,
              "#0d0887"
             ],
             [
              0.1111111111111111,
              "#46039f"
             ],
             [
              0.2222222222222222,
              "#7201a8"
             ],
             [
              0.3333333333333333,
              "#9c179e"
             ],
             [
              0.4444444444444444,
              "#bd3786"
             ],
             [
              0.5555555555555556,
              "#d8576b"
             ],
             [
              0.6666666666666666,
              "#ed7953"
             ],
             [
              0.7777777777777778,
              "#fb9f3a"
             ],
             [
              0.8888888888888888,
              "#fdca26"
             ],
             [
              1,
              "#f0f921"
             ]
            ],
            "type": "surface"
           }
          ],
          "table": [
           {
            "cells": {
             "fill": {
              "color": "#EBF0F8"
             },
             "line": {
              "color": "white"
             }
            },
            "header": {
             "fill": {
              "color": "#C8D4E3"
             },
             "line": {
              "color": "white"
             }
            },
            "type": "table"
           }
          ]
         },
         "layout": {
          "annotationdefaults": {
           "arrowcolor": "#2a3f5f",
           "arrowhead": 0,
           "arrowwidth": 1
          },
          "autotypenumbers": "strict",
          "coloraxis": {
           "colorbar": {
            "outlinewidth": 0,
            "ticks": ""
           }
          },
          "colorscale": {
           "diverging": [
            [
             0,
             "#8e0152"
            ],
            [
             0.1,
             "#c51b7d"
            ],
            [
             0.2,
             "#de77ae"
            ],
            [
             0.3,
             "#f1b6da"
            ],
            [
             0.4,
             "#fde0ef"
            ],
            [
             0.5,
             "#f7f7f7"
            ],
            [
             0.6,
             "#e6f5d0"
            ],
            [
             0.7,
             "#b8e186"
            ],
            [
             0.8,
             "#7fbc41"
            ],
            [
             0.9,
             "#4d9221"
            ],
            [
             1,
             "#276419"
            ]
           ],
           "sequential": [
            [
             0,
             "#0d0887"
            ],
            [
             0.1111111111111111,
             "#46039f"
            ],
            [
             0.2222222222222222,
             "#7201a8"
            ],
            [
             0.3333333333333333,
             "#9c179e"
            ],
            [
             0.4444444444444444,
             "#bd3786"
            ],
            [
             0.5555555555555556,
             "#d8576b"
            ],
            [
             0.6666666666666666,
             "#ed7953"
            ],
            [
             0.7777777777777778,
             "#fb9f3a"
            ],
            [
             0.8888888888888888,
             "#fdca26"
            ],
            [
             1,
             "#f0f921"
            ]
           ],
           "sequentialminus": [
            [
             0,
             "#0d0887"
            ],
            [
             0.1111111111111111,
             "#46039f"
            ],
            [
             0.2222222222222222,
             "#7201a8"
            ],
            [
             0.3333333333333333,
             "#9c179e"
            ],
            [
             0.4444444444444444,
             "#bd3786"
            ],
            [
             0.5555555555555556,
             "#d8576b"
            ],
            [
             0.6666666666666666,
             "#ed7953"
            ],
            [
             0.7777777777777778,
             "#fb9f3a"
            ],
            [
             0.8888888888888888,
             "#fdca26"
            ],
            [
             1,
             "#f0f921"
            ]
           ]
          },
          "colorway": [
           "#636efa",
           "#EF553B",
           "#00cc96",
           "#ab63fa",
           "#FFA15A",
           "#19d3f3",
           "#FF6692",
           "#B6E880",
           "#FF97FF",
           "#FECB52"
          ],
          "font": {
           "color": "#2a3f5f"
          },
          "geo": {
           "bgcolor": "white",
           "lakecolor": "white",
           "landcolor": "#E5ECF6",
           "showlakes": true,
           "showland": true,
           "subunitcolor": "white"
          },
          "hoverlabel": {
           "align": "left"
          },
          "hovermode": "closest",
          "mapbox": {
           "style": "light"
          },
          "paper_bgcolor": "white",
          "plot_bgcolor": "#E5ECF6",
          "polar": {
           "angularaxis": {
            "gridcolor": "white",
            "linecolor": "white",
            "ticks": ""
           },
           "bgcolor": "#E5ECF6",
           "radialaxis": {
            "gridcolor": "white",
            "linecolor": "white",
            "ticks": ""
           }
          },
          "scene": {
           "xaxis": {
            "backgroundcolor": "#E5ECF6",
            "gridcolor": "white",
            "gridwidth": 2,
            "linecolor": "white",
            "showbackground": true,
            "ticks": "",
            "zerolinecolor": "white"
           },
           "yaxis": {
            "backgroundcolor": "#E5ECF6",
            "gridcolor": "white",
            "gridwidth": 2,
            "linecolor": "white",
            "showbackground": true,
            "ticks": "",
            "zerolinecolor": "white"
           },
           "zaxis": {
            "backgroundcolor": "#E5ECF6",
            "gridcolor": "white",
            "gridwidth": 2,
            "linecolor": "white",
            "showbackground": true,
            "ticks": "",
            "zerolinecolor": "white"
           }
          },
          "shapedefaults": {
           "line": {
            "color": "#2a3f5f"
           }
          },
          "ternary": {
           "aaxis": {
            "gridcolor": "white",
            "linecolor": "white",
            "ticks": ""
           },
           "baxis": {
            "gridcolor": "white",
            "linecolor": "white",
            "ticks": ""
           },
           "bgcolor": "#E5ECF6",
           "caxis": {
            "gridcolor": "white",
            "linecolor": "white",
            "ticks": ""
           }
          },
          "title": {
           "x": 0.05
          },
          "xaxis": {
           "automargin": true,
           "gridcolor": "white",
           "linecolor": "white",
           "ticks": "",
           "title": {
            "standoff": 15
           },
           "zerolinecolor": "white",
           "zerolinewidth": 2
          },
          "yaxis": {
           "automargin": true,
           "gridcolor": "white",
           "linecolor": "white",
           "ticks": "",
           "title": {
            "standoff": 15
           },
           "zerolinecolor": "white",
           "zerolinewidth": 2
          }
         }
        },
        "xaxis": {
         "anchor": "y",
         "autorange": true,
         "domain": [
          0,
          1
         ],
         "range": [
          -17.341274119300035,
          102.8391508096557
         ],
         "title": {
          "text": "ncd_diff"
         },
         "type": "linear"
        },
        "yaxis": {
         "anchor": "x",
         "autorange": true,
         "domain": [
          0,
          1
         ],
         "range": [
          59.38405838519604,
          280.0070057708359
         ],
         "title": {
          "text": "ncd_mean"
         },
         "type": "linear"
        }
       }
      },
      "image/png": "[encoded data removed]",
      "text/html": [
       "<div>                            <div id=\"c7c9b07f-6d31-42e8-8281-c70e602d5432\" class=\"plotly-graph-div\" style=\"height:525px; width:100%;\"></div>            <script type=\"text/javascript\">                require([\"plotly\"], function(Plotly) {                    window.PLOTLYENV=window.PLOTLYENV || {};                                    if (document.getElementById(\"c7c9b07f-6d31-42e8-8281-c70e602d5432\")) {                    Plotly.newPlot(                        \"c7c9b07f-6d31-42e8-8281-c70e602d5432\",                        [{\"customdata\":[[\"box\",\"box_day\",175.0,128.2051282051282],[\"box\",\"box_day_time\",276.59574468085106,186.04651162790697],[\"box\",\"box_time_day\",276.59574468085106,186.04651162790697],[\"box\",\"strip_day\",214.28571428571428,179.48717948717947],[\"box\",\"strip\",108.10810810810811,111.11111111111111],[\"box\",\"strip_time\",214.28571428571428,179.48717948717947],[\"box\",\"box_time\",170.73170731707316,128.2051282051282],[\"box_day\",\"box\",175.0,128.2051282051282],[\"box_day\",\"box_day_time\",212.7659574468085,116.27906976744185],[\"box_day\",\"box_time_day\",170.2127659574468,139.53488372093022],[\"box_day\",\"strip_day\",119.04761904761905,76.92307692307692],[\"box_day\",\"strip\",175.0,179.48717948717947],[\"box_day\",\"strip_time\",166.66666666666666,128.2051282051282],[\"box_day\",\"box_time\",97.5609756097561,76.92307692307692],[\"box_day_time\",\"box\",276.59574468085106,186.04651162790697],[\"box_day_time\",\"box_day\",212.7659574468085,116.27906976744185],[\"box_day_time\",\"box_time_day\",85.1063829787234,69.76744186046511],[\"box_day_time\",\"strip_day\",234.04255319148936,162.7906976744186],[\"box_day_time\",\"strip\",297.8723404255319,232.5581395348837],[\"box_day_time\",\"strip_time\",191.48936170212767,162.7906976744186],[\"box_day_time\",\"box_time\",148.93617021276594,116.27906976744185],[\"box_time_day\",\"box\",276.59574468085106,209.30232558139534],[\"box_time_day\",\"box_day\",170.2127659574468,139.53488372093022],[\"box_time_day\",\"box_day_time\",85.1063829787234,69.76744186046511],[\"box_time_day\",\"strip_day\",191.48936170212767,162.7906976744186],[\"box_time_day\",\"strip\",297.8723404255319,232.5581395348837],[\"box_time_day\",\"strip_time\",234.04255319148936,162.7906976744186],[\"box_time_day\",\"box_time\",191.48936170212767,139.53488372093022],[\"strip_day\",\"box\",214.28571428571428,179.48717948717947],[\"strip_day\",\"box_day\",119.04761904761905,76.92307692307692],[\"strip_day\",\"box_day_time\",212.7659574468085,162.7906976744186],[\"strip_day\",\"box_time_day\",212.7659574468085,162.7906976744186],[\"strip_day\",\"strip\",142.85714285714286,153.84615384615384],[\"strip_day\",\"strip_time\",71.42857142857143,76.92307692307692],[\"strip_day\",\"box_time\",142.85714285714286,128.2051282051282],[\"strip\",\"box\",108.10810810810811,111.11111111111111],[\"strip\",\"box_day\",200.0,179.48717948717947],[\"strip\",\"box_day_time\",297.8723404255319,232.5581395348837],[\"strip\",\"box_time_day\",297.8723404255319,232.5581395348837],[\"strip\",\"strip_day\",142.85714285714286,128.2051282051282],[\"strip\",\"strip_time\",142.85714285714286,128.2051282051282],[\"strip\",\"box_time\",195.1219512195122,179.48717948717947],[\"strip_time\",\"box\",214.28571428571428,179.48717948717947],[\"strip_time\",\"box_day\",166.66666666666666,128.2051282051282],[\"strip_time\",\"box_day_time\",191.48936170212767,162.7906976744186],[\"strip_time\",\"box_time_day\",212.7659574468085,162.7906976744186],[\"strip_time\",\"strip_day\",71.42857142857143,76.92307692307692],[\"strip_time\",\"strip\",142.85714285714286,128.2051282051282],[\"strip_time\",\"box_time\",95.23809523809524,76.92307692307692],[\"box_time\",\"box\",170.73170731707316,128.2051282051282],[\"box_time\",\"box_day\",97.5609756097561,76.92307692307692],[\"box_time\",\"box_day_time\",148.93617021276594,116.27906976744185],[\"box_time\",\"box_time_day\",191.48936170212767,116.27906976744185],[\"box_time\",\"strip_day\",142.85714285714286,128.2051282051282],[\"box_time\",\"strip\",195.1219512195122,179.48717948717947],[\"box_time\",\"strip_time\",95.23809523809524,76.92307692307692]],\"hovertemplate\":\"ncd_diff=%{x}<br>ncd_mean=%{y}<br>from_slug=%{customdata[0]}<br>to_slug=%{customdata[1]}<br>ncd_gg=%{customdata[2]}<br>ncd_px=%{customdata[3]}<extra></extra>\",\"legendgroup\":\"\",\"marker\":{\"color\":\"#636efa\",\"symbol\":\"circle\"},\"mode\":\"markers\",\"name\":\"\",\"orientation\":\"v\",\"showlegend\":false,\"x\":[46.794871794871796,90.54923305294409,90.54923305294409,34.7985347985348,-3.003003003003002,34.7985347985348,42.526579111944955,46.794871794871796,96.48688767936665,30.67788223651658,42.12454212454213,-4.487179487179475,38.46153846153845,20.63789868667918,90.54923305294409,96.48688767936665,15.33894111825829,71.25185551707077,65.31420089064818,28.69866402770907,32.65710044532409,67.29341909945572,30.67788223651658,15.33894111825829,28.69866402770907,65.31420089064818,71.25185551707077,51.95447798119744,34.7985347985348,42.12454212454213,49.975259772389904,49.975259772389904,-10.989010989010978,-5.494505494505489,14.652014652014657,-3.003003003003002,20.512820512820525,65.31420089064818,65.31420089064818,14.652014652014657,14.652014652014657,15.634771732332723,34.7985347985348,38.46153846153845,28.69866402770907,49.975259772389904,-5.494505494505489,14.652014652014657,18.31501831501832,42.526579111944955,20.63789868667918,32.65710044532409,75.21029193468581,14.652014652014657,15.634771732332723,18.31501831501832],\"xaxis\":\"x\",\"y\":[151.6025641025641,231.321128154379,231.321128154379,196.8864468864469,109.6096096096096,196.8864468864469,149.46841776110068,151.6025641025641,164.52251360712518,154.8738248391885,97.98534798534799,177.24358974358972,147.43589743589743,87.2420262664165,231.321128154379,164.52251360712518,77.43691241959425,198.416625432954,265.2152399802078,177.14002968827313,132.6076199901039,242.9490351311232,154.8738248391885,77.43691241959425,177.14002968827313,265.2152399802078,198.416625432954,165.51212271152895,196.8864468864469,97.98534798534799,187.77832756061355,187.77832756061355,148.35164835164835,74.17582417582418,135.53113553113553,109.6096096096096,189.74358974358972,265.2152399802078,265.2152399802078,135.53113553113553,135.53113553113553,187.30456535334582,196.8864468864469,147.43589743589743,177.14002968827313,187.77832756061355,74.17582417582418,135.53113553113553,86.08058608058607,149.46841776110068,87.2420262664165,132.6076199901039,153.88421573478476,135.53113553113553,187.30456535334582,86.08058608058607],\"yaxis\":\"y\",\"type\":\"scatter\"}],                        {\"template\":{\"data\":{\"histogram2dcontour\":[{\"type\":\"histogram2dcontour\",\"colorbar\":{\"outlinewidth\":0,\"ticks\":\"\"},\"colorscale\":[[0.0,\"#0d0887\"],[0.1111111111111111,\"#46039f\"],[0.2222222222222222,\"#7201a8\"],[0.3333333333333333,\"#9c179e\"],[0.4444444444444444,\"#bd3786\"],[0.5555555555555556,\"#d8576b\"],[0.6666666666666666,\"#ed7953\"],[0.7777777777777778,\"#fb9f3a\"],[0.8888888888888888,\"#fdca26\"],[1.0,\"#f0f921\"]]}],\"choropleth\":[{\"type\":\"choropleth\",\"colorbar\":{\"outlinewidth\":0,\"ticks\":\"\"}}],\"histogram2d\":[{\"type\":\"histogram2d\",\"colorbar\":{\"outlinewidth\":0,\"ticks\":\"\"},\"colorscale\":[[0.0,\"#0d0887\"],[0.1111111111111111,\"#46039f\"],[0.2222222222222222,\"#7201a8\"],[0.3333333333333333,\"#9c179e\"],[0.4444444444444444,\"#bd3786\"],[0.5555555555555556,\"#d8576b\"],[0.6666666666666666,\"#ed7953\"],[0.7777777777777778,\"#fb9f3a\"],[0.8888888888888888,\"#fdca26\"],[1.0,\"#f0f921\"]]}],\"heatmap\":[{\"type\":\"heatmap\",\"colorbar\":{\"outlinewidth\":0,\"ticks\":\"\"},\"colorscale\":[[0.0,\"#0d0887\"],[0.1111111111111111,\"#46039f\"],[0.2222222222222222,\"#7201a8\"],[0.3333333333333333,\"#9c179e\"],[0.4444444444444444,\"#bd3786\"],[0.5555555555555556,\"#d8576b\"],[0.6666666666666666,\"#ed7953\"],[0.7777777777777778,\"#fb9f3a\"],[0.8888888888888888,\"#fdca26\"],[1.0,\"#f0f921\"]]}],\"heatmapgl\":[{\"type\":\"heatmapgl\",\"colorbar\":{\"outlinewidth\":0,\"ticks\":\"\"},\"colorscale\":[[0.0,\"#0d0887\"],[0.1111111111111111,\"#46039f\"],[0.2222222222222222,\"#7201a8\"],[0.3333333333333333,\"#9c179e\"],[0.4444444444444444,\"#bd3786\"],[0.5555555555555556,\"#d8576b\"],[0.6666666666666666,\"#ed7953\"],[0.7777777777777778,\"#fb9f3a\"],[0.8888888888888888,\"#fdca26\"],[1.0,\"#f0f921\"]]}],\"contourcarpet\":[{\"type\":\"contourcarpet\",\"colorbar\":{\"outlinewidth\":0,\"ticks\":\"\"}}],\"contour\":[{\"type\":\"contour\",\"colorbar\":{\"outlinewidth\":0,\"ticks\":\"\"},\"colorscale\":[[0.0,\"#0d0887\"],[0.1111111111111111,\"#46039f\"],[0.2222222222222222,\"#7201a8\"],[0.3333333333333333,\"#9c179e\"],[0.4444444444444444,\"#bd3786\"],[0.5555555555555556,\"#d8576b\"],[0.6666666666666666,\"#ed7953\"],[0.7777777777777778,\"#fb9f3a\"],[0.8888888888888888,\"#fdca26\"],[1.0,\"#f0f921\"]]}],\"surface\":[{\"type\":\"surface\",\"colorbar\":{\"outlinewidth\":0,\"ticks\":\"\"},\"colorscale\":[[0.0,\"#0d0887\"],[0.1111111111111111,\"#46039f\"],[0.2222222222222222,\"#7201a8\"],[0.3333333333333333,\"#9c179e\"],[0.4444444444444444,\"#bd3786\"],[0.5555555555555556,\"#d8576b\"],[0.6666666666666666,\"#ed7953\"],[0.7777777777777778,\"#fb9f3a\"],[0.8888888888888888,\"#fdca26\"],[1.0,\"#f0f921\"]]}],\"mesh3d\":[{\"type\":\"mesh3d\",\"colorbar\":{\"outlinewidth\":0,\"ticks\":\"\"}}],\"scatter\":[{\"fillpattern\":{\"fillmode\":\"overlay\",\"size\":10,\"solidity\":0.2},\"type\":\"scatter\"}],\"parcoords\":[{\"type\":\"parcoords\",\"line\":{\"colorbar\":{\"outlinewidth\":0,\"ticks\":\"\"}}}],\"scatterpolargl\":[{\"type\":\"scatterpolargl\",\"marker\":{\"colorbar\":{\"outlinewidth\":0,\"ticks\":\"\"}}}],\"bar\":[{\"error_x\":{\"color\":\"#2a3f5f\"},\"error_y\":{\"color\":\"#2a3f5f\"},\"marker\":{\"line\":{\"color\":\"#E5ECF6\",\"width\":0.5},\"pattern\":{\"fillmode\":\"overlay\",\"size\":10,\"solidity\":0.2}},\"type\":\"bar\"}],\"scattergeo\":[{\"type\":\"scattergeo\",\"marker\":{\"colorbar\":{\"outlinewidth\":0,\"ticks\":\"\"}}}],\"scatterpolar\":[{\"type\":\"scatterpolar\",\"marker\":{\"colorbar\":{\"outlinewidth\":0,\"ticks\":\"\"}}}],\"histogram\":[{\"marker\":{\"pattern\":{\"fillmode\":\"overlay\",\"size\":10,\"solidity\":0.2}},\"type\":\"histogram\"}],\"scattergl\":[{\"type\":\"scattergl\",\"marker\":{\"colorbar\":{\"outlinewidth\":0,\"ticks\":\"\"}}}],\"scatter3d\":[{\"type\":\"scatter3d\",\"line\":{\"colorbar\":{\"outlinewidth\":0,\"ticks\":\"\"}},\"marker\":{\"colorbar\":{\"outlinewidth\":0,\"ticks\":\"\"}}}],\"scattermapbox\":[{\"type\":\"scattermapbox\",\"marker\":{\"colorbar\":{\"outlinewidth\":0,\"ticks\":\"\"}}}],\"scatterternary\":[{\"type\":\"scatterternary\",\"marker\":{\"colorbar\":{\"outlinewidth\":0,\"ticks\":\"\"}}}],\"scattercarpet\":[{\"type\":\"scattercarpet\",\"marker\":{\"colorbar\":{\"outlinewidth\":0,\"ticks\":\"\"}}}],\"carpet\":[{\"aaxis\":{\"endlinecolor\":\"#2a3f5f\",\"gridcolor\":\"white\",\"linecolor\":\"white\",\"minorgridcolor\":\"white\",\"startlinecolor\":\"#2a3f5f\"},\"baxis\":{\"endlinecolor\":\"#2a3f5f\",\"gridcolor\":\"white\",\"linecolor\":\"white\",\"minorgridcolor\":\"white\",\"startlinecolor\":\"#2a3f5f\"},\"type\":\"carpet\"}],\"table\":[{\"cells\":{\"fill\":{\"color\":\"#EBF0F8\"},\"line\":{\"color\":\"white\"}},\"header\":{\"fill\":{\"color\":\"#C8D4E3\"},\"line\":{\"color\":\"white\"}},\"type\":\"table\"}],\"barpolar\":[{\"marker\":{\"line\":{\"color\":\"#E5ECF6\",\"width\":0.5},\"pattern\":{\"fillmode\":\"overlay\",\"size\":10,\"solidity\":0.2}},\"type\":\"barpolar\"}],\"pie\":[{\"automargin\":true,\"type\":\"pie\"}]},\"layout\":{\"autotypenumbers\":\"strict\",\"colorway\":[\"#636efa\",\"#EF553B\",\"#00cc96\",\"#ab63fa\",\"#FFA15A\",\"#19d3f3\",\"#FF6692\",\"#B6E880\",\"#FF97FF\",\"#FECB52\"],\"font\":{\"color\":\"#2a3f5f\"},\"hovermode\":\"closest\",\"hoverlabel\":{\"align\":\"left\"},\"paper_bgcolor\":\"white\",\"plot_bgcolor\":\"#E5ECF6\",\"polar\":{\"bgcolor\":\"#E5ECF6\",\"angularaxis\":{\"gridcolor\":\"white\",\"linecolor\":\"white\",\"ticks\":\"\"},\"radialaxis\":{\"gridcolor\":\"white\",\"linecolor\":\"white\",\"ticks\":\"\"}},\"ternary\":{\"bgcolor\":\"#E5ECF6\",\"aaxis\":{\"gridcolor\":\"white\",\"linecolor\":\"white\",\"ticks\":\"\"},\"baxis\":{\"gridcolor\":\"white\",\"linecolor\":\"white\",\"ticks\":\"\"},\"caxis\":{\"gridcolor\":\"white\",\"linecolor\":\"white\",\"ticks\":\"\"}},\"coloraxis\":{\"colorbar\":{\"outlinewidth\":0,\"ticks\":\"\"}},\"colorscale\":{\"sequential\":[[0.0,\"#0d0887\"],[0.1111111111111111,\"#46039f\"],[0.2222222222222222,\"#7201a8\"],[0.3333333333333333,\"#9c179e\"],[0.4444444444444444,\"#bd3786\"],[0.5555555555555556,\"#d8576b\"],[0.6666666666666666,\"#ed7953\"],[0.7777777777777778,\"#fb9f3a\"],[0.8888888888888888,\"#fdca26\"],[1.0,\"#f0f921\"]],\"sequentialminus\":[[0.0,\"#0d0887\"],[0.1111111111111111,\"#46039f\"],[0.2222222222222222,\"#7201a8\"],[0.3333333333333333,\"#9c179e\"],[0.4444444444444444,\"#bd3786\"],[0.5555555555555556,\"#d8576b\"],[0.6666666666666666,\"#ed7953\"],[0.7777777777777778,\"#fb9f3a\"],[0.8888888888888888,\"#fdca26\"],[1.0,\"#f0f921\"]],\"diverging\":[[0,\"#8e0152\"],[0.1,\"#c51b7d\"],[0.2,\"#de77ae\"],[0.3,\"#f1b6da\"],[0.4,\"#fde0ef\"],[0.5,\"#f7f7f7\"],[0.6,\"#e6f5d0\"],[0.7,\"#b8e186\"],[0.8,\"#7fbc41\"],[0.9,\"#4d9221\"],[1,\"#276419\"]]},\"xaxis\":{\"gridcolor\":\"white\",\"linecolor\":\"white\",\"ticks\":\"\",\"title\":{\"standoff\":15},\"zerolinecolor\":\"white\",\"automargin\":true,\"zerolinewidth\":2},\"yaxis\":{\"gridcolor\":\"white\",\"linecolor\":\"white\",\"ticks\":\"\",\"title\":{\"standoff\":15},\"zerolinecolor\":\"white\",\"automargin\":true,\"zerolinewidth\":2},\"scene\":{\"xaxis\":{\"backgroundcolor\":\"#E5ECF6\",\"gridcolor\":\"white\",\"linecolor\":\"white\",\"showbackground\":true,\"ticks\":\"\",\"zerolinecolor\":\"white\",\"gridwidth\":2},\"yaxis\":{\"backgroundcolor\":\"#E5ECF6\",\"gridcolor\":\"white\",\"linecolor\":\"white\",\"showbackground\":true,\"ticks\":\"\",\"zerolinecolor\":\"white\",\"gridwidth\":2},\"zaxis\":{\"backgroundcolor\":\"#E5ECF6\",\"gridcolor\":\"white\",\"linecolor\":\"white\",\"showbackground\":true,\"ticks\":\"\",\"zerolinecolor\":\"white\",\"gridwidth\":2}},\"shapedefaults\":{\"line\":{\"color\":\"#2a3f5f\"}},\"annotationdefaults\":{\"arrowcolor\":\"#2a3f5f\",\"arrowhead\":0,\"arrowwidth\":1},\"geo\":{\"bgcolor\":\"white\",\"landcolor\":\"#E5ECF6\",\"subunitcolor\":\"white\",\"showland\":true,\"showlakes\":true,\"lakecolor\":\"white\"},\"title\":{\"x\":0.05},\"mapbox\":{\"style\":\"light\"}}},\"xaxis\":{\"anchor\":\"y\",\"domain\":[0.0,1.0],\"title\":{\"text\":\"ncd_diff\"}},\"yaxis\":{\"anchor\":\"x\",\"domain\":[0.0,1.0],\"title\":{\"text\":\"ncd_mean\"}},\"legend\":{\"tracegroupgap\":0},\"margin\":{\"t\":60},\"shapes\":[{\"type\":\"line\",\"x0\":0,\"x1\":0,\"xref\":\"x\",\"y0\":0,\"y1\":1,\"yref\":\"y domain\"},{\"type\":\"line\",\"x0\":37.60171541213955,\"x1\":37.60171541213955,\"xref\":\"x\",\"y0\":0,\"y1\":1,\"yref\":\"y domain\"}],\"annotations\":[{\"showarrow\":false,\"text\":\"< more PX ... more ggplot >\",\"x\":0,\"xanchor\":\"center\",\"xref\":\"x\",\"y\":1,\"yanchor\":\"bottom\",\"yref\":\"y domain\"}]},                        {\"responsive\": true}                    ).then(function(){\n",
       "                            \n",
       "var gd = document.getElementById('c7c9b07f-6d31-42e8-8281-c70e602d5432');\n",
       "var x = new MutationObserver(function (mutations, observer) {{\n",
       "        var display = window.getComputedStyle(gd).display;\n",
       "        if (!display || display === 'none') {{\n",
       "            console.log([gd, 'removed!']);\n",
       "            Plotly.purge(gd);\n",
       "            observer.disconnect();\n",
       "        }}\n",
       "}});\n",
       "\n",
       "// Listen for the removal of the full notebook cells\n",
       "var notebookContainer = gd.closest('#notebook-container');\n",
       "if (notebookContainer) {{\n",
       "    x.observe(notebookContainer, {childList: true});\n",
       "}}\n",
       "\n",
       "// Listen for the clearing of the current output cell\n",
       "var outputEl = gd.closest('.output');\n",
       "if (outputEl) {{\n",
       "    x.observe(outputEl, {childList: true});\n",
       "}}\n",
       "\n",
       "                        })                };                });            </script>        </div>"
      ]
     },
     "metadata": {},
     "output_type": "display_data"
    }
   ],
   "source": [
    "px.scatter(merged, y=\"ncd_mean\", x=\"ncd_diff\",\n",
    "           hover_data=merged.columns\n",
    "          ).add_vline(x=0, annotation_text=\"< more PX ... more ggplot >\", annotation_position=\"top\").add_vline(\n",
    "    x=merged.ncd_diff.mean())"
   ]
  },
  {
   "cell_type": "code",
   "execution_count": null,
   "id": "2d01eea8-f346-440a-a56d-ab7c4e7b3a4a",
   "metadata": {},
   "outputs": [],
   "source": []
  }
 ],
 "metadata": {
  "kernelspec": {
   "display_name": "Python 3 (ipykernel)",
   "language": "python",
   "name": "python3"
  },
  "language_info": {
   "codemirror_mode": {
    "name": "ipython",
    "version": 3
   },
   "file_extension": ".py",
   "mimetype": "text/x-python",
   "name": "python",
   "nbconvert_exporter": "python",
   "pygments_lexer": "ipython3",
   "version": "3.9.7"
  }
 },
 "nbformat": 4,
 "nbformat_minor": 5
}
