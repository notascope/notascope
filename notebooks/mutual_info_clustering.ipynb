{
 "cells": [
  {
   "cell_type": "code",
   "execution_count": 1,
   "id": "b25f8ee2-a6db-4a81-8cfb-84c2341cd759",
   "metadata": {},
   "outputs": [],
   "source": [
    "from src.distances import dmat_and_order\n",
    "\n",
    "dmat, dmat_sym, order = dmat_and_order(\"vega-lite\", \"vega-lite\", \"cd\")"
   ]
  },
  {
   "cell_type": "code",
   "execution_count": null,
   "id": "8ad521cf-cd5b-4bf1-a2fd-f5e5c4a52a99",
   "metadata": {},
   "outputs": [],
   "source": [
    "from itertools import permutations\n",
    "from glob import glob\n",
    "import os\n",
    "import sys\n",
    "from utils import slug_from_path\n",
    "from lzma import compress\n",
    "from multiprocessing import Pool\n",
    "\n",
    "\n",
    "inpath = sys.argv[1]\n",
    "pieces = inpath.split(\"/\")\n",
    "study = pieces[1]\n",
    "system = pieces[2]\n",
    "file_bytes = dict()\n",
    "single_compressed_length = dict()\n",
    "for fpath in glob(os.path.join(inpath, \"*.*\")):\n",
    "    slug = slug_from_path(fpath)\n",
    "    with open(fpath, \"rb\") as f:\n",
    "        file_bytes[slug] = f.read()\n",
    "    single_compressed_length[slug] = len(compress(file_bytes[slug]))\n",
    "\n",
    "\n",
    "def cost(args):\n",
    "    from_slug, to_slug = args\n",
    "    a = single_compressed_length[from_slug]\n",
    "    b = single_compressed_length[to_slug]\n",
    "    ab = len(compress(file_bytes[from_slug] + file_bytes[to_slug]))\n",
    "    return [study, system, from_slug, to_slug, str(int(a)), str(int(b)), str(int(ab))]\n",
    "\n",
    "\n",
    "if __name__ == \"__main__\":\n",
    "    with Pool(6) as p, open(f\"results/{study}/{system}/ncd_costs.csv\", \"w\") as f:\n",
    "        for r in p.map(cost, permutations(file_bytes, 2)):\n",
    "            print(\",\".join(r), file=f)\n"
   ]
  }
 ],
 "metadata": {
  "kernelspec": {
   "display_name": "Python 3 (ipykernel)",
   "language": "python",
   "name": "python3"
  },
  "language_info": {
   "codemirror_mode": {
    "name": "ipython",
    "version": 3
   },
   "file_extension": ".py",
   "mimetype": "text/x-python",
   "name": "python",
   "nbconvert_exporter": "python",
   "pygments_lexer": "ipython3",
   "version": "3.9.7"
  }
 },
 "nbformat": 4,
 "nbformat_minor": 5
}
