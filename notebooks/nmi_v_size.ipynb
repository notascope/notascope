{
  "cells": [
    {
      "cell_type": "code",
      "execution_count": 13,
      "id": "a41a20ad-bf60-4b1f-93fc-2652fccc9139",
      "metadata": {},
      "outputs": [
        {
          "data": {
            "text/html": [
              "<div>\n",
              "<style scoped>\n",
              "    .dataframe tbody tr th:only-of-type {\n",
              "        vertical-align: middle;\n",
              "    }\n",
              "\n",
              "    .dataframe tbody tr th {\n",
              "        vertical-align: top;\n",
              "    }\n",
              "\n",
              "    .dataframe thead th {\n",
              "        text-align: right;\n",
              "    }\n",
              "</style>\n",
              "<table border=\"1\" class=\"dataframe\">\n",
              "  <thead>\n",
              "    <tr style=\"text-align: right;\">\n",
              "      <th></th>\n",
              "      <th>spec</th>\n",
              "      <th>notation</th>\n",
              "      <th>token</th>\n",
              "    </tr>\n",
              "  </thead>\n",
              "  <tbody>\n",
              "    <tr>\n",
              "      <th>0</th>\n",
              "      <td>area_colored</td>\n",
              "      <td>ggplot2</td>\n",
              "      <td>28</td>\n",
              "    </tr>\n",
              "    <tr>\n",
              "      <th>1</th>\n",
              "      <td>area_colored</td>\n",
              "      <td>plotly_express</td>\n",
              "      <td>31</td>\n",
              "    </tr>\n",
              "    <tr>\n",
              "      <th>2</th>\n",
              "      <td>area_colored</td>\n",
              "      <td>vega-lite</td>\n",
              "      <td>27</td>\n",
              "    </tr>\n",
              "    <tr>\n",
              "      <th>3</th>\n",
              "      <td>area_colored_stacked</td>\n",
              "      <td>ggplot2</td>\n",
              "      <td>29</td>\n",
              "    </tr>\n",
              "    <tr>\n",
              "      <th>4</th>\n",
              "      <td>area_colored_stacked</td>\n",
              "      <td>plotly_express</td>\n",
              "      <td>33</td>\n",
              "    </tr>\n",
              "    <tr>\n",
              "      <th>...</th>\n",
              "      <td>...</td>\n",
              "      <td>...</td>\n",
              "      <td>...</td>\n",
              "    </tr>\n",
              "    <tr>\n",
              "      <th>85</th>\n",
              "      <td>scatter_ols_global</td>\n",
              "      <td>plotly_express</td>\n",
              "      <td>27</td>\n",
              "    </tr>\n",
              "    <tr>\n",
              "      <th>86</th>\n",
              "      <td>scatter_ols_global</td>\n",
              "      <td>vega-lite</td>\n",
              "      <td>33</td>\n",
              "    </tr>\n",
              "    <tr>\n",
              "      <th>87</th>\n",
              "      <td>scatter_ols_separate</td>\n",
              "      <td>ggplot2</td>\n",
              "      <td>25</td>\n",
              "    </tr>\n",
              "    <tr>\n",
              "      <th>88</th>\n",
              "      <td>scatter_ols_separate</td>\n",
              "      <td>plotly_express</td>\n",
              "      <td>25</td>\n",
              "    </tr>\n",
              "    <tr>\n",
              "      <th>89</th>\n",
              "      <td>scatter_ols_separate</td>\n",
              "      <td>vega-lite</td>\n",
              "      <td>34</td>\n",
              "    </tr>\n",
              "  </tbody>\n",
              "</table>\n",
              "<p>90 rows × 3 columns</p>\n",
              "</div>"
            ],
            "text/plain": [
              "                    spec        notation  token\n",
              "0           area_colored         ggplot2     28\n",
              "1           area_colored  plotly_express     31\n",
              "2           area_colored       vega-lite     27\n",
              "3   area_colored_stacked         ggplot2     29\n",
              "4   area_colored_stacked  plotly_express     33\n",
              "..                   ...             ...    ...\n",
              "85    scatter_ols_global  plotly_express     27\n",
              "86    scatter_ols_global       vega-lite     33\n",
              "87  scatter_ols_separate         ggplot2     25\n",
              "88  scatter_ols_separate  plotly_express     25\n",
              "89  scatter_ols_separate       vega-lite     34\n",
              "\n",
              "[90 rows x 3 columns]"
            ]
          },
          "execution_count": 13,
          "metadata": {},
          "output_type": "execute_result"
        }
      ],
      "source": [
        "import pandas as pd\n",
        "\n",
        "tokens_df = pd.read_csv(\"results/tokens.tsv\", names=[\"gallery\", \"notation\", \"spec\", \"token\"], delimiter=\"\\t\")\n",
        "\n",
        "df = tokens_df.query(\"gallery == 'movies'\").groupby([\"spec\", \"notation\"])[\"token\"].nunique().reset_index()\n",
        "df"
      ]
    },
    {
      "cell_type": "code",
      "execution_count": 6,
      "id": "d6adc4b9-4df3-41fb-8d31-29b378693e57",
      "metadata": {},
      "outputs": [],
      "source": [
        "from src.distances import load_distances"
      ]
    },
    {
      "cell_type": "code",
      "execution_count": 10,
      "id": "eb85fd9b-f58e-4d05-930d-bd74a339269b",
      "metadata": {},
      "outputs": [],
      "source": [
        "dist = load_distances().query(\"gallery == 'movies'\")"
      ]
    },
    {
      "cell_type": "code",
      "execution_count": 17,
      "id": "770cb7d0-eeb0-4aa7-a951-91b877035b5a",
      "metadata": {},
      "outputs": [
        {
          "data": {
            "text/html": [
              "<div>\n",
              "<style scoped>\n",
              "    .dataframe tbody tr th:only-of-type {\n",
              "        vertical-align: middle;\n",
              "    }\n",
              "\n",
              "    .dataframe tbody tr th {\n",
              "        vertical-align: top;\n",
              "    }\n",
              "\n",
              "    .dataframe thead th {\n",
              "        text-align: right;\n",
              "    }\n",
              "</style>\n",
              "<table border=\"1\" class=\"dataframe\">\n",
              "  <thead>\n",
              "    <tr style=\"text-align: right;\">\n",
              "      <th></th>\n",
              "      <th>gallery</th>\n",
              "      <th>notation</th>\n",
              "      <th>from_spec</th>\n",
              "      <th>to_spec</th>\n",
              "      <th>difflib</th>\n",
              "      <th>a</th>\n",
              "      <th>b</th>\n",
              "      <th>ab</th>\n",
              "      <th>nmi</th>\n",
              "      <th>cd</th>\n",
              "      <th>ncd</th>\n",
              "    </tr>\n",
              "  </thead>\n",
              "  <tbody>\n",
              "    <tr>\n",
              "      <th>1238</th>\n",
              "      <td>movies</td>\n",
              "      <td>ggplot2</td>\n",
              "      <td>bar_count_horizontal</td>\n",
              "      <td>bar_count_ordered</td>\n",
              "      <td>4</td>\n",
              "      <td>160</td>\n",
              "      <td>172</td>\n",
              "      <td>184</td>\n",
              "      <td>36</td>\n",
              "      <td>24</td>\n",
              "      <td>139</td>\n",
              "    </tr>\n",
              "    <tr>\n",
              "      <th>1239</th>\n",
              "      <td>movies</td>\n",
              "      <td>ggplot2</td>\n",
              "      <td>bar_count_horizontal</td>\n",
              "      <td>bar_budget</td>\n",
              "      <td>13</td>\n",
              "      <td>160</td>\n",
              "      <td>204</td>\n",
              "      <td>212</td>\n",
              "      <td>60</td>\n",
              "      <td>52</td>\n",
              "      <td>254</td>\n",
              "    </tr>\n",
              "    <tr>\n",
              "      <th>1240</th>\n",
              "      <td>movies</td>\n",
              "      <td>ggplot2</td>\n",
              "      <td>bar_count_horizontal</td>\n",
              "      <td>box</td>\n",
              "      <td>6</td>\n",
              "      <td>160</td>\n",
              "      <td>184</td>\n",
              "      <td>196</td>\n",
              "      <td>48</td>\n",
              "      <td>36</td>\n",
              "      <td>195</td>\n",
              "    </tr>\n",
              "    <tr>\n",
              "      <th>1241</th>\n",
              "      <td>movies</td>\n",
              "      <td>ggplot2</td>\n",
              "      <td>bar_count_horizontal</td>\n",
              "      <td>heatmap_budget_avg</td>\n",
              "      <td>18</td>\n",
              "      <td>160</td>\n",
              "      <td>224</td>\n",
              "      <td>236</td>\n",
              "      <td>88</td>\n",
              "      <td>76</td>\n",
              "      <td>339</td>\n",
              "    </tr>\n",
              "    <tr>\n",
              "      <th>1242</th>\n",
              "      <td>movies</td>\n",
              "      <td>ggplot2</td>\n",
              "      <td>bar_count_horizontal</td>\n",
              "      <td>bar_count</td>\n",
              "      <td>1</td>\n",
              "      <td>160</td>\n",
              "      <td>160</td>\n",
              "      <td>168</td>\n",
              "      <td>16</td>\n",
              "      <td>8</td>\n",
              "      <td>50</td>\n",
              "    </tr>\n",
              "    <tr>\n",
              "      <th>...</th>\n",
              "      <td>...</td>\n",
              "      <td>...</td>\n",
              "      <td>...</td>\n",
              "      <td>...</td>\n",
              "      <td>...</td>\n",
              "      <td>...</td>\n",
              "      <td>...</td>\n",
              "      <td>...</td>\n",
              "      <td>...</td>\n",
              "      <td>...</td>\n",
              "      <td>...</td>\n",
              "    </tr>\n",
              "    <tr>\n",
              "      <th>3843</th>\n",
              "      <td>movies</td>\n",
              "      <td>vega-lite</td>\n",
              "      <td>bar_count_100</td>\n",
              "      <td>scatter_ols_global</td>\n",
              "      <td>77</td>\n",
              "      <td>252</td>\n",
              "      <td>328</td>\n",
              "      <td>380</td>\n",
              "      <td>180</td>\n",
              "      <td>128</td>\n",
              "      <td>390</td>\n",
              "    </tr>\n",
              "    <tr>\n",
              "      <th>3844</th>\n",
              "      <td>movies</td>\n",
              "      <td>vega-lite</td>\n",
              "      <td>bar_count_100</td>\n",
              "      <td>bar_count</td>\n",
              "      <td>20</td>\n",
              "      <td>252</td>\n",
              "      <td>208</td>\n",
              "      <td>260</td>\n",
              "      <td>60</td>\n",
              "      <td>52</td>\n",
              "      <td>206</td>\n",
              "    </tr>\n",
              "    <tr>\n",
              "      <th>3845</th>\n",
              "      <td>movies</td>\n",
              "      <td>vega-lite</td>\n",
              "      <td>bar_count_100</td>\n",
              "      <td>line</td>\n",
              "      <td>25</td>\n",
              "      <td>252</td>\n",
              "      <td>260</td>\n",
              "      <td>328</td>\n",
              "      <td>144</td>\n",
              "      <td>76</td>\n",
              "      <td>292</td>\n",
              "    </tr>\n",
              "    <tr>\n",
              "      <th>3846</th>\n",
              "      <td>movies</td>\n",
              "      <td>vega-lite</td>\n",
              "      <td>bar_count_100</td>\n",
              "      <td>area_colored</td>\n",
              "      <td>14</td>\n",
              "      <td>252</td>\n",
              "      <td>284</td>\n",
              "      <td>324</td>\n",
              "      <td>112</td>\n",
              "      <td>72</td>\n",
              "      <td>253</td>\n",
              "    </tr>\n",
              "    <tr>\n",
              "      <th>3847</th>\n",
              "      <td>movies</td>\n",
              "      <td>vega-lite</td>\n",
              "      <td>bar_count_100</td>\n",
              "      <td>histogram</td>\n",
              "      <td>25</td>\n",
              "      <td>252</td>\n",
              "      <td>220</td>\n",
              "      <td>280</td>\n",
              "      <td>88</td>\n",
              "      <td>60</td>\n",
              "      <td>238</td>\n",
              "    </tr>\n",
              "  </tbody>\n",
              "</table>\n",
              "<p>2610 rows × 11 columns</p>\n",
              "</div>"
            ],
            "text/plain": [
              "       gallery   notation             from_spec             to_spec  difflib  \\\n",
              "1238  movies    ggplot2  bar_count_horizontal   bar_count_ordered        4   \n",
              "1239  movies    ggplot2  bar_count_horizontal          bar_budget       13   \n",
              "1240  movies    ggplot2  bar_count_horizontal                 box        6   \n",
              "1241  movies    ggplot2  bar_count_horizontal  heatmap_budget_avg       18   \n",
              "1242  movies    ggplot2  bar_count_horizontal           bar_count        1   \n",
              "...      ...        ...                   ...                 ...      ...   \n",
              "3843  movies  vega-lite         bar_count_100  scatter_ols_global       77   \n",
              "3844  movies  vega-lite         bar_count_100           bar_count       20   \n",
              "3845  movies  vega-lite         bar_count_100                line       25   \n",
              "3846  movies  vega-lite         bar_count_100        area_colored       14   \n",
              "3847  movies  vega-lite         bar_count_100           histogram       25   \n",
              "\n",
              "        a    b   ab  nmi   cd  ncd  \n",
              "1238  160  172  184   36   24  139  \n",
              "1239  160  204  212   60   52  254  \n",
              "1240  160  184  196   48   36  195  \n",
              "1241  160  224  236   88   76  339  \n",
              "1242  160  160  168   16    8   50  \n",
              "...   ...  ...  ...  ...  ...  ...  \n",
              "3843  252  328  380  180  128  390  \n",
              "3844  252  208  260   60   52  206  \n",
              "3845  252  260  328  144   76  292  \n",
              "3846  252  284  324  112   72  253  \n",
              "3847  252  220  280   88   60  238  \n",
              "\n",
              "[2610 rows x 11 columns]"
            ]
          },
          "execution_count": 17,
          "metadata": {},
          "output_type": "execute_result"
        }
      ],
      "source": [
        "dist"
      ]
    },
    {
      "cell_type": "code",
      "execution_count": 18,
      "id": "669eeb45-e270-4156-8009-b4a9e9b8d12a",
      "metadata": {},
      "outputs": [
        {
          "data": {
            "text/html": [
              "<div>\n",
              "<style scoped>\n",
              "    .dataframe tbody tr th:only-of-type {\n",
              "        vertical-align: middle;\n",
              "    }\n",
              "\n",
              "    .dataframe tbody tr th {\n",
              "        vertical-align: top;\n",
              "    }\n",
              "\n",
              "    .dataframe thead th {\n",
              "        text-align: right;\n",
              "    }\n",
              "</style>\n",
              "<table border=\"1\" class=\"dataframe\">\n",
              "  <thead>\n",
              "    <tr style=\"text-align: right;\">\n",
              "      <th></th>\n",
              "      <th>notation</th>\n",
              "      <th>from_spec</th>\n",
              "      <th>a</th>\n",
              "    </tr>\n",
              "  </thead>\n",
              "  <tbody>\n",
              "    <tr>\n",
              "      <th>0</th>\n",
              "      <td>ggplot2</td>\n",
              "      <td>area_colored</td>\n",
              "      <td>252</td>\n",
              "    </tr>\n",
              "    <tr>\n",
              "      <th>1</th>\n",
              "      <td>ggplot2</td>\n",
              "      <td>area_colored_stacked</td>\n",
              "      <td>264</td>\n",
              "    </tr>\n",
              "    <tr>\n",
              "      <th>2</th>\n",
              "      <td>ggplot2</td>\n",
              "      <td>bar_budget</td>\n",
              "      <td>204</td>\n",
              "    </tr>\n",
              "    <tr>\n",
              "      <th>3</th>\n",
              "      <td>ggplot2</td>\n",
              "      <td>bar_budget_avg</td>\n",
              "      <td>208</td>\n",
              "    </tr>\n",
              "    <tr>\n",
              "      <th>4</th>\n",
              "      <td>ggplot2</td>\n",
              "      <td>bar_budget_avg_colored</td>\n",
              "      <td>236</td>\n",
              "    </tr>\n",
              "    <tr>\n",
              "      <th>...</th>\n",
              "      <td>...</td>\n",
              "      <td>...</td>\n",
              "      <td>...</td>\n",
              "    </tr>\n",
              "    <tr>\n",
              "      <th>85</th>\n",
              "      <td>vega-lite</td>\n",
              "      <td>scatter_colored</td>\n",
              "      <td>256</td>\n",
              "    </tr>\n",
              "    <tr>\n",
              "      <th>86</th>\n",
              "      <td>vega-lite</td>\n",
              "      <td>scatter_colored_continuous</td>\n",
              "      <td>252</td>\n",
              "    </tr>\n",
              "    <tr>\n",
              "      <th>87</th>\n",
              "      <td>vega-lite</td>\n",
              "      <td>scatter_colored_symbol</td>\n",
              "      <td>272</td>\n",
              "    </tr>\n",
              "    <tr>\n",
              "      <th>88</th>\n",
              "      <td>vega-lite</td>\n",
              "      <td>scatter_ols_global</td>\n",
              "      <td>328</td>\n",
              "    </tr>\n",
              "    <tr>\n",
              "      <th>89</th>\n",
              "      <td>vega-lite</td>\n",
              "      <td>scatter_ols_separate</td>\n",
              "      <td>340</td>\n",
              "    </tr>\n",
              "  </tbody>\n",
              "</table>\n",
              "<p>90 rows × 3 columns</p>\n",
              "</div>"
            ],
            "text/plain": [
              "     notation                   from_spec    a\n",
              "0     ggplot2                area_colored  252\n",
              "1     ggplot2        area_colored_stacked  264\n",
              "2     ggplot2                  bar_budget  204\n",
              "3     ggplot2              bar_budget_avg  208\n",
              "4     ggplot2      bar_budget_avg_colored  236\n",
              "..        ...                         ...  ...\n",
              "85  vega-lite             scatter_colored  256\n",
              "86  vega-lite  scatter_colored_continuous  252\n",
              "87  vega-lite      scatter_colored_symbol  272\n",
              "88  vega-lite          scatter_ols_global  328\n",
              "89  vega-lite        scatter_ols_separate  340\n",
              "\n",
              "[90 rows x 3 columns]"
            ]
          },
          "execution_count": 18,
          "metadata": {},
          "output_type": "execute_result"
        }
      ],
      "source": []
    },
    {
      "cell_type": "code",
      "execution_count": 20,
      "id": "21667ec6-38c5-49da-92bf-e36d65744c12",
      "metadata": {},
      "outputs": [
        {
          "data": {
            "text/html": [
              "<div>\n",
              "<style scoped>\n",
              "    .dataframe tbody tr th:only-of-type {\n",
              "        vertical-align: middle;\n",
              "    }\n",
              "\n",
              "    .dataframe tbody tr th {\n",
              "        vertical-align: top;\n",
              "    }\n",
              "\n",
              "    .dataframe thead th {\n",
              "        text-align: right;\n",
              "    }\n",
              "</style>\n",
              "<table border=\"1\" class=\"dataframe\">\n",
              "  <thead>\n",
              "    <tr style=\"text-align: right;\">\n",
              "      <th></th>\n",
              "      <th>spec</th>\n",
              "      <th>notation</th>\n",
              "      <th>token</th>\n",
              "    </tr>\n",
              "  </thead>\n",
              "  <tbody>\n",
              "    <tr>\n",
              "      <th>0</th>\n",
              "      <td>area_colored</td>\n",
              "      <td>ggplot2</td>\n",
              "      <td>28</td>\n",
              "    </tr>\n",
              "    <tr>\n",
              "      <th>1</th>\n",
              "      <td>area_colored</td>\n",
              "      <td>plotly_express</td>\n",
              "      <td>31</td>\n",
              "    </tr>\n",
              "    <tr>\n",
              "      <th>2</th>\n",
              "      <td>area_colored</td>\n",
              "      <td>vega-lite</td>\n",
              "      <td>27</td>\n",
              "    </tr>\n",
              "    <tr>\n",
              "      <th>3</th>\n",
              "      <td>area_colored_stacked</td>\n",
              "      <td>ggplot2</td>\n",
              "      <td>29</td>\n",
              "    </tr>\n",
              "    <tr>\n",
              "      <th>4</th>\n",
              "      <td>area_colored_stacked</td>\n",
              "      <td>plotly_express</td>\n",
              "      <td>33</td>\n",
              "    </tr>\n",
              "    <tr>\n",
              "      <th>...</th>\n",
              "      <td>...</td>\n",
              "      <td>...</td>\n",
              "      <td>...</td>\n",
              "    </tr>\n",
              "    <tr>\n",
              "      <th>85</th>\n",
              "      <td>scatter_ols_global</td>\n",
              "      <td>plotly_express</td>\n",
              "      <td>27</td>\n",
              "    </tr>\n",
              "    <tr>\n",
              "      <th>86</th>\n",
              "      <td>scatter_ols_global</td>\n",
              "      <td>vega-lite</td>\n",
              "      <td>33</td>\n",
              "    </tr>\n",
              "    <tr>\n",
              "      <th>87</th>\n",
              "      <td>scatter_ols_separate</td>\n",
              "      <td>ggplot2</td>\n",
              "      <td>25</td>\n",
              "    </tr>\n",
              "    <tr>\n",
              "      <th>88</th>\n",
              "      <td>scatter_ols_separate</td>\n",
              "      <td>plotly_express</td>\n",
              "      <td>25</td>\n",
              "    </tr>\n",
              "    <tr>\n",
              "      <th>89</th>\n",
              "      <td>scatter_ols_separate</td>\n",
              "      <td>vega-lite</td>\n",
              "      <td>34</td>\n",
              "    </tr>\n",
              "  </tbody>\n",
              "</table>\n",
              "<p>90 rows × 3 columns</p>\n",
              "</div>"
            ],
            "text/plain": [
              "                    spec        notation  token\n",
              "0           area_colored         ggplot2     28\n",
              "1           area_colored  plotly_express     31\n",
              "2           area_colored       vega-lite     27\n",
              "3   area_colored_stacked         ggplot2     29\n",
              "4   area_colored_stacked  plotly_express     33\n",
              "..                   ...             ...    ...\n",
              "85    scatter_ols_global  plotly_express     27\n",
              "86    scatter_ols_global       vega-lite     33\n",
              "87  scatter_ols_separate         ggplot2     25\n",
              "88  scatter_ols_separate  plotly_express     25\n",
              "89  scatter_ols_separate       vega-lite     34\n",
              "\n",
              "[90 rows x 3 columns]"
            ]
          },
          "execution_count": 20,
          "metadata": {},
          "output_type": "execute_result"
        }
      ],
      "source": [
        "df"
      ]
    },
    {
      "cell_type": "code",
      "execution_count": 32,
      "id": "52378e07-d914-4ca4-bb51-d46e542fd31c",
      "metadata": {},
      "outputs": [
        {
          "data": {
            "text/html": [
              "<div>\n",
              "<style scoped>\n",
              "    .dataframe tbody tr th:only-of-type {\n",
              "        vertical-align: middle;\n",
              "    }\n",
              "\n",
              "    .dataframe tbody tr th {\n",
              "        vertical-align: top;\n",
              "    }\n",
              "\n",
              "    .dataframe thead th {\n",
              "        text-align: right;\n",
              "    }\n",
              "</style>\n",
              "<table border=\"1\" class=\"dataframe\">\n",
              "  <thead>\n",
              "    <tr style=\"text-align: right;\">\n",
              "      <th></th>\n",
              "      <th>notation</th>\n",
              "      <th>spec</th>\n",
              "      <th>size</th>\n",
              "      <th>median_nmi</th>\n",
              "    </tr>\n",
              "  </thead>\n",
              "  <tbody>\n",
              "    <tr>\n",
              "      <th>0</th>\n",
              "      <td>ggplot2</td>\n",
              "      <td>area_colored</td>\n",
              "      <td>252</td>\n",
              "      <td>136</td>\n",
              "    </tr>\n",
              "    <tr>\n",
              "      <th>1</th>\n",
              "      <td>ggplot2</td>\n",
              "      <td>area_colored_stacked</td>\n",
              "      <td>264</td>\n",
              "      <td>144</td>\n",
              "    </tr>\n",
              "    <tr>\n",
              "      <th>2</th>\n",
              "      <td>ggplot2</td>\n",
              "      <td>bar_budget</td>\n",
              "      <td>204</td>\n",
              "      <td>80</td>\n",
              "    </tr>\n",
              "    <tr>\n",
              "      <th>3</th>\n",
              "      <td>ggplot2</td>\n",
              "      <td>bar_budget_avg</td>\n",
              "      <td>208</td>\n",
              "      <td>84</td>\n",
              "    </tr>\n",
              "    <tr>\n",
              "      <th>4</th>\n",
              "      <td>ggplot2</td>\n",
              "      <td>bar_budget_avg_colored</td>\n",
              "      <td>236</td>\n",
              "      <td>100</td>\n",
              "    </tr>\n",
              "    <tr>\n",
              "      <th>...</th>\n",
              "      <td>...</td>\n",
              "      <td>...</td>\n",
              "      <td>...</td>\n",
              "      <td>...</td>\n",
              "    </tr>\n",
              "    <tr>\n",
              "      <th>85</th>\n",
              "      <td>vega-lite</td>\n",
              "      <td>scatter_colored</td>\n",
              "      <td>256</td>\n",
              "      <td>88</td>\n",
              "    </tr>\n",
              "    <tr>\n",
              "      <th>86</th>\n",
              "      <td>vega-lite</td>\n",
              "      <td>scatter_colored_continuous</td>\n",
              "      <td>252</td>\n",
              "      <td>104</td>\n",
              "    </tr>\n",
              "    <tr>\n",
              "      <th>87</th>\n",
              "      <td>vega-lite</td>\n",
              "      <td>scatter_colored_symbol</td>\n",
              "      <td>272</td>\n",
              "      <td>100</td>\n",
              "    </tr>\n",
              "    <tr>\n",
              "      <th>88</th>\n",
              "      <td>vega-lite</td>\n",
              "      <td>scatter_ols_global</td>\n",
              "      <td>328</td>\n",
              "      <td>168</td>\n",
              "    </tr>\n",
              "    <tr>\n",
              "      <th>89</th>\n",
              "      <td>vega-lite</td>\n",
              "      <td>scatter_ols_separate</td>\n",
              "      <td>340</td>\n",
              "      <td>180</td>\n",
              "    </tr>\n",
              "  </tbody>\n",
              "</table>\n",
              "<p>90 rows × 4 columns</p>\n",
              "</div>"
            ],
            "text/plain": [
              "     notation                        spec  size  median_nmi\n",
              "0     ggplot2                area_colored   252         136\n",
              "1     ggplot2        area_colored_stacked   264         144\n",
              "2     ggplot2                  bar_budget   204          80\n",
              "3     ggplot2              bar_budget_avg   208          84\n",
              "4     ggplot2      bar_budget_avg_colored   236         100\n",
              "..        ...                         ...   ...         ...\n",
              "85  vega-lite             scatter_colored   256          88\n",
              "86  vega-lite  scatter_colored_continuous   252         104\n",
              "87  vega-lite      scatter_colored_symbol   272         100\n",
              "88  vega-lite          scatter_ols_global   328         168\n",
              "89  vega-lite        scatter_ols_separate   340         180\n",
              "\n",
              "[90 rows x 4 columns]"
            ]
          },
          "execution_count": 32,
          "metadata": {},
          "output_type": "execute_result"
        }
      ],
      "source": [
        "perspec = dist.groupby([\"notation\", \"from_spec\"]).agg({'a' : ['mean'], 'nmi' : ['median']}).reset_index()\n",
        "perspec.columns = [\"notation\", \"spec\", \"size\", \"median_nmi\"]\n",
        "perspec"
      ]
    },
    {
      "cell_type": "code",
      "execution_count": 34,
      "id": "b5070693-a66e-492a-9492-903170eaf366",
      "metadata": {},
      "outputs": [],
      "source": [
        "import plotly.express as px"
      ]
    },
    {
      "cell_type": "code",
      "execution_count": 40,
      "id": "7fb646f3-bef5-4660-8f7b-3c443610e7f4",
      "metadata": {},
      "outputs": [
        {
          "data": {
            "application/vnd.plotly.v1+json": {
              "config": {
                "plotlyServerURL": "https://plotly.com"
              },
              "data": [
                {
                  "hovertemplate": "<b>%{hovertext}</b><br><br>notation=ggplot2<br>size=%{x}<br>median_nmi=%{y}<extra></extra>",
                  "hovertext": [
                    "area_colored",
                    "area_colored_stacked",
                    "bar_budget",
                    "bar_budget_avg",
                    "bar_budget_avg_colored",
                    "bar_count",
                    "bar_count_100",
                    "bar_count_colored",
                    "bar_count_horizontal",
                    "bar_count_ordered",
                    "bar_count_single",
                    "box",
                    "box_colored",
                    "box_faceted",
                    "bubble",
                    "bubble_agg",
                    "heatmap_budget_avg",
                    "heatmap_count",
                    "histogram",
                    "histogram_mean",
                    "line",
                    "line_colored",
                    "ols_separate",
                    "pie_count",
                    "scatter",
                    "scatter_colored",
                    "scatter_colored_continuous",
                    "scatter_colored_symbol",
                    "scatter_ols_global",
                    "scatter_ols_separate"
                  ],
                  "legendgroup": "ggplot2",
                  "marker": {
                    "color": "#636efa",
                    "symbol": "circle"
                  },
                  "mode": "markers",
                  "name": "ggplot2",
                  "orientation": "v",
                  "showlegend": true,
                  "type": "scatter",
                  "x": [
                    252,
                    264,
                    204,
                    208,
                    236,
                    160,
                    192,
                    180,
                    160,
                    172,
                    172,
                    184,
                    200,
                    224,
                    216,
                    268,
                    224,
                    180,
                    172,
                    216,
                    236,
                    256,
                    228,
                    184,
                    188,
                    204,
                    204,
                    220,
                    236,
                    236
                  ],
                  "xaxis": "x",
                  "y": [
                    136,
                    144,
                    80,
                    84,
                    100,
                    80,
                    80,
                    72,
                    84,
                    92,
                    88,
                    68,
                    68,
                    92,
                    92,
                    144,
                    92,
                    76,
                    76,
                    92,
                    136,
                    136,
                    116,
                    96,
                    80,
                    80,
                    88,
                    84,
                    120,
                    116
                  ],
                  "yaxis": "y"
                },
                {
                  "hovertemplate": "<b>%{hovertext}</b><br><br>notation=plotly_express<br>size=%{x}<br>median_nmi=%{y}<extra></extra>",
                  "hovertext": [
                    "area_colored",
                    "area_colored_stacked",
                    "bar_budget",
                    "bar_budget_avg",
                    "bar_budget_avg_colored",
                    "bar_count",
                    "bar_count_100",
                    "bar_count_colored",
                    "bar_count_horizontal",
                    "bar_count_ordered",
                    "bar_count_single",
                    "box",
                    "box_colored",
                    "box_faceted",
                    "bubble",
                    "bubble_agg",
                    "heatmap_budget_avg",
                    "heatmap_count",
                    "histogram",
                    "histogram_mean",
                    "line",
                    "line_colored",
                    "ols_separate",
                    "pie_count",
                    "scatter",
                    "scatter_colored",
                    "scatter_colored_continuous",
                    "scatter_colored_symbol",
                    "scatter_ols_global",
                    "scatter_ols_separate"
                  ],
                  "legendgroup": "plotly_express",
                  "marker": {
                    "color": "#EF553B",
                    "symbol": "circle"
                  },
                  "mode": "markers",
                  "name": "plotly_express",
                  "orientation": "v",
                  "showlegend": true,
                  "type": "scatter",
                  "x": [
                    272,
                    288,
                    192,
                    204,
                    232,
                    172,
                    204,
                    192,
                    172,
                    212,
                    192,
                    188,
                    204,
                    220,
                    240,
                    252,
                    224,
                    192,
                    180,
                    208,
                    252,
                    272,
                    284,
                    172,
                    196,
                    212,
                    212,
                    228,
                    236,
                    224
                  ],
                  "xaxis": "x",
                  "y": [
                    144,
                    160,
                    68,
                    72,
                    84,
                    68,
                    80,
                    68,
                    72,
                    104,
                    88,
                    68,
                    64,
                    88,
                    112,
                    124,
                    84,
                    76,
                    68,
                    80,
                    140,
                    144,
                    148,
                    80,
                    72,
                    76,
                    80,
                    84,
                    100,
                    88
                  ],
                  "yaxis": "y"
                },
                {
                  "hovertemplate": "<b>%{hovertext}</b><br><br>notation=vega-lite<br>size=%{x}<br>median_nmi=%{y}<extra></extra>",
                  "hovertext": [
                    "area_colored",
                    "area_colored_stacked",
                    "bar_budget",
                    "bar_budget_avg",
                    "bar_budget_avg_colored",
                    "bar_count",
                    "bar_count_100",
                    "bar_count_colored",
                    "bar_count_horizontal",
                    "bar_count_ordered",
                    "bar_count_single",
                    "box",
                    "box_colored",
                    "box_faceted",
                    "bubble",
                    "bubble_agg",
                    "heatmap_budget_avg",
                    "heatmap_count",
                    "histogram",
                    "histogram_mean",
                    "line",
                    "line_colored",
                    "ols_separate",
                    "pie_count",
                    "scatter",
                    "scatter_colored",
                    "scatter_colored_continuous",
                    "scatter_colored_symbol",
                    "scatter_ols_global",
                    "scatter_ols_separate"
                  ],
                  "legendgroup": "vega-lite",
                  "marker": {
                    "color": "#00cc96",
                    "symbol": "circle"
                  },
                  "mode": "markers",
                  "name": "vega-lite",
                  "orientation": "v",
                  "showlegend": true,
                  "type": "scatter",
                  "x": [
                    284,
                    300,
                    236,
                    236,
                    264,
                    208,
                    252,
                    240,
                    220,
                    220,
                    224,
                    236,
                    264,
                    268,
                    268,
                    280,
                    256,
                    240,
                    220,
                    236,
                    260,
                    284,
                    328,
                    228,
                    232,
                    256,
                    252,
                    272,
                    328,
                    340
                  ],
                  "xaxis": "x",
                  "y": [
                    124,
                    140,
                    80,
                    84,
                    92,
                    96,
                    104,
                    88,
                    96,
                    100,
                    96,
                    80,
                    88,
                    104,
                    104,
                    108,
                    88,
                    92,
                    100,
                    108,
                    128,
                    124,
                    168,
                    96,
                    100,
                    88,
                    104,
                    100,
                    168,
                    180
                  ],
                  "yaxis": "y"
                }
              ],
              "layout": {
                "height": 600,
                "legend": {
                  "title": {
                    "text": "notation"
                  },
                  "tracegroupgap": 0
                },
                "margin": {
                  "t": 60
                },
                "template": {
                  "data": {
                    "bar": [
                      {
                        "error_x": {
                          "color": "#2a3f5f"
                        },
                        "error_y": {
                          "color": "#2a3f5f"
                        },
                        "marker": {
                          "line": {
                            "color": "#E5ECF6",
                            "width": 0.5
                          },
                          "pattern": {
                            "fillmode": "overlay",
                            "size": 10,
                            "solidity": 0.2
                          }
                        },
                        "type": "bar"
                      }
                    ],
                    "barpolar": [
                      {
                        "marker": {
                          "line": {
                            "color": "#E5ECF6",
                            "width": 0.5
                          },
                          "pattern": {
                            "fillmode": "overlay",
                            "size": 10,
                            "solidity": 0.2
                          }
                        },
                        "type": "barpolar"
                      }
                    ],
                    "carpet": [
                      {
                        "aaxis": {
                          "endlinecolor": "#2a3f5f",
                          "gridcolor": "white",
                          "linecolor": "white",
                          "minorgridcolor": "white",
                          "startlinecolor": "#2a3f5f"
                        },
                        "baxis": {
                          "endlinecolor": "#2a3f5f",
                          "gridcolor": "white",
                          "linecolor": "white",
                          "minorgridcolor": "white",
                          "startlinecolor": "#2a3f5f"
                        },
                        "type": "carpet"
                      }
                    ],
                    "choropleth": [
                      {
                        "colorbar": {
                          "outlinewidth": 0,
                          "ticks": ""
                        },
                        "type": "choropleth"
                      }
                    ],
                    "contour": [
                      {
                        "colorbar": {
                          "outlinewidth": 0,
                          "ticks": ""
                        },
                        "colorscale": [
                          [
                            0,
                            "#0d0887"
                          ],
                          [
                            0.1111111111111111,
                            "#46039f"
                          ],
                          [
                            0.2222222222222222,
                            "#7201a8"
                          ],
                          [
                            0.3333333333333333,
                            "#9c179e"
                          ],
                          [
                            0.4444444444444444,
                            "#bd3786"
                          ],
                          [
                            0.5555555555555556,
                            "#d8576b"
                          ],
                          [
                            0.6666666666666666,
                            "#ed7953"
                          ],
                          [
                            0.7777777777777778,
                            "#fb9f3a"
                          ],
                          [
                            0.8888888888888888,
                            "#fdca26"
                          ],
                          [
                            1,
                            "#f0f921"
                          ]
                        ],
                        "type": "contour"
                      }
                    ],
                    "contourcarpet": [
                      {
                        "colorbar": {
                          "outlinewidth": 0,
                          "ticks": ""
                        },
                        "type": "contourcarpet"
                      }
                    ],
                    "heatmap": [
                      {
                        "colorbar": {
                          "outlinewidth": 0,
                          "ticks": ""
                        },
                        "colorscale": [
                          [
                            0,
                            "#0d0887"
                          ],
                          [
                            0.1111111111111111,
                            "#46039f"
                          ],
                          [
                            0.2222222222222222,
                            "#7201a8"
                          ],
                          [
                            0.3333333333333333,
                            "#9c179e"
                          ],
                          [
                            0.4444444444444444,
                            "#bd3786"
                          ],
                          [
                            0.5555555555555556,
                            "#d8576b"
                          ],
                          [
                            0.6666666666666666,
                            "#ed7953"
                          ],
                          [
                            0.7777777777777778,
                            "#fb9f3a"
                          ],
                          [
                            0.8888888888888888,
                            "#fdca26"
                          ],
                          [
                            1,
                            "#f0f921"
                          ]
                        ],
                        "type": "heatmap"
                      }
                    ],
                    "heatmapgl": [
                      {
                        "colorbar": {
                          "outlinewidth": 0,
                          "ticks": ""
                        },
                        "colorscale": [
                          [
                            0,
                            "#0d0887"
                          ],
                          [
                            0.1111111111111111,
                            "#46039f"
                          ],
                          [
                            0.2222222222222222,
                            "#7201a8"
                          ],
                          [
                            0.3333333333333333,
                            "#9c179e"
                          ],
                          [
                            0.4444444444444444,
                            "#bd3786"
                          ],
                          [
                            0.5555555555555556,
                            "#d8576b"
                          ],
                          [
                            0.6666666666666666,
                            "#ed7953"
                          ],
                          [
                            0.7777777777777778,
                            "#fb9f3a"
                          ],
                          [
                            0.8888888888888888,
                            "#fdca26"
                          ],
                          [
                            1,
                            "#f0f921"
                          ]
                        ],
                        "type": "heatmapgl"
                      }
                    ],
                    "histogram": [
                      {
                        "marker": {
                          "pattern": {
                            "fillmode": "overlay",
                            "size": 10,
                            "solidity": 0.2
                          }
                        },
                        "type": "histogram"
                      }
                    ],
                    "histogram2d": [
                      {
                        "colorbar": {
                          "outlinewidth": 0,
                          "ticks": ""
                        },
                        "colorscale": [
                          [
                            0,
                            "#0d0887"
                          ],
                          [
                            0.1111111111111111,
                            "#46039f"
                          ],
                          [
                            0.2222222222222222,
                            "#7201a8"
                          ],
                          [
                            0.3333333333333333,
                            "#9c179e"
                          ],
                          [
                            0.4444444444444444,
                            "#bd3786"
                          ],
                          [
                            0.5555555555555556,
                            "#d8576b"
                          ],
                          [
                            0.6666666666666666,
                            "#ed7953"
                          ],
                          [
                            0.7777777777777778,
                            "#fb9f3a"
                          ],
                          [
                            0.8888888888888888,
                            "#fdca26"
                          ],
                          [
                            1,
                            "#f0f921"
                          ]
                        ],
                        "type": "histogram2d"
                      }
                    ],
                    "histogram2dcontour": [
                      {
                        "colorbar": {
                          "outlinewidth": 0,
                          "ticks": ""
                        },
                        "colorscale": [
                          [
                            0,
                            "#0d0887"
                          ],
                          [
                            0.1111111111111111,
                            "#46039f"
                          ],
                          [
                            0.2222222222222222,
                            "#7201a8"
                          ],
                          [
                            0.3333333333333333,
                            "#9c179e"
                          ],
                          [
                            0.4444444444444444,
                            "#bd3786"
                          ],
                          [
                            0.5555555555555556,
                            "#d8576b"
                          ],
                          [
                            0.6666666666666666,
                            "#ed7953"
                          ],
                          [
                            0.7777777777777778,
                            "#fb9f3a"
                          ],
                          [
                            0.8888888888888888,
                            "#fdca26"
                          ],
                          [
                            1,
                            "#f0f921"
                          ]
                        ],
                        "type": "histogram2dcontour"
                      }
                    ],
                    "mesh3d": [
                      {
                        "colorbar": {
                          "outlinewidth": 0,
                          "ticks": ""
                        },
                        "type": "mesh3d"
                      }
                    ],
                    "parcoords": [
                      {
                        "line": {
                          "colorbar": {
                            "outlinewidth": 0,
                            "ticks": ""
                          }
                        },
                        "type": "parcoords"
                      }
                    ],
                    "pie": [
                      {
                        "automargin": true,
                        "type": "pie"
                      }
                    ],
                    "scatter": [
                      {
                        "fillpattern": {
                          "fillmode": "overlay",
                          "size": 10,
                          "solidity": 0.2
                        },
                        "type": "scatter"
                      }
                    ],
                    "scatter3d": [
                      {
                        "line": {
                          "colorbar": {
                            "outlinewidth": 0,
                            "ticks": ""
                          }
                        },
                        "marker": {
                          "colorbar": {
                            "outlinewidth": 0,
                            "ticks": ""
                          }
                        },
                        "type": "scatter3d"
                      }
                    ],
                    "scattercarpet": [
                      {
                        "marker": {
                          "colorbar": {
                            "outlinewidth": 0,
                            "ticks": ""
                          }
                        },
                        "type": "scattercarpet"
                      }
                    ],
                    "scattergeo": [
                      {
                        "marker": {
                          "colorbar": {
                            "outlinewidth": 0,
                            "ticks": ""
                          }
                        },
                        "type": "scattergeo"
                      }
                    ],
                    "scattergl": [
                      {
                        "marker": {
                          "colorbar": {
                            "outlinewidth": 0,
                            "ticks": ""
                          }
                        },
                        "type": "scattergl"
                      }
                    ],
                    "scattermapbox": [
                      {
                        "marker": {
                          "colorbar": {
                            "outlinewidth": 0,
                            "ticks": ""
                          }
                        },
                        "type": "scattermapbox"
                      }
                    ],
                    "scatterpolar": [
                      {
                        "marker": {
                          "colorbar": {
                            "outlinewidth": 0,
                            "ticks": ""
                          }
                        },
                        "type": "scatterpolar"
                      }
                    ],
                    "scatterpolargl": [
                      {
                        "marker": {
                          "colorbar": {
                            "outlinewidth": 0,
                            "ticks": ""
                          }
                        },
                        "type": "scatterpolargl"
                      }
                    ],
                    "scatterternary": [
                      {
                        "marker": {
                          "colorbar": {
                            "outlinewidth": 0,
                            "ticks": ""
                          }
                        },
                        "type": "scatterternary"
                      }
                    ],
                    "surface": [
                      {
                        "colorbar": {
                          "outlinewidth": 0,
                          "ticks": ""
                        },
                        "colorscale": [
                          [
                            0,
                            "#0d0887"
                          ],
                          [
                            0.1111111111111111,
                            "#46039f"
                          ],
                          [
                            0.2222222222222222,
                            "#7201a8"
                          ],
                          [
                            0.3333333333333333,
                            "#9c179e"
                          ],
                          [
                            0.4444444444444444,
                            "#bd3786"
                          ],
                          [
                            0.5555555555555556,
                            "#d8576b"
                          ],
                          [
                            0.6666666666666666,
                            "#ed7953"
                          ],
                          [
                            0.7777777777777778,
                            "#fb9f3a"
                          ],
                          [
                            0.8888888888888888,
                            "#fdca26"
                          ],
                          [
                            1,
                            "#f0f921"
                          ]
                        ],
                        "type": "surface"
                      }
                    ],
                    "table": [
                      {
                        "cells": {
                          "fill": {
                            "color": "#EBF0F8"
                          },
                          "line": {
                            "color": "white"
                          }
                        },
                        "header": {
                          "fill": {
                            "color": "#C8D4E3"
                          },
                          "line": {
                            "color": "white"
                          }
                        },
                        "type": "table"
                      }
                    ]
                  },
                  "layout": {
                    "annotationdefaults": {
                      "arrowcolor": "#2a3f5f",
                      "arrowhead": 0,
                      "arrowwidth": 1
                    },
                    "autotypenumbers": "strict",
                    "coloraxis": {
                      "colorbar": {
                        "outlinewidth": 0,
                        "ticks": ""
                      }
                    },
                    "colorscale": {
                      "diverging": [
                        [
                          0,
                          "#8e0152"
                        ],
                        [
                          0.1,
                          "#c51b7d"
                        ],
                        [
                          0.2,
                          "#de77ae"
                        ],
                        [
                          0.3,
                          "#f1b6da"
                        ],
                        [
                          0.4,
                          "#fde0ef"
                        ],
                        [
                          0.5,
                          "#f7f7f7"
                        ],
                        [
                          0.6,
                          "#e6f5d0"
                        ],
                        [
                          0.7,
                          "#b8e186"
                        ],
                        [
                          0.8,
                          "#7fbc41"
                        ],
                        [
                          0.9,
                          "#4d9221"
                        ],
                        [
                          1,
                          "#276419"
                        ]
                      ],
                      "sequential": [
                        [
                          0,
                          "#0d0887"
                        ],
                        [
                          0.1111111111111111,
                          "#46039f"
                        ],
                        [
                          0.2222222222222222,
                          "#7201a8"
                        ],
                        [
                          0.3333333333333333,
                          "#9c179e"
                        ],
                        [
                          0.4444444444444444,
                          "#bd3786"
                        ],
                        [
                          0.5555555555555556,
                          "#d8576b"
                        ],
                        [
                          0.6666666666666666,
                          "#ed7953"
                        ],
                        [
                          0.7777777777777778,
                          "#fb9f3a"
                        ],
                        [
                          0.8888888888888888,
                          "#fdca26"
                        ],
                        [
                          1,
                          "#f0f921"
                        ]
                      ],
                      "sequentialminus": [
                        [
                          0,
                          "#0d0887"
                        ],
                        [
                          0.1111111111111111,
                          "#46039f"
                        ],
                        [
                          0.2222222222222222,
                          "#7201a8"
                        ],
                        [
                          0.3333333333333333,
                          "#9c179e"
                        ],
                        [
                          0.4444444444444444,
                          "#bd3786"
                        ],
                        [
                          0.5555555555555556,
                          "#d8576b"
                        ],
                        [
                          0.6666666666666666,
                          "#ed7953"
                        ],
                        [
                          0.7777777777777778,
                          "#fb9f3a"
                        ],
                        [
                          0.8888888888888888,
                          "#fdca26"
                        ],
                        [
                          1,
                          "#f0f921"
                        ]
                      ]
                    },
                    "colorway": [
                      "#636efa",
                      "#EF553B",
                      "#00cc96",
                      "#ab63fa",
                      "#FFA15A",
                      "#19d3f3",
                      "#FF6692",
                      "#B6E880",
                      "#FF97FF",
                      "#FECB52"
                    ],
                    "font": {
                      "color": "#2a3f5f"
                    },
                    "geo": {
                      "bgcolor": "white",
                      "lakecolor": "white",
                      "landcolor": "#E5ECF6",
                      "showlakes": true,
                      "showland": true,
                      "subunitcolor": "white"
                    },
                    "hoverlabel": {
                      "align": "left"
                    },
                    "hovermode": "closest",
                    "mapbox": {
                      "style": "light"
                    },
                    "paper_bgcolor": "white",
                    "plot_bgcolor": "#E5ECF6",
                    "polar": {
                      "angularaxis": {
                        "gridcolor": "white",
                        "linecolor": "white",
                        "ticks": ""
                      },
                      "bgcolor": "#E5ECF6",
                      "radialaxis": {
                        "gridcolor": "white",
                        "linecolor": "white",
                        "ticks": ""
                      }
                    },
                    "scene": {
                      "xaxis": {
                        "backgroundcolor": "#E5ECF6",
                        "gridcolor": "white",
                        "gridwidth": 2,
                        "linecolor": "white",
                        "showbackground": true,
                        "ticks": "",
                        "zerolinecolor": "white"
                      },
                      "yaxis": {
                        "backgroundcolor": "#E5ECF6",
                        "gridcolor": "white",
                        "gridwidth": 2,
                        "linecolor": "white",
                        "showbackground": true,
                        "ticks": "",
                        "zerolinecolor": "white"
                      },
                      "zaxis": {
                        "backgroundcolor": "#E5ECF6",
                        "gridcolor": "white",
                        "gridwidth": 2,
                        "linecolor": "white",
                        "showbackground": true,
                        "ticks": "",
                        "zerolinecolor": "white"
                      }
                    },
                    "shapedefaults": {
                      "line": {
                        "color": "#2a3f5f"
                      }
                    },
                    "ternary": {
                      "aaxis": {
                        "gridcolor": "white",
                        "linecolor": "white",
                        "ticks": ""
                      },
                      "baxis": {
                        "gridcolor": "white",
                        "linecolor": "white",
                        "ticks": ""
                      },
                      "bgcolor": "#E5ECF6",
                      "caxis": {
                        "gridcolor": "white",
                        "linecolor": "white",
                        "ticks": ""
                      }
                    },
                    "title": {
                      "x": 0.05
                    },
                    "xaxis": {
                      "automargin": true,
                      "gridcolor": "white",
                      "linecolor": "white",
                      "ticks": "",
                      "title": {
                        "standoff": 15
                      },
                      "zerolinecolor": "white",
                      "zerolinewidth": 2
                    },
                    "yaxis": {
                      "automargin": true,
                      "gridcolor": "white",
                      "linecolor": "white",
                      "ticks": "",
                      "title": {
                        "standoff": 15
                      },
                      "zerolinecolor": "white",
                      "zerolinewidth": 2
                    }
                  }
                },
                "width": 600,
                "xaxis": {
                  "anchor": "y",
                  "autorange": true,
                  "domain": [
                    0,
                    1
                  ],
                  "range": [
                    147.72727272727272,
                    352.27272727272725
                  ],
                  "title": {
                    "text": "size"
                  },
                  "type": "linear"
                },
                "yaxis": {
                  "anchor": "x",
                  "autorange": true,
                  "domain": [
                    0,
                    1
                  ],
                  "range": [
                    56.36654366543665,
                    187.63345633456333
                  ],
                  "title": {
                    "text": "median_nmi"
                  },
                  "type": "linear"
                }
              }
            },
            "image/png": "[encoded data removed]",
            "text/html": [
              "<div>                            <div id=\"16b2ed13-4db2-4e27-a075-39b98926daf0\" class=\"plotly-graph-div\" style=\"height:600px; width:600px;\"></div>            <script type=\"text/javascript\">                require([\"plotly\"], function(Plotly) {                    window.PLOTLYENV=window.PLOTLYENV || {};                                    if (document.getElementById(\"16b2ed13-4db2-4e27-a075-39b98926daf0\")) {                    Plotly.newPlot(                        \"16b2ed13-4db2-4e27-a075-39b98926daf0\",                        [{\"hovertemplate\":\"<b>%{hovertext}</b><br><br>notation=ggplot2<br>size=%{x}<br>median_nmi=%{y}<extra></extra>\",\"hovertext\":[\"area_colored\",\"area_colored_stacked\",\"bar_budget\",\"bar_budget_avg\",\"bar_budget_avg_colored\",\"bar_count\",\"bar_count_100\",\"bar_count_colored\",\"bar_count_horizontal\",\"bar_count_ordered\",\"bar_count_single\",\"box\",\"box_colored\",\"box_faceted\",\"bubble\",\"bubble_agg\",\"heatmap_budget_avg\",\"heatmap_count\",\"histogram\",\"histogram_mean\",\"line\",\"line_colored\",\"ols_separate\",\"pie_count\",\"scatter\",\"scatter_colored\",\"scatter_colored_continuous\",\"scatter_colored_symbol\",\"scatter_ols_global\",\"scatter_ols_separate\"],\"legendgroup\":\"ggplot2\",\"marker\":{\"color\":\"#636efa\",\"symbol\":\"circle\"},\"mode\":\"markers\",\"name\":\"ggplot2\",\"orientation\":\"v\",\"showlegend\":true,\"x\":[252,264,204,208,236,160,192,180,160,172,172,184,200,224,216,268,224,180,172,216,236,256,228,184,188,204,204,220,236,236],\"xaxis\":\"x\",\"y\":[136,144,80,84,100,80,80,72,84,92,88,68,68,92,92,144,92,76,76,92,136,136,116,96,80,80,88,84,120,116],\"yaxis\":\"y\",\"type\":\"scatter\"},{\"hovertemplate\":\"<b>%{hovertext}</b><br><br>notation=plotly_express<br>size=%{x}<br>median_nmi=%{y}<extra></extra>\",\"hovertext\":[\"area_colored\",\"area_colored_stacked\",\"bar_budget\",\"bar_budget_avg\",\"bar_budget_avg_colored\",\"bar_count\",\"bar_count_100\",\"bar_count_colored\",\"bar_count_horizontal\",\"bar_count_ordered\",\"bar_count_single\",\"box\",\"box_colored\",\"box_faceted\",\"bubble\",\"bubble_agg\",\"heatmap_budget_avg\",\"heatmap_count\",\"histogram\",\"histogram_mean\",\"line\",\"line_colored\",\"ols_separate\",\"pie_count\",\"scatter\",\"scatter_colored\",\"scatter_colored_continuous\",\"scatter_colored_symbol\",\"scatter_ols_global\",\"scatter_ols_separate\"],\"legendgroup\":\"plotly_express\",\"marker\":{\"color\":\"#EF553B\",\"symbol\":\"circle\"},\"mode\":\"markers\",\"name\":\"plotly_express\",\"orientation\":\"v\",\"showlegend\":true,\"x\":[272,288,192,204,232,172,204,192,172,212,192,188,204,220,240,252,224,192,180,208,252,272,284,172,196,212,212,228,236,224],\"xaxis\":\"x\",\"y\":[144,160,68,72,84,68,80,68,72,104,88,68,64,88,112,124,84,76,68,80,140,144,148,80,72,76,80,84,100,88],\"yaxis\":\"y\",\"type\":\"scatter\"},{\"hovertemplate\":\"<b>%{hovertext}</b><br><br>notation=vega-lite<br>size=%{x}<br>median_nmi=%{y}<extra></extra>\",\"hovertext\":[\"area_colored\",\"area_colored_stacked\",\"bar_budget\",\"bar_budget_avg\",\"bar_budget_avg_colored\",\"bar_count\",\"bar_count_100\",\"bar_count_colored\",\"bar_count_horizontal\",\"bar_count_ordered\",\"bar_count_single\",\"box\",\"box_colored\",\"box_faceted\",\"bubble\",\"bubble_agg\",\"heatmap_budget_avg\",\"heatmap_count\",\"histogram\",\"histogram_mean\",\"line\",\"line_colored\",\"ols_separate\",\"pie_count\",\"scatter\",\"scatter_colored\",\"scatter_colored_continuous\",\"scatter_colored_symbol\",\"scatter_ols_global\",\"scatter_ols_separate\"],\"legendgroup\":\"vega-lite\",\"marker\":{\"color\":\"#00cc96\",\"symbol\":\"circle\"},\"mode\":\"markers\",\"name\":\"vega-lite\",\"orientation\":\"v\",\"showlegend\":true,\"x\":[284,300,236,236,264,208,252,240,220,220,224,236,264,268,268,280,256,240,220,236,260,284,328,228,232,256,252,272,328,340],\"xaxis\":\"x\",\"y\":[124,140,80,84,92,96,104,88,96,100,96,80,88,104,104,108,88,92,100,108,128,124,168,96,100,88,104,100,168,180],\"yaxis\":\"y\",\"type\":\"scatter\"}],                        {\"template\":{\"data\":{\"histogram2dcontour\":[{\"type\":\"histogram2dcontour\",\"colorbar\":{\"outlinewidth\":0,\"ticks\":\"\"},\"colorscale\":[[0.0,\"#0d0887\"],[0.1111111111111111,\"#46039f\"],[0.2222222222222222,\"#7201a8\"],[0.3333333333333333,\"#9c179e\"],[0.4444444444444444,\"#bd3786\"],[0.5555555555555556,\"#d8576b\"],[0.6666666666666666,\"#ed7953\"],[0.7777777777777778,\"#fb9f3a\"],[0.8888888888888888,\"#fdca26\"],[1.0,\"#f0f921\"]]}],\"choropleth\":[{\"type\":\"choropleth\",\"colorbar\":{\"outlinewidth\":0,\"ticks\":\"\"}}],\"histogram2d\":[{\"type\":\"histogram2d\",\"colorbar\":{\"outlinewidth\":0,\"ticks\":\"\"},\"colorscale\":[[0.0,\"#0d0887\"],[0.1111111111111111,\"#46039f\"],[0.2222222222222222,\"#7201a8\"],[0.3333333333333333,\"#9c179e\"],[0.4444444444444444,\"#bd3786\"],[0.5555555555555556,\"#d8576b\"],[0.6666666666666666,\"#ed7953\"],[0.7777777777777778,\"#fb9f3a\"],[0.8888888888888888,\"#fdca26\"],[1.0,\"#f0f921\"]]}],\"heatmap\":[{\"type\":\"heatmap\",\"colorbar\":{\"outlinewidth\":0,\"ticks\":\"\"},\"colorscale\":[[0.0,\"#0d0887\"],[0.1111111111111111,\"#46039f\"],[0.2222222222222222,\"#7201a8\"],[0.3333333333333333,\"#9c179e\"],[0.4444444444444444,\"#bd3786\"],[0.5555555555555556,\"#d8576b\"],[0.6666666666666666,\"#ed7953\"],[0.7777777777777778,\"#fb9f3a\"],[0.8888888888888888,\"#fdca26\"],[1.0,\"#f0f921\"]]}],\"heatmapgl\":[{\"type\":\"heatmapgl\",\"colorbar\":{\"outlinewidth\":0,\"ticks\":\"\"},\"colorscale\":[[0.0,\"#0d0887\"],[0.1111111111111111,\"#46039f\"],[0.2222222222222222,\"#7201a8\"],[0.3333333333333333,\"#9c179e\"],[0.4444444444444444,\"#bd3786\"],[0.5555555555555556,\"#d8576b\"],[0.6666666666666666,\"#ed7953\"],[0.7777777777777778,\"#fb9f3a\"],[0.8888888888888888,\"#fdca26\"],[1.0,\"#f0f921\"]]}],\"contourcarpet\":[{\"type\":\"contourcarpet\",\"colorbar\":{\"outlinewidth\":0,\"ticks\":\"\"}}],\"contour\":[{\"type\":\"contour\",\"colorbar\":{\"outlinewidth\":0,\"ticks\":\"\"},\"colorscale\":[[0.0,\"#0d0887\"],[0.1111111111111111,\"#46039f\"],[0.2222222222222222,\"#7201a8\"],[0.3333333333333333,\"#9c179e\"],[0.4444444444444444,\"#bd3786\"],[0.5555555555555556,\"#d8576b\"],[0.6666666666666666,\"#ed7953\"],[0.7777777777777778,\"#fb9f3a\"],[0.8888888888888888,\"#fdca26\"],[1.0,\"#f0f921\"]]}],\"surface\":[{\"type\":\"surface\",\"colorbar\":{\"outlinewidth\":0,\"ticks\":\"\"},\"colorscale\":[[0.0,\"#0d0887\"],[0.1111111111111111,\"#46039f\"],[0.2222222222222222,\"#7201a8\"],[0.3333333333333333,\"#9c179e\"],[0.4444444444444444,\"#bd3786\"],[0.5555555555555556,\"#d8576b\"],[0.6666666666666666,\"#ed7953\"],[0.7777777777777778,\"#fb9f3a\"],[0.8888888888888888,\"#fdca26\"],[1.0,\"#f0f921\"]]}],\"mesh3d\":[{\"type\":\"mesh3d\",\"colorbar\":{\"outlinewidth\":0,\"ticks\":\"\"}}],\"scatter\":[{\"fillpattern\":{\"fillmode\":\"overlay\",\"size\":10,\"solidity\":0.2},\"type\":\"scatter\"}],\"parcoords\":[{\"type\":\"parcoords\",\"line\":{\"colorbar\":{\"outlinewidth\":0,\"ticks\":\"\"}}}],\"scatterpolargl\":[{\"type\":\"scatterpolargl\",\"marker\":{\"colorbar\":{\"outlinewidth\":0,\"ticks\":\"\"}}}],\"bar\":[{\"error_x\":{\"color\":\"#2a3f5f\"},\"error_y\":{\"color\":\"#2a3f5f\"},\"marker\":{\"line\":{\"color\":\"#E5ECF6\",\"width\":0.5},\"pattern\":{\"fillmode\":\"overlay\",\"size\":10,\"solidity\":0.2}},\"type\":\"bar\"}],\"scattergeo\":[{\"type\":\"scattergeo\",\"marker\":{\"colorbar\":{\"outlinewidth\":0,\"ticks\":\"\"}}}],\"scatterpolar\":[{\"type\":\"scatterpolar\",\"marker\":{\"colorbar\":{\"outlinewidth\":0,\"ticks\":\"\"}}}],\"histogram\":[{\"marker\":{\"pattern\":{\"fillmode\":\"overlay\",\"size\":10,\"solidity\":0.2}},\"type\":\"histogram\"}],\"scattergl\":[{\"type\":\"scattergl\",\"marker\":{\"colorbar\":{\"outlinewidth\":0,\"ticks\":\"\"}}}],\"scatter3d\":[{\"type\":\"scatter3d\",\"line\":{\"colorbar\":{\"outlinewidth\":0,\"ticks\":\"\"}},\"marker\":{\"colorbar\":{\"outlinewidth\":0,\"ticks\":\"\"}}}],\"scattermapbox\":[{\"type\":\"scattermapbox\",\"marker\":{\"colorbar\":{\"outlinewidth\":0,\"ticks\":\"\"}}}],\"scatterternary\":[{\"type\":\"scatterternary\",\"marker\":{\"colorbar\":{\"outlinewidth\":0,\"ticks\":\"\"}}}],\"scattercarpet\":[{\"type\":\"scattercarpet\",\"marker\":{\"colorbar\":{\"outlinewidth\":0,\"ticks\":\"\"}}}],\"carpet\":[{\"aaxis\":{\"endlinecolor\":\"#2a3f5f\",\"gridcolor\":\"white\",\"linecolor\":\"white\",\"minorgridcolor\":\"white\",\"startlinecolor\":\"#2a3f5f\"},\"baxis\":{\"endlinecolor\":\"#2a3f5f\",\"gridcolor\":\"white\",\"linecolor\":\"white\",\"minorgridcolor\":\"white\",\"startlinecolor\":\"#2a3f5f\"},\"type\":\"carpet\"}],\"table\":[{\"cells\":{\"fill\":{\"color\":\"#EBF0F8\"},\"line\":{\"color\":\"white\"}},\"header\":{\"fill\":{\"color\":\"#C8D4E3\"},\"line\":{\"color\":\"white\"}},\"type\":\"table\"}],\"barpolar\":[{\"marker\":{\"line\":{\"color\":\"#E5ECF6\",\"width\":0.5},\"pattern\":{\"fillmode\":\"overlay\",\"size\":10,\"solidity\":0.2}},\"type\":\"barpolar\"}],\"pie\":[{\"automargin\":true,\"type\":\"pie\"}]},\"layout\":{\"autotypenumbers\":\"strict\",\"colorway\":[\"#636efa\",\"#EF553B\",\"#00cc96\",\"#ab63fa\",\"#FFA15A\",\"#19d3f3\",\"#FF6692\",\"#B6E880\",\"#FF97FF\",\"#FECB52\"],\"font\":{\"color\":\"#2a3f5f\"},\"hovermode\":\"closest\",\"hoverlabel\":{\"align\":\"left\"},\"paper_bgcolor\":\"white\",\"plot_bgcolor\":\"#E5ECF6\",\"polar\":{\"bgcolor\":\"#E5ECF6\",\"angularaxis\":{\"gridcolor\":\"white\",\"linecolor\":\"white\",\"ticks\":\"\"},\"radialaxis\":{\"gridcolor\":\"white\",\"linecolor\":\"white\",\"ticks\":\"\"}},\"ternary\":{\"bgcolor\":\"#E5ECF6\",\"aaxis\":{\"gridcolor\":\"white\",\"linecolor\":\"white\",\"ticks\":\"\"},\"baxis\":{\"gridcolor\":\"white\",\"linecolor\":\"white\",\"ticks\":\"\"},\"caxis\":{\"gridcolor\":\"white\",\"linecolor\":\"white\",\"ticks\":\"\"}},\"coloraxis\":{\"colorbar\":{\"outlinewidth\":0,\"ticks\":\"\"}},\"colorscale\":{\"sequential\":[[0.0,\"#0d0887\"],[0.1111111111111111,\"#46039f\"],[0.2222222222222222,\"#7201a8\"],[0.3333333333333333,\"#9c179e\"],[0.4444444444444444,\"#bd3786\"],[0.5555555555555556,\"#d8576b\"],[0.6666666666666666,\"#ed7953\"],[0.7777777777777778,\"#fb9f3a\"],[0.8888888888888888,\"#fdca26\"],[1.0,\"#f0f921\"]],\"sequentialminus\":[[0.0,\"#0d0887\"],[0.1111111111111111,\"#46039f\"],[0.2222222222222222,\"#7201a8\"],[0.3333333333333333,\"#9c179e\"],[0.4444444444444444,\"#bd3786\"],[0.5555555555555556,\"#d8576b\"],[0.6666666666666666,\"#ed7953\"],[0.7777777777777778,\"#fb9f3a\"],[0.8888888888888888,\"#fdca26\"],[1.0,\"#f0f921\"]],\"diverging\":[[0,\"#8e0152\"],[0.1,\"#c51b7d\"],[0.2,\"#de77ae\"],[0.3,\"#f1b6da\"],[0.4,\"#fde0ef\"],[0.5,\"#f7f7f7\"],[0.6,\"#e6f5d0\"],[0.7,\"#b8e186\"],[0.8,\"#7fbc41\"],[0.9,\"#4d9221\"],[1,\"#276419\"]]},\"xaxis\":{\"gridcolor\":\"white\",\"linecolor\":\"white\",\"ticks\":\"\",\"title\":{\"standoff\":15},\"zerolinecolor\":\"white\",\"automargin\":true,\"zerolinewidth\":2},\"yaxis\":{\"gridcolor\":\"white\",\"linecolor\":\"white\",\"ticks\":\"\",\"title\":{\"standoff\":15},\"zerolinecolor\":\"white\",\"automargin\":true,\"zerolinewidth\":2},\"scene\":{\"xaxis\":{\"backgroundcolor\":\"#E5ECF6\",\"gridcolor\":\"white\",\"linecolor\":\"white\",\"showbackground\":true,\"ticks\":\"\",\"zerolinecolor\":\"white\",\"gridwidth\":2},\"yaxis\":{\"backgroundcolor\":\"#E5ECF6\",\"gridcolor\":\"white\",\"linecolor\":\"white\",\"showbackground\":true,\"ticks\":\"\",\"zerolinecolor\":\"white\",\"gridwidth\":2},\"zaxis\":{\"backgroundcolor\":\"#E5ECF6\",\"gridcolor\":\"white\",\"linecolor\":\"white\",\"showbackground\":true,\"ticks\":\"\",\"zerolinecolor\":\"white\",\"gridwidth\":2}},\"shapedefaults\":{\"line\":{\"color\":\"#2a3f5f\"}},\"annotationdefaults\":{\"arrowcolor\":\"#2a3f5f\",\"arrowhead\":0,\"arrowwidth\":1},\"geo\":{\"bgcolor\":\"white\",\"landcolor\":\"#E5ECF6\",\"subunitcolor\":\"white\",\"showland\":true,\"showlakes\":true,\"lakecolor\":\"white\"},\"title\":{\"x\":0.05},\"mapbox\":{\"style\":\"light\"}}},\"xaxis\":{\"anchor\":\"y\",\"domain\":[0.0,1.0],\"title\":{\"text\":\"size\"}},\"yaxis\":{\"anchor\":\"x\",\"domain\":[0.0,1.0],\"title\":{\"text\":\"median_nmi\"}},\"legend\":{\"title\":{\"text\":\"notation\"},\"tracegroupgap\":0},\"margin\":{\"t\":60},\"height\":600,\"width\":600},                        {\"responsive\": true}                    ).then(function(){\n",
              "                            \n",
              "var gd = document.getElementById('16b2ed13-4db2-4e27-a075-39b98926daf0');\n",
              "var x = new MutationObserver(function (mutations, observer) {{\n",
              "        var display = window.getComputedStyle(gd).display;\n",
              "        if (!display || display === 'none') {{\n",
              "            console.log([gd, 'removed!']);\n",
              "            Plotly.purge(gd);\n",
              "            observer.disconnect();\n",
              "        }}\n",
              "}});\n",
              "\n",
              "// Listen for the removal of the full notebook cells\n",
              "var notebookContainer = gd.closest('#notebook-container');\n",
              "if (notebookContainer) {{\n",
              "    x.observe(notebookContainer, {childList: true});\n",
              "}}\n",
              "\n",
              "// Listen for the clearing of the current output cell\n",
              "var outputEl = gd.closest('.output');\n",
              "if (outputEl) {{\n",
              "    x.observe(outputEl, {childList: true});\n",
              "}}\n",
              "\n",
              "                        })                };                });            </script>        </div>"
            ]
          },
          "metadata": {},
          "output_type": "display_data"
        }
      ],
      "source": [
        "px.scatter(perspec, x=\"size\", y=\"median_nmi\", color=\"notation\", hover_name=\"spec\", height=600, width=600)"
      ]
    },
    {
      "cell_type": "code",
      "execution_count": null,
      "id": "8e16ddb1-efdc-4e85-8f41-fdd4c7edd289",
      "metadata": {},
      "outputs": [],
      "source": []
    }
  ],
  "metadata": {
    "kernelspec": {
      "display_name": "Python 3 (ipykernel)",
      "language": "python",
      "name": "python3"
    },
    "language_info": {
      "codemirror_mode": {
        "name": "ipython",
        "version": 3
      },
      "file_extension": ".py",
      "mimetype": "text/x-python",
      "name": "python",
      "nbconvert_exporter": "python",
      "pygments_lexer": "ipython3",
      "version": "3.9.7"
    }
  },
  "nbformat": 4,
  "nbformat_minor": 5
}
